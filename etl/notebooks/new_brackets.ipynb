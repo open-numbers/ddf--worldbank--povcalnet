{
 "cells": [
  {
   "cell_type": "code",
   "execution_count": 1,
   "id": "92705881",
   "metadata": {},
   "outputs": [],
   "source": [
    "import pandas as pd\n",
    "import numpy as np\n",
    "import sys\n",
    "import os"
   ]
  },
  {
   "cell_type": "code",
   "execution_count": 2,
   "id": "8b7a4278",
   "metadata": {},
   "outputs": [],
   "source": [
    "coverage_type_dtype = pd.CategoricalDtype(list('NAUR'), ordered=True)"
   ]
  },
  {
   "cell_type": "code",
   "execution_count": 3,
   "id": "b924343c",
   "metadata": {},
   "outputs": [],
   "source": [
    "# step1: load all downloaded data"
   ]
  },
  {
   "cell_type": "code",
   "execution_count": 4,
   "id": "ac2c1b8e",
   "metadata": {},
   "outputs": [],
   "source": [
    "def load_file_preprocess(filename):\n",
    "    usecols = [\n",
    "        'CountryCode', 'CountryName', 'CoverageType', 'RequestYear',\n",
    "        'HeadCount', 'ReqYearPopulation', 'Mean'\n",
    "    ]\n",
    "    df = pd.read_csv(filename, usecols=usecols,\n",
    "                     dtype={'CoverageType': coverage_type_dtype})\n",
    "    df = df.rename(\n",
    "        columns={\n",
    "            'CountryCode': 'country',\n",
    "            'CoverageType': 'coverage_type',\n",
    "            'RequestYear': 'year'\n",
    "        })\n",
    "    df = df.set_index(['country', 'year', 'coverage_type'])\n",
    "    return df"
   ]
  },
  {
   "cell_type": "code",
   "execution_count": null,
   "id": "b1df94f6",
   "metadata": {},
   "outputs": [],
   "source": []
  },
  {
   "cell_type": "code",
   "execution_count": 5,
   "id": "50a06505",
   "metadata": {},
   "outputs": [],
   "source": [
    "res = {}\n",
    "\n",
    "for f in os.listdir('../source/'):\n",
    "    if f.endswith('.csv'):\n",
    "        fn = f.split('.')[0]\n",
    "        bracket = fn.lstrip('0')\n",
    "        if bracket == '':\n",
    "            bracket = 0\n",
    "        else:\n",
    "            bracket = int(bracket)\n",
    "        res[bracket] = load_file_preprocess(os.path.join('../source/', f))\n",
    "        "
   ]
  },
  {
   "cell_type": "code",
   "execution_count": 6,
   "id": "95c50458",
   "metadata": {},
   "outputs": [
    {
     "data": {
      "text/html": [
       "<div>\n",
       "<style scoped>\n",
       "    .dataframe tbody tr th:only-of-type {\n",
       "        vertical-align: middle;\n",
       "    }\n",
       "\n",
       "    .dataframe tbody tr th {\n",
       "        vertical-align: top;\n",
       "    }\n",
       "\n",
       "    .dataframe thead th {\n",
       "        text-align: right;\n",
       "    }\n",
       "</style>\n",
       "<table border=\"1\" class=\"dataframe\">\n",
       "  <thead>\n",
       "    <tr style=\"text-align: right;\">\n",
       "      <th></th>\n",
       "      <th></th>\n",
       "      <th></th>\n",
       "      <th>CountryName</th>\n",
       "      <th>Mean</th>\n",
       "      <th>HeadCount</th>\n",
       "      <th>ReqYearPopulation</th>\n",
       "    </tr>\n",
       "    <tr>\n",
       "      <th>country</th>\n",
       "      <th>year</th>\n",
       "      <th>coverage_type</th>\n",
       "      <th></th>\n",
       "      <th></th>\n",
       "      <th></th>\n",
       "      <th></th>\n",
       "    </tr>\n",
       "  </thead>\n",
       "  <tbody>\n",
       "    <tr>\n",
       "      <th>ALB</th>\n",
       "      <th>1981</th>\n",
       "      <th>N</th>\n",
       "      <td>Albania</td>\n",
       "      <td>220.77280</td>\n",
       "      <td>0.000000</td>\n",
       "      <td>2.726056</td>\n",
       "    </tr>\n",
       "    <tr>\n",
       "      <th>DZA</th>\n",
       "      <th>1981</th>\n",
       "      <th>N</th>\n",
       "      <td>Algeria</td>\n",
       "      <td>240.87570</td>\n",
       "      <td>0.000000</td>\n",
       "      <td>19.824301</td>\n",
       "    </tr>\n",
       "    <tr>\n",
       "      <th>AGO</th>\n",
       "      <th>1981</th>\n",
       "      <th>N</th>\n",
       "      <td>Angola</td>\n",
       "      <td>166.38240</td>\n",
       "      <td>0.000000</td>\n",
       "      <td>8.640446</td>\n",
       "    </tr>\n",
       "    <tr>\n",
       "      <th>ARG</th>\n",
       "      <th>1981</th>\n",
       "      <th>U</th>\n",
       "      <td>Argentina</td>\n",
       "      <td>671.63370</td>\n",
       "      <td>0.002289</td>\n",
       "      <td>23.609667</td>\n",
       "    </tr>\n",
       "    <tr>\n",
       "      <th>ARM</th>\n",
       "      <th>1981</th>\n",
       "      <th>N</th>\n",
       "      <td>Armenia</td>\n",
       "      <td>285.08040</td>\n",
       "      <td>0.000130</td>\n",
       "      <td>3.148096</td>\n",
       "    </tr>\n",
       "    <tr>\n",
       "      <th>...</th>\n",
       "      <th>...</th>\n",
       "      <th>...</th>\n",
       "      <td>...</td>\n",
       "      <td>...</td>\n",
       "      <td>...</td>\n",
       "      <td>...</td>\n",
       "    </tr>\n",
       "    <tr>\n",
       "      <th>VNM</th>\n",
       "      <th>2019</th>\n",
       "      <th>N</th>\n",
       "      <td>Vietnam</td>\n",
       "      <td>348.77690</td>\n",
       "      <td>0.000000</td>\n",
       "      <td>96.462106</td>\n",
       "    </tr>\n",
       "    <tr>\n",
       "      <th>PSE</th>\n",
       "      <th>2019</th>\n",
       "      <th>N</th>\n",
       "      <td>West Bank and Gaza</td>\n",
       "      <td>328.30880</td>\n",
       "      <td>0.000000</td>\n",
       "      <td>4.685306</td>\n",
       "    </tr>\n",
       "    <tr>\n",
       "      <th>YEM</th>\n",
       "      <th>2019</th>\n",
       "      <th>N</th>\n",
       "      <td>Yemen, Republic of</td>\n",
       "      <td>70.69390</td>\n",
       "      <td>0.000000</td>\n",
       "      <td>29.161922</td>\n",
       "    </tr>\n",
       "    <tr>\n",
       "      <th>ZMB</th>\n",
       "      <th>2019</th>\n",
       "      <th>N</th>\n",
       "      <td>Zambia</td>\n",
       "      <td>87.84403</td>\n",
       "      <td>0.000000</td>\n",
       "      <td>17.861030</td>\n",
       "    </tr>\n",
       "    <tr>\n",
       "      <th>ZWE</th>\n",
       "      <th>2019</th>\n",
       "      <th>N</th>\n",
       "      <td>Zimbabwe</td>\n",
       "      <td>121.60830</td>\n",
       "      <td>0.000000</td>\n",
       "      <td>14.645468</td>\n",
       "    </tr>\n",
       "  </tbody>\n",
       "</table>\n",
       "<p>6645 rows × 4 columns</p>\n",
       "</div>"
      ],
      "text/plain": [
       "                                   CountryName       Mean  HeadCount  \\\n",
       "country year coverage_type                                             \n",
       "ALB     1981 N                         Albania  220.77280   0.000000   \n",
       "DZA     1981 N                         Algeria  240.87570   0.000000   \n",
       "AGO     1981 N                          Angola  166.38240   0.000000   \n",
       "ARG     1981 U                       Argentina  671.63370   0.002289   \n",
       "ARM     1981 N                         Armenia  285.08040   0.000130   \n",
       "...                                        ...        ...        ...   \n",
       "VNM     2019 N                         Vietnam  348.77690   0.000000   \n",
       "PSE     2019 N              West Bank and Gaza  328.30880   0.000000   \n",
       "YEM     2019 N              Yemen, Republic of   70.69390   0.000000   \n",
       "ZMB     2019 N                          Zambia   87.84403   0.000000   \n",
       "ZWE     2019 N                        Zimbabwe  121.60830   0.000000   \n",
       "\n",
       "                            ReqYearPopulation  \n",
       "country year coverage_type                     \n",
       "ALB     1981 N                       2.726056  \n",
       "DZA     1981 N                      19.824301  \n",
       "AGO     1981 N                       8.640446  \n",
       "ARG     1981 U                      23.609667  \n",
       "ARM     1981 N                       3.148096  \n",
       "...                                       ...  \n",
       "VNM     2019 N                      96.462106  \n",
       "PSE     2019 N                       4.685306  \n",
       "YEM     2019 N                      29.161922  \n",
       "ZMB     2019 N                      17.861030  \n",
       "ZWE     2019 N                      14.645468  \n",
       "\n",
       "[6645 rows x 4 columns]"
      ]
     },
     "execution_count": 6,
     "metadata": {},
     "output_type": "execute_result"
    }
   ],
   "source": [
    "res[0]"
   ]
  },
  {
   "cell_type": "code",
   "execution_count": null,
   "id": "b2571c18",
   "metadata": {},
   "outputs": [],
   "source": []
  },
  {
   "cell_type": "code",
   "execution_count": 7,
   "id": "0e8c3e91",
   "metadata": {},
   "outputs": [],
   "source": [
    "# check nans"
   ]
  },
  {
   "cell_type": "code",
   "execution_count": 8,
   "id": "a3148771",
   "metadata": {
    "scrolled": true
   },
   "outputs": [
    {
     "name": "stdout",
     "output_type": "stream",
     "text": [
      "189\n",
      "                           CountryName  Mean  HeadCount  ReqYearPopulation\n",
      "country year coverage_type                                                \n",
      "IND     2018 A                   India   NaN        NaN        1352.617328\n",
      "             R                   India   NaN        NaN         892.321651\n",
      "             U                   India   NaN        NaN         460.295677\n",
      "        2019 A                   India   NaN        NaN        1366.417754\n",
      "             R                   India   NaN        NaN         895.386226\n",
      "             U                   India   NaN        NaN         471.031528\n",
      "178\n",
      "                           CountryName  Mean  HeadCount  ReqYearPopulation\n",
      "country year coverage_type                                                \n",
      "IND     2018 A                   India   NaN        NaN        1352.617328\n",
      "             R                   India   NaN        NaN         892.321651\n",
      "             U                   India   NaN        NaN         460.295677\n",
      "        2019 A                   India   NaN        NaN        1366.417754\n",
      "             R                   India   NaN        NaN         895.386226\n",
      "             U                   India   NaN        NaN         471.031528\n",
      "156\n",
      "                           CountryName  Mean  HeadCount  ReqYearPopulation\n",
      "country year coverage_type                                                \n",
      "IND     2018 A                   India   NaN        NaN        1352.617328\n",
      "             R                   India   NaN        NaN         892.321651\n",
      "             U                   India   NaN        NaN         460.295677\n",
      "        2019 A                   India   NaN        NaN        1366.417754\n",
      "             R                   India   NaN        NaN         895.386226\n",
      "             U                   India   NaN        NaN         471.031528\n",
      "200\n",
      "                           CountryName  Mean  HeadCount  ReqYearPopulation\n",
      "country year coverage_type                                                \n",
      "IND     2018 A                   India   NaN        NaN        1352.617328\n",
      "             R                   India   NaN        NaN         892.321651\n",
      "             U                   India   NaN        NaN         460.295677\n",
      "        2019 A                   India   NaN        NaN        1366.417754\n",
      "             R                   India   NaN        NaN         895.386226\n",
      "             U                   India   NaN        NaN         471.031528\n",
      "167\n",
      "                           CountryName  Mean  HeadCount  ReqYearPopulation\n",
      "country year coverage_type                                                \n",
      "IND     2018 A                   India   NaN        NaN        1352.617328\n",
      "             R                   India   NaN        NaN         892.321651\n",
      "             U                   India   NaN        NaN         460.295677\n",
      "        2019 A                   India   NaN        NaN        1366.417754\n",
      "             R                   India   NaN        NaN         895.386226\n",
      "             U                   India   NaN        NaN         471.031528\n",
      "177\n",
      "                           CountryName  Mean  HeadCount  ReqYearPopulation\n",
      "country year coverage_type                                                \n",
      "IND     2018 A                   India   NaN        NaN        1352.617328\n",
      "             R                   India   NaN        NaN         892.321651\n",
      "             U                   India   NaN        NaN         460.295677\n",
      "        2019 A                   India   NaN        NaN        1366.417754\n",
      "             R                   India   NaN        NaN         895.386226\n",
      "             U                   India   NaN        NaN         471.031528\n",
      "188\n",
      "                           CountryName  Mean  HeadCount  ReqYearPopulation\n",
      "country year coverage_type                                                \n",
      "IND     2018 A                   India   NaN        NaN        1352.617328\n",
      "             R                   India   NaN        NaN         892.321651\n",
      "             U                   India   NaN        NaN         460.295677\n",
      "        2019 A                   India   NaN        NaN        1366.417754\n",
      "             R                   India   NaN        NaN         895.386226\n",
      "             U                   India   NaN        NaN         471.031528\n",
      "155\n",
      "                           CountryName  Mean  HeadCount  ReqYearPopulation\n",
      "country year coverage_type                                                \n",
      "IND     2018 A                   India   NaN        NaN        1352.617328\n",
      "             R                   India   NaN        NaN         892.321651\n",
      "             U                   India   NaN        NaN         460.295677\n",
      "        2019 A                   India   NaN        NaN        1366.417754\n",
      "             R                   India   NaN        NaN         895.386226\n",
      "             U                   India   NaN        NaN         471.031528\n",
      "199\n",
      "                           CountryName  Mean  HeadCount  ReqYearPopulation\n",
      "country year coverage_type                                                \n",
      "IND     2018 A                   India   NaN        NaN        1352.617328\n",
      "             R                   India   NaN        NaN         892.321651\n",
      "             U                   India   NaN        NaN         460.295677\n",
      "        2019 A                   India   NaN        NaN        1366.417754\n",
      "             R                   India   NaN        NaN         895.386226\n",
      "             U                   India   NaN        NaN         471.031528\n",
      "166\n",
      "                           CountryName  Mean  HeadCount  ReqYearPopulation\n",
      "country year coverage_type                                                \n",
      "IND     2018 A                   India   NaN        NaN        1352.617328\n",
      "             R                   India   NaN        NaN         892.321651\n",
      "             U                   India   NaN        NaN         460.295677\n",
      "        2019 A                   India   NaN        NaN        1366.417754\n",
      "             R                   India   NaN        NaN         895.386226\n",
      "             U                   India   NaN        NaN         471.031528\n",
      "187\n",
      "                           CountryName  Mean  HeadCount  ReqYearPopulation\n",
      "country year coverage_type                                                \n",
      "IND     2018 A                   India   NaN        NaN        1352.617328\n",
      "             R                   India   NaN        NaN         892.321651\n",
      "             U                   India   NaN        NaN         460.295677\n",
      "        2019 A                   India   NaN        NaN        1366.417754\n",
      "             R                   India   NaN        NaN         895.386226\n",
      "             U                   India   NaN        NaN         471.031528\n",
      "176\n",
      "                           CountryName  Mean  HeadCount  ReqYearPopulation\n",
      "country year coverage_type                                                \n",
      "IND     2018 A                   India   NaN        NaN        1352.617328\n",
      "             R                   India   NaN        NaN         892.321651\n",
      "             U                   India   NaN        NaN         460.295677\n",
      "        2019 A                   India   NaN        NaN        1366.417754\n",
      "             R                   India   NaN        NaN         895.386226\n",
      "             U                   India   NaN        NaN         471.031528\n",
      "154\n",
      "                           CountryName  Mean  HeadCount  ReqYearPopulation\n",
      "country year coverage_type                                                \n",
      "IND     2018 A                   India   NaN        NaN        1352.617328\n",
      "             R                   India   NaN        NaN         892.321651\n",
      "             U                   India   NaN        NaN         460.295677\n",
      "        2019 A                   India   NaN        NaN        1366.417754\n",
      "             R                   India   NaN        NaN         895.386226\n",
      "             U                   India   NaN        NaN         471.031528\n",
      "198\n",
      "                           CountryName  Mean  HeadCount  ReqYearPopulation\n",
      "country year coverage_type                                                \n",
      "IND     2018 A                   India   NaN        NaN        1352.617328\n",
      "             R                   India   NaN        NaN         892.321651\n",
      "             U                   India   NaN        NaN         460.295677\n",
      "        2019 A                   India   NaN        NaN        1366.417754\n",
      "             R                   India   NaN        NaN         895.386226\n",
      "             U                   India   NaN        NaN         471.031528\n",
      "165\n",
      "                           CountryName  Mean  HeadCount  ReqYearPopulation\n",
      "country year coverage_type                                                \n",
      "IND     2018 A                   India   NaN        NaN        1352.617328\n",
      "             R                   India   NaN        NaN         892.321651\n",
      "             U                   India   NaN        NaN         460.295677\n",
      "        2019 A                   India   NaN        NaN        1366.417754\n",
      "             R                   India   NaN        NaN         895.386226\n",
      "             U                   India   NaN        NaN         471.031528\n",
      "186\n",
      "                           CountryName  Mean  HeadCount  ReqYearPopulation\n",
      "country year coverage_type                                                \n",
      "IND     2018 A                   India   NaN        NaN        1352.617328\n",
      "             R                   India   NaN        NaN         892.321651\n",
      "             U                   India   NaN        NaN         460.295677\n",
      "        2019 A                   India   NaN        NaN        1366.417754\n",
      "             R                   India   NaN        NaN         895.386226\n",
      "             U                   India   NaN        NaN         471.031528\n",
      "175\n",
      "                           CountryName  Mean  HeadCount  ReqYearPopulation\n",
      "country year coverage_type                                                \n",
      "IND     2018 A                   India   NaN        NaN        1352.617328\n",
      "             R                   India   NaN        NaN         892.321651\n",
      "             U                   India   NaN        NaN         460.295677\n",
      "        2019 A                   India   NaN        NaN        1366.417754\n",
      "             R                   India   NaN        NaN         895.386226\n",
      "             U                   India   NaN        NaN         471.031528\n",
      "153\n",
      "                           CountryName  Mean  HeadCount  ReqYearPopulation\n",
      "country year coverage_type                                                \n",
      "IND     2018 A                   India   NaN        NaN        1352.617328\n",
      "             R                   India   NaN        NaN         892.321651\n",
      "             U                   India   NaN        NaN         460.295677\n",
      "        2019 A                   India   NaN        NaN        1366.417754\n",
      "             R                   India   NaN        NaN         895.386226\n",
      "             U                   India   NaN        NaN         471.031528\n",
      "197\n",
      "                           CountryName  Mean  HeadCount  ReqYearPopulation\n",
      "country year coverage_type                                                \n",
      "IND     2018 A                   India   NaN        NaN        1352.617328\n",
      "             R                   India   NaN        NaN         892.321651\n",
      "             U                   India   NaN        NaN         460.295677\n",
      "        2019 A                   India   NaN        NaN        1366.417754\n",
      "             R                   India   NaN        NaN         895.386226\n",
      "             U                   India   NaN        NaN         471.031528\n",
      "164\n",
      "                           CountryName  Mean  HeadCount  ReqYearPopulation\n",
      "country year coverage_type                                                \n",
      "IND     2018 A                   India   NaN        NaN        1352.617328\n",
      "             R                   India   NaN        NaN         892.321651\n",
      "             U                   India   NaN        NaN         460.295677\n",
      "        2019 A                   India   NaN        NaN        1366.417754\n",
      "             R                   India   NaN        NaN         895.386226\n",
      "             U                   India   NaN        NaN         471.031528\n",
      "185\n",
      "                           CountryName  Mean  HeadCount  ReqYearPopulation\n",
      "country year coverage_type                                                \n",
      "IND     2018 A                   India   NaN        NaN        1352.617328\n",
      "             R                   India   NaN        NaN         892.321651\n",
      "             U                   India   NaN        NaN         460.295677\n",
      "        2019 A                   India   NaN        NaN        1366.417754\n",
      "             R                   India   NaN        NaN         895.386226\n",
      "             U                   India   NaN        NaN         471.031528\n",
      "174\n",
      "                           CountryName  Mean  HeadCount  ReqYearPopulation\n",
      "country year coverage_type                                                \n",
      "IND     2018 A                   India   NaN        NaN        1352.617328\n",
      "             R                   India   NaN        NaN         892.321651\n",
      "             U                   India   NaN        NaN         460.295677\n",
      "        2019 A                   India   NaN        NaN        1366.417754\n",
      "             R                   India   NaN        NaN         895.386226\n",
      "             U                   India   NaN        NaN         471.031528\n",
      "152\n",
      "                           CountryName  Mean  HeadCount  ReqYearPopulation\n",
      "country year coverage_type                                                \n",
      "IND     2018 A                   India   NaN        NaN        1352.617328\n",
      "             R                   India   NaN        NaN         892.321651\n",
      "             U                   India   NaN        NaN         460.295677\n",
      "        2019 A                   India   NaN        NaN        1366.417754\n",
      "             R                   India   NaN        NaN         895.386226\n",
      "             U                   India   NaN        NaN         471.031528\n",
      "196\n",
      "                           CountryName  Mean  HeadCount  ReqYearPopulation\n",
      "country year coverage_type                                                \n",
      "IND     2018 A                   India   NaN        NaN        1352.617328\n",
      "             R                   India   NaN        NaN         892.321651\n",
      "             U                   India   NaN        NaN         460.295677\n",
      "        2019 A                   India   NaN        NaN        1366.417754\n",
      "             R                   India   NaN        NaN         895.386226\n",
      "             U                   India   NaN        NaN         471.031528\n",
      "163\n",
      "                           CountryName  Mean  HeadCount  ReqYearPopulation\n",
      "country year coverage_type                                                \n",
      "IND     2018 A                   India   NaN        NaN        1352.617328\n",
      "             R                   India   NaN        NaN         892.321651\n",
      "             U                   India   NaN        NaN         460.295677\n",
      "        2019 A                   India   NaN        NaN        1366.417754\n",
      "             R                   India   NaN        NaN         895.386226\n",
      "             U                   India   NaN        NaN         471.031528\n",
      "184\n",
      "                           CountryName  Mean  HeadCount  ReqYearPopulation\n",
      "country year coverage_type                                                \n",
      "IND     2018 A                   India   NaN        NaN        1352.617328\n",
      "             R                   India   NaN        NaN         892.321651\n",
      "             U                   India   NaN        NaN         460.295677\n",
      "        2019 A                   India   NaN        NaN        1366.417754\n",
      "             R                   India   NaN        NaN         895.386226\n",
      "             U                   India   NaN        NaN         471.031528\n",
      "173\n",
      "                           CountryName  Mean  HeadCount  ReqYearPopulation\n",
      "country year coverage_type                                                \n",
      "IND     2018 A                   India   NaN        NaN        1352.617328\n",
      "             R                   India   NaN        NaN         892.321651\n",
      "             U                   India   NaN        NaN         460.295677\n",
      "        2019 A                   India   NaN        NaN        1366.417754\n",
      "             R                   India   NaN        NaN         895.386226\n",
      "             U                   India   NaN        NaN         471.031528\n",
      "151\n",
      "                           CountryName  Mean  HeadCount  ReqYearPopulation\n",
      "country year coverage_type                                                \n",
      "IND     2018 A                   India   NaN        NaN        1352.617328\n",
      "             R                   India   NaN        NaN         892.321651\n",
      "             U                   India   NaN        NaN         460.295677\n",
      "        2019 A                   India   NaN        NaN        1366.417754\n",
      "             R                   India   NaN        NaN         895.386226\n",
      "             U                   India   NaN        NaN         471.031528\n",
      "195\n",
      "                           CountryName  Mean  HeadCount  ReqYearPopulation\n",
      "country year coverage_type                                                \n",
      "IND     2018 A                   India   NaN        NaN        1352.617328\n",
      "             R                   India   NaN        NaN         892.321651\n",
      "             U                   India   NaN        NaN         460.295677\n",
      "        2019 A                   India   NaN        NaN        1366.417754\n",
      "             R                   India   NaN        NaN         895.386226\n",
      "             U                   India   NaN        NaN         471.031528\n",
      "162\n",
      "                           CountryName  Mean  HeadCount  ReqYearPopulation\n",
      "country year coverage_type                                                \n",
      "IND     2018 A                   India   NaN        NaN        1352.617328\n",
      "             R                   India   NaN        NaN         892.321651\n",
      "             U                   India   NaN        NaN         460.295677\n",
      "        2019 A                   India   NaN        NaN        1366.417754\n",
      "             R                   India   NaN        NaN         895.386226\n",
      "             U                   India   NaN        NaN         471.031528\n",
      "172\n",
      "                           CountryName  Mean  HeadCount  ReqYearPopulation\n",
      "country year coverage_type                                                \n",
      "IND     2018 A                   India   NaN        NaN        1352.617328\n",
      "             R                   India   NaN        NaN         892.321651\n",
      "             U                   India   NaN        NaN         460.295677\n",
      "        2019 A                   India   NaN        NaN        1366.417754\n",
      "             R                   India   NaN        NaN         895.386226\n",
      "             U                   India   NaN        NaN         471.031528\n",
      "183\n",
      "                           CountryName  Mean  HeadCount  ReqYearPopulation\n",
      "country year coverage_type                                                \n",
      "IND     2018 A                   India   NaN        NaN        1352.617328\n",
      "             R                   India   NaN        NaN         892.321651\n",
      "             U                   India   NaN        NaN         460.295677\n",
      "        2019 A                   India   NaN        NaN        1366.417754\n",
      "             R                   India   NaN        NaN         895.386226\n",
      "             U                   India   NaN        NaN         471.031528\n",
      "194\n",
      "                           CountryName  Mean  HeadCount  ReqYearPopulation\n",
      "country year coverage_type                                                \n",
      "IND     2018 A                   India   NaN        NaN        1352.617328\n",
      "             R                   India   NaN        NaN         892.321651\n",
      "             U                   India   NaN        NaN         460.295677\n",
      "        2019 A                   India   NaN        NaN        1366.417754\n",
      "             R                   India   NaN        NaN         895.386226\n",
      "             U                   India   NaN        NaN         471.031528\n",
      "150\n",
      "                           CountryName  Mean  HeadCount  ReqYearPopulation\n",
      "country year coverage_type                                                \n",
      "IND     2018 A                   India   NaN        NaN        1352.617328\n",
      "             R                   India   NaN        NaN         892.321651\n",
      "             U                   India   NaN        NaN         460.295677\n",
      "        2019 A                   India   NaN        NaN        1366.417754\n",
      "             R                   India   NaN        NaN         895.386226\n",
      "             U                   India   NaN        NaN         471.031528\n",
      "161\n",
      "                           CountryName  Mean  HeadCount  ReqYearPopulation\n",
      "country year coverage_type                                                \n",
      "IND     2018 A                   India   NaN        NaN        1352.617328\n",
      "             R                   India   NaN        NaN         892.321651\n",
      "             U                   India   NaN        NaN         460.295677\n",
      "        2019 A                   India   NaN        NaN        1366.417754\n",
      "             R                   India   NaN        NaN         895.386226\n",
      "             U                   India   NaN        NaN         471.031528\n",
      "171\n",
      "                           CountryName  Mean  HeadCount  ReqYearPopulation\n",
      "country year coverage_type                                                \n",
      "IND     2018 A                   India   NaN        NaN        1352.617328\n",
      "             R                   India   NaN        NaN         892.321651\n",
      "             U                   India   NaN        NaN         460.295677\n",
      "        2019 A                   India   NaN        NaN        1366.417754\n",
      "             R                   India   NaN        NaN         895.386226\n",
      "             U                   India   NaN        NaN         471.031528\n",
      "182\n",
      "                           CountryName  Mean  HeadCount  ReqYearPopulation\n",
      "country year coverage_type                                                \n",
      "IND     2018 A                   India   NaN        NaN        1352.617328\n",
      "             R                   India   NaN        NaN         892.321651\n",
      "             U                   India   NaN        NaN         460.295677\n",
      "        2019 A                   India   NaN        NaN        1366.417754\n",
      "             R                   India   NaN        NaN         895.386226\n",
      "             U                   India   NaN        NaN         471.031528\n",
      "193\n",
      "                           CountryName  Mean  HeadCount  ReqYearPopulation\n",
      "country year coverage_type                                                \n",
      "IND     2018 A                   India   NaN        NaN        1352.617328\n",
      "             R                   India   NaN        NaN         892.321651\n",
      "             U                   India   NaN        NaN         460.295677\n",
      "        2019 A                   India   NaN        NaN        1366.417754\n",
      "             R                   India   NaN        NaN         895.386226\n",
      "             U                   India   NaN        NaN         471.031528\n",
      "149\n",
      "                           CountryName  Mean  HeadCount  ReqYearPopulation\n",
      "country year coverage_type                                                \n",
      "IND     2018 A                   India   NaN        NaN        1352.617328\n",
      "             R                   India   NaN        NaN         892.321651\n",
      "             U                   India   NaN        NaN         460.295677\n",
      "        2019 A                   India   NaN        NaN        1366.417754\n",
      "             R                   India   NaN        NaN         895.386226\n",
      "             U                   India   NaN        NaN         471.031528\n",
      "160\n",
      "                           CountryName  Mean  HeadCount  ReqYearPopulation\n",
      "country year coverage_type                                                \n",
      "IND     2018 A                   India   NaN        NaN        1352.617328\n",
      "             R                   India   NaN        NaN         892.321651\n",
      "             U                   India   NaN        NaN         460.295677\n",
      "        2019 A                   India   NaN        NaN        1366.417754\n",
      "             R                   India   NaN        NaN         895.386226\n",
      "             U                   India   NaN        NaN         471.031528\n",
      "170\n",
      "                           CountryName  Mean  HeadCount  ReqYearPopulation\n",
      "country year coverage_type                                                \n",
      "IND     2018 A                   India   NaN        NaN        1352.617328\n",
      "             R                   India   NaN        NaN         892.321651\n",
      "             U                   India   NaN        NaN         460.295677\n",
      "        2019 A                   India   NaN        NaN        1366.417754\n",
      "             R                   India   NaN        NaN         895.386226\n",
      "             U                   India   NaN        NaN         471.031528\n",
      "181\n",
      "                           CountryName  Mean  HeadCount  ReqYearPopulation\n",
      "country year coverage_type                                                \n",
      "IND     2018 A                   India   NaN        NaN        1352.617328\n",
      "             R                   India   NaN        NaN         892.321651\n",
      "             U                   India   NaN        NaN         460.295677\n",
      "        2019 A                   India   NaN        NaN        1366.417754\n",
      "             R                   India   NaN        NaN         895.386226\n",
      "             U                   India   NaN        NaN         471.031528\n",
      "192\n",
      "                           CountryName  Mean  HeadCount  ReqYearPopulation\n",
      "country year coverage_type                                                \n",
      "IND     2018 A                   India   NaN        NaN        1352.617328\n",
      "             R                   India   NaN        NaN         892.321651\n",
      "             U                   India   NaN        NaN         460.295677\n",
      "        2019 A                   India   NaN        NaN        1366.417754\n",
      "             R                   India   NaN        NaN         895.386226\n",
      "             U                   India   NaN        NaN         471.031528\n",
      "148\n",
      "                           CountryName  Mean  HeadCount  ReqYearPopulation\n",
      "country year coverage_type                                                \n",
      "IND     2018 A                   India   NaN        NaN        1352.617328\n",
      "             R                   India   NaN        NaN         892.321651\n",
      "             U                   India   NaN        NaN         460.295677\n",
      "        2019 A                   India   NaN        NaN        1366.417754\n",
      "             R                   India   NaN        NaN         895.386226\n",
      "             U                   India   NaN        NaN         471.031528\n",
      "159\n",
      "                           CountryName  Mean  HeadCount  ReqYearPopulation\n",
      "country year coverage_type                                                \n",
      "IND     2018 A                   India   NaN        NaN        1352.617328\n",
      "             R                   India   NaN        NaN         892.321651\n",
      "             U                   India   NaN        NaN         460.295677\n",
      "        2019 A                   India   NaN        NaN        1366.417754\n",
      "             R                   India   NaN        NaN         895.386226\n",
      "             U                   India   NaN        NaN         471.031528\n",
      "169\n",
      "                           CountryName  Mean  HeadCount  ReqYearPopulation\n",
      "country year coverage_type                                                \n",
      "IND     2018 A                   India   NaN        NaN        1352.617328\n",
      "             R                   India   NaN        NaN         892.321651\n",
      "             U                   India   NaN        NaN         460.295677\n",
      "        2019 A                   India   NaN        NaN        1366.417754\n",
      "             R                   India   NaN        NaN         895.386226\n",
      "             U                   India   NaN        NaN         471.031528\n",
      "180\n",
      "                           CountryName  Mean  HeadCount  ReqYearPopulation\n",
      "country year coverage_type                                                \n",
      "IND     2018 A                   India   NaN        NaN        1352.617328\n",
      "             R                   India   NaN        NaN         892.321651\n",
      "             U                   India   NaN        NaN         460.295677\n",
      "        2019 A                   India   NaN        NaN        1366.417754\n",
      "             R                   India   NaN        NaN         895.386226\n",
      "             U                   India   NaN        NaN         471.031528\n",
      "147\n",
      "                           CountryName  Mean  HeadCount  ReqYearPopulation\n",
      "country year coverage_type                                                \n",
      "IND     2018 A                   India   NaN        NaN        1352.617328\n",
      "             R                   India   NaN        NaN         892.321651\n",
      "             U                   India   NaN        NaN         460.295677\n",
      "        2019 A                   India   NaN        NaN        1366.417754\n",
      "             R                   India   NaN        NaN         895.386226\n",
      "             U                   India   NaN        NaN         471.031528\n",
      "191\n",
      "                           CountryName  Mean  HeadCount  ReqYearPopulation\n",
      "country year coverage_type                                                \n",
      "IND     2018 A                   India   NaN        NaN        1352.617328\n",
      "             R                   India   NaN        NaN         892.321651\n",
      "             U                   India   NaN        NaN         460.295677\n",
      "        2019 A                   India   NaN        NaN        1366.417754\n",
      "             R                   India   NaN        NaN         895.386226\n",
      "             U                   India   NaN        NaN         471.031528\n",
      "158\n",
      "                           CountryName  Mean  HeadCount  ReqYearPopulation\n",
      "country year coverage_type                                                \n",
      "IND     2018 A                   India   NaN        NaN        1352.617328\n",
      "             R                   India   NaN        NaN         892.321651\n",
      "             U                   India   NaN        NaN         460.295677\n",
      "        2019 A                   India   NaN        NaN        1366.417754\n",
      "             R                   India   NaN        NaN         895.386226\n",
      "             U                   India   NaN        NaN         471.031528\n",
      "168\n",
      "                           CountryName  Mean  HeadCount  ReqYearPopulation\n",
      "country year coverage_type                                                \n",
      "IND     2018 A                   India   NaN        NaN        1352.617328\n",
      "             R                   India   NaN        NaN         892.321651\n",
      "             U                   India   NaN        NaN         460.295677\n",
      "        2019 A                   India   NaN        NaN        1366.417754\n",
      "             R                   India   NaN        NaN         895.386226\n",
      "             U                   India   NaN        NaN         471.031528\n",
      "179\n",
      "                           CountryName  Mean  HeadCount  ReqYearPopulation\n",
      "country year coverage_type                                                \n",
      "IND     2018 A                   India   NaN        NaN        1352.617328\n",
      "             R                   India   NaN        NaN         892.321651\n",
      "             U                   India   NaN        NaN         460.295677\n",
      "        2019 A                   India   NaN        NaN        1366.417754\n",
      "             R                   India   NaN        NaN         895.386226\n",
      "             U                   India   NaN        NaN         471.031528\n",
      "190\n",
      "                           CountryName  Mean  HeadCount  ReqYearPopulation\n",
      "country year coverage_type                                                \n",
      "IND     2018 A                   India   NaN        NaN        1352.617328\n",
      "             R                   India   NaN        NaN         892.321651\n",
      "             U                   India   NaN        NaN         460.295677\n",
      "        2019 A                   India   NaN        NaN        1366.417754\n",
      "             R                   India   NaN        NaN         895.386226\n",
      "             U                   India   NaN        NaN         471.031528\n",
      "146\n",
      "                           CountryName  Mean  HeadCount  ReqYearPopulation\n",
      "country year coverage_type                                                \n",
      "IND     2018 A                   India   NaN        NaN        1352.617328\n",
      "             R                   India   NaN        NaN         892.321651\n",
      "             U                   India   NaN        NaN         460.295677\n",
      "        2019 A                   India   NaN        NaN        1366.417754\n",
      "             R                   India   NaN        NaN         895.386226\n",
      "             U                   India   NaN        NaN         471.031528\n",
      "157\n",
      "                           CountryName  Mean  HeadCount  ReqYearPopulation\n",
      "country year coverage_type                                                \n",
      "IND     2018 A                   India   NaN        NaN        1352.617328\n",
      "             R                   India   NaN        NaN         892.321651\n",
      "             U                   India   NaN        NaN         460.295677\n",
      "        2019 A                   India   NaN        NaN        1366.417754\n",
      "             R                   India   NaN        NaN         895.386226\n",
      "             U                   India   NaN        NaN         471.031528\n",
      "145\n",
      "                           CountryName  Mean  HeadCount  ReqYearPopulation\n",
      "country year coverage_type                                                \n",
      "IND     2018 A                   India   NaN        NaN        1352.617328\n",
      "             R                   India   NaN        NaN         892.321651\n",
      "             U                   India   NaN        NaN         460.295677\n",
      "        2019 A                   India   NaN        NaN        1366.417754\n",
      "             R                   India   NaN        NaN         895.386226\n",
      "             U                   India   NaN        NaN         471.031528\n",
      "134\n",
      "                           CountryName  Mean  HeadCount  ReqYearPopulation\n",
      "country year coverage_type                                                \n",
      "IND     2018 A                   India   NaN        NaN        1352.617328\n",
      "             R                   India   NaN        NaN         892.321651\n",
      "             U                   India   NaN        NaN         460.295677\n",
      "        2019 A                   India   NaN        NaN        1366.417754\n",
      "             R                   India   NaN        NaN         895.386226\n",
      "             U                   India   NaN        NaN         471.031528\n",
      "123\n",
      "                           CountryName  Mean  HeadCount  ReqYearPopulation\n",
      "country year coverage_type                                                \n",
      "IND     2018 A                   India   NaN        NaN        1352.617328\n",
      "             R                   India   NaN        NaN         892.321651\n",
      "             U                   India   NaN        NaN         460.295677\n",
      "        2019 A                   India   NaN        NaN        1366.417754\n",
      "             R                   India   NaN        NaN         895.386226\n",
      "             U                   India   NaN        NaN         471.031528\n",
      "101\n",
      "                           CountryName  Mean  HeadCount  ReqYearPopulation\n",
      "country year coverage_type                                                \n",
      "IND     2018 A                   India   NaN        NaN        1352.617328\n",
      "             R                   India   NaN        NaN         892.321651\n",
      "             U                   India   NaN        NaN         460.295677\n",
      "        2019 A                   India   NaN        NaN        1366.417754\n",
      "             R                   India   NaN        NaN         895.386226\n",
      "             U                   India   NaN        NaN         471.031528\n",
      "112\n",
      "                           CountryName  Mean  HeadCount  ReqYearPopulation\n",
      "country year coverage_type                                                \n",
      "IND     2018 A                   India   NaN        NaN        1352.617328\n",
      "             R                   India   NaN        NaN         892.321651\n",
      "             U                   India   NaN        NaN         460.295677\n",
      "        2019 A                   India   NaN        NaN        1366.417754\n",
      "             R                   India   NaN        NaN         895.386226\n",
      "             U                   India   NaN        NaN         471.031528\n",
      "144\n",
      "                           CountryName  Mean  HeadCount  ReqYearPopulation\n",
      "country year coverage_type                                                \n",
      "IND     2018 A                   India   NaN        NaN        1352.617328\n",
      "             R                   India   NaN        NaN         892.321651\n",
      "             U                   India   NaN        NaN         460.295677\n",
      "        2019 A                   India   NaN        NaN        1366.417754\n",
      "             R                   India   NaN        NaN         895.386226\n",
      "             U                   India   NaN        NaN         471.031528\n",
      "133\n",
      "                           CountryName  Mean  HeadCount  ReqYearPopulation\n",
      "country year coverage_type                                                \n",
      "IND     2018 A                   India   NaN        NaN        1352.617328\n",
      "             R                   India   NaN        NaN         892.321651\n",
      "             U                   India   NaN        NaN         460.295677\n",
      "        2019 A                   India   NaN        NaN        1366.417754\n",
      "             R                   India   NaN        NaN         895.386226\n",
      "             U                   India   NaN        NaN         471.031528\n",
      "100\n",
      "                           CountryName  Mean  HeadCount  ReqYearPopulation\n",
      "country year coverage_type                                                \n",
      "IND     2018 A                   India   NaN        NaN        1352.617328\n",
      "             R                   India   NaN        NaN         892.321651\n",
      "             U                   India   NaN        NaN         460.295677\n",
      "        2019 A                   India   NaN        NaN        1366.417754\n",
      "             R                   India   NaN        NaN         895.386226\n",
      "             U                   India   NaN        NaN         471.031528\n",
      "122\n",
      "                           CountryName  Mean  HeadCount  ReqYearPopulation\n",
      "country year coverage_type                                                \n",
      "IND     2018 A                   India   NaN        NaN        1352.617328\n",
      "             R                   India   NaN        NaN         892.321651\n",
      "             U                   India   NaN        NaN         460.295677\n",
      "        2019 A                   India   NaN        NaN        1366.417754\n",
      "             R                   India   NaN        NaN         895.386226\n",
      "             U                   India   NaN        NaN         471.031528\n",
      "111\n",
      "                           CountryName  Mean  HeadCount  ReqYearPopulation\n",
      "country year coverage_type                                                \n",
      "IND     2018 A                   India   NaN        NaN        1352.617328\n",
      "             R                   India   NaN        NaN         892.321651\n",
      "             U                   India   NaN        NaN         460.295677\n",
      "        2019 A                   India   NaN        NaN        1366.417754\n",
      "             R                   India   NaN        NaN         895.386226\n",
      "             U                   India   NaN        NaN         471.031528\n",
      "143\n",
      "                           CountryName  Mean  HeadCount  ReqYearPopulation\n",
      "country year coverage_type                                                \n",
      "IND     2018 A                   India   NaN        NaN        1352.617328\n",
      "             R                   India   NaN        NaN         892.321651\n",
      "             U                   India   NaN        NaN         460.295677\n",
      "        2019 A                   India   NaN        NaN        1366.417754\n",
      "             R                   India   NaN        NaN         895.386226\n",
      "             U                   India   NaN        NaN         471.031528\n",
      "132\n",
      "                           CountryName  Mean  HeadCount  ReqYearPopulation\n",
      "country year coverage_type                                                \n",
      "IND     2018 A                   India   NaN        NaN        1352.617328\n",
      "             R                   India   NaN        NaN         892.321651\n",
      "             U                   India   NaN        NaN         460.295677\n",
      "        2019 A                   India   NaN        NaN        1366.417754\n",
      "             R                   India   NaN        NaN         895.386226\n",
      "             U                   India   NaN        NaN         471.031528\n",
      "99\n",
      "                           CountryName  Mean  HeadCount  ReqYearPopulation\n",
      "country year coverage_type                                                \n",
      "IND     2018 A                   India   NaN        NaN        1352.617328\n",
      "             R                   India   NaN        NaN         892.321651\n",
      "             U                   India   NaN        NaN         460.295677\n",
      "        2019 A                   India   NaN        NaN        1366.417754\n",
      "             R                   India   NaN        NaN         895.386226\n",
      "             U                   India   NaN        NaN         471.031528\n",
      "121\n",
      "                           CountryName  Mean  HeadCount  ReqYearPopulation\n",
      "country year coverage_type                                                \n",
      "IND     2018 A                   India   NaN        NaN        1352.617328\n",
      "             R                   India   NaN        NaN         892.321651\n",
      "             U                   India   NaN        NaN         460.295677\n",
      "        2019 A                   India   NaN        NaN        1366.417754\n",
      "             R                   India   NaN        NaN         895.386226\n",
      "             U                   India   NaN        NaN         471.031528\n",
      "110\n",
      "                           CountryName  Mean  HeadCount  ReqYearPopulation\n",
      "country year coverage_type                                                \n",
      "IND     2018 A                   India   NaN        NaN        1352.617328\n",
      "             R                   India   NaN        NaN         892.321651\n",
      "             U                   India   NaN        NaN         460.295677\n",
      "        2019 A                   India   NaN        NaN        1366.417754\n",
      "             R                   India   NaN        NaN         895.386226\n",
      "             U                   India   NaN        NaN         471.031528\n",
      "98\n",
      "                           CountryName  Mean  HeadCount  ReqYearPopulation\n",
      "country year coverage_type                                                \n",
      "IND     2018 A                   India   NaN        NaN        1352.617328\n",
      "             R                   India   NaN        NaN         892.321651\n",
      "             U                   India   NaN        NaN         460.295677\n",
      "        2019 A                   India   NaN        NaN        1366.417754\n",
      "             R                   India   NaN        NaN         895.386226\n",
      "             U                   India   NaN        NaN         471.031528\n",
      "142\n",
      "                           CountryName  Mean  HeadCount  ReqYearPopulation\n",
      "country year coverage_type                                                \n",
      "IND     2018 A                   India   NaN        NaN        1352.617328\n",
      "             R                   India   NaN        NaN         892.321651\n",
      "             U                   India   NaN        NaN         460.295677\n",
      "        2019 A                   India   NaN        NaN        1366.417754\n",
      "             R                   India   NaN        NaN         895.386226\n",
      "             U                   India   NaN        NaN         471.031528\n",
      "131\n",
      "                           CountryName  Mean  HeadCount  ReqYearPopulation\n",
      "country year coverage_type                                                \n",
      "IND     2018 A                   India   NaN        NaN        1352.617328\n",
      "             R                   India   NaN        NaN         892.321651\n",
      "             U                   India   NaN        NaN         460.295677\n",
      "        2019 A                   India   NaN        NaN        1366.417754\n",
      "             R                   India   NaN        NaN         895.386226\n",
      "             U                   India   NaN        NaN         471.031528\n",
      "120\n",
      "                           CountryName  Mean  HeadCount  ReqYearPopulation\n",
      "country year coverage_type                                                \n",
      "IND     2018 A                   India   NaN        NaN        1352.617328\n",
      "             R                   India   NaN        NaN         892.321651\n",
      "             U                   India   NaN        NaN         460.295677\n",
      "        2019 A                   India   NaN        NaN        1366.417754\n",
      "             R                   India   NaN        NaN         895.386226\n",
      "             U                   India   NaN        NaN         471.031528\n",
      "109\n",
      "                           CountryName  Mean  HeadCount  ReqYearPopulation\n",
      "country year coverage_type                                                \n",
      "IND     2018 A                   India   NaN        NaN        1352.617328\n",
      "             R                   India   NaN        NaN         892.321651\n",
      "             U                   India   NaN        NaN         460.295677\n",
      "        2019 A                   India   NaN        NaN        1366.417754\n",
      "             R                   India   NaN        NaN         895.386226\n",
      "             U                   India   NaN        NaN         471.031528\n",
      "97\n",
      "                           CountryName  Mean  HeadCount  ReqYearPopulation\n",
      "country year coverage_type                                                \n",
      "IND     2018 A                   India   NaN        NaN        1352.617328\n",
      "             R                   India   NaN        NaN         892.321651\n",
      "             U                   India   NaN        NaN         460.295677\n",
      "        2019 A                   India   NaN        NaN        1366.417754\n",
      "             R                   India   NaN        NaN         895.386226\n",
      "             U                   India   NaN        NaN         471.031528\n",
      "141\n",
      "                           CountryName  Mean  HeadCount  ReqYearPopulation\n",
      "country year coverage_type                                                \n",
      "IND     2018 A                   India   NaN        NaN        1352.617328\n",
      "             R                   India   NaN        NaN         892.321651\n",
      "             U                   India   NaN        NaN         460.295677\n",
      "        2019 A                   India   NaN        NaN        1366.417754\n",
      "             R                   India   NaN        NaN         895.386226\n",
      "             U                   India   NaN        NaN         471.031528\n",
      "130\n",
      "                           CountryName  Mean  HeadCount  ReqYearPopulation\n",
      "country year coverage_type                                                \n",
      "IND     2018 A                   India   NaN        NaN        1352.617328\n",
      "             R                   India   NaN        NaN         892.321651\n",
      "             U                   India   NaN        NaN         460.295677\n",
      "        2019 A                   India   NaN        NaN        1366.417754\n",
      "             R                   India   NaN        NaN         895.386226\n",
      "             U                   India   NaN        NaN         471.031528\n",
      "119\n",
      "                           CountryName  Mean  HeadCount  ReqYearPopulation\n",
      "country year coverage_type                                                \n",
      "IND     2018 A                   India   NaN        NaN        1352.617328\n",
      "             R                   India   NaN        NaN         892.321651\n",
      "             U                   India   NaN        NaN         460.295677\n",
      "        2019 A                   India   NaN        NaN        1366.417754\n",
      "             R                   India   NaN        NaN         895.386226\n",
      "             U                   India   NaN        NaN         471.031528\n",
      "108\n",
      "                           CountryName  Mean  HeadCount  ReqYearPopulation\n",
      "country year coverage_type                                                \n",
      "IND     2018 A                   India   NaN        NaN        1352.617328\n",
      "             R                   India   NaN        NaN         892.321651\n",
      "             U                   India   NaN        NaN         460.295677\n",
      "        2019 A                   India   NaN        NaN        1366.417754\n",
      "             R                   India   NaN        NaN         895.386226\n",
      "             U                   India   NaN        NaN         471.031528\n",
      "96\n",
      "                           CountryName  Mean  HeadCount  ReqYearPopulation\n",
      "country year coverage_type                                                \n",
      "IND     2018 A                   India   NaN        NaN        1352.617328\n",
      "             R                   India   NaN        NaN         892.321651\n",
      "             U                   India   NaN        NaN         460.295677\n",
      "        2019 A                   India   NaN        NaN        1366.417754\n",
      "             R                   India   NaN        NaN         895.386226\n",
      "             U                   India   NaN        NaN         471.031528\n",
      "140\n",
      "                           CountryName  Mean  HeadCount  ReqYearPopulation\n",
      "country year coverage_type                                                \n",
      "IND     2018 A                   India   NaN        NaN        1352.617328\n",
      "             R                   India   NaN        NaN         892.321651\n",
      "             U                   India   NaN        NaN         460.295677\n",
      "        2019 A                   India   NaN        NaN        1366.417754\n",
      "             R                   India   NaN        NaN         895.386226\n",
      "             U                   India   NaN        NaN         471.031528\n",
      "129\n",
      "                           CountryName  Mean  HeadCount  ReqYearPopulation\n",
      "country year coverage_type                                                \n",
      "IND     2018 A                   India   NaN        NaN        1352.617328\n",
      "             R                   India   NaN        NaN         892.321651\n",
      "             U                   India   NaN        NaN         460.295677\n",
      "        2019 A                   India   NaN        NaN        1366.417754\n",
      "             R                   India   NaN        NaN         895.386226\n",
      "             U                   India   NaN        NaN         471.031528\n",
      "95\n",
      "                           CountryName  Mean  HeadCount  ReqYearPopulation\n",
      "country year coverage_type                                                \n",
      "IND     2018 A                   India   NaN        NaN        1352.617328\n",
      "             R                   India   NaN        NaN         892.321651\n",
      "             U                   India   NaN        NaN         460.295677\n",
      "        2019 A                   India   NaN        NaN        1366.417754\n",
      "             R                   India   NaN        NaN         895.386226\n",
      "             U                   India   NaN        NaN         471.031528\n",
      "107\n",
      "                           CountryName  Mean  HeadCount  ReqYearPopulation\n",
      "country year coverage_type                                                \n",
      "IND     2018 A                   India   NaN        NaN        1352.617328\n",
      "             R                   India   NaN        NaN         892.321651\n",
      "             U                   India   NaN        NaN         460.295677\n",
      "        2019 A                   India   NaN        NaN        1366.417754\n",
      "             R                   India   NaN        NaN         895.386226\n",
      "             U                   India   NaN        NaN         471.031528\n",
      "118\n",
      "                           CountryName  Mean  HeadCount  ReqYearPopulation\n",
      "country year coverage_type                                                \n",
      "IND     2018 A                   India   NaN        NaN        1352.617328\n",
      "             R                   India   NaN        NaN         892.321651\n",
      "             U                   India   NaN        NaN         460.295677\n",
      "        2019 A                   India   NaN        NaN        1366.417754\n",
      "             R                   India   NaN        NaN         895.386226\n",
      "             U                   India   NaN        NaN         471.031528\n",
      "94\n",
      "                           CountryName  Mean  HeadCount  ReqYearPopulation\n",
      "country year coverage_type                                                \n",
      "IND     2018 A                   India   NaN        NaN        1352.617328\n",
      "             R                   India   NaN        NaN         892.321651\n",
      "             U                   India   NaN        NaN         460.295677\n",
      "        2019 A                   India   NaN        NaN        1366.417754\n",
      "             R                   India   NaN        NaN         895.386226\n",
      "             U                   India   NaN        NaN         471.031528\n",
      "139\n",
      "                           CountryName  Mean  HeadCount  ReqYearPopulation\n",
      "country year coverage_type                                                \n",
      "IND     2018 A                   India   NaN        NaN        1352.617328\n",
      "             R                   India   NaN        NaN         892.321651\n",
      "             U                   India   NaN        NaN         460.295677\n",
      "        2019 A                   India   NaN        NaN        1366.417754\n",
      "             R                   India   NaN        NaN         895.386226\n",
      "             U                   India   NaN        NaN         471.031528\n",
      "128\n",
      "                           CountryName  Mean  HeadCount  ReqYearPopulation\n",
      "country year coverage_type                                                \n",
      "IND     2018 A                   India   NaN        NaN        1352.617328\n",
      "             R                   India   NaN        NaN         892.321651\n",
      "             U                   India   NaN        NaN         460.295677\n",
      "        2019 A                   India   NaN        NaN        1366.417754\n",
      "             R                   India   NaN        NaN         895.386226\n",
      "             U                   India   NaN        NaN         471.031528\n",
      "106\n",
      "                           CountryName  Mean  HeadCount  ReqYearPopulation\n",
      "country year coverage_type                                                \n",
      "IND     2018 A                   India   NaN        NaN        1352.617328\n",
      "             R                   India   NaN        NaN         892.321651\n",
      "             U                   India   NaN        NaN         460.295677\n",
      "        2019 A                   India   NaN        NaN        1366.417754\n",
      "             R                   India   NaN        NaN         895.386226\n",
      "             U                   India   NaN        NaN         471.031528\n",
      "117\n",
      "                           CountryName  Mean  HeadCount  ReqYearPopulation\n",
      "country year coverage_type                                                \n",
      "IND     2018 A                   India   NaN        NaN        1352.617328\n",
      "             R                   India   NaN        NaN         892.321651\n",
      "             U                   India   NaN        NaN         460.295677\n",
      "        2019 A                   India   NaN        NaN        1366.417754\n",
      "             R                   India   NaN        NaN         895.386226\n",
      "             U                   India   NaN        NaN         471.031528\n",
      "93\n",
      "                           CountryName  Mean  HeadCount  ReqYearPopulation\n",
      "country year coverage_type                                                \n",
      "IND     2018 A                   India   NaN        NaN        1352.617328\n",
      "             R                   India   NaN        NaN         892.321651\n",
      "             U                   India   NaN        NaN         460.295677\n",
      "        2019 A                   India   NaN        NaN        1366.417754\n",
      "             R                   India   NaN        NaN         895.386226\n",
      "             U                   India   NaN        NaN         471.031528\n",
      "138\n",
      "                           CountryName  Mean  HeadCount  ReqYearPopulation\n",
      "country year coverage_type                                                \n",
      "IND     2018 A                   India   NaN        NaN        1352.617328\n",
      "             R                   India   NaN        NaN         892.321651\n",
      "             U                   India   NaN        NaN         460.295677\n",
      "        2019 A                   India   NaN        NaN        1366.417754\n",
      "             R                   India   NaN        NaN         895.386226\n",
      "             U                   India   NaN        NaN         471.031528\n",
      "105\n",
      "                           CountryName  Mean  HeadCount  ReqYearPopulation\n",
      "country year coverage_type                                                \n",
      "IND     2018 A                   India   NaN        NaN        1352.617328\n",
      "             R                   India   NaN        NaN         892.321651\n",
      "             U                   India   NaN        NaN         460.295677\n",
      "        2019 A                   India   NaN        NaN        1366.417754\n",
      "             R                   India   NaN        NaN         895.386226\n",
      "             U                   India   NaN        NaN         471.031528\n",
      "116\n",
      "                           CountryName  Mean  HeadCount  ReqYearPopulation\n",
      "country year coverage_type                                                \n",
      "IND     2018 A                   India   NaN        NaN        1352.617328\n",
      "             R                   India   NaN        NaN         892.321651\n",
      "             U                   India   NaN        NaN         460.295677\n",
      "        2019 A                   India   NaN        NaN        1366.417754\n",
      "             R                   India   NaN        NaN         895.386226\n",
      "             U                   India   NaN        NaN         471.031528\n",
      "127\n",
      "                           CountryName  Mean  HeadCount  ReqYearPopulation\n",
      "country year coverage_type                                                \n",
      "IND     2018 A                   India   NaN        NaN        1352.617328\n",
      "             R                   India   NaN        NaN         892.321651\n",
      "             U                   India   NaN        NaN         460.295677\n",
      "        2019 A                   India   NaN        NaN        1366.417754\n",
      "             R                   India   NaN        NaN         895.386226\n",
      "             U                   India   NaN        NaN         471.031528\n",
      "92\n",
      "                           CountryName  Mean  HeadCount  ReqYearPopulation\n",
      "country year coverage_type                                                \n",
      "IND     2018 A                   India   NaN        NaN        1352.617328\n",
      "             R                   India   NaN        NaN         892.321651\n",
      "             U                   India   NaN        NaN         460.295677\n",
      "        2019 A                   India   NaN        NaN        1366.417754\n",
      "             R                   India   NaN        NaN         895.386226\n",
      "             U                   India   NaN        NaN         471.031528\n",
      "104\n",
      "                           CountryName  Mean  HeadCount  ReqYearPopulation\n",
      "country year coverage_type                                                \n",
      "IND     2018 A                   India   NaN        NaN        1352.617328\n",
      "             R                   India   NaN        NaN         892.321651\n",
      "             U                   India   NaN        NaN         460.295677\n",
      "        2019 A                   India   NaN        NaN        1366.417754\n",
      "             R                   India   NaN        NaN         895.386226\n",
      "             U                   India   NaN        NaN         471.031528\n",
      "91\n",
      "                           CountryName  Mean  HeadCount  ReqYearPopulation\n",
      "country year coverage_type                                                \n",
      "IND     2018 A                   India   NaN        NaN        1352.617328\n",
      "             R                   India   NaN        NaN         892.321651\n",
      "             U                   India   NaN        NaN         460.295677\n",
      "        2019 A                   India   NaN        NaN        1366.417754\n",
      "             R                   India   NaN        NaN         895.386226\n",
      "             U                   India   NaN        NaN         471.031528\n",
      "115\n",
      "                           CountryName  Mean  HeadCount  ReqYearPopulation\n",
      "country year coverage_type                                                \n",
      "IND     2018 A                   India   NaN        NaN        1352.617328\n",
      "             R                   India   NaN        NaN         892.321651\n",
      "             U                   India   NaN        NaN         460.295677\n",
      "        2019 A                   India   NaN        NaN        1366.417754\n",
      "             R                   India   NaN        NaN         895.386226\n",
      "             U                   India   NaN        NaN         471.031528\n",
      "126\n",
      "                           CountryName  Mean  HeadCount  ReqYearPopulation\n",
      "country year coverage_type                                                \n",
      "IND     2018 A                   India   NaN        NaN        1352.617328\n",
      "             R                   India   NaN        NaN         892.321651\n",
      "             U                   India   NaN        NaN         460.295677\n",
      "        2019 A                   India   NaN        NaN        1366.417754\n",
      "             R                   India   NaN        NaN         895.386226\n",
      "             U                   India   NaN        NaN         471.031528\n",
      "137\n",
      "                           CountryName  Mean  HeadCount  ReqYearPopulation\n",
      "country year coverage_type                                                \n",
      "IND     2018 A                   India   NaN        NaN        1352.617328\n",
      "             R                   India   NaN        NaN         892.321651\n",
      "             U                   India   NaN        NaN         460.295677\n",
      "        2019 A                   India   NaN        NaN        1366.417754\n",
      "             R                   India   NaN        NaN         895.386226\n",
      "             U                   India   NaN        NaN         471.031528\n",
      "90\n",
      "                           CountryName  Mean  HeadCount  ReqYearPopulation\n",
      "country year coverage_type                                                \n",
      "IND     2018 A                   India   NaN        NaN        1352.617328\n",
      "             R                   India   NaN        NaN         892.321651\n",
      "             U                   India   NaN        NaN         460.295677\n",
      "        2019 A                   India   NaN        NaN        1366.417754\n",
      "             R                   India   NaN        NaN         895.386226\n",
      "             U                   India   NaN        NaN         471.031528\n",
      "103\n",
      "                           CountryName  Mean  HeadCount  ReqYearPopulation\n",
      "country year coverage_type                                                \n",
      "IND     2018 A                   India   NaN        NaN        1352.617328\n",
      "             R                   India   NaN        NaN         892.321651\n",
      "             U                   India   NaN        NaN         460.295677\n",
      "        2019 A                   India   NaN        NaN        1366.417754\n",
      "             R                   India   NaN        NaN         895.386226\n",
      "             U                   India   NaN        NaN         471.031528\n",
      "114\n",
      "                           CountryName  Mean  HeadCount  ReqYearPopulation\n",
      "country year coverage_type                                                \n",
      "IND     2018 A                   India   NaN        NaN        1352.617328\n",
      "             R                   India   NaN        NaN         892.321651\n",
      "             U                   India   NaN        NaN         460.295677\n",
      "        2019 A                   India   NaN        NaN        1366.417754\n",
      "             R                   India   NaN        NaN         895.386226\n",
      "             U                   India   NaN        NaN         471.031528\n",
      "136\n",
      "                           CountryName  Mean  HeadCount  ReqYearPopulation\n",
      "country year coverage_type                                                \n",
      "IND     2018 A                   India   NaN        NaN        1352.617328\n",
      "             R                   India   NaN        NaN         892.321651\n",
      "             U                   India   NaN        NaN         460.295677\n",
      "        2019 A                   India   NaN        NaN        1366.417754\n",
      "             R                   India   NaN        NaN         895.386226\n",
      "             U                   India   NaN        NaN         471.031528\n",
      "125\n",
      "                           CountryName  Mean  HeadCount  ReqYearPopulation\n",
      "country year coverage_type                                                \n",
      "IND     2018 A                   India   NaN        NaN        1352.617328\n",
      "             R                   India   NaN        NaN         892.321651\n",
      "             U                   India   NaN        NaN         460.295677\n",
      "        2019 A                   India   NaN        NaN        1366.417754\n",
      "             R                   India   NaN        NaN         895.386226\n",
      "             U                   India   NaN        NaN         471.031528\n",
      "89\n",
      "                           CountryName  Mean  HeadCount  ReqYearPopulation\n",
      "country year coverage_type                                                \n",
      "IND     2018 A                   India   NaN        NaN        1352.617328\n",
      "             R                   India   NaN        NaN         892.321651\n",
      "             U                   India   NaN        NaN         460.295677\n",
      "        2019 A                   India   NaN        NaN        1366.417754\n",
      "             R                   India   NaN        NaN         895.386226\n",
      "             U                   India   NaN        NaN         471.031528\n",
      "102\n"
     ]
    },
    {
     "name": "stdout",
     "output_type": "stream",
     "text": [
      "                           CountryName  Mean  HeadCount  ReqYearPopulation\n",
      "country year coverage_type                                                \n",
      "IND     2018 A                   India   NaN        NaN        1352.617328\n",
      "             R                   India   NaN        NaN         892.321651\n",
      "             U                   India   NaN        NaN         460.295677\n",
      "        2019 A                   India   NaN        NaN        1366.417754\n",
      "             R                   India   NaN        NaN         895.386226\n",
      "             U                   India   NaN        NaN         471.031528\n",
      "113\n",
      "                           CountryName  Mean  HeadCount  ReqYearPopulation\n",
      "country year coverage_type                                                \n",
      "IND     2018 A                   India   NaN        NaN        1352.617328\n",
      "             R                   India   NaN        NaN         892.321651\n",
      "             U                   India   NaN        NaN         460.295677\n",
      "        2019 A                   India   NaN        NaN        1366.417754\n",
      "             R                   India   NaN        NaN         895.386226\n",
      "             U                   India   NaN        NaN         471.031528\n",
      "88\n",
      "                           CountryName  Mean  HeadCount  ReqYearPopulation\n",
      "country year coverage_type                                                \n",
      "IND     2018 A                   India   NaN        NaN        1352.617328\n",
      "             R                   India   NaN        NaN         892.321651\n",
      "             U                   India   NaN        NaN         460.295677\n",
      "        2019 A                   India   NaN        NaN        1366.417754\n",
      "             R                   India   NaN        NaN         895.386226\n",
      "             U                   India   NaN        NaN         471.031528\n",
      "124\n",
      "                           CountryName  Mean  HeadCount  ReqYearPopulation\n",
      "country year coverage_type                                                \n",
      "IND     2018 A                   India   NaN        NaN        1352.617328\n",
      "             R                   India   NaN        NaN         892.321651\n",
      "             U                   India   NaN        NaN         460.295677\n",
      "        2019 A                   India   NaN        NaN        1366.417754\n",
      "             R                   India   NaN        NaN         895.386226\n",
      "             U                   India   NaN        NaN         471.031528\n",
      "135\n",
      "                           CountryName  Mean  HeadCount  ReqYearPopulation\n",
      "country year coverage_type                                                \n",
      "IND     2018 A                   India   NaN        NaN        1352.617328\n",
      "             R                   India   NaN        NaN         892.321651\n",
      "             U                   India   NaN        NaN         460.295677\n",
      "        2019 A                   India   NaN        NaN        1366.417754\n",
      "             R                   India   NaN        NaN         895.386226\n",
      "             U                   India   NaN        NaN         471.031528\n",
      "79\n",
      "                           CountryName  Mean  HeadCount  ReqYearPopulation\n",
      "country year coverage_type                                                \n",
      "IND     2018 A                   India   NaN        NaN        1352.617328\n",
      "             R                   India   NaN        NaN         892.321651\n",
      "             U                   India   NaN        NaN         460.295677\n",
      "        2019 A                   India   NaN        NaN        1366.417754\n",
      "             R                   India   NaN        NaN         895.386226\n",
      "             U                   India   NaN        NaN         471.031528\n",
      "68\n",
      "                           CountryName  Mean  HeadCount  ReqYearPopulation\n",
      "country year coverage_type                                                \n",
      "IND     2018 A                   India   NaN        NaN        1352.617328\n",
      "             R                   India   NaN        NaN         892.321651\n",
      "             U                   India   NaN        NaN         460.295677\n",
      "        2019 A                   India   NaN        NaN        1366.417754\n",
      "             R                   India   NaN        NaN         895.386226\n",
      "             U                   India   NaN        NaN         471.031528\n",
      "57\n",
      "                           CountryName  Mean  HeadCount  ReqYearPopulation\n",
      "country year coverage_type                                                \n",
      "IND     2018 A                   India   NaN        NaN        1352.617328\n",
      "             R                   India   NaN        NaN         892.321651\n",
      "             U                   India   NaN        NaN         460.295677\n",
      "        2019 A                   India   NaN        NaN        1366.417754\n",
      "             R                   India   NaN        NaN         895.386226\n",
      "             U                   India   NaN        NaN         471.031528\n",
      "87\n",
      "                           CountryName  Mean  HeadCount  ReqYearPopulation\n",
      "country year coverage_type                                                \n",
      "IND     2018 A                   India   NaN        NaN        1352.617328\n",
      "             R                   India   NaN        NaN         892.321651\n",
      "             U                   India   NaN        NaN         460.295677\n",
      "        2019 A                   India   NaN        NaN        1366.417754\n",
      "             R                   India   NaN        NaN         895.386226\n",
      "             U                   India   NaN        NaN         471.031528\n",
      "46\n",
      "                           CountryName  Mean  HeadCount  ReqYearPopulation\n",
      "country year coverage_type                                                \n",
      "IND     2018 A                   India   NaN        NaN        1352.617328\n",
      "             R                   India   NaN        NaN         892.321651\n",
      "             U                   India   NaN        NaN         460.295677\n",
      "        2019 A                   India   NaN        NaN        1366.417754\n",
      "             R                   India   NaN        NaN         895.386226\n",
      "             U                   India   NaN        NaN         471.031528\n",
      "67\n",
      "                           CountryName  Mean  HeadCount  ReqYearPopulation\n",
      "country year coverage_type                                                \n",
      "IND     2018 A                   India   NaN        NaN        1352.617328\n",
      "             R                   India   NaN        NaN         892.321651\n",
      "             U                   India   NaN        NaN         460.295677\n",
      "        2019 A                   India   NaN        NaN        1366.417754\n",
      "             R                   India   NaN        NaN         895.386226\n",
      "             U                   India   NaN        NaN         471.031528\n",
      "78\n",
      "                           CountryName  Mean  HeadCount  ReqYearPopulation\n",
      "country year coverage_type                                                \n",
      "IND     2018 A                   India   NaN        NaN        1352.617328\n",
      "             R                   India   NaN        NaN         892.321651\n",
      "             U                   India   NaN        NaN         460.295677\n",
      "        2019 A                   India   NaN        NaN        1366.417754\n",
      "             R                   India   NaN        NaN         895.386226\n",
      "             U                   India   NaN        NaN         471.031528\n",
      "56\n",
      "                           CountryName  Mean  HeadCount  ReqYearPopulation\n",
      "country year coverage_type                                                \n",
      "IND     2018 A                   India   NaN        NaN        1352.617328\n",
      "             R                   India   NaN        NaN         892.321651\n",
      "             U                   India   NaN        NaN         460.295677\n",
      "        2019 A                   India   NaN        NaN        1366.417754\n",
      "             R                   India   NaN        NaN         895.386226\n",
      "             U                   India   NaN        NaN         471.031528\n",
      "45\n",
      "                           CountryName  Mean  HeadCount  ReqYearPopulation\n",
      "country year coverage_type                                                \n",
      "IND     2018 A                   India   NaN        NaN        1352.617328\n",
      "             R                   India   NaN        NaN         892.321651\n",
      "             U                   India   NaN        NaN         460.295677\n",
      "        2019 A                   India   NaN        NaN        1366.417754\n",
      "             R                   India   NaN        NaN         895.386226\n",
      "             U                   India   NaN        NaN         471.031528\n",
      "66\n",
      "                           CountryName  Mean  HeadCount  ReqYearPopulation\n",
      "country year coverage_type                                                \n",
      "IND     2018 A                   India   NaN        NaN        1352.617328\n",
      "             R                   India   NaN        NaN         892.321651\n",
      "             U                   India   NaN        NaN         460.295677\n",
      "        2019 A                   India   NaN        NaN        1366.417754\n",
      "             R                   India   NaN        NaN         895.386226\n",
      "             U                   India   NaN        NaN         471.031528\n",
      "86\n",
      "                           CountryName  Mean  HeadCount  ReqYearPopulation\n",
      "country year coverage_type                                                \n",
      "IND     2018 A                   India   NaN        NaN        1352.617328\n",
      "             R                   India   NaN        NaN         892.321651\n",
      "             U                   India   NaN        NaN         460.295677\n",
      "        2019 A                   India   NaN        NaN        1366.417754\n",
      "             R                   India   NaN        NaN         895.386226\n",
      "             U                   India   NaN        NaN         471.031528\n",
      "55\n",
      "                           CountryName  Mean  HeadCount  ReqYearPopulation\n",
      "country year coverage_type                                                \n",
      "IND     2018 A                   India   NaN        NaN        1352.617328\n",
      "             R                   India   NaN        NaN         892.321651\n",
      "             U                   India   NaN        NaN         460.295677\n",
      "        2019 A                   India   NaN        NaN        1366.417754\n",
      "             R                   India   NaN        NaN         895.386226\n",
      "             U                   India   NaN        NaN         471.031528\n",
      "77\n",
      "                           CountryName  Mean  HeadCount  ReqYearPopulation\n",
      "country year coverage_type                                                \n",
      "IND     2018 A                   India   NaN        NaN        1352.617328\n",
      "             R                   India   NaN        NaN         892.321651\n",
      "             U                   India   NaN        NaN         460.295677\n",
      "        2019 A                   India   NaN        NaN        1366.417754\n",
      "             R                   India   NaN        NaN         895.386226\n",
      "             U                   India   NaN        NaN         471.031528\n",
      "44\n",
      "                           CountryName  Mean  HeadCount  ReqYearPopulation\n",
      "country year coverage_type                                                \n",
      "IND     2018 A                   India   NaN        NaN        1352.617328\n",
      "             R                   India   NaN        NaN         892.321651\n",
      "             U                   India   NaN        NaN         460.295677\n",
      "        2019 A                   India   NaN        NaN        1366.417754\n",
      "             R                   India   NaN        NaN         895.386226\n",
      "             U                   India   NaN        NaN         471.031528\n",
      "65\n",
      "                           CountryName  Mean  HeadCount  ReqYearPopulation\n",
      "country year coverage_type                                                \n",
      "IND     2018 A                   India   NaN        NaN        1352.617328\n",
      "             R                   India   NaN        NaN         892.321651\n",
      "             U                   India   NaN        NaN         460.295677\n",
      "        2019 A                   India   NaN        NaN        1366.417754\n",
      "             R                   India   NaN        NaN         895.386226\n",
      "             U                   India   NaN        NaN         471.031528\n",
      "54\n",
      "                           CountryName  Mean  HeadCount  ReqYearPopulation\n",
      "country year coverage_type                                                \n",
      "IND     2018 A                   India   NaN        NaN        1352.617328\n",
      "             R                   India   NaN        NaN         892.321651\n",
      "             U                   India   NaN        NaN         460.295677\n",
      "        2019 A                   India   NaN        NaN        1366.417754\n",
      "             R                   India   NaN        NaN         895.386226\n",
      "             U                   India   NaN        NaN         471.031528\n",
      "85\n",
      "                           CountryName  Mean  HeadCount  ReqYearPopulation\n",
      "country year coverage_type                                                \n",
      "IND     2018 A                   India   NaN        NaN        1352.617328\n",
      "             R                   India   NaN        NaN         892.321651\n",
      "             U                   India   NaN        NaN         460.295677\n",
      "        2019 A                   India   NaN        NaN        1366.417754\n",
      "             R                   India   NaN        NaN         895.386226\n",
      "             U                   India   NaN        NaN         471.031528\n",
      "76\n",
      "                           CountryName  Mean  HeadCount  ReqYearPopulation\n",
      "country year coverage_type                                                \n",
      "IND     2018 A                   India   NaN        NaN        1352.617328\n",
      "             R                   India   NaN        NaN         892.321651\n",
      "             U                   India   NaN        NaN         460.295677\n",
      "        2019 A                   India   NaN        NaN        1366.417754\n",
      "             R                   India   NaN        NaN         895.386226\n",
      "             U                   India   NaN        NaN         471.031528\n",
      "43\n",
      "                           CountryName  Mean  HeadCount  ReqYearPopulation\n",
      "country year coverage_type                                                \n",
      "IND     2018 A                   India   NaN        NaN        1352.617328\n",
      "             R                   India   NaN        NaN         892.321651\n",
      "             U                   India   NaN        NaN         460.295677\n",
      "        2019 A                   India   NaN        NaN        1366.417754\n",
      "             R                   India   NaN        NaN         895.386226\n",
      "             U                   India   NaN        NaN         471.031528\n",
      "64\n",
      "                           CountryName  Mean  HeadCount  ReqYearPopulation\n",
      "country year coverage_type                                                \n",
      "IND     2018 A                   India   NaN        NaN        1352.617328\n",
      "             R                   India   NaN        NaN         892.321651\n",
      "             U                   India   NaN        NaN         460.295677\n",
      "        2019 A                   India   NaN        NaN        1366.417754\n",
      "             R                   India   NaN        NaN         895.386226\n",
      "             U                   India   NaN        NaN         471.031528\n",
      "53\n",
      "                           CountryName  Mean  HeadCount  ReqYearPopulation\n",
      "country year coverage_type                                                \n",
      "IND     2018 A                   India   NaN        NaN        1352.617328\n",
      "             R                   India   NaN        NaN         892.321651\n",
      "             U                   India   NaN        NaN         460.295677\n",
      "        2019 A                   India   NaN        NaN        1366.417754\n",
      "             R                   India   NaN        NaN         895.386226\n",
      "             U                   India   NaN        NaN         471.031528\n",
      "63\n",
      "                           CountryName  Mean  HeadCount  ReqYearPopulation\n",
      "country year coverage_type                                                \n",
      "IND     2018 A                   India   NaN        NaN        1352.617328\n",
      "             R                   India   NaN        NaN         892.321651\n",
      "             U                   India   NaN        NaN         460.295677\n",
      "        2019 A                   India   NaN        NaN        1366.417754\n",
      "             R                   India   NaN        NaN         895.386226\n",
      "             U                   India   NaN        NaN         471.031528\n",
      "42\n",
      "                           CountryName  Mean  HeadCount  ReqYearPopulation\n",
      "country year coverage_type                                                \n",
      "IND     2018 A                   India   NaN        NaN        1352.617328\n",
      "             R                   India   NaN        NaN         892.321651\n",
      "             U                   India   NaN        NaN         460.295677\n",
      "        2019 A                   India   NaN        NaN        1366.417754\n",
      "             R                   India   NaN        NaN         895.386226\n",
      "             U                   India   NaN        NaN         471.031528\n",
      "75\n",
      "                           CountryName  Mean  HeadCount  ReqYearPopulation\n",
      "country year coverage_type                                                \n",
      "IND     2018 A                   India   NaN        NaN        1352.617328\n",
      "             R                   India   NaN        NaN         892.321651\n",
      "             U                   India   NaN        NaN         460.295677\n",
      "        2019 A                   India   NaN        NaN        1366.417754\n",
      "             R                   India   NaN        NaN         895.386226\n",
      "             U                   India   NaN        NaN         471.031528\n",
      "84\n",
      "                           CountryName  Mean  HeadCount  ReqYearPopulation\n",
      "country year coverage_type                                                \n",
      "IND     2018 A                   India   NaN        NaN        1352.617328\n",
      "             R                   India   NaN        NaN         892.321651\n",
      "             U                   India   NaN        NaN         460.295677\n",
      "        2019 A                   India   NaN        NaN        1366.417754\n",
      "             R                   India   NaN        NaN         895.386226\n",
      "             U                   India   NaN        NaN         471.031528\n",
      "52\n",
      "                           CountryName  Mean  HeadCount  ReqYearPopulation\n",
      "country year coverage_type                                                \n",
      "IND     2018 A                   India   NaN        NaN        1352.617328\n",
      "             R                   India   NaN        NaN         892.321651\n",
      "             U                   India   NaN        NaN         460.295677\n",
      "        2019 A                   India   NaN        NaN        1366.417754\n",
      "             R                   India   NaN        NaN         895.386226\n",
      "             U                   India   NaN        NaN         471.031528\n",
      "62\n",
      "                           CountryName  Mean  HeadCount  ReqYearPopulation\n",
      "country year coverage_type                                                \n",
      "IND     2018 A                   India   NaN        NaN        1352.617328\n",
      "             R                   India   NaN        NaN         892.321651\n",
      "             U                   India   NaN        NaN         460.295677\n",
      "        2019 A                   India   NaN        NaN        1366.417754\n",
      "             R                   India   NaN        NaN         895.386226\n",
      "             U                   India   NaN        NaN         471.031528\n",
      "41\n",
      "                           CountryName  Mean  HeadCount  ReqYearPopulation\n",
      "country year coverage_type                                                \n",
      "IND     2018 A                   India   NaN        NaN        1352.617328\n",
      "             R                   India   NaN        NaN         892.321651\n",
      "             U                   India   NaN        NaN         460.295677\n",
      "        2019 A                   India   NaN        NaN        1366.417754\n",
      "             R                   India   NaN        NaN         895.386226\n",
      "             U                   India   NaN        NaN         471.031528\n",
      "74\n",
      "                           CountryName  Mean  HeadCount  ReqYearPopulation\n",
      "country year coverage_type                                                \n",
      "IND     2018 A                   India   NaN        NaN        1352.617328\n",
      "             R                   India   NaN        NaN         892.321651\n",
      "             U                   India   NaN        NaN         460.295677\n",
      "        2019 A                   India   NaN        NaN        1366.417754\n",
      "             R                   India   NaN        NaN         895.386226\n",
      "             U                   India   NaN        NaN         471.031528\n",
      "83\n",
      "                           CountryName  Mean  HeadCount  ReqYearPopulation\n",
      "country year coverage_type                                                \n",
      "IND     2018 A                   India   NaN        NaN        1352.617328\n",
      "             R                   India   NaN        NaN         892.321651\n",
      "             U                   India   NaN        NaN         460.295677\n",
      "        2019 A                   India   NaN        NaN        1366.417754\n",
      "             R                   India   NaN        NaN         895.386226\n",
      "             U                   India   NaN        NaN         471.031528\n",
      "51\n",
      "                           CountryName  Mean  HeadCount  ReqYearPopulation\n",
      "country year coverage_type                                                \n",
      "IND     2018 A                   India   NaN        NaN        1352.617328\n",
      "             R                   India   NaN        NaN         892.321651\n",
      "             U                   India   NaN        NaN         460.295677\n",
      "        2019 A                   India   NaN        NaN        1366.417754\n",
      "             R                   India   NaN        NaN         895.386226\n",
      "             U                   India   NaN        NaN         471.031528\n",
      "61\n",
      "                           CountryName  Mean  HeadCount  ReqYearPopulation\n",
      "country year coverage_type                                                \n",
      "IND     2018 A                   India   NaN        NaN        1352.617328\n",
      "             R                   India   NaN        NaN         892.321651\n",
      "             U                   India   NaN        NaN         460.295677\n",
      "        2019 A                   India   NaN        NaN        1366.417754\n",
      "             R                   India   NaN        NaN         895.386226\n",
      "             U                   India   NaN        NaN         471.031528\n",
      "40\n",
      "                           CountryName  Mean  HeadCount  ReqYearPopulation\n",
      "country year coverage_type                                                \n",
      "IND     2018 A                   India   NaN        NaN        1352.617328\n",
      "             R                   India   NaN        NaN         892.321651\n",
      "             U                   India   NaN        NaN         460.295677\n",
      "        2019 A                   India   NaN        NaN        1366.417754\n",
      "             R                   India   NaN        NaN         895.386226\n",
      "             U                   India   NaN        NaN         471.031528\n",
      "73\n",
      "                           CountryName  Mean  HeadCount  ReqYearPopulation\n",
      "country year coverage_type                                                \n",
      "IND     2018 A                   India   NaN        NaN        1352.617328\n",
      "             R                   India   NaN        NaN         892.321651\n",
      "             U                   India   NaN        NaN         460.295677\n",
      "        2019 A                   India   NaN        NaN        1366.417754\n",
      "             R                   India   NaN        NaN         895.386226\n",
      "             U                   India   NaN        NaN         471.031528\n",
      "50\n",
      "                           CountryName  Mean  HeadCount  ReqYearPopulation\n",
      "country year coverage_type                                                \n",
      "IND     2018 A                   India   NaN        NaN        1352.617328\n",
      "             R                   India   NaN        NaN         892.321651\n",
      "             U                   India   NaN        NaN         460.295677\n",
      "        2019 A                   India   NaN        NaN        1366.417754\n",
      "             R                   India   NaN        NaN         895.386226\n",
      "             U                   India   NaN        NaN         471.031528\n",
      "60\n",
      "                           CountryName  Mean  HeadCount  ReqYearPopulation\n",
      "country year coverage_type                                                \n",
      "IND     2018 A                   India   NaN        NaN        1352.617328\n",
      "             R                   India   NaN        NaN         892.321651\n",
      "             U                   India   NaN        NaN         460.295677\n",
      "        2019 A                   India   NaN        NaN        1366.417754\n",
      "             R                   India   NaN        NaN         895.386226\n",
      "             U                   India   NaN        NaN         471.031528\n",
      "39\n",
      "                           CountryName  Mean  HeadCount  ReqYearPopulation\n",
      "country year coverage_type                                                \n",
      "IND     2018 A                   India   NaN        NaN        1352.617328\n",
      "             R                   India   NaN        NaN         892.321651\n",
      "             U                   India   NaN        NaN         460.295677\n",
      "        2019 A                   India   NaN        NaN        1366.417754\n",
      "             R                   India   NaN        NaN         895.386226\n",
      "             U                   India   NaN        NaN         471.031528\n",
      "82\n",
      "                           CountryName  Mean  HeadCount  ReqYearPopulation\n",
      "country year coverage_type                                                \n",
      "IND     2018 A                   India   NaN        NaN        1352.617328\n",
      "             R                   India   NaN        NaN         892.321651\n",
      "             U                   India   NaN        NaN         460.295677\n",
      "        2019 A                   India   NaN        NaN        1366.417754\n",
      "             R                   India   NaN        NaN         895.386226\n",
      "             U                   India   NaN        NaN         471.031528\n",
      "72\n",
      "                           CountryName  Mean  HeadCount  ReqYearPopulation\n",
      "country year coverage_type                                                \n",
      "IND     2018 A                   India   NaN        NaN        1352.617328\n",
      "             R                   India   NaN        NaN         892.321651\n",
      "             U                   India   NaN        NaN         460.295677\n",
      "        2019 A                   India   NaN        NaN        1366.417754\n",
      "             R                   India   NaN        NaN         895.386226\n",
      "             U                   India   NaN        NaN         471.031528\n",
      "49\n",
      "                           CountryName  Mean  HeadCount  ReqYearPopulation\n",
      "country year coverage_type                                                \n",
      "IND     2018 A                   India   NaN        NaN        1352.617328\n",
      "             R                   India   NaN        NaN         892.321651\n",
      "             U                   India   NaN        NaN         460.295677\n",
      "        2019 A                   India   NaN        NaN        1366.417754\n",
      "             R                   India   NaN        NaN         895.386226\n",
      "             U                   India   NaN        NaN         471.031528\n",
      "38\n",
      "                           CountryName  Mean  HeadCount  ReqYearPopulation\n",
      "country year coverage_type                                                \n",
      "IND     2018 A                   India   NaN        NaN        1352.617328\n",
      "             R                   India   NaN        NaN         892.321651\n",
      "             U                   India   NaN        NaN         460.295677\n",
      "        2019 A                   India   NaN        NaN        1366.417754\n",
      "             R                   India   NaN        NaN         895.386226\n",
      "             U                   India   NaN        NaN         471.031528\n",
      "59\n",
      "                           CountryName  Mean  HeadCount  ReqYearPopulation\n",
      "country year coverage_type                                                \n",
      "IND     2018 A                   India   NaN        NaN        1352.617328\n",
      "             R                   India   NaN        NaN         892.321651\n",
      "             U                   India   NaN        NaN         460.295677\n",
      "        2019 A                   India   NaN        NaN        1366.417754\n",
      "             R                   India   NaN        NaN         895.386226\n",
      "             U                   India   NaN        NaN         471.031528\n",
      "81\n",
      "                           CountryName  Mean  HeadCount  ReqYearPopulation\n",
      "country year coverage_type                                                \n",
      "IND     2018 A                   India   NaN        NaN        1352.617328\n",
      "             R                   India   NaN        NaN         892.321651\n",
      "             U                   India   NaN        NaN         460.295677\n",
      "        2019 A                   India   NaN        NaN        1366.417754\n",
      "             R                   India   NaN        NaN         895.386226\n",
      "             U                   India   NaN        NaN         471.031528\n",
      "71\n",
      "                           CountryName  Mean  HeadCount  ReqYearPopulation\n",
      "country year coverage_type                                                \n",
      "IND     2018 A                   India   NaN        NaN        1352.617328\n",
      "             R                   India   NaN        NaN         892.321651\n",
      "             U                   India   NaN        NaN         460.295677\n",
      "        2019 A                   India   NaN        NaN        1366.417754\n",
      "             R                   India   NaN        NaN         895.386226\n",
      "             U                   India   NaN        NaN         471.031528\n",
      "48\n",
      "                           CountryName  Mean  HeadCount  ReqYearPopulation\n",
      "country year coverage_type                                                \n",
      "IND     2018 A                   India   NaN        NaN        1352.617328\n",
      "             R                   India   NaN        NaN         892.321651\n",
      "             U                   India   NaN        NaN         460.295677\n",
      "        2019 A                   India   NaN        NaN        1366.417754\n",
      "             R                   India   NaN        NaN         895.386226\n",
      "             U                   India   NaN        NaN         471.031528\n",
      "37\n",
      "                           CountryName  Mean  HeadCount  ReqYearPopulation\n",
      "country year coverage_type                                                \n",
      "IND     2018 A                   India   NaN        NaN        1352.617328\n",
      "             R                   India   NaN        NaN         892.321651\n",
      "             U                   India   NaN        NaN         460.295677\n",
      "        2019 A                   India   NaN        NaN        1366.417754\n",
      "             R                   India   NaN        NaN         895.386226\n",
      "             U                   India   NaN        NaN         471.031528\n",
      "58\n",
      "                           CountryName  Mean  HeadCount  ReqYearPopulation\n",
      "country year coverage_type                                                \n",
      "IND     2018 A                   India   NaN        NaN        1352.617328\n",
      "             R                   India   NaN        NaN         892.321651\n",
      "             U                   India   NaN        NaN         460.295677\n",
      "        2019 A                   India   NaN        NaN        1366.417754\n",
      "             R                   India   NaN        NaN         895.386226\n",
      "             U                   India   NaN        NaN         471.031528\n",
      "80\n",
      "                           CountryName  Mean  HeadCount  ReqYearPopulation\n",
      "country year coverage_type                                                \n",
      "IND     2018 A                   India   NaN        NaN        1352.617328\n",
      "             R                   India   NaN        NaN         892.321651\n",
      "             U                   India   NaN        NaN         460.295677\n",
      "        2019 A                   India   NaN        NaN        1366.417754\n",
      "             R                   India   NaN        NaN         895.386226\n",
      "             U                   India   NaN        NaN         471.031528\n",
      "70\n",
      "                           CountryName  Mean  HeadCount  ReqYearPopulation\n",
      "country year coverage_type                                                \n",
      "IND     2018 A                   India   NaN        NaN        1352.617328\n",
      "             R                   India   NaN        NaN         892.321651\n",
      "             U                   India   NaN        NaN         460.295677\n",
      "        2019 A                   India   NaN        NaN        1366.417754\n",
      "             R                   India   NaN        NaN         895.386226\n",
      "             U                   India   NaN        NaN         471.031528\n",
      "47\n",
      "                           CountryName  Mean  HeadCount  ReqYearPopulation\n",
      "country year coverage_type                                                \n",
      "IND     2018 A                   India   NaN        NaN        1352.617328\n",
      "             R                   India   NaN        NaN         892.321651\n",
      "             U                   India   NaN        NaN         460.295677\n",
      "        2019 A                   India   NaN        NaN        1366.417754\n",
      "             R                   India   NaN        NaN         895.386226\n",
      "             U                   India   NaN        NaN         471.031528\n",
      "36\n",
      "                           CountryName  Mean  HeadCount  ReqYearPopulation\n",
      "country year coverage_type                                                \n",
      "IND     2018 A                   India   NaN        NaN        1352.617328\n",
      "             R                   India   NaN        NaN         892.321651\n",
      "             U                   India   NaN        NaN         460.295677\n",
      "        2019 A                   India   NaN        NaN        1366.417754\n",
      "             R                   India   NaN        NaN         895.386226\n",
      "             U                   India   NaN        NaN         471.031528\n",
      "35\n",
      "                           CountryName  Mean  HeadCount  ReqYearPopulation\n",
      "country year coverage_type                                                \n",
      "IND     2018 A                   India   NaN        NaN        1352.617328\n",
      "             R                   India   NaN        NaN         892.321651\n",
      "             U                   India   NaN        NaN         460.295677\n",
      "        2019 A                   India   NaN        NaN        1366.417754\n",
      "             R                   India   NaN        NaN         895.386226\n",
      "             U                   India   NaN        NaN         471.031528\n",
      "24\n",
      "                           CountryName  Mean  HeadCount  ReqYearPopulation\n",
      "country year coverage_type                                                \n",
      "IND     2018 A                   India   NaN        NaN        1352.617328\n",
      "             R                   India   NaN        NaN         892.321651\n",
      "             U                   India   NaN        NaN         460.295677\n",
      "        2019 A                   India   NaN        NaN        1366.417754\n",
      "             R                   India   NaN        NaN         895.386226\n",
      "             U                   India   NaN        NaN         471.031528\n",
      "69\n",
      "                           CountryName  Mean  HeadCount  ReqYearPopulation\n",
      "country year coverage_type                                                \n",
      "IND     2018 A                   India   NaN        NaN        1352.617328\n",
      "             R                   India   NaN        NaN         892.321651\n",
      "             U                   India   NaN        NaN         460.295677\n",
      "        2019 A                   India   NaN        NaN        1366.417754\n",
      "             R                   India   NaN        NaN         895.386226\n",
      "             U                   India   NaN        NaN         471.031528\n",
      "13\n",
      "                           CountryName  Mean  HeadCount  ReqYearPopulation\n",
      "country year coverage_type                                                \n",
      "IND     2018 A                   India   NaN        NaN        1352.617328\n",
      "             R                   India   NaN        NaN         892.321651\n",
      "             U                   India   NaN        NaN         460.295677\n",
      "        2019 A                   India   NaN        NaN        1366.417754\n",
      "             R                   India   NaN        NaN         895.386226\n",
      "             U                   India   NaN        NaN         471.031528\n",
      "2\n",
      "                           CountryName  Mean  HeadCount  ReqYearPopulation\n",
      "country year coverage_type                                                \n",
      "IND     2018 A                   India   NaN        NaN        1352.617328\n",
      "             R                   India   NaN        NaN         892.321651\n",
      "             U                   India   NaN        NaN         460.295677\n",
      "        2019 A                   India   NaN        NaN        1366.417754\n",
      "             R                   India   NaN        NaN         895.386226\n",
      "             U                   India   NaN        NaN         471.031528\n",
      "34\n",
      "                           CountryName  Mean  HeadCount  ReqYearPopulation\n",
      "country year coverage_type                                                \n",
      "IND     2018 A                   India   NaN        NaN        1352.617328\n",
      "             R                   India   NaN        NaN         892.321651\n",
      "             U                   India   NaN        NaN         460.295677\n",
      "        2019 A                   India   NaN        NaN        1366.417754\n",
      "             R                   India   NaN        NaN         895.386226\n",
      "             U                   India   NaN        NaN         471.031528\n",
      "23\n",
      "                           CountryName  Mean  HeadCount  ReqYearPopulation\n",
      "country year coverage_type                                                \n",
      "IND     2018 A                   India   NaN        NaN        1352.617328\n",
      "             R                   India   NaN        NaN         892.321651\n",
      "             U                   India   NaN        NaN         460.295677\n",
      "        2019 A                   India   NaN        NaN        1366.417754\n",
      "             R                   India   NaN        NaN         895.386226\n",
      "             U                   India   NaN        NaN         471.031528\n",
      "12\n",
      "                           CountryName  Mean  HeadCount  ReqYearPopulation\n",
      "country year coverage_type                                                \n",
      "IND     2018 A                   India   NaN        NaN        1352.617328\n",
      "             R                   India   NaN        NaN         892.321651\n",
      "             U                   India   NaN        NaN         460.295677\n",
      "        2019 A                   India   NaN        NaN        1366.417754\n",
      "             R                   India   NaN        NaN         895.386226\n",
      "             U                   India   NaN        NaN         471.031528\n",
      "33\n",
      "                           CountryName  Mean  HeadCount  ReqYearPopulation\n",
      "country year coverage_type                                                \n",
      "IND     2018 A                   India   NaN        NaN        1352.617328\n",
      "             R                   India   NaN        NaN         892.321651\n",
      "             U                   India   NaN        NaN         460.295677\n",
      "        2019 A                   India   NaN        NaN        1366.417754\n",
      "             R                   India   NaN        NaN         895.386226\n",
      "             U                   India   NaN        NaN         471.031528\n",
      "1\n",
      "                           CountryName  Mean  HeadCount  ReqYearPopulation\n",
      "country year coverage_type                                                \n",
      "IND     2018 A                   India   NaN        NaN        1352.617328\n",
      "             R                   India   NaN        NaN         892.321651\n",
      "             U                   India   NaN        NaN         460.295677\n",
      "        2019 A                   India   NaN        NaN        1366.417754\n",
      "             R                   India   NaN        NaN         895.386226\n",
      "             U                   India   NaN        NaN         471.031528\n",
      "22\n",
      "                           CountryName  Mean  HeadCount  ReqYearPopulation\n",
      "country year coverage_type                                                \n",
      "IND     2018 A                   India   NaN        NaN        1352.617328\n",
      "             R                   India   NaN        NaN         892.321651\n",
      "             U                   India   NaN        NaN         460.295677\n",
      "        2019 A                   India   NaN        NaN        1366.417754\n",
      "             R                   India   NaN        NaN         895.386226\n",
      "             U                   India   NaN        NaN         471.031528\n",
      "32\n",
      "                           CountryName  Mean  HeadCount  ReqYearPopulation\n",
      "country year coverage_type                                                \n",
      "IND     2018 A                   India   NaN        NaN        1352.617328\n",
      "             R                   India   NaN        NaN         892.321651\n",
      "             U                   India   NaN        NaN         460.295677\n",
      "        2019 A                   India   NaN        NaN        1366.417754\n",
      "             R                   India   NaN        NaN         895.386226\n",
      "             U                   India   NaN        NaN         471.031528\n",
      "0\n",
      "                           CountryName  Mean  HeadCount  ReqYearPopulation\n",
      "country year coverage_type                                                \n",
      "IND     2018 A                   India   NaN        NaN        1352.617328\n",
      "             R                   India   NaN        NaN         892.321651\n",
      "             U                   India   NaN        NaN         460.295677\n",
      "        2019 A                   India   NaN        NaN        1366.417754\n",
      "             R                   India   NaN        NaN         895.386226\n",
      "             U                   India   NaN        NaN         471.031528\n",
      "11\n",
      "                           CountryName  Mean  HeadCount  ReqYearPopulation\n",
      "country year coverage_type                                                \n",
      "IND     2018 A                   India   NaN        NaN        1352.617328\n",
      "             R                   India   NaN        NaN         892.321651\n",
      "             U                   India   NaN        NaN         460.295677\n",
      "        2019 A                   India   NaN        NaN        1366.417754\n",
      "             R                   India   NaN        NaN         895.386226\n",
      "             U                   India   NaN        NaN         471.031528\n",
      "21\n",
      "                           CountryName  Mean  HeadCount  ReqYearPopulation\n",
      "country year coverage_type                                                \n",
      "IND     2018 A                   India   NaN        NaN        1352.617328\n",
      "             R                   India   NaN        NaN         892.321651\n",
      "             U                   India   NaN        NaN         460.295677\n",
      "        2019 A                   India   NaN        NaN        1366.417754\n",
      "             R                   India   NaN        NaN         895.386226\n",
      "             U                   India   NaN        NaN         471.031528\n",
      "31\n",
      "                           CountryName  Mean  HeadCount  ReqYearPopulation\n",
      "country year coverage_type                                                \n",
      "IND     2018 A                   India   NaN        NaN        1352.617328\n",
      "             R                   India   NaN        NaN         892.321651\n",
      "             U                   India   NaN        NaN         460.295677\n",
      "        2019 A                   India   NaN        NaN        1366.417754\n",
      "             R                   India   NaN        NaN         895.386226\n",
      "             U                   India   NaN        NaN         471.031528\n",
      "10\n",
      "                           CountryName  Mean  HeadCount  ReqYearPopulation\n",
      "country year coverage_type                                                \n",
      "IND     2018 A                   India   NaN        NaN        1352.617328\n",
      "             R                   India   NaN        NaN         892.321651\n",
      "             U                   India   NaN        NaN         460.295677\n",
      "        2019 A                   India   NaN        NaN        1366.417754\n",
      "             R                   India   NaN        NaN         895.386226\n",
      "             U                   India   NaN        NaN         471.031528\n",
      "20\n",
      "                           CountryName  Mean  HeadCount  ReqYearPopulation\n",
      "country year coverage_type                                                \n",
      "IND     2018 A                   India   NaN        NaN        1352.617328\n",
      "             R                   India   NaN        NaN         892.321651\n",
      "             U                   India   NaN        NaN         460.295677\n",
      "        2019 A                   India   NaN        NaN        1366.417754\n",
      "             R                   India   NaN        NaN         895.386226\n",
      "             U                   India   NaN        NaN         471.031528\n",
      "30\n",
      "                           CountryName  Mean  HeadCount  ReqYearPopulation\n",
      "country year coverage_type                                                \n",
      "IND     2018 A                   India   NaN        NaN        1352.617328\n",
      "             R                   India   NaN        NaN         892.321651\n",
      "             U                   India   NaN        NaN         460.295677\n",
      "        2019 A                   India   NaN        NaN        1366.417754\n",
      "             R                   India   NaN        NaN         895.386226\n",
      "             U                   India   NaN        NaN         471.031528\n",
      "19\n",
      "                           CountryName  Mean  HeadCount  ReqYearPopulation\n",
      "country year coverage_type                                                \n",
      "IND     2018 A                   India   NaN        NaN        1352.617328\n",
      "             R                   India   NaN        NaN         892.321651\n",
      "             U                   India   NaN        NaN         460.295677\n",
      "        2019 A                   India   NaN        NaN        1366.417754\n",
      "             R                   India   NaN        NaN         895.386226\n",
      "             U                   India   NaN        NaN         471.031528\n",
      "9\n",
      "                           CountryName  Mean  HeadCount  ReqYearPopulation\n",
      "country year coverage_type                                                \n",
      "IND     2018 A                   India   NaN        NaN        1352.617328\n",
      "             R                   India   NaN        NaN         892.321651\n",
      "             U                   India   NaN        NaN         460.295677\n",
      "        2019 A                   India   NaN        NaN        1366.417754\n",
      "             R                   India   NaN        NaN         895.386226\n",
      "             U                   India   NaN        NaN         471.031528\n",
      "29\n",
      "                           CountryName  Mean  HeadCount  ReqYearPopulation\n",
      "country year coverage_type                                                \n",
      "IND     2018 A                   India   NaN        NaN        1352.617328\n",
      "             R                   India   NaN        NaN         892.321651\n",
      "             U                   India   NaN        NaN         460.295677\n",
      "        2019 A                   India   NaN        NaN        1366.417754\n",
      "             R                   India   NaN        NaN         895.386226\n",
      "             U                   India   NaN        NaN         471.031528\n",
      "8\n",
      "                           CountryName  Mean  HeadCount  ReqYearPopulation\n",
      "country year coverage_type                                                \n",
      "IND     2018 A                   India   NaN        NaN        1352.617328\n",
      "             R                   India   NaN        NaN         892.321651\n",
      "             U                   India   NaN        NaN         460.295677\n",
      "        2019 A                   India   NaN        NaN        1366.417754\n",
      "             R                   India   NaN        NaN         895.386226\n",
      "             U                   India   NaN        NaN         471.031528\n",
      "18\n",
      "                           CountryName  Mean  HeadCount  ReqYearPopulation\n",
      "country year coverage_type                                                \n",
      "IND     2018 A                   India   NaN        NaN        1352.617328\n",
      "             R                   India   NaN        NaN         892.321651\n",
      "             U                   India   NaN        NaN         460.295677\n",
      "        2019 A                   India   NaN        NaN        1366.417754\n",
      "             R                   India   NaN        NaN         895.386226\n",
      "             U                   India   NaN        NaN         471.031528\n",
      "28\n",
      "                           CountryName  Mean  HeadCount  ReqYearPopulation\n",
      "country year coverage_type                                                \n",
      "IND     2018 A                   India   NaN        NaN        1352.617328\n",
      "             R                   India   NaN        NaN         892.321651\n",
      "             U                   India   NaN        NaN         460.295677\n",
      "        2019 A                   India   NaN        NaN        1366.417754\n",
      "             R                   India   NaN        NaN         895.386226\n",
      "             U                   India   NaN        NaN         471.031528\n",
      "17\n",
      "                           CountryName  Mean  HeadCount  ReqYearPopulation\n",
      "country year coverage_type                                                \n",
      "IND     2018 A                   India   NaN        NaN        1352.617328\n",
      "             R                   India   NaN        NaN         892.321651\n",
      "             U                   India   NaN        NaN         460.295677\n",
      "        2019 A                   India   NaN        NaN        1366.417754\n",
      "             R                   India   NaN        NaN         895.386226\n",
      "             U                   India   NaN        NaN         471.031528\n",
      "7\n",
      "                           CountryName  Mean  HeadCount  ReqYearPopulation\n",
      "country year coverage_type                                                \n",
      "IND     2018 A                   India   NaN        NaN        1352.617328\n",
      "             R                   India   NaN        NaN         892.321651\n",
      "             U                   India   NaN        NaN         460.295677\n",
      "        2019 A                   India   NaN        NaN        1366.417754\n",
      "             R                   India   NaN        NaN         895.386226\n",
      "             U                   India   NaN        NaN         471.031528\n",
      "27\n",
      "                           CountryName  Mean  HeadCount  ReqYearPopulation\n",
      "country year coverage_type                                                \n",
      "IND     2018 A                   India   NaN        NaN        1352.617328\n",
      "             R                   India   NaN        NaN         892.321651\n",
      "             U                   India   NaN        NaN         460.295677\n",
      "        2019 A                   India   NaN        NaN        1366.417754\n",
      "             R                   India   NaN        NaN         895.386226\n",
      "             U                   India   NaN        NaN         471.031528\n",
      "16\n",
      "                           CountryName  Mean  HeadCount  ReqYearPopulation\n",
      "country year coverage_type                                                \n",
      "IND     2018 A                   India   NaN        NaN        1352.617328\n",
      "             R                   India   NaN        NaN         892.321651\n",
      "             U                   India   NaN        NaN         460.295677\n",
      "        2019 A                   India   NaN        NaN        1366.417754\n",
      "             R                   India   NaN        NaN         895.386226\n",
      "             U                   India   NaN        NaN         471.031528\n",
      "6\n",
      "                           CountryName  Mean  HeadCount  ReqYearPopulation\n",
      "country year coverage_type                                                \n",
      "IND     2018 A                   India   NaN        NaN        1352.617328\n",
      "             R                   India   NaN        NaN         892.321651\n",
      "             U                   India   NaN        NaN         460.295677\n",
      "        2019 A                   India   NaN        NaN        1366.417754\n",
      "             R                   India   NaN        NaN         895.386226\n",
      "             U                   India   NaN        NaN         471.031528\n",
      "15\n",
      "                           CountryName  Mean  HeadCount  ReqYearPopulation\n",
      "country year coverage_type                                                \n",
      "IND     2018 A                   India   NaN        NaN        1352.617328\n",
      "             R                   India   NaN        NaN         892.321651\n",
      "             U                   India   NaN        NaN         460.295677\n",
      "        2019 A                   India   NaN        NaN        1366.417754\n",
      "             R                   India   NaN        NaN         895.386226\n",
      "             U                   India   NaN        NaN         471.031528\n",
      "5\n",
      "                           CountryName  Mean  HeadCount  ReqYearPopulation\n",
      "country year coverage_type                                                \n",
      "IND     2018 A                   India   NaN        NaN        1352.617328\n",
      "             R                   India   NaN        NaN         892.321651\n",
      "             U                   India   NaN        NaN         460.295677\n",
      "        2019 A                   India   NaN        NaN        1366.417754\n",
      "             R                   India   NaN        NaN         895.386226\n",
      "             U                   India   NaN        NaN         471.031528\n",
      "26\n",
      "                           CountryName  Mean  HeadCount  ReqYearPopulation\n",
      "country year coverage_type                                                \n",
      "IND     2018 A                   India   NaN        NaN        1352.617328\n",
      "             R                   India   NaN        NaN         892.321651\n",
      "             U                   India   NaN        NaN         460.295677\n",
      "        2019 A                   India   NaN        NaN        1366.417754\n",
      "             R                   India   NaN        NaN         895.386226\n",
      "             U                   India   NaN        NaN         471.031528\n",
      "14\n",
      "                           CountryName  Mean  HeadCount  ReqYearPopulation\n",
      "country year coverage_type                                                \n",
      "IND     2018 A                   India   NaN        NaN        1352.617328\n",
      "             R                   India   NaN        NaN         892.321651\n",
      "             U                   India   NaN        NaN         460.295677\n",
      "        2019 A                   India   NaN        NaN        1366.417754\n",
      "             R                   India   NaN        NaN         895.386226\n",
      "             U                   India   NaN        NaN         471.031528\n",
      "4\n",
      "                           CountryName  Mean  HeadCount  ReqYearPopulation\n",
      "country year coverage_type                                                \n",
      "IND     2018 A                   India   NaN        NaN        1352.617328\n",
      "             R                   India   NaN        NaN         892.321651\n",
      "             U                   India   NaN        NaN         460.295677\n",
      "        2019 A                   India   NaN        NaN        1366.417754\n",
      "             R                   India   NaN        NaN         895.386226\n",
      "             U                   India   NaN        NaN         471.031528\n",
      "25\n",
      "                           CountryName  Mean  HeadCount  ReqYearPopulation\n",
      "country year coverage_type                                                \n",
      "IND     2018 A                   India   NaN        NaN        1352.617328\n",
      "             R                   India   NaN        NaN         892.321651\n",
      "             U                   India   NaN        NaN         460.295677\n",
      "        2019 A                   India   NaN        NaN        1366.417754\n",
      "             R                   India   NaN        NaN         895.386226\n",
      "             U                   India   NaN        NaN         471.031528\n",
      "3\n",
      "                           CountryName  Mean  HeadCount  ReqYearPopulation\n",
      "country year coverage_type                                                \n",
      "IND     2018 A                   India   NaN        NaN        1352.617328\n",
      "             R                   India   NaN        NaN         892.321651\n",
      "             U                   India   NaN        NaN         460.295677\n",
      "        2019 A                   India   NaN        NaN        1366.417754\n",
      "             R                   India   NaN        NaN         895.386226\n",
      "             U                   India   NaN        NaN         471.031528\n"
     ]
    }
   ],
   "source": [
    "for k, df in res.items():\n",
    "    if df['HeadCount'].hasnans:\n",
    "        print(k)\n",
    "        print(df[pd.isnull(df['HeadCount'])])"
   ]
  },
  {
   "cell_type": "code",
   "execution_count": 9,
   "id": "77f55b36",
   "metadata": {},
   "outputs": [],
   "source": [
    "# So all of India 2018/19 are NaNs in it. let's drop them for now"
   ]
  },
  {
   "cell_type": "code",
   "execution_count": 10,
   "id": "bd07b0c9",
   "metadata": {},
   "outputs": [],
   "source": [
    "res1 = dict()\n",
    "for k, df in res.items():\n",
    "    res1[k] = df.dropna(how='any', subset=['HeadCount'])"
   ]
  },
  {
   "cell_type": "code",
   "execution_count": 11,
   "id": "4ad5319b",
   "metadata": {},
   "outputs": [],
   "source": [
    "# step2: subtract and get bracket head count"
   ]
  },
  {
   "cell_type": "code",
   "execution_count": 12,
   "id": "dcddb953",
   "metadata": {},
   "outputs": [],
   "source": [
    "res2 = {}\n",
    "\n",
    "for i in range(1, 200):\n",
    "    df1 = res1[i]\n",
    "    df2 = res1[i-1]\n",
    "    df3 = df1['HeadCount'] - df2['HeadCount']\n",
    "    res2[i-1] = df3"
   ]
  },
  {
   "cell_type": "code",
   "execution_count": 13,
   "id": "d424f6f9",
   "metadata": {},
   "outputs": [
    {
     "data": {
      "text/plain": [
       "country  year  coverage_type\n",
       "ALB      1981  N                0.000000e+00\n",
       "DZA      1981  N                0.000000e+00\n",
       "AGO      1981  N                0.000000e+00\n",
       "ARG      1981  U                3.310000e-07\n",
       "ARM      1981  N                2.689000e-07\n",
       "                                    ...     \n",
       "VNM      2019  N                0.000000e+00\n",
       "PSE      2019  N                0.000000e+00\n",
       "YEM      2019  N                0.000000e+00\n",
       "ZMB      2019  N                0.000000e+00\n",
       "ZWE      2019  N                0.000000e+00\n",
       "Name: HeadCount, Length: 6639, dtype: float64"
      ]
     },
     "execution_count": 13,
     "metadata": {},
     "output_type": "execute_result"
    }
   ],
   "source": [
    "res2[0]"
   ]
  },
  {
   "cell_type": "code",
   "execution_count": 14,
   "id": "5a184458",
   "metadata": {},
   "outputs": [],
   "source": [
    "# double check nans"
   ]
  },
  {
   "cell_type": "code",
   "execution_count": 15,
   "id": "4b59fd9c",
   "metadata": {},
   "outputs": [],
   "source": [
    "for k, df in res2.items():\n",
    "    if df.hasnans:\n",
    "        print(k)\n",
    "        print(df[pd.isnull(df)])"
   ]
  },
  {
   "cell_type": "code",
   "execution_count": 16,
   "id": "1711e73c",
   "metadata": {},
   "outputs": [],
   "source": [
    "# ok, looks good"
   ]
  },
  {
   "cell_type": "code",
   "execution_count": null,
   "id": "7a7fc85b",
   "metadata": {},
   "outputs": [],
   "source": []
  },
  {
   "cell_type": "code",
   "execution_count": 17,
   "id": "d062c4bd",
   "metadata": {},
   "outputs": [],
   "source": [
    "# step 3: create df with bracket info"
   ]
  },
  {
   "cell_type": "code",
   "execution_count": 18,
   "id": "91c93183",
   "metadata": {},
   "outputs": [],
   "source": [
    "res3 = []\n",
    "\n",
    "for k, v in res2.items():\n",
    "    df = v.reset_index()\n",
    "    df['bracket'] = k\n",
    "    df = df.set_index(['country', 'year', 'coverage_type', 'bracket'])\n",
    "    res3.append(df)"
   ]
  },
  {
   "cell_type": "code",
   "execution_count": 19,
   "id": "25f5a15f",
   "metadata": {},
   "outputs": [],
   "source": [
    "res3 = pd.concat(res3)"
   ]
  },
  {
   "cell_type": "code",
   "execution_count": 20,
   "id": "1f4773a5",
   "metadata": {},
   "outputs": [
    {
     "data": {
      "text/html": [
       "<div>\n",
       "<style scoped>\n",
       "    .dataframe tbody tr th:only-of-type {\n",
       "        vertical-align: middle;\n",
       "    }\n",
       "\n",
       "    .dataframe tbody tr th {\n",
       "        vertical-align: top;\n",
       "    }\n",
       "\n",
       "    .dataframe thead th {\n",
       "        text-align: right;\n",
       "    }\n",
       "</style>\n",
       "<table border=\"1\" class=\"dataframe\">\n",
       "  <thead>\n",
       "    <tr style=\"text-align: right;\">\n",
       "      <th></th>\n",
       "      <th></th>\n",
       "      <th></th>\n",
       "      <th></th>\n",
       "      <th>HeadCount</th>\n",
       "    </tr>\n",
       "    <tr>\n",
       "      <th>country</th>\n",
       "      <th>year</th>\n",
       "      <th>coverage_type</th>\n",
       "      <th>bracket</th>\n",
       "      <th></th>\n",
       "    </tr>\n",
       "  </thead>\n",
       "  <tbody>\n",
       "    <tr>\n",
       "      <th>ALB</th>\n",
       "      <th>1981</th>\n",
       "      <th>N</th>\n",
       "      <th>0</th>\n",
       "      <td>0.000000e+00</td>\n",
       "    </tr>\n",
       "    <tr>\n",
       "      <th>DZA</th>\n",
       "      <th>1981</th>\n",
       "      <th>N</th>\n",
       "      <th>0</th>\n",
       "      <td>0.000000e+00</td>\n",
       "    </tr>\n",
       "    <tr>\n",
       "      <th>AGO</th>\n",
       "      <th>1981</th>\n",
       "      <th>N</th>\n",
       "      <th>0</th>\n",
       "      <td>0.000000e+00</td>\n",
       "    </tr>\n",
       "    <tr>\n",
       "      <th>ARG</th>\n",
       "      <th>1981</th>\n",
       "      <th>U</th>\n",
       "      <th>0</th>\n",
       "      <td>3.310000e-07</td>\n",
       "    </tr>\n",
       "    <tr>\n",
       "      <th>ARM</th>\n",
       "      <th>1981</th>\n",
       "      <th>N</th>\n",
       "      <th>0</th>\n",
       "      <td>2.689000e-07</td>\n",
       "    </tr>\n",
       "    <tr>\n",
       "      <th>...</th>\n",
       "      <th>...</th>\n",
       "      <th>...</th>\n",
       "      <th>...</th>\n",
       "      <td>...</td>\n",
       "    </tr>\n",
       "    <tr>\n",
       "      <th>VNM</th>\n",
       "      <th>2019</th>\n",
       "      <th>N</th>\n",
       "      <th>198</th>\n",
       "      <td>0.000000e+00</td>\n",
       "    </tr>\n",
       "    <tr>\n",
       "      <th>PSE</th>\n",
       "      <th>2019</th>\n",
       "      <th>N</th>\n",
       "      <th>198</th>\n",
       "      <td>0.000000e+00</td>\n",
       "    </tr>\n",
       "    <tr>\n",
       "      <th>YEM</th>\n",
       "      <th>2019</th>\n",
       "      <th>N</th>\n",
       "      <th>198</th>\n",
       "      <td>0.000000e+00</td>\n",
       "    </tr>\n",
       "    <tr>\n",
       "      <th>ZMB</th>\n",
       "      <th>2019</th>\n",
       "      <th>N</th>\n",
       "      <th>198</th>\n",
       "      <td>0.000000e+00</td>\n",
       "    </tr>\n",
       "    <tr>\n",
       "      <th>ZWE</th>\n",
       "      <th>2019</th>\n",
       "      <th>N</th>\n",
       "      <th>198</th>\n",
       "      <td>0.000000e+00</td>\n",
       "    </tr>\n",
       "  </tbody>\n",
       "</table>\n",
       "<p>1321161 rows × 1 columns</p>\n",
       "</div>"
      ],
      "text/plain": [
       "                                       HeadCount\n",
       "country year coverage_type bracket              \n",
       "ALB     1981 N             0        0.000000e+00\n",
       "DZA     1981 N             0        0.000000e+00\n",
       "AGO     1981 N             0        0.000000e+00\n",
       "ARG     1981 U             0        3.310000e-07\n",
       "ARM     1981 N             0        2.689000e-07\n",
       "...                                          ...\n",
       "VNM     2019 N             198      0.000000e+00\n",
       "PSE     2019 N             198      0.000000e+00\n",
       "YEM     2019 N             198      0.000000e+00\n",
       "ZMB     2019 N             198      0.000000e+00\n",
       "ZWE     2019 N             198      0.000000e+00\n",
       "\n",
       "[1321161 rows x 1 columns]"
      ]
     },
     "execution_count": 20,
     "metadata": {},
     "output_type": "execute_result"
    }
   ],
   "source": [
    "res3"
   ]
  },
  {
   "cell_type": "code",
   "execution_count": null,
   "id": "1698a554",
   "metadata": {},
   "outputs": [],
   "source": []
  },
  {
   "cell_type": "code",
   "execution_count": 21,
   "id": "dba8bc8d",
   "metadata": {},
   "outputs": [
    {
     "data": {
      "text/plain": [
       "False"
      ]
     },
     "execution_count": 21,
     "metadata": {},
     "output_type": "execute_result"
    }
   ],
   "source": [
    "res3['HeadCount'].hasnans"
   ]
  },
  {
   "cell_type": "code",
   "execution_count": 22,
   "id": "7523546f",
   "metadata": {},
   "outputs": [],
   "source": [
    "# assume each group has 199 datapoints"
   ]
  },
  {
   "cell_type": "code",
   "execution_count": 23,
   "id": "3b674599",
   "metadata": {},
   "outputs": [],
   "source": [
    "gs = res3.groupby(['country', 'year', 'coverage_type'])\n",
    "for g in gs.groups.keys():\n",
    "    df = gs.get_group(g)\n",
    "    assert df.shape[0] == 199"
   ]
  },
  {
   "cell_type": "code",
   "execution_count": null,
   "id": "3a74d995",
   "metadata": {},
   "outputs": [],
   "source": []
  },
  {
   "cell_type": "code",
   "execution_count": 24,
   "id": "4979bac2",
   "metadata": {},
   "outputs": [],
   "source": [
    "# step 4: fix negative values, fix sum of all brackets > 1"
   ]
  },
  {
   "cell_type": "code",
   "execution_count": 25,
   "id": "9193b626",
   "metadata": {},
   "outputs": [],
   "source": [
    "import matplotlib.pyplot as plt\n",
    "%matplotlib inline"
   ]
  },
  {
   "cell_type": "code",
   "execution_count": 26,
   "id": "12bd30c2",
   "metadata": {},
   "outputs": [],
   "source": [
    "plt.rcParams['figure.figsize'] = [12, 8]"
   ]
  },
  {
   "cell_type": "code",
   "execution_count": 293,
   "id": "48e3ba38",
   "metadata": {},
   "outputs": [],
   "source": [
    "res4 = res3.copy()"
   ]
  },
  {
   "cell_type": "code",
   "execution_count": 294,
   "id": "ca5acb2b",
   "metadata": {},
   "outputs": [],
   "source": [
    "res4.loc[res4['HeadCount'] < 0, 'HeadCount'] = np.nan  # make negative values to nan"
   ]
  },
  {
   "cell_type": "code",
   "execution_count": 295,
   "id": "718cb090",
   "metadata": {},
   "outputs": [],
   "source": [
    "# also, drop all big noise. Notes on slack discussion"
   ]
  },
  {
   "cell_type": "code",
   "execution_count": 296,
   "id": "5d8008ad",
   "metadata": {},
   "outputs": [],
   "source": [
    "gs = res4.groupby(['country', 'year', 'coverage_type'])"
   ]
  },
  {
   "cell_type": "code",
   "execution_count": 297,
   "id": "765e24f1",
   "metadata": {},
   "outputs": [],
   "source": [
    "res5 = list()"
   ]
  },
  {
   "cell_type": "code",
   "execution_count": 298,
   "id": "c5c1995d",
   "metadata": {},
   "outputs": [],
   "source": [
    "for g in gs.groups.keys():\n",
    "    df = gs.get_group(g)\n",
    "    s = df['HeadCount'].copy()\n",
    "    todrop = set()\n",
    "    if s.hasnans:  # if negative values exists and sum bigger than 1\n",
    "        where = np.where(pd.isnull(s))[0]\n",
    "        for w in where:\n",
    "            todrop.add(w-1)\n",
    "            todrop.add(w)\n",
    "            todrop.add(w+1)\n",
    "        s.iloc[list(todrop)] = np.nan\n",
    "        res5.append(s)\n",
    "    else:\n",
    "        res5.append(s)"
   ]
  },
  {
   "cell_type": "code",
   "execution_count": 299,
   "id": "9ac56b8c",
   "metadata": {},
   "outputs": [],
   "source": [
    "res5 = pd.concat(res5)"
   ]
  },
  {
   "cell_type": "code",
   "execution_count": null,
   "id": "b1c9a10a",
   "metadata": {},
   "outputs": [],
   "source": []
  },
  {
   "cell_type": "code",
   "execution_count": 300,
   "id": "412ef197",
   "metadata": {},
   "outputs": [],
   "source": [
    "gs = res5.groupby(['country', 'year', 'coverage_type'])"
   ]
  },
  {
   "cell_type": "code",
   "execution_count": 301,
   "id": "86074fcb",
   "metadata": {},
   "outputs": [
    {
     "data": {
      "text/plain": [
       "country  year  coverage_type  bracket\n",
       "AGO      1981  N              0          0.0\n",
       "                              1          0.0\n",
       "                              2          0.0\n",
       "                              3          0.0\n",
       "                              4          0.0\n",
       "                                        ... \n",
       "ZWE      2019  N              194        0.0\n",
       "                              195        0.0\n",
       "                              196        0.0\n",
       "                              197        0.0\n",
       "                              198        0.0\n",
       "Name: HeadCount, Length: 1321161, dtype: float64"
      ]
     },
     "execution_count": 301,
     "metadata": {},
     "output_type": "execute_result"
    }
   ],
   "source": [
    "res5"
   ]
  },
  {
   "cell_type": "code",
   "execution_count": null,
   "id": "3421e67c",
   "metadata": {},
   "outputs": [],
   "source": []
  },
  {
   "cell_type": "code",
   "execution_count": 338,
   "id": "14f1c35d",
   "metadata": {
    "scrolled": false
   },
   "outputs": [],
   "source": [
    "# look for those sum bigger than 1\n",
    "for g in gs.groups.keys():\n",
    "    df = gs.get_group(g)\n",
    "    if df.sum() > 1.1:\n",
    "        print(g)"
   ]
  },
  {
   "cell_type": "code",
   "execution_count": 304,
   "id": "dce8a472",
   "metadata": {},
   "outputs": [
    {
     "data": {
      "text/plain": [
       "[<matplotlib.lines.Line2D at 0x7f5e8ef419a0>]"
      ]
     },
     "execution_count": 304,
     "metadata": {},
     "output_type": "execute_result"
    },
    {
     "data": {
      "image/png": "[encoded data removed]",
      "text/plain": [
       "<Figure size 864x576 with 1 Axes>"
      ]
     },
     "metadata": {
      "needs_background": "light"
     },
     "output_type": "display_data"
    }
   ],
   "source": [
    "gs = res5.groupby(['country', 'year', 'coverage_type'])\n",
    "df = gs.get_group(('STP', 1999, 'N'))\n",
    "plt.plot(df.values)"
   ]
  },
  {
   "cell_type": "code",
   "execution_count": 305,
   "id": "722cc4e1",
   "metadata": {},
   "outputs": [
    {
     "data": {
      "text/plain": [
       "[<matplotlib.lines.Line2D at 0x7f5e90712be0>]"
      ]
     },
     "execution_count": 305,
     "metadata": {},
     "output_type": "execute_result"
    },
    {
     "data": {
      "image/png": "[encoded data removed]",
      "text/plain": [
       "<Figure size 864x576 with 1 Axes>"
      ]
     },
     "metadata": {
      "needs_background": "light"
     },
     "output_type": "display_data"
    }
   ],
   "source": [
    "gs = res5.groupby(['country', 'year', 'coverage_type'])\n",
    "df = gs.get_group(('DEU', 2019, 'N'))\n",
    "plt.plot(df.values)"
   ]
  },
  {
   "cell_type": "code",
   "execution_count": 306,
   "id": "e71e0040",
   "metadata": {},
   "outputs": [
    {
     "data": {
      "text/plain": [
       "[<matplotlib.lines.Line2D at 0x7f5e9059e2e0>]"
      ]
     },
     "execution_count": 306,
     "metadata": {},
     "output_type": "execute_result"
    },
    {
     "data": {
      "image/png": "[encoded data removed]",
      "text/plain": [
       "<Figure size 864x576 with 1 Axes>"
      ]
     },
     "metadata": {
      "needs_background": "light"
     },
     "output_type": "display_data"
    }
   ],
   "source": [
    "gs = res5.groupby(['country', 'year', 'coverage_type'])\n",
    "df = gs.get_group(('PRY', 1999, 'N'))\n",
    "plt.plot(df.values)"
   ]
  },
  {
   "cell_type": "code",
   "execution_count": 40,
   "id": "901e6aec",
   "metadata": {},
   "outputs": [
    {
     "data": {
      "text/plain": [
       "[<matplotlib.lines.Line2D at 0x7f5ebc723610>]"
      ]
     },
     "execution_count": 40,
     "metadata": {},
     "output_type": "execute_result"
    },
    {
     "data": {
      "image/png": "[encoded data removed]",
      "text/plain": [
       "<Figure size 864x576 with 1 Axes>"
      ]
     },
     "metadata": {
      "needs_background": "light"
     },
     "output_type": "display_data"
    }
   ],
   "source": [
    "# before smoothing we need to interpolate the values\n",
    "# now we try if interpolating is ok\n",
    "gs = res5.groupby(['country', 'year', 'coverage_type'])\n",
    "df = gs.get_group(('DEU', 2019, 'N'))\n",
    "plt.plot(df.interpolate().values)"
   ]
  },
  {
   "cell_type": "code",
   "execution_count": null,
   "id": "1d8f69e6",
   "metadata": {},
   "outputs": [],
   "source": []
  },
  {
   "cell_type": "code",
   "execution_count": null,
   "id": "405958d6",
   "metadata": {},
   "outputs": [],
   "source": []
  },
  {
   "cell_type": "code",
   "execution_count": 41,
   "id": "e8f1cdee",
   "metadata": {},
   "outputs": [],
   "source": [
    "# step 5: smoothing them"
   ]
  },
  {
   "cell_type": "code",
   "execution_count": 42,
   "id": "4fc1218d",
   "metadata": {},
   "outputs": [],
   "source": [
    "sys.path.insert(0, '../scripts')\n",
    "import smoothlib"
   ]
  },
  {
   "cell_type": "code",
   "execution_count": 43,
   "id": "eb2b8944",
   "metadata": {},
   "outputs": [],
   "source": [
    "run_smooth = smoothlib.run_smooth"
   ]
  },
  {
   "cell_type": "code",
   "execution_count": 245,
   "id": "52cfad2a",
   "metadata": {},
   "outputs": [],
   "source": [
    "def func(x):\n",
    "    \"\"\"function to smooth a series\"\"\"\n",
    "    if x.hasnans:\n",
    "        x = x.interpolate()\n",
    "        if pd.isnull(x.iloc[0]):\n",
    "            x = x.fillna(0)\n",
    "    # x = x.reset_index(drop=True)\n",
    "    # run smoothing\n",
    "    std = x.std()\n",
    "    if std < 0.010:\n",
    "        res = run_smooth(x, 20, 6)\n",
    "        res = run_smooth(res, 16, 2)\n",
    "        res = run_smooth(res, 16, 1)\n",
    "        res = run_smooth(res, 10, 1)\n",
    "        res = run_smooth(res, 10, 0)\n",
    "    elif std < 0.012:\n",
    "        res = run_smooth(x, 20, 3)\n",
    "        res = run_smooth(res, 16, 2)\n",
    "        res = run_smooth(res, 16, 1)\n",
    "        res = run_smooth(res, 10, 0)\n",
    "        res = run_smooth(res, 8, 0)\n",
    "    else:\n",
    "        res = run_smooth(x, 20, 1)\n",
    "        res = run_smooth(res, 16, 1)\n",
    "        res = run_smooth(res, 16, 0)\n",
    "        res = run_smooth(res, 10, 0)\n",
    "        res = run_smooth(res, 8, 0)\n",
    "    # also, make sure it will sum up to 100%\n",
    "    res = res / res.sum()\n",
    "    return res"
   ]
  },
  {
   "cell_type": "code",
   "execution_count": 307,
   "id": "5705121b",
   "metadata": {
    "scrolled": false
   },
   "outputs": [],
   "source": [
    "gs = res5.groupby(['country', 'year', 'coverage_type'])"
   ]
  },
  {
   "cell_type": "code",
   "execution_count": 334,
   "id": "44fbc9e4",
   "metadata": {},
   "outputs": [],
   "source": [
    "df = gs.get_group(('EGY', 1999, 'N'))\n",
    "#df = gs.get_group(('SUR', 1983, 'U'))"
   ]
  },
  {
   "cell_type": "code",
   "execution_count": 335,
   "id": "8e925d5c",
   "metadata": {},
   "outputs": [
    {
     "data": {
      "text/plain": [
       "0.013903613803964637"
      ]
     },
     "execution_count": 335,
     "metadata": {},
     "output_type": "execute_result"
    }
   ],
   "source": [
    "df.std()"
   ]
  },
  {
   "cell_type": "code",
   "execution_count": 336,
   "id": "46dbe4a0",
   "metadata": {},
   "outputs": [],
   "source": [
    "s = func(df)"
   ]
  },
  {
   "cell_type": "code",
   "execution_count": 337,
   "id": "43553ab1",
   "metadata": {},
   "outputs": [
    {
     "data": {
      "text/plain": [
       "[<matplotlib.lines.Line2D at 0x7f5e8dbb79a0>]"
      ]
     },
     "execution_count": 337,
     "metadata": {},
     "output_type": "execute_result"
    },
    {
     "data": {
      "image/png": "[encoded data removed]",
      "text/plain": [
       "<Figure size 864x576 with 1 Axes>"
      ]
     },
     "metadata": {
      "needs_background": "light"
     },
     "output_type": "display_data"
    }
   ],
   "source": [
    "plt.plot(s)\n",
    "plt.plot(df.values, alpha=.5)"
   ]
  },
  {
   "cell_type": "code",
   "execution_count": 292,
   "id": "df70e073",
   "metadata": {},
   "outputs": [
    {
     "data": {
      "text/plain": [
       "CategoricalIndex(['U'], categories=['N', 'A', 'U', 'R'], ordered=True, dtype='category', name='coverage_type')"
      ]
     },
     "execution_count": 292,
     "metadata": {},
     "output_type": "execute_result"
    }
   ],
   "source": [
    "res5.loc['SUR'].index.get_level_values('coverage_type').unique()"
   ]
  },
  {
   "cell_type": "code",
   "execution_count": null,
   "id": "ef9f89ac",
   "metadata": {},
   "outputs": [],
   "source": []
  },
  {
   "cell_type": "code",
   "execution_count": null,
   "id": "ef190d38",
   "metadata": {},
   "outputs": [],
   "source": []
  },
  {
   "cell_type": "code",
   "execution_count": 50,
   "id": "41d001da",
   "metadata": {},
   "outputs": [
    {
     "data": {
      "text/plain": [
       "('PAK', 2000, 'N', 0)"
      ]
     },
     "execution_count": 50,
     "metadata": {},
     "output_type": "execute_result"
    }
   ],
   "source": [
    "df.index[0]"
   ]
  },
  {
   "cell_type": "code",
   "execution_count": 51,
   "id": "3b9bd30b",
   "metadata": {},
   "outputs": [],
   "source": [
    "def process(ser):\n",
    "    idx = ser.index\n",
    "    try:\n",
    "        s_new = func(ser)\n",
    "        s_new.index = idx\n",
    "    except:\n",
    "        print(idx[0])\n",
    "        return pd.Series()\n",
    "    return s_new"
   ]
  },
  {
   "cell_type": "code",
   "execution_count": 52,
   "id": "5e97874d",
   "metadata": {},
   "outputs": [
    {
     "data": {
      "text/plain": [
       "country  year  coverage_type  bracket\n",
       "PAK      2000  N              0           0.000000e+00\n",
       "                              1           0.000000e+00\n",
       "                              2          4.940656e-324\n",
       "                              3          4.940656e-324\n",
       "                              4          4.940656e-324\n",
       "                                             ...      \n",
       "                              194         9.457467e-10\n",
       "                              195         6.099754e-10\n",
       "                              196         3.764365e-10\n",
       "                              197         2.204129e-10\n",
       "                              198         1.213123e-10\n",
       "Length: 199, dtype: float64"
      ]
     },
     "execution_count": 52,
     "metadata": {},
     "output_type": "execute_result"
    }
   ],
   "source": [
    "process(df)"
   ]
  },
  {
   "cell_type": "code",
   "execution_count": 53,
   "id": "e0fcae0c",
   "metadata": {},
   "outputs": [],
   "source": [
    "from multiprocessing import Pool"
   ]
  },
  {
   "cell_type": "code",
   "execution_count": 54,
   "id": "0043b7e8",
   "metadata": {},
   "outputs": [],
   "source": [
    "d1 = gs.get_group(('PAK', 2000, 'N'))\n",
    "d2 = gs.get_group(('USA', 2000, 'N'))"
   ]
  },
  {
   "cell_type": "code",
   "execution_count": 55,
   "id": "6cc07e83",
   "metadata": {},
   "outputs": [],
   "source": [
    "with Pool(7) as p:\n",
    "    res6 = p.map(process, [d1, d2])"
   ]
  },
  {
   "cell_type": "code",
   "execution_count": 56,
   "id": "9ed591ca",
   "metadata": {},
   "outputs": [
    {
     "data": {
      "text/plain": [
       "country  year  coverage_type  bracket\n",
       "PAK      2000  N              0           0.000000e+00\n",
       "                              1           0.000000e+00\n",
       "                              2          4.940656e-324\n",
       "                              3          4.940656e-324\n",
       "                              4          4.940656e-324\n",
       "                                             ...      \n",
       "USA      2000  N              194         6.468461e-07\n",
       "                              195         3.215924e-07\n",
       "                              196         1.373022e-07\n",
       "                              197         4.576742e-08\n",
       "                              198         9.153483e-09\n",
       "Length: 398, dtype: float64"
      ]
     },
     "execution_count": 56,
     "metadata": {},
     "output_type": "execute_result"
    }
   ],
   "source": [
    "pd.concat(res6)"
   ]
  },
  {
   "cell_type": "code",
   "execution_count": 57,
   "id": "1802baaa",
   "metadata": {},
   "outputs": [],
   "source": [
    "to_smooth = list()\n",
    "for g, df in gs:\n",
    "    to_smooth.append(df)"
   ]
  },
  {
   "cell_type": "code",
   "execution_count": 58,
   "id": "527b1b4c",
   "metadata": {},
   "outputs": [
    {
     "data": {
      "text/plain": [
       "6639"
      ]
     },
     "execution_count": 58,
     "metadata": {},
     "output_type": "execute_result"
    }
   ],
   "source": [
    "len(to_smooth)"
   ]
  },
  {
   "cell_type": "code",
   "execution_count": 59,
   "id": "d1ea0af1",
   "metadata": {},
   "outputs": [
    {
     "name": "stderr",
     "output_type": "stream",
     "text": [
      "/usr/local/lib/python3.8/site-packages/scipy/optimize/minpack.py:828: OptimizeWarning: Covariance of the parameters could not be estimated\n",
      "  warnings.warn('Covariance of the parameters could not be estimated',\n"
     ]
    },
    {
     "name": "stdout",
     "output_type": "stream",
     "text": [
      "('CHN', 1981, 'A', 0)\n"
     ]
    },
    {
     "name": "stderr",
     "output_type": "stream",
     "text": [
      "<ipython-input-51-b66fb3d3fe6b>:8: DeprecationWarning: The default dtype for empty Series will be 'object' instead of 'float64' in a future version. Specify a dtype explicitly to silence this warning.\n",
      "  return pd.Series()\n"
     ]
    },
    {
     "name": "stdout",
     "output_type": "stream",
     "text": [
      "('CHN', 1981, 'R', 0)\n"
     ]
    },
    {
     "name": "stderr",
     "output_type": "stream",
     "text": [
      "/usr/local/lib/python3.8/site-packages/scipy/optimize/minpack.py:828: OptimizeWarning: Covariance of the parameters could not be estimated\n",
      "  warnings.warn('Covariance of the parameters could not be estimated',\n"
     ]
    },
    {
     "name": "stdout",
     "output_type": "stream",
     "text": [
      "('CHN', 1986, 'A', 0)\n",
      "('CHN', 1986, 'U', 0)\n"
     ]
    },
    {
     "name": "stderr",
     "output_type": "stream",
     "text": [
      "/usr/local/lib/python3.8/site-packages/scipy/optimize/minpack.py:828: OptimizeWarning: Covariance of the parameters could not be estimated\n",
      "  warnings.warn('Covariance of the parameters could not be estimated',\n",
      "/usr/local/lib/python3.8/site-packages/scipy/optimize/minpack.py:828: OptimizeWarning: Covariance of the parameters could not be estimated\n",
      "  warnings.warn('Covariance of the parameters could not be estimated',\n"
     ]
    },
    {
     "name": "stdout",
     "output_type": "stream",
     "text": [
      "('SUR', 1982, 'U', 0)\n"
     ]
    },
    {
     "name": "stderr",
     "output_type": "stream",
     "text": [
      "<ipython-input-51-b66fb3d3fe6b>:8: DeprecationWarning: The default dtype for empty Series will be 'object' instead of 'float64' in a future version. Specify a dtype explicitly to silence this warning.\n",
      "  return pd.Series()\n"
     ]
    },
    {
     "name": "stdout",
     "output_type": "stream",
     "text": [
      "('SWZ', 1981, 'N', 0)\n"
     ]
    },
    {
     "name": "stderr",
     "output_type": "stream",
     "text": [
      "<ipython-input-51-b66fb3d3fe6b>:8: DeprecationWarning: The default dtype for empty Series will be 'object' instead of 'float64' in a future version. Specify a dtype explicitly to silence this warning.\n",
      "  return pd.Series()\n"
     ]
    },
    {
     "name": "stdout",
     "output_type": "stream",
     "text": [
      "('SWZ', 1982, 'N', 0)\n",
      "('SWZ', 1983, 'N', 0)\n",
      "('SWZ', 1984, 'N', 0)\n",
      "('SWZ', 1985, 'N', 0)\n",
      "('SUR', 1984, 'U', 0)\n",
      "('SUR', 1990, 'U', 0)\n",
      "('SWZ', 2000, 'N', 0)\n",
      "('SUR', 1999, 'U', 0)\n",
      "('SUR', 2019, 'U', 0)\n"
     ]
    }
   ],
   "source": [
    "with Pool(11) as p:\n",
    "    res6 = p.map(process, to_smooth)"
   ]
  },
  {
   "cell_type": "code",
   "execution_count": 72,
   "id": "7fe7ee6e",
   "metadata": {},
   "outputs": [],
   "source": [
    "missing = [\n",
    "    ('CHN', 1981, 'A'),\n",
    "    ('CHN', 1981, 'R'),\n",
    "    ('CHN', 1986, 'A'),\n",
    "    ('CHN', 1986, 'U'),\n",
    "    ('SUR', 1982, 'U'),\n",
    "    ('SWZ', 1981, 'N'),\n",
    "    ('SWZ', 1982, 'N'),\n",
    "    ('SWZ', 1983, 'N'),\n",
    "    ('SWZ', 1984, 'N'),\n",
    "    ('SWZ', 1985, 'N'),\n",
    "    ('SUR', 1984, 'U'),\n",
    "    ('SUR', 1990, 'U'),\n",
    "    ('SWZ', 2000, 'N'),\n",
    "    ('SUR', 1999, 'U'),\n",
    "    ('SUR', 2019, 'U'),\n",
    "]"
   ]
  },
  {
   "cell_type": "code",
   "execution_count": 75,
   "id": "4f4a5728",
   "metadata": {},
   "outputs": [
    {
     "data": {
      "text/plain": [
       "country  year  coverage_type  bracket\n",
       "SUR      1982  U              0          0.000000\n",
       "                              1          0.003542\n",
       "                              2          0.000000\n",
       "                              3          0.000000\n",
       "                              4          0.000000\n",
       "                                           ...   \n",
       "                              194        0.000000\n",
       "                              195        0.000000\n",
       "                              196        0.000000\n",
       "                              197        0.000000\n",
       "                              198        0.000000\n",
       "Name: HeadCount, Length: 199, dtype: float64"
      ]
     },
     "execution_count": 75,
     "metadata": {},
     "output_type": "execute_result"
    }
   ],
   "source": [
    "t = gs.get_group(('SUR', 1982, 'U'))\n",
    "t"
   ]
  },
  {
   "cell_type": "code",
   "execution_count": 78,
   "id": "ddc51480",
   "metadata": {},
   "outputs": [
    {
     "data": {
      "text/plain": [
       "False"
      ]
     },
     "execution_count": 78,
     "metadata": {},
     "output_type": "execute_result"
    }
   ],
   "source": [
    "t.hasnans"
   ]
  },
  {
   "cell_type": "code",
   "execution_count": 77,
   "id": "3200ab3c",
   "metadata": {},
   "outputs": [
    {
     "data": {
      "text/plain": [
       "[<matplotlib.lines.Line2D at 0x8a7adffa0>]"
      ]
     },
     "execution_count": 77,
     "metadata": {},
     "output_type": "execute_result"
    },
    {
     "data": {
      "image/png": "[encoded data removed]",
      "text/plain": [
       "<Figure size 864x576 with 1 Axes>"
      ]
     },
     "metadata": {
      "needs_background": "light"
     },
     "output_type": "display_data"
    }
   ],
   "source": [
    "plt.plot(t.values)"
   ]
  },
  {
   "cell_type": "code",
   "execution_count": 86,
   "id": "ae4a39a7",
   "metadata": {},
   "outputs": [],
   "source": [
    "run_smooth = smoothlib.run_smooth"
   ]
  },
  {
   "cell_type": "code",
   "execution_count": 87,
   "id": "d9d5001e",
   "metadata": {},
   "outputs": [
    {
     "data": {
      "text/plain": [
       "0      0.000015\n",
       "1      0.000017\n",
       "2      0.000019\n",
       "3      0.000021\n",
       "4      0.000023\n",
       "         ...   \n",
       "194    0.000000\n",
       "195    0.000000\n",
       "196    0.000000\n",
       "197    0.000000\n",
       "198    0.000000\n",
       "Length: 199, dtype: float64"
      ]
     },
     "execution_count": 87,
     "metadata": {},
     "output_type": "execute_result"
    }
   ],
   "source": [
    "func(t)"
   ]
  },
  {
   "cell_type": "code",
   "execution_count": 88,
   "id": "19114dbe",
   "metadata": {},
   "outputs": [
    {
     "name": "stdout",
     "output_type": "stream",
     "text": [
      "('CHN', 1981, 'A')\n",
      "('CHN', 1981, 'R')\n",
      "('CHN', 1986, 'A')\n",
      "('CHN', 1986, 'U')\n",
      "('SUR', 1982, 'U')\n",
      "('SWZ', 1981, 'N')\n",
      "('SWZ', 1982, 'N')\n",
      "('SWZ', 1983, 'N')\n",
      "('SWZ', 1984, 'N')\n",
      "('SWZ', 1985, 'N')\n",
      "('SUR', 1984, 'U')\n",
      "('SUR', 1990, 'U')\n",
      "('SWZ', 2000, 'N')\n",
      "('SUR', 1999, 'U')\n",
      "('SUR', 2019, 'U')\n"
     ]
    }
   ],
   "source": [
    "for g in missing:\n",
    "    print(g)\n",
    "    t = gs.get_group(g)\n",
    "    func(t)"
   ]
  },
  {
   "cell_type": "code",
   "execution_count": null,
   "id": "bf4ab026",
   "metadata": {},
   "outputs": [],
   "source": []
  },
  {
   "cell_type": "code",
   "execution_count": 93,
   "id": "5d8700f2",
   "metadata": {},
   "outputs": [],
   "source": [
    "res7 = [x for x in res6 if not x.empty]"
   ]
  },
  {
   "cell_type": "code",
   "execution_count": null,
   "id": "45a82fb5",
   "metadata": {},
   "outputs": [],
   "source": []
  },
  {
   "cell_type": "code",
   "execution_count": 94,
   "id": "187d4d50",
   "metadata": {},
   "outputs": [],
   "source": [
    "for g in missing:\n",
    "    # print(g)\n",
    "    t = gs.get_group(g)\n",
    "    res7.append(process(t))"
   ]
  },
  {
   "cell_type": "code",
   "execution_count": null,
   "id": "f3ed7689",
   "metadata": {},
   "outputs": [],
   "source": []
  },
  {
   "cell_type": "code",
   "execution_count": 95,
   "id": "6f1b1f00",
   "metadata": {},
   "outputs": [],
   "source": [
    "res7 = pd.concat(res7)"
   ]
  },
  {
   "cell_type": "code",
   "execution_count": 96,
   "id": "50121a3e",
   "metadata": {},
   "outputs": [
    {
     "data": {
      "text/plain": [
       "country  year  coverage_type  bracket\n",
       "AGO      1981  N              0           1.502705e-05\n",
       "                              1           1.777000e-05\n",
       "                              2           2.081764e-05\n",
       "                              3           2.411089e-05\n",
       "                              4           2.775329e-05\n",
       "                                             ...      \n",
       "SUR      2019  U              194         0.000000e+00\n",
       "                              195         0.000000e+00\n",
       "                              196         0.000000e+00\n",
       "                              197       -4.940656e-324\n",
       "                              198         0.000000e+00\n",
       "Length: 1321161, dtype: float64"
      ]
     },
     "execution_count": 96,
     "metadata": {},
     "output_type": "execute_result"
    }
   ],
   "source": [
    "res7"
   ]
  },
  {
   "cell_type": "code",
   "execution_count": 98,
   "id": "fab7f7b2",
   "metadata": {},
   "outputs": [],
   "source": [
    "res7.name = 'population_percentage'\n",
    "res7 = res7.reset_index()"
   ]
  },
  {
   "cell_type": "code",
   "execution_count": 100,
   "id": "bf700462",
   "metadata": {},
   "outputs": [],
   "source": [
    "res7['country'] = res7['country'].map(str.lower)\n",
    "res7['coverage_type'] = res7['coverage_type'].map(str.lower)"
   ]
  },
  {
   "cell_type": "code",
   "execution_count": 101,
   "id": "b87b1be7",
   "metadata": {},
   "outputs": [],
   "source": [
    "from ddf_utils.str import format_float_digits"
   ]
  },
  {
   "cell_type": "code",
   "execution_count": 102,
   "id": "3641deac",
   "metadata": {},
   "outputs": [],
   "source": [
    "from functools import partial"
   ]
  },
  {
   "cell_type": "code",
   "execution_count": 103,
   "id": "e5d3379e",
   "metadata": {},
   "outputs": [],
   "source": [
    "formattor = partial(format_float_digits, digits=6)"
   ]
  },
  {
   "cell_type": "code",
   "execution_count": 104,
   "id": "3f76c70f",
   "metadata": {},
   "outputs": [],
   "source": [
    "res7['population_percentage'] = res7['population_percentage'].map(formattor)"
   ]
  },
  {
   "cell_type": "code",
   "execution_count": 106,
   "id": "17cadd16",
   "metadata": {},
   "outputs": [],
   "source": [
    "!mkdir ../wip/smoothmountain"
   ]
  },
  {
   "cell_type": "code",
   "execution_count": 107,
   "id": "72f2ade8",
   "metadata": {},
   "outputs": [],
   "source": [
    "res7.to_csv('../wip/smoothmountain/ddf--datapoints--population_percentage--by--country--year--coverage_type--bracket.csv', index=False)"
   ]
  },
  {
   "cell_type": "code",
   "execution_count": null,
   "id": "c220ff48",
   "metadata": {},
   "outputs": [],
   "source": []
  },
  {
   "cell_type": "code",
   "execution_count": null,
   "id": "13ec59f5",
   "metadata": {},
   "outputs": [],
   "source": []
  },
  {
   "cell_type": "code",
   "execution_count": 2,
   "id": "78e33004",
   "metadata": {},
   "outputs": [],
   "source": [
    "# step 8: calculate shape"
   ]
  },
  {
   "cell_type": "code",
   "execution_count": 21,
   "id": "dacbe8b4",
   "metadata": {},
   "outputs": [],
   "source": [
    "all_brackets = np.logspace(-7, 13, 200, endpoint=True, base=2)\n",
    "brackets = pd.DataFrame({'start': all_brackets, 'end': pd.Series(all_brackets).shift(-1)})\n",
    "brackets_log = brackets.iloc[:-1].copy()\n",
    "brackets_log['start'] = np.log2(brackets_log['start'])\n",
    "brackets_log['end'] = np.log2(brackets_log['end'])\n",
    "brackets_log['d'] = brackets_log.end - brackets_log.start\n",
    "delta = brackets_log['d'].iloc[0]"
   ]
  },
  {
   "cell_type": "code",
   "execution_count": null,
   "id": "7bb08d5d",
   "metadata": {},
   "outputs": [],
   "source": []
  },
  {
   "cell_type": "code",
   "execution_count": 3,
   "id": "cf4e99f0",
   "metadata": {},
   "outputs": [],
   "source": [
    "def bracket_number_from_income(s):\n",
    "    return ((np.log2(s / 30) + 7) / delta).astype(int)"
   ]
  },
  {
   "cell_type": "code",
   "execution_count": 4,
   "id": "fe87b551",
   "metadata": {},
   "outputs": [],
   "source": [
    "mean = pd.read_csv('../wip/mean_income-by-country-year-coverage_type.csv')"
   ]
  },
  {
   "cell_type": "code",
   "execution_count": 6,
   "id": "36c4b3b1",
   "metadata": {},
   "outputs": [
    {
     "data": {
      "text/plain": [
       "True"
      ]
     },
     "execution_count": 6,
     "metadata": {},
     "output_type": "execute_result"
    }
   ],
   "source": [
    "mean['Mean'].hasnans"
   ]
  },
  {
   "cell_type": "code",
   "execution_count": 30,
   "id": "72d4ccb0",
   "metadata": {},
   "outputs": [],
   "source": [
    "res7 = pd.read_csv(\n",
    "    '../wip/smoothmountain/ddf--datapoints--population_percentage--by--country--year--coverage_type--bracket.csv',\n",
    "    dtype={'population_percentage': str})"
   ]
  },
  {
   "cell_type": "code",
   "execution_count": 16,
   "id": "be127821",
   "metadata": {},
   "outputs": [],
   "source": [
    "mean = mean.set_index(['country', 'year', 'coverage_type'])"
   ]
  },
  {
   "cell_type": "code",
   "execution_count": 31,
   "id": "082f7a23",
   "metadata": {},
   "outputs": [],
   "source": [
    "res7 = res7.set_index(['country', 'year', 'coverage_type'])"
   ]
  },
  {
   "cell_type": "code",
   "execution_count": 32,
   "id": "c2f02942",
   "metadata": {},
   "outputs": [],
   "source": [
    "gs = res7.groupby(['country', 'year', 'coverage_type'])"
   ]
  },
  {
   "cell_type": "code",
   "execution_count": 33,
   "id": "f07f5dd4",
   "metadata": {
    "scrolled": true
   },
   "outputs": [],
   "source": [
    "res8 = []\n",
    "for g, df in gs:\n",
    "    df_ = df.copy()\n",
    "    g_ = (g[0].upper(), g[1], g[2].upper())\n",
    "    m = mean.loc[g_, 'Mean']\n",
    "    b = bracket_number_from_income(m)\n",
    "    df_['bracket'] = df_['bracket'] - b\n",
    "    res8.append(df_)"
   ]
  },
  {
   "cell_type": "code",
   "execution_count": 34,
   "id": "578adbee",
   "metadata": {},
   "outputs": [],
   "source": [
    "res8 = pd.concat(res8)"
   ]
  },
  {
   "cell_type": "code",
   "execution_count": 35,
   "id": "1676b16e",
   "metadata": {},
   "outputs": [
    {
     "data": {
      "text/html": [
       "<div>\n",
       "<style scoped>\n",
       "    .dataframe tbody tr th:only-of-type {\n",
       "        vertical-align: middle;\n",
       "    }\n",
       "\n",
       "    .dataframe tbody tr th {\n",
       "        vertical-align: top;\n",
       "    }\n",
       "\n",
       "    .dataframe thead th {\n",
       "        text-align: right;\n",
       "    }\n",
       "</style>\n",
       "<table border=\"1\" class=\"dataframe\">\n",
       "  <thead>\n",
       "    <tr style=\"text-align: right;\">\n",
       "      <th></th>\n",
       "      <th></th>\n",
       "      <th></th>\n",
       "      <th>bracket</th>\n",
       "      <th>population_percentage</th>\n",
       "    </tr>\n",
       "    <tr>\n",
       "      <th>country</th>\n",
       "      <th>year</th>\n",
       "      <th>coverage_type</th>\n",
       "      <th></th>\n",
       "      <th></th>\n",
       "    </tr>\n",
       "  </thead>\n",
       "  <tbody>\n",
       "    <tr>\n",
       "      <th rowspan=\"5\" valign=\"top\">ago</th>\n",
       "      <th rowspan=\"5\" valign=\"top\">1981</th>\n",
       "      <th>n</th>\n",
       "      <td>-94</td>\n",
       "      <td>0.000015</td>\n",
       "    </tr>\n",
       "    <tr>\n",
       "      <th>n</th>\n",
       "      <td>-93</td>\n",
       "      <td>0.000018</td>\n",
       "    </tr>\n",
       "    <tr>\n",
       "      <th>n</th>\n",
       "      <td>-92</td>\n",
       "      <td>0.000021</td>\n",
       "    </tr>\n",
       "    <tr>\n",
       "      <th>n</th>\n",
       "      <td>-91</td>\n",
       "      <td>0.000024</td>\n",
       "    </tr>\n",
       "    <tr>\n",
       "      <th>n</th>\n",
       "      <td>-90</td>\n",
       "      <td>0.000028</td>\n",
       "    </tr>\n",
       "    <tr>\n",
       "      <th>...</th>\n",
       "      <th>...</th>\n",
       "      <th>...</th>\n",
       "      <td>...</td>\n",
       "      <td>...</td>\n",
       "    </tr>\n",
       "    <tr>\n",
       "      <th rowspan=\"5\" valign=\"top\">zwe</th>\n",
       "      <th rowspan=\"5\" valign=\"top\">2019</th>\n",
       "      <th>n</th>\n",
       "      <td>105</td>\n",
       "      <td>0.000001</td>\n",
       "    </tr>\n",
       "    <tr>\n",
       "      <th>n</th>\n",
       "      <td>106</td>\n",
       "      <td>0.000001</td>\n",
       "    </tr>\n",
       "    <tr>\n",
       "      <th>n</th>\n",
       "      <td>107</td>\n",
       "      <td>0</td>\n",
       "    </tr>\n",
       "    <tr>\n",
       "      <th>n</th>\n",
       "      <td>108</td>\n",
       "      <td>0</td>\n",
       "    </tr>\n",
       "    <tr>\n",
       "      <th>n</th>\n",
       "      <td>109</td>\n",
       "      <td>0</td>\n",
       "    </tr>\n",
       "  </tbody>\n",
       "</table>\n",
       "<p>1321161 rows × 2 columns</p>\n",
       "</div>"
      ],
      "text/plain": [
       "                            bracket population_percentage\n",
       "country year coverage_type                               \n",
       "ago     1981 n                  -94              0.000015\n",
       "             n                  -93              0.000018\n",
       "             n                  -92              0.000021\n",
       "             n                  -91              0.000024\n",
       "             n                  -90              0.000028\n",
       "...                             ...                   ...\n",
       "zwe     2019 n                  105              0.000001\n",
       "             n                  106              0.000001\n",
       "             n                  107                     0\n",
       "             n                  108                     0\n",
       "             n                  109                     0\n",
       "\n",
       "[1321161 rows x 2 columns]"
      ]
     },
     "execution_count": 35,
     "metadata": {},
     "output_type": "execute_result"
    }
   ],
   "source": [
    "res8"
   ]
  },
  {
   "cell_type": "code",
   "execution_count": 25,
   "id": "d6a71eae",
   "metadata": {},
   "outputs": [],
   "source": [
    "!mkdir ../wip/smoothshape"
   ]
  },
  {
   "cell_type": "code",
   "execution_count": 36,
   "id": "87c95cef",
   "metadata": {},
   "outputs": [],
   "source": [
    "res8.to_csv('../wip/smoothshape/ddf--datapoints--population_percentage--by--country--year--coverage_type--bracket.csv')"
   ]
  },
  {
   "cell_type": "code",
   "execution_count": 42,
   "id": "8795392d",
   "metadata": {},
   "outputs": [],
   "source": [
    "res8 = res8.drop(columns=['index'])"
   ]
  },
  {
   "cell_type": "code",
   "execution_count": 43,
   "id": "e2dfdb1e",
   "metadata": {},
   "outputs": [],
   "source": [
    "# res8 = res8.reset_index()\n",
    "res8.columns = ['country', 'year', 'coverage_type', 'relative_bracket', 'income_mountain_relative_bracket_shape_for_log']"
   ]
  },
  {
   "cell_type": "code",
   "execution_count": 44,
   "id": "7878f0f0",
   "metadata": {},
   "outputs": [],
   "source": [
    "res8.to_csv('../../ddf--datapoints--income_mountain_relative_bracket_shape_for_log--by--country--year--coverage_type--relative_bracket.csv')"
   ]
  },
  {
   "cell_type": "code",
   "execution_count": 29,
   "id": "cc26e69b",
   "metadata": {},
   "outputs": [
    {
     "data": {
      "text/html": [
       "<div>\n",
       "<style scoped>\n",
       "    .dataframe tbody tr th:only-of-type {\n",
       "        vertical-align: middle;\n",
       "    }\n",
       "\n",
       "    .dataframe tbody tr th {\n",
       "        vertical-align: top;\n",
       "    }\n",
       "\n",
       "    .dataframe thead th {\n",
       "        text-align: right;\n",
       "    }\n",
       "</style>\n",
       "<table border=\"1\" class=\"dataframe\">\n",
       "  <thead>\n",
       "    <tr style=\"text-align: right;\">\n",
       "      <th></th>\n",
       "      <th></th>\n",
       "      <th></th>\n",
       "      <th>bracket</th>\n",
       "      <th>population_percentage</th>\n",
       "    </tr>\n",
       "    <tr>\n",
       "      <th>country</th>\n",
       "      <th>year</th>\n",
       "      <th>coverage_type</th>\n",
       "      <th></th>\n",
       "      <th></th>\n",
       "    </tr>\n",
       "  </thead>\n",
       "  <tbody>\n",
       "    <tr>\n",
       "      <th rowspan=\"5\" valign=\"top\">ago</th>\n",
       "      <th rowspan=\"5\" valign=\"top\">1981</th>\n",
       "      <th>n</th>\n",
       "      <td>-94</td>\n",
       "      <td>0.000015</td>\n",
       "    </tr>\n",
       "    <tr>\n",
       "      <th>n</th>\n",
       "      <td>-93</td>\n",
       "      <td>0.000018</td>\n",
       "    </tr>\n",
       "    <tr>\n",
       "      <th>n</th>\n",
       "      <td>-92</td>\n",
       "      <td>0.000021</td>\n",
       "    </tr>\n",
       "    <tr>\n",
       "      <th>n</th>\n",
       "      <td>-91</td>\n",
       "      <td>0.000024</td>\n",
       "    </tr>\n",
       "    <tr>\n",
       "      <th>n</th>\n",
       "      <td>-90</td>\n",
       "      <td>0.000028</td>\n",
       "    </tr>\n",
       "    <tr>\n",
       "      <th>...</th>\n",
       "      <th>...</th>\n",
       "      <th>...</th>\n",
       "      <td>...</td>\n",
       "      <td>...</td>\n",
       "    </tr>\n",
       "    <tr>\n",
       "      <th rowspan=\"5\" valign=\"top\">zwe</th>\n",
       "      <th rowspan=\"5\" valign=\"top\">2019</th>\n",
       "      <th>n</th>\n",
       "      <td>105</td>\n",
       "      <td>0.000001</td>\n",
       "    </tr>\n",
       "    <tr>\n",
       "      <th>n</th>\n",
       "      <td>106</td>\n",
       "      <td>0.000001</td>\n",
       "    </tr>\n",
       "    <tr>\n",
       "      <th>n</th>\n",
       "      <td>107</td>\n",
       "      <td>0.000000</td>\n",
       "    </tr>\n",
       "    <tr>\n",
       "      <th>n</th>\n",
       "      <td>108</td>\n",
       "      <td>0.000000</td>\n",
       "    </tr>\n",
       "    <tr>\n",
       "      <th>n</th>\n",
       "      <td>109</td>\n",
       "      <td>0.000000</td>\n",
       "    </tr>\n",
       "  </tbody>\n",
       "</table>\n",
       "<p>1321161 rows × 2 columns</p>\n",
       "</div>"
      ],
      "text/plain": [
       "                            bracket  population_percentage\n",
       "country year coverage_type                                \n",
       "ago     1981 n                  -94               0.000015\n",
       "             n                  -93               0.000018\n",
       "             n                  -92               0.000021\n",
       "             n                  -91               0.000024\n",
       "             n                  -90               0.000028\n",
       "...                             ...                    ...\n",
       "zwe     2019 n                  105               0.000001\n",
       "             n                  106               0.000001\n",
       "             n                  107               0.000000\n",
       "             n                  108               0.000000\n",
       "             n                  109               0.000000\n",
       "\n",
       "[1321161 rows x 2 columns]"
      ]
     },
     "execution_count": 29,
     "metadata": {},
     "output_type": "execute_result"
    }
   ],
   "source": [
    "res8"
   ]
  },
  {
   "cell_type": "code",
   "execution_count": 49,
   "id": "c9ca30be",
   "metadata": {},
   "outputs": [],
   "source": [
    "coverage_type_dtype_2 = pd.CategoricalDtype(list('naur'), ordered=True)"
   ]
  },
  {
   "cell_type": "code",
   "execution_count": 50,
   "id": "b35e2f7a",
   "metadata": {},
   "outputs": [],
   "source": [
    "res9 = res8.copy()\n",
    "res9['coverage_type'] = res9['coverage_type'].astype(coverage_type_dtype_2)"
   ]
  },
  {
   "cell_type": "code",
   "execution_count": 54,
   "id": "f1c9f923",
   "metadata": {},
   "outputs": [],
   "source": [
    "res10 = res9.groupby(by=['country', 'year', 'relative_bracket']).first()"
   ]
  },
  {
   "cell_type": "code",
   "execution_count": 55,
   "id": "653abe37",
   "metadata": {},
   "outputs": [],
   "source": [
    "res10 = res10.drop(columns=['coverage_type'])"
   ]
  },
  {
   "cell_type": "code",
   "execution_count": 57,
   "id": "5965276b",
   "metadata": {},
   "outputs": [],
   "source": [
    "res10.to_csv('../../ddf--datapoints--income_mountain_relative_bracket_shape_for_log--by--country--year--relative_bracket.csv')"
   ]
  },
  {
   "cell_type": "code",
   "execution_count": null,
   "id": "47f23531",
   "metadata": {},
   "outputs": [],
   "source": []
  },
  {
   "cell_type": "code",
   "execution_count": 46,
   "id": "3ec333e2",
   "metadata": {},
   "outputs": [],
   "source": [
    "res7 = res7.reset_index()"
   ]
  },
  {
   "cell_type": "code",
   "execution_count": 80,
   "id": "95632e62",
   "metadata": {},
   "outputs": [],
   "source": [
    "res7.columns = ['country', 'year', 'coverage_type', 'income_bracket_200', 'income_mountain_200bracket_shape_for_log']"
   ]
  },
  {
   "cell_type": "code",
   "execution_count": 62,
   "id": "d8b6bfdc",
   "metadata": {},
   "outputs": [],
   "source": [
    "res11 = res7.copy()\n",
    "res11['coverage_type'] = res11['coverage_type'].astype(coverage_type_dtype_2)"
   ]
  },
  {
   "cell_type": "code",
   "execution_count": 63,
   "id": "f0cc3844",
   "metadata": {},
   "outputs": [],
   "source": [
    "res12 = res11.groupby(by=['country', 'year', 'income_bracket_200']).first()"
   ]
  },
  {
   "cell_type": "code",
   "execution_count": 64,
   "id": "19da1de7",
   "metadata": {},
   "outputs": [
    {
     "data": {
      "text/html": [
       "<div>\n",
       "<style scoped>\n",
       "    .dataframe tbody tr th:only-of-type {\n",
       "        vertical-align: middle;\n",
       "    }\n",
       "\n",
       "    .dataframe tbody tr th {\n",
       "        vertical-align: top;\n",
       "    }\n",
       "\n",
       "    .dataframe thead th {\n",
       "        text-align: right;\n",
       "    }\n",
       "</style>\n",
       "<table border=\"1\" class=\"dataframe\">\n",
       "  <thead>\n",
       "    <tr style=\"text-align: right;\">\n",
       "      <th></th>\n",
       "      <th></th>\n",
       "      <th></th>\n",
       "      <th>coverage_type</th>\n",
       "      <th>income_mountain_200_bracket_shape_for_log</th>\n",
       "    </tr>\n",
       "    <tr>\n",
       "      <th>country</th>\n",
       "      <th>year</th>\n",
       "      <th>income_bracket_200</th>\n",
       "      <th></th>\n",
       "      <th></th>\n",
       "    </tr>\n",
       "  </thead>\n",
       "  <tbody>\n",
       "    <tr>\n",
       "      <th rowspan=\"5\" valign=\"top\">ago</th>\n",
       "      <th rowspan=\"5\" valign=\"top\">1981</th>\n",
       "      <th>0</th>\n",
       "      <td>n</td>\n",
       "      <td>0.000015</td>\n",
       "    </tr>\n",
       "    <tr>\n",
       "      <th>1</th>\n",
       "      <td>n</td>\n",
       "      <td>0.000018</td>\n",
       "    </tr>\n",
       "    <tr>\n",
       "      <th>2</th>\n",
       "      <td>n</td>\n",
       "      <td>0.000021</td>\n",
       "    </tr>\n",
       "    <tr>\n",
       "      <th>3</th>\n",
       "      <td>n</td>\n",
       "      <td>0.000024</td>\n",
       "    </tr>\n",
       "    <tr>\n",
       "      <th>4</th>\n",
       "      <td>n</td>\n",
       "      <td>0.000028</td>\n",
       "    </tr>\n",
       "    <tr>\n",
       "      <th>...</th>\n",
       "      <th>...</th>\n",
       "      <th>...</th>\n",
       "      <td>...</td>\n",
       "      <td>...</td>\n",
       "    </tr>\n",
       "    <tr>\n",
       "      <th rowspan=\"5\" valign=\"top\">zwe</th>\n",
       "      <th rowspan=\"5\" valign=\"top\">2019</th>\n",
       "      <th>194</th>\n",
       "      <td>n</td>\n",
       "      <td>0.000001</td>\n",
       "    </tr>\n",
       "    <tr>\n",
       "      <th>195</th>\n",
       "      <td>n</td>\n",
       "      <td>0.000001</td>\n",
       "    </tr>\n",
       "    <tr>\n",
       "      <th>196</th>\n",
       "      <td>n</td>\n",
       "      <td>0</td>\n",
       "    </tr>\n",
       "    <tr>\n",
       "      <th>197</th>\n",
       "      <td>n</td>\n",
       "      <td>0</td>\n",
       "    </tr>\n",
       "    <tr>\n",
       "      <th>198</th>\n",
       "      <td>n</td>\n",
       "      <td>0</td>\n",
       "    </tr>\n",
       "  </tbody>\n",
       "</table>\n",
       "<p>1275391 rows × 2 columns</p>\n",
       "</div>"
      ],
      "text/plain": [
       "                                coverage_type  \\\n",
       "country year income_bracket_200                 \n",
       "ago     1981 0                              n   \n",
       "             1                              n   \n",
       "             2                              n   \n",
       "             3                              n   \n",
       "             4                              n   \n",
       "...                                       ...   \n",
       "zwe     2019 194                            n   \n",
       "             195                            n   \n",
       "             196                            n   \n",
       "             197                            n   \n",
       "             198                            n   \n",
       "\n",
       "                                income_mountain_200_bracket_shape_for_log  \n",
       "country year income_bracket_200                                            \n",
       "ago     1981 0                                                   0.000015  \n",
       "             1                                                   0.000018  \n",
       "             2                                                   0.000021  \n",
       "             3                                                   0.000024  \n",
       "             4                                                   0.000028  \n",
       "...                                                                   ...  \n",
       "zwe     2019 194                                                 0.000001  \n",
       "             195                                                 0.000001  \n",
       "             196                                                        0  \n",
       "             197                                                        0  \n",
       "             198                                                        0  \n",
       "\n",
       "[1275391 rows x 2 columns]"
      ]
     },
     "execution_count": 64,
     "metadata": {},
     "output_type": "execute_result"
    }
   ],
   "source": [
    "res12"
   ]
  },
  {
   "cell_type": "code",
   "execution_count": 65,
   "id": "3f51b96f",
   "metadata": {},
   "outputs": [],
   "source": [
    "res12 = res12.drop(columns=['coverage_type'])"
   ]
  },
  {
   "cell_type": "code",
   "execution_count": 83,
   "id": "e8313680",
   "metadata": {},
   "outputs": [],
   "source": [
    "res12.columns = ['income_mountain_200bracket_shape_for_log']"
   ]
  },
  {
   "cell_type": "code",
   "execution_count": 84,
   "id": "c8a70de3",
   "metadata": {},
   "outputs": [],
   "source": [
    "res12.to_csv('../../ddf--datapoints--income_mountain_200bracket_shape_for_log--by--country--year--income_bracket_200.csv')"
   ]
  },
  {
   "cell_type": "code",
   "execution_count": null,
   "id": "45e18458",
   "metadata": {},
   "outputs": [],
   "source": []
  },
  {
   "cell_type": "code",
   "execution_count": null,
   "id": "015a7356",
   "metadata": {},
   "outputs": [],
   "source": []
  },
  {
   "cell_type": "code",
   "execution_count": null,
   "id": "758d3de8",
   "metadata": {},
   "outputs": [],
   "source": [
    "# some more files for bracket entities"
   ]
  },
  {
   "cell_type": "code",
   "execution_count": 69,
   "id": "f4f10c80",
   "metadata": {},
   "outputs": [],
   "source": [
    "rb = pd.DataFrame({'relative_bracket': range(-200, 200), 'name': range(-200, 200)})"
   ]
  },
  {
   "cell_type": "code",
   "execution_count": 71,
   "id": "17cb6f07",
   "metadata": {},
   "outputs": [],
   "source": [
    "rb = rb.set_index('relative_bracket')"
   ]
  },
  {
   "cell_type": "code",
   "execution_count": 72,
   "id": "bd51b51c",
   "metadata": {},
   "outputs": [],
   "source": [
    "rb.to_csv('../../ddf--entities--relative_bracket.csv')"
   ]
  },
  {
   "cell_type": "code",
   "execution_count": null,
   "id": "81123878",
   "metadata": {},
   "outputs": [],
   "source": []
  },
  {
   "cell_type": "code",
   "execution_count": null,
   "id": "fdfc184b",
   "metadata": {},
   "outputs": [],
   "source": [
    "# testing blending"
   ]
  },
  {
   "cell_type": "code",
   "execution_count": 93,
   "id": "074d28a3",
   "metadata": {},
   "outputs": [],
   "source": [
    "c = 'income_mountain_relative_bracket_shape_for_log'"
   ]
  },
  {
   "cell_type": "code",
   "execution_count": 100,
   "id": "730a563c",
   "metadata": {},
   "outputs": [],
   "source": [
    "res8[c] = res8[c].astype(float)"
   ]
  },
  {
   "cell_type": "code",
   "execution_count": 101,
   "id": "a3ad9a68",
   "metadata": {},
   "outputs": [],
   "source": [
    "gs = res8.groupby(['country', 'year', 'coverage_type'])"
   ]
  },
  {
   "cell_type": "code",
   "execution_count": 129,
   "id": "0398b6aa",
   "metadata": {},
   "outputs": [],
   "source": [
    "s1 = gs.get_group(('rus', 1999, 'n')).set_index('relative_bracket')[c]\n",
    "s2 = gs.get_group(('mus', 2004, 'n')).set_index('relative_bracket')[c]\n",
    "s3_expect = gs.get_group(('chn', 2016, 'a')).set_index('relative_bracket')[c]"
   ]
  },
  {
   "cell_type": "code",
   "execution_count": 133,
   "id": "e3719a75",
   "metadata": {},
   "outputs": [],
   "source": [
    "s1_, s2_ = s1.align(s2)\n",
    "s1_ = s1_.fillna(0)\n",
    "s2_ = s2_.fillna(0)\n",
    "s3 = (s1 + s2) / 2"
   ]
  },
  {
   "cell_type": "code",
   "execution_count": 139,
   "id": "0c7b3232",
   "metadata": {},
   "outputs": [],
   "source": [
    "new_idx = s3.index.values + 102\n",
    "s3.index = pd.Index(new_idx)"
   ]
  },
  {
   "cell_type": "code",
   "execution_count": 140,
   "id": "200bcf59",
   "metadata": {},
   "outputs": [],
   "source": [
    "new_idx = s3_expect.index.values + 102\n",
    "s3_expect.index = pd.Index(new_idx)"
   ]
  },
  {
   "cell_type": "code",
   "execution_count": 141,
   "id": "eed54608",
   "metadata": {},
   "outputs": [
    {
     "data": {
      "text/plain": [
       "<matplotlib.legend.Legend at 0x7f9cd2f19070>"
      ]
     },
     "execution_count": 141,
     "metadata": {},
     "output_type": "execute_result"
    },
    {
     "data": {
      "image/png": "[encoded data removed]",
      "text/plain": [
       "<Figure size 864x576 with 1 Axes>"
      ]
     },
     "metadata": {
      "needs_background": "light"
     },
     "output_type": "display_data"
    }
   ],
   "source": [
    "# plt.plot(s1[c], label='s1')\n",
    "# plt.plot(s2[c], label='s2')\n",
    "plt.plot(s3_expect, label='expected s3')\n",
    "plt.plot(s3, label='calculated s3')\n",
    "plt.legend()"
   ]
  },
  {
   "cell_type": "code",
   "execution_count": 125,
   "id": "a3a7ef93",
   "metadata": {},
   "outputs": [],
   "source": [
    "m1 = mean.loc[('RUS', 1999, 'N')]\n",
    "m2 = mean.loc[('MUS', 2004, 'N')]\n",
    "m3_expect = mean.loc[('CHN', 2016, 'A')]"
   ]
  },
  {
   "cell_type": "code",
   "execution_count": 126,
   "id": "18a6befb",
   "metadata": {},
   "outputs": [
    {
     "data": {
      "text/plain": [
       "Mean    237.8055\n",
       "Name: (RUS, 1999, N), dtype: float64"
      ]
     },
     "execution_count": 126,
     "metadata": {},
     "output_type": "execute_result"
    }
   ],
   "source": [
    "m1"
   ]
  },
  {
   "cell_type": "code",
   "execution_count": 127,
   "id": "737d5c95",
   "metadata": {},
   "outputs": [
    {
     "data": {
      "text/plain": [
       "Mean    304.8702\n",
       "Name: (MUS, 2004, N), dtype: float64"
      ]
     },
     "execution_count": 127,
     "metadata": {},
     "output_type": "execute_result"
    }
   ],
   "source": [
    "m2"
   ]
  },
  {
   "cell_type": "code",
   "execution_count": 128,
   "id": "96cc1d50",
   "metadata": {},
   "outputs": [
    {
     "data": {
      "text/plain": [
       "Mean    353.8384\n",
       "Name: (CHN, 2016, A), dtype: float64"
      ]
     },
     "execution_count": 128,
     "metadata": {},
     "output_type": "execute_result"
    }
   ],
   "source": [
    "m3_expect"
   ]
  },
  {
   "cell_type": "code",
   "execution_count": 177,
   "id": "299545fe",
   "metadata": {},
   "outputs": [],
   "source": [
    "gs = res8.groupby(['country', 'year', 'coverage_type'])\n",
    "\n",
    "def get_data(x):\n",
    "    return gs.get_group(x).set_index('relative_bracket')[c]\n",
    "\n",
    "def get_mean(x):\n",
    "    return mean.loc[(x[0].upper(), x[1], x[2].upper()), 'Mean']\n",
    "\n",
    "def do_average(s1, s2):\n",
    "    s1_, s2_ = s1.align(s2)\n",
    "    s1_ = s1_.fillna(0)\n",
    "    s2_ = s2_.fillna(0)\n",
    "    s3 = (s1_ + s2_) / 2\n",
    "    return s3\n",
    "\n",
    "def reset_x_axis(x_, m):\n",
    "    x = x_.copy()\n",
    "    mb = bracket_number_from_income(m)\n",
    "    new_idx = x.index.values + mb\n",
    "    x.index = pd.Index(new_idx)\n",
    "    return x\n",
    "\n",
    "def trying(x, neighbors):\n",
    "    s3_expect = get_data(x)\n",
    "    m_expect = get_mean(x)\n",
    "    \n",
    "    mean = [get_mean(neighbors[0])]\n",
    "    s3 = get_data(neighbors[0])\n",
    "    for n in neighbors[1:]:\n",
    "        s3 = do_average(s3, get_data(n))\n",
    "        mean.append(get_mean(n))\n",
    "        \n",
    "    mean = np.sum(mean) / len(mean)\n",
    "    print(mean, m_expect)\n",
    "        \n",
    "    return reset_x_axis(s3, mean), reset_x_axis(s3_expect, m_expect)"
   ]
  },
  {
   "cell_type": "code",
   "execution_count": 187,
   "id": "822444d1",
   "metadata": {},
   "outputs": [
    {
     "name": "stdout",
     "output_type": "stream",
     "text": [
      "63.66188 86.00532\n"
     ]
    }
   ],
   "source": [
    "x = ('eth', 2011, 'n')\n",
    "neighbors = [\n",
    "    ('sle', 2011, 'n'),\n",
    "    ('lbr', 2011, 'n'),\n",
    "    ('chn', 1990, 'a')\n",
    "]\n",
    "\n",
    "s3, s3_expect = trying(x, neighbors)"
   ]
  },
  {
   "cell_type": "code",
   "execution_count": 188,
   "id": "7ab215ec",
   "metadata": {},
   "outputs": [
    {
     "data": {
      "text/plain": [
       "80"
      ]
     },
     "execution_count": 188,
     "metadata": {},
     "output_type": "execute_result"
    }
   ],
   "source": [
    "bracket_number_from_income(63)"
   ]
  },
  {
   "cell_type": "code",
   "execution_count": 189,
   "id": "11500894",
   "metadata": {},
   "outputs": [
    {
     "data": {
      "text/plain": [
       "<matplotlib.legend.Legend at 0x7f9cd284b5e0>"
      ]
     },
     "execution_count": 189,
     "metadata": {},
     "output_type": "execute_result"
    },
    {
     "data": {
      "image/png": "[encoded data removed]",
      "text/plain": [
       "<Figure size 864x576 with 1 Axes>"
      ]
     },
     "metadata": {
      "needs_background": "light"
     },
     "output_type": "display_data"
    }
   ],
   "source": [
    "plt.plot(s3_expect, label='expected s3')\n",
    "plt.plot(s3, label='calculated s3')\n",
    "plt.legend()"
   ]
  },
  {
   "cell_type": "code",
   "execution_count": 170,
   "id": "ef1489e6",
   "metadata": {},
   "outputs": [],
   "source": [
    "# great example (high gini)\n",
    "\n",
    "x = ('bra', 1990, 'n')\n",
    "neighbors = [\n",
    "    ('pan', 1990, 'n'),\n",
    "    ('bwa', 1996, 'n'),\n",
    "    ('nam', 2014, 'n')\n",
    "]"
   ]
  },
  {
   "cell_type": "code",
   "execution_count": 182,
   "id": "2dbfe41d",
   "metadata": {},
   "outputs": [],
   "source": [
    "# low gini, not very good\n",
    "x = ('eth', 2011, 'n')\n",
    "neighbors = [\n",
    "    ('sle', 2011, 'n'),\n",
    "    ('lbr', 2011, 'n'),\n",
    "    ('chn', 1990, 'a')\n",
    "]"
   ]
  },
  {
   "cell_type": "code",
   "execution_count": null,
   "id": "c9d9cebd",
   "metadata": {},
   "outputs": [],
   "source": []
  }
 ],
 "metadata": {
  "kernelspec": {
   "display_name": "Python 3",
   "language": "python",
   "name": "python3"
  },
  "language_info": {
   "codemirror_mode": {
    "name": "ipython",
    "version": 3
   },
   "file_extension": ".py",
   "mimetype": "text/x-python",
   "name": "python",
   "nbconvert_exporter": "python",
   "pygments_lexer": "ipython3",
   "version": "3.8.10"
  }
 },
 "nbformat": 4,
 "nbformat_minor": 5
}
