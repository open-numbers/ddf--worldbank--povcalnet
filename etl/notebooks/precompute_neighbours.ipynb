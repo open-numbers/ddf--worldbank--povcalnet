{
 "cells": [
  {
   "cell_type": "markdown",
   "id": "16bc4af3",
   "metadata": {},
   "source": [
    "# Precompute Neighbours\n",
    "\n",
    "Gini and Mean Income based neighbour selection method:\n",
    "\n",
    "For given country/year pair, neighbour means the nearby country/year pairs in terms of gini/income distance.\n",
    "We will calculate 50 neighbours for each country/year pair"
   ]
  },
  {
   "cell_type": "code",
   "execution_count": 1,
   "id": "a26f5ed3",
   "metadata": {},
   "outputs": [],
   "source": [
    "import pandas as pd\n",
    "import numpy as np\n",
    "import sys\n",
    "sys.path.insert(0, '../scripts/')\n",
    "\n",
    "import matplotlib.pyplot as plt\n",
    "\n",
    "%matplotlib inline"
   ]
  },
  {
   "cell_type": "code",
   "execution_count": 2,
   "id": "6d8d3390",
   "metadata": {},
   "outputs": [],
   "source": [
    "plt.rcParams['figure.figsize'] = (10, 6)\n",
    "plt.rcParams['figure.dpi'] = 98"
   ]
  },
  {
   "cell_type": "code",
   "execution_count": 3,
   "id": "a2f90ccc",
   "metadata": {},
   "outputs": [],
   "source": [
    "%load_ext autoreload\n",
    "%autoreload 1"
   ]
  },
  {
   "cell_type": "code",
   "execution_count": 4,
   "id": "7e5ee6a9",
   "metadata": {},
   "outputs": [],
   "source": [
    "%aimport shapeslib\n",
    "%aimport etllib\n"
   ]
  },
  {
   "cell_type": "code",
   "execution_count": 7,
   "id": "5a349107",
   "metadata": {},
   "outputs": [],
   "source": [
    "# income_file = '../../../ddf--gapminder--fasttrack/ddf--datapoints--mincpcap_cppp--by--country--time.csv'\n",
    "# gini_file =  '../../../ddf--gapminder--fasttrack/ddf--datapoints--gini--by--country--time.csv'\n",
    "income_file = '../../../ddf--gapminder--fasttrack/ddf--datapoints--mhhinc--by--country--time.csv'\n",
    "gini_file =  '../../../ddf--gapminder--fasttrack/ddf--datapoints--gini_2100--by--country--time.csv'"
   ]
  },
  {
   "cell_type": "code",
   "execution_count": 8,
   "id": "f427220c",
   "metadata": {},
   "outputs": [],
   "source": [
    "shapes_file = '../source/fixtures/povcal_country_year.csv'\n",
    "known_shapes = pd.read_csv(shapes_file)"
   ]
  },
  {
   "cell_type": "code",
   "execution_count": 9,
   "id": "76e72d85",
   "metadata": {},
   "outputs": [],
   "source": [
    "bracket_number_from_income = etllib.bracket_number_from_income"
   ]
  },
  {
   "cell_type": "code",
   "execution_count": 10,
   "id": "6bd9c9ca",
   "metadata": {},
   "outputs": [],
   "source": [
    "income = pd.read_csv(income_file).set_index(['country', 'time'])\n",
    "gini = pd.read_csv(gini_file).set_index(['country', 'time'])\n",
    "\n",
    "income.index.names = ['country', 'year']\n",
    "gini.index.names = ['country', 'year']\n",
    "\n",
    "income.columns = ['income']\n",
    "gini.columns = ['gini']"
   ]
  },
  {
   "cell_type": "code",
   "execution_count": 11,
   "id": "63c06978",
   "metadata": {},
   "outputs": [],
   "source": [
    "income_gini = pd.concat([income, gini], axis=1)"
   ]
  },
  {
   "cell_type": "code",
   "execution_count": 12,
   "id": "bffaa6c5",
   "metadata": {},
   "outputs": [
    {
     "data": {
      "text/html": [
       "<div>\n",
       "<style scoped>\n",
       "    .dataframe tbody tr th:only-of-type {\n",
       "        vertical-align: middle;\n",
       "    }\n",
       "\n",
       "    .dataframe tbody tr th {\n",
       "        vertical-align: top;\n",
       "    }\n",
       "\n",
       "    .dataframe thead th {\n",
       "        text-align: right;\n",
       "    }\n",
       "</style>\n",
       "<table border=\"1\" class=\"dataframe\">\n",
       "  <thead>\n",
       "    <tr style=\"text-align: right;\">\n",
       "      <th></th>\n",
       "      <th></th>\n",
       "      <th>income</th>\n",
       "      <th>gini</th>\n",
       "    </tr>\n",
       "    <tr>\n",
       "      <th>country</th>\n",
       "      <th>year</th>\n",
       "      <th></th>\n",
       "      <th></th>\n",
       "    </tr>\n",
       "  </thead>\n",
       "  <tbody>\n",
       "    <tr>\n",
       "      <th rowspan=\"5\" valign=\"top\">afg</th>\n",
       "      <th>1800</th>\n",
       "      <td>456</td>\n",
       "      <td>30.50</td>\n",
       "    </tr>\n",
       "    <tr>\n",
       "      <th>1801</th>\n",
       "      <td>477</td>\n",
       "      <td>30.50</td>\n",
       "    </tr>\n",
       "    <tr>\n",
       "      <th>1802</th>\n",
       "      <td>499</td>\n",
       "      <td>30.50</td>\n",
       "    </tr>\n",
       "    <tr>\n",
       "      <th>1803</th>\n",
       "      <td>522</td>\n",
       "      <td>30.50</td>\n",
       "    </tr>\n",
       "    <tr>\n",
       "      <th>1804</th>\n",
       "      <td>546</td>\n",
       "      <td>30.50</td>\n",
       "    </tr>\n",
       "    <tr>\n",
       "      <th>...</th>\n",
       "      <th>...</th>\n",
       "      <td>...</td>\n",
       "      <td>...</td>\n",
       "    </tr>\n",
       "    <tr>\n",
       "      <th rowspan=\"5\" valign=\"top\">zwe</th>\n",
       "      <th>2096</th>\n",
       "      <td>12509</td>\n",
       "      <td>50.86</td>\n",
       "    </tr>\n",
       "    <tr>\n",
       "      <th>2097</th>\n",
       "      <td>12778</td>\n",
       "      <td>50.86</td>\n",
       "    </tr>\n",
       "    <tr>\n",
       "      <th>2098</th>\n",
       "      <td>13053</td>\n",
       "      <td>50.86</td>\n",
       "    </tr>\n",
       "    <tr>\n",
       "      <th>2099</th>\n",
       "      <td>13334</td>\n",
       "      <td>50.86</td>\n",
       "    </tr>\n",
       "    <tr>\n",
       "      <th>2100</th>\n",
       "      <td>13621</td>\n",
       "      <td>50.86</td>\n",
       "    </tr>\n",
       "  </tbody>\n",
       "</table>\n",
       "<p>56889 rows × 2 columns</p>\n",
       "</div>"
      ],
      "text/plain": [
       "              income   gini\n",
       "country year               \n",
       "afg     1800     456  30.50\n",
       "        1801     477  30.50\n",
       "        1802     499  30.50\n",
       "        1803     522  30.50\n",
       "        1804     546  30.50\n",
       "...              ...    ...\n",
       "zwe     2096   12509  50.86\n",
       "        2097   12778  50.86\n",
       "        2098   13053  50.86\n",
       "        2099   13334  50.86\n",
       "        2100   13621  50.86\n",
       "\n",
       "[56889 rows x 2 columns]"
      ]
     },
     "execution_count": 12,
     "metadata": {},
     "output_type": "execute_result"
    }
   ],
   "source": [
    "income_gini"
   ]
  },
  {
   "cell_type": "code",
   "execution_count": 13,
   "id": "6966cf12",
   "metadata": {},
   "outputs": [],
   "source": [
    "# we need both income and gini, so drop those we only have one indicator\n",
    "income_gini = income_gini.dropna(how='any')"
   ]
  },
  {
   "cell_type": "code",
   "execution_count": 14,
   "id": "a21a8f04",
   "metadata": {},
   "outputs": [],
   "source": [
    "income_gini_noc = income_gini.reset_index(drop=True).drop_duplicates()"
   ]
  },
  {
   "cell_type": "code",
   "execution_count": null,
   "id": "03def337",
   "metadata": {},
   "outputs": [],
   "source": []
  },
  {
   "cell_type": "code",
   "execution_count": 15,
   "id": "e0941bc5",
   "metadata": {},
   "outputs": [],
   "source": [
    "# double check: is there some countries available in povcalnet but we don't have gini/income data"
   ]
  },
  {
   "cell_type": "code",
   "execution_count": 16,
   "id": "c007f029",
   "metadata": {},
   "outputs": [],
   "source": [
    "known_shapes_list = known_shapes.values.tolist()"
   ]
  },
  {
   "cell_type": "code",
   "execution_count": 17,
   "id": "0d121bc6",
   "metadata": {},
   "outputs": [],
   "source": [
    "known_shapes_list = [tuple(x) for x in known_shapes_list]"
   ]
  },
  {
   "cell_type": "code",
   "execution_count": 18,
   "id": "2cb1153c",
   "metadata": {},
   "outputs": [
    {
     "ename": "KeyError",
     "evalue": "\"[('mhl', 1981), ('mhl', 1982), ('mhl', 1983), ('mhl', 1984), ('mhl', 1985), ('mhl', 1986), ('mhl', 1987), ('mhl', 1988), ('mhl', 1989), ('mhl', 1990), ('mhl', 1991), ('mhl', 1992), ('mhl', 1993), ('mhl', 1994), ('mhl', 1995), ('mhl', 1996), ('mhl', 1997), ('mhl', 1998), ('mhl', 1999), ('mhl', 2000), ('mhl', 2001), ('mhl', 2002), ('mhl', 2003), ('mhl', 2004), ('mhl', 2005), ('mhl', 2006), ('mhl', 2007), ('mhl', 2008), ('mhl', 2009), ('mhl', 2010), ('mhl', 2011), ('mhl', 2012), ('mhl', 2013), ('mhl', 2014), ('mhl', 2015), ('mhl', 2016), ('mhl', 2017), ('mhl', 2018), ('mhl', 2019), ('nru', 2004), ('nru', 2005), ('nru', 2006), ('nru', 2007), ('nru', 2008), ('nru', 2009), ('nru', 2010), ('nru', 2011), ('nru', 2012), ('nru', 2013), ('nru', 2014), ('nru', 2015), ('nru', 2016), ('nru', 2017), ('nru', 2018), ('nru', 2019), ('twn', 1981), ('twn', 1982), ('twn', 1983), ('twn', 1984), ('twn', 1985), ('twn', 1986), ('twn', 1987), ('twn', 1988), ('twn', 1989), ('twn', 1990), ('twn', 1991), ('twn', 1992), ('twn', 1993), ('twn', 1994), ('twn', 1995), ('twn', 1996), ('twn', 1997), ('twn', 1998), ('twn', 1999), ('twn', 2000), ('twn', 2001), ('twn', 2002), ('twn', 2003), ('twn', 2004), ('twn', 2005), ('twn', 2006), ('twn', 2007), ('twn', 2008), ('twn', 2009), ('twn', 2010), ('twn', 2011), ('twn', 2012), ('twn', 2013), ('twn', 2014), ('twn', 2015), ('twn', 2016), ('twn', 2017), ('twn', 2018), ('twn', 2019), ('kos', 2000), ('kos', 2001), ('kos', 2002), ('kos', 2003), ('kos', 2004), ('kos', 2005), ('kos', 2006), ('kos', 2007), ('kos', 2008), ('kos', 2009), ('kos', 2010), ('kos', 2011), ('kos', 2012), ('kos', 2013), ('kos', 2014), ('kos', 2015), ('kos', 2016), ('kos', 2017), ('kos', 2018), ('kos', 2019)] not in index\"",
     "output_type": "error",
     "traceback": [
      "\u001b[0;31m---------------------------------------------------------------------------\u001b[0m",
      "\u001b[0;31mKeyError\u001b[0m                                  Traceback (most recent call last)",
      "Input \u001b[0;32mIn [18]\u001b[0m, in \u001b[0;36m<cell line: 1>\u001b[0;34m()\u001b[0m\n\u001b[0;32m----> 1\u001b[0m known_income_gini \u001b[38;5;241m=\u001b[39m \u001b[43mincome_gini\u001b[49m\u001b[38;5;241;43m.\u001b[39;49m\u001b[43mloc\u001b[49m\u001b[43m[\u001b[49m\u001b[43mknown_shapes_list\u001b[49m\u001b[43m]\u001b[49m\n",
      "File \u001b[0;32m~/.pyvenv/gapminder/lib64/python3.10/site-packages/pandas/core/indexing.py:967\u001b[0m, in \u001b[0;36m_LocationIndexer.__getitem__\u001b[0;34m(self, key)\u001b[0m\n\u001b[1;32m    964\u001b[0m axis \u001b[38;5;241m=\u001b[39m \u001b[38;5;28mself\u001b[39m\u001b[38;5;241m.\u001b[39maxis \u001b[38;5;129;01mor\u001b[39;00m \u001b[38;5;241m0\u001b[39m\n\u001b[1;32m    966\u001b[0m maybe_callable \u001b[38;5;241m=\u001b[39m com\u001b[38;5;241m.\u001b[39mapply_if_callable(key, \u001b[38;5;28mself\u001b[39m\u001b[38;5;241m.\u001b[39mobj)\n\u001b[0;32m--> 967\u001b[0m \u001b[38;5;28;01mreturn\u001b[39;00m \u001b[38;5;28;43mself\u001b[39;49m\u001b[38;5;241;43m.\u001b[39;49m\u001b[43m_getitem_axis\u001b[49m\u001b[43m(\u001b[49m\u001b[43mmaybe_callable\u001b[49m\u001b[43m,\u001b[49m\u001b[43m \u001b[49m\u001b[43maxis\u001b[49m\u001b[38;5;241;43m=\u001b[39;49m\u001b[43maxis\u001b[49m\u001b[43m)\u001b[49m\n",
      "File \u001b[0;32m~/.pyvenv/gapminder/lib64/python3.10/site-packages/pandas/core/indexing.py:1191\u001b[0m, in \u001b[0;36m_LocIndexer._getitem_axis\u001b[0;34m(self, key, axis)\u001b[0m\n\u001b[1;32m   1188\u001b[0m     \u001b[38;5;28;01mif\u001b[39;00m \u001b[38;5;28mhasattr\u001b[39m(key, \u001b[38;5;124m\"\u001b[39m\u001b[38;5;124mndim\u001b[39m\u001b[38;5;124m\"\u001b[39m) \u001b[38;5;129;01mand\u001b[39;00m key\u001b[38;5;241m.\u001b[39mndim \u001b[38;5;241m>\u001b[39m \u001b[38;5;241m1\u001b[39m:\n\u001b[1;32m   1189\u001b[0m         \u001b[38;5;28;01mraise\u001b[39;00m \u001b[38;5;167;01mValueError\u001b[39;00m(\u001b[38;5;124m\"\u001b[39m\u001b[38;5;124mCannot index with multidimensional key\u001b[39m\u001b[38;5;124m\"\u001b[39m)\n\u001b[0;32m-> 1191\u001b[0m     \u001b[38;5;28;01mreturn\u001b[39;00m \u001b[38;5;28;43mself\u001b[39;49m\u001b[38;5;241;43m.\u001b[39;49m\u001b[43m_getitem_iterable\u001b[49m\u001b[43m(\u001b[49m\u001b[43mkey\u001b[49m\u001b[43m,\u001b[49m\u001b[43m \u001b[49m\u001b[43maxis\u001b[49m\u001b[38;5;241;43m=\u001b[39;49m\u001b[43maxis\u001b[49m\u001b[43m)\u001b[49m\n\u001b[1;32m   1193\u001b[0m \u001b[38;5;66;03m# nested tuple slicing\u001b[39;00m\n\u001b[1;32m   1194\u001b[0m \u001b[38;5;28;01mif\u001b[39;00m is_nested_tuple(key, labels):\n",
      "File \u001b[0;32m~/.pyvenv/gapminder/lib64/python3.10/site-packages/pandas/core/indexing.py:1132\u001b[0m, in \u001b[0;36m_LocIndexer._getitem_iterable\u001b[0;34m(self, key, axis)\u001b[0m\n\u001b[1;32m   1129\u001b[0m \u001b[38;5;28mself\u001b[39m\u001b[38;5;241m.\u001b[39m_validate_key(key, axis)\n\u001b[1;32m   1131\u001b[0m \u001b[38;5;66;03m# A collection of keys\u001b[39;00m\n\u001b[0;32m-> 1132\u001b[0m keyarr, indexer \u001b[38;5;241m=\u001b[39m \u001b[38;5;28;43mself\u001b[39;49m\u001b[38;5;241;43m.\u001b[39;49m\u001b[43m_get_listlike_indexer\u001b[49m\u001b[43m(\u001b[49m\u001b[43mkey\u001b[49m\u001b[43m,\u001b[49m\u001b[43m \u001b[49m\u001b[43maxis\u001b[49m\u001b[43m)\u001b[49m\n\u001b[1;32m   1133\u001b[0m \u001b[38;5;28;01mreturn\u001b[39;00m \u001b[38;5;28mself\u001b[39m\u001b[38;5;241m.\u001b[39mobj\u001b[38;5;241m.\u001b[39m_reindex_with_indexers(\n\u001b[1;32m   1134\u001b[0m     {axis: [keyarr, indexer]}, copy\u001b[38;5;241m=\u001b[39m\u001b[38;5;28;01mTrue\u001b[39;00m, allow_dups\u001b[38;5;241m=\u001b[39m\u001b[38;5;28;01mTrue\u001b[39;00m\n\u001b[1;32m   1135\u001b[0m )\n",
      "File \u001b[0;32m~/.pyvenv/gapminder/lib64/python3.10/site-packages/pandas/core/indexing.py:1327\u001b[0m, in \u001b[0;36m_LocIndexer._get_listlike_indexer\u001b[0;34m(self, key, axis)\u001b[0m\n\u001b[1;32m   1324\u001b[0m ax \u001b[38;5;241m=\u001b[39m \u001b[38;5;28mself\u001b[39m\u001b[38;5;241m.\u001b[39mobj\u001b[38;5;241m.\u001b[39m_get_axis(axis)\n\u001b[1;32m   1325\u001b[0m axis_name \u001b[38;5;241m=\u001b[39m \u001b[38;5;28mself\u001b[39m\u001b[38;5;241m.\u001b[39mobj\u001b[38;5;241m.\u001b[39m_get_axis_name(axis)\n\u001b[0;32m-> 1327\u001b[0m keyarr, indexer \u001b[38;5;241m=\u001b[39m \u001b[43max\u001b[49m\u001b[38;5;241;43m.\u001b[39;49m\u001b[43m_get_indexer_strict\u001b[49m\u001b[43m(\u001b[49m\u001b[43mkey\u001b[49m\u001b[43m,\u001b[49m\u001b[43m \u001b[49m\u001b[43maxis_name\u001b[49m\u001b[43m)\u001b[49m\n\u001b[1;32m   1329\u001b[0m \u001b[38;5;28;01mreturn\u001b[39;00m keyarr, indexer\n",
      "File \u001b[0;32m~/.pyvenv/gapminder/lib64/python3.10/site-packages/pandas/core/indexes/multi.py:2590\u001b[0m, in \u001b[0;36mMultiIndex._get_indexer_strict\u001b[0;34m(self, key, axis_name)\u001b[0m\n\u001b[1;32m   2587\u001b[0m     \u001b[38;5;28mself\u001b[39m\u001b[38;5;241m.\u001b[39m_raise_if_missing(key, indexer, axis_name)\n\u001b[1;32m   2588\u001b[0m     \u001b[38;5;28;01mreturn\u001b[39;00m \u001b[38;5;28mself\u001b[39m[indexer], indexer\n\u001b[0;32m-> 2590\u001b[0m \u001b[38;5;28;01mreturn\u001b[39;00m \u001b[38;5;28;43msuper\u001b[39;49m\u001b[43m(\u001b[49m\u001b[43m)\u001b[49m\u001b[38;5;241;43m.\u001b[39;49m\u001b[43m_get_indexer_strict\u001b[49m\u001b[43m(\u001b[49m\u001b[43mkey\u001b[49m\u001b[43m,\u001b[49m\u001b[43m \u001b[49m\u001b[43maxis_name\u001b[49m\u001b[43m)\u001b[49m\n",
      "File \u001b[0;32m~/.pyvenv/gapminder/lib64/python3.10/site-packages/pandas/core/indexes/base.py:5782\u001b[0m, in \u001b[0;36mIndex._get_indexer_strict\u001b[0;34m(self, key, axis_name)\u001b[0m\n\u001b[1;32m   5779\u001b[0m \u001b[38;5;28;01melse\u001b[39;00m:\n\u001b[1;32m   5780\u001b[0m     keyarr, indexer, new_indexer \u001b[38;5;241m=\u001b[39m \u001b[38;5;28mself\u001b[39m\u001b[38;5;241m.\u001b[39m_reindex_non_unique(keyarr)\n\u001b[0;32m-> 5782\u001b[0m \u001b[38;5;28;43mself\u001b[39;49m\u001b[38;5;241;43m.\u001b[39;49m\u001b[43m_raise_if_missing\u001b[49m\u001b[43m(\u001b[49m\u001b[43mkeyarr\u001b[49m\u001b[43m,\u001b[49m\u001b[43m \u001b[49m\u001b[43mindexer\u001b[49m\u001b[43m,\u001b[49m\u001b[43m \u001b[49m\u001b[43maxis_name\u001b[49m\u001b[43m)\u001b[49m\n\u001b[1;32m   5784\u001b[0m keyarr \u001b[38;5;241m=\u001b[39m \u001b[38;5;28mself\u001b[39m\u001b[38;5;241m.\u001b[39mtake(indexer)\n\u001b[1;32m   5785\u001b[0m \u001b[38;5;28;01mif\u001b[39;00m \u001b[38;5;28misinstance\u001b[39m(key, Index):\n\u001b[1;32m   5786\u001b[0m     \u001b[38;5;66;03m# GH 42790 - Preserve name from an Index\u001b[39;00m\n",
      "File \u001b[0;32m~/.pyvenv/gapminder/lib64/python3.10/site-packages/pandas/core/indexes/multi.py:2610\u001b[0m, in \u001b[0;36mMultiIndex._raise_if_missing\u001b[0;34m(self, key, indexer, axis_name)\u001b[0m\n\u001b[1;32m   2608\u001b[0m         \u001b[38;5;28;01mraise\u001b[39;00m \u001b[38;5;167;01mKeyError\u001b[39;00m(\u001b[38;5;124mf\u001b[39m\u001b[38;5;124m\"\u001b[39m\u001b[38;5;132;01m{\u001b[39;00mkeyarr\u001b[38;5;132;01m}\u001b[39;00m\u001b[38;5;124m not in index\u001b[39m\u001b[38;5;124m\"\u001b[39m)\n\u001b[1;32m   2609\u001b[0m \u001b[38;5;28;01melse\u001b[39;00m:\n\u001b[0;32m-> 2610\u001b[0m     \u001b[38;5;28;01mreturn\u001b[39;00m \u001b[38;5;28;43msuper\u001b[39;49m\u001b[43m(\u001b[49m\u001b[43m)\u001b[49m\u001b[38;5;241;43m.\u001b[39;49m\u001b[43m_raise_if_missing\u001b[49m\u001b[43m(\u001b[49m\u001b[43mkey\u001b[49m\u001b[43m,\u001b[49m\u001b[43m \u001b[49m\u001b[43mindexer\u001b[49m\u001b[43m,\u001b[49m\u001b[43m \u001b[49m\u001b[43maxis_name\u001b[49m\u001b[43m)\u001b[49m\n",
      "File \u001b[0;32m~/.pyvenv/gapminder/lib64/python3.10/site-packages/pandas/core/indexes/base.py:5845\u001b[0m, in \u001b[0;36mIndex._raise_if_missing\u001b[0;34m(self, key, indexer, axis_name)\u001b[0m\n\u001b[1;32m   5842\u001b[0m     \u001b[38;5;28;01mraise\u001b[39;00m \u001b[38;5;167;01mKeyError\u001b[39;00m(\u001b[38;5;124mf\u001b[39m\u001b[38;5;124m\"\u001b[39m\u001b[38;5;124mNone of [\u001b[39m\u001b[38;5;132;01m{\u001b[39;00mkey\u001b[38;5;132;01m}\u001b[39;00m\u001b[38;5;124m] are in the [\u001b[39m\u001b[38;5;132;01m{\u001b[39;00maxis_name\u001b[38;5;132;01m}\u001b[39;00m\u001b[38;5;124m]\u001b[39m\u001b[38;5;124m\"\u001b[39m)\n\u001b[1;32m   5844\u001b[0m not_found \u001b[38;5;241m=\u001b[39m \u001b[38;5;28mlist\u001b[39m(ensure_index(key)[missing_mask\u001b[38;5;241m.\u001b[39mnonzero()[\u001b[38;5;241m0\u001b[39m]]\u001b[38;5;241m.\u001b[39munique())\n\u001b[0;32m-> 5845\u001b[0m \u001b[38;5;28;01mraise\u001b[39;00m \u001b[38;5;167;01mKeyError\u001b[39;00m(\u001b[38;5;124mf\u001b[39m\u001b[38;5;124m\"\u001b[39m\u001b[38;5;132;01m{\u001b[39;00mnot_found\u001b[38;5;132;01m}\u001b[39;00m\u001b[38;5;124m not in index\u001b[39m\u001b[38;5;124m\"\u001b[39m)\n",
      "\u001b[0;31mKeyError\u001b[0m: \"[('mhl', 1981), ('mhl', 1982), ('mhl', 1983), ('mhl', 1984), ('mhl', 1985), ('mhl', 1986), ('mhl', 1987), ('mhl', 1988), ('mhl', 1989), ('mhl', 1990), ('mhl', 1991), ('mhl', 1992), ('mhl', 1993), ('mhl', 1994), ('mhl', 1995), ('mhl', 1996), ('mhl', 1997), ('mhl', 1998), ('mhl', 1999), ('mhl', 2000), ('mhl', 2001), ('mhl', 2002), ('mhl', 2003), ('mhl', 2004), ('mhl', 2005), ('mhl', 2006), ('mhl', 2007), ('mhl', 2008), ('mhl', 2009), ('mhl', 2010), ('mhl', 2011), ('mhl', 2012), ('mhl', 2013), ('mhl', 2014), ('mhl', 2015), ('mhl', 2016), ('mhl', 2017), ('mhl', 2018), ('mhl', 2019), ('nru', 2004), ('nru', 2005), ('nru', 2006), ('nru', 2007), ('nru', 2008), ('nru', 2009), ('nru', 2010), ('nru', 2011), ('nru', 2012), ('nru', 2013), ('nru', 2014), ('nru', 2015), ('nru', 2016), ('nru', 2017), ('nru', 2018), ('nru', 2019), ('twn', 1981), ('twn', 1982), ('twn', 1983), ('twn', 1984), ('twn', 1985), ('twn', 1986), ('twn', 1987), ('twn', 1988), ('twn', 1989), ('twn', 1990), ('twn', 1991), ('twn', 1992), ('twn', 1993), ('twn', 1994), ('twn', 1995), ('twn', 1996), ('twn', 1997), ('twn', 1998), ('twn', 1999), ('twn', 2000), ('twn', 2001), ('twn', 2002), ('twn', 2003), ('twn', 2004), ('twn', 2005), ('twn', 2006), ('twn', 2007), ('twn', 2008), ('twn', 2009), ('twn', 2010), ('twn', 2011), ('twn', 2012), ('twn', 2013), ('twn', 2014), ('twn', 2015), ('twn', 2016), ('twn', 2017), ('twn', 2018), ('twn', 2019), ('kos', 2000), ('kos', 2001), ('kos', 2002), ('kos', 2003), ('kos', 2004), ('kos', 2005), ('kos', 2006), ('kos', 2007), ('kos', 2008), ('kos', 2009), ('kos', 2010), ('kos', 2011), ('kos', 2012), ('kos', 2013), ('kos', 2014), ('kos', 2015), ('kos', 2016), ('kos', 2017), ('kos', 2018), ('kos', 2019)] not in index\""
     ]
    }
   ],
   "source": [
    "known_income_gini = income_gini.loc[known_shapes_list]"
   ]
  },
  {
   "cell_type": "code",
   "execution_count": 19,
   "id": "25bcca0e",
   "metadata": {},
   "outputs": [],
   "source": [
    "# so we can't use the shapes for these countries:\n",
    "\n",
    "mask = known_shapes['country'].isin(['mhl', 'nru', 'twn', 'kos'])\n",
    "\n",
    "known_shapes_list = known_shapes[~mask].values.tolist()\n",
    "known_shapes_list = [tuple(x) for x in known_shapes_list]\n",
    "known_income_gini = income_gini.loc[known_shapes_list]"
   ]
  },
  {
   "cell_type": "code",
   "execution_count": 20,
   "id": "a7303258",
   "metadata": {},
   "outputs": [
    {
     "data": {
      "text/html": [
       "<div>\n",
       "<style scoped>\n",
       "    .dataframe tbody tr th:only-of-type {\n",
       "        vertical-align: middle;\n",
       "    }\n",
       "\n",
       "    .dataframe tbody tr th {\n",
       "        vertical-align: top;\n",
       "    }\n",
       "\n",
       "    .dataframe thead th {\n",
       "        text-align: right;\n",
       "    }\n",
       "</style>\n",
       "<table border=\"1\" class=\"dataframe\">\n",
       "  <thead>\n",
       "    <tr style=\"text-align: right;\">\n",
       "      <th></th>\n",
       "      <th></th>\n",
       "      <th>income</th>\n",
       "      <th>gini</th>\n",
       "    </tr>\n",
       "    <tr>\n",
       "      <th>country</th>\n",
       "      <th>year</th>\n",
       "      <th></th>\n",
       "      <th></th>\n",
       "    </tr>\n",
       "  </thead>\n",
       "  <tbody>\n",
       "    <tr>\n",
       "      <th rowspan=\"5\" valign=\"top\">ago</th>\n",
       "      <th>1981</th>\n",
       "      <td>1030</td>\n",
       "      <td>38.19</td>\n",
       "    </tr>\n",
       "    <tr>\n",
       "      <th>1982</th>\n",
       "      <td>995</td>\n",
       "      <td>38.19</td>\n",
       "    </tr>\n",
       "    <tr>\n",
       "      <th>1983</th>\n",
       "      <td>1002</td>\n",
       "      <td>38.19</td>\n",
       "    </tr>\n",
       "    <tr>\n",
       "      <th>1984</th>\n",
       "      <td>1029</td>\n",
       "      <td>38.19</td>\n",
       "    </tr>\n",
       "    <tr>\n",
       "      <th>1985</th>\n",
       "      <td>1033</td>\n",
       "      <td>38.19</td>\n",
       "    </tr>\n",
       "    <tr>\n",
       "      <th>...</th>\n",
       "      <th>...</th>\n",
       "      <td>...</td>\n",
       "      <td>...</td>\n",
       "    </tr>\n",
       "    <tr>\n",
       "      <th rowspan=\"5\" valign=\"top\">zwe</th>\n",
       "      <th>2015</th>\n",
       "      <td>2311</td>\n",
       "      <td>43.94</td>\n",
       "    </tr>\n",
       "    <tr>\n",
       "      <th>2016</th>\n",
       "      <td>2291</td>\n",
       "      <td>44.14</td>\n",
       "    </tr>\n",
       "    <tr>\n",
       "      <th>2017</th>\n",
       "      <td>2253</td>\n",
       "      <td>44.34</td>\n",
       "    </tr>\n",
       "    <tr>\n",
       "      <th>2018</th>\n",
       "      <td>2310</td>\n",
       "      <td>47.21</td>\n",
       "    </tr>\n",
       "    <tr>\n",
       "      <th>2019</th>\n",
       "      <td>2365</td>\n",
       "      <td>50.26</td>\n",
       "    </tr>\n",
       "  </tbody>\n",
       "</table>\n",
       "<p>6334 rows × 2 columns</p>\n",
       "</div>"
      ],
      "text/plain": [
       "              income   gini\n",
       "country year               \n",
       "ago     1981    1030  38.19\n",
       "        1982     995  38.19\n",
       "        1983    1002  38.19\n",
       "        1984    1029  38.19\n",
       "        1985    1033  38.19\n",
       "...              ...    ...\n",
       "zwe     2015    2311  43.94\n",
       "        2016    2291  44.14\n",
       "        2017    2253  44.34\n",
       "        2018    2310  47.21\n",
       "        2019    2365  50.26\n",
       "\n",
       "[6334 rows x 2 columns]"
      ]
     },
     "execution_count": 20,
     "metadata": {},
     "output_type": "execute_result"
    }
   ],
   "source": [
    "known_income_gini"
   ]
  },
  {
   "cell_type": "code",
   "execution_count": null,
   "id": "f8a2b54e",
   "metadata": {},
   "outputs": [],
   "source": []
  },
  {
   "cell_type": "code",
   "execution_count": 21,
   "id": "ece3aaee",
   "metadata": {},
   "outputs": [],
   "source": [
    "# known_income_gini.to_csv('../wip/income_gini_for_known_shape_countries.csv')"
   ]
  },
  {
   "cell_type": "code",
   "execution_count": null,
   "id": "17dedc87",
   "metadata": {},
   "outputs": [],
   "source": []
  },
  {
   "cell_type": "code",
   "execution_count": 22,
   "id": "cd378bb0",
   "metadata": {},
   "outputs": [],
   "source": [
    "from multiprocessing import Pool"
   ]
  },
  {
   "cell_type": "code",
   "execution_count": 23,
   "id": "d64f6112",
   "metadata": {},
   "outputs": [],
   "source": [
    "POOLSIZE = 8\n",
    "\n",
    "def get_distances_res(v):\n",
    "    i = v[0]\n",
    "    g = v[1]\n",
    "    cno, neis = shapeslib.get_neighbors(i, g, known_income_gini)\n",
    "    return (i, g), (cno, neis)\n",
    "\n",
    "with Pool(POOLSIZE) as p:\n",
    "    res_distances = p.map(get_distances_res, income_gini_noc.values)"
   ]
  },
  {
   "cell_type": "code",
   "execution_count": 24,
   "id": "bc21ab82",
   "metadata": {},
   "outputs": [],
   "source": [
    "res_distances_dict = dict(res_distances)"
   ]
  },
  {
   "cell_type": "code",
   "execution_count": 25,
   "id": "165fbefb",
   "metadata": {},
   "outputs": [
    {
     "data": {
      "text/plain": [
       "(7,\n",
       " [('lbr', 1995),\n",
       "  ('cod', 2002),\n",
       "  ('cod', 2001),\n",
       "  ('lbr', 1996),\n",
       "  ('lbr', 1994),\n",
       "  ('cod', 2003),\n",
       "  ('gin', 1986),\n",
       "  ('gin', 1985),\n",
       "  ('gin', 1987),\n",
       "  ('cod', 2000),\n",
       "  ('gin', 1991),\n",
       "  ('cod', 2004),\n",
       "  ('gin', 1984),\n",
       "  ('gin', 1988),\n",
       "  ('gin', 1990),\n",
       "  ('gin', 1983),\n",
       "  ('gin', 1989),\n",
       "  ('gin', 1982),\n",
       "  ('gin', 1981),\n",
       "  ('mmr', 1991),\n",
       "  ('mmr', 1988),\n",
       "  ('mmr', 1990),\n",
       "  ('mmr', 1989),\n",
       "  ('cod', 1999),\n",
       "  ('cod', 2005),\n",
       "  ('mmr', 1992),\n",
       "  ('moz', 1985),\n",
       "  ('cod', 1998),\n",
       "  ('moz', 1986),\n",
       "  ('cod', 2006),\n",
       "  ('mmr', 1993),\n",
       "  ('cod', 1997),\n",
       "  ('lbr', 1993),\n",
       "  ('moz', 1987),\n",
       "  ('mmr', 1987),\n",
       "  ('mmr', 1994),\n",
       "  ('cod', 2007),\n",
       "  ('moz', 1984),\n",
       "  ('moz', 1992),\n",
       "  ('mli', 1982),\n",
       "  ('cod', 1996),\n",
       "  ('uga', 1986),\n",
       "  ('moz', 1988),\n",
       "  ('moz', 1983),\n",
       "  ('uga', 1987),\n",
       "  ('mmr', 1995),\n",
       "  ('mli', 1983),\n",
       "  ('uga', 1985),\n",
       "  ('cod', 1995),\n",
       "  ('mmr', 1986)])"
      ]
     },
     "execution_count": 25,
     "metadata": {},
     "output_type": "execute_result"
    }
   ],
   "source": [
    "i, g = shapeslib.get_income_gini(('ago', 1800), income_gini)\n",
    "res_distances_dict[(i, g)]"
   ]
  },
  {
   "cell_type": "code",
   "execution_count": 26,
   "id": "9f26bf3d",
   "metadata": {},
   "outputs": [],
   "source": [
    "all_neighbours = []\n",
    "for cy in income_gini.index.values:\n",
    "    i, g = shapeslib.get_income_gini(cy, income_gini)\n",
    "    all_neighbours.append((cy, res_distances_dict[(i, g)]))"
   ]
  },
  {
   "cell_type": "code",
   "execution_count": 27,
   "id": "631b6ec7",
   "metadata": {},
   "outputs": [],
   "source": [
    "all_neighbours = dict(all_neighbours)"
   ]
  },
  {
   "cell_type": "code",
   "execution_count": 28,
   "id": "f4a51045",
   "metadata": {},
   "outputs": [
    {
     "data": {
      "text/plain": [
       "(7,\n",
       " [('lbr', 1995),\n",
       "  ('cod', 2002),\n",
       "  ('cod', 2001),\n",
       "  ('lbr', 1996),\n",
       "  ('lbr', 1994),\n",
       "  ('cod', 2003),\n",
       "  ('gin', 1986),\n",
       "  ('gin', 1985),\n",
       "  ('gin', 1987),\n",
       "  ('cod', 2000),\n",
       "  ('gin', 1991),\n",
       "  ('cod', 2004),\n",
       "  ('gin', 1984),\n",
       "  ('gin', 1988),\n",
       "  ('gin', 1990),\n",
       "  ('gin', 1983),\n",
       "  ('gin', 1989),\n",
       "  ('gin', 1982),\n",
       "  ('gin', 1981),\n",
       "  ('mmr', 1991),\n",
       "  ('mmr', 1988),\n",
       "  ('mmr', 1990),\n",
       "  ('mmr', 1989),\n",
       "  ('cod', 1999),\n",
       "  ('cod', 2005),\n",
       "  ('mmr', 1992),\n",
       "  ('moz', 1985),\n",
       "  ('cod', 1998),\n",
       "  ('moz', 1986),\n",
       "  ('cod', 2006),\n",
       "  ('mmr', 1993),\n",
       "  ('cod', 1997),\n",
       "  ('lbr', 1993),\n",
       "  ('moz', 1987),\n",
       "  ('mmr', 1987),\n",
       "  ('mmr', 1994),\n",
       "  ('cod', 2007),\n",
       "  ('moz', 1984),\n",
       "  ('moz', 1992),\n",
       "  ('mli', 1982),\n",
       "  ('cod', 1996),\n",
       "  ('uga', 1986),\n",
       "  ('moz', 1988),\n",
       "  ('moz', 1983),\n",
       "  ('uga', 1987),\n",
       "  ('mmr', 1995),\n",
       "  ('mli', 1983),\n",
       "  ('uga', 1985),\n",
       "  ('cod', 1995),\n",
       "  ('mmr', 1986)])"
      ]
     },
     "execution_count": 28,
     "metadata": {},
     "output_type": "execute_result"
    }
   ],
   "source": [
    "all_neighbours[('ago', 1800)]"
   ]
  },
  {
   "cell_type": "code",
   "execution_count": 29,
   "id": "fdcab000",
   "metadata": {},
   "outputs": [],
   "source": [
    "import json"
   ]
  },
  {
   "cell_type": "code",
   "execution_count": 30,
   "id": "ccb4b88c",
   "metadata": {},
   "outputs": [],
   "source": [
    "all_neighbours_json = dict()\n",
    "\n",
    "for k, v in all_neighbours.items():\n",
    "    c, y = k\n",
    "    if c not in all_neighbours_json.keys():\n",
    "        all_neighbours_json[c] = dict()\n",
    "    all_neighbours_json[c][y] = {\n",
    "        \"countries\": v[0],\n",
    "        \"neighbours\": [list(x) for x in v[1]]\n",
    "    }"
   ]
  },
  {
   "cell_type": "code",
   "execution_count": 31,
   "id": "13285b49",
   "metadata": {},
   "outputs": [
    {
     "data": {
      "text/plain": [
       "{'countries': 7,\n",
       " 'neighbours': [['lbr', 1995],\n",
       "  ['cod', 2002],\n",
       "  ['cod', 2001],\n",
       "  ['lbr', 1996],\n",
       "  ['lbr', 1994],\n",
       "  ['cod', 2003],\n",
       "  ['gin', 1986],\n",
       "  ['gin', 1985],\n",
       "  ['gin', 1987],\n",
       "  ['cod', 2000],\n",
       "  ['gin', 1991],\n",
       "  ['cod', 2004],\n",
       "  ['gin', 1984],\n",
       "  ['gin', 1988],\n",
       "  ['gin', 1990],\n",
       "  ['gin', 1983],\n",
       "  ['gin', 1989],\n",
       "  ['gin', 1982],\n",
       "  ['gin', 1981],\n",
       "  ['mmr', 1991],\n",
       "  ['mmr', 1990],\n",
       "  ['mmr', 1988],\n",
       "  ['mmr', 1989],\n",
       "  ['cod', 1999],\n",
       "  ['cod', 2005],\n",
       "  ['mmr', 1992],\n",
       "  ['moz', 1985],\n",
       "  ['cod', 1998],\n",
       "  ['moz', 1986],\n",
       "  ['cod', 2006],\n",
       "  ['mmr', 1993],\n",
       "  ['cod', 1997],\n",
       "  ['lbr', 1993],\n",
       "  ['moz', 1987],\n",
       "  ['mmr', 1987],\n",
       "  ['mmr', 1994],\n",
       "  ['cod', 2007],\n",
       "  ['moz', 1984],\n",
       "  ['moz', 1992],\n",
       "  ['mli', 1982],\n",
       "  ['cod', 1996],\n",
       "  ['uga', 1986],\n",
       "  ['moz', 1988],\n",
       "  ['moz', 1983],\n",
       "  ['uga', 1987],\n",
       "  ['mmr', 1995],\n",
       "  ['mli', 1983],\n",
       "  ['uga', 1985],\n",
       "  ['cod', 1995],\n",
       "  ['mmr', 1986]]}"
      ]
     },
     "execution_count": 31,
     "metadata": {},
     "output_type": "execute_result"
    }
   ],
   "source": [
    "all_neighbours_json['afg'][1900]"
   ]
  },
  {
   "cell_type": "code",
   "execution_count": 32,
   "id": "5fd0d1bb",
   "metadata": {},
   "outputs": [],
   "source": [
    "k = json.dumps(all_neighbours_json)"
   ]
  },
  {
   "cell_type": "code",
   "execution_count": 33,
   "id": "a0115dba",
   "metadata": {},
   "outputs": [],
   "source": [
    "with open('../source/fixtures/neighbours_list.json', 'w') as f:\n",
    "    f.write(k)\n",
    "    f.close()"
   ]
  },
  {
   "cell_type": "code",
   "execution_count": null,
   "id": "08cad7b6",
   "metadata": {},
   "outputs": [],
   "source": []
  }
 ],
 "metadata": {
  "kernelspec": {
   "display_name": "Python 3 (ipykernel)",
   "language": "python",
   "name": "python3"
  },
  "language_info": {
   "codemirror_mode": {
    "name": "ipython",
    "version": 3
   },
   "file_extension": ".py",
   "mimetype": "text/x-python",
   "name": "python",
   "nbconvert_exporter": "python",
   "pygments_lexer": "ipython3",
   "version": "3.10.7"
  },
  "vscode": {
   "interpreter": {
    "hash": "bade94fa6dab5916a3875465aa8d670cf8ca4b0b164f89f2a3e58702811d5be6"
   }
  }
 },
 "nbformat": 4,
 "nbformat_minor": 5
}
