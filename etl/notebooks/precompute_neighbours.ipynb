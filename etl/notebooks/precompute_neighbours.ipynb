{
 "cells": [
  {
   "cell_type": "code",
   "execution_count": 1,
   "id": "a26f5ed3",
   "metadata": {},
   "outputs": [],
   "source": [
    "import pandas as pd\n",
    "import numpy as np\n",
    "import sys\n",
    "sys.path.insert(0, '../scripts/')\n",
    "\n",
    "import matplotlib.pyplot as plt\n",
    "\n",
    "%matplotlib inline"
   ]
  },
  {
   "cell_type": "code",
   "execution_count": 2,
   "id": "6d8d3390",
   "metadata": {},
   "outputs": [],
   "source": [
    "plt.rcParams['figure.figsize'] = (10, 6)\n",
    "plt.rcParams['figure.dpi'] = 196"
   ]
  },
  {
   "cell_type": "code",
   "execution_count": 3,
   "id": "a2f90ccc",
   "metadata": {},
   "outputs": [],
   "source": [
    "%load_ext autoreload\n",
    "%autoreload 1"
   ]
  },
  {
   "cell_type": "code",
   "execution_count": 4,
   "id": "7e5ee6a9",
   "metadata": {},
   "outputs": [],
   "source": [
    "%aimport shapeslib"
   ]
  },
  {
   "cell_type": "code",
   "execution_count": 5,
   "id": "5a349107",
   "metadata": {},
   "outputs": [],
   "source": [
    "income_file = '../../../ddf--gapminder--fasttrack/ddf--datapoints--mincpcap_cppp--by--country--time.csv'\n",
    "gini_file =  '../../../ddf--gapminder--fasttrack/ddf--datapoints--gini--by--country--time.csv'"
   ]
  },
  {
   "cell_type": "code",
   "execution_count": 14,
   "id": "f427220c",
   "metadata": {},
   "outputs": [],
   "source": [
    "shapes_file = '../wip/smoothshape/ddf--datapoints--population_percentage--by--country--year--coverage_type--bracket.csv'\n",
    "known_shapes = pd.read_csv(shapes_file)"
   ]
  },
  {
   "cell_type": "code",
   "execution_count": 6,
   "id": "76e72d85",
   "metadata": {},
   "outputs": [],
   "source": [
    "bracket_number_from_income = shapeslib.bracket_number_from_income"
   ]
  },
  {
   "cell_type": "code",
   "execution_count": 7,
   "id": "6bd9c9ca",
   "metadata": {},
   "outputs": [],
   "source": [
    "income = pd.read_csv(income_file).set_index(['country', 'time'])\n",
    "gini = pd.read_csv(gini_file).set_index(['country', 'time'])\n",
    "\n",
    "income.index.names = ['country', 'year']\n",
    "gini.index.names = ['country', 'year']\n",
    "\n",
    "income.columns = ['income']\n",
    "gini.columns = ['gini']"
   ]
  },
  {
   "cell_type": "code",
   "execution_count": 8,
   "id": "63c06978",
   "metadata": {},
   "outputs": [],
   "source": [
    "income_gini = pd.concat([income, gini], axis=1)"
   ]
  },
  {
   "cell_type": "code",
   "execution_count": 9,
   "id": "bffaa6c5",
   "metadata": {},
   "outputs": [
    {
     "data": {
      "text/html": [
       "<div>\n",
       "<style scoped>\n",
       "    .dataframe tbody tr th:only-of-type {\n",
       "        vertical-align: middle;\n",
       "    }\n",
       "\n",
       "    .dataframe tbody tr th {\n",
       "        vertical-align: top;\n",
       "    }\n",
       "\n",
       "    .dataframe thead th {\n",
       "        text-align: right;\n",
       "    }\n",
       "</style>\n",
       "<table border=\"1\" class=\"dataframe\">\n",
       "  <thead>\n",
       "    <tr style=\"text-align: right;\">\n",
       "      <th></th>\n",
       "      <th></th>\n",
       "      <th>income</th>\n",
       "      <th>gini</th>\n",
       "    </tr>\n",
       "    <tr>\n",
       "      <th>country</th>\n",
       "      <th>year</th>\n",
       "      <th></th>\n",
       "      <th></th>\n",
       "    </tr>\n",
       "  </thead>\n",
       "  <tbody>\n",
       "    <tr>\n",
       "      <th rowspan=\"5\" valign=\"top\">afg</th>\n",
       "      <th>1800</th>\n",
       "      <td>0.9194</td>\n",
       "      <td>30.50</td>\n",
       "    </tr>\n",
       "    <tr>\n",
       "      <th>1801</th>\n",
       "      <td>0.9194</td>\n",
       "      <td>30.50</td>\n",
       "    </tr>\n",
       "    <tr>\n",
       "      <th>1802</th>\n",
       "      <td>0.9194</td>\n",
       "      <td>30.50</td>\n",
       "    </tr>\n",
       "    <tr>\n",
       "      <th>1803</th>\n",
       "      <td>0.9194</td>\n",
       "      <td>30.50</td>\n",
       "    </tr>\n",
       "    <tr>\n",
       "      <th>1804</th>\n",
       "      <td>0.9194</td>\n",
       "      <td>30.50</td>\n",
       "    </tr>\n",
       "    <tr>\n",
       "      <th>...</th>\n",
       "      <th>...</th>\n",
       "      <td>...</td>\n",
       "      <td>...</td>\n",
       "    </tr>\n",
       "    <tr>\n",
       "      <th rowspan=\"5\" valign=\"top\">zwe</th>\n",
       "      <th>2046</th>\n",
       "      <td>5.5473</td>\n",
       "      <td>50.86</td>\n",
       "    </tr>\n",
       "    <tr>\n",
       "      <th>2047</th>\n",
       "      <td>5.6645</td>\n",
       "      <td>50.86</td>\n",
       "    </tr>\n",
       "    <tr>\n",
       "      <th>2048</th>\n",
       "      <td>5.7845</td>\n",
       "      <td>50.86</td>\n",
       "    </tr>\n",
       "    <tr>\n",
       "      <th>2049</th>\n",
       "      <td>5.9075</td>\n",
       "      <td>50.86</td>\n",
       "    </tr>\n",
       "    <tr>\n",
       "      <th>2050</th>\n",
       "      <td>6.0332</td>\n",
       "      <td>50.86</td>\n",
       "    </tr>\n",
       "  </tbody>\n",
       "</table>\n",
       "<p>49447 rows × 2 columns</p>\n",
       "</div>"
      ],
      "text/plain": [
       "              income   gini\n",
       "country year               \n",
       "afg     1800  0.9194  30.50\n",
       "        1801  0.9194  30.50\n",
       "        1802  0.9194  30.50\n",
       "        1803  0.9194  30.50\n",
       "        1804  0.9194  30.50\n",
       "...              ...    ...\n",
       "zwe     2046  5.5473  50.86\n",
       "        2047  5.6645  50.86\n",
       "        2048  5.7845  50.86\n",
       "        2049  5.9075  50.86\n",
       "        2050  6.0332  50.86\n",
       "\n",
       "[49447 rows x 2 columns]"
      ]
     },
     "execution_count": 9,
     "metadata": {},
     "output_type": "execute_result"
    }
   ],
   "source": [
    "income_gini"
   ]
  },
  {
   "cell_type": "code",
   "execution_count": 11,
   "id": "6966cf12",
   "metadata": {},
   "outputs": [],
   "source": [
    "income_gini = income_gini.dropna(how='any')"
   ]
  },
  {
   "cell_type": "code",
   "execution_count": 12,
   "id": "a21a8f04",
   "metadata": {},
   "outputs": [],
   "source": [
    "income_gini_noc = income_gini.reset_index(drop=True).drop_duplicates()"
   ]
  },
  {
   "cell_type": "code",
   "execution_count": null,
   "id": "03def337",
   "metadata": {},
   "outputs": [],
   "source": []
  },
  {
   "cell_type": "code",
   "execution_count": 16,
   "id": "c007f029",
   "metadata": {},
   "outputs": [],
   "source": [
    "known_shapes_list = known_shapes[['country', 'year']].drop_duplicates().values.tolist()"
   ]
  },
  {
   "cell_type": "code",
   "execution_count": 18,
   "id": "0d121bc6",
   "metadata": {},
   "outputs": [],
   "source": [
    "known_shapes_list = [tuple(x) for x in known_shapes_list]"
   ]
  },
  {
   "cell_type": "code",
   "execution_count": 20,
   "id": "2cb1153c",
   "metadata": {},
   "outputs": [],
   "source": [
    "known_income_gini = income_gini.loc[known_shapes_list]"
   ]
  },
  {
   "cell_type": "code",
   "execution_count": 21,
   "id": "3a8e828a",
   "metadata": {},
   "outputs": [
    {
     "data": {
      "text/html": [
       "<div>\n",
       "<style scoped>\n",
       "    .dataframe tbody tr th:only-of-type {\n",
       "        vertical-align: middle;\n",
       "    }\n",
       "\n",
       "    .dataframe tbody tr th {\n",
       "        vertical-align: top;\n",
       "    }\n",
       "\n",
       "    .dataframe thead th {\n",
       "        text-align: right;\n",
       "    }\n",
       "</style>\n",
       "<table border=\"1\" class=\"dataframe\">\n",
       "  <thead>\n",
       "    <tr style=\"text-align: right;\">\n",
       "      <th></th>\n",
       "      <th></th>\n",
       "      <th>income</th>\n",
       "      <th>gini</th>\n",
       "    </tr>\n",
       "    <tr>\n",
       "      <th>country</th>\n",
       "      <th>year</th>\n",
       "      <th></th>\n",
       "      <th></th>\n",
       "    </tr>\n",
       "  </thead>\n",
       "  <tbody>\n",
       "    <tr>\n",
       "      <th rowspan=\"5\" valign=\"top\">ago</th>\n",
       "      <th>1981</th>\n",
       "      <td>5.5461</td>\n",
       "      <td>53.97</td>\n",
       "    </tr>\n",
       "    <tr>\n",
       "      <th>1982</th>\n",
       "      <td>5.3525</td>\n",
       "      <td>53.87</td>\n",
       "    </tr>\n",
       "    <tr>\n",
       "      <th>1983</th>\n",
       "      <td>5.3818</td>\n",
       "      <td>53.77</td>\n",
       "    </tr>\n",
       "    <tr>\n",
       "      <th>1984</th>\n",
       "      <td>5.5050</td>\n",
       "      <td>53.67</td>\n",
       "    </tr>\n",
       "    <tr>\n",
       "      <th>1985</th>\n",
       "      <td>5.4991</td>\n",
       "      <td>53.56</td>\n",
       "    </tr>\n",
       "    <tr>\n",
       "      <th>...</th>\n",
       "      <th>...</th>\n",
       "      <td>...</td>\n",
       "      <td>...</td>\n",
       "    </tr>\n",
       "    <tr>\n",
       "      <th rowspan=\"5\" valign=\"top\">zwe</th>\n",
       "      <th>2015</th>\n",
       "      <td>4.4835</td>\n",
       "      <td>43.94</td>\n",
       "    </tr>\n",
       "    <tr>\n",
       "      <th>2016</th>\n",
       "      <td>4.1485</td>\n",
       "      <td>44.14</td>\n",
       "    </tr>\n",
       "    <tr>\n",
       "      <th>2017</th>\n",
       "      <td>3.9717</td>\n",
       "      <td>44.34</td>\n",
       "    </tr>\n",
       "    <tr>\n",
       "      <th>2018</th>\n",
       "      <td>4.2896</td>\n",
       "      <td>47.21</td>\n",
       "    </tr>\n",
       "    <tr>\n",
       "      <th>2019</th>\n",
       "      <td>4.0536</td>\n",
       "      <td>50.26</td>\n",
       "    </tr>\n",
       "  </tbody>\n",
       "</table>\n",
       "<p>6389 rows × 2 columns</p>\n",
       "</div>"
      ],
      "text/plain": [
       "              income   gini\n",
       "country year               \n",
       "ago     1981  5.5461  53.97\n",
       "        1982  5.3525  53.87\n",
       "        1983  5.3818  53.77\n",
       "        1984  5.5050  53.67\n",
       "        1985  5.4991  53.56\n",
       "...              ...    ...\n",
       "zwe     2015  4.4835  43.94\n",
       "        2016  4.1485  44.14\n",
       "        2017  3.9717  44.34\n",
       "        2018  4.2896  47.21\n",
       "        2019  4.0536  50.26\n",
       "\n",
       "[6389 rows x 2 columns]"
      ]
     },
     "execution_count": 21,
     "metadata": {},
     "output_type": "execute_result"
    }
   ],
   "source": [
    "known_income_gini"
   ]
  },
  {
   "cell_type": "code",
   "execution_count": 22,
   "id": "ece3aaee",
   "metadata": {},
   "outputs": [],
   "source": [
    "known_income_gini.to_csv('../wip/income_gini_for_known_shape_countries.csv')"
   ]
  },
  {
   "cell_type": "code",
   "execution_count": null,
   "id": "17dedc87",
   "metadata": {},
   "outputs": [],
   "source": []
  },
  {
   "cell_type": "code",
   "execution_count": 13,
   "id": "cd378bb0",
   "metadata": {},
   "outputs": [],
   "source": [
    "from multiprocessing import Pool"
   ]
  },
  {
   "cell_type": "code",
   "execution_count": 23,
   "id": "d64f6112",
   "metadata": {},
   "outputs": [],
   "source": [
    "def get_distances_res(v):\n",
    "    i = v[0]\n",
    "    g = v[1]\n",
    "    cno, neis = shapeslib.get_neighbors(i, g)\n",
    "    return (i, g), (cno, neis)\n",
    "\n",
    "with Pool(11) as p:\n",
    "    res_distances = p.map(get_distances_res, income_gini_noc.values)"
   ]
  },
  {
   "cell_type": "code",
   "execution_count": 24,
   "id": "bc21ab82",
   "metadata": {},
   "outputs": [],
   "source": [
    "res_distances_dict = dict(res_distances)"
   ]
  },
  {
   "cell_type": "code",
   "execution_count": 25,
   "id": "165fbefb",
   "metadata": {},
   "outputs": [
    {
     "data": {
      "text/plain": [
       "(5,\n",
       " [('hti', 1994),\n",
       "  ('hti', 1995),\n",
       "  ('caf', 2003),\n",
       "  ('caf', 2001),\n",
       "  ('caf', 2006),\n",
       "  ('caf', 2004),\n",
       "  ('hti', 1993),\n",
       "  ('hti', 1996),\n",
       "  ('swz', 1996),\n",
       "  ('caf', 2005),\n",
       "  ('hti', 1992),\n",
       "  ('caf', 2002),\n",
       "  ('caf', 2000),\n",
       "  ('caf', 2014),\n",
       "  ('caf', 2013),\n",
       "  ('caf', 2015),\n",
       "  ('hti', 1997),\n",
       "  ('caf', 2016),\n",
       "  ('caf', 2017),\n",
       "  ('hti', 1991),\n",
       "  ('caf', 2018),\n",
       "  ('caf', 2019),\n",
       "  ('caf', 1999),\n",
       "  ('hti', 1990),\n",
       "  ('hti', 1989),\n",
       "  ('swz', 1995),\n",
       "  ('hti', 1998),\n",
       "  ('hti', 1988),\n",
       "  ('caf', 2007),\n",
       "  ('caf', 2009),\n",
       "  ('swz', 1997),\n",
       "  ('zmb', 2015),\n",
       "  ('caf', 2010),\n",
       "  ('zmb', 2016),\n",
       "  ('zmb', 2019),\n",
       "  ('zmb', 2017),\n",
       "  ('zmb', 2018),\n",
       "  ('zmb', 2014),\n",
       "  ('caf', 2011),\n",
       "  ('caf', 2008),\n",
       "  ('hti', 1999),\n",
       "  ('caf', 1998),\n",
       "  ('caf', 1997),\n",
       "  ('zmb', 1992),\n",
       "  ('caf', 2012),\n",
       "  ('zmb', 2013),\n",
       "  ('zmb', 2012),\n",
       "  ('mwi', 1987),\n",
       "  ('zmb', 2011),\n",
       "  ('caf', 1996)])"
      ]
     },
     "execution_count": 25,
     "metadata": {},
     "output_type": "execute_result"
    }
   ],
   "source": [
    "i, g = shapeslib.get_income_gini(('ago', 1800), income_gini)\n",
    "res_distances_dict[(i, g)]"
   ]
  },
  {
   "cell_type": "code",
   "execution_count": 26,
   "id": "9f26bf3d",
   "metadata": {},
   "outputs": [],
   "source": [
    "all_neighbours = []\n",
    "for cy in income_gini.index.values:\n",
    "    i, g = shapeslib.get_income_gini(cy, income_gini)\n",
    "    all_neighbours.append((cy, res_distances_dict[(i, g)]))"
   ]
  },
  {
   "cell_type": "code",
   "execution_count": 27,
   "id": "631b6ec7",
   "metadata": {},
   "outputs": [],
   "source": [
    "all_neighbours = dict(all_neighbours)"
   ]
  },
  {
   "cell_type": "code",
   "execution_count": 28,
   "id": "f4a51045",
   "metadata": {},
   "outputs": [
    {
     "data": {
      "text/plain": [
       "(10,\n",
       " [('npl', 1983),\n",
       "  ('npl', 1981),\n",
       "  ('npl', 1982),\n",
       "  ('tza', 1984),\n",
       "  ('npl', 1985),\n",
       "  ('npl', 1984),\n",
       "  ('tza', 1983),\n",
       "  ('npl', 1986),\n",
       "  ('pak', 1981),\n",
       "  ('npl', 1987),\n",
       "  ('idn', 1987),\n",
       "  ('tza', 1985),\n",
       "  ('idn', 1988),\n",
       "  ('idn', 1986),\n",
       "  ('pak', 1982),\n",
       "  ('chn', 1989),\n",
       "  ('tza', 1982),\n",
       "  ('idn', 1989),\n",
       "  ('rwa', 1985),\n",
       "  ('chn', 1988),\n",
       "  ('idn', 1998),\n",
       "  ('rwa', 1984),\n",
       "  ('npl', 1988),\n",
       "  ('eth', 1999),\n",
       "  ('chn', 1987),\n",
       "  ('pak', 1983),\n",
       "  ('rwa', 1986),\n",
       "  ('eth', 2003),\n",
       "  ('idn', 1985),\n",
       "  ('eth', 2000),\n",
       "  ('rwa', 1981),\n",
       "  ('rwa', 1982),\n",
       "  ('idn', 1990),\n",
       "  ('rwa', 1983),\n",
       "  ('ind', 1981),\n",
       "  ('eth', 2002),\n",
       "  ('tjk', 1999),\n",
       "  ('eth', 2001),\n",
       "  ('bdi', 1990),\n",
       "  ('pak', 1984),\n",
       "  ('tza', 1981),\n",
       "  ('ind', 1982),\n",
       "  ('npl', 1989),\n",
       "  ('idn', 1991),\n",
       "  ('tjk', 1998),\n",
       "  ('bdi', 1989),\n",
       "  ('idn', 1981),\n",
       "  ('idn', 1982),\n",
       "  ('chn', 1990),\n",
       "  ('chn', 1986)])"
      ]
     },
     "execution_count": 28,
     "metadata": {},
     "output_type": "execute_result"
    }
   ],
   "source": [
    "all_neighbours[('afg', 1800)]"
   ]
  },
  {
   "cell_type": "code",
   "execution_count": 29,
   "id": "fdcab000",
   "metadata": {},
   "outputs": [],
   "source": [
    "import json"
   ]
  },
  {
   "cell_type": "code",
   "execution_count": 30,
   "id": "ccb4b88c",
   "metadata": {},
   "outputs": [],
   "source": [
    "all_neighbours_json = dict()\n",
    "\n",
    "for k, v in all_neighbours.items():\n",
    "    c, y = k\n",
    "    if c not in all_neighbours_json.keys():\n",
    "        all_neighbours_json[c] = dict()\n",
    "    all_neighbours_json[c][y] = {\n",
    "        \"countries\": v[0],\n",
    "        \"neighbours\": [list(x) for x in v[1]]\n",
    "    }"
   ]
  },
  {
   "cell_type": "code",
   "execution_count": 31,
   "id": "13285b49",
   "metadata": {},
   "outputs": [
    {
     "data": {
      "text/plain": [
       "{'countries': 8,\n",
       " 'neighbours': [['bdi', 1996],\n",
       "  ['bdi', 2000],\n",
       "  ['bdi', 2019],\n",
       "  ['bdi', 2001],\n",
       "  ['bdi', 2018],\n",
       "  ['bdi', 2017],\n",
       "  ['bdi', 2016],\n",
       "  ['bdi', 2015],\n",
       "  ['ner', 1993],\n",
       "  ['tcd', 2000],\n",
       "  ['tza', 2004],\n",
       "  ['sle', 2004],\n",
       "  ['tcd', 1999],\n",
       "  ['tza', 2003],\n",
       "  ['sle', 2001],\n",
       "  ['bdi', 2014],\n",
       "  ['tcd', 2001],\n",
       "  ['mmr', 1988],\n",
       "  ['mmr', 1991],\n",
       "  ['mmr', 1989],\n",
       "  ['tcd', 1996],\n",
       "  ['mmr', 1990],\n",
       "  ['tcd', 1997],\n",
       "  ['tza', 2005],\n",
       "  ['mmr', 1992],\n",
       "  ['mdg', 1997],\n",
       "  ['mmr', 1981],\n",
       "  ['mmr', 1987],\n",
       "  ['mmr', 1993],\n",
       "  ['tcd', 1998],\n",
       "  ['mmr', 1982],\n",
       "  ['mmr', 1983],\n",
       "  ['mmr', 1986],\n",
       "  ['bdi', 1997],\n",
       "  ['mmr', 1994],\n",
       "  ['mdg', 2005],\n",
       "  ['mmr', 1984],\n",
       "  ['mmr', 1985],\n",
       "  ['mdg', 1998],\n",
       "  ['sle', 2003],\n",
       "  ['mmr', 1995],\n",
       "  ['mwi', 2004],\n",
       "  ['tcd', 2002],\n",
       "  ['bdi', 2013],\n",
       "  ['tcd', 1995],\n",
       "  ['mmr', 1996],\n",
       "  ['sle', 2002],\n",
       "  ['sle', 2000],\n",
       "  ['mmr', 1997],\n",
       "  ['tcd', 1993]]}"
      ]
     },
     "execution_count": 31,
     "metadata": {},
     "output_type": "execute_result"
    }
   ],
   "source": [
    "all_neighbours_json['afg'][1900]"
   ]
  },
  {
   "cell_type": "code",
   "execution_count": 32,
   "id": "6260f688",
   "metadata": {},
   "outputs": [],
   "source": [
    "fp = open('../wip/neighbours_list.json', 'w')\n",
    "json.dump(all_neighbours_json, fp, indent=2)"
   ]
  },
  {
   "cell_type": "code",
   "execution_count": null,
   "id": "5fd0d1bb",
   "metadata": {},
   "outputs": [],
   "source": []
  }
 ],
 "metadata": {
  "kernelspec": {
   "display_name": "Python 3",
   "language": "python",
   "name": "python3"
  },
  "language_info": {
   "codemirror_mode": {
    "name": "ipython",
    "version": 3
   },
   "file_extension": ".py",
   "mimetype": "text/x-python",
   "name": "python",
   "nbconvert_exporter": "python",
   "pygments_lexer": "ipython3",
   "version": "3.8.10"
  }
 },
 "nbformat": 4,
 "nbformat_minor": 5
}
