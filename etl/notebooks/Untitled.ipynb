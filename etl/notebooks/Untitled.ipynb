{
 "cells": [
  {
   "cell_type": "code",
   "execution_count": 7,
   "id": "b2881812",
   "metadata": {},
   "outputs": [],
   "source": [
    "import pandas as pd\n",
    "import numpy as np"
   ]
  },
  {
   "cell_type": "code",
   "execution_count": 2,
   "id": "829ef8c7",
   "metadata": {},
   "outputs": [],
   "source": [
    "df = pd.read_csv('../precomputed/ddf--datapoints--income_mountain_numbers--by--country--year--bracket_200.csv')"
   ]
  },
  {
   "cell_type": "code",
   "execution_count": 3,
   "id": "2887b9a7",
   "metadata": {},
   "outputs": [
    {
     "data": {
      "text/html": [
       "<div>\n",
       "<style scoped>\n",
       "    .dataframe tbody tr th:only-of-type {\n",
       "        vertical-align: middle;\n",
       "    }\n",
       "\n",
       "    .dataframe tbody tr th {\n",
       "        vertical-align: top;\n",
       "    }\n",
       "\n",
       "    .dataframe thead th {\n",
       "        text-align: right;\n",
       "    }\n",
       "</style>\n",
       "<table border=\"1\" class=\"dataframe\">\n",
       "  <thead>\n",
       "    <tr style=\"text-align: right;\">\n",
       "      <th></th>\n",
       "      <th>country</th>\n",
       "      <th>year</th>\n",
       "      <th>bracket</th>\n",
       "      <th>income_mountain</th>\n",
       "    </tr>\n",
       "  </thead>\n",
       "  <tbody>\n",
       "    <tr>\n",
       "      <th>0</th>\n",
       "      <td>afg</td>\n",
       "      <td>1800</td>\n",
       "      <td>0</td>\n",
       "      <td>8</td>\n",
       "    </tr>\n",
       "    <tr>\n",
       "      <th>1</th>\n",
       "      <td>afg</td>\n",
       "      <td>1800</td>\n",
       "      <td>1</td>\n",
       "      <td>9</td>\n",
       "    </tr>\n",
       "    <tr>\n",
       "      <th>2</th>\n",
       "      <td>afg</td>\n",
       "      <td>1800</td>\n",
       "      <td>2</td>\n",
       "      <td>10</td>\n",
       "    </tr>\n",
       "    <tr>\n",
       "      <th>3</th>\n",
       "      <td>afg</td>\n",
       "      <td>1800</td>\n",
       "      <td>3</td>\n",
       "      <td>11</td>\n",
       "    </tr>\n",
       "    <tr>\n",
       "      <th>4</th>\n",
       "      <td>afg</td>\n",
       "      <td>1800</td>\n",
       "      <td>4</td>\n",
       "      <td>13</td>\n",
       "    </tr>\n",
       "  </tbody>\n",
       "</table>\n",
       "</div>"
      ],
      "text/plain": [
       "  country  year  bracket  income_mountain\n",
       "0     afg  1800        0                8\n",
       "1     afg  1800        1                9\n",
       "2     afg  1800        2               10\n",
       "3     afg  1800        3               11\n",
       "4     afg  1800        4               13"
      ]
     },
     "execution_count": 3,
     "metadata": {},
     "output_type": "execute_result"
    }
   ],
   "source": [
    "df.head()"
   ]
  },
  {
   "cell_type": "code",
   "execution_count": 4,
   "id": "0b3acd01",
   "metadata": {},
   "outputs": [],
   "source": [
    "def resample(ser):\n",
    "    res = pd.Series([x.sum() for x in np.split(ser.values, 50)])\n",
    "    res.index.name = 'bracket'\n",
    "    return res"
   ]
  },
  {
   "cell_type": "code",
   "execution_count": 8,
   "id": "f074c7a4",
   "metadata": {},
   "outputs": [],
   "source": [
    "res9 = df.groupby(['country', 'year']).apply(resample)"
   ]
  },
  {
   "cell_type": "code",
   "execution_count": 12,
   "id": "17a1fdaf",
   "metadata": {},
   "outputs": [],
   "source": [
    "res = res9.stack().groupby(['country']).max()"
   ]
  },
  {
   "cell_type": "code",
   "execution_count": 14,
   "id": "4c82c43a",
   "metadata": {},
   "outputs": [
    {
     "data": {
      "text/plain": [
       "226477944"
      ]
     },
     "execution_count": 14,
     "metadata": {},
     "output_type": "execute_result"
    }
   ],
   "source": [
    "res.loc['chn']"
   ]
  },
  {
   "cell_type": "code",
   "execution_count": 15,
   "id": "416db931",
   "metadata": {},
   "outputs": [],
   "source": [
    "ent = pd.read_csv('../../ddf--entities--geo--country.csv', dtype=str, keep_default_na=False)"
   ]
  },
  {
   "cell_type": "code",
   "execution_count": 17,
   "id": "6eb424fb",
   "metadata": {},
   "outputs": [],
   "source": [
    "ent = ent.set_index('country')"
   ]
  },
  {
   "cell_type": "code",
   "execution_count": 44,
   "id": "9d713898",
   "metadata": {},
   "outputs": [],
   "source": [
    "ent['income_mountain_50bracket_max_height_for_log'] = res"
   ]
  },
  {
   "cell_type": "code",
   "execution_count": 45,
   "id": "6641ab59",
   "metadata": {},
   "outputs": [
    {
     "data": {
      "text/html": [
       "<div>\n",
       "<style scoped>\n",
       "    .dataframe tbody tr th:only-of-type {\n",
       "        vertical-align: middle;\n",
       "    }\n",
       "\n",
       "    .dataframe tbody tr th {\n",
       "        vertical-align: top;\n",
       "    }\n",
       "\n",
       "    .dataframe thead th {\n",
       "        text-align: right;\n",
       "    }\n",
       "</style>\n",
       "<table border=\"1\" class=\"dataframe\">\n",
       "  <thead>\n",
       "    <tr style=\"text-align: right;\">\n",
       "      <th></th>\n",
       "      <th>name</th>\n",
       "      <th>is--country</th>\n",
       "      <th>world_4regions</th>\n",
       "      <th>west_and_rest</th>\n",
       "      <th>on_income_level</th>\n",
       "      <th>wb_income_group</th>\n",
       "      <th>income_mountain_50bracket_max_height_for_log</th>\n",
       "    </tr>\n",
       "    <tr>\n",
       "      <th>country</th>\n",
       "      <th></th>\n",
       "      <th></th>\n",
       "      <th></th>\n",
       "      <th></th>\n",
       "      <th></th>\n",
       "      <th></th>\n",
       "      <th></th>\n",
       "    </tr>\n",
       "  </thead>\n",
       "  <tbody>\n",
       "    <tr>\n",
       "      <th>kos</th>\n",
       "      <td>Kosovo</td>\n",
       "      <td>TRUE</td>\n",
       "      <td></td>\n",
       "      <td></td>\n",
       "      <td></td>\n",
       "      <td></td>\n",
       "      <td>NaN</td>\n",
       "    </tr>\n",
       "    <tr>\n",
       "      <th>xkx</th>\n",
       "      <td>Kosovo</td>\n",
       "      <td>TRUE</td>\n",
       "      <td></td>\n",
       "      <td></td>\n",
       "      <td></td>\n",
       "      <td></td>\n",
       "      <td>NaN</td>\n",
       "    </tr>\n",
       "  </tbody>\n",
       "</table>\n",
       "</div>"
      ],
      "text/plain": [
       "           name is--country world_4regions west_and_rest on_income_level  \\\n",
       "country                                                                    \n",
       "kos      Kosovo        TRUE                                                \n",
       "xkx      Kosovo        TRUE                                                \n",
       "\n",
       "        wb_income_group  income_mountain_50bracket_max_height_for_log  \n",
       "country                                                                \n",
       "kos                                                               NaN  \n",
       "xkx                                                               NaN  "
      ]
     },
     "execution_count": 45,
     "metadata": {},
     "output_type": "execute_result"
    }
   ],
   "source": [
    "ent[pd.isnull(ent.income_mountain_50bracket_max_height_for_log)]"
   ]
  },
  {
   "cell_type": "code",
   "execution_count": 46,
   "id": "3be2d38b",
   "metadata": {},
   "outputs": [],
   "source": [
    "ent['income_mountain_50bracket_max_height_for_log'] = ent['income_mountain_50bracket_max_height_for_log'].map(\n",
    "    lambda x: '' if pd.isnull(x) else str(int(x)) \n",
    ")"
   ]
  },
  {
   "cell_type": "code",
   "execution_count": 47,
   "id": "f00be35a",
   "metadata": {},
   "outputs": [
    {
     "data": {
      "text/html": [
       "<div>\n",
       "<style scoped>\n",
       "    .dataframe tbody tr th:only-of-type {\n",
       "        vertical-align: middle;\n",
       "    }\n",
       "\n",
       "    .dataframe tbody tr th {\n",
       "        vertical-align: top;\n",
       "    }\n",
       "\n",
       "    .dataframe thead th {\n",
       "        text-align: right;\n",
       "    }\n",
       "</style>\n",
       "<table border=\"1\" class=\"dataframe\">\n",
       "  <thead>\n",
       "    <tr style=\"text-align: right;\">\n",
       "      <th></th>\n",
       "      <th>name</th>\n",
       "      <th>is--country</th>\n",
       "      <th>world_4regions</th>\n",
       "      <th>west_and_rest</th>\n",
       "      <th>on_income_level</th>\n",
       "      <th>wb_income_group</th>\n",
       "      <th>income_mountain_50bracket_max_height_for_log</th>\n",
       "    </tr>\n",
       "    <tr>\n",
       "      <th>country</th>\n",
       "      <th></th>\n",
       "      <th></th>\n",
       "      <th></th>\n",
       "      <th></th>\n",
       "      <th></th>\n",
       "      <th></th>\n",
       "      <th></th>\n",
       "    </tr>\n",
       "  </thead>\n",
       "  <tbody>\n",
       "    <tr>\n",
       "      <th>alb</th>\n",
       "      <td>Albania</td>\n",
       "      <td>TRUE</td>\n",
       "      <td>14</td>\n",
       "      <td>42</td>\n",
       "      <td>24</td>\n",
       "      <td>32</td>\n",
       "      <td>687017</td>\n",
       "    </tr>\n",
       "    <tr>\n",
       "      <th>dza</th>\n",
       "      <td>Algeria</td>\n",
       "      <td>TRUE</td>\n",
       "      <td>11</td>\n",
       "      <td>42</td>\n",
       "      <td>23</td>\n",
       "      <td>33</td>\n",
       "      <td>13059714</td>\n",
       "    </tr>\n",
       "    <tr>\n",
       "      <th>ago</th>\n",
       "      <td>Angola</td>\n",
       "      <td>TRUE</td>\n",
       "      <td>11</td>\n",
       "      <td>42</td>\n",
       "      <td>23</td>\n",
       "      <td>33</td>\n",
       "      <td>8789395</td>\n",
       "    </tr>\n",
       "    <tr>\n",
       "      <th>arg</th>\n",
       "      <td>Argentina</td>\n",
       "      <td>TRUE</td>\n",
       "      <td>12</td>\n",
       "      <td>42</td>\n",
       "      <td>24</td>\n",
       "      <td>32</td>\n",
       "      <td>6989932</td>\n",
       "    </tr>\n",
       "    <tr>\n",
       "      <th>arm</th>\n",
       "      <td>Armenia</td>\n",
       "      <td>TRUE</td>\n",
       "      <td>14</td>\n",
       "      <td>42</td>\n",
       "      <td>24</td>\n",
       "      <td>32</td>\n",
       "      <td>674005</td>\n",
       "    </tr>\n",
       "    <tr>\n",
       "      <th>...</th>\n",
       "      <td>...</td>\n",
       "      <td>...</td>\n",
       "      <td>...</td>\n",
       "      <td>...</td>\n",
       "      <td>...</td>\n",
       "      <td>...</td>\n",
       "      <td>...</td>\n",
       "    </tr>\n",
       "    <tr>\n",
       "      <th>kwt</th>\n",
       "      <td>Kuwait</td>\n",
       "      <td>TRUE</td>\n",
       "      <td>13</td>\n",
       "      <td>42</td>\n",
       "      <td>21</td>\n",
       "      <td>31</td>\n",
       "      <td>953864</td>\n",
       "    </tr>\n",
       "    <tr>\n",
       "      <th>bhr</th>\n",
       "      <td>Bahrain</td>\n",
       "      <td>TRUE</td>\n",
       "      <td>13</td>\n",
       "      <td>42</td>\n",
       "      <td>21</td>\n",
       "      <td>31</td>\n",
       "      <td>405828</td>\n",
       "    </tr>\n",
       "    <tr>\n",
       "      <th>sau</th>\n",
       "      <td>Saudi Arabia</td>\n",
       "      <td>TRUE</td>\n",
       "      <td>13</td>\n",
       "      <td>42</td>\n",
       "      <td>21</td>\n",
       "      <td>31</td>\n",
       "      <td>7675543</td>\n",
       "    </tr>\n",
       "    <tr>\n",
       "      <th>mhl</th>\n",
       "      <td>Marshall Islands</td>\n",
       "      <td>TRUE</td>\n",
       "      <td>13</td>\n",
       "      <td>42</td>\n",
       "      <td>22</td>\n",
       "      <td>32</td>\n",
       "      <td>11430</td>\n",
       "    </tr>\n",
       "    <tr>\n",
       "      <th>mco</th>\n",
       "      <td>Monaco</td>\n",
       "      <td>TRUE</td>\n",
       "      <td>14</td>\n",
       "      <td>41</td>\n",
       "      <td>21</td>\n",
       "      <td>31</td>\n",
       "      <td>8028</td>\n",
       "    </tr>\n",
       "  </tbody>\n",
       "</table>\n",
       "<p>197 rows × 7 columns</p>\n",
       "</div>"
      ],
      "text/plain": [
       "                     name is--country world_4regions west_and_rest  \\\n",
       "country                                                              \n",
       "alb               Albania        TRUE             14            42   \n",
       "dza               Algeria        TRUE             11            42   \n",
       "ago                Angola        TRUE             11            42   \n",
       "arg             Argentina        TRUE             12            42   \n",
       "arm               Armenia        TRUE             14            42   \n",
       "...                   ...         ...            ...           ...   \n",
       "kwt                Kuwait        TRUE             13            42   \n",
       "bhr               Bahrain        TRUE             13            42   \n",
       "sau          Saudi Arabia        TRUE             13            42   \n",
       "mhl      Marshall Islands        TRUE             13            42   \n",
       "mco                Monaco        TRUE             14            41   \n",
       "\n",
       "        on_income_level wb_income_group  \\\n",
       "country                                   \n",
       "alb                  24              32   \n",
       "dza                  23              33   \n",
       "ago                  23              33   \n",
       "arg                  24              32   \n",
       "arm                  24              32   \n",
       "...                 ...             ...   \n",
       "kwt                  21              31   \n",
       "bhr                  21              31   \n",
       "sau                  21              31   \n",
       "mhl                  22              32   \n",
       "mco                  21              31   \n",
       "\n",
       "        income_mountain_50bracket_max_height_for_log  \n",
       "country                                               \n",
       "alb                                           687017  \n",
       "dza                                         13059714  \n",
       "ago                                          8789395  \n",
       "arg                                          6989932  \n",
       "arm                                           674005  \n",
       "...                                              ...  \n",
       "kwt                                           953864  \n",
       "bhr                                           405828  \n",
       "sau                                          7675543  \n",
       "mhl                                            11430  \n",
       "mco                                             8028  \n",
       "\n",
       "[197 rows x 7 columns]"
      ]
     },
     "execution_count": 47,
     "metadata": {},
     "output_type": "execute_result"
    }
   ],
   "source": [
    "ent"
   ]
  },
  {
   "cell_type": "code",
   "execution_count": 48,
   "id": "d8697bfd",
   "metadata": {},
   "outputs": [],
   "source": [
    "ent.to_csv('../../ddf--entities--geo--country.csv')"
   ]
  },
  {
   "cell_type": "code",
   "execution_count": null,
   "id": "3453038f",
   "metadata": {},
   "outputs": [],
   "source": []
  },
  {
   "cell_type": "code",
   "execution_count": 28,
   "id": "18870834",
   "metadata": {},
   "outputs": [
    {
     "data": {
      "text/plain": [
       "bracket\n",
       "0          1739\n",
       "1          3401\n",
       "2          5705\n",
       "3          8996\n",
       "4         14086\n",
       "5         21532\n",
       "6         32851\n",
       "7         49417\n",
       "8         76678\n",
       "9        135657\n",
       "10       336698\n",
       "11      1242594\n",
       "12      4140256\n",
       "13     11452631\n",
       "14     26540196\n",
       "15     55898777\n",
       "16    105571150\n",
       "17    168836240\n",
       "18    226477944\n",
       "19    209896395\n",
       "20    155474184\n",
       "21     99899738\n",
       "22     55219097\n",
       "23     28471105\n",
       "24     13978264\n",
       "25      6559622\n",
       "26      3083459\n",
       "27      1488612\n",
       "28       797940\n",
       "29       447944\n",
       "30       265861\n",
       "31       162089\n",
       "32       101608\n",
       "33        66009\n",
       "34        43811\n",
       "35        29838\n",
       "36        20855\n",
       "37        14485\n",
       "38        10257\n",
       "39         7144\n",
       "40         4965\n",
       "41         3469\n",
       "42         2465\n",
       "43         1805\n",
       "44         1385\n",
       "45         1125\n",
       "46          969\n",
       "47          882\n",
       "48          837\n",
       "49          819\n",
       "Name: (chn, 1990), dtype: int64"
      ]
     },
     "execution_count": 28,
     "metadata": {},
     "output_type": "execute_result"
    }
   ],
   "source": [
    "res9.loc[('chn', 1990)]"
   ]
  },
  {
   "cell_type": "code",
   "execution_count": null,
   "id": "abae33a0",
   "metadata": {},
   "outputs": [],
   "source": []
  },
  {
   "cell_type": "code",
   "execution_count": null,
   "id": "a032e182",
   "metadata": {},
   "outputs": [],
   "source": []
  },
  {
   "cell_type": "code",
   "execution_count": 36,
   "id": "dc4f71e1",
   "metadata": {},
   "outputs": [],
   "source": [
    "df = pd.read_csv('../../income_mountain/ddf--datapoints--income_mountain_50bracket_shape_for_log--by--country--year.csv')"
   ]
  },
  {
   "cell_type": "code",
   "execution_count": 37,
   "id": "fabee77e",
   "metadata": {},
   "outputs": [],
   "source": [
    "df = df.set_index(['country', 'year'])['income_mountain_50bracket_shape_for_log']"
   ]
  },
  {
   "cell_type": "code",
   "execution_count": 38,
   "id": "18f4288c",
   "metadata": {},
   "outputs": [
    {
     "data": {
      "text/plain": [
       "'1734, 3379, 5667, 8942, 14016, 21446, 32749, 49298, 76543, 135507, 336533, 1242411, 4140059, 11452417, 26539966, 55898531, 105570887, 168835961, 226477649, 209896085, 155473858, 99899395, 55218738, 28470731, 13977873, 6559215, 3083036, 1488174, 797486, 447474, 265374, 161587, 101089, 65475, 43260, 29272, 20273, 13887, 9643, 6514, 4320, 2807, 1786, 1111, 676, 399, 227, 124, 63, 29'"
      ]
     },
     "execution_count": 38,
     "metadata": {},
     "output_type": "execute_result"
    }
   ],
   "source": [
    "df.loc[('chn', 1990)]"
   ]
  },
  {
   "cell_type": "code",
   "execution_count": 33,
   "id": "429c51c8",
   "metadata": {},
   "outputs": [],
   "source": [
    "def findmax(val):\n",
    "    val_int = map(int, val.split(','))\n",
    "    return max(val_int)"
   ]
  },
  {
   "cell_type": "code",
   "execution_count": 39,
   "id": "1a1e6021",
   "metadata": {},
   "outputs": [
    {
     "data": {
      "text/plain": [
       "226477649"
      ]
     },
     "execution_count": 39,
     "metadata": {},
     "output_type": "execute_result"
    }
   ],
   "source": [
    "findmax(df.loc[('chn', 1990)])"
   ]
  },
  {
   "cell_type": "code",
   "execution_count": 40,
   "id": "4ce0c33b",
   "metadata": {},
   "outputs": [],
   "source": [
    "def findmax_in_series(ser):\n",
    "    return ser.map(findmax).max()"
   ]
  },
  {
   "cell_type": "code",
   "execution_count": 41,
   "id": "c08af03f",
   "metadata": {},
   "outputs": [
    {
     "data": {
      "text/plain": [
       "226477649"
      ]
     },
     "execution_count": 41,
     "metadata": {},
     "output_type": "execute_result"
    }
   ],
   "source": [
    "findmax_in_series(df.loc['chn'])"
   ]
  },
  {
   "cell_type": "code",
   "execution_count": 42,
   "id": "d2f675fd",
   "metadata": {},
   "outputs": [],
   "source": [
    "res = df.groupby('country').apply(findmax_in_series)"
   ]
  },
  {
   "cell_type": "code",
   "execution_count": 43,
   "id": "0e3f1525",
   "metadata": {},
   "outputs": [
    {
     "data": {
      "text/plain": [
       "country\n",
       "afg    10561865\n",
       "ago     8789395\n",
       "alb      687017\n",
       "and       14850\n",
       "are     2103785\n",
       "         ...   \n",
       "wsm       46142\n",
       "yem     8503151\n",
       "zaf     7416747\n",
       "zmb     3747980\n",
       "zwe     3058283\n",
       "Name: income_mountain_50bracket_shape_for_log, Length: 195, dtype: int64"
      ]
     },
     "execution_count": 43,
     "metadata": {},
     "output_type": "execute_result"
    }
   ],
   "source": [
    "res"
   ]
  },
  {
   "cell_type": "code",
   "execution_count": null,
   "id": "8f32893d",
   "metadata": {},
   "outputs": [],
   "source": []
  }
 ],
 "metadata": {
  "kernelspec": {
   "display_name": "Python 3",
   "language": "python",
   "name": "python3"
  },
  "language_info": {
   "codemirror_mode": {
    "name": "ipython",
    "version": 3
   },
   "file_extension": ".py",
   "mimetype": "text/x-python",
   "name": "python",
   "nbconvert_exporter": "python",
   "pygments_lexer": "ipython3",
   "version": "3.9.7"
  }
 },
 "nbformat": 4,
 "nbformat_minor": 5
}
