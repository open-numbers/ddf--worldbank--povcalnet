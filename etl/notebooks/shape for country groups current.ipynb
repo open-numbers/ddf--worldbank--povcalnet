{
 "cells": [
  {
   "cell_type": "code",
   "execution_count": 1,
   "id": "f6b836fa",
   "metadata": {},
   "outputs": [],
   "source": [
    "import pandas as pd\n",
    "import numpy as np"
   ]
  },
  {
   "cell_type": "code",
   "execution_count": 2,
   "id": "2ff3bcdf",
   "metadata": {},
   "outputs": [],
   "source": [
    "import seaborn\n",
    "import matplotlib.pyplot as plt\n",
    "%matplotlib inline"
   ]
  },
  {
   "cell_type": "code",
   "execution_count": 3,
   "id": "cae09c92",
   "metadata": {},
   "outputs": [],
   "source": [
    "seaborn.set_context('notebook')\n",
    "seaborn.set_style('whitegrid')\n",
    "plt.rcParams['figure.figsize'] = [16, 8]"
   ]
  },
  {
   "cell_type": "code",
   "execution_count": 4,
   "id": "c766cfac",
   "metadata": {},
   "outputs": [],
   "source": [
    "synonyms = pd.read_csv('../source/fixtures/ddf--open_numbers/ddf--synonyms--geo.csv')\n",
    "wb_groups = pd.read_csv('../source/fixtures/wb_income_groups.csv')\n",
    "on_income = pd.read_csv('../source/fixtures/on_income_groups.csv')"
   ]
  },
  {
   "cell_type": "code",
   "execution_count": 5,
   "id": "73799aba",
   "metadata": {},
   "outputs": [
    {
     "name": "stdout",
     "output_type": "stream",
     "text": [
      "brackets.csv\t\t\t\t ddf--open_numbers\r\n",
      "ddf--entities--coverage_type.csv\t neighbours_list.json\r\n",
      "ddf--entities--geo--on_income_level.csv  on_income_groups.csv\r\n",
      "ddf--entities--geo--wb_income_group.csv  povcal_country_year.csv\r\n",
      "ddf--entities--geo--west_and_rest.csv\t wb_income_groups.csv\r\n",
      "ddf--entities--geo--world_4regions.csv\t west_and_rest.csv\r\n"
     ]
    }
   ],
   "source": [
    "!ls ../source/fixtures/"
   ]
  },
  {
   "cell_type": "code",
   "execution_count": 6,
   "id": "cde31cc8",
   "metadata": {},
   "outputs": [
    {
     "name": "stdout",
     "output_type": "stream",
     "text": [
      "ddf--datapoints--population--by--geo--time--income_bracket_50.csv\r\n",
      "ddf--datapoints--population_percentage--by--geo--time--income_bracket_50.csv\r\n",
      "headcount_200_bracket.pkl\r\n"
     ]
    }
   ],
   "source": [
    "!ls ../datapoints/"
   ]
  },
  {
   "cell_type": "code",
   "execution_count": 7,
   "id": "e762aff7",
   "metadata": {},
   "outputs": [
    {
     "name": "stdout",
     "output_type": "stream",
     "text": [
      "ddf--datapoints--income_mountain_50bracket_shape_for_log--by--country--time.csv\r\n",
      "ddf--datapoints--income_mountain_50bracket_shape_for_log--by--g77_and_oecd_countries--time.csv\r\n",
      "ddf--datapoints--income_mountain_50bracket_shape_for_log--by--global--time.csv\r\n",
      "ddf--datapoints--income_mountain_50bracket_shape_for_log--by--income_3groups--time.csv\r\n",
      "ddf--datapoints--income_mountain_50bracket_shape_for_log--by--income_groups--time.csv\r\n",
      "ddf--datapoints--income_mountain_50bracket_shape_for_log--by--landlocked--time.csv\r\n",
      "ddf--datapoints--income_mountain_50bracket_shape_for_log--by--main_religion_2008--time.csv\r\n",
      "ddf--datapoints--income_mountain_50bracket_shape_for_log--by--unhcr_region--time.csv\r\n",
      "ddf--datapoints--income_mountain_50bracket_shape_for_log--by--unicef_region--time.csv\r\n",
      "ddf--datapoints--income_mountain_50bracket_shape_for_log--by--un_sdg_ldc--time.csv\r\n",
      "ddf--datapoints--income_mountain_50bracket_shape_for_log--by--un_sdg_region--time.csv\r\n",
      "ddf--datapoints--income_mountain_50bracket_shape_for_log--by--west_and_rest--time.csv\r\n",
      "ddf--datapoints--income_mountain_50bracket_shape_for_log--by--world_4region--time.csv\r\n",
      "ddf--datapoints--income_mountain_50bracket_shape_for_log--by--world_6region--time.csv\r\n",
      "ddf--datapoints--income_mountain_79bracket_shape_for_log--by--country--time.csv\r\n"
     ]
    }
   ],
   "source": [
    "!ls ../../income_mountain/"
   ]
  },
  {
   "cell_type": "markdown",
   "id": "178a71e7",
   "metadata": {},
   "source": [
    "we have these groups and we need to have shapes for all of them:\n",
    "\n",
    "- country.csv\n",
    "- g77_and_oecd_countries.csv\n",
    "- global.csv\n",
    "- income_3groups.csv\n",
    "- income_groups.csv\n",
    "- landlocked.csv\n",
    "- main_religion_2008.csv\n",
    "- unhcr_region.csv\n",
    "- unicef_region.csv\n",
    "- un_sdg_ldc.csv\n",
    "- un_sdg_region.csv\n",
    "- west_and_rest.csv\n",
    "- world_4region.csv\n",
    "- world_6region.csv\n",
    "\n",
    "income_groups and income_3groups comes from WB."
   ]
  },
  {
   "cell_type": "code",
   "execution_count": null,
   "id": "14b70ca6",
   "metadata": {},
   "outputs": [],
   "source": []
  },
  {
   "cell_type": "code",
   "execution_count": 8,
   "id": "c1e7763a",
   "metadata": {},
   "outputs": [],
   "source": [
    "# load data\n",
    "data = pd.read_csv('../datapoints/ddf--datapoints--population--by--geo--time--income_bracket_50.csv')"
   ]
  },
  {
   "cell_type": "code",
   "execution_count": 9,
   "id": "bb6524c4",
   "metadata": {},
   "outputs": [
    {
     "data": {
      "text/html": [
       "<div>\n",
       "<style scoped>\n",
       "    .dataframe tbody tr th:only-of-type {\n",
       "        vertical-align: middle;\n",
       "    }\n",
       "\n",
       "    .dataframe tbody tr th {\n",
       "        vertical-align: top;\n",
       "    }\n",
       "\n",
       "    .dataframe thead th {\n",
       "        text-align: right;\n",
       "    }\n",
       "</style>\n",
       "<table border=\"1\" class=\"dataframe\">\n",
       "  <thead>\n",
       "    <tr style=\"text-align: right;\">\n",
       "      <th></th>\n",
       "      <th>geo</th>\n",
       "      <th>time</th>\n",
       "      <th>bracket</th>\n",
       "      <th>population</th>\n",
       "    </tr>\n",
       "  </thead>\n",
       "  <tbody>\n",
       "    <tr>\n",
       "      <th>0</th>\n",
       "      <td>afg</td>\n",
       "      <td>1800</td>\n",
       "      <td>0</td>\n",
       "      <td>32</td>\n",
       "    </tr>\n",
       "    <tr>\n",
       "      <th>1</th>\n",
       "      <td>afg</td>\n",
       "      <td>1800</td>\n",
       "      <td>1</td>\n",
       "      <td>53</td>\n",
       "    </tr>\n",
       "    <tr>\n",
       "      <th>2</th>\n",
       "      <td>afg</td>\n",
       "      <td>1800</td>\n",
       "      <td>2</td>\n",
       "      <td>88</td>\n",
       "    </tr>\n",
       "    <tr>\n",
       "      <th>3</th>\n",
       "      <td>afg</td>\n",
       "      <td>1800</td>\n",
       "      <td>3</td>\n",
       "      <td>150</td>\n",
       "    </tr>\n",
       "    <tr>\n",
       "      <th>4</th>\n",
       "      <td>afg</td>\n",
       "      <td>1800</td>\n",
       "      <td>4</td>\n",
       "      <td>263</td>\n",
       "    </tr>\n",
       "    <tr>\n",
       "      <th>...</th>\n",
       "      <td>...</td>\n",
       "      <td>...</td>\n",
       "      <td>...</td>\n",
       "      <td>...</td>\n",
       "    </tr>\n",
       "    <tr>\n",
       "      <th>2447245</th>\n",
       "      <td>zwe</td>\n",
       "      <td>2050</td>\n",
       "      <td>45</td>\n",
       "      <td>443</td>\n",
       "    </tr>\n",
       "    <tr>\n",
       "      <th>2447246</th>\n",
       "      <td>zwe</td>\n",
       "      <td>2050</td>\n",
       "      <td>46</td>\n",
       "      <td>255</td>\n",
       "    </tr>\n",
       "    <tr>\n",
       "      <th>2447247</th>\n",
       "      <td>zwe</td>\n",
       "      <td>2050</td>\n",
       "      <td>47</td>\n",
       "      <td>139</td>\n",
       "    </tr>\n",
       "    <tr>\n",
       "      <th>2447248</th>\n",
       "      <td>zwe</td>\n",
       "      <td>2050</td>\n",
       "      <td>48</td>\n",
       "      <td>71</td>\n",
       "    </tr>\n",
       "    <tr>\n",
       "      <th>2447249</th>\n",
       "      <td>zwe</td>\n",
       "      <td>2050</td>\n",
       "      <td>49</td>\n",
       "      <td>34</td>\n",
       "    </tr>\n",
       "  </tbody>\n",
       "</table>\n",
       "<p>2447250 rows × 4 columns</p>\n",
       "</div>"
      ],
      "text/plain": [
       "         geo  time  bracket  population\n",
       "0        afg  1800        0          32\n",
       "1        afg  1800        1          53\n",
       "2        afg  1800        2          88\n",
       "3        afg  1800        3         150\n",
       "4        afg  1800        4         263\n",
       "...      ...   ...      ...         ...\n",
       "2447245  zwe  2050       45         443\n",
       "2447246  zwe  2050       46         255\n",
       "2447247  zwe  2050       47         139\n",
       "2447248  zwe  2050       48          71\n",
       "2447249  zwe  2050       49          34\n",
       "\n",
       "[2447250 rows x 4 columns]"
      ]
     },
     "execution_count": 9,
     "metadata": {},
     "output_type": "execute_result"
    }
   ],
   "source": [
    "data"
   ]
  },
  {
   "cell_type": "code",
   "execution_count": 10,
   "id": "1d2740ec",
   "metadata": {},
   "outputs": [],
   "source": [
    "max_heights = dict()"
   ]
  },
  {
   "cell_type": "code",
   "execution_count": 11,
   "id": "7df20ef8",
   "metadata": {},
   "outputs": [],
   "source": [
    "max_heights['country'] = data.groupby('geo')['population'].max()"
   ]
  },
  {
   "cell_type": "code",
   "execution_count": null,
   "id": "6cbe8f8c",
   "metadata": {},
   "outputs": [],
   "source": []
  },
  {
   "cell_type": "code",
   "execution_count": null,
   "id": "2adf5ea0",
   "metadata": {},
   "outputs": [],
   "source": []
  },
  {
   "cell_type": "code",
   "execution_count": 12,
   "id": "bf050385",
   "metadata": {},
   "outputs": [],
   "source": [
    "# income_groups and income_3groups\n",
    "# we create long series by combining WB and ON groups"
   ]
  },
  {
   "cell_type": "code",
   "execution_count": 13,
   "id": "eda4b8f9",
   "metadata": {},
   "outputs": [
    {
     "data": {
      "text/html": [
       "<div>\n",
       "<style scoped>\n",
       "    .dataframe tbody tr th:only-of-type {\n",
       "        vertical-align: middle;\n",
       "    }\n",
       "\n",
       "    .dataframe tbody tr th {\n",
       "        vertical-align: top;\n",
       "    }\n",
       "\n",
       "    .dataframe thead th {\n",
       "        text-align: right;\n",
       "    }\n",
       "</style>\n",
       "<table border=\"1\" class=\"dataframe\">\n",
       "  <thead>\n",
       "    <tr style=\"text-align: right;\">\n",
       "      <th></th>\n",
       "      <th>geo</th>\n",
       "      <th>name</th>\n",
       "      <th>time</th>\n",
       "      <th>4 income groups (WB)</th>\n",
       "      <th>3 income groups (WB)</th>\n",
       "    </tr>\n",
       "  </thead>\n",
       "  <tbody>\n",
       "    <tr>\n",
       "      <th>0</th>\n",
       "      <td>afg</td>\n",
       "      <td>Afghanistan</td>\n",
       "      <td>1987</td>\n",
       "      <td>Low income</td>\n",
       "      <td>Low income</td>\n",
       "    </tr>\n",
       "    <tr>\n",
       "      <th>1</th>\n",
       "      <td>afg</td>\n",
       "      <td>Afghanistan</td>\n",
       "      <td>1988</td>\n",
       "      <td>Low income</td>\n",
       "      <td>Low income</td>\n",
       "    </tr>\n",
       "    <tr>\n",
       "      <th>2</th>\n",
       "      <td>afg</td>\n",
       "      <td>Afghanistan</td>\n",
       "      <td>1989</td>\n",
       "      <td>Low income</td>\n",
       "      <td>Low income</td>\n",
       "    </tr>\n",
       "    <tr>\n",
       "      <th>3</th>\n",
       "      <td>afg</td>\n",
       "      <td>Afghanistan</td>\n",
       "      <td>1990</td>\n",
       "      <td>Low income</td>\n",
       "      <td>Low income</td>\n",
       "    </tr>\n",
       "    <tr>\n",
       "      <th>4</th>\n",
       "      <td>afg</td>\n",
       "      <td>Afghanistan</td>\n",
       "      <td>1991</td>\n",
       "      <td>Low income</td>\n",
       "      <td>Low income</td>\n",
       "    </tr>\n",
       "    <tr>\n",
       "      <th>...</th>\n",
       "      <td>...</td>\n",
       "      <td>...</td>\n",
       "      <td>...</td>\n",
       "      <td>...</td>\n",
       "      <td>...</td>\n",
       "    </tr>\n",
       "    <tr>\n",
       "      <th>6659</th>\n",
       "      <td>zwe</td>\n",
       "      <td>Zimbabwe</td>\n",
       "      <td>2016</td>\n",
       "      <td>Low income</td>\n",
       "      <td>Low income</td>\n",
       "    </tr>\n",
       "    <tr>\n",
       "      <th>6660</th>\n",
       "      <td>zwe</td>\n",
       "      <td>Zimbabwe</td>\n",
       "      <td>2017</td>\n",
       "      <td>Low income</td>\n",
       "      <td>Low income</td>\n",
       "    </tr>\n",
       "    <tr>\n",
       "      <th>6661</th>\n",
       "      <td>zwe</td>\n",
       "      <td>Zimbabwe</td>\n",
       "      <td>2018</td>\n",
       "      <td>Lower middle income</td>\n",
       "      <td>Middle income</td>\n",
       "    </tr>\n",
       "    <tr>\n",
       "      <th>6662</th>\n",
       "      <td>zwe</td>\n",
       "      <td>Zimbabwe</td>\n",
       "      <td>2019</td>\n",
       "      <td>Lower middle income</td>\n",
       "      <td>Middle income</td>\n",
       "    </tr>\n",
       "    <tr>\n",
       "      <th>6663</th>\n",
       "      <td>zwe</td>\n",
       "      <td>Zimbabwe</td>\n",
       "      <td>2020</td>\n",
       "      <td>Lower middle income</td>\n",
       "      <td>Middle income</td>\n",
       "    </tr>\n",
       "  </tbody>\n",
       "</table>\n",
       "<p>6664 rows × 5 columns</p>\n",
       "</div>"
      ],
      "text/plain": [
       "      geo         name  time 4 income groups (WB) 3 income groups (WB)\n",
       "0     afg  Afghanistan  1987           Low income           Low income\n",
       "1     afg  Afghanistan  1988           Low income           Low income\n",
       "2     afg  Afghanistan  1989           Low income           Low income\n",
       "3     afg  Afghanistan  1990           Low income           Low income\n",
       "4     afg  Afghanistan  1991           Low income           Low income\n",
       "...   ...          ...   ...                  ...                  ...\n",
       "6659  zwe     Zimbabwe  2016           Low income           Low income\n",
       "6660  zwe     Zimbabwe  2017           Low income           Low income\n",
       "6661  zwe     Zimbabwe  2018  Lower middle income        Middle income\n",
       "6662  zwe     Zimbabwe  2019  Lower middle income        Middle income\n",
       "6663  zwe     Zimbabwe  2020  Lower middle income        Middle income\n",
       "\n",
       "[6664 rows x 5 columns]"
      ]
     },
     "execution_count": 13,
     "metadata": {},
     "output_type": "execute_result"
    }
   ],
   "source": [
    "wb_groups"
   ]
  },
  {
   "cell_type": "code",
   "execution_count": 14,
   "id": "70f505d3",
   "metadata": {},
   "outputs": [
    {
     "data": {
      "text/plain": [
       "Index(['geo', 'name', 'time', '4 income groups (WB)', '3 income groups (WB)'], dtype='object')"
      ]
     },
     "execution_count": 14,
     "metadata": {},
     "output_type": "execute_result"
    }
   ],
   "source": [
    "wb_groups.columns"
   ]
  },
  {
   "cell_type": "code",
   "execution_count": 15,
   "id": "6d2de594",
   "metadata": {},
   "outputs": [],
   "source": [
    "wb = wb_groups[['geo', 'time', \"4 income groups (WB)\"]].copy()"
   ]
  },
  {
   "cell_type": "code",
   "execution_count": 16,
   "id": "ac1ce9c7",
   "metadata": {},
   "outputs": [],
   "source": [
    "wb.columns = ['geo', 'time', 'level']"
   ]
  },
  {
   "cell_type": "code",
   "execution_count": 17,
   "id": "5e59099d",
   "metadata": {},
   "outputs": [],
   "source": [
    "on_income.columns = ['geo', 'time', 'level']"
   ]
  },
  {
   "cell_type": "code",
   "execution_count": 18,
   "id": "696e23b5",
   "metadata": {},
   "outputs": [],
   "source": [
    "on_map = {'Level 1': 'l1',\n",
    "          'Level 2': 'l2',\n",
    "          'Level 3': 'l3',\n",
    "          'Level 4': 'l4',\n",
    "         }\n",
    "\n",
    "wb_map = {'Low income': 'l1',\n",
    "          'Lower middle income': 'l2',\n",
    "          'Upper middle income': 'l3',\n",
    "          'High income': 'l4',\n",
    "         }"
   ]
  },
  {
   "cell_type": "code",
   "execution_count": 19,
   "id": "8228f361",
   "metadata": {},
   "outputs": [],
   "source": [
    "wb['level'] = wb['level'].map(lambda x: wb_map[x])"
   ]
  },
  {
   "cell_type": "code",
   "execution_count": 20,
   "id": "6a753114",
   "metadata": {},
   "outputs": [],
   "source": [
    "on = on_income.copy()"
   ]
  },
  {
   "cell_type": "code",
   "execution_count": 21,
   "id": "41d7442a",
   "metadata": {},
   "outputs": [],
   "source": [
    "on['level'] = on['level'].map(lambda x: on_map[x])"
   ]
  },
  {
   "cell_type": "code",
   "execution_count": 22,
   "id": "f71c0852",
   "metadata": {},
   "outputs": [
    {
     "data": {
      "text/plain": [
       "array(['l1', 'l2', 'l3', 'l4'], dtype=object)"
      ]
     },
     "execution_count": 22,
     "metadata": {},
     "output_type": "execute_result"
    }
   ],
   "source": [
    "on['level'].unique()"
   ]
  },
  {
   "cell_type": "code",
   "execution_count": 23,
   "id": "5b60da68",
   "metadata": {},
   "outputs": [],
   "source": [
    "wb = wb.set_index(['geo', 'time'])\n",
    "on = on.set_index(['geo', 'time'])"
   ]
  },
  {
   "cell_type": "code",
   "execution_count": 24,
   "id": "b19200ce",
   "metadata": {},
   "outputs": [],
   "source": [
    "on.update(wb)"
   ]
  },
  {
   "cell_type": "code",
   "execution_count": 25,
   "id": "021770f9",
   "metadata": {},
   "outputs": [],
   "source": [
    "cmp = on['level'] == on_income.set_index(['geo', 'time'])['level'].map(lambda x: on_map[x])"
   ]
  },
  {
   "cell_type": "code",
   "execution_count": 26,
   "id": "6cb36fb3",
   "metadata": {},
   "outputs": [],
   "source": [
    "income_groups = on.copy()"
   ]
  },
  {
   "cell_type": "code",
   "execution_count": 27,
   "id": "c2822ead",
   "metadata": {},
   "outputs": [],
   "source": [
    "income_3groups = income_groups.copy()"
   ]
  },
  {
   "cell_type": "code",
   "execution_count": 28,
   "id": "84f9d87a",
   "metadata": {},
   "outputs": [],
   "source": [
    "concept_id_map = {'l1': 'low_income',\n",
    "                  'l2': 'lower_middle_income',\n",
    "                  'l3': 'upper_middle_income',\n",
    "                  'l4': 'high_income'\n",
    "                 }\n",
    "\n",
    "concept_id_map3 = {'l1': 'low_income',\n",
    "                   'l2': 'middle_income',\n",
    "                   'l3': 'middle_income',\n",
    "                   'l4': 'high_income'\n",
    "                 }"
   ]
  },
  {
   "cell_type": "code",
   "execution_count": 29,
   "id": "6e62b8d4",
   "metadata": {},
   "outputs": [],
   "source": [
    "income_groups['level'] = income_groups['level'].map(lambda x: concept_id_map[x])"
   ]
  },
  {
   "cell_type": "code",
   "execution_count": 30,
   "id": "b88043ad",
   "metadata": {},
   "outputs": [],
   "source": [
    "income_3groups['level'] = income_3groups['level'].map(lambda x: concept_id_map3[x])"
   ]
  },
  {
   "cell_type": "code",
   "execution_count": 31,
   "id": "82635e61",
   "metadata": {},
   "outputs": [
    {
     "data": {
      "text/plain": [
       "array(['low_income', 'middle_income', 'high_income'], dtype=object)"
      ]
     },
     "execution_count": 31,
     "metadata": {},
     "output_type": "execute_result"
    }
   ],
   "source": [
    "income_3groups['level'].unique()"
   ]
  },
  {
   "cell_type": "code",
   "execution_count": 32,
   "id": "ab0dbb92",
   "metadata": {},
   "outputs": [
    {
     "data": {
      "text/plain": [
       "array(['low_income', 'lower_middle_income', 'upper_middle_income',\n",
       "       'high_income'], dtype=object)"
      ]
     },
     "execution_count": 32,
     "metadata": {},
     "output_type": "execute_result"
    }
   ],
   "source": [
    "income_groups['level'].unique()"
   ]
  },
  {
   "cell_type": "code",
   "execution_count": 33,
   "id": "b77cc7c2",
   "metadata": {},
   "outputs": [
    {
     "data": {
      "text/html": [
       "<div>\n",
       "<style scoped>\n",
       "    .dataframe tbody tr th:only-of-type {\n",
       "        vertical-align: middle;\n",
       "    }\n",
       "\n",
       "    .dataframe tbody tr th {\n",
       "        vertical-align: top;\n",
       "    }\n",
       "\n",
       "    .dataframe thead th {\n",
       "        text-align: right;\n",
       "    }\n",
       "</style>\n",
       "<table border=\"1\" class=\"dataframe\">\n",
       "  <thead>\n",
       "    <tr style=\"text-align: right;\">\n",
       "      <th></th>\n",
       "      <th></th>\n",
       "      <th>level</th>\n",
       "    </tr>\n",
       "    <tr>\n",
       "      <th>geo</th>\n",
       "      <th>time</th>\n",
       "      <th></th>\n",
       "    </tr>\n",
       "  </thead>\n",
       "  <tbody>\n",
       "    <tr>\n",
       "      <th rowspan=\"5\" valign=\"top\">afg</th>\n",
       "      <th>1800</th>\n",
       "      <td>low_income</td>\n",
       "    </tr>\n",
       "    <tr>\n",
       "      <th>1801</th>\n",
       "      <td>low_income</td>\n",
       "    </tr>\n",
       "    <tr>\n",
       "      <th>1802</th>\n",
       "      <td>low_income</td>\n",
       "    </tr>\n",
       "    <tr>\n",
       "      <th>1803</th>\n",
       "      <td>low_income</td>\n",
       "    </tr>\n",
       "    <tr>\n",
       "      <th>1804</th>\n",
       "      <td>low_income</td>\n",
       "    </tr>\n",
       "    <tr>\n",
       "      <th>...</th>\n",
       "      <th>...</th>\n",
       "      <td>...</td>\n",
       "    </tr>\n",
       "    <tr>\n",
       "      <th rowspan=\"5\" valign=\"top\">zwe</th>\n",
       "      <th>2046</th>\n",
       "      <td>lower_middle_income</td>\n",
       "    </tr>\n",
       "    <tr>\n",
       "      <th>2047</th>\n",
       "      <td>lower_middle_income</td>\n",
       "    </tr>\n",
       "    <tr>\n",
       "      <th>2048</th>\n",
       "      <td>lower_middle_income</td>\n",
       "    </tr>\n",
       "    <tr>\n",
       "      <th>2049</th>\n",
       "      <td>lower_middle_income</td>\n",
       "    </tr>\n",
       "    <tr>\n",
       "      <th>2050</th>\n",
       "      <td>lower_middle_income</td>\n",
       "    </tr>\n",
       "  </tbody>\n",
       "</table>\n",
       "<p>48945 rows × 1 columns</p>\n",
       "</div>"
      ],
      "text/plain": [
       "                        level\n",
       "geo time                     \n",
       "afg 1800           low_income\n",
       "    1801           low_income\n",
       "    1802           low_income\n",
       "    1803           low_income\n",
       "    1804           low_income\n",
       "...                       ...\n",
       "zwe 2046  lower_middle_income\n",
       "    2047  lower_middle_income\n",
       "    2048  lower_middle_income\n",
       "    2049  lower_middle_income\n",
       "    2050  lower_middle_income\n",
       "\n",
       "[48945 rows x 1 columns]"
      ]
     },
     "execution_count": 33,
     "metadata": {},
     "output_type": "execute_result"
    }
   ],
   "source": [
    "income_groups"
   ]
  },
  {
   "cell_type": "code",
   "execution_count": 34,
   "id": "6ae963f0",
   "metadata": {},
   "outputs": [],
   "source": [
    "# income_groups.to_csv('../precomputed/income_groups-wb2020.csv')\n",
    "# income_3groups.to_csv('../precomputed/income_3groups-wb2020.csv')"
   ]
  },
  {
   "cell_type": "code",
   "execution_count": 35,
   "id": "40023e64",
   "metadata": {},
   "outputs": [],
   "source": [
    "df = data.copy()"
   ]
  },
  {
   "cell_type": "code",
   "execution_count": 36,
   "id": "cd7d9fe6",
   "metadata": {},
   "outputs": [
    {
     "data": {
      "text/html": [
       "<div>\n",
       "<style scoped>\n",
       "    .dataframe tbody tr th:only-of-type {\n",
       "        vertical-align: middle;\n",
       "    }\n",
       "\n",
       "    .dataframe tbody tr th {\n",
       "        vertical-align: top;\n",
       "    }\n",
       "\n",
       "    .dataframe thead th {\n",
       "        text-align: right;\n",
       "    }\n",
       "</style>\n",
       "<table border=\"1\" class=\"dataframe\">\n",
       "  <thead>\n",
       "    <tr style=\"text-align: right;\">\n",
       "      <th></th>\n",
       "      <th>geo</th>\n",
       "      <th>time</th>\n",
       "      <th>bracket</th>\n",
       "      <th>population</th>\n",
       "    </tr>\n",
       "  </thead>\n",
       "  <tbody>\n",
       "    <tr>\n",
       "      <th>0</th>\n",
       "      <td>afg</td>\n",
       "      <td>1800</td>\n",
       "      <td>0</td>\n",
       "      <td>32</td>\n",
       "    </tr>\n",
       "    <tr>\n",
       "      <th>1</th>\n",
       "      <td>afg</td>\n",
       "      <td>1800</td>\n",
       "      <td>1</td>\n",
       "      <td>53</td>\n",
       "    </tr>\n",
       "    <tr>\n",
       "      <th>2</th>\n",
       "      <td>afg</td>\n",
       "      <td>1800</td>\n",
       "      <td>2</td>\n",
       "      <td>88</td>\n",
       "    </tr>\n",
       "    <tr>\n",
       "      <th>3</th>\n",
       "      <td>afg</td>\n",
       "      <td>1800</td>\n",
       "      <td>3</td>\n",
       "      <td>150</td>\n",
       "    </tr>\n",
       "    <tr>\n",
       "      <th>4</th>\n",
       "      <td>afg</td>\n",
       "      <td>1800</td>\n",
       "      <td>4</td>\n",
       "      <td>263</td>\n",
       "    </tr>\n",
       "    <tr>\n",
       "      <th>...</th>\n",
       "      <td>...</td>\n",
       "      <td>...</td>\n",
       "      <td>...</td>\n",
       "      <td>...</td>\n",
       "    </tr>\n",
       "    <tr>\n",
       "      <th>2447245</th>\n",
       "      <td>zwe</td>\n",
       "      <td>2050</td>\n",
       "      <td>45</td>\n",
       "      <td>443</td>\n",
       "    </tr>\n",
       "    <tr>\n",
       "      <th>2447246</th>\n",
       "      <td>zwe</td>\n",
       "      <td>2050</td>\n",
       "      <td>46</td>\n",
       "      <td>255</td>\n",
       "    </tr>\n",
       "    <tr>\n",
       "      <th>2447247</th>\n",
       "      <td>zwe</td>\n",
       "      <td>2050</td>\n",
       "      <td>47</td>\n",
       "      <td>139</td>\n",
       "    </tr>\n",
       "    <tr>\n",
       "      <th>2447248</th>\n",
       "      <td>zwe</td>\n",
       "      <td>2050</td>\n",
       "      <td>48</td>\n",
       "      <td>71</td>\n",
       "    </tr>\n",
       "    <tr>\n",
       "      <th>2447249</th>\n",
       "      <td>zwe</td>\n",
       "      <td>2050</td>\n",
       "      <td>49</td>\n",
       "      <td>34</td>\n",
       "    </tr>\n",
       "  </tbody>\n",
       "</table>\n",
       "<p>2447250 rows × 4 columns</p>\n",
       "</div>"
      ],
      "text/plain": [
       "         geo  time  bracket  population\n",
       "0        afg  1800        0          32\n",
       "1        afg  1800        1          53\n",
       "2        afg  1800        2          88\n",
       "3        afg  1800        3         150\n",
       "4        afg  1800        4         263\n",
       "...      ...   ...      ...         ...\n",
       "2447245  zwe  2050       45         443\n",
       "2447246  zwe  2050       46         255\n",
       "2447247  zwe  2050       47         139\n",
       "2447248  zwe  2050       48          71\n",
       "2447249  zwe  2050       49          34\n",
       "\n",
       "[2447250 rows x 4 columns]"
      ]
     },
     "execution_count": 36,
     "metadata": {},
     "output_type": "execute_result"
    }
   ],
   "source": [
    "df"
   ]
  },
  {
   "cell_type": "code",
   "execution_count": 37,
   "id": "e3ea92d3",
   "metadata": {},
   "outputs": [],
   "source": [
    "df.columns = ['geo', 'time', 'income_bracket_50', 'population']"
   ]
  },
  {
   "cell_type": "code",
   "execution_count": 38,
   "id": "c53978f0",
   "metadata": {},
   "outputs": [],
   "source": [
    "income_groups = income_groups.sort_index()\n",
    "income_3groups = income_3groups.sort_index()"
   ]
  },
  {
   "cell_type": "code",
   "execution_count": 39,
   "id": "8c6c96e2",
   "metadata": {},
   "outputs": [],
   "source": [
    "# %%timeit\n",
    "# income_groups['level'].loc[('zwe', 2050)]"
   ]
  },
  {
   "cell_type": "code",
   "execution_count": 40,
   "id": "e1edc5a6",
   "metadata": {},
   "outputs": [],
   "source": [
    "# %%timeit\n",
    "# income_groups['level'].at[('zwe', 2050)]"
   ]
  },
  {
   "cell_type": "code",
   "execution_count": 41,
   "id": "ac6b96af",
   "metadata": {},
   "outputs": [],
   "source": [
    "_d = income_groups['level'].to_dict()"
   ]
  },
  {
   "cell_type": "code",
   "execution_count": 42,
   "id": "f609f199",
   "metadata": {},
   "outputs": [],
   "source": [
    "# %%timeit\n",
    "# _d[('zwe', 2050)]"
   ]
  },
  {
   "cell_type": "code",
   "execution_count": 43,
   "id": "65f75aaf",
   "metadata": {},
   "outputs": [],
   "source": [
    "_lv = income_groups['level']"
   ]
  },
  {
   "cell_type": "code",
   "execution_count": 44,
   "id": "8012b3e6",
   "metadata": {},
   "outputs": [],
   "source": [
    "# %%time\n",
    "\n",
    "# ig = [_lv.at[(row['geo'], row['time'])] for _, row in df.iterrows()]"
   ]
  },
  {
   "cell_type": "code",
   "execution_count": 45,
   "id": "17a2912f",
   "metadata": {},
   "outputs": [],
   "source": [
    "# %%time\n",
    "\n",
    "# ig = [_d[(row['geo'], row['time'])] for _, row in df.iterrows()]"
   ]
  },
  {
   "cell_type": "code",
   "execution_count": null,
   "id": "3ef12ae0",
   "metadata": {},
   "outputs": [],
   "source": []
  },
  {
   "cell_type": "code",
   "execution_count": 46,
   "id": "b3dd547d",
   "metadata": {},
   "outputs": [],
   "source": [
    "# According to above testing, this one performs best:\n",
    "ig = [_d[(row['geo'], row['time'])] for _, row in df.iterrows()]"
   ]
  },
  {
   "cell_type": "code",
   "execution_count": 47,
   "id": "bdcc35b8",
   "metadata": {},
   "outputs": [],
   "source": [
    "df['income_groups'] = ig"
   ]
  },
  {
   "cell_type": "code",
   "execution_count": 48,
   "id": "6e33cf5a",
   "metadata": {},
   "outputs": [],
   "source": [
    "res_ig = df.groupby(by=['income_groups', 'time', 'income_bracket_50'])['population'].sum()"
   ]
  },
  {
   "cell_type": "code",
   "execution_count": 49,
   "id": "fa5e2d15",
   "metadata": {},
   "outputs": [
    {
     "data": {
      "text/plain": [
       "<AxesSubplot:xlabel='income_bracket_50'>"
      ]
     },
     "execution_count": 49,
     "metadata": {},
     "output_type": "execute_result"
    },
    {
     "data": {
      "image/png": "[encoded data removed]",
      "text/plain": [
       "<Figure size 1152x576 with 1 Axes>"
      ]
     },
     "metadata": {},
     "output_type": "display_data"
    }
   ],
   "source": [
    "res_ig.loc['upper_middle_income', 2021].plot()"
   ]
  },
  {
   "cell_type": "code",
   "execution_count": 50,
   "id": "374856ef",
   "metadata": {},
   "outputs": [
    {
     "data": {
      "text/plain": [
       "<AxesSubplot:xlabel='income_bracket_50'>"
      ]
     },
     "execution_count": 50,
     "metadata": {},
     "output_type": "execute_result"
    },
    {
     "data": {
      "image/png": "[encoded data removed]",
      "text/plain": [
       "<Figure size 1152x576 with 1 Axes>"
      ]
     },
     "metadata": {},
     "output_type": "display_data"
    }
   ],
   "source": [
    "res_ig.loc['high_income', 2021].plot()"
   ]
  },
  {
   "cell_type": "code",
   "execution_count": null,
   "id": "bd17d6a5",
   "metadata": {},
   "outputs": [],
   "source": []
  },
  {
   "cell_type": "code",
   "execution_count": 51,
   "id": "e488ca47",
   "metadata": {},
   "outputs": [
    {
     "data": {
      "text/html": [
       "<div>\n",
       "<style scoped>\n",
       "    .dataframe tbody tr th:only-of-type {\n",
       "        vertical-align: middle;\n",
       "    }\n",
       "\n",
       "    .dataframe tbody tr th {\n",
       "        vertical-align: top;\n",
       "    }\n",
       "\n",
       "    .dataframe thead th {\n",
       "        text-align: right;\n",
       "    }\n",
       "</style>\n",
       "<table border=\"1\" class=\"dataframe\">\n",
       "  <thead>\n",
       "    <tr style=\"text-align: right;\">\n",
       "      <th></th>\n",
       "      <th>income_bracket_50</th>\n",
       "      <th>0</th>\n",
       "      <th>1</th>\n",
       "      <th>2</th>\n",
       "      <th>3</th>\n",
       "      <th>4</th>\n",
       "      <th>5</th>\n",
       "      <th>6</th>\n",
       "      <th>7</th>\n",
       "      <th>8</th>\n",
       "      <th>9</th>\n",
       "      <th>...</th>\n",
       "      <th>40</th>\n",
       "      <th>41</th>\n",
       "      <th>42</th>\n",
       "      <th>43</th>\n",
       "      <th>44</th>\n",
       "      <th>45</th>\n",
       "      <th>46</th>\n",
       "      <th>47</th>\n",
       "      <th>48</th>\n",
       "      <th>49</th>\n",
       "    </tr>\n",
       "    <tr>\n",
       "      <th>income_groups</th>\n",
       "      <th>time</th>\n",
       "      <th></th>\n",
       "      <th></th>\n",
       "      <th></th>\n",
       "      <th></th>\n",
       "      <th></th>\n",
       "      <th></th>\n",
       "      <th></th>\n",
       "      <th></th>\n",
       "      <th></th>\n",
       "      <th></th>\n",
       "      <th></th>\n",
       "      <th></th>\n",
       "      <th></th>\n",
       "      <th></th>\n",
       "      <th></th>\n",
       "      <th></th>\n",
       "      <th></th>\n",
       "      <th></th>\n",
       "      <th></th>\n",
       "      <th></th>\n",
       "      <th></th>\n",
       "    </tr>\n",
       "  </thead>\n",
       "  <tbody>\n",
       "    <tr>\n",
       "      <th rowspan=\"5\" valign=\"top\">high_income</th>\n",
       "      <th>1944</th>\n",
       "      <td>0</td>\n",
       "      <td>0</td>\n",
       "      <td>0</td>\n",
       "      <td>0</td>\n",
       "      <td>0</td>\n",
       "      <td>0</td>\n",
       "      <td>0</td>\n",
       "      <td>0</td>\n",
       "      <td>0</td>\n",
       "      <td>0</td>\n",
       "      <td>...</td>\n",
       "      <td>11</td>\n",
       "      <td>5</td>\n",
       "      <td>3</td>\n",
       "      <td>1</td>\n",
       "      <td>1</td>\n",
       "      <td>0</td>\n",
       "      <td>0</td>\n",
       "      <td>0</td>\n",
       "      <td>0</td>\n",
       "      <td>0</td>\n",
       "    </tr>\n",
       "    <tr>\n",
       "      <th>1945</th>\n",
       "      <td>0</td>\n",
       "      <td>0</td>\n",
       "      <td>0</td>\n",
       "      <td>0</td>\n",
       "      <td>0</td>\n",
       "      <td>0</td>\n",
       "      <td>0</td>\n",
       "      <td>0</td>\n",
       "      <td>0</td>\n",
       "      <td>0</td>\n",
       "      <td>...</td>\n",
       "      <td>15</td>\n",
       "      <td>8</td>\n",
       "      <td>4</td>\n",
       "      <td>2</td>\n",
       "      <td>1</td>\n",
       "      <td>0</td>\n",
       "      <td>0</td>\n",
       "      <td>0</td>\n",
       "      <td>0</td>\n",
       "      <td>0</td>\n",
       "    </tr>\n",
       "    <tr>\n",
       "      <th>1946</th>\n",
       "      <td>0</td>\n",
       "      <td>0</td>\n",
       "      <td>0</td>\n",
       "      <td>0</td>\n",
       "      <td>0</td>\n",
       "      <td>0</td>\n",
       "      <td>0</td>\n",
       "      <td>0</td>\n",
       "      <td>0</td>\n",
       "      <td>0</td>\n",
       "      <td>...</td>\n",
       "      <td>24</td>\n",
       "      <td>12</td>\n",
       "      <td>7</td>\n",
       "      <td>4</td>\n",
       "      <td>2</td>\n",
       "      <td>1</td>\n",
       "      <td>1</td>\n",
       "      <td>0</td>\n",
       "      <td>0</td>\n",
       "      <td>0</td>\n",
       "    </tr>\n",
       "    <tr>\n",
       "      <th>1947</th>\n",
       "      <td>0</td>\n",
       "      <td>0</td>\n",
       "      <td>0</td>\n",
       "      <td>0</td>\n",
       "      <td>0</td>\n",
       "      <td>0</td>\n",
       "      <td>0</td>\n",
       "      <td>0</td>\n",
       "      <td>0</td>\n",
       "      <td>0</td>\n",
       "      <td>...</td>\n",
       "      <td>48</td>\n",
       "      <td>23</td>\n",
       "      <td>12</td>\n",
       "      <td>6</td>\n",
       "      <td>4</td>\n",
       "      <td>2</td>\n",
       "      <td>1</td>\n",
       "      <td>1</td>\n",
       "      <td>0</td>\n",
       "      <td>0</td>\n",
       "    </tr>\n",
       "    <tr>\n",
       "      <th>1948</th>\n",
       "      <td>0</td>\n",
       "      <td>0</td>\n",
       "      <td>0</td>\n",
       "      <td>0</td>\n",
       "      <td>0</td>\n",
       "      <td>0</td>\n",
       "      <td>0</td>\n",
       "      <td>0</td>\n",
       "      <td>0</td>\n",
       "      <td>0</td>\n",
       "      <td>...</td>\n",
       "      <td>61</td>\n",
       "      <td>29</td>\n",
       "      <td>14</td>\n",
       "      <td>7</td>\n",
       "      <td>4</td>\n",
       "      <td>2</td>\n",
       "      <td>1</td>\n",
       "      <td>1</td>\n",
       "      <td>0</td>\n",
       "      <td>0</td>\n",
       "    </tr>\n",
       "    <tr>\n",
       "      <th>...</th>\n",
       "      <th>...</th>\n",
       "      <td>...</td>\n",
       "      <td>...</td>\n",
       "      <td>...</td>\n",
       "      <td>...</td>\n",
       "      <td>...</td>\n",
       "      <td>...</td>\n",
       "      <td>...</td>\n",
       "      <td>...</td>\n",
       "      <td>...</td>\n",
       "      <td>...</td>\n",
       "      <td>...</td>\n",
       "      <td>...</td>\n",
       "      <td>...</td>\n",
       "      <td>...</td>\n",
       "      <td>...</td>\n",
       "      <td>...</td>\n",
       "      <td>...</td>\n",
       "      <td>...</td>\n",
       "      <td>...</td>\n",
       "      <td>...</td>\n",
       "      <td>...</td>\n",
       "    </tr>\n",
       "    <tr>\n",
       "      <th rowspan=\"5\" valign=\"top\">upper_middle_income</th>\n",
       "      <th>2046</th>\n",
       "      <td>0</td>\n",
       "      <td>1396</td>\n",
       "      <td>4802</td>\n",
       "      <td>8705</td>\n",
       "      <td>15828</td>\n",
       "      <td>28213</td>\n",
       "      <td>45828</td>\n",
       "      <td>69475</td>\n",
       "      <td>105204</td>\n",
       "      <td>161134</td>\n",
       "      <td>...</td>\n",
       "      <td>655904</td>\n",
       "      <td>382619</td>\n",
       "      <td>226536</td>\n",
       "      <td>135329</td>\n",
       "      <td>82006</td>\n",
       "      <td>51639</td>\n",
       "      <td>32531</td>\n",
       "      <td>20882</td>\n",
       "      <td>13308</td>\n",
       "      <td>8353</td>\n",
       "    </tr>\n",
       "    <tr>\n",
       "      <th>2047</th>\n",
       "      <td>0</td>\n",
       "      <td>1321</td>\n",
       "      <td>4626</td>\n",
       "      <td>8472</td>\n",
       "      <td>15541</td>\n",
       "      <td>27674</td>\n",
       "      <td>45332</td>\n",
       "      <td>68938</td>\n",
       "      <td>104307</td>\n",
       "      <td>159324</td>\n",
       "      <td>...</td>\n",
       "      <td>685176</td>\n",
       "      <td>399535</td>\n",
       "      <td>236576</td>\n",
       "      <td>141260</td>\n",
       "      <td>85402</td>\n",
       "      <td>53755</td>\n",
       "      <td>33817</td>\n",
       "      <td>21690</td>\n",
       "      <td>13823</td>\n",
       "      <td>8688</td>\n",
       "    </tr>\n",
       "    <tr>\n",
       "      <th>2048</th>\n",
       "      <td>0</td>\n",
       "      <td>1421</td>\n",
       "      <td>4508</td>\n",
       "      <td>8217</td>\n",
       "      <td>15225</td>\n",
       "      <td>27131</td>\n",
       "      <td>44884</td>\n",
       "      <td>68432</td>\n",
       "      <td>103411</td>\n",
       "      <td>157442</td>\n",
       "      <td>...</td>\n",
       "      <td>715640</td>\n",
       "      <td>417455</td>\n",
       "      <td>246856</td>\n",
       "      <td>147486</td>\n",
       "      <td>89029</td>\n",
       "      <td>55946</td>\n",
       "      <td>35179</td>\n",
       "      <td>22559</td>\n",
       "      <td>14384</td>\n",
       "      <td>9051</td>\n",
       "    </tr>\n",
       "    <tr>\n",
       "      <th>2049</th>\n",
       "      <td>0</td>\n",
       "      <td>1227</td>\n",
       "      <td>4190</td>\n",
       "      <td>7599</td>\n",
       "      <td>14204</td>\n",
       "      <td>25362</td>\n",
       "      <td>42316</td>\n",
       "      <td>63913</td>\n",
       "      <td>95693</td>\n",
       "      <td>143980</td>\n",
       "      <td>...</td>\n",
       "      <td>381414</td>\n",
       "      <td>231407</td>\n",
       "      <td>142906</td>\n",
       "      <td>91320</td>\n",
       "      <td>59165</td>\n",
       "      <td>39194</td>\n",
       "      <td>25749</td>\n",
       "      <td>17046</td>\n",
       "      <td>11035</td>\n",
       "      <td>7003</td>\n",
       "    </tr>\n",
       "    <tr>\n",
       "      <th>2050</th>\n",
       "      <td>0</td>\n",
       "      <td>1051</td>\n",
       "      <td>4023</td>\n",
       "      <td>7399</td>\n",
       "      <td>13889</td>\n",
       "      <td>24820</td>\n",
       "      <td>41897</td>\n",
       "      <td>63457</td>\n",
       "      <td>94912</td>\n",
       "      <td>142644</td>\n",
       "      <td>...</td>\n",
       "      <td>398853</td>\n",
       "      <td>241425</td>\n",
       "      <td>149119</td>\n",
       "      <td>94995</td>\n",
       "      <td>61562</td>\n",
       "      <td>40737</td>\n",
       "      <td>26791</td>\n",
       "      <td>17725</td>\n",
       "      <td>11498</td>\n",
       "      <td>7315</td>\n",
       "    </tr>\n",
       "  </tbody>\n",
       "</table>\n",
       "<p>774 rows × 50 columns</p>\n",
       "</div>"
      ],
      "text/plain": [
       "income_bracket_50         0     1     2     3      4      5      6      7   \\\n",
       "income_groups       time                                                     \n",
       "high_income         1944   0     0     0     0      0      0      0      0   \n",
       "                    1945   0     0     0     0      0      0      0      0   \n",
       "                    1946   0     0     0     0      0      0      0      0   \n",
       "                    1947   0     0     0     0      0      0      0      0   \n",
       "                    1948   0     0     0     0      0      0      0      0   \n",
       "...                       ..   ...   ...   ...    ...    ...    ...    ...   \n",
       "upper_middle_income 2046   0  1396  4802  8705  15828  28213  45828  69475   \n",
       "                    2047   0  1321  4626  8472  15541  27674  45332  68938   \n",
       "                    2048   0  1421  4508  8217  15225  27131  44884  68432   \n",
       "                    2049   0  1227  4190  7599  14204  25362  42316  63913   \n",
       "                    2050   0  1051  4023  7399  13889  24820  41897  63457   \n",
       "\n",
       "income_bracket_50             8       9   ...      40      41      42      43  \\\n",
       "income_groups       time                  ...                                   \n",
       "high_income         1944       0       0  ...      11       5       3       1   \n",
       "                    1945       0       0  ...      15       8       4       2   \n",
       "                    1946       0       0  ...      24      12       7       4   \n",
       "                    1947       0       0  ...      48      23      12       6   \n",
       "                    1948       0       0  ...      61      29      14       7   \n",
       "...                          ...     ...  ...     ...     ...     ...     ...   \n",
       "upper_middle_income 2046  105204  161134  ...  655904  382619  226536  135329   \n",
       "                    2047  104307  159324  ...  685176  399535  236576  141260   \n",
       "                    2048  103411  157442  ...  715640  417455  246856  147486   \n",
       "                    2049   95693  143980  ...  381414  231407  142906   91320   \n",
       "                    2050   94912  142644  ...  398853  241425  149119   94995   \n",
       "\n",
       "income_bracket_50            44     45     46     47     48    49  \n",
       "income_groups       time                                           \n",
       "high_income         1944      1      0      0      0      0     0  \n",
       "                    1945      1      0      0      0      0     0  \n",
       "                    1946      2      1      1      0      0     0  \n",
       "                    1947      4      2      1      1      0     0  \n",
       "                    1948      4      2      1      1      0     0  \n",
       "...                         ...    ...    ...    ...    ...   ...  \n",
       "upper_middle_income 2046  82006  51639  32531  20882  13308  8353  \n",
       "                    2047  85402  53755  33817  21690  13823  8688  \n",
       "                    2048  89029  55946  35179  22559  14384  9051  \n",
       "                    2049  59165  39194  25749  17046  11035  7003  \n",
       "                    2050  61562  40737  26791  17725  11498  7315  \n",
       "\n",
       "[774 rows x 50 columns]"
      ]
     },
     "execution_count": 51,
     "metadata": {},
     "output_type": "execute_result"
    }
   ],
   "source": [
    "res_ig.unstack()"
   ]
  },
  {
   "cell_type": "code",
   "execution_count": 52,
   "id": "0a618abb",
   "metadata": {},
   "outputs": [
    {
     "data": {
      "text/plain": [
       "income_groups        time\n",
       "high_income          1944    0,0,0,0,0,0,0,0,0,0,0,1,1,1,2,3,5,9,16,31,65,1...\n",
       "                     1945    0,0,0,0,0,0,0,0,0,0,1,1,1,1,2,3,6,10,16,28,51,...\n",
       "                     1946    0,0,0,0,0,0,0,0,0,0,1,1,1,1,2,3,4,7,11,18,30,5...\n",
       "                     1947    0,0,0,0,0,0,0,0,0,0,0,0,0,1,1,1,2,4,6,11,18,32...\n",
       "                     1948    0,0,0,0,0,0,0,0,0,0,0,0,0,0,0,1,1,2,3,6,10,18,...\n",
       "                                                   ...                        \n",
       "upper_middle_income  2046    0,1396,4802,8705,15828,28213,45828,69475,10520...\n",
       "                     2047    0,1321,4626,8472,15541,27674,45332,68938,10430...\n",
       "                     2048    0,1421,4508,8217,15225,27131,44884,68432,10341...\n",
       "                     2049    0,1227,4190,7599,14204,25362,42316,63913,95693...\n",
       "                     2050    0,1051,4023,7399,13889,24820,41897,63457,94912...\n",
       "Length: 774, dtype: object"
      ]
     },
     "execution_count": 52,
     "metadata": {},
     "output_type": "execute_result"
    }
   ],
   "source": [
    "res_ig.unstack().apply(lambda r: r.astype(str).str.cat(sep=','), axis=1)"
   ]
  },
  {
   "cell_type": "code",
   "execution_count": 53,
   "id": "73602196",
   "metadata": {},
   "outputs": [],
   "source": [
    "def concat_values(ser):\n",
    "    res = ser.unstack().apply(lambda r: r.astype(str).str.cat(sep=','), axis=1)\n",
    "    res.name = 'income_mountain_50bracket_shape_for_log'\n",
    "    return res"
   ]
  },
  {
   "cell_type": "code",
   "execution_count": 54,
   "id": "e599a128",
   "metadata": {},
   "outputs": [
    {
     "data": {
      "text/plain": [
       "income_groups        time  income_bracket_50\n",
       "high_income          1944  0                        0\n",
       "                           1                        0\n",
       "                           2                        0\n",
       "                           3                        0\n",
       "                           4                        0\n",
       "                                                ...  \n",
       "upper_middle_income  2050  45                   40737\n",
       "                           46                   26791\n",
       "                           47                   17725\n",
       "                           48                   11498\n",
       "                           49                    7315\n",
       "Name: population, Length: 38700, dtype: int64"
      ]
     },
     "execution_count": 54,
     "metadata": {},
     "output_type": "execute_result"
    }
   ],
   "source": [
    "res_ig"
   ]
  },
  {
   "cell_type": "code",
   "execution_count": 55,
   "id": "e4fc88d5",
   "metadata": {},
   "outputs": [],
   "source": [
    "max_heights['income_groups'] = res_ig.groupby('income_groups').max()"
   ]
  },
  {
   "cell_type": "code",
   "execution_count": null,
   "id": "2229cb79",
   "metadata": {},
   "outputs": [],
   "source": []
  },
  {
   "cell_type": "code",
   "execution_count": 56,
   "id": "0119cf57",
   "metadata": {},
   "outputs": [],
   "source": [
    "res_ig = concat_values(res_ig)"
   ]
  },
  {
   "cell_type": "code",
   "execution_count": 57,
   "id": "6b20217d",
   "metadata": {},
   "outputs": [],
   "source": [
    "res_ig.to_csv('../../income_mountain/ddf--datapoints--income_mountain_50bracket_shape_for_log--by--income_groups--time.csv')"
   ]
  },
  {
   "cell_type": "code",
   "execution_count": null,
   "id": "47453958",
   "metadata": {},
   "outputs": [],
   "source": []
  },
  {
   "cell_type": "code",
   "execution_count": 58,
   "id": "4c873e2f",
   "metadata": {},
   "outputs": [],
   "source": [
    "_d = income_3groups['level'].to_dict()"
   ]
  },
  {
   "cell_type": "code",
   "execution_count": 59,
   "id": "02e6c729",
   "metadata": {},
   "outputs": [],
   "source": [
    "ig3 = [_d[(row['geo'], row['time'])] for _, row in df.iterrows()]"
   ]
  },
  {
   "cell_type": "code",
   "execution_count": 60,
   "id": "5951fb23",
   "metadata": {},
   "outputs": [],
   "source": [
    "df['income_3groups'] = ig3"
   ]
  },
  {
   "cell_type": "code",
   "execution_count": 61,
   "id": "dc03a56d",
   "metadata": {},
   "outputs": [],
   "source": [
    "res_ig3 = df.groupby(by=['income_3groups', 'time', 'income_bracket_50'])['population'].sum()"
   ]
  },
  {
   "cell_type": "code",
   "execution_count": 62,
   "id": "f813f0f6",
   "metadata": {},
   "outputs": [],
   "source": [
    "max_heights['income_3groups'] = res_ig3.groupby('income_3groups').max()"
   ]
  },
  {
   "cell_type": "code",
   "execution_count": 63,
   "id": "a1a2619f",
   "metadata": {},
   "outputs": [],
   "source": [
    "res_ig3 = concat_values(res_ig3)"
   ]
  },
  {
   "cell_type": "code",
   "execution_count": 64,
   "id": "8af9dc1f",
   "metadata": {},
   "outputs": [
    {
     "data": {
      "text/plain": [
       "income_3groups  time\n",
       "high_income     1944    0,0,0,0,0,0,0,0,0,0,0,1,1,1,2,3,5,9,16,31,65,1...\n",
       "                1945    0,0,0,0,0,0,0,0,0,0,1,1,1,1,2,3,6,10,16,28,51,...\n",
       "                1946    0,0,0,0,0,0,0,0,0,0,1,1,1,1,2,3,4,7,11,18,30,5...\n",
       "                1947    0,0,0,0,0,0,0,0,0,0,0,0,0,1,1,1,2,4,6,11,18,32...\n",
       "                1948    0,0,0,0,0,0,0,0,0,0,0,0,0,0,0,1,1,2,3,6,10,18,...\n",
       "                                              ...                        \n",
       "middle_income   2046    717,5452,16833,31163,51731,82931,129207,198817...\n",
       "                2047    580,5098,16336,30792,51478,82421,128480,197441...\n",
       "                2048    464,4949,16757,33883,57288,90802,140214,213239...\n",
       "                2049    5692,12461,27375,50179,82135,129097,201636,311...\n",
       "                2050    5471,11872,26462,49312,81122,127422,199172,307...\n",
       "Name: income_mountain_50bracket_shape_for_log, Length: 609, dtype: object"
      ]
     },
     "execution_count": 64,
     "metadata": {},
     "output_type": "execute_result"
    }
   ],
   "source": [
    "res_ig3"
   ]
  },
  {
   "cell_type": "code",
   "execution_count": 65,
   "id": "9d3080b1",
   "metadata": {},
   "outputs": [],
   "source": [
    "res_ig3.to_csv('../../income_mountain/ddf--datapoints--income_mountain_50bracket_shape_for_log--by--income_3groups--time.csv')"
   ]
  },
  {
   "cell_type": "code",
   "execution_count": 66,
   "id": "1b12a557",
   "metadata": {},
   "outputs": [
    {
     "data": {
      "text/plain": [
       "'5471,11872,26462,49312,81122,127422,199172,307104,477759,763176,1249594,2088217,3571540,6170990,10578673,18026971,30596563,52270490,88693537,142408937,212446703,299654333,414669361,578538060,719553135,724021431,600215147,435759413,294542294,192719151,120597518,72169136,41972103,23904318,13470237,7531959,4211745,2362643,1350004,794872,475638,292705,183319,117728,76496,50399,32923,21528,13791,8646'"
      ]
     },
     "execution_count": 66,
     "metadata": {},
     "output_type": "execute_result"
    }
   ],
   "source": [
    "res_ig3.at[('middle_income', 2050)]"
   ]
  },
  {
   "cell_type": "code",
   "execution_count": null,
   "id": "59ba8c09",
   "metadata": {},
   "outputs": [],
   "source": []
  },
  {
   "cell_type": "code",
   "execution_count": null,
   "id": "737828da",
   "metadata": {},
   "outputs": [],
   "source": []
  },
  {
   "cell_type": "code",
   "execution_count": 67,
   "id": "852fb8bb",
   "metadata": {},
   "outputs": [],
   "source": [
    "countries = pd.read_csv('../source/fixtures/ddf--open_numbers/ddf--entities--geo--country.csv')"
   ]
  },
  {
   "cell_type": "code",
   "execution_count": 68,
   "id": "4e6b34d9",
   "metadata": {},
   "outputs": [],
   "source": [
    "# g77_and_oecd_countries"
   ]
  },
  {
   "cell_type": "code",
   "execution_count": 69,
   "id": "1913ef41",
   "metadata": {},
   "outputs": [],
   "source": [
    "k = 'g77_and_oecd_countries'"
   ]
  },
  {
   "cell_type": "code",
   "execution_count": 70,
   "id": "0cc9df91",
   "metadata": {},
   "outputs": [],
   "source": [
    "_d = countries.set_index('country')[k].dropna().to_dict()"
   ]
  },
  {
   "cell_type": "code",
   "execution_count": 71,
   "id": "7acf3779",
   "metadata": {},
   "outputs": [],
   "source": [
    "# this one missing in open_numbers ontology\n",
    "_d['ssd'] = 'g77'"
   ]
  },
  {
   "cell_type": "code",
   "execution_count": 72,
   "id": "98a9e8fb",
   "metadata": {},
   "outputs": [],
   "source": [
    "def _f(x):\n",
    "    try:\n",
    "        return _d[x]\n",
    "    except KeyError:\n",
    "        print(x)\n",
    "        return None\n",
    "df[k] = df['geo'].map(_f)"
   ]
  },
  {
   "cell_type": "code",
   "execution_count": 73,
   "id": "f22185ab",
   "metadata": {},
   "outputs": [],
   "source": [
    "res_g77 = df.groupby(by=[k, 'time', 'income_bracket_50'])['population'].sum()"
   ]
  },
  {
   "cell_type": "code",
   "execution_count": 74,
   "id": "0fc4b7b6",
   "metadata": {},
   "outputs": [],
   "source": [
    "max_heights[k] = res_g77.groupby(k).max()"
   ]
  },
  {
   "cell_type": "code",
   "execution_count": 75,
   "id": "c2f19620",
   "metadata": {},
   "outputs": [],
   "source": [
    "res_g77 = concat_values(res_g77)"
   ]
  },
  {
   "cell_type": "code",
   "execution_count": 76,
   "id": "93dbaba6",
   "metadata": {},
   "outputs": [
    {
     "data": {
      "text/plain": [
       "g77_and_oecd_countries  time\n",
       "g77                     1800    291000,420391,568779,766687,1038594,1441286,20...\n",
       "                        1801    293156,423145,572407,771480,1045080,1450532,20...\n",
       "                        1802    295291,425856,575984,776194,1051460,1459573,20...\n",
       "                        1803    297197,428358,579323,780650,1057545,1468266,21...\n",
       "                        1804    299617,431464,583442,786156,1065039,1478913,21...\n",
       "                                                      ...                        \n",
       "others                  2046    0,2,25,55,103,202,318,477,692,1005,1623,2509,3...\n",
       "                        2047    0,2,23,54,96,193,309,467,676,979,1569,2430,378...\n",
       "                        2048    0,0,21,51,90,187,305,465,674,975,1547,2389,370...\n",
       "                        2049    0,0,17,49,86,183,297,454,663,952,1504,2313,357...\n",
       "                        2050    0,0,17,47,78,178,291,449,653,937,1463,2248,345...\n",
       "Name: income_mountain_50bracket_shape_for_log, Length: 753, dtype: object"
      ]
     },
     "execution_count": 76,
     "metadata": {},
     "output_type": "execute_result"
    }
   ],
   "source": [
    "res_g77"
   ]
  },
  {
   "cell_type": "code",
   "execution_count": 77,
   "id": "58018a1f",
   "metadata": {},
   "outputs": [],
   "source": [
    "res_g77.to_csv('../../income_mountain/ddf--datapoints--income_mountain_50bracket_shape_for_log--by--g77_and_oecd_countries--time.csv')"
   ]
  },
  {
   "cell_type": "code",
   "execution_count": null,
   "id": "15204b27",
   "metadata": {},
   "outputs": [],
   "source": []
  },
  {
   "cell_type": "code",
   "execution_count": 78,
   "id": "12c6b5a1",
   "metadata": {},
   "outputs": [],
   "source": [
    "# global"
   ]
  },
  {
   "cell_type": "code",
   "execution_count": 79,
   "id": "5fd92929",
   "metadata": {},
   "outputs": [],
   "source": [
    "df['global'] = 'world'"
   ]
  },
  {
   "cell_type": "code",
   "execution_count": 80,
   "id": "14d6ac39",
   "metadata": {},
   "outputs": [],
   "source": [
    "res_glob = df.groupby(by=['global', 'time', 'income_bracket_50'])['population'].sum()"
   ]
  },
  {
   "cell_type": "code",
   "execution_count": 81,
   "id": "9fc05f04",
   "metadata": {},
   "outputs": [],
   "source": [
    "max_heights['global'] = res_glob.groupby('global').max()"
   ]
  },
  {
   "cell_type": "code",
   "execution_count": 82,
   "id": "0f54e1fd",
   "metadata": {},
   "outputs": [],
   "source": [
    "res_glob = concat_values(res_glob)"
   ]
  },
  {
   "cell_type": "code",
   "execution_count": 83,
   "id": "5c83b23b",
   "metadata": {},
   "outputs": [
    {
     "data": {
      "text/plain": [
       "global  time\n",
       "world   1800    346103,509756,706578,979841,1350928,1898369,27...\n",
       "        1801    348648,513140,711101,985981,1359430,1910577,27...\n",
       "        1802    350514,515321,714251,990188,1365315,1918972,27...\n",
       "        1803    352520,517789,717894,995316,1372431,1929195,27...\n",
       "        1804    354811,520279,721530,1000312,1379347,1939144,2...\n",
       "                                      ...                        \n",
       "        2046    6443,15910,48040,85282,133583,201460,302159,45...\n",
       "        2047    6185,14916,47565,85889,135142,202974,303180,45...\n",
       "        2048    5948,14164,44657,82408,130581,196515,294327,44...\n",
       "        2049    5700,13036,42056,80519,128625,193681,290251,43...\n",
       "        2050    5478,12334,39923,78831,126719,190950,286340,42...\n",
       "Name: income_mountain_50bracket_shape_for_log, Length: 251, dtype: object"
      ]
     },
     "execution_count": 83,
     "metadata": {},
     "output_type": "execute_result"
    }
   ],
   "source": [
    "res_glob"
   ]
  },
  {
   "cell_type": "code",
   "execution_count": 84,
   "id": "388c1ff6",
   "metadata": {},
   "outputs": [],
   "source": [
    "res_glob.to_csv('../../income_mountain/ddf--datapoints--income_mountain_50bracket_shape_for_log--by--global--time.csv')"
   ]
  },
  {
   "cell_type": "code",
   "execution_count": null,
   "id": "ce2ea580",
   "metadata": {},
   "outputs": [],
   "source": []
  },
  {
   "cell_type": "code",
   "execution_count": 85,
   "id": "23d78f32",
   "metadata": {},
   "outputs": [],
   "source": [
    "# landlocked"
   ]
  },
  {
   "cell_type": "code",
   "execution_count": 86,
   "id": "5418ef70",
   "metadata": {},
   "outputs": [],
   "source": [
    "_d = countries.set_index('country')['landlocked'].dropna().to_dict()"
   ]
  },
  {
   "cell_type": "code",
   "execution_count": 87,
   "id": "54374f43",
   "metadata": {},
   "outputs": [],
   "source": [
    "def _f(x):\n",
    "    try:\n",
    "        return _d[x]\n",
    "    except KeyError:\n",
    "        print(x)\n",
    "        return None\n",
    "df['landlocked'] = df['geo'].map(_f)"
   ]
  },
  {
   "cell_type": "code",
   "execution_count": 88,
   "id": "5e13e2fa",
   "metadata": {},
   "outputs": [],
   "source": [
    "res_llock = df.groupby(by=['landlocked', 'time', 'income_bracket_50'])['population'].sum()"
   ]
  },
  {
   "cell_type": "code",
   "execution_count": 89,
   "id": "2671dd6c",
   "metadata": {},
   "outputs": [
    {
     "data": {
      "text/plain": [
       "landlocked  time  income_bracket_50\n",
       "coastline   1800  0                     325671\n",
       "                  1                     481359\n",
       "                  2                     667990\n",
       "                  3                     927212\n",
       "                  4                    1277869\n",
       "                                        ...   \n",
       "landlocked  2050  45                      9458\n",
       "                  46                      6014\n",
       "                  47                      3612\n",
       "                  48                      2061\n",
       "                  49                      1144\n",
       "Name: population, Length: 25100, dtype: int64"
      ]
     },
     "execution_count": 89,
     "metadata": {},
     "output_type": "execute_result"
    }
   ],
   "source": [
    "res_llock"
   ]
  },
  {
   "cell_type": "code",
   "execution_count": 90,
   "id": "b38492c3",
   "metadata": {},
   "outputs": [],
   "source": [
    "max_heights['landlocked'] = res_llock.reset_index().groupby('landlocked')['population'].max()"
   ]
  },
  {
   "cell_type": "code",
   "execution_count": 91,
   "id": "cc6b1961",
   "metadata": {},
   "outputs": [],
   "source": [
    "res_llock = concat_values(res_llock)"
   ]
  },
  {
   "cell_type": "code",
   "execution_count": 92,
   "id": "3b59b9c6",
   "metadata": {},
   "outputs": [],
   "source": [
    "res_llock.to_csv('../../income_mountain/ddf--datapoints--income_mountain_50bracket_shape_for_log--by--landlocked--time.csv')"
   ]
  },
  {
   "cell_type": "code",
   "execution_count": null,
   "id": "425bec6f",
   "metadata": {},
   "outputs": [],
   "source": []
  },
  {
   "cell_type": "code",
   "execution_count": null,
   "id": "6a3957f1",
   "metadata": {},
   "outputs": [],
   "source": []
  },
  {
   "cell_type": "code",
   "execution_count": 93,
   "id": "ffaa8127",
   "metadata": {},
   "outputs": [],
   "source": [
    "# main_religion_2008"
   ]
  },
  {
   "cell_type": "code",
   "execution_count": 94,
   "id": "dda5bf40",
   "metadata": {},
   "outputs": [],
   "source": [
    "k = 'main_religion_2008'"
   ]
  },
  {
   "cell_type": "code",
   "execution_count": 95,
   "id": "a3ad5df1",
   "metadata": {},
   "outputs": [],
   "source": [
    "_d = countries.set_index('country')[k].dropna().to_dict()"
   ]
  },
  {
   "cell_type": "code",
   "execution_count": 96,
   "id": "3aaa4733",
   "metadata": {},
   "outputs": [],
   "source": [
    "missing = set()\n",
    "def _f(x):\n",
    "    try:\n",
    "        return _d[x]\n",
    "    except KeyError:\n",
    "        missing.add(x)\n",
    "        return None\n",
    "df[k] = df['geo'].map(_f)"
   ]
  },
  {
   "cell_type": "code",
   "execution_count": 97,
   "id": "97454b0e",
   "metadata": {},
   "outputs": [
    {
     "data": {
      "text/plain": [
       "{'ben',\n",
       " 'bih',\n",
       " 'caf',\n",
       " 'civ',\n",
       " 'gnb',\n",
       " 'isr',\n",
       " 'kor',\n",
       " 'lbn',\n",
       " 'lbr',\n",
       " 'mdg',\n",
       " 'mng',\n",
       " 'mus',\n",
       " 'nga',\n",
       " 'prk',\n",
       " 'sle',\n",
       " 'ssd',\n",
       " 'tgo'}"
      ]
     },
     "execution_count": 97,
     "metadata": {},
     "output_type": "execute_result"
    }
   ],
   "source": [
    "missing"
   ]
  },
  {
   "cell_type": "code",
   "execution_count": 98,
   "id": "ccdb2523",
   "metadata": {},
   "outputs": [
    {
     "data": {
      "text/plain": [
       "array([nan, 'christian', 'muslim', 'eastern_religions'], dtype=object)"
      ]
     },
     "execution_count": 98,
     "metadata": {},
     "output_type": "execute_result"
    }
   ],
   "source": [
    "countries[k].unique()"
   ]
  },
  {
   "cell_type": "code",
   "execution_count": 99,
   "id": "11e15376",
   "metadata": {},
   "outputs": [],
   "source": [
    "res_rel = df.dropna(subset=[k]).groupby(by=[k, 'time', 'income_bracket_50'])['population'].sum()"
   ]
  },
  {
   "cell_type": "code",
   "execution_count": 100,
   "id": "ea27bb0f",
   "metadata": {},
   "outputs": [],
   "source": [
    "max_heights[k] = res_rel.groupby(k).max()"
   ]
  },
  {
   "cell_type": "code",
   "execution_count": 101,
   "id": "03c2f495",
   "metadata": {},
   "outputs": [],
   "source": [
    "res_rel = concat_values(res_rel)"
   ]
  },
  {
   "cell_type": "code",
   "execution_count": 102,
   "id": "dbe780f4",
   "metadata": {},
   "outputs": [
    {
     "data": {
      "text/plain": [
       "main_religion_2008  time\n",
       "christian           1800    68584,109834,163971,242919,349526,504478,74347...\n",
       "                    1801    68975,110495,164882,244226,351433,507256,74750...\n",
       "                    1802    68680,109951,164406,243618,350768,506346,74625...\n",
       "                    1803    68769,109930,164724,244256,351730,507752,74830...\n",
       "                    1804    68602,109286,164197,243651,351001,506831,74716...\n",
       "                                                  ...                        \n",
       "muslim              2046    0,159,731,1651,3060,4913,7553,11373,17474,2784...\n",
       "                    2047    0,138,706,1603,3024,4852,7496,11269,17279,2742...\n",
       "                    2048    0,115,695,1544,2799,4470,6976,10565,16338,2611...\n",
       "                    2049    0,94,666,1499,2771,4426,6929,10463,16138,25685...\n",
       "                    2050    0,54,639,1438,2722,4337,6823,10306,15866,25186...\n",
       "Name: income_mountain_50bracket_shape_for_log, Length: 753, dtype: object"
      ]
     },
     "execution_count": 102,
     "metadata": {},
     "output_type": "execute_result"
    }
   ],
   "source": [
    "res_rel"
   ]
  },
  {
   "cell_type": "code",
   "execution_count": 103,
   "id": "7e229a1f",
   "metadata": {},
   "outputs": [],
   "source": [
    "res_rel.to_csv('../../income_mountain/ddf--datapoints--income_mountain_50bracket_shape_for_log--by--main_religion_2008--time.csv')"
   ]
  },
  {
   "cell_type": "code",
   "execution_count": null,
   "id": "ce088661",
   "metadata": {},
   "outputs": [],
   "source": []
  },
  {
   "cell_type": "code",
   "execution_count": 104,
   "id": "2cda7e1e",
   "metadata": {},
   "outputs": [],
   "source": [
    "# unhcr_region"
   ]
  },
  {
   "cell_type": "code",
   "execution_count": 105,
   "id": "3bd63d9d",
   "metadata": {},
   "outputs": [],
   "source": [
    "k = 'unhcr_region'"
   ]
  },
  {
   "cell_type": "code",
   "execution_count": 106,
   "id": "13107874",
   "metadata": {},
   "outputs": [],
   "source": [
    "_d = countries.set_index('country')[k].dropna().to_dict()"
   ]
  },
  {
   "cell_type": "code",
   "execution_count": 107,
   "id": "d2098514",
   "metadata": {},
   "outputs": [],
   "source": [
    "missing = set()\n",
    "def _f(x):\n",
    "    try:\n",
    "        return _d[x]\n",
    "    except KeyError:\n",
    "        missing.add(x)\n",
    "        return None\n",
    "df[k] = df['geo'].map(_f)"
   ]
  },
  {
   "cell_type": "code",
   "execution_count": 108,
   "id": "28969553",
   "metadata": {},
   "outputs": [
    {
     "data": {
      "text/plain": [
       "{'twn'}"
      ]
     },
     "execution_count": 108,
     "metadata": {},
     "output_type": "execute_result"
    }
   ],
   "source": [
    "missing"
   ]
  },
  {
   "cell_type": "code",
   "execution_count": 109,
   "id": "6ae91e30",
   "metadata": {},
   "outputs": [],
   "source": [
    "res_ur = df.dropna(subset=[k]).groupby(by=[k, 'time', 'income_bracket_50'])['population'].sum()"
   ]
  },
  {
   "cell_type": "code",
   "execution_count": 110,
   "id": "3ea5aa0f",
   "metadata": {},
   "outputs": [],
   "source": [
    "max_heights[k] = res_ur.groupby(k).max()"
   ]
  },
  {
   "cell_type": "code",
   "execution_count": 111,
   "id": "210c09b5",
   "metadata": {},
   "outputs": [],
   "source": [
    "res_ur = concat_values(res_ur)"
   ]
  },
  {
   "cell_type": "code",
   "execution_count": 112,
   "id": "073402b6",
   "metadata": {},
   "outputs": [
    {
     "data": {
      "text/plain": [
       "unhcr_region               time\n",
       "unhcr_americas             1800    6529,10933,16547,24425,34742,49032,69489,10007...\n",
       "                           1801    6569,11002,16618,24548,34932,49314,69912,10074...\n",
       "                           1802    6604,11089,16731,24685,35168,49663,70434,10156...\n",
       "                           1803    6680,11203,16928,25013,35593,50243,71257,10279...\n",
       "                           1804    6704,11269,17037,25203,35871,50655,71890,10382...\n",
       "                                                         ...                        \n",
       "unhcr_west_central_africa  2046    3,36,827,2418,4800,7919,12290,19042,30494,5064...\n",
       "                           2047    3,33,706,2333,4701,7785,12106,18743,29902,4951...\n",
       "                           2048    3,30,622,2152,4255,7076,11126,17403,28032,4681...\n",
       "                           2049    2,28,566,2080,4215,7037,11088,17305,27735,4608...\n",
       "                           2050    2,26,449,1989,4136,6942,10986,17141,27385,4537...\n",
       "Name: income_mountain_50bracket_shape_for_log, Length: 1757, dtype: object"
      ]
     },
     "execution_count": 112,
     "metadata": {},
     "output_type": "execute_result"
    }
   ],
   "source": [
    "res_ur"
   ]
  },
  {
   "cell_type": "code",
   "execution_count": 113,
   "id": "41b35dd8",
   "metadata": {},
   "outputs": [],
   "source": [
    "res_ur.to_csv('../../income_mountain/ddf--datapoints--income_mountain_50bracket_shape_for_log--by--unhcr_region--time.csv')"
   ]
  },
  {
   "cell_type": "code",
   "execution_count": null,
   "id": "f87d5efb",
   "metadata": {},
   "outputs": [],
   "source": []
  },
  {
   "cell_type": "code",
   "execution_count": null,
   "id": "745c39c9",
   "metadata": {},
   "outputs": [],
   "source": []
  },
  {
   "cell_type": "code",
   "execution_count": 114,
   "id": "ae443051",
   "metadata": {},
   "outputs": [],
   "source": [
    "# unicef_region"
   ]
  },
  {
   "cell_type": "code",
   "execution_count": 115,
   "id": "359b6a66",
   "metadata": {},
   "outputs": [],
   "source": [
    "k = 'unicef_region'"
   ]
  },
  {
   "cell_type": "code",
   "execution_count": 116,
   "id": "cd1be60f",
   "metadata": {},
   "outputs": [],
   "source": [
    "_d = countries.set_index('country')[k].dropna().to_dict()"
   ]
  },
  {
   "cell_type": "code",
   "execution_count": 117,
   "id": "b3334e94",
   "metadata": {},
   "outputs": [],
   "source": [
    "missing = set()\n",
    "def _f(x):\n",
    "    try:\n",
    "        return _d[x]\n",
    "    except KeyError:\n",
    "        missing.add(x)\n",
    "        return None\n",
    "df[k] = df['geo'].map(_f)"
   ]
  },
  {
   "cell_type": "code",
   "execution_count": 118,
   "id": "cf04cd8f",
   "metadata": {},
   "outputs": [
    {
     "data": {
      "text/plain": [
       "{'hkg', 'twn'}"
      ]
     },
     "execution_count": 118,
     "metadata": {},
     "output_type": "execute_result"
    }
   ],
   "source": [
    "missing"
   ]
  },
  {
   "cell_type": "code",
   "execution_count": 119,
   "id": "d0c4d573",
   "metadata": {},
   "outputs": [],
   "source": [
    "res_unr = df.dropna(subset=[k]).groupby(by=[k, 'time', 'income_bracket_50'])['population'].sum()"
   ]
  },
  {
   "cell_type": "code",
   "execution_count": 120,
   "id": "f41faa66",
   "metadata": {},
   "outputs": [],
   "source": [
    "max_heights[k] = res_unr.groupby(k).max()"
   ]
  },
  {
   "cell_type": "code",
   "execution_count": 121,
   "id": "dcc128b5",
   "metadata": {},
   "outputs": [],
   "source": [
    "res_unr = concat_values(res_unr)"
   ]
  },
  {
   "cell_type": "code",
   "execution_count": 122,
   "id": "ee19f242",
   "metadata": {},
   "outputs": [
    {
     "data": {
      "text/plain": [
       "unicef_region  time\n",
       "eap            1800    244294,352108,474330,638564,854953,1167604,164...\n",
       "               1801    246368,354724,477790,643195,861265,1176640,166...\n",
       "               1802    248441,357332,481250,647774,867470,1185432,167...\n",
       "               1803    250260,359692,484399,652013,873263,1193711,168...\n",
       "               1804    252409,362395,487970,656782,879759,1202991,169...\n",
       "                                             ...                        \n",
       "ssa            2046    743,6364,23671,44823,71611,110422,167777,25695...\n",
       "               2047    604,5973,24174,46694,74777,114381,172607,26187...\n",
       "               2048    484,5589,22237,44454,71792,110230,167324,25444...\n",
       "               2049    347,4969,21110,43790,71357,109525,166520,25255...\n",
       "               2050    240,4421,20158,43265,70983,108885,165863,25095...\n",
       "Name: income_mountain_50bracket_shape_for_log, Length: 1757, dtype: object"
      ]
     },
     "execution_count": 122,
     "metadata": {},
     "output_type": "execute_result"
    }
   ],
   "source": [
    "res_unr"
   ]
  },
  {
   "cell_type": "code",
   "execution_count": 123,
   "id": "461b6362",
   "metadata": {},
   "outputs": [],
   "source": [
    "res_unr.to_csv('../../income_mountain/ddf--datapoints--income_mountain_50bracket_shape_for_log--by--unicef_region--time.csv')"
   ]
  },
  {
   "cell_type": "code",
   "execution_count": null,
   "id": "ed5f8cfe",
   "metadata": {},
   "outputs": [],
   "source": []
  },
  {
   "cell_type": "code",
   "execution_count": null,
   "id": "67f3d148",
   "metadata": {},
   "outputs": [],
   "source": []
  },
  {
   "cell_type": "code",
   "execution_count": 124,
   "id": "17d0869c",
   "metadata": {},
   "outputs": [],
   "source": [
    "# un_sdg_ldc"
   ]
  },
  {
   "cell_type": "code",
   "execution_count": 125,
   "id": "2fb41a98",
   "metadata": {},
   "outputs": [],
   "source": [
    "k = 'un_sdg_ldc'"
   ]
  },
  {
   "cell_type": "code",
   "execution_count": 126,
   "id": "696367de",
   "metadata": {},
   "outputs": [],
   "source": [
    "_d = countries.set_index('country')[k].dropna().to_dict()"
   ]
  },
  {
   "cell_type": "code",
   "execution_count": 127,
   "id": "ae4789b8",
   "metadata": {},
   "outputs": [],
   "source": [
    "missing = set()\n",
    "def _f(x):\n",
    "    try:\n",
    "        return _d[x]\n",
    "    except KeyError:\n",
    "        missing.add(x)\n",
    "        return None\n",
    "df[k] = df['geo'].map(_f)"
   ]
  },
  {
   "cell_type": "code",
   "execution_count": 128,
   "id": "09868b10",
   "metadata": {},
   "outputs": [
    {
     "data": {
      "text/plain": [
       "set()"
      ]
     },
     "execution_count": 128,
     "metadata": {},
     "output_type": "execute_result"
    }
   ],
   "source": [
    "missing"
   ]
  },
  {
   "cell_type": "code",
   "execution_count": 129,
   "id": "5d5f0dd5",
   "metadata": {},
   "outputs": [],
   "source": [
    "res_usl = df.dropna(subset=[k]).groupby(by=[k, 'time', 'income_bracket_50'])['population'].sum()"
   ]
  },
  {
   "cell_type": "code",
   "execution_count": 130,
   "id": "2eadb1f5",
   "metadata": {},
   "outputs": [],
   "source": [
    "max_heights[k] = res_usl.groupby(k).max()"
   ]
  },
  {
   "cell_type": "code",
   "execution_count": 131,
   "id": "8843f599",
   "metadata": {},
   "outputs": [],
   "source": [
    "res_usl = concat_values(res_usl)"
   ]
  },
  {
   "cell_type": "code",
   "execution_count": 132,
   "id": "26439f44",
   "metadata": {},
   "outputs": [
    {
     "data": {
      "text/plain": [
       "un_sdg_ldc              time\n",
       "un_least_developed      1800    18814,26892,38549,59343,86692,129553,199749,32...\n",
       "                        1801    18809,26891,38532,59308,86625,129429,199512,31...\n",
       "                        1802    18771,26845,38479,59241,86531,129274,199243,31...\n",
       "                        1803    18752,26824,38454,59219,86496,129218,199141,31...\n",
       "                        1804    18722,26788,38387,59123,86326,128906,198566,31...\n",
       "                                                      ...                        \n",
       "un_not_least_developed  2046    5712,9633,24606,40740,62834,95419,143705,21540...\n",
       "                        2047    5589,9029,23573,39443,61109,92609,139693,20937...\n",
       "                        2048    5470,8663,22613,38137,59397,89903,135929,20359...\n",
       "                        2049    5355,8151,21161,36895,57831,87459,132589,19868...\n",
       "                        2050    5240,7993,19933,35690,56214,84971,129180,19361...\n",
       "Name: income_mountain_50bracket_shape_for_log, Length: 502, dtype: object"
      ]
     },
     "execution_count": 132,
     "metadata": {},
     "output_type": "execute_result"
    }
   ],
   "source": [
    "res_usl"
   ]
  },
  {
   "cell_type": "code",
   "execution_count": 133,
   "id": "799e69f4",
   "metadata": {},
   "outputs": [],
   "source": [
    "res_usl.to_csv('../../income_mountain/ddf--datapoints--income_mountain_50bracket_shape_for_log--by--un_sdg_ldc--time.csv')"
   ]
  },
  {
   "cell_type": "code",
   "execution_count": null,
   "id": "77c1ca38",
   "metadata": {},
   "outputs": [],
   "source": []
  },
  {
   "cell_type": "code",
   "execution_count": null,
   "id": "4dcca9c0",
   "metadata": {},
   "outputs": [],
   "source": []
  },
  {
   "cell_type": "code",
   "execution_count": 134,
   "id": "9eec2d39",
   "metadata": {},
   "outputs": [],
   "source": [
    "# un_sdg_region"
   ]
  },
  {
   "cell_type": "code",
   "execution_count": 135,
   "id": "3c14bfe1",
   "metadata": {},
   "outputs": [],
   "source": [
    "k = 'un_sdg_region'"
   ]
  },
  {
   "cell_type": "code",
   "execution_count": 136,
   "id": "963fb6a7",
   "metadata": {},
   "outputs": [],
   "source": [
    "_d = countries.set_index('country')[k].dropna().to_dict()"
   ]
  },
  {
   "cell_type": "code",
   "execution_count": 137,
   "id": "3c84bf96",
   "metadata": {},
   "outputs": [],
   "source": [
    "missing = set()\n",
    "def _f(x):\n",
    "    try:\n",
    "        return _d[x]\n",
    "    except KeyError:\n",
    "        missing.add(x)\n",
    "        return None\n",
    "df[k] = df['geo'].map(_f)"
   ]
  },
  {
   "cell_type": "code",
   "execution_count": 138,
   "id": "fb098538",
   "metadata": {},
   "outputs": [
    {
     "data": {
      "text/plain": [
       "set()"
      ]
     },
     "execution_count": 138,
     "metadata": {},
     "output_type": "execute_result"
    }
   ],
   "source": [
    "missing"
   ]
  },
  {
   "cell_type": "code",
   "execution_count": 139,
   "id": "1cea6114",
   "metadata": {},
   "outputs": [],
   "source": [
    "res_usr = df.dropna(subset=[k]).groupby(by=[k, 'time', 'income_bracket_50'])['population'].sum()"
   ]
  },
  {
   "cell_type": "code",
   "execution_count": 140,
   "id": "b9b0942d",
   "metadata": {},
   "outputs": [],
   "source": [
    "max_heights[k] = res_usr.groupby(k).max()"
   ]
  },
  {
   "cell_type": "code",
   "execution_count": 141,
   "id": "c54f2373",
   "metadata": {},
   "outputs": [],
   "source": [
    "res_usr = concat_values(res_usr)"
   ]
  },
  {
   "cell_type": "code",
   "execution_count": 142,
   "id": "91507e98",
   "metadata": {},
   "outputs": [
    {
     "data": {
      "text/plain": [
       "un_sdg_region                 time\n",
       "un_australia_and_new_zealand  1800    14,23,35,54,84,137,238,447,900,1869,3807,7535,...\n",
       "                              1801    13,22,34,52,80,130,226,425,857,1783,3650,7247,...\n",
       "                              1802    13,21,33,50,78,126,219,410,825,1717,3520,6999,...\n",
       "                              1803    12,21,32,49,76,123,212,396,795,1654,3396,6764,...\n",
       "                              1804    12,21,31,48,75,119,206,382,764,1589,3270,6522,...\n",
       "                                                            ...                        \n",
       "un_sub_saharan_africa         2046    743,6341,23528,44579,71247,109920,167120,25612...\n",
       "                              2047    604,5951,24036,46456,74418,113883,171953,26104...\n",
       "                              2048    484,5568,22104,44221,71439,109739,166678,25363...\n",
       "                              2049    347,4949,20982,43563,71016,109051,165895,25176...\n",
       "                              2050    240,4421,20034,43044,70647,108416,165243,25017...\n",
       "Name: income_mountain_50bracket_shape_for_log, Length: 2008, dtype: object"
      ]
     },
     "execution_count": 142,
     "metadata": {},
     "output_type": "execute_result"
    }
   ],
   "source": [
    "res_usr"
   ]
  },
  {
   "cell_type": "code",
   "execution_count": 143,
   "id": "66a2324e",
   "metadata": {},
   "outputs": [],
   "source": [
    "res_usr.to_csv('../../income_mountain/ddf--datapoints--income_mountain_50bracket_shape_for_log--by--un_sdg_region--time.csv')"
   ]
  },
  {
   "cell_type": "code",
   "execution_count": null,
   "id": "6bbf07f4",
   "metadata": {},
   "outputs": [],
   "source": []
  },
  {
   "cell_type": "code",
   "execution_count": null,
   "id": "37fbf687",
   "metadata": {},
   "outputs": [],
   "source": []
  },
  {
   "cell_type": "code",
   "execution_count": 144,
   "id": "8638412e",
   "metadata": {},
   "outputs": [],
   "source": [
    "# west_and_rest"
   ]
  },
  {
   "cell_type": "code",
   "execution_count": 145,
   "id": "5c0004b4",
   "metadata": {},
   "outputs": [
    {
     "data": {
      "text/plain": [
       "Index(['country', 'g77_and_oecd_countries', 'income_groups', 'is--country',\n",
       "       'iso3166_1_alpha2', 'unicode_region_subtag', 'iso3166_1_alpha3',\n",
       "       'iso3166_1_numeric', 'iso3166_2', 'landlocked', 'latitude', 'longitude',\n",
       "       'main_religion_2008', 'name', 'un_state', 'world_4region',\n",
       "       'world_6region', 'unicef_region', 'income_3groups', 'un_sdg_region',\n",
       "       'un_sdg_ldc', 'unhcr_region', 'west_and_rest'],\n",
       "      dtype='object')"
      ]
     },
     "execution_count": 145,
     "metadata": {},
     "output_type": "execute_result"
    }
   ],
   "source": [
    "countries.columns"
   ]
  },
  {
   "cell_type": "code",
   "execution_count": 146,
   "id": "2fffda7f",
   "metadata": {},
   "outputs": [],
   "source": [
    "k = 'west_and_rest'"
   ]
  },
  {
   "cell_type": "code",
   "execution_count": 147,
   "id": "f74568af",
   "metadata": {},
   "outputs": [],
   "source": [
    "_d = countries.set_index('country')[k].dropna().to_dict()"
   ]
  },
  {
   "cell_type": "code",
   "execution_count": 148,
   "id": "49a614ea",
   "metadata": {},
   "outputs": [],
   "source": [
    "missing = set()\n",
    "def _f(x):\n",
    "    try:\n",
    "        return _d[x]\n",
    "    except KeyError:\n",
    "        missing.add(x)\n",
    "        return None\n",
    "df[k] = df['geo'].map(_f)"
   ]
  },
  {
   "cell_type": "code",
   "execution_count": 149,
   "id": "f1e0da3d",
   "metadata": {},
   "outputs": [
    {
     "data": {
      "text/plain": [
       "{'hkg', 'twn'}"
      ]
     },
     "execution_count": 149,
     "metadata": {},
     "output_type": "execute_result"
    }
   ],
   "source": [
    "missing"
   ]
  },
  {
   "cell_type": "code",
   "execution_count": 150,
   "id": "0a56b2b0",
   "metadata": {},
   "outputs": [],
   "source": [
    "res_war = df.dropna(subset=[k]).groupby(by=[k, 'time', 'income_bracket_50'])['population'].sum()"
   ]
  },
  {
   "cell_type": "code",
   "execution_count": 151,
   "id": "cce76d6e",
   "metadata": {},
   "outputs": [],
   "source": [
    "max_heights[k] = res_war.groupby(k).max()"
   ]
  },
  {
   "cell_type": "code",
   "execution_count": 152,
   "id": "f6d86116",
   "metadata": {},
   "outputs": [],
   "source": [
    "res_war = concat_values(res_war)"
   ]
  },
  {
   "cell_type": "code",
   "execution_count": 153,
   "id": "9a8d1f3a",
   "metadata": {},
   "outputs": [
    {
     "data": {
      "text/plain": [
       "west_and_rest  time\n",
       "rest           1800    333050,479103,652089,892583,1221048,1712078,24...\n",
       "               1801    335262,481931,655841,897601,1227876,1721848,25...\n",
       "               1802    337463,484735,659585,902588,1234676,1731527,25...\n",
       "               1803    339432,487340,663115,907411,1241372,1741208,25...\n",
       "               1804    341886,490498,667325,913098,1249148,1752292,25...\n",
       "                                             ...                        \n",
       "west           2046    0,486,5441,8680,11516,14117,17098,21345,27937,...\n",
       "               2047    0,384,5174,8394,11249,13834,16735,20851,27147,...\n",
       "               2048    0,358,4920,8107,10984,13556,16376,20359,26355,...\n",
       "               2049    0,0,4258,7819,10726,13285,16026,19883,25602,35...\n",
       "               2050    0,0,3967,7527,10462,13009,15691,19433,24892,34...\n",
       "Name: income_mountain_50bracket_shape_for_log, Length: 502, dtype: object"
      ]
     },
     "execution_count": 153,
     "metadata": {},
     "output_type": "execute_result"
    }
   ],
   "source": [
    "res_war"
   ]
  },
  {
   "cell_type": "code",
   "execution_count": 154,
   "id": "fd1a2e7c",
   "metadata": {},
   "outputs": [],
   "source": [
    "res_war.to_csv('../../income_mountain/ddf--datapoints--income_mountain_50bracket_shape_for_log--by--west_and_rest--time.csv')"
   ]
  },
  {
   "cell_type": "code",
   "execution_count": null,
   "id": "0ffa160f",
   "metadata": {},
   "outputs": [],
   "source": []
  },
  {
   "cell_type": "code",
   "execution_count": 155,
   "id": "af2f17db",
   "metadata": {},
   "outputs": [],
   "source": [
    "# world_4region"
   ]
  },
  {
   "cell_type": "code",
   "execution_count": 156,
   "id": "75bcc03d",
   "metadata": {},
   "outputs": [],
   "source": [
    "k = 'world_4region'"
   ]
  },
  {
   "cell_type": "code",
   "execution_count": 157,
   "id": "bfa7c4e3",
   "metadata": {},
   "outputs": [],
   "source": [
    "_d = countries.set_index('country')[k].dropna().to_dict()"
   ]
  },
  {
   "cell_type": "code",
   "execution_count": 158,
   "id": "e844a7b4",
   "metadata": {},
   "outputs": [],
   "source": [
    "missing = set()\n",
    "def _f(x):\n",
    "    try:\n",
    "        return _d[x]\n",
    "    except KeyError:\n",
    "        missing.add(x)\n",
    "        return None\n",
    "df[k] = df['geo'].map(_f)"
   ]
  },
  {
   "cell_type": "code",
   "execution_count": 159,
   "id": "73134d60",
   "metadata": {},
   "outputs": [
    {
     "data": {
      "text/plain": [
       "set()"
      ]
     },
     "execution_count": 159,
     "metadata": {},
     "output_type": "execute_result"
    }
   ],
   "source": [
    "missing"
   ]
  },
  {
   "cell_type": "code",
   "execution_count": 160,
   "id": "7db5b0ab",
   "metadata": {},
   "outputs": [],
   "source": [
    "res_w4r = df.dropna(subset=[k]).groupby(by=[k, 'time', 'income_bracket_50'])['population'].sum()"
   ]
  },
  {
   "cell_type": "code",
   "execution_count": 161,
   "id": "a58137a7",
   "metadata": {},
   "outputs": [],
   "source": [
    "max_heights[k] = res_w4r.groupby(k).max()"
   ]
  },
  {
   "cell_type": "code",
   "execution_count": 162,
   "id": "2db7df20",
   "metadata": {},
   "outputs": [],
   "source": [
    "res_w4r = concat_values(res_w4r)"
   ]
  },
  {
   "cell_type": "code",
   "execution_count": 163,
   "id": "4ae67ca0",
   "metadata": {},
   "outputs": [
    {
     "data": {
      "text/plain": [
       "world_4region  time\n",
       "africa         1800    26074,38328,54864,83616,124146,189370,296892,4...\n",
       "               1801    26065,38322,54839,83573,124066,189233,296639,4...\n",
       "               1802    26022,38269,54778,83499,123970,189093,296425,4...\n",
       "               1803    25990,38242,54743,83463,123927,189042,296339,4...\n",
       "               1804    26184,38518,55139,84021,124695,190070,297674,4...\n",
       "                                             ...                        \n",
       "europe         2046    0,644,3977,6508,8919,11325,13761,16308,18877,2...\n",
       "               2047    0,384,3754,6251,8648,11027,13437,15959,18507,2...\n",
       "               2048    0,358,3546,5994,8381,10734,13122,15618,18151,2...\n",
       "               2049    0,0,3347,5739,8121,10446,12797,15263,17784,203...\n",
       "               2050    0,0,2935,5487,7860,10155,12481,14918,17415,199...\n",
       "Name: income_mountain_50bracket_shape_for_log, Length: 1004, dtype: object"
      ]
     },
     "execution_count": 163,
     "metadata": {},
     "output_type": "execute_result"
    }
   ],
   "source": [
    "res_w4r"
   ]
  },
  {
   "cell_type": "code",
   "execution_count": 164,
   "id": "d0332079",
   "metadata": {},
   "outputs": [],
   "source": [
    "res_w4r.to_csv('../../income_mountain/ddf--datapoints--income_mountain_50bracket_shape_for_log--by--world_4region--time.csv')"
   ]
  },
  {
   "cell_type": "code",
   "execution_count": null,
   "id": "76d4d944",
   "metadata": {},
   "outputs": [],
   "source": []
  },
  {
   "cell_type": "code",
   "execution_count": 165,
   "id": "c49a337a",
   "metadata": {},
   "outputs": [],
   "source": [
    "# world_6region"
   ]
  },
  {
   "cell_type": "code",
   "execution_count": 166,
   "id": "abfeae94",
   "metadata": {},
   "outputs": [],
   "source": [
    "k = 'world_6region'"
   ]
  },
  {
   "cell_type": "code",
   "execution_count": 167,
   "id": "b1829844",
   "metadata": {},
   "outputs": [],
   "source": [
    "_d = countries.set_index('country')[k].dropna().to_dict()"
   ]
  },
  {
   "cell_type": "code",
   "execution_count": 168,
   "id": "e023f7ea",
   "metadata": {},
   "outputs": [],
   "source": [
    "missing = set()\n",
    "def _f(x):\n",
    "    try:\n",
    "        return _d[x]\n",
    "    except KeyError:\n",
    "        missing.add(x)\n",
    "        return None\n",
    "df[k] = df['geo'].map(_f)"
   ]
  },
  {
   "cell_type": "code",
   "execution_count": 169,
   "id": "6dba0520",
   "metadata": {},
   "outputs": [
    {
     "data": {
      "text/plain": [
       "set()"
      ]
     },
     "execution_count": 169,
     "metadata": {},
     "output_type": "execute_result"
    }
   ],
   "source": [
    "missing"
   ]
  },
  {
   "cell_type": "code",
   "execution_count": 170,
   "id": "392fc7af",
   "metadata": {},
   "outputs": [],
   "source": [
    "res_w6r = df.dropna(subset=[k]).groupby(by=[k, 'time', 'income_bracket_50'])['population'].sum()"
   ]
  },
  {
   "cell_type": "code",
   "execution_count": 171,
   "id": "1dd5c3d7",
   "metadata": {},
   "outputs": [],
   "source": [
    "max_heights[k] = res_w6r.groupby(by=k).max()"
   ]
  },
  {
   "cell_type": "code",
   "execution_count": 172,
   "id": "b43710a1",
   "metadata": {},
   "outputs": [],
   "source": [
    "res_w6r = concat_values(res_w6r)"
   ]
  },
  {
   "cell_type": "code",
   "execution_count": 173,
   "id": "566ebc48",
   "metadata": {},
   "outputs": [
    {
     "data": {
      "text/plain": [
       "world_6region       time\n",
       "america             1800    6529,10933,16547,24425,34742,49032,69489,10007...\n",
       "                    1801    6569,11002,16618,24548,34932,49314,69912,10074...\n",
       "                    1802    6604,11089,16731,24685,35168,49663,70434,10156...\n",
       "                    1803    6680,11203,16928,25013,35593,50243,71257,10279...\n",
       "                    1804    6704,11269,17037,25203,35871,50655,71890,10382...\n",
       "                                                  ...                        \n",
       "sub_saharan_africa  2046    743,6364,23671,44822,71609,110417,167766,25692...\n",
       "                    2047    604,5973,24174,46693,74775,114376,172596,26184...\n",
       "                    2048    484,5589,22237,44453,71790,110226,167314,25442...\n",
       "                    2049    347,4969,21110,43789,71355,109521,166510,25252...\n",
       "                    2050    240,4421,20158,43265,70982,108881,165854,25093...\n",
       "Name: income_mountain_50bracket_shape_for_log, Length: 1506, dtype: object"
      ]
     },
     "execution_count": 173,
     "metadata": {},
     "output_type": "execute_result"
    }
   ],
   "source": [
    "res_w6r"
   ]
  },
  {
   "cell_type": "code",
   "execution_count": 174,
   "id": "f857aa1e",
   "metadata": {},
   "outputs": [],
   "source": [
    "res_w6r.to_csv('../../income_mountain/ddf--datapoints--income_mountain_50bracket_shape_for_log--by--world_6region--time.csv')"
   ]
  },
  {
   "cell_type": "code",
   "execution_count": null,
   "id": "f304dd1d",
   "metadata": {},
   "outputs": [],
   "source": []
  },
  {
   "cell_type": "code",
   "execution_count": null,
   "id": "3a3b6e7e",
   "metadata": {},
   "outputs": [],
   "source": []
  },
  {
   "cell_type": "code",
   "execution_count": null,
   "id": "45faca6a",
   "metadata": {},
   "outputs": [],
   "source": []
  },
  {
   "cell_type": "code",
   "execution_count": 175,
   "id": "9f0a8a08",
   "metadata": {},
   "outputs": [],
   "source": [
    "# now also update the max heights for all groups!"
   ]
  },
  {
   "cell_type": "code",
   "execution_count": 176,
   "id": "be759c1e",
   "metadata": {},
   "outputs": [
    {
     "data": {
      "text/html": [
       "<div>\n",
       "<style scoped>\n",
       "    .dataframe tbody tr th:only-of-type {\n",
       "        vertical-align: middle;\n",
       "    }\n",
       "\n",
       "    .dataframe tbody tr th {\n",
       "        vertical-align: top;\n",
       "    }\n",
       "\n",
       "    .dataframe thead th {\n",
       "        text-align: right;\n",
       "    }\n",
       "</style>\n",
       "<table border=\"1\" class=\"dataframe\">\n",
       "  <thead>\n",
       "    <tr style=\"text-align: right;\">\n",
       "      <th></th>\n",
       "      <th>geo</th>\n",
       "      <th>time</th>\n",
       "      <th>income_bracket_50</th>\n",
       "      <th>population</th>\n",
       "      <th>income_groups</th>\n",
       "      <th>income_3groups</th>\n",
       "      <th>g77_and_oecd_countries</th>\n",
       "      <th>global</th>\n",
       "      <th>landlocked</th>\n",
       "      <th>main_religion_2008</th>\n",
       "      <th>unhcr_region</th>\n",
       "      <th>unicef_region</th>\n",
       "      <th>un_sdg_ldc</th>\n",
       "      <th>un_sdg_region</th>\n",
       "      <th>west_and_rest</th>\n",
       "      <th>world_4region</th>\n",
       "      <th>world_6region</th>\n",
       "    </tr>\n",
       "  </thead>\n",
       "  <tbody>\n",
       "    <tr>\n",
       "      <th>0</th>\n",
       "      <td>afg</td>\n",
       "      <td>1800</td>\n",
       "      <td>0</td>\n",
       "      <td>32</td>\n",
       "      <td>low_income</td>\n",
       "      <td>low_income</td>\n",
       "      <td>g77</td>\n",
       "      <td>world</td>\n",
       "      <td>landlocked</td>\n",
       "      <td>muslim</td>\n",
       "      <td>unhcr_asia_pacific</td>\n",
       "      <td>sa</td>\n",
       "      <td>un_least_developed</td>\n",
       "      <td>un_central_and_southern_asia</td>\n",
       "      <td>rest</td>\n",
       "      <td>asia</td>\n",
       "      <td>south_asia</td>\n",
       "    </tr>\n",
       "    <tr>\n",
       "      <th>1</th>\n",
       "      <td>afg</td>\n",
       "      <td>1800</td>\n",
       "      <td>1</td>\n",
       "      <td>53</td>\n",
       "      <td>low_income</td>\n",
       "      <td>low_income</td>\n",
       "      <td>g77</td>\n",
       "      <td>world</td>\n",
       "      <td>landlocked</td>\n",
       "      <td>muslim</td>\n",
       "      <td>unhcr_asia_pacific</td>\n",
       "      <td>sa</td>\n",
       "      <td>un_least_developed</td>\n",
       "      <td>un_central_and_southern_asia</td>\n",
       "      <td>rest</td>\n",
       "      <td>asia</td>\n",
       "      <td>south_asia</td>\n",
       "    </tr>\n",
       "    <tr>\n",
       "      <th>2</th>\n",
       "      <td>afg</td>\n",
       "      <td>1800</td>\n",
       "      <td>2</td>\n",
       "      <td>88</td>\n",
       "      <td>low_income</td>\n",
       "      <td>low_income</td>\n",
       "      <td>g77</td>\n",
       "      <td>world</td>\n",
       "      <td>landlocked</td>\n",
       "      <td>muslim</td>\n",
       "      <td>unhcr_asia_pacific</td>\n",
       "      <td>sa</td>\n",
       "      <td>un_least_developed</td>\n",
       "      <td>un_central_and_southern_asia</td>\n",
       "      <td>rest</td>\n",
       "      <td>asia</td>\n",
       "      <td>south_asia</td>\n",
       "    </tr>\n",
       "    <tr>\n",
       "      <th>3</th>\n",
       "      <td>afg</td>\n",
       "      <td>1800</td>\n",
       "      <td>3</td>\n",
       "      <td>150</td>\n",
       "      <td>low_income</td>\n",
       "      <td>low_income</td>\n",
       "      <td>g77</td>\n",
       "      <td>world</td>\n",
       "      <td>landlocked</td>\n",
       "      <td>muslim</td>\n",
       "      <td>unhcr_asia_pacific</td>\n",
       "      <td>sa</td>\n",
       "      <td>un_least_developed</td>\n",
       "      <td>un_central_and_southern_asia</td>\n",
       "      <td>rest</td>\n",
       "      <td>asia</td>\n",
       "      <td>south_asia</td>\n",
       "    </tr>\n",
       "    <tr>\n",
       "      <th>4</th>\n",
       "      <td>afg</td>\n",
       "      <td>1800</td>\n",
       "      <td>4</td>\n",
       "      <td>263</td>\n",
       "      <td>low_income</td>\n",
       "      <td>low_income</td>\n",
       "      <td>g77</td>\n",
       "      <td>world</td>\n",
       "      <td>landlocked</td>\n",
       "      <td>muslim</td>\n",
       "      <td>unhcr_asia_pacific</td>\n",
       "      <td>sa</td>\n",
       "      <td>un_least_developed</td>\n",
       "      <td>un_central_and_southern_asia</td>\n",
       "      <td>rest</td>\n",
       "      <td>asia</td>\n",
       "      <td>south_asia</td>\n",
       "    </tr>\n",
       "    <tr>\n",
       "      <th>...</th>\n",
       "      <td>...</td>\n",
       "      <td>...</td>\n",
       "      <td>...</td>\n",
       "      <td>...</td>\n",
       "      <td>...</td>\n",
       "      <td>...</td>\n",
       "      <td>...</td>\n",
       "      <td>...</td>\n",
       "      <td>...</td>\n",
       "      <td>...</td>\n",
       "      <td>...</td>\n",
       "      <td>...</td>\n",
       "      <td>...</td>\n",
       "      <td>...</td>\n",
       "      <td>...</td>\n",
       "      <td>...</td>\n",
       "      <td>...</td>\n",
       "    </tr>\n",
       "    <tr>\n",
       "      <th>2447245</th>\n",
       "      <td>zwe</td>\n",
       "      <td>2050</td>\n",
       "      <td>45</td>\n",
       "      <td>443</td>\n",
       "      <td>lower_middle_income</td>\n",
       "      <td>middle_income</td>\n",
       "      <td>g77</td>\n",
       "      <td>world</td>\n",
       "      <td>landlocked</td>\n",
       "      <td>christian</td>\n",
       "      <td>unhcr_southern_africa</td>\n",
       "      <td>ssa</td>\n",
       "      <td>un_not_least_developed</td>\n",
       "      <td>un_sub_saharan_africa</td>\n",
       "      <td>rest</td>\n",
       "      <td>africa</td>\n",
       "      <td>sub_saharan_africa</td>\n",
       "    </tr>\n",
       "    <tr>\n",
       "      <th>2447246</th>\n",
       "      <td>zwe</td>\n",
       "      <td>2050</td>\n",
       "      <td>46</td>\n",
       "      <td>255</td>\n",
       "      <td>lower_middle_income</td>\n",
       "      <td>middle_income</td>\n",
       "      <td>g77</td>\n",
       "      <td>world</td>\n",
       "      <td>landlocked</td>\n",
       "      <td>christian</td>\n",
       "      <td>unhcr_southern_africa</td>\n",
       "      <td>ssa</td>\n",
       "      <td>un_not_least_developed</td>\n",
       "      <td>un_sub_saharan_africa</td>\n",
       "      <td>rest</td>\n",
       "      <td>africa</td>\n",
       "      <td>sub_saharan_africa</td>\n",
       "    </tr>\n",
       "    <tr>\n",
       "      <th>2447247</th>\n",
       "      <td>zwe</td>\n",
       "      <td>2050</td>\n",
       "      <td>47</td>\n",
       "      <td>139</td>\n",
       "      <td>lower_middle_income</td>\n",
       "      <td>middle_income</td>\n",
       "      <td>g77</td>\n",
       "      <td>world</td>\n",
       "      <td>landlocked</td>\n",
       "      <td>christian</td>\n",
       "      <td>unhcr_southern_africa</td>\n",
       "      <td>ssa</td>\n",
       "      <td>un_not_least_developed</td>\n",
       "      <td>un_sub_saharan_africa</td>\n",
       "      <td>rest</td>\n",
       "      <td>africa</td>\n",
       "      <td>sub_saharan_africa</td>\n",
       "    </tr>\n",
       "    <tr>\n",
       "      <th>2447248</th>\n",
       "      <td>zwe</td>\n",
       "      <td>2050</td>\n",
       "      <td>48</td>\n",
       "      <td>71</td>\n",
       "      <td>lower_middle_income</td>\n",
       "      <td>middle_income</td>\n",
       "      <td>g77</td>\n",
       "      <td>world</td>\n",
       "      <td>landlocked</td>\n",
       "      <td>christian</td>\n",
       "      <td>unhcr_southern_africa</td>\n",
       "      <td>ssa</td>\n",
       "      <td>un_not_least_developed</td>\n",
       "      <td>un_sub_saharan_africa</td>\n",
       "      <td>rest</td>\n",
       "      <td>africa</td>\n",
       "      <td>sub_saharan_africa</td>\n",
       "    </tr>\n",
       "    <tr>\n",
       "      <th>2447249</th>\n",
       "      <td>zwe</td>\n",
       "      <td>2050</td>\n",
       "      <td>49</td>\n",
       "      <td>34</td>\n",
       "      <td>lower_middle_income</td>\n",
       "      <td>middle_income</td>\n",
       "      <td>g77</td>\n",
       "      <td>world</td>\n",
       "      <td>landlocked</td>\n",
       "      <td>christian</td>\n",
       "      <td>unhcr_southern_africa</td>\n",
       "      <td>ssa</td>\n",
       "      <td>un_not_least_developed</td>\n",
       "      <td>un_sub_saharan_africa</td>\n",
       "      <td>rest</td>\n",
       "      <td>africa</td>\n",
       "      <td>sub_saharan_africa</td>\n",
       "    </tr>\n",
       "  </tbody>\n",
       "</table>\n",
       "<p>2447250 rows × 17 columns</p>\n",
       "</div>"
      ],
      "text/plain": [
       "         geo  time  income_bracket_50  population        income_groups  \\\n",
       "0        afg  1800                  0          32           low_income   \n",
       "1        afg  1800                  1          53           low_income   \n",
       "2        afg  1800                  2          88           low_income   \n",
       "3        afg  1800                  3         150           low_income   \n",
       "4        afg  1800                  4         263           low_income   \n",
       "...      ...   ...                ...         ...                  ...   \n",
       "2447245  zwe  2050                 45         443  lower_middle_income   \n",
       "2447246  zwe  2050                 46         255  lower_middle_income   \n",
       "2447247  zwe  2050                 47         139  lower_middle_income   \n",
       "2447248  zwe  2050                 48          71  lower_middle_income   \n",
       "2447249  zwe  2050                 49          34  lower_middle_income   \n",
       "\n",
       "        income_3groups g77_and_oecd_countries global  landlocked  \\\n",
       "0           low_income                    g77  world  landlocked   \n",
       "1           low_income                    g77  world  landlocked   \n",
       "2           low_income                    g77  world  landlocked   \n",
       "3           low_income                    g77  world  landlocked   \n",
       "4           low_income                    g77  world  landlocked   \n",
       "...                ...                    ...    ...         ...   \n",
       "2447245  middle_income                    g77  world  landlocked   \n",
       "2447246  middle_income                    g77  world  landlocked   \n",
       "2447247  middle_income                    g77  world  landlocked   \n",
       "2447248  middle_income                    g77  world  landlocked   \n",
       "2447249  middle_income                    g77  world  landlocked   \n",
       "\n",
       "        main_religion_2008           unhcr_region unicef_region  \\\n",
       "0                   muslim     unhcr_asia_pacific            sa   \n",
       "1                   muslim     unhcr_asia_pacific            sa   \n",
       "2                   muslim     unhcr_asia_pacific            sa   \n",
       "3                   muslim     unhcr_asia_pacific            sa   \n",
       "4                   muslim     unhcr_asia_pacific            sa   \n",
       "...                    ...                    ...           ...   \n",
       "2447245          christian  unhcr_southern_africa           ssa   \n",
       "2447246          christian  unhcr_southern_africa           ssa   \n",
       "2447247          christian  unhcr_southern_africa           ssa   \n",
       "2447248          christian  unhcr_southern_africa           ssa   \n",
       "2447249          christian  unhcr_southern_africa           ssa   \n",
       "\n",
       "                     un_sdg_ldc                 un_sdg_region west_and_rest  \\\n",
       "0            un_least_developed  un_central_and_southern_asia          rest   \n",
       "1            un_least_developed  un_central_and_southern_asia          rest   \n",
       "2            un_least_developed  un_central_and_southern_asia          rest   \n",
       "3            un_least_developed  un_central_and_southern_asia          rest   \n",
       "4            un_least_developed  un_central_and_southern_asia          rest   \n",
       "...                         ...                           ...           ...   \n",
       "2447245  un_not_least_developed         un_sub_saharan_africa          rest   \n",
       "2447246  un_not_least_developed         un_sub_saharan_africa          rest   \n",
       "2447247  un_not_least_developed         un_sub_saharan_africa          rest   \n",
       "2447248  un_not_least_developed         un_sub_saharan_africa          rest   \n",
       "2447249  un_not_least_developed         un_sub_saharan_africa          rest   \n",
       "\n",
       "        world_4region       world_6region  \n",
       "0                asia          south_asia  \n",
       "1                asia          south_asia  \n",
       "2                asia          south_asia  \n",
       "3                asia          south_asia  \n",
       "4                asia          south_asia  \n",
       "...               ...                 ...  \n",
       "2447245        africa  sub_saharan_africa  \n",
       "2447246        africa  sub_saharan_africa  \n",
       "2447247        africa  sub_saharan_africa  \n",
       "2447248        africa  sub_saharan_africa  \n",
       "2447249        africa  sub_saharan_africa  \n",
       "\n",
       "[2447250 rows x 17 columns]"
      ]
     },
     "execution_count": 176,
     "metadata": {},
     "output_type": "execute_result"
    }
   ],
   "source": [
    "df"
   ]
  },
  {
   "cell_type": "code",
   "execution_count": 177,
   "id": "9e102988",
   "metadata": {},
   "outputs": [
    {
     "data": {
      "text/plain": [
       "Index(['geo', 'time', 'income_bracket_50', 'population', 'income_groups',\n",
       "       'income_3groups', 'g77_and_oecd_countries', 'global', 'landlocked',\n",
       "       'main_religion_2008', 'unhcr_region', 'unicef_region', 'un_sdg_ldc',\n",
       "       'un_sdg_region', 'west_and_rest', 'world_4region', 'world_6region'],\n",
       "      dtype='object')"
      ]
     },
     "execution_count": 177,
     "metadata": {},
     "output_type": "execute_result"
    }
   ],
   "source": [
    "df.columns"
   ]
  },
  {
   "cell_type": "code",
   "execution_count": 178,
   "id": "e0a56bfa",
   "metadata": {},
   "outputs": [],
   "source": [
    "# country\n",
    "k = 'country'\n",
    "ent = pd.read_csv(f'../../ddf--entities--geo--{k}.csv', dtype=str).set_index(k)\n",
    "mh = max_heights['country']"
   ]
  },
  {
   "cell_type": "code",
   "execution_count": 179,
   "id": "82ed5fe1",
   "metadata": {},
   "outputs": [
    {
     "data": {
      "text/plain": [
       "Index(['set', 'g77_and_oecd_countries', 'income_groups', 'is--country',\n",
       "       'iso3166_1_alpha2', 'unicode_region_subtag', 'iso3166_1_alpha3',\n",
       "       'iso3166_1_numeric', 'iso3166_2', 'landlocked', 'latitude', 'longitude',\n",
       "       'main_religion_2008', 'name', 'un_state', 'world_4region',\n",
       "       'world_6region', 'unicef_region', 'income_3groups', 'un_sdg_region',\n",
       "       'un_sdg_ldc', 'unhcr_region', 'west_and_rest',\n",
       "       'income_mountain_50bracket_max_height_for_log'],\n",
       "      dtype='object')"
      ]
     },
     "execution_count": 179,
     "metadata": {},
     "output_type": "execute_result"
    }
   ],
   "source": [
    "ent.columns"
   ]
  },
  {
   "cell_type": "code",
   "execution_count": 180,
   "id": "57da0f88",
   "metadata": {},
   "outputs": [],
   "source": [
    "ent.loc[mh.index, 'income_mountain_50bracket_max_height_for_log'] = mh.astype(str)"
   ]
  },
  {
   "cell_type": "code",
   "execution_count": 181,
   "id": "9d278b04",
   "metadata": {},
   "outputs": [],
   "source": [
    "ent.to_csv(f'../../ddf--entities--geo--{k}.csv')"
   ]
  },
  {
   "cell_type": "code",
   "execution_count": null,
   "id": "7991dc32",
   "metadata": {},
   "outputs": [],
   "source": []
  },
  {
   "cell_type": "code",
   "execution_count": 182,
   "id": "e011a444",
   "metadata": {},
   "outputs": [],
   "source": [
    "# others\n",
    "for k in ['income_groups',\n",
    "       'income_3groups', 'g77_and_oecd_countries', 'global', 'landlocked', 'main_religion_2008',\n",
    "       'unhcr_region', 'unicef_region', 'un_sdg_ldc', 'un_sdg_region',\n",
    "       'west_and_rest', 'world_4region', 'world_6region']:\n",
    "    fn = f'../../ddf--entities--geo--{k}.csv'\n",
    "    ent = pd.read_csv(fn, dtype=str).set_index(k)\n",
    "    mh = max_heights[k]\n",
    "    ent.loc[mh.index, 'income_mountain_50bracket_max_height_for_log'] = mh.astype(str)\n",
    "    ent.to_csv(fn)"
   ]
  },
  {
   "cell_type": "code",
   "execution_count": null,
   "id": "bf136b64",
   "metadata": {},
   "outputs": [],
   "source": []
  }
 ],
 "metadata": {
  "kernelspec": {
   "display_name": "Python 3 (ipykernel)",
   "language": "python",
   "name": "python3"
  },
  "language_info": {
   "codemirror_mode": {
    "name": "ipython",
    "version": 3
   },
   "file_extension": ".py",
   "mimetype": "text/x-python",
   "name": "python",
   "nbconvert_exporter": "python",
   "pygments_lexer": "ipython3",
   "version": "3.10.5"
  }
 },
 "nbformat": 4,
 "nbformat_minor": 5
}
