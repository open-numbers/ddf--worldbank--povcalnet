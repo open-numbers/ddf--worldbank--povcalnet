{
 "cells": [
  {
   "cell_type": "code",
   "execution_count": 1,
   "id": "f6b836fa",
   "metadata": {},
   "outputs": [],
   "source": [
    "import pandas as pd\n",
    "import numpy as np"
   ]
  },
  {
   "cell_type": "code",
   "execution_count": 2,
   "id": "2ff3bcdf",
   "metadata": {},
   "outputs": [],
   "source": [
    "import seaborn\n",
    "import matplotlib.pyplot as plt\n",
    "%matplotlib inline"
   ]
  },
  {
   "cell_type": "code",
   "execution_count": 3,
   "id": "cae09c92",
   "metadata": {},
   "outputs": [],
   "source": [
    "seaborn.set_context('notebook')\n",
    "seaborn.set_style('whitegrid')\n",
    "plt.rcParams['figure.figsize'] = [16, 8]"
   ]
  },
  {
   "cell_type": "code",
   "execution_count": 4,
   "id": "c766cfac",
   "metadata": {},
   "outputs": [],
   "source": [
    "synonyms = pd.read_csv('../source/fixtures/ddf--open_numbers/ddf--synonyms--geo.csv')\n",
    "wb_groups = pd.read_csv('../source/fixtures/wb_income_groups.csv')\n",
    "on_income = pd.read_csv('../source/fixtures/on_income_groups.csv')"
   ]
  },
  {
   "cell_type": "code",
   "execution_count": 5,
   "id": "73799aba",
   "metadata": {},
   "outputs": [
    {
     "name": "stdout",
     "output_type": "stream",
     "text": [
      "brackets.csv\t\t\t\t neighbours_list.json\r\n",
      "ddf--entities--coverage_type.csv\t on_income_groups.csv\r\n",
      "ddf--entities--geo--on_income_level.csv  povcal_country_year.csv\r\n",
      "ddf--entities--geo--wb_income_group.csv  wb_groups.csv\r\n",
      "ddf--entities--geo--west_and_rest.csv\t wb_income_groups.csv\r\n",
      "ddf--entities--geo--world_4regions.csv\t west_and_rest.csv\r\n",
      "ddf--open_numbers\r\n"
     ]
    }
   ],
   "source": [
    "!ls ../source/fixtures/"
   ]
  },
  {
   "cell_type": "code",
   "execution_count": 6,
   "id": "cde31cc8",
   "metadata": {},
   "outputs": [
    {
     "name": "stdout",
     "output_type": "stream",
     "text": [
      "ddf--datapoints--population--by--geo--time--income_bracket_50.csv\r\n",
      "ddf--datapoints--population_percentage--by--geo--time--income_bracket_50.csv\r\n"
     ]
    }
   ],
   "source": [
    "!ls ../datapoints/"
   ]
  },
  {
   "cell_type": "code",
   "execution_count": 7,
   "id": "e762aff7",
   "metadata": {},
   "outputs": [
    {
     "name": "stdout",
     "output_type": "stream",
     "text": [
      "ddf--datapoints--income_mountain_50bracket_shape_for_log--by--country--time.csv\r\n",
      "ddf--datapoints--income_mountain_50bracket_shape_for_log--by--g77_and_oecd_countries--time.csv\r\n",
      "ddf--datapoints--income_mountain_50bracket_shape_for_log--by--global--time.csv\r\n",
      "ddf--datapoints--income_mountain_50bracket_shape_for_log--by--income_3groups--time.csv\r\n",
      "ddf--datapoints--income_mountain_50bracket_shape_for_log--by--income_groups--time.csv\r\n",
      "ddf--datapoints--income_mountain_50bracket_shape_for_log--by--landlocked--time.csv\r\n",
      "ddf--datapoints--income_mountain_50bracket_shape_for_log--by--main_religion_2008--time.csv\r\n",
      "ddf--datapoints--income_mountain_50bracket_shape_for_log--by--unhcr_region--time.csv\r\n",
      "ddf--datapoints--income_mountain_50bracket_shape_for_log--by--unicef_region--time.csv\r\n",
      "ddf--datapoints--income_mountain_50bracket_shape_for_log--by--un_sdg_ldc--time.csv\r\n",
      "ddf--datapoints--income_mountain_50bracket_shape_for_log--by--un_sdg_region--time.csv\r\n",
      "ddf--datapoints--income_mountain_50bracket_shape_for_log--by--west_and_rest--time.csv\r\n",
      "ddf--datapoints--income_mountain_50bracket_shape_for_log--by--world_4region--time.csv\r\n",
      "ddf--datapoints--income_mountain_50bracket_shape_for_log--by--world_6region--time.csv\r\n",
      "ddf--datapoints--income_mountain_79bracket_shape_for_log--by--country--time.csv\r\n"
     ]
    }
   ],
   "source": [
    "!ls ../../income_mountain/"
   ]
  },
  {
   "cell_type": "markdown",
   "id": "178a71e7",
   "metadata": {},
   "source": [
    "we have these groups and we need to have shapes for all of them:\n",
    "\n",
    "- country.csv\n",
    "- g77_and_oecd_countries.csv\n",
    "- global.csv\n",
    "- income_3groups.csv\n",
    "- income_groups.csv\n",
    "- landlocked.csv\n",
    "- main_religion_2008.csv\n",
    "- unhcr_region.csv\n",
    "- unicef_region.csv\n",
    "- un_sdg_ldc.csv\n",
    "- un_sdg_region.csv\n",
    "- west_and_rest.csv\n",
    "- world_4region.csv\n",
    "- world_6region.csv\n",
    "\n",
    "income_groups and income_3groups comes from WB."
   ]
  },
  {
   "cell_type": "code",
   "execution_count": null,
   "id": "14b70ca6",
   "metadata": {},
   "outputs": [],
   "source": []
  },
  {
   "cell_type": "code",
   "execution_count": 8,
   "id": "c1e7763a",
   "metadata": {},
   "outputs": [],
   "source": [
    "# load data\n",
    "data = pd.read_csv('../datapoints/ddf--datapoints--population--by--geo--time--income_bracket_50.csv')"
   ]
  },
  {
   "cell_type": "code",
   "execution_count": 9,
   "id": "bb6524c4",
   "metadata": {},
   "outputs": [
    {
     "data": {
      "text/html": [
       "<div>\n",
       "<style scoped>\n",
       "    .dataframe tbody tr th:only-of-type {\n",
       "        vertical-align: middle;\n",
       "    }\n",
       "\n",
       "    .dataframe tbody tr th {\n",
       "        vertical-align: top;\n",
       "    }\n",
       "\n",
       "    .dataframe thead th {\n",
       "        text-align: right;\n",
       "    }\n",
       "</style>\n",
       "<table border=\"1\" class=\"dataframe\">\n",
       "  <thead>\n",
       "    <tr style=\"text-align: right;\">\n",
       "      <th></th>\n",
       "      <th>geo</th>\n",
       "      <th>time</th>\n",
       "      <th>income_bracket_50</th>\n",
       "      <th>population</th>\n",
       "    </tr>\n",
       "  </thead>\n",
       "  <tbody>\n",
       "    <tr>\n",
       "      <th>0</th>\n",
       "      <td>afg</td>\n",
       "      <td>1800</td>\n",
       "      <td>0</td>\n",
       "      <td>35</td>\n",
       "    </tr>\n",
       "    <tr>\n",
       "      <th>1</th>\n",
       "      <td>afg</td>\n",
       "      <td>1800</td>\n",
       "      <td>1</td>\n",
       "      <td>56</td>\n",
       "    </tr>\n",
       "    <tr>\n",
       "      <th>2</th>\n",
       "      <td>afg</td>\n",
       "      <td>1800</td>\n",
       "      <td>2</td>\n",
       "      <td>92</td>\n",
       "    </tr>\n",
       "    <tr>\n",
       "      <th>3</th>\n",
       "      <td>afg</td>\n",
       "      <td>1800</td>\n",
       "      <td>3</td>\n",
       "      <td>154</td>\n",
       "    </tr>\n",
       "    <tr>\n",
       "      <th>4</th>\n",
       "      <td>afg</td>\n",
       "      <td>1800</td>\n",
       "      <td>4</td>\n",
       "      <td>266</td>\n",
       "    </tr>\n",
       "    <tr>\n",
       "      <th>...</th>\n",
       "      <td>...</td>\n",
       "      <td>...</td>\n",
       "      <td>...</td>\n",
       "      <td>...</td>\n",
       "    </tr>\n",
       "    <tr>\n",
       "      <th>2447245</th>\n",
       "      <td>zwe</td>\n",
       "      <td>2050</td>\n",
       "      <td>45</td>\n",
       "      <td>443</td>\n",
       "    </tr>\n",
       "    <tr>\n",
       "      <th>2447246</th>\n",
       "      <td>zwe</td>\n",
       "      <td>2050</td>\n",
       "      <td>46</td>\n",
       "      <td>255</td>\n",
       "    </tr>\n",
       "    <tr>\n",
       "      <th>2447247</th>\n",
       "      <td>zwe</td>\n",
       "      <td>2050</td>\n",
       "      <td>47</td>\n",
       "      <td>139</td>\n",
       "    </tr>\n",
       "    <tr>\n",
       "      <th>2447248</th>\n",
       "      <td>zwe</td>\n",
       "      <td>2050</td>\n",
       "      <td>48</td>\n",
       "      <td>71</td>\n",
       "    </tr>\n",
       "    <tr>\n",
       "      <th>2447249</th>\n",
       "      <td>zwe</td>\n",
       "      <td>2050</td>\n",
       "      <td>49</td>\n",
       "      <td>34</td>\n",
       "    </tr>\n",
       "  </tbody>\n",
       "</table>\n",
       "<p>2447250 rows × 4 columns</p>\n",
       "</div>"
      ],
      "text/plain": [
       "         geo  time  income_bracket_50  population\n",
       "0        afg  1800                  0          35\n",
       "1        afg  1800                  1          56\n",
       "2        afg  1800                  2          92\n",
       "3        afg  1800                  3         154\n",
       "4        afg  1800                  4         266\n",
       "...      ...   ...                ...         ...\n",
       "2447245  zwe  2050                 45         443\n",
       "2447246  zwe  2050                 46         255\n",
       "2447247  zwe  2050                 47         139\n",
       "2447248  zwe  2050                 48          71\n",
       "2447249  zwe  2050                 49          34\n",
       "\n",
       "[2447250 rows x 4 columns]"
      ]
     },
     "execution_count": 9,
     "metadata": {},
     "output_type": "execute_result"
    }
   ],
   "source": [
    "data"
   ]
  },
  {
   "cell_type": "code",
   "execution_count": 10,
   "id": "1d2740ec",
   "metadata": {},
   "outputs": [],
   "source": [
    "max_heights = dict()"
   ]
  },
  {
   "cell_type": "code",
   "execution_count": 11,
   "id": "7df20ef8",
   "metadata": {},
   "outputs": [],
   "source": [
    "max_heights['country'] = data.groupby('geo')['population'].max()"
   ]
  },
  {
   "cell_type": "code",
   "execution_count": null,
   "id": "6cbe8f8c",
   "metadata": {},
   "outputs": [],
   "source": []
  },
  {
   "cell_type": "code",
   "execution_count": null,
   "id": "2adf5ea0",
   "metadata": {},
   "outputs": [],
   "source": []
  },
  {
   "cell_type": "code",
   "execution_count": 12,
   "id": "bf050385",
   "metadata": {},
   "outputs": [],
   "source": [
    "# income_groups and income_3groups\n",
    "# we create long series by combining WB and ON groups"
   ]
  },
  {
   "cell_type": "code",
   "execution_count": 13,
   "id": "eda4b8f9",
   "metadata": {},
   "outputs": [
    {
     "data": {
      "text/html": [
       "<div>\n",
       "<style scoped>\n",
       "    .dataframe tbody tr th:only-of-type {\n",
       "        vertical-align: middle;\n",
       "    }\n",
       "\n",
       "    .dataframe tbody tr th {\n",
       "        vertical-align: top;\n",
       "    }\n",
       "\n",
       "    .dataframe thead th {\n",
       "        text-align: right;\n",
       "    }\n",
       "</style>\n",
       "<table border=\"1\" class=\"dataframe\">\n",
       "  <thead>\n",
       "    <tr style=\"text-align: right;\">\n",
       "      <th></th>\n",
       "      <th>geo</th>\n",
       "      <th>name</th>\n",
       "      <th>time</th>\n",
       "      <th>4 income groups (WB)</th>\n",
       "      <th>3 income groups (WB)</th>\n",
       "    </tr>\n",
       "  </thead>\n",
       "  <tbody>\n",
       "    <tr>\n",
       "      <th>0</th>\n",
       "      <td>afg</td>\n",
       "      <td>Afghanistan</td>\n",
       "      <td>1987</td>\n",
       "      <td>Low income</td>\n",
       "      <td>Low income</td>\n",
       "    </tr>\n",
       "    <tr>\n",
       "      <th>1</th>\n",
       "      <td>afg</td>\n",
       "      <td>Afghanistan</td>\n",
       "      <td>1988</td>\n",
       "      <td>Low income</td>\n",
       "      <td>Low income</td>\n",
       "    </tr>\n",
       "    <tr>\n",
       "      <th>2</th>\n",
       "      <td>afg</td>\n",
       "      <td>Afghanistan</td>\n",
       "      <td>1989</td>\n",
       "      <td>Low income</td>\n",
       "      <td>Low income</td>\n",
       "    </tr>\n",
       "    <tr>\n",
       "      <th>3</th>\n",
       "      <td>afg</td>\n",
       "      <td>Afghanistan</td>\n",
       "      <td>1990</td>\n",
       "      <td>Low income</td>\n",
       "      <td>Low income</td>\n",
       "    </tr>\n",
       "    <tr>\n",
       "      <th>4</th>\n",
       "      <td>afg</td>\n",
       "      <td>Afghanistan</td>\n",
       "      <td>1991</td>\n",
       "      <td>Low income</td>\n",
       "      <td>Low income</td>\n",
       "    </tr>\n",
       "    <tr>\n",
       "      <th>...</th>\n",
       "      <td>...</td>\n",
       "      <td>...</td>\n",
       "      <td>...</td>\n",
       "      <td>...</td>\n",
       "      <td>...</td>\n",
       "    </tr>\n",
       "    <tr>\n",
       "      <th>6659</th>\n",
       "      <td>zwe</td>\n",
       "      <td>Zimbabwe</td>\n",
       "      <td>2016</td>\n",
       "      <td>Low income</td>\n",
       "      <td>Low income</td>\n",
       "    </tr>\n",
       "    <tr>\n",
       "      <th>6660</th>\n",
       "      <td>zwe</td>\n",
       "      <td>Zimbabwe</td>\n",
       "      <td>2017</td>\n",
       "      <td>Low income</td>\n",
       "      <td>Low income</td>\n",
       "    </tr>\n",
       "    <tr>\n",
       "      <th>6661</th>\n",
       "      <td>zwe</td>\n",
       "      <td>Zimbabwe</td>\n",
       "      <td>2018</td>\n",
       "      <td>Lower middle income</td>\n",
       "      <td>Middle income</td>\n",
       "    </tr>\n",
       "    <tr>\n",
       "      <th>6662</th>\n",
       "      <td>zwe</td>\n",
       "      <td>Zimbabwe</td>\n",
       "      <td>2019</td>\n",
       "      <td>Lower middle income</td>\n",
       "      <td>Middle income</td>\n",
       "    </tr>\n",
       "    <tr>\n",
       "      <th>6663</th>\n",
       "      <td>zwe</td>\n",
       "      <td>Zimbabwe</td>\n",
       "      <td>2020</td>\n",
       "      <td>Lower middle income</td>\n",
       "      <td>Middle income</td>\n",
       "    </tr>\n",
       "  </tbody>\n",
       "</table>\n",
       "<p>6664 rows × 5 columns</p>\n",
       "</div>"
      ],
      "text/plain": [
       "      geo         name  time 4 income groups (WB) 3 income groups (WB)\n",
       "0     afg  Afghanistan  1987           Low income           Low income\n",
       "1     afg  Afghanistan  1988           Low income           Low income\n",
       "2     afg  Afghanistan  1989           Low income           Low income\n",
       "3     afg  Afghanistan  1990           Low income           Low income\n",
       "4     afg  Afghanistan  1991           Low income           Low income\n",
       "...   ...          ...   ...                  ...                  ...\n",
       "6659  zwe     Zimbabwe  2016           Low income           Low income\n",
       "6660  zwe     Zimbabwe  2017           Low income           Low income\n",
       "6661  zwe     Zimbabwe  2018  Lower middle income        Middle income\n",
       "6662  zwe     Zimbabwe  2019  Lower middle income        Middle income\n",
       "6663  zwe     Zimbabwe  2020  Lower middle income        Middle income\n",
       "\n",
       "[6664 rows x 5 columns]"
      ]
     },
     "execution_count": 13,
     "metadata": {},
     "output_type": "execute_result"
    }
   ],
   "source": [
    "wb_groups"
   ]
  },
  {
   "cell_type": "code",
   "execution_count": 14,
   "id": "70f505d3",
   "metadata": {},
   "outputs": [
    {
     "data": {
      "text/plain": [
       "Index(['geo', 'name', 'time', '4 income groups (WB)', '3 income groups (WB)'], dtype='object')"
      ]
     },
     "execution_count": 14,
     "metadata": {},
     "output_type": "execute_result"
    }
   ],
   "source": [
    "wb_groups.columns"
   ]
  },
  {
   "cell_type": "code",
   "execution_count": 15,
   "id": "6d2de594",
   "metadata": {},
   "outputs": [],
   "source": [
    "wb = wb_groups[['geo', 'time', \"4 income groups (WB)\"]].copy()"
   ]
  },
  {
   "cell_type": "code",
   "execution_count": 16,
   "id": "ac1ce9c7",
   "metadata": {},
   "outputs": [],
   "source": [
    "wb.columns = ['geo', 'time', 'level']"
   ]
  },
  {
   "cell_type": "code",
   "execution_count": 17,
   "id": "5e59099d",
   "metadata": {},
   "outputs": [],
   "source": [
    "on_income.columns = ['geo', 'time', 'level']"
   ]
  },
  {
   "cell_type": "code",
   "execution_count": 18,
   "id": "696e23b5",
   "metadata": {},
   "outputs": [],
   "source": [
    "on_map = {'Level 1': 'l1',\n",
    "          'Level 2': 'l2',\n",
    "          'Level 3': 'l3',\n",
    "          'Level 4': 'l4',\n",
    "         }\n",
    "\n",
    "wb_map = {'Low income': 'l1',\n",
    "          'Lower middle income': 'l2',\n",
    "          'Upper middle income': 'l3',\n",
    "          'High income': 'l4',\n",
    "         }"
   ]
  },
  {
   "cell_type": "code",
   "execution_count": 19,
   "id": "8228f361",
   "metadata": {},
   "outputs": [],
   "source": [
    "wb['level'] = wb['level'].map(lambda x: wb_map[x])"
   ]
  },
  {
   "cell_type": "code",
   "execution_count": 20,
   "id": "6a753114",
   "metadata": {},
   "outputs": [],
   "source": [
    "on = on_income.copy()"
   ]
  },
  {
   "cell_type": "code",
   "execution_count": 21,
   "id": "41d7442a",
   "metadata": {},
   "outputs": [],
   "source": [
    "on['level'] = on['level'].map(lambda x: on_map[x])"
   ]
  },
  {
   "cell_type": "code",
   "execution_count": 22,
   "id": "f71c0852",
   "metadata": {},
   "outputs": [
    {
     "data": {
      "text/plain": [
       "array(['l1', 'l2', 'l3', 'l4'], dtype=object)"
      ]
     },
     "execution_count": 22,
     "metadata": {},
     "output_type": "execute_result"
    }
   ],
   "source": [
    "on['level'].unique()"
   ]
  },
  {
   "cell_type": "code",
   "execution_count": 23,
   "id": "5b60da68",
   "metadata": {},
   "outputs": [],
   "source": [
    "wb = wb.set_index(['geo', 'time'])\n",
    "on = on.set_index(['geo', 'time'])"
   ]
  },
  {
   "cell_type": "code",
   "execution_count": 24,
   "id": "b19200ce",
   "metadata": {},
   "outputs": [],
   "source": [
    "on.update(wb)"
   ]
  },
  {
   "cell_type": "code",
   "execution_count": 25,
   "id": "021770f9",
   "metadata": {},
   "outputs": [],
   "source": [
    "cmp = on['level'] == on_income.set_index(['geo', 'time'])['level'].map(lambda x: on_map[x])"
   ]
  },
  {
   "cell_type": "code",
   "execution_count": 26,
   "id": "6cb36fb3",
   "metadata": {},
   "outputs": [],
   "source": [
    "income_groups = on.copy()"
   ]
  },
  {
   "cell_type": "code",
   "execution_count": 27,
   "id": "c2822ead",
   "metadata": {},
   "outputs": [],
   "source": [
    "income_3groups = income_groups.copy()"
   ]
  },
  {
   "cell_type": "code",
   "execution_count": 28,
   "id": "84f9d87a",
   "metadata": {},
   "outputs": [],
   "source": [
    "concept_id_map = {'l1': 'low_income',\n",
    "                  'l2': 'lower_middle_income',\n",
    "                  'l3': 'upper_middle_income',\n",
    "                  'l4': 'high_income'\n",
    "                 }\n",
    "\n",
    "concept_id_map3 = {'l1': 'low_income',\n",
    "                   'l2': 'middle_income',\n",
    "                   'l3': 'middle_income',\n",
    "                   'l4': 'high_income'\n",
    "                 }"
   ]
  },
  {
   "cell_type": "code",
   "execution_count": 29,
   "id": "6e62b8d4",
   "metadata": {},
   "outputs": [],
   "source": [
    "income_groups['level'] = income_groups['level'].map(lambda x: concept_id_map[x])"
   ]
  },
  {
   "cell_type": "code",
   "execution_count": 30,
   "id": "b88043ad",
   "metadata": {},
   "outputs": [],
   "source": [
    "income_3groups['level'] = income_3groups['level'].map(lambda x: concept_id_map3[x])"
   ]
  },
  {
   "cell_type": "code",
   "execution_count": 31,
   "id": "82635e61",
   "metadata": {},
   "outputs": [
    {
     "data": {
      "text/plain": [
       "array(['low_income', 'middle_income', 'high_income'], dtype=object)"
      ]
     },
     "execution_count": 31,
     "metadata": {},
     "output_type": "execute_result"
    }
   ],
   "source": [
    "income_3groups['level'].unique()"
   ]
  },
  {
   "cell_type": "code",
   "execution_count": 32,
   "id": "ab0dbb92",
   "metadata": {},
   "outputs": [
    {
     "data": {
      "text/plain": [
       "array(['low_income', 'lower_middle_income', 'upper_middle_income',\n",
       "       'high_income'], dtype=object)"
      ]
     },
     "execution_count": 32,
     "metadata": {},
     "output_type": "execute_result"
    }
   ],
   "source": [
    "income_groups['level'].unique()"
   ]
  },
  {
   "cell_type": "code",
   "execution_count": 33,
   "id": "b77cc7c2",
   "metadata": {},
   "outputs": [
    {
     "data": {
      "text/html": [
       "<div>\n",
       "<style scoped>\n",
       "    .dataframe tbody tr th:only-of-type {\n",
       "        vertical-align: middle;\n",
       "    }\n",
       "\n",
       "    .dataframe tbody tr th {\n",
       "        vertical-align: top;\n",
       "    }\n",
       "\n",
       "    .dataframe thead th {\n",
       "        text-align: right;\n",
       "    }\n",
       "</style>\n",
       "<table border=\"1\" class=\"dataframe\">\n",
       "  <thead>\n",
       "    <tr style=\"text-align: right;\">\n",
       "      <th></th>\n",
       "      <th></th>\n",
       "      <th>level</th>\n",
       "    </tr>\n",
       "    <tr>\n",
       "      <th>geo</th>\n",
       "      <th>time</th>\n",
       "      <th></th>\n",
       "    </tr>\n",
       "  </thead>\n",
       "  <tbody>\n",
       "    <tr>\n",
       "      <th rowspan=\"5\" valign=\"top\">afg</th>\n",
       "      <th>1800</th>\n",
       "      <td>low_income</td>\n",
       "    </tr>\n",
       "    <tr>\n",
       "      <th>1801</th>\n",
       "      <td>low_income</td>\n",
       "    </tr>\n",
       "    <tr>\n",
       "      <th>1802</th>\n",
       "      <td>low_income</td>\n",
       "    </tr>\n",
       "    <tr>\n",
       "      <th>1803</th>\n",
       "      <td>low_income</td>\n",
       "    </tr>\n",
       "    <tr>\n",
       "      <th>1804</th>\n",
       "      <td>low_income</td>\n",
       "    </tr>\n",
       "    <tr>\n",
       "      <th>...</th>\n",
       "      <th>...</th>\n",
       "      <td>...</td>\n",
       "    </tr>\n",
       "    <tr>\n",
       "      <th rowspan=\"5\" valign=\"top\">zwe</th>\n",
       "      <th>2046</th>\n",
       "      <td>lower_middle_income</td>\n",
       "    </tr>\n",
       "    <tr>\n",
       "      <th>2047</th>\n",
       "      <td>lower_middle_income</td>\n",
       "    </tr>\n",
       "    <tr>\n",
       "      <th>2048</th>\n",
       "      <td>lower_middle_income</td>\n",
       "    </tr>\n",
       "    <tr>\n",
       "      <th>2049</th>\n",
       "      <td>lower_middle_income</td>\n",
       "    </tr>\n",
       "    <tr>\n",
       "      <th>2050</th>\n",
       "      <td>lower_middle_income</td>\n",
       "    </tr>\n",
       "  </tbody>\n",
       "</table>\n",
       "<p>48945 rows × 1 columns</p>\n",
       "</div>"
      ],
      "text/plain": [
       "                        level\n",
       "geo time                     \n",
       "afg 1800           low_income\n",
       "    1801           low_income\n",
       "    1802           low_income\n",
       "    1803           low_income\n",
       "    1804           low_income\n",
       "...                       ...\n",
       "zwe 2046  lower_middle_income\n",
       "    2047  lower_middle_income\n",
       "    2048  lower_middle_income\n",
       "    2049  lower_middle_income\n",
       "    2050  lower_middle_income\n",
       "\n",
       "[48945 rows x 1 columns]"
      ]
     },
     "execution_count": 33,
     "metadata": {},
     "output_type": "execute_result"
    }
   ],
   "source": [
    "income_groups"
   ]
  },
  {
   "cell_type": "code",
   "execution_count": 34,
   "id": "6ae963f0",
   "metadata": {},
   "outputs": [],
   "source": [
    "income_groups.to_csv('../precomputed/income_groups-wb2020.csv')\n",
    "income_3groups.to_csv('../precomputed/income_3groups-wb2020.csv')"
   ]
  },
  {
   "cell_type": "code",
   "execution_count": 35,
   "id": "40023e64",
   "metadata": {},
   "outputs": [],
   "source": [
    "df = data.copy()"
   ]
  },
  {
   "cell_type": "code",
   "execution_count": 36,
   "id": "cd7d9fe6",
   "metadata": {},
   "outputs": [
    {
     "data": {
      "text/html": [
       "<div>\n",
       "<style scoped>\n",
       "    .dataframe tbody tr th:only-of-type {\n",
       "        vertical-align: middle;\n",
       "    }\n",
       "\n",
       "    .dataframe tbody tr th {\n",
       "        vertical-align: top;\n",
       "    }\n",
       "\n",
       "    .dataframe thead th {\n",
       "        text-align: right;\n",
       "    }\n",
       "</style>\n",
       "<table border=\"1\" class=\"dataframe\">\n",
       "  <thead>\n",
       "    <tr style=\"text-align: right;\">\n",
       "      <th></th>\n",
       "      <th>geo</th>\n",
       "      <th>time</th>\n",
       "      <th>income_bracket_50</th>\n",
       "      <th>population</th>\n",
       "    </tr>\n",
       "  </thead>\n",
       "  <tbody>\n",
       "    <tr>\n",
       "      <th>0</th>\n",
       "      <td>afg</td>\n",
       "      <td>1800</td>\n",
       "      <td>0</td>\n",
       "      <td>35</td>\n",
       "    </tr>\n",
       "    <tr>\n",
       "      <th>1</th>\n",
       "      <td>afg</td>\n",
       "      <td>1800</td>\n",
       "      <td>1</td>\n",
       "      <td>56</td>\n",
       "    </tr>\n",
       "    <tr>\n",
       "      <th>2</th>\n",
       "      <td>afg</td>\n",
       "      <td>1800</td>\n",
       "      <td>2</td>\n",
       "      <td>92</td>\n",
       "    </tr>\n",
       "    <tr>\n",
       "      <th>3</th>\n",
       "      <td>afg</td>\n",
       "      <td>1800</td>\n",
       "      <td>3</td>\n",
       "      <td>154</td>\n",
       "    </tr>\n",
       "    <tr>\n",
       "      <th>4</th>\n",
       "      <td>afg</td>\n",
       "      <td>1800</td>\n",
       "      <td>4</td>\n",
       "      <td>266</td>\n",
       "    </tr>\n",
       "    <tr>\n",
       "      <th>...</th>\n",
       "      <td>...</td>\n",
       "      <td>...</td>\n",
       "      <td>...</td>\n",
       "      <td>...</td>\n",
       "    </tr>\n",
       "    <tr>\n",
       "      <th>2447245</th>\n",
       "      <td>zwe</td>\n",
       "      <td>2050</td>\n",
       "      <td>45</td>\n",
       "      <td>443</td>\n",
       "    </tr>\n",
       "    <tr>\n",
       "      <th>2447246</th>\n",
       "      <td>zwe</td>\n",
       "      <td>2050</td>\n",
       "      <td>46</td>\n",
       "      <td>255</td>\n",
       "    </tr>\n",
       "    <tr>\n",
       "      <th>2447247</th>\n",
       "      <td>zwe</td>\n",
       "      <td>2050</td>\n",
       "      <td>47</td>\n",
       "      <td>139</td>\n",
       "    </tr>\n",
       "    <tr>\n",
       "      <th>2447248</th>\n",
       "      <td>zwe</td>\n",
       "      <td>2050</td>\n",
       "      <td>48</td>\n",
       "      <td>71</td>\n",
       "    </tr>\n",
       "    <tr>\n",
       "      <th>2447249</th>\n",
       "      <td>zwe</td>\n",
       "      <td>2050</td>\n",
       "      <td>49</td>\n",
       "      <td>34</td>\n",
       "    </tr>\n",
       "  </tbody>\n",
       "</table>\n",
       "<p>2447250 rows × 4 columns</p>\n",
       "</div>"
      ],
      "text/plain": [
       "         geo  time  income_bracket_50  population\n",
       "0        afg  1800                  0          35\n",
       "1        afg  1800                  1          56\n",
       "2        afg  1800                  2          92\n",
       "3        afg  1800                  3         154\n",
       "4        afg  1800                  4         266\n",
       "...      ...   ...                ...         ...\n",
       "2447245  zwe  2050                 45         443\n",
       "2447246  zwe  2050                 46         255\n",
       "2447247  zwe  2050                 47         139\n",
       "2447248  zwe  2050                 48          71\n",
       "2447249  zwe  2050                 49          34\n",
       "\n",
       "[2447250 rows x 4 columns]"
      ]
     },
     "execution_count": 36,
     "metadata": {},
     "output_type": "execute_result"
    }
   ],
   "source": [
    "df"
   ]
  },
  {
   "cell_type": "code",
   "execution_count": 37,
   "id": "c53978f0",
   "metadata": {},
   "outputs": [],
   "source": [
    "income_groups = income_groups.sort_index()\n",
    "income_3groups = income_3groups.sort_index()"
   ]
  },
  {
   "cell_type": "code",
   "execution_count": 38,
   "id": "8c6c96e2",
   "metadata": {},
   "outputs": [],
   "source": [
    "# %%timeit\n",
    "# income_groups['level'].loc[('zwe', 2050)]"
   ]
  },
  {
   "cell_type": "code",
   "execution_count": 39,
   "id": "e1edc5a6",
   "metadata": {},
   "outputs": [],
   "source": [
    "# %%timeit\n",
    "# income_groups['level'].at[('zwe', 2050)]"
   ]
  },
  {
   "cell_type": "code",
   "execution_count": 40,
   "id": "ac6b96af",
   "metadata": {},
   "outputs": [],
   "source": [
    "_d = income_groups['level'].to_dict()"
   ]
  },
  {
   "cell_type": "code",
   "execution_count": 41,
   "id": "f609f199",
   "metadata": {},
   "outputs": [],
   "source": [
    "# %%timeit\n",
    "# _d[('zwe', 2050)]"
   ]
  },
  {
   "cell_type": "code",
   "execution_count": 42,
   "id": "65f75aaf",
   "metadata": {},
   "outputs": [],
   "source": [
    "_lv = income_groups['level']"
   ]
  },
  {
   "cell_type": "code",
   "execution_count": 43,
   "id": "8012b3e6",
   "metadata": {},
   "outputs": [],
   "source": [
    "# %%time\n",
    "\n",
    "# ig = [_lv.at[(row['geo'], row['time'])] for _, row in df.iterrows()]"
   ]
  },
  {
   "cell_type": "code",
   "execution_count": 44,
   "id": "17a2912f",
   "metadata": {},
   "outputs": [],
   "source": [
    "# %%time\n",
    "\n",
    "# ig = [_d[(row['geo'], row['time'])] for _, row in df.iterrows()]"
   ]
  },
  {
   "cell_type": "code",
   "execution_count": null,
   "id": "3ef12ae0",
   "metadata": {},
   "outputs": [],
   "source": []
  },
  {
   "cell_type": "code",
   "execution_count": 45,
   "id": "b3dd547d",
   "metadata": {},
   "outputs": [],
   "source": [
    "# According to above testing, this one performs best:\n",
    "ig = [_d[(row['geo'], row['time'])] for _, row in df.iterrows()]"
   ]
  },
  {
   "cell_type": "code",
   "execution_count": 46,
   "id": "bdcc35b8",
   "metadata": {},
   "outputs": [],
   "source": [
    "df['income_groups'] = ig"
   ]
  },
  {
   "cell_type": "code",
   "execution_count": 47,
   "id": "6e33cf5a",
   "metadata": {},
   "outputs": [],
   "source": [
    "res_ig = df.groupby(by=['income_groups', 'time', 'income_bracket_50'])['population'].sum()"
   ]
  },
  {
   "cell_type": "code",
   "execution_count": 48,
   "id": "fa5e2d15",
   "metadata": {},
   "outputs": [
    {
     "data": {
      "text/plain": [
       "<AxesSubplot:xlabel='income_bracket_50'>"
      ]
     },
     "execution_count": 48,
     "metadata": {},
     "output_type": "execute_result"
    },
    {
     "data": {
      "image/png": "[encoded data removed]",
      "text/plain": [
       "<Figure size 1152x576 with 1 Axes>"
      ]
     },
     "metadata": {},
     "output_type": "display_data"
    }
   ],
   "source": [
    "res_ig.loc['upper_middle_income', 2021].plot()"
   ]
  },
  {
   "cell_type": "code",
   "execution_count": 49,
   "id": "374856ef",
   "metadata": {},
   "outputs": [
    {
     "data": {
      "text/plain": [
       "<AxesSubplot:xlabel='income_bracket_50'>"
      ]
     },
     "execution_count": 49,
     "metadata": {},
     "output_type": "execute_result"
    },
    {
     "data": {
      "image/png": "[encoded data removed]",
      "text/plain": [
       "<Figure size 1152x576 with 1 Axes>"
      ]
     },
     "metadata": {},
     "output_type": "display_data"
    }
   ],
   "source": [
    "res_ig.loc['high_income', 2021].plot()"
   ]
  },
  {
   "cell_type": "code",
   "execution_count": null,
   "id": "bd17d6a5",
   "metadata": {},
   "outputs": [],
   "source": []
  },
  {
   "cell_type": "code",
   "execution_count": 50,
   "id": "e488ca47",
   "metadata": {},
   "outputs": [
    {
     "data": {
      "text/html": [
       "<div>\n",
       "<style scoped>\n",
       "    .dataframe tbody tr th:only-of-type {\n",
       "        vertical-align: middle;\n",
       "    }\n",
       "\n",
       "    .dataframe tbody tr th {\n",
       "        vertical-align: top;\n",
       "    }\n",
       "\n",
       "    .dataframe thead th {\n",
       "        text-align: right;\n",
       "    }\n",
       "</style>\n",
       "<table border=\"1\" class=\"dataframe\">\n",
       "  <thead>\n",
       "    <tr style=\"text-align: right;\">\n",
       "      <th></th>\n",
       "      <th>income_bracket_50</th>\n",
       "      <th>0</th>\n",
       "      <th>1</th>\n",
       "      <th>2</th>\n",
       "      <th>3</th>\n",
       "      <th>4</th>\n",
       "      <th>5</th>\n",
       "      <th>6</th>\n",
       "      <th>7</th>\n",
       "      <th>8</th>\n",
       "      <th>9</th>\n",
       "      <th>...</th>\n",
       "      <th>40</th>\n",
       "      <th>41</th>\n",
       "      <th>42</th>\n",
       "      <th>43</th>\n",
       "      <th>44</th>\n",
       "      <th>45</th>\n",
       "      <th>46</th>\n",
       "      <th>47</th>\n",
       "      <th>48</th>\n",
       "      <th>49</th>\n",
       "    </tr>\n",
       "    <tr>\n",
       "      <th>income_groups</th>\n",
       "      <th>time</th>\n",
       "      <th></th>\n",
       "      <th></th>\n",
       "      <th></th>\n",
       "      <th></th>\n",
       "      <th></th>\n",
       "      <th></th>\n",
       "      <th></th>\n",
       "      <th></th>\n",
       "      <th></th>\n",
       "      <th></th>\n",
       "      <th></th>\n",
       "      <th></th>\n",
       "      <th></th>\n",
       "      <th></th>\n",
       "      <th></th>\n",
       "      <th></th>\n",
       "      <th></th>\n",
       "      <th></th>\n",
       "      <th></th>\n",
       "      <th></th>\n",
       "      <th></th>\n",
       "    </tr>\n",
       "  </thead>\n",
       "  <tbody>\n",
       "    <tr>\n",
       "      <th rowspan=\"5\" valign=\"top\">high_income</th>\n",
       "      <th>1944</th>\n",
       "      <td>0</td>\n",
       "      <td>0</td>\n",
       "      <td>0</td>\n",
       "      <td>0</td>\n",
       "      <td>0</td>\n",
       "      <td>0</td>\n",
       "      <td>0</td>\n",
       "      <td>0</td>\n",
       "      <td>0</td>\n",
       "      <td>0</td>\n",
       "      <td>...</td>\n",
       "      <td>11</td>\n",
       "      <td>6</td>\n",
       "      <td>3</td>\n",
       "      <td>1</td>\n",
       "      <td>1</td>\n",
       "      <td>0</td>\n",
       "      <td>0</td>\n",
       "      <td>0</td>\n",
       "      <td>0</td>\n",
       "      <td>0</td>\n",
       "    </tr>\n",
       "    <tr>\n",
       "      <th>1945</th>\n",
       "      <td>0</td>\n",
       "      <td>0</td>\n",
       "      <td>0</td>\n",
       "      <td>0</td>\n",
       "      <td>0</td>\n",
       "      <td>0</td>\n",
       "      <td>0</td>\n",
       "      <td>0</td>\n",
       "      <td>0</td>\n",
       "      <td>0</td>\n",
       "      <td>...</td>\n",
       "      <td>16</td>\n",
       "      <td>8</td>\n",
       "      <td>4</td>\n",
       "      <td>2</td>\n",
       "      <td>1</td>\n",
       "      <td>0</td>\n",
       "      <td>0</td>\n",
       "      <td>0</td>\n",
       "      <td>0</td>\n",
       "      <td>0</td>\n",
       "    </tr>\n",
       "    <tr>\n",
       "      <th>1946</th>\n",
       "      <td>0</td>\n",
       "      <td>0</td>\n",
       "      <td>0</td>\n",
       "      <td>0</td>\n",
       "      <td>0</td>\n",
       "      <td>0</td>\n",
       "      <td>0</td>\n",
       "      <td>0</td>\n",
       "      <td>0</td>\n",
       "      <td>0</td>\n",
       "      <td>...</td>\n",
       "      <td>22</td>\n",
       "      <td>11</td>\n",
       "      <td>6</td>\n",
       "      <td>3</td>\n",
       "      <td>2</td>\n",
       "      <td>1</td>\n",
       "      <td>1</td>\n",
       "      <td>0</td>\n",
       "      <td>0</td>\n",
       "      <td>0</td>\n",
       "    </tr>\n",
       "    <tr>\n",
       "      <th>1947</th>\n",
       "      <td>0</td>\n",
       "      <td>0</td>\n",
       "      <td>0</td>\n",
       "      <td>0</td>\n",
       "      <td>0</td>\n",
       "      <td>0</td>\n",
       "      <td>0</td>\n",
       "      <td>0</td>\n",
       "      <td>0</td>\n",
       "      <td>0</td>\n",
       "      <td>...</td>\n",
       "      <td>44</td>\n",
       "      <td>20</td>\n",
       "      <td>11</td>\n",
       "      <td>5</td>\n",
       "      <td>3</td>\n",
       "      <td>1</td>\n",
       "      <td>1</td>\n",
       "      <td>1</td>\n",
       "      <td>0</td>\n",
       "      <td>0</td>\n",
       "    </tr>\n",
       "    <tr>\n",
       "      <th>1948</th>\n",
       "      <td>0</td>\n",
       "      <td>0</td>\n",
       "      <td>0</td>\n",
       "      <td>0</td>\n",
       "      <td>0</td>\n",
       "      <td>0</td>\n",
       "      <td>0</td>\n",
       "      <td>0</td>\n",
       "      <td>0</td>\n",
       "      <td>0</td>\n",
       "      <td>...</td>\n",
       "      <td>57</td>\n",
       "      <td>26</td>\n",
       "      <td>13</td>\n",
       "      <td>7</td>\n",
       "      <td>4</td>\n",
       "      <td>2</td>\n",
       "      <td>1</td>\n",
       "      <td>1</td>\n",
       "      <td>0</td>\n",
       "      <td>0</td>\n",
       "    </tr>\n",
       "    <tr>\n",
       "      <th>...</th>\n",
       "      <th>...</th>\n",
       "      <td>...</td>\n",
       "      <td>...</td>\n",
       "      <td>...</td>\n",
       "      <td>...</td>\n",
       "      <td>...</td>\n",
       "      <td>...</td>\n",
       "      <td>...</td>\n",
       "      <td>...</td>\n",
       "      <td>...</td>\n",
       "      <td>...</td>\n",
       "      <td>...</td>\n",
       "      <td>...</td>\n",
       "      <td>...</td>\n",
       "      <td>...</td>\n",
       "      <td>...</td>\n",
       "      <td>...</td>\n",
       "      <td>...</td>\n",
       "      <td>...</td>\n",
       "      <td>...</td>\n",
       "      <td>...</td>\n",
       "      <td>...</td>\n",
       "    </tr>\n",
       "    <tr>\n",
       "      <th rowspan=\"5\" valign=\"top\">upper_middle_income</th>\n",
       "      <th>2046</th>\n",
       "      <td>0</td>\n",
       "      <td>1469</td>\n",
       "      <td>4994</td>\n",
       "      <td>9061</td>\n",
       "      <td>16673</td>\n",
       "      <td>29585</td>\n",
       "      <td>47911</td>\n",
       "      <td>72537</td>\n",
       "      <td>109715</td>\n",
       "      <td>167888</td>\n",
       "      <td>...</td>\n",
       "      <td>704834</td>\n",
       "      <td>414050</td>\n",
       "      <td>246418</td>\n",
       "      <td>147794</td>\n",
       "      <td>89736</td>\n",
       "      <td>56619</td>\n",
       "      <td>35734</td>\n",
       "      <td>22980</td>\n",
       "      <td>14670</td>\n",
       "      <td>9240</td>\n",
       "    </tr>\n",
       "    <tr>\n",
       "      <th>2047</th>\n",
       "      <td>0</td>\n",
       "      <td>1378</td>\n",
       "      <td>4812</td>\n",
       "      <td>8861</td>\n",
       "      <td>16379</td>\n",
       "      <td>29048</td>\n",
       "      <td>47431</td>\n",
       "      <td>72018</td>\n",
       "      <td>108828</td>\n",
       "      <td>166072</td>\n",
       "      <td>...</td>\n",
       "      <td>735708</td>\n",
       "      <td>432083</td>\n",
       "      <td>257219</td>\n",
       "      <td>154213</td>\n",
       "      <td>93444</td>\n",
       "      <td>58931</td>\n",
       "      <td>37147</td>\n",
       "      <td>23871</td>\n",
       "      <td>15242</td>\n",
       "      <td>9607</td>\n",
       "    </tr>\n",
       "    <tr>\n",
       "      <th>2048</th>\n",
       "      <td>0</td>\n",
       "      <td>1475</td>\n",
       "      <td>4686</td>\n",
       "      <td>8674</td>\n",
       "      <td>16109</td>\n",
       "      <td>28573</td>\n",
       "      <td>47077</td>\n",
       "      <td>71624</td>\n",
       "      <td>108056</td>\n",
       "      <td>164279</td>\n",
       "      <td>...</td>\n",
       "      <td>767907</td>\n",
       "      <td>451241</td>\n",
       "      <td>268310</td>\n",
       "      <td>160982</td>\n",
       "      <td>97424</td>\n",
       "      <td>61342</td>\n",
       "      <td>38654</td>\n",
       "      <td>24834</td>\n",
       "      <td>15866</td>\n",
       "      <td>10015</td>\n",
       "    </tr>\n",
       "    <tr>\n",
       "      <th>2049</th>\n",
       "      <td>0</td>\n",
       "      <td>1278</td>\n",
       "      <td>4351</td>\n",
       "      <td>8093</td>\n",
       "      <td>15186</td>\n",
       "      <td>27013</td>\n",
       "      <td>44842</td>\n",
       "      <td>67596</td>\n",
       "      <td>101036</td>\n",
       "      <td>151794</td>\n",
       "      <td>...</td>\n",
       "      <td>412160</td>\n",
       "      <td>252679</td>\n",
       "      <td>157307</td>\n",
       "      <td>101060</td>\n",
       "      <td>65709</td>\n",
       "      <td>43658</td>\n",
       "      <td>28791</td>\n",
       "      <td>19127</td>\n",
       "      <td>12434</td>\n",
       "      <td>7935</td>\n",
       "    </tr>\n",
       "    <tr>\n",
       "      <th>2050</th>\n",
       "      <td>0</td>\n",
       "      <td>1100</td>\n",
       "      <td>4176</td>\n",
       "      <td>7884</td>\n",
       "      <td>14883</td>\n",
       "      <td>26512</td>\n",
       "      <td>44509</td>\n",
       "      <td>67256</td>\n",
       "      <td>100392</td>\n",
       "      <td>150601</td>\n",
       "      <td>...</td>\n",
       "      <td>430202</td>\n",
       "      <td>263151</td>\n",
       "      <td>163911</td>\n",
       "      <td>105024</td>\n",
       "      <td>68332</td>\n",
       "      <td>45362</td>\n",
       "      <td>29970</td>\n",
       "      <td>19909</td>\n",
       "      <td>12978</td>\n",
       "      <td>8299</td>\n",
       "    </tr>\n",
       "  </tbody>\n",
       "</table>\n",
       "<p>774 rows × 50 columns</p>\n",
       "</div>"
      ],
      "text/plain": [
       "income_bracket_50         0     1     2     3      4      5      6      7   \\\n",
       "income_groups       time                                                     \n",
       "high_income         1944   0     0     0     0      0      0      0      0   \n",
       "                    1945   0     0     0     0      0      0      0      0   \n",
       "                    1946   0     0     0     0      0      0      0      0   \n",
       "                    1947   0     0     0     0      0      0      0      0   \n",
       "                    1948   0     0     0     0      0      0      0      0   \n",
       "...                       ..   ...   ...   ...    ...    ...    ...    ...   \n",
       "upper_middle_income 2046   0  1469  4994  9061  16673  29585  47911  72537   \n",
       "                    2047   0  1378  4812  8861  16379  29048  47431  72018   \n",
       "                    2048   0  1475  4686  8674  16109  28573  47077  71624   \n",
       "                    2049   0  1278  4351  8093  15186  27013  44842  67596   \n",
       "                    2050   0  1100  4176  7884  14883  26512  44509  67256   \n",
       "\n",
       "income_bracket_50             8       9   ...      40      41      42      43  \\\n",
       "income_groups       time                  ...                                   \n",
       "high_income         1944       0       0  ...      11       6       3       1   \n",
       "                    1945       0       0  ...      16       8       4       2   \n",
       "                    1946       0       0  ...      22      11       6       3   \n",
       "                    1947       0       0  ...      44      20      11       5   \n",
       "                    1948       0       0  ...      57      26      13       7   \n",
       "...                          ...     ...  ...     ...     ...     ...     ...   \n",
       "upper_middle_income 2046  109715  167888  ...  704834  414050  246418  147794   \n",
       "                    2047  108828  166072  ...  735708  432083  257219  154213   \n",
       "                    2048  108056  164279  ...  767907  451241  268310  160982   \n",
       "                    2049  101036  151794  ...  412160  252679  157307  101060   \n",
       "                    2050  100392  150601  ...  430202  263151  163911  105024   \n",
       "\n",
       "income_bracket_50            44     45     46     47     48     49  \n",
       "income_groups       time                                            \n",
       "high_income         1944      1      0      0      0      0      0  \n",
       "                    1945      1      0      0      0      0      0  \n",
       "                    1946      2      1      1      0      0      0  \n",
       "                    1947      3      1      1      1      0      0  \n",
       "                    1948      4      2      1      1      0      0  \n",
       "...                         ...    ...    ...    ...    ...    ...  \n",
       "upper_middle_income 2046  89736  56619  35734  22980  14670   9240  \n",
       "                    2047  93444  58931  37147  23871  15242   9607  \n",
       "                    2048  97424  61342  38654  24834  15866  10015  \n",
       "                    2049  65709  43658  28791  19127  12434   7935  \n",
       "                    2050  68332  45362  29970  19909  12978   8299  \n",
       "\n",
       "[774 rows x 50 columns]"
      ]
     },
     "execution_count": 50,
     "metadata": {},
     "output_type": "execute_result"
    }
   ],
   "source": [
    "res_ig.unstack()"
   ]
  },
  {
   "cell_type": "code",
   "execution_count": 51,
   "id": "0a618abb",
   "metadata": {},
   "outputs": [
    {
     "data": {
      "text/plain": [
       "income_groups        time\n",
       "high_income          1944    0,0,0,0,0,0,0,0,0,0,0,1,1,1,2,3,5,10,17,34,70,...\n",
       "                     1945    0,0,0,0,0,0,0,0,0,0,1,1,1,1,2,3,6,10,17,29,54,...\n",
       "                     1946    0,0,0,0,0,0,0,0,0,0,1,1,1,2,2,3,4,7,11,18,32,6...\n",
       "                     1947    0,0,0,0,0,0,0,0,0,0,0,0,0,1,1,1,2,4,6,11,18,32...\n",
       "                     1948    0,0,0,0,0,0,0,0,0,0,0,0,0,0,0,1,1,2,3,6,10,18,...\n",
       "                                                   ...                        \n",
       "upper_middle_income  2046    0,1469,4994,9061,16673,29585,47911,72537,10971...\n",
       "                     2047    0,1378,4812,8861,16379,29048,47431,72018,10882...\n",
       "                     2048    0,1475,4686,8674,16109,28573,47077,71624,10805...\n",
       "                     2049    0,1278,4351,8093,15186,27013,44842,67596,10103...\n",
       "                     2050    0,1100,4176,7884,14883,26512,44509,67256,10039...\n",
       "Length: 774, dtype: object"
      ]
     },
     "execution_count": 51,
     "metadata": {},
     "output_type": "execute_result"
    }
   ],
   "source": [
    "res_ig.unstack().apply(lambda r: r.astype(str).str.cat(sep=','), axis=1)"
   ]
  },
  {
   "cell_type": "code",
   "execution_count": 52,
   "id": "73602196",
   "metadata": {},
   "outputs": [],
   "source": [
    "def concat_values(ser):\n",
    "    res = ser.unstack().apply(lambda r: r.astype(str).str.cat(sep=','), axis=1)\n",
    "    res.name = 'income_mountain_50bracket_shape_for_log'\n",
    "    return res"
   ]
  },
  {
   "cell_type": "code",
   "execution_count": 53,
   "id": "e599a128",
   "metadata": {},
   "outputs": [
    {
     "data": {
      "text/plain": [
       "income_groups        time  income_bracket_50\n",
       "high_income          1944  0                        0\n",
       "                           1                        0\n",
       "                           2                        0\n",
       "                           3                        0\n",
       "                           4                        0\n",
       "                                                ...  \n",
       "upper_middle_income  2050  45                   45362\n",
       "                           46                   29970\n",
       "                           47                   19909\n",
       "                           48                   12978\n",
       "                           49                    8299\n",
       "Name: population, Length: 38700, dtype: int64"
      ]
     },
     "execution_count": 53,
     "metadata": {},
     "output_type": "execute_result"
    }
   ],
   "source": [
    "res_ig"
   ]
  },
  {
   "cell_type": "code",
   "execution_count": 54,
   "id": "e4fc88d5",
   "metadata": {},
   "outputs": [],
   "source": [
    "max_heights['income_groups'] = res_ig.groupby('income_groups').max()"
   ]
  },
  {
   "cell_type": "code",
   "execution_count": null,
   "id": "2229cb79",
   "metadata": {},
   "outputs": [],
   "source": []
  },
  {
   "cell_type": "code",
   "execution_count": 55,
   "id": "0119cf57",
   "metadata": {},
   "outputs": [],
   "source": [
    "res_ig = concat_values(res_ig)"
   ]
  },
  {
   "cell_type": "code",
   "execution_count": 56,
   "id": "6b20217d",
   "metadata": {},
   "outputs": [],
   "source": [
    "res_ig.to_csv('../../income_mountain/ddf--datapoints--income_mountain_50bracket_shape_for_log--by--income_groups--time.csv')"
   ]
  },
  {
   "cell_type": "code",
   "execution_count": null,
   "id": "47453958",
   "metadata": {},
   "outputs": [],
   "source": []
  },
  {
   "cell_type": "code",
   "execution_count": 57,
   "id": "4c873e2f",
   "metadata": {},
   "outputs": [],
   "source": [
    "_d = income_3groups['level'].to_dict()"
   ]
  },
  {
   "cell_type": "code",
   "execution_count": 58,
   "id": "02e6c729",
   "metadata": {},
   "outputs": [],
   "source": [
    "ig3 = [_d[(row['geo'], row['time'])] for _, row in df.iterrows()]"
   ]
  },
  {
   "cell_type": "code",
   "execution_count": 59,
   "id": "5951fb23",
   "metadata": {},
   "outputs": [],
   "source": [
    "df['income_3groups'] = ig3"
   ]
  },
  {
   "cell_type": "code",
   "execution_count": 60,
   "id": "dc03a56d",
   "metadata": {},
   "outputs": [],
   "source": [
    "res_ig3 = df.groupby(by=['income_3groups', 'time', 'income_bracket_50'])['population'].sum()"
   ]
  },
  {
   "cell_type": "code",
   "execution_count": 61,
   "id": "f813f0f6",
   "metadata": {},
   "outputs": [],
   "source": [
    "max_heights['income_3groups'] = res_ig3.groupby('income_3groups').max()"
   ]
  },
  {
   "cell_type": "code",
   "execution_count": 62,
   "id": "a1a2619f",
   "metadata": {},
   "outputs": [],
   "source": [
    "res_ig3 = concat_values(res_ig3)"
   ]
  },
  {
   "cell_type": "code",
   "execution_count": 63,
   "id": "8af9dc1f",
   "metadata": {},
   "outputs": [
    {
     "data": {
      "text/plain": [
       "income_3groups  time\n",
       "high_income     1944    0,0,0,0,0,0,0,0,0,0,0,1,1,1,2,3,5,10,17,34,70,...\n",
       "                1945    0,0,0,0,0,0,0,0,0,0,1,1,1,1,2,3,6,10,17,29,54,...\n",
       "                1946    0,0,0,0,0,0,0,0,0,0,1,1,1,2,2,3,4,7,11,18,32,6...\n",
       "                1947    0,0,0,0,0,0,0,0,0,0,0,0,0,1,1,1,2,4,6,11,18,32...\n",
       "                1948    0,0,0,0,0,0,0,0,0,0,0,0,0,0,0,1,1,2,3,6,10,18,...\n",
       "                                              ...                        \n",
       "middle_income   2046    718,5570,18430,35303,59142,94751,147194,225921...\n",
       "                2047    579,5187,17743,34855,58748,94063,146218,224228...\n",
       "                2048    464,5035,18005,37949,64554,102467,157979,24003...\n",
       "                2049    5063,11603,26996,51645,85186,133608,207397,318...\n",
       "                2050    4861,11040,25955,50759,84244,132143,205343,314...\n",
       "Name: income_mountain_50bracket_shape_for_log, Length: 609, dtype: object"
      ]
     },
     "execution_count": 63,
     "metadata": {},
     "output_type": "execute_result"
    }
   ],
   "source": [
    "res_ig3"
   ]
  },
  {
   "cell_type": "code",
   "execution_count": 64,
   "id": "9d3080b1",
   "metadata": {},
   "outputs": [],
   "source": [
    "res_ig3.to_csv('../../income_mountain/ddf--datapoints--income_mountain_50bracket_shape_for_log--by--income_3groups--time.csv')"
   ]
  },
  {
   "cell_type": "code",
   "execution_count": 65,
   "id": "1b12a557",
   "metadata": {},
   "outputs": [
    {
     "data": {
      "text/plain": [
       "'4861,11040,25955,50759,84244,132143,205343,314956,486241,767427,1245325,2074478,3528085,6130829,10642612,18355298,31388885,53434714,89986136,144256368,214575265,299596550,405490218,553258127,695873647,723924631,613399673,449919024,303858584,198448191,123860734,74115197,43167567,24612166,13939464,7825883,4398675,2475244,1415006,834326,501333,309952,194562,124965,81105,53411,34946,22918,14749,9310'"
      ]
     },
     "execution_count": 65,
     "metadata": {},
     "output_type": "execute_result"
    }
   ],
   "source": [
    "res_ig3.at[('middle_income', 2050)]"
   ]
  },
  {
   "cell_type": "code",
   "execution_count": null,
   "id": "59ba8c09",
   "metadata": {},
   "outputs": [],
   "source": []
  },
  {
   "cell_type": "code",
   "execution_count": null,
   "id": "737828da",
   "metadata": {},
   "outputs": [],
   "source": []
  },
  {
   "cell_type": "code",
   "execution_count": 66,
   "id": "852fb8bb",
   "metadata": {},
   "outputs": [],
   "source": [
    "countries = pd.read_csv('../../../ddf--open_numbers/ddf--entities--geo--country.csv')"
   ]
  },
  {
   "cell_type": "code",
   "execution_count": 67,
   "id": "4e6b34d9",
   "metadata": {},
   "outputs": [],
   "source": [
    "# g77_and_oecd_countries"
   ]
  },
  {
   "cell_type": "code",
   "execution_count": 68,
   "id": "1913ef41",
   "metadata": {},
   "outputs": [],
   "source": [
    "k = 'g77_and_oecd_countries'"
   ]
  },
  {
   "cell_type": "code",
   "execution_count": 69,
   "id": "0cc9df91",
   "metadata": {},
   "outputs": [],
   "source": [
    "_d = countries.set_index('country')[k].dropna().to_dict()"
   ]
  },
  {
   "cell_type": "code",
   "execution_count": 70,
   "id": "7acf3779",
   "metadata": {},
   "outputs": [],
   "source": [
    "# this one missing in open_numbers ontology\n",
    "_d['ssd'] = 'g77'"
   ]
  },
  {
   "cell_type": "code",
   "execution_count": 71,
   "id": "98a9e8fb",
   "metadata": {},
   "outputs": [],
   "source": [
    "def _f(x):\n",
    "    try:\n",
    "        return _d[x]\n",
    "    except KeyError:\n",
    "        print(x)\n",
    "        return None\n",
    "df[k] = df['geo'].map(_f)"
   ]
  },
  {
   "cell_type": "code",
   "execution_count": 72,
   "id": "f22185ab",
   "metadata": {},
   "outputs": [],
   "source": [
    "res_g77 = df.groupby(by=[k, 'time', 'income_bracket_50'])['population'].sum()"
   ]
  },
  {
   "cell_type": "code",
   "execution_count": 74,
   "id": "0fc4b7b6",
   "metadata": {},
   "outputs": [],
   "source": [
    "max_heights[k] = res_g77.groupby(k).max()"
   ]
  },
  {
   "cell_type": "code",
   "execution_count": 75,
   "id": "c2f19620",
   "metadata": {},
   "outputs": [],
   "source": [
    "res_g77 = concat_values(res_g77)"
   ]
  },
  {
   "cell_type": "code",
   "execution_count": 76,
   "id": "93dbaba6",
   "metadata": {},
   "outputs": [
    {
     "data": {
      "text/plain": [
       "g77_and_oecd_countries  time\n",
       "g77                     1800    291497,421219,570041,768699,1041623,1445406,20...\n",
       "                        1801    293659,423976,573672,773497,1048132,1454676,20...\n",
       "                        1802    295795,426690,577256,778223,1054512,1463719,21...\n",
       "                        1803    297707,429203,580600,782693,1060619,1472443,21...\n",
       "                        1804    300148,432334,584765,788265,1068222,1483267,21...\n",
       "                                                      ...                        \n",
       "others                  2046    0,2,32,76,150,287,444,668,962,1363,2060,2997,4...\n",
       "                        2047    0,2,30,74,149,289,450,675,967,1361,2037,2959,4...\n",
       "                        2048    0,0,29,71,142,281,444,666,957,1347,2006,2909,4...\n",
       "                        2049    0,0,23,67,133,273,435,654,945,1323,1959,2835,4...\n",
       "                        2050    0,0,21,62,125,266,427,646,930,1302,1913,2763,3...\n",
       "Name: income_mountain_50bracket_shape_for_log, Length: 753, dtype: object"
      ]
     },
     "execution_count": 76,
     "metadata": {},
     "output_type": "execute_result"
    }
   ],
   "source": [
    "res_g77"
   ]
  },
  {
   "cell_type": "code",
   "execution_count": 77,
   "id": "58018a1f",
   "metadata": {},
   "outputs": [],
   "source": [
    "res_g77.to_csv('../../income_mountain/ddf--datapoints--income_mountain_50bracket_shape_for_log--by--g77_and_oecd_countries--time.csv')"
   ]
  },
  {
   "cell_type": "code",
   "execution_count": null,
   "id": "15204b27",
   "metadata": {},
   "outputs": [],
   "source": []
  },
  {
   "cell_type": "code",
   "execution_count": 86,
   "id": "12c6b5a1",
   "metadata": {},
   "outputs": [],
   "source": [
    "# global"
   ]
  },
  {
   "cell_type": "code",
   "execution_count": 78,
   "id": "5fd92929",
   "metadata": {},
   "outputs": [],
   "source": [
    "df['global'] = 'world'"
   ]
  },
  {
   "cell_type": "code",
   "execution_count": 79,
   "id": "14d6ac39",
   "metadata": {},
   "outputs": [],
   "source": [
    "res_glob = df.groupby(by=['global', 'time', 'income_bracket_50'])['population'].sum()"
   ]
  },
  {
   "cell_type": "code",
   "execution_count": 80,
   "id": "9fc05f04",
   "metadata": {},
   "outputs": [],
   "source": [
    "max_heights['global'] = res_glob.groupby('global').max()"
   ]
  },
  {
   "cell_type": "code",
   "execution_count": 81,
   "id": "0f54e1fd",
   "metadata": {},
   "outputs": [],
   "source": [
    "res_glob = concat_values(res_glob)"
   ]
  },
  {
   "cell_type": "code",
   "execution_count": 82,
   "id": "5c83b23b",
   "metadata": {},
   "outputs": [
    {
     "data": {
      "text/plain": [
       "global  time\n",
       "world   1800    346840,511066,708745,983502,1356437,1906086,27...\n",
       "        1801    349392,514463,713278,989657,1364991,1918369,27...\n",
       "        1802    351257,516647,716444,993882,1370885,1926786,27...\n",
       "        1803    353265,519120,720093,999039,1378046,1937066,28...\n",
       "        1804    355577,521633,723777,1004115,1385084,1947232,2...\n",
       "                                      ...                        \n",
       "        2046    5748,14845,49367,90978,146138,223448,337108,50...\n",
       "        2047    5510,13934,48640,91326,147255,224328,337343,50...\n",
       "        2048    5298,13229,45520,87606,142385,217426,327953,49...\n",
       "        2049    5071,12191,42417,85426,140005,214027,323240,48...\n",
       "        2050    4868,11514,40163,83469,137726,210781,318692,47...\n",
       "Name: income_mountain_50bracket_shape_for_log, Length: 251, dtype: object"
      ]
     },
     "execution_count": 82,
     "metadata": {},
     "output_type": "execute_result"
    }
   ],
   "source": [
    "res_glob"
   ]
  },
  {
   "cell_type": "code",
   "execution_count": 83,
   "id": "388c1ff6",
   "metadata": {},
   "outputs": [],
   "source": [
    "res_glob.to_csv('../../income_mountain/ddf--datapoints--income_mountain_50bracket_shape_for_log--by--global--time.csv')"
   ]
  },
  {
   "cell_type": "code",
   "execution_count": null,
   "id": "ce2ea580",
   "metadata": {},
   "outputs": [],
   "source": []
  },
  {
   "cell_type": "code",
   "execution_count": 84,
   "id": "23d78f32",
   "metadata": {},
   "outputs": [],
   "source": [
    "# landlocked"
   ]
  },
  {
   "cell_type": "code",
   "execution_count": 85,
   "id": "5418ef70",
   "metadata": {},
   "outputs": [],
   "source": [
    "_d = countries.set_index('country')['landlocked'].dropna().to_dict()"
   ]
  },
  {
   "cell_type": "code",
   "execution_count": 86,
   "id": "54374f43",
   "metadata": {},
   "outputs": [],
   "source": [
    "def _f(x):\n",
    "    try:\n",
    "        return _d[x]\n",
    "    except KeyError:\n",
    "        print(x)\n",
    "        return None\n",
    "df['landlocked'] = df['geo'].map(_f)"
   ]
  },
  {
   "cell_type": "code",
   "execution_count": 87,
   "id": "5e13e2fa",
   "metadata": {},
   "outputs": [],
   "source": [
    "res_llock = df.groupby(by=['landlocked', 'time', 'income_bracket_50'])['population'].sum()"
   ]
  },
  {
   "cell_type": "code",
   "execution_count": 98,
   "id": "2671dd6c",
   "metadata": {},
   "outputs": [
    {
     "data": {
      "text/plain": [
       "landlocked  time  income_bracket_50\n",
       "coastline   1800  0                     326234\n",
       "                  1                     482412\n",
       "                  2                     669785\n",
       "                  3                     930336\n",
       "                  4                    1282576\n",
       "                                        ...   \n",
       "landlocked  2050  45                      8316\n",
       "                  46                      4950\n",
       "                  47                      2806\n",
       "                  48                      1561\n",
       "                  49                       900\n",
       "Name: population, Length: 25100, dtype: int64"
      ]
     },
     "execution_count": 98,
     "metadata": {},
     "output_type": "execute_result"
    }
   ],
   "source": [
    "res_llock"
   ]
  },
  {
   "cell_type": "code",
   "execution_count": 100,
   "id": "b38492c3",
   "metadata": {},
   "outputs": [],
   "source": [
    "max_heights['landlocked'] = res_llock.reset_index().groupby('landlocked')['population'].max()"
   ]
  },
  {
   "cell_type": "code",
   "execution_count": 101,
   "id": "cc6b1961",
   "metadata": {},
   "outputs": [],
   "source": [
    "res_llock = concat_values(res_llock)"
   ]
  },
  {
   "cell_type": "code",
   "execution_count": 102,
   "id": "3b59b9c6",
   "metadata": {},
   "outputs": [],
   "source": [
    "res_llock.to_csv('../../income_mountain/ddf--datapoints--income_mountain_50bracket_shape_for_log--by--landlocked--time.csv')"
   ]
  },
  {
   "cell_type": "code",
   "execution_count": null,
   "id": "425bec6f",
   "metadata": {},
   "outputs": [],
   "source": []
  },
  {
   "cell_type": "code",
   "execution_count": null,
   "id": "6a3957f1",
   "metadata": {},
   "outputs": [],
   "source": []
  },
  {
   "cell_type": "code",
   "execution_count": 103,
   "id": "ffaa8127",
   "metadata": {},
   "outputs": [],
   "source": [
    "# main_religion_2008"
   ]
  },
  {
   "cell_type": "code",
   "execution_count": 104,
   "id": "dda5bf40",
   "metadata": {},
   "outputs": [],
   "source": [
    "k = 'main_religion_2008'"
   ]
  },
  {
   "cell_type": "code",
   "execution_count": 105,
   "id": "a3ad5df1",
   "metadata": {},
   "outputs": [],
   "source": [
    "_d = countries.set_index('country')[k].dropna().to_dict()"
   ]
  },
  {
   "cell_type": "code",
   "execution_count": 106,
   "id": "3aaa4733",
   "metadata": {},
   "outputs": [],
   "source": [
    "missing = set()\n",
    "def _f(x):\n",
    "    try:\n",
    "        return _d[x]\n",
    "    except KeyError:\n",
    "        missing.add(x)\n",
    "        return None\n",
    "df[k] = df['geo'].map(_f)"
   ]
  },
  {
   "cell_type": "code",
   "execution_count": 107,
   "id": "97454b0e",
   "metadata": {},
   "outputs": [
    {
     "data": {
      "text/plain": [
       "{'ben',\n",
       " 'bih',\n",
       " 'caf',\n",
       " 'civ',\n",
       " 'gnb',\n",
       " 'isr',\n",
       " 'kor',\n",
       " 'lbn',\n",
       " 'lbr',\n",
       " 'mdg',\n",
       " 'mng',\n",
       " 'mus',\n",
       " 'nga',\n",
       " 'prk',\n",
       " 'sle',\n",
       " 'ssd',\n",
       " 'tgo'}"
      ]
     },
     "execution_count": 107,
     "metadata": {},
     "output_type": "execute_result"
    }
   ],
   "source": [
    "missing"
   ]
  },
  {
   "cell_type": "code",
   "execution_count": 108,
   "id": "ccdb2523",
   "metadata": {},
   "outputs": [
    {
     "data": {
      "text/plain": [
       "array([nan, 'christian', 'muslim', 'eastern_religions'], dtype=object)"
      ]
     },
     "execution_count": 108,
     "metadata": {},
     "output_type": "execute_result"
    }
   ],
   "source": [
    "countries[k].unique()"
   ]
  },
  {
   "cell_type": "code",
   "execution_count": 109,
   "id": "11e15376",
   "metadata": {},
   "outputs": [],
   "source": [
    "res_rel = df.dropna(subset=[k]).groupby(by=[k, 'time', 'income_bracket_50'])['population'].sum()"
   ]
  },
  {
   "cell_type": "code",
   "execution_count": 110,
   "id": "ea27bb0f",
   "metadata": {},
   "outputs": [],
   "source": [
    "max_heights[k] = res_rel.groupby(k).max()"
   ]
  },
  {
   "cell_type": "code",
   "execution_count": 111,
   "id": "03c2f495",
   "metadata": {},
   "outputs": [],
   "source": [
    "res_rel = concat_values(res_rel)"
   ]
  },
  {
   "cell_type": "code",
   "execution_count": 112,
   "id": "dbe780f4",
   "metadata": {},
   "outputs": [
    {
     "data": {
      "text/plain": [
       "main_religion_2008  time\n",
       "christian           1800    68855,110405,164966,244575,351960,507995,74873...\n",
       "                    1801    69253,111073,165884,245886,353900,510821,75283...\n",
       "                    1802    68950,110528,165418,245285,353237,509926,75160...\n",
       "                    1803    69041,110503,165737,245939,354220,511358,75371...\n",
       "                    1804    68875,109856,165218,245351,353502,510474,75262...\n",
       "                                                  ...                        \n",
       "muslim              2046    0,245,981,2168,4016,6544,10327,16071,25735,428...\n",
       "                    2047    0,206,951,2110,3958,6443,10211,15857,25322,419...\n",
       "                    2048    0,176,929,2067,3782,6132,9768,15217,24386,4044...\n",
       "                    2049    0,150,889,2000,3728,6052,9654,15002,23971,3953...\n",
       "                    2050    0,110,843,1915,3649,5926,9484,14725,23473,3860...\n",
       "Name: income_mountain_50bracket_shape_for_log, Length: 753, dtype: object"
      ]
     },
     "execution_count": 112,
     "metadata": {},
     "output_type": "execute_result"
    }
   ],
   "source": [
    "res_rel"
   ]
  },
  {
   "cell_type": "code",
   "execution_count": 113,
   "id": "7e229a1f",
   "metadata": {},
   "outputs": [],
   "source": [
    "res_rel.to_csv('../../income_mountain/ddf--datapoints--income_mountain_50bracket_shape_for_log--by--main_religion_2008--time.csv')"
   ]
  },
  {
   "cell_type": "code",
   "execution_count": null,
   "id": "ce088661",
   "metadata": {},
   "outputs": [],
   "source": []
  },
  {
   "cell_type": "code",
   "execution_count": 114,
   "id": "2cda7e1e",
   "metadata": {},
   "outputs": [],
   "source": [
    "# unhcr_region"
   ]
  },
  {
   "cell_type": "code",
   "execution_count": 115,
   "id": "3bd63d9d",
   "metadata": {},
   "outputs": [],
   "source": [
    "k = 'unhcr_region'"
   ]
  },
  {
   "cell_type": "code",
   "execution_count": 116,
   "id": "13107874",
   "metadata": {},
   "outputs": [],
   "source": [
    "_d = countries.set_index('country')[k].dropna().to_dict()"
   ]
  },
  {
   "cell_type": "code",
   "execution_count": 117,
   "id": "d2098514",
   "metadata": {},
   "outputs": [],
   "source": [
    "missing = set()\n",
    "def _f(x):\n",
    "    try:\n",
    "        return _d[x]\n",
    "    except KeyError:\n",
    "        missing.add(x)\n",
    "        return None\n",
    "df[k] = df['geo'].map(_f)"
   ]
  },
  {
   "cell_type": "code",
   "execution_count": 118,
   "id": "28969553",
   "metadata": {},
   "outputs": [
    {
     "data": {
      "text/plain": [
       "{'twn'}"
      ]
     },
     "execution_count": 118,
     "metadata": {},
     "output_type": "execute_result"
    }
   ],
   "source": [
    "missing"
   ]
  },
  {
   "cell_type": "code",
   "execution_count": 119,
   "id": "6ae91e30",
   "metadata": {},
   "outputs": [],
   "source": [
    "res_ur = df.dropna(subset=[k]).groupby(by=[k, 'time', 'income_bracket_50'])['population'].sum()"
   ]
  },
  {
   "cell_type": "code",
   "execution_count": 120,
   "id": "3ea5aa0f",
   "metadata": {},
   "outputs": [],
   "source": [
    "max_heights[k] = res_ur.groupby(k).max()"
   ]
  },
  {
   "cell_type": "code",
   "execution_count": 121,
   "id": "210c09b5",
   "metadata": {},
   "outputs": [],
   "source": [
    "res_ur = concat_values(res_ur)"
   ]
  },
  {
   "cell_type": "code",
   "execution_count": 122,
   "id": "073402b6",
   "metadata": {},
   "outputs": [
    {
     "data": {
      "text/plain": [
       "unhcr_region               time\n",
       "unhcr_americas             1800    6548,10983,16626,24531,34879,49208,69739,10049...\n",
       "                           1801    6592,11052,16696,24656,35072,49499,70172,10117...\n",
       "                           1802    6626,11140,16811,24796,35312,49851,70702,10202...\n",
       "                           1803    6702,11255,17009,25129,35739,50438,71534,10326...\n",
       "                           1804    6728,11325,17119,25320,36023,50856,72183,10431...\n",
       "                                                         ...                        \n",
       "unhcr_west_central_africa  2046    3,87,2429,6793,12273,19659,30151,46324,72079,1...\n",
       "                           2047    3,70,2110,6573,12019,19327,29665,45605,70777,1...\n",
       "                           2048    3,64,1852,6255,11415,18419,28399,43838,68236,1...\n",
       "                           2049    2,60,1589,6044,11211,18169,28072,43288,67250,1...\n",
       "                           2050    2,57,1285,5808,10969,17864,27686,42683,66231,1...\n",
       "Name: income_mountain_50bracket_shape_for_log, Length: 1757, dtype: object"
      ]
     },
     "execution_count": 122,
     "metadata": {},
     "output_type": "execute_result"
    }
   ],
   "source": [
    "res_ur"
   ]
  },
  {
   "cell_type": "code",
   "execution_count": 123,
   "id": "41b35dd8",
   "metadata": {},
   "outputs": [],
   "source": [
    "res_ur.to_csv('../../income_mountain/ddf--datapoints--income_mountain_50bracket_shape_for_log--by--unhcr_region--time.csv')"
   ]
  },
  {
   "cell_type": "code",
   "execution_count": null,
   "id": "f87d5efb",
   "metadata": {},
   "outputs": [],
   "source": []
  },
  {
   "cell_type": "code",
   "execution_count": null,
   "id": "745c39c9",
   "metadata": {},
   "outputs": [],
   "source": []
  },
  {
   "cell_type": "code",
   "execution_count": 124,
   "id": "ae443051",
   "metadata": {},
   "outputs": [],
   "source": [
    "# unicef_region"
   ]
  },
  {
   "cell_type": "code",
   "execution_count": 125,
   "id": "359b6a66",
   "metadata": {},
   "outputs": [],
   "source": [
    "k = 'unicef_region'"
   ]
  },
  {
   "cell_type": "code",
   "execution_count": 126,
   "id": "cd1be60f",
   "metadata": {},
   "outputs": [],
   "source": [
    "_d = countries.set_index('country')[k].dropna().to_dict()"
   ]
  },
  {
   "cell_type": "code",
   "execution_count": 127,
   "id": "b3334e94",
   "metadata": {},
   "outputs": [],
   "source": [
    "missing = set()\n",
    "def _f(x):\n",
    "    try:\n",
    "        return _d[x]\n",
    "    except KeyError:\n",
    "        missing.add(x)\n",
    "        return None\n",
    "df[k] = df['geo'].map(_f)"
   ]
  },
  {
   "cell_type": "code",
   "execution_count": 128,
   "id": "cf04cd8f",
   "metadata": {},
   "outputs": [
    {
     "data": {
      "text/plain": [
       "{'hkg', 'twn'}"
      ]
     },
     "execution_count": 128,
     "metadata": {},
     "output_type": "execute_result"
    }
   ],
   "source": [
    "missing"
   ]
  },
  {
   "cell_type": "code",
   "execution_count": 129,
   "id": "d0c4d573",
   "metadata": {},
   "outputs": [],
   "source": [
    "res_unr = df.dropna(subset=[k]).groupby(by=[k, 'time', 'income_bracket_50'])['population'].sum()"
   ]
  },
  {
   "cell_type": "code",
   "execution_count": 130,
   "id": "f41faa66",
   "metadata": {},
   "outputs": [],
   "source": [
    "max_heights[k] = res_unr.groupby(k).max()"
   ]
  },
  {
   "cell_type": "code",
   "execution_count": 131,
   "id": "dcc128b5",
   "metadata": {},
   "outputs": [],
   "source": [
    "res_unr = concat_values(res_unr)"
   ]
  },
  {
   "cell_type": "code",
   "execution_count": 132,
   "id": "ee19f242",
   "metadata": {},
   "outputs": [
    {
     "data": {
      "text/plain": [
       "unicef_region  time\n",
       "eap            1800    244537,352502,474992,639889,857085,1170471,165...\n",
       "               1801    246614,355122,478462,644528,863418,1179533,166...\n",
       "               1802    248689,357731,481924,649117,869632,1188332,167...\n",
       "               1803    250510,360096,485080,653370,875448,1196641,168...\n",
       "               1804    252663,362805,488657,658149,881956,1205938,170...\n",
       "                                             ...                        \n",
       "ssa            2046    745,6433,25223,49002,78845,121983,185604,28443...\n",
       "               2047    603,6025,25532,50760,81882,125769,190166,28898...\n",
       "               2048    484,5638,23442,48448,78831,121543,184766,28135...\n",
       "               2049    348,5012,22159,47653,78234,120623,183663,27900...\n",
       "               2050    240,4466,21015,47008,77743,119829,182800,27706...\n",
       "Name: income_mountain_50bracket_shape_for_log, Length: 1757, dtype: object"
      ]
     },
     "execution_count": 132,
     "metadata": {},
     "output_type": "execute_result"
    }
   ],
   "source": [
    "res_unr"
   ]
  },
  {
   "cell_type": "code",
   "execution_count": 133,
   "id": "461b6362",
   "metadata": {},
   "outputs": [],
   "source": [
    "res_unr.to_csv('../../income_mountain/ddf--datapoints--income_mountain_50bracket_shape_for_log--by--unicef_region--time.csv')"
   ]
  },
  {
   "cell_type": "code",
   "execution_count": null,
   "id": "ed5f8cfe",
   "metadata": {},
   "outputs": [],
   "source": []
  },
  {
   "cell_type": "code",
   "execution_count": null,
   "id": "67f3d148",
   "metadata": {},
   "outputs": [],
   "source": []
  },
  {
   "cell_type": "code",
   "execution_count": 134,
   "id": "17d0869c",
   "metadata": {},
   "outputs": [],
   "source": [
    "# un_sdg_ldc"
   ]
  },
  {
   "cell_type": "code",
   "execution_count": 135,
   "id": "2fb41a98",
   "metadata": {},
   "outputs": [],
   "source": [
    "k = 'un_sdg_ldc'"
   ]
  },
  {
   "cell_type": "code",
   "execution_count": 136,
   "id": "696367de",
   "metadata": {},
   "outputs": [],
   "source": [
    "_d = countries.set_index('country')[k].dropna().to_dict()"
   ]
  },
  {
   "cell_type": "code",
   "execution_count": 137,
   "id": "ae4789b8",
   "metadata": {},
   "outputs": [],
   "source": [
    "missing = set()\n",
    "def _f(x):\n",
    "    try:\n",
    "        return _d[x]\n",
    "    except KeyError:\n",
    "        missing.add(x)\n",
    "        return None\n",
    "df[k] = df['geo'].map(_f)"
   ]
  },
  {
   "cell_type": "code",
   "execution_count": 138,
   "id": "09868b10",
   "metadata": {},
   "outputs": [
    {
     "data": {
      "text/plain": [
       "set()"
      ]
     },
     "execution_count": 138,
     "metadata": {},
     "output_type": "execute_result"
    }
   ],
   "source": [
    "missing"
   ]
  },
  {
   "cell_type": "code",
   "execution_count": 139,
   "id": "5d5f0dd5",
   "metadata": {},
   "outputs": [],
   "source": [
    "res_usl = df.dropna(subset=[k]).groupby(by=[k, 'time', 'income_bracket_50'])['population'].sum()"
   ]
  },
  {
   "cell_type": "code",
   "execution_count": 140,
   "id": "2eadb1f5",
   "metadata": {},
   "outputs": [],
   "source": [
    "max_heights[k] = res_usl.groupby(k).max()"
   ]
  },
  {
   "cell_type": "code",
   "execution_count": 141,
   "id": "8843f599",
   "metadata": {},
   "outputs": [],
   "source": [
    "res_usl = concat_values(res_usl)"
   ]
  },
  {
   "cell_type": "code",
   "execution_count": 142,
   "id": "26439f44",
   "metadata": {},
   "outputs": [
    {
     "data": {
      "text/plain": [
       "un_sdg_ldc              time\n",
       "un_least_developed      1800    18959,27125,38919,60011,87711,131105,202147,32...\n",
       "                        1801    18957,27122,38901,59973,87644,130979,201910,32...\n",
       "                        1802    18916,27076,38847,59907,87547,130823,201643,32...\n",
       "                        1803    18900,27057,38823,59882,87511,130768,201540,32...\n",
       "                        1804    18884,27041,38789,59845,87437,130619,201237,32...\n",
       "                                                      ...                        \n",
       "un_not_least_developed  2046    5015,8501,24416,42460,68467,106323,161586,2401...\n",
       "                        2047    4915,7996,23321,41014,66446,103075,157087,2337...\n",
       "                        2048    4820,7680,22303,39534,64474,99974,152871,22752...\n",
       "                        2049    4726,7264,20478,38126,62583,97057,149009,22209...\n",
       "                        2050    4630,7130,19320,36769,60696,94145,145077,21648...\n",
       "Name: income_mountain_50bracket_shape_for_log, Length: 502, dtype: object"
      ]
     },
     "execution_count": 142,
     "metadata": {},
     "output_type": "execute_result"
    }
   ],
   "source": [
    "res_usl"
   ]
  },
  {
   "cell_type": "code",
   "execution_count": 143,
   "id": "799e69f4",
   "metadata": {},
   "outputs": [],
   "source": [
    "res_usl.to_csv('../../income_mountain/ddf--datapoints--income_mountain_50bracket_shape_for_log--by--un_sdg_ldc--time.csv')"
   ]
  },
  {
   "cell_type": "code",
   "execution_count": null,
   "id": "77c1ca38",
   "metadata": {},
   "outputs": [],
   "source": []
  },
  {
   "cell_type": "code",
   "execution_count": null,
   "id": "4dcca9c0",
   "metadata": {},
   "outputs": [],
   "source": []
  },
  {
   "cell_type": "code",
   "execution_count": 131,
   "id": "9eec2d39",
   "metadata": {},
   "outputs": [],
   "source": [
    "# un_sdg_region"
   ]
  },
  {
   "cell_type": "code",
   "execution_count": 144,
   "id": "3c14bfe1",
   "metadata": {},
   "outputs": [],
   "source": [
    "k = 'un_sdg_region'"
   ]
  },
  {
   "cell_type": "code",
   "execution_count": 145,
   "id": "963fb6a7",
   "metadata": {},
   "outputs": [],
   "source": [
    "_d = countries.set_index('country')[k].dropna().to_dict()"
   ]
  },
  {
   "cell_type": "code",
   "execution_count": 146,
   "id": "3c84bf96",
   "metadata": {},
   "outputs": [],
   "source": [
    "missing = set()\n",
    "def _f(x):\n",
    "    try:\n",
    "        return _d[x]\n",
    "    except KeyError:\n",
    "        missing.add(x)\n",
    "        return None\n",
    "df[k] = df['geo'].map(_f)"
   ]
  },
  {
   "cell_type": "code",
   "execution_count": 147,
   "id": "fb098538",
   "metadata": {},
   "outputs": [
    {
     "data": {
      "text/plain": [
       "set()"
      ]
     },
     "execution_count": 147,
     "metadata": {},
     "output_type": "execute_result"
    }
   ],
   "source": [
    "missing"
   ]
  },
  {
   "cell_type": "code",
   "execution_count": 148,
   "id": "1cea6114",
   "metadata": {},
   "outputs": [],
   "source": [
    "res_usr = df.dropna(subset=[k]).groupby(by=[k, 'time', 'income_bracket_50'])['population'].sum()"
   ]
  },
  {
   "cell_type": "code",
   "execution_count": 149,
   "id": "b9b0942d",
   "metadata": {},
   "outputs": [],
   "source": [
    "max_heights[k] = res_usr.groupby(k).max()"
   ]
  },
  {
   "cell_type": "code",
   "execution_count": 150,
   "id": "c54f2373",
   "metadata": {},
   "outputs": [],
   "source": [
    "res_usr = concat_values(res_usr)"
   ]
  },
  {
   "cell_type": "code",
   "execution_count": 151,
   "id": "91507e98",
   "metadata": {},
   "outputs": [
    {
     "data": {
      "text/plain": [
       "un_sdg_region                 time\n",
       "un_australia_and_new_zealand  1800    14,23,35,55,85,139,244,462,935,1937,3937,7780,...\n",
       "                              1801    13,22,35,52,82,133,232,440,890,1849,3775,7483,...\n",
       "                              1802    13,21,34,51,79,129,225,425,857,1780,3641,7226,...\n",
       "                              1803    12,21,32,49,78,125,219,410,826,1714,3513,6984,...\n",
       "                              1804    12,21,31,49,75,122,211,396,794,1648,3383,6735,...\n",
       "                                                            ...                        \n",
       "un_sub_saharan_africa         2046    745,6414,25105,48795,78525,121524,184981,28363...\n",
       "                              2047    603,6007,25418,50558,81567,125315,189547,28818...\n",
       "                              2048    484,5621,23332,48251,78522,121097,184156,28056...\n",
       "                              2049    348,4996,22054,47461,77937,120194,183076,27823...\n",
       "                              2050    240,4466,20914,46821,77452,119406,182219,27630...\n",
       "Name: income_mountain_50bracket_shape_for_log, Length: 2008, dtype: object"
      ]
     },
     "execution_count": 151,
     "metadata": {},
     "output_type": "execute_result"
    }
   ],
   "source": [
    "res_usr"
   ]
  },
  {
   "cell_type": "code",
   "execution_count": 152,
   "id": "66a2324e",
   "metadata": {},
   "outputs": [],
   "source": [
    "res_usr.to_csv('../../income_mountain/ddf--datapoints--income_mountain_50bracket_shape_for_log--by--un_sdg_region--time.csv')"
   ]
  },
  {
   "cell_type": "code",
   "execution_count": null,
   "id": "6bbf07f4",
   "metadata": {},
   "outputs": [],
   "source": []
  },
  {
   "cell_type": "code",
   "execution_count": null,
   "id": "37fbf687",
   "metadata": {},
   "outputs": [],
   "source": []
  },
  {
   "cell_type": "code",
   "execution_count": 153,
   "id": "8638412e",
   "metadata": {},
   "outputs": [],
   "source": [
    "# west_and_rest"
   ]
  },
  {
   "cell_type": "code",
   "execution_count": 154,
   "id": "2fffda7f",
   "metadata": {},
   "outputs": [],
   "source": [
    "k = 'west_and_rest'"
   ]
  },
  {
   "cell_type": "code",
   "execution_count": 155,
   "id": "f74568af",
   "metadata": {},
   "outputs": [],
   "source": [
    "_d = countries.set_index('country')[k].dropna().to_dict()"
   ]
  },
  {
   "cell_type": "code",
   "execution_count": 156,
   "id": "49a614ea",
   "metadata": {},
   "outputs": [],
   "source": [
    "missing = set()\n",
    "def _f(x):\n",
    "    try:\n",
    "        return _d[x]\n",
    "    except KeyError:\n",
    "        missing.add(x)\n",
    "        return None\n",
    "df[k] = df['geo'].map(_f)"
   ]
  },
  {
   "cell_type": "code",
   "execution_count": 157,
   "id": "f1e0da3d",
   "metadata": {},
   "outputs": [
    {
     "data": {
      "text/plain": [
       "{'hkg', 'twn'}"
      ]
     },
     "execution_count": 157,
     "metadata": {},
     "output_type": "execute_result"
    }
   ],
   "source": [
    "missing"
   ]
  },
  {
   "cell_type": "code",
   "execution_count": 158,
   "id": "0a56b2b0",
   "metadata": {},
   "outputs": [],
   "source": [
    "res_war = df.dropna(subset=[k]).groupby(by=[k, 'time', 'income_bracket_50'])['population'].sum()"
   ]
  },
  {
   "cell_type": "code",
   "execution_count": 159,
   "id": "cce76d6e",
   "metadata": {},
   "outputs": [],
   "source": [
    "max_heights[k] = res_war.groupby(k).max()"
   ]
  },
  {
   "cell_type": "code",
   "execution_count": 160,
   "id": "f6d86116",
   "metadata": {},
   "outputs": [],
   "source": [
    "res_war = concat_values(res_war)"
   ]
  },
  {
   "cell_type": "code",
   "execution_count": 161,
   "id": "9a8d1f3a",
   "metadata": {},
   "outputs": [
    {
     "data": {
      "text/plain": [
       "west_and_rest  time\n",
       "rest           1800    333633,480073,653634,895280,1225207,1717998,24...\n",
       "               1801    335848,482906,657387,900307,1232064,1727807,25...\n",
       "               1802    338050,485715,661143,905312,1238870,1737501,25...\n",
       "               1803    340023,488333,664680,910153,1245596,1747226,25...\n",
       "               1804    342498,491515,668935,915911,1253489,1758502,25...\n",
       "                                             ...                        \n",
       "west           2046    0,395,7259,13467,21514,32104,46381,63747,83854...\n",
       "               2047    0,309,6836,12866,20757,31050,45008,62109,81988...\n",
       "               2048    0,286,6434,12268,20005,30000,43643,60477,80126...\n",
       "               2049    0,0,5344,11682,19274,28981,42302,58871,78275,9...\n",
       "               2050    0,0,4983,11125,18574,28003,41003,57304,76433,9...\n",
       "Name: income_mountain_50bracket_shape_for_log, Length: 502, dtype: object"
      ]
     },
     "execution_count": 161,
     "metadata": {},
     "output_type": "execute_result"
    }
   ],
   "source": [
    "res_war"
   ]
  },
  {
   "cell_type": "code",
   "execution_count": 162,
   "id": "fd1a2e7c",
   "metadata": {},
   "outputs": [],
   "source": [
    "res_war.to_csv('../../income_mountain/ddf--datapoints--income_mountain_50bracket_shape_for_log--by--west_and_rest--time.csv')"
   ]
  },
  {
   "cell_type": "code",
   "execution_count": null,
   "id": "0ffa160f",
   "metadata": {},
   "outputs": [],
   "source": []
  },
  {
   "cell_type": "code",
   "execution_count": 164,
   "id": "af2f17db",
   "metadata": {},
   "outputs": [],
   "source": [
    "# world_4region"
   ]
  },
  {
   "cell_type": "code",
   "execution_count": 165,
   "id": "75bcc03d",
   "metadata": {},
   "outputs": [],
   "source": [
    "k = 'world_4region'"
   ]
  },
  {
   "cell_type": "code",
   "execution_count": 166,
   "id": "bfa7c4e3",
   "metadata": {},
   "outputs": [],
   "source": [
    "_d = countries.set_index('country')[k].dropna().to_dict()"
   ]
  },
  {
   "cell_type": "code",
   "execution_count": 167,
   "id": "e844a7b4",
   "metadata": {},
   "outputs": [],
   "source": [
    "missing = set()\n",
    "def _f(x):\n",
    "    try:\n",
    "        return _d[x]\n",
    "    except KeyError:\n",
    "        missing.add(x)\n",
    "        return None\n",
    "df[k] = df['geo'].map(_f)"
   ]
  },
  {
   "cell_type": "code",
   "execution_count": 168,
   "id": "73134d60",
   "metadata": {},
   "outputs": [
    {
     "data": {
      "text/plain": [
       "set()"
      ]
     },
     "execution_count": 168,
     "metadata": {},
     "output_type": "execute_result"
    }
   ],
   "source": [
    "missing"
   ]
  },
  {
   "cell_type": "code",
   "execution_count": 169,
   "id": "7db5b0ab",
   "metadata": {},
   "outputs": [],
   "source": [
    "res_w4r = df.dropna(subset=[k]).groupby(by=[k, 'time', 'income_bracket_50'])['population'].sum()"
   ]
  },
  {
   "cell_type": "code",
   "execution_count": 170,
   "id": "a58137a7",
   "metadata": {},
   "outputs": [],
   "source": [
    "max_heights[k] = res_w4r.groupby(k).max()"
   ]
  },
  {
   "cell_type": "code",
   "execution_count": 171,
   "id": "2db7df20",
   "metadata": {},
   "outputs": [],
   "source": [
    "res_w4r = concat_values(res_w4r)"
   ]
  },
  {
   "cell_type": "code",
   "execution_count": 172,
   "id": "4ae67ca0",
   "metadata": {},
   "outputs": [
    {
     "data": {
      "text/plain": [
       "world_4region  time\n",
       "africa         1800    26239,38591,55247,84311,125207,190988,299418,4...\n",
       "               1801    26231,38583,55221,84261,125129,190845,299165,4...\n",
       "               1802    26185,38531,55158,84189,125025,190705,298947,4...\n",
       "               1803    26157,38504,55122,84150,124983,190657,298860,4...\n",
       "               1804    26365,38797,55557,84766,125845,191843,300468,4...\n",
       "                                             ...                        \n",
       "europe         2046    0,494,3403,5577,7641,9719,11897,14343,17164,20...\n",
       "               2047    0,309,3208,5361,7419,9472,11621,14020,16796,19...\n",
       "               2048    0,286,3031,5148,7198,9228,11349,13709,16447,19...\n",
       "               2049    0,0,2811,4932,6978,8984,11074,13389,16091,1918...\n",
       "               2050    0,0,2508,4719,6761,8742,10802,13077,15738,1877...\n",
       "Name: income_mountain_50bracket_shape_for_log, Length: 1004, dtype: object"
      ]
     },
     "execution_count": 172,
     "metadata": {},
     "output_type": "execute_result"
    }
   ],
   "source": [
    "res_w4r"
   ]
  },
  {
   "cell_type": "code",
   "execution_count": 173,
   "id": "d0332079",
   "metadata": {},
   "outputs": [],
   "source": [
    "res_w4r.to_csv('../../income_mountain/ddf--datapoints--income_mountain_50bracket_shape_for_log--by--world_4region--time.csv')"
   ]
  },
  {
   "cell_type": "code",
   "execution_count": null,
   "id": "76d4d944",
   "metadata": {},
   "outputs": [],
   "source": []
  },
  {
   "cell_type": "code",
   "execution_count": 175,
   "id": "c49a337a",
   "metadata": {},
   "outputs": [],
   "source": [
    "# world_6region"
   ]
  },
  {
   "cell_type": "code",
   "execution_count": 176,
   "id": "abfeae94",
   "metadata": {},
   "outputs": [],
   "source": [
    "k = 'world_6region'"
   ]
  },
  {
   "cell_type": "code",
   "execution_count": 177,
   "id": "b1829844",
   "metadata": {},
   "outputs": [],
   "source": [
    "_d = countries.set_index('country')[k].dropna().to_dict()"
   ]
  },
  {
   "cell_type": "code",
   "execution_count": 178,
   "id": "e023f7ea",
   "metadata": {},
   "outputs": [],
   "source": [
    "missing = set()\n",
    "def _f(x):\n",
    "    try:\n",
    "        return _d[x]\n",
    "    except KeyError:\n",
    "        missing.add(x)\n",
    "        return None\n",
    "df[k] = df['geo'].map(_f)"
   ]
  },
  {
   "cell_type": "code",
   "execution_count": 179,
   "id": "6dba0520",
   "metadata": {},
   "outputs": [
    {
     "data": {
      "text/plain": [
       "set()"
      ]
     },
     "execution_count": 179,
     "metadata": {},
     "output_type": "execute_result"
    }
   ],
   "source": [
    "missing"
   ]
  },
  {
   "cell_type": "code",
   "execution_count": 180,
   "id": "392fc7af",
   "metadata": {},
   "outputs": [],
   "source": [
    "res_w6r = df.dropna(subset=[k]).groupby(by=[k, 'time', 'income_bracket_50'])['population'].sum()"
   ]
  },
  {
   "cell_type": "code",
   "execution_count": 182,
   "id": "1dd5c3d7",
   "metadata": {},
   "outputs": [],
   "source": [
    "max_heights[k] = res_w6r.groupby(by=k).max()"
   ]
  },
  {
   "cell_type": "code",
   "execution_count": 183,
   "id": "b43710a1",
   "metadata": {},
   "outputs": [],
   "source": [
    "res_w6r = concat_values(res_w6r)"
   ]
  },
  {
   "cell_type": "code",
   "execution_count": 184,
   "id": "566ebc48",
   "metadata": {},
   "outputs": [
    {
     "data": {
      "text/plain": [
       "world_6region       time\n",
       "america             1800    6548,10983,16626,24531,34879,49208,69739,10049...\n",
       "                    1801    6592,11052,16696,24656,35072,49499,70172,10117...\n",
       "                    1802    6626,11140,16811,24796,35312,49851,70702,10202...\n",
       "                    1803    6702,11255,17009,25129,35739,50438,71534,10326...\n",
       "                    1804    6728,11325,17119,25320,36023,50856,72183,10431...\n",
       "                                                  ...                        \n",
       "sub_saharan_africa  2046    745,6433,25223,49001,78843,121978,185593,28441...\n",
       "                    2047    603,6025,25532,50759,81880,125765,190156,28896...\n",
       "                    2048    484,5638,23442,48448,78830,121539,184756,28133...\n",
       "                    2049    348,5012,22159,47653,78233,120619,183654,27897...\n",
       "                    2050    240,4466,21015,47008,77742,119825,182791,27704...\n",
       "Name: income_mountain_50bracket_shape_for_log, Length: 1506, dtype: object"
      ]
     },
     "execution_count": 184,
     "metadata": {},
     "output_type": "execute_result"
    }
   ],
   "source": [
    "res_w6r"
   ]
  },
  {
   "cell_type": "code",
   "execution_count": 185,
   "id": "f857aa1e",
   "metadata": {},
   "outputs": [],
   "source": [
    "res_w6r.to_csv('../../income_mountain/ddf--datapoints--income_mountain_50bracket_shape_for_log--by--world_6region--time.csv')"
   ]
  },
  {
   "cell_type": "code",
   "execution_count": null,
   "id": "f304dd1d",
   "metadata": {},
   "outputs": [],
   "source": []
  },
  {
   "cell_type": "code",
   "execution_count": null,
   "id": "3a3b6e7e",
   "metadata": {},
   "outputs": [],
   "source": []
  },
  {
   "cell_type": "code",
   "execution_count": null,
   "id": "45faca6a",
   "metadata": {},
   "outputs": [],
   "source": []
  },
  {
   "cell_type": "code",
   "execution_count": 163,
   "id": "9f0a8a08",
   "metadata": {},
   "outputs": [],
   "source": [
    "# now also update the max heights for all groups!"
   ]
  },
  {
   "cell_type": "code",
   "execution_count": 186,
   "id": "be759c1e",
   "metadata": {},
   "outputs": [
    {
     "data": {
      "text/html": [
       "<div>\n",
       "<style scoped>\n",
       "    .dataframe tbody tr th:only-of-type {\n",
       "        vertical-align: middle;\n",
       "    }\n",
       "\n",
       "    .dataframe tbody tr th {\n",
       "        vertical-align: top;\n",
       "    }\n",
       "\n",
       "    .dataframe thead th {\n",
       "        text-align: right;\n",
       "    }\n",
       "</style>\n",
       "<table border=\"1\" class=\"dataframe\">\n",
       "  <thead>\n",
       "    <tr style=\"text-align: right;\">\n",
       "      <th></th>\n",
       "      <th>geo</th>\n",
       "      <th>time</th>\n",
       "      <th>income_bracket_50</th>\n",
       "      <th>population</th>\n",
       "      <th>income_groups</th>\n",
       "      <th>income_3groups</th>\n",
       "      <th>g77_and_oecd_countries</th>\n",
       "      <th>global</th>\n",
       "      <th>landlocked</th>\n",
       "      <th>main_religion_2008</th>\n",
       "      <th>unhcr_region</th>\n",
       "      <th>unicef_region</th>\n",
       "      <th>un_sdg_ldc</th>\n",
       "      <th>un_sdg_region</th>\n",
       "      <th>west_and_rest</th>\n",
       "      <th>world_4region</th>\n",
       "      <th>world_6region</th>\n",
       "    </tr>\n",
       "  </thead>\n",
       "  <tbody>\n",
       "    <tr>\n",
       "      <th>0</th>\n",
       "      <td>afg</td>\n",
       "      <td>1800</td>\n",
       "      <td>0</td>\n",
       "      <td>35</td>\n",
       "      <td>low_income</td>\n",
       "      <td>low_income</td>\n",
       "      <td>g77</td>\n",
       "      <td>world</td>\n",
       "      <td>landlocked</td>\n",
       "      <td>muslim</td>\n",
       "      <td>unhcr_asia_pacific</td>\n",
       "      <td>sa</td>\n",
       "      <td>un_least_developed</td>\n",
       "      <td>un_central_and_southern_asia</td>\n",
       "      <td>rest</td>\n",
       "      <td>asia</td>\n",
       "      <td>south_asia</td>\n",
       "    </tr>\n",
       "    <tr>\n",
       "      <th>1</th>\n",
       "      <td>afg</td>\n",
       "      <td>1800</td>\n",
       "      <td>1</td>\n",
       "      <td>56</td>\n",
       "      <td>low_income</td>\n",
       "      <td>low_income</td>\n",
       "      <td>g77</td>\n",
       "      <td>world</td>\n",
       "      <td>landlocked</td>\n",
       "      <td>muslim</td>\n",
       "      <td>unhcr_asia_pacific</td>\n",
       "      <td>sa</td>\n",
       "      <td>un_least_developed</td>\n",
       "      <td>un_central_and_southern_asia</td>\n",
       "      <td>rest</td>\n",
       "      <td>asia</td>\n",
       "      <td>south_asia</td>\n",
       "    </tr>\n",
       "    <tr>\n",
       "      <th>2</th>\n",
       "      <td>afg</td>\n",
       "      <td>1800</td>\n",
       "      <td>2</td>\n",
       "      <td>92</td>\n",
       "      <td>low_income</td>\n",
       "      <td>low_income</td>\n",
       "      <td>g77</td>\n",
       "      <td>world</td>\n",
       "      <td>landlocked</td>\n",
       "      <td>muslim</td>\n",
       "      <td>unhcr_asia_pacific</td>\n",
       "      <td>sa</td>\n",
       "      <td>un_least_developed</td>\n",
       "      <td>un_central_and_southern_asia</td>\n",
       "      <td>rest</td>\n",
       "      <td>asia</td>\n",
       "      <td>south_asia</td>\n",
       "    </tr>\n",
       "    <tr>\n",
       "      <th>3</th>\n",
       "      <td>afg</td>\n",
       "      <td>1800</td>\n",
       "      <td>3</td>\n",
       "      <td>154</td>\n",
       "      <td>low_income</td>\n",
       "      <td>low_income</td>\n",
       "      <td>g77</td>\n",
       "      <td>world</td>\n",
       "      <td>landlocked</td>\n",
       "      <td>muslim</td>\n",
       "      <td>unhcr_asia_pacific</td>\n",
       "      <td>sa</td>\n",
       "      <td>un_least_developed</td>\n",
       "      <td>un_central_and_southern_asia</td>\n",
       "      <td>rest</td>\n",
       "      <td>asia</td>\n",
       "      <td>south_asia</td>\n",
       "    </tr>\n",
       "    <tr>\n",
       "      <th>4</th>\n",
       "      <td>afg</td>\n",
       "      <td>1800</td>\n",
       "      <td>4</td>\n",
       "      <td>266</td>\n",
       "      <td>low_income</td>\n",
       "      <td>low_income</td>\n",
       "      <td>g77</td>\n",
       "      <td>world</td>\n",
       "      <td>landlocked</td>\n",
       "      <td>muslim</td>\n",
       "      <td>unhcr_asia_pacific</td>\n",
       "      <td>sa</td>\n",
       "      <td>un_least_developed</td>\n",
       "      <td>un_central_and_southern_asia</td>\n",
       "      <td>rest</td>\n",
       "      <td>asia</td>\n",
       "      <td>south_asia</td>\n",
       "    </tr>\n",
       "    <tr>\n",
       "      <th>...</th>\n",
       "      <td>...</td>\n",
       "      <td>...</td>\n",
       "      <td>...</td>\n",
       "      <td>...</td>\n",
       "      <td>...</td>\n",
       "      <td>...</td>\n",
       "      <td>...</td>\n",
       "      <td>...</td>\n",
       "      <td>...</td>\n",
       "      <td>...</td>\n",
       "      <td>...</td>\n",
       "      <td>...</td>\n",
       "      <td>...</td>\n",
       "      <td>...</td>\n",
       "      <td>...</td>\n",
       "      <td>...</td>\n",
       "      <td>...</td>\n",
       "    </tr>\n",
       "    <tr>\n",
       "      <th>2447245</th>\n",
       "      <td>zwe</td>\n",
       "      <td>2050</td>\n",
       "      <td>45</td>\n",
       "      <td>443</td>\n",
       "      <td>lower_middle_income</td>\n",
       "      <td>middle_income</td>\n",
       "      <td>g77</td>\n",
       "      <td>world</td>\n",
       "      <td>landlocked</td>\n",
       "      <td>christian</td>\n",
       "      <td>unhcr_southern_africa</td>\n",
       "      <td>ssa</td>\n",
       "      <td>un_not_least_developed</td>\n",
       "      <td>un_sub_saharan_africa</td>\n",
       "      <td>rest</td>\n",
       "      <td>africa</td>\n",
       "      <td>sub_saharan_africa</td>\n",
       "    </tr>\n",
       "    <tr>\n",
       "      <th>2447246</th>\n",
       "      <td>zwe</td>\n",
       "      <td>2050</td>\n",
       "      <td>46</td>\n",
       "      <td>255</td>\n",
       "      <td>lower_middle_income</td>\n",
       "      <td>middle_income</td>\n",
       "      <td>g77</td>\n",
       "      <td>world</td>\n",
       "      <td>landlocked</td>\n",
       "      <td>christian</td>\n",
       "      <td>unhcr_southern_africa</td>\n",
       "      <td>ssa</td>\n",
       "      <td>un_not_least_developed</td>\n",
       "      <td>un_sub_saharan_africa</td>\n",
       "      <td>rest</td>\n",
       "      <td>africa</td>\n",
       "      <td>sub_saharan_africa</td>\n",
       "    </tr>\n",
       "    <tr>\n",
       "      <th>2447247</th>\n",
       "      <td>zwe</td>\n",
       "      <td>2050</td>\n",
       "      <td>47</td>\n",
       "      <td>139</td>\n",
       "      <td>lower_middle_income</td>\n",
       "      <td>middle_income</td>\n",
       "      <td>g77</td>\n",
       "      <td>world</td>\n",
       "      <td>landlocked</td>\n",
       "      <td>christian</td>\n",
       "      <td>unhcr_southern_africa</td>\n",
       "      <td>ssa</td>\n",
       "      <td>un_not_least_developed</td>\n",
       "      <td>un_sub_saharan_africa</td>\n",
       "      <td>rest</td>\n",
       "      <td>africa</td>\n",
       "      <td>sub_saharan_africa</td>\n",
       "    </tr>\n",
       "    <tr>\n",
       "      <th>2447248</th>\n",
       "      <td>zwe</td>\n",
       "      <td>2050</td>\n",
       "      <td>48</td>\n",
       "      <td>71</td>\n",
       "      <td>lower_middle_income</td>\n",
       "      <td>middle_income</td>\n",
       "      <td>g77</td>\n",
       "      <td>world</td>\n",
       "      <td>landlocked</td>\n",
       "      <td>christian</td>\n",
       "      <td>unhcr_southern_africa</td>\n",
       "      <td>ssa</td>\n",
       "      <td>un_not_least_developed</td>\n",
       "      <td>un_sub_saharan_africa</td>\n",
       "      <td>rest</td>\n",
       "      <td>africa</td>\n",
       "      <td>sub_saharan_africa</td>\n",
       "    </tr>\n",
       "    <tr>\n",
       "      <th>2447249</th>\n",
       "      <td>zwe</td>\n",
       "      <td>2050</td>\n",
       "      <td>49</td>\n",
       "      <td>34</td>\n",
       "      <td>lower_middle_income</td>\n",
       "      <td>middle_income</td>\n",
       "      <td>g77</td>\n",
       "      <td>world</td>\n",
       "      <td>landlocked</td>\n",
       "      <td>christian</td>\n",
       "      <td>unhcr_southern_africa</td>\n",
       "      <td>ssa</td>\n",
       "      <td>un_not_least_developed</td>\n",
       "      <td>un_sub_saharan_africa</td>\n",
       "      <td>rest</td>\n",
       "      <td>africa</td>\n",
       "      <td>sub_saharan_africa</td>\n",
       "    </tr>\n",
       "  </tbody>\n",
       "</table>\n",
       "<p>2447250 rows × 17 columns</p>\n",
       "</div>"
      ],
      "text/plain": [
       "         geo  time  income_bracket_50  population        income_groups  \\\n",
       "0        afg  1800                  0          35           low_income   \n",
       "1        afg  1800                  1          56           low_income   \n",
       "2        afg  1800                  2          92           low_income   \n",
       "3        afg  1800                  3         154           low_income   \n",
       "4        afg  1800                  4         266           low_income   \n",
       "...      ...   ...                ...         ...                  ...   \n",
       "2447245  zwe  2050                 45         443  lower_middle_income   \n",
       "2447246  zwe  2050                 46         255  lower_middle_income   \n",
       "2447247  zwe  2050                 47         139  lower_middle_income   \n",
       "2447248  zwe  2050                 48          71  lower_middle_income   \n",
       "2447249  zwe  2050                 49          34  lower_middle_income   \n",
       "\n",
       "        income_3groups g77_and_oecd_countries global  landlocked  \\\n",
       "0           low_income                    g77  world  landlocked   \n",
       "1           low_income                    g77  world  landlocked   \n",
       "2           low_income                    g77  world  landlocked   \n",
       "3           low_income                    g77  world  landlocked   \n",
       "4           low_income                    g77  world  landlocked   \n",
       "...                ...                    ...    ...         ...   \n",
       "2447245  middle_income                    g77  world  landlocked   \n",
       "2447246  middle_income                    g77  world  landlocked   \n",
       "2447247  middle_income                    g77  world  landlocked   \n",
       "2447248  middle_income                    g77  world  landlocked   \n",
       "2447249  middle_income                    g77  world  landlocked   \n",
       "\n",
       "        main_religion_2008           unhcr_region unicef_region  \\\n",
       "0                   muslim     unhcr_asia_pacific            sa   \n",
       "1                   muslim     unhcr_asia_pacific            sa   \n",
       "2                   muslim     unhcr_asia_pacific            sa   \n",
       "3                   muslim     unhcr_asia_pacific            sa   \n",
       "4                   muslim     unhcr_asia_pacific            sa   \n",
       "...                    ...                    ...           ...   \n",
       "2447245          christian  unhcr_southern_africa           ssa   \n",
       "2447246          christian  unhcr_southern_africa           ssa   \n",
       "2447247          christian  unhcr_southern_africa           ssa   \n",
       "2447248          christian  unhcr_southern_africa           ssa   \n",
       "2447249          christian  unhcr_southern_africa           ssa   \n",
       "\n",
       "                     un_sdg_ldc                 un_sdg_region west_and_rest  \\\n",
       "0            un_least_developed  un_central_and_southern_asia          rest   \n",
       "1            un_least_developed  un_central_and_southern_asia          rest   \n",
       "2            un_least_developed  un_central_and_southern_asia          rest   \n",
       "3            un_least_developed  un_central_and_southern_asia          rest   \n",
       "4            un_least_developed  un_central_and_southern_asia          rest   \n",
       "...                         ...                           ...           ...   \n",
       "2447245  un_not_least_developed         un_sub_saharan_africa          rest   \n",
       "2447246  un_not_least_developed         un_sub_saharan_africa          rest   \n",
       "2447247  un_not_least_developed         un_sub_saharan_africa          rest   \n",
       "2447248  un_not_least_developed         un_sub_saharan_africa          rest   \n",
       "2447249  un_not_least_developed         un_sub_saharan_africa          rest   \n",
       "\n",
       "        world_4region       world_6region  \n",
       "0                asia          south_asia  \n",
       "1                asia          south_asia  \n",
       "2                asia          south_asia  \n",
       "3                asia          south_asia  \n",
       "4                asia          south_asia  \n",
       "...               ...                 ...  \n",
       "2447245        africa  sub_saharan_africa  \n",
       "2447246        africa  sub_saharan_africa  \n",
       "2447247        africa  sub_saharan_africa  \n",
       "2447248        africa  sub_saharan_africa  \n",
       "2447249        africa  sub_saharan_africa  \n",
       "\n",
       "[2447250 rows x 17 columns]"
      ]
     },
     "execution_count": 186,
     "metadata": {},
     "output_type": "execute_result"
    }
   ],
   "source": [
    "df"
   ]
  },
  {
   "cell_type": "code",
   "execution_count": 187,
   "id": "9e102988",
   "metadata": {},
   "outputs": [
    {
     "data": {
      "text/plain": [
       "Index(['geo', 'time', 'income_bracket_50', 'population', 'income_groups',\n",
       "       'income_3groups', 'g77_and_oecd_countries', 'global', 'landlocked',\n",
       "       'main_religion_2008', 'unhcr_region', 'unicef_region', 'un_sdg_ldc',\n",
       "       'un_sdg_region', 'west_and_rest', 'world_4region', 'world_6region'],\n",
       "      dtype='object')"
      ]
     },
     "execution_count": 187,
     "metadata": {},
     "output_type": "execute_result"
    }
   ],
   "source": [
    "df.columns"
   ]
  },
  {
   "cell_type": "code",
   "execution_count": 188,
   "id": "e0a56bfa",
   "metadata": {},
   "outputs": [],
   "source": [
    "# country\n",
    "k = 'country'\n",
    "ent = pd.read_csv(f'../../ddf--entities--geo--{k}.csv', dtype=str).set_index(k)\n",
    "mh = max_heights['country']"
   ]
  },
  {
   "cell_type": "code",
   "execution_count": 189,
   "id": "82ed5fe1",
   "metadata": {},
   "outputs": [
    {
     "data": {
      "text/plain": [
       "Index(['set', 'g77_and_oecd_countries', 'income_groups', 'is--country',\n",
       "       'iso3166_1_alpha2', 'unicode_region_subtag', 'iso3166_1_alpha3',\n",
       "       'iso3166_1_numeric', 'iso3166_2', 'landlocked', 'latitude', 'longitude',\n",
       "       'main_religion_2008', 'name', 'un_state', 'world_4region',\n",
       "       'world_6region', 'unicef_region', 'income_3groups', 'un_sdg_region',\n",
       "       'un_sdg_ldc', 'unhcr_region', 'west_and_rest',\n",
       "       'income_mountain_50bracket_max_height_for_log'],\n",
       "      dtype='object')"
      ]
     },
     "execution_count": 189,
     "metadata": {},
     "output_type": "execute_result"
    }
   ],
   "source": [
    "ent.columns"
   ]
  },
  {
   "cell_type": "code",
   "execution_count": 190,
   "id": "57da0f88",
   "metadata": {},
   "outputs": [],
   "source": [
    "ent.loc[mh.index, 'income_mountain_50bracket_max_height_for_log'] = mh.astype(str)"
   ]
  },
  {
   "cell_type": "code",
   "execution_count": 191,
   "id": "9d278b04",
   "metadata": {},
   "outputs": [],
   "source": [
    "ent.to_csv(f'../../ddf--entities--geo--{k}.csv')"
   ]
  },
  {
   "cell_type": "code",
   "execution_count": null,
   "id": "7991dc32",
   "metadata": {},
   "outputs": [],
   "source": []
  },
  {
   "cell_type": "code",
   "execution_count": 192,
   "id": "e011a444",
   "metadata": {},
   "outputs": [],
   "source": [
    "# others\n",
    "for k in ['income_groups',\n",
    "       'income_3groups', 'g77_and_oecd_countries', 'global', 'landlocked', 'main_religion_2008',\n",
    "       'unhcr_region', 'unicef_region', 'un_sdg_ldc', 'un_sdg_region',\n",
    "       'west_and_rest', 'world_4region', 'world_6region']:\n",
    "    fn = f'../../ddf--entities--geo--{k}.csv'\n",
    "    ent = pd.read_csv(fn, dtype=str).set_index(k)\n",
    "    mh = max_heights[k]\n",
    "    ent.loc[mh.index, 'income_mountain_50bracket_max_height_for_log'] = mh.astype(str)\n",
    "    ent.to_csv(fn)"
   ]
  },
  {
   "cell_type": "code",
   "execution_count": null,
   "id": "bf136b64",
   "metadata": {},
   "outputs": [],
   "source": []
  }
 ],
 "metadata": {
  "kernelspec": {
   "display_name": "Python 3 (ipykernel)",
   "language": "python",
   "name": "python3"
  },
  "language_info": {
   "codemirror_mode": {
    "name": "ipython",
    "version": 3
   },
   "file_extension": ".py",
   "mimetype": "text/x-python",
   "name": "python",
   "nbconvert_exporter": "python",
   "pygments_lexer": "ipython3",
   "version": "3.10.4"
  }
 },
 "nbformat": 4,
 "nbformat_minor": 5
}
