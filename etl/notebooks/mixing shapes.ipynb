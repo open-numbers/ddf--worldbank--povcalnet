{
 "cells": [
  {
   "cell_type": "code",
   "execution_count": 36,
   "id": "bc3c85e5",
   "metadata": {},
   "outputs": [],
   "source": [
    "import pandas as pd\n",
    "import numpy as np"
   ]
  },
  {
   "cell_type": "code",
   "execution_count": 37,
   "id": "1bcaec32",
   "metadata": {},
   "outputs": [],
   "source": [
    "import sys\n",
    "sys.path.insert(0, '../scripts/')"
   ]
  },
  {
   "cell_type": "code",
   "execution_count": 38,
   "id": "2266587d",
   "metadata": {},
   "outputs": [],
   "source": [
    "import matplotlib.pyplot as plt\n",
    "\n",
    "%matplotlib inline"
   ]
  },
  {
   "cell_type": "code",
   "execution_count": 39,
   "id": "dc78f717",
   "metadata": {},
   "outputs": [],
   "source": [
    "plt.rcParams['figure.figsize'] = (10, 6)\n",
    "plt.rcParams['figure.dpi'] = 196"
   ]
  },
  {
   "cell_type": "code",
   "execution_count": 40,
   "id": "458a8ead",
   "metadata": {},
   "outputs": [
    {
     "name": "stdout",
     "output_type": "stream",
     "text": [
      "The autoreload extension is already loaded. To reload it, use:\n",
      "  %reload_ext autoreload\n"
     ]
    }
   ],
   "source": [
    "%load_ext autoreload\n",
    "%autoreload 1"
   ]
  },
  {
   "cell_type": "code",
   "execution_count": 41,
   "id": "63bd7902",
   "metadata": {},
   "outputs": [],
   "source": [
    "%aimport shapeslib"
   ]
  },
  {
   "cell_type": "code",
   "execution_count": null,
   "id": "f460c132",
   "metadata": {},
   "outputs": [],
   "source": []
  },
  {
   "cell_type": "code",
   "execution_count": 42,
   "id": "b3108099",
   "metadata": {},
   "outputs": [],
   "source": [
    "shapes_file = '../wip/smoothshape/ddf--datapoints--population_percentage--by--country--year--coverage_type--bracket.csv'\n",
    "known_shapes = pd.read_csv(shapes_file)"
   ]
  },
  {
   "cell_type": "code",
   "execution_count": 43,
   "id": "c55752a7",
   "metadata": {},
   "outputs": [],
   "source": [
    "# create a sorted version\n",
    "shapes = known_shapes.set_index(['country', 'year']).sort_index()"
   ]
  },
  {
   "cell_type": "code",
   "execution_count": null,
   "id": "1cbeb326",
   "metadata": {},
   "outputs": [],
   "source": []
  },
  {
   "cell_type": "code",
   "execution_count": 1,
   "id": "0a1128ae",
   "metadata": {},
   "outputs": [],
   "source": [
    "income_file = '../../../ddf--gapminder--fasttrack/ddf--datapoints--mincpcap_cppp--by--country--time.csv'\n",
    "gini_file =  '../../../ddf--gapminder--fasttrack/ddf--datapoints--gini--by--country--time.csv'"
   ]
  },
  {
   "cell_type": "code",
   "execution_count": 2,
   "id": "e1f817eb",
   "metadata": {},
   "outputs": [],
   "source": [
    "delta = 0.01"
   ]
  },
  {
   "cell_type": "code",
   "execution_count": 3,
   "id": "de0b8345",
   "metadata": {},
   "outputs": [],
   "source": [
    "def bracket_number_from_income(s):\n",
    "    \"\"\"input a daily income, output a bracket number\"\"\"\n",
    "    # delta = 0.10050251256281406\n",
    "    return ((np.log2(s) + 7) / delta).astype(int)"
   ]
  },
  {
   "cell_type": "code",
   "execution_count": null,
   "id": "efc6f9d2",
   "metadata": {},
   "outputs": [],
   "source": []
  },
  {
   "cell_type": "code",
   "execution_count": 47,
   "id": "3ebc3859",
   "metadata": {},
   "outputs": [],
   "source": [
    "income = pd.read_csv(income_file).set_index(['country', 'time'])\n",
    "gini = pd.read_csv(gini_file).set_index(['geo', 'time'])\n",
    "\n",
    "income.index.names = ['country', 'year']\n",
    "gini.index.names = ['country', 'year']\n",
    "\n",
    "income.columns = ['income']\n",
    "gini.columns = ['gini']"
   ]
  },
  {
   "cell_type": "code",
   "execution_count": 48,
   "id": "3453a09a",
   "metadata": {},
   "outputs": [],
   "source": [
    "income_gini = pd.concat([income, gini], axis=1)"
   ]
  },
  {
   "cell_type": "code",
   "execution_count": 49,
   "id": "1b0fb34f",
   "metadata": {},
   "outputs": [
    {
     "data": {
      "text/html": [
       "<div>\n",
       "<style scoped>\n",
       "    .dataframe tbody tr th:only-of-type {\n",
       "        vertical-align: middle;\n",
       "    }\n",
       "\n",
       "    .dataframe tbody tr th {\n",
       "        vertical-align: top;\n",
       "    }\n",
       "\n",
       "    .dataframe thead th {\n",
       "        text-align: right;\n",
       "    }\n",
       "</style>\n",
       "<table border=\"1\" class=\"dataframe\">\n",
       "  <thead>\n",
       "    <tr style=\"text-align: right;\">\n",
       "      <th></th>\n",
       "      <th></th>\n",
       "      <th>income</th>\n",
       "      <th>gini</th>\n",
       "    </tr>\n",
       "    <tr>\n",
       "      <th>country</th>\n",
       "      <th>year</th>\n",
       "      <th></th>\n",
       "      <th></th>\n",
       "    </tr>\n",
       "  </thead>\n",
       "  <tbody>\n",
       "    <tr>\n",
       "      <th rowspan=\"5\" valign=\"top\">afg</th>\n",
       "      <th>1800</th>\n",
       "      <td>0.9194</td>\n",
       "      <td>30.5</td>\n",
       "    </tr>\n",
       "    <tr>\n",
       "      <th>1801</th>\n",
       "      <td>0.9194</td>\n",
       "      <td>30.5</td>\n",
       "    </tr>\n",
       "    <tr>\n",
       "      <th>1802</th>\n",
       "      <td>0.9194</td>\n",
       "      <td>30.5</td>\n",
       "    </tr>\n",
       "    <tr>\n",
       "      <th>1803</th>\n",
       "      <td>0.9194</td>\n",
       "      <td>30.5</td>\n",
       "    </tr>\n",
       "    <tr>\n",
       "      <th>1804</th>\n",
       "      <td>0.9194</td>\n",
       "      <td>30.5</td>\n",
       "    </tr>\n",
       "    <tr>\n",
       "      <th>...</th>\n",
       "      <th>...</th>\n",
       "      <td>...</td>\n",
       "      <td>...</td>\n",
       "    </tr>\n",
       "    <tr>\n",
       "      <th rowspan=\"5\" valign=\"top\">zwe</th>\n",
       "      <th>2046</th>\n",
       "      <td>5.5473</td>\n",
       "      <td>NaN</td>\n",
       "    </tr>\n",
       "    <tr>\n",
       "      <th>2047</th>\n",
       "      <td>5.6645</td>\n",
       "      <td>NaN</td>\n",
       "    </tr>\n",
       "    <tr>\n",
       "      <th>2048</th>\n",
       "      <td>5.7845</td>\n",
       "      <td>NaN</td>\n",
       "    </tr>\n",
       "    <tr>\n",
       "      <th>2049</th>\n",
       "      <td>5.9075</td>\n",
       "      <td>NaN</td>\n",
       "    </tr>\n",
       "    <tr>\n",
       "      <th>2050</th>\n",
       "      <td>6.0332</td>\n",
       "      <td>NaN</td>\n",
       "    </tr>\n",
       "  </tbody>\n",
       "</table>\n",
       "<p>49427 rows × 2 columns</p>\n",
       "</div>"
      ],
      "text/plain": [
       "              income  gini\n",
       "country year              \n",
       "afg     1800  0.9194  30.5\n",
       "        1801  0.9194  30.5\n",
       "        1802  0.9194  30.5\n",
       "        1803  0.9194  30.5\n",
       "        1804  0.9194  30.5\n",
       "...              ...   ...\n",
       "zwe     2046  5.5473   NaN\n",
       "        2047  5.6645   NaN\n",
       "        2048  5.7845   NaN\n",
       "        2049  5.9075   NaN\n",
       "        2050  6.0332   NaN\n",
       "\n",
       "[49427 rows x 2 columns]"
      ]
     },
     "execution_count": 49,
     "metadata": {},
     "output_type": "execute_result"
    }
   ],
   "source": [
    "income_gini"
   ]
  },
  {
   "cell_type": "code",
   "execution_count": 50,
   "id": "905a8fdf",
   "metadata": {},
   "outputs": [],
   "source": [
    "income_gini = income_gini.dropna(how='any').sort_index()"
   ]
  },
  {
   "cell_type": "code",
   "execution_count": null,
   "id": "2bffe557",
   "metadata": {},
   "outputs": [],
   "source": []
  },
  {
   "cell_type": "code",
   "execution_count": 51,
   "id": "60e9419f",
   "metadata": {},
   "outputs": [],
   "source": [
    "s1 = shapeslib.get_estimated_mountain(('ago', 1980), shapes, income_gini)"
   ]
  },
  {
   "cell_type": "code",
   "execution_count": 52,
   "id": "8a939932",
   "metadata": {},
   "outputs": [],
   "source": [
    "s0 = shapeslib.get_shape(('ago', 1981), shapes)\n",
    "i = income_gini.loc[('ago', 1981), 'income']"
   ]
  },
  {
   "cell_type": "code",
   "execution_count": 53,
   "id": "f566db6a",
   "metadata": {},
   "outputs": [],
   "source": [
    "s0.index = s0.index + shapeslib.bracket_number_from_income(i)"
   ]
  },
  {
   "cell_type": "code",
   "execution_count": 54,
   "id": "4f379a12",
   "metadata": {},
   "outputs": [
    {
     "data": {
      "text/plain": [
       "bracket\n",
       "0      7.153827e-06\n",
       "1      8.619550e-06\n",
       "2      1.029801e-05\n",
       "3      1.214019e-05\n",
       "4      1.423205e-05\n",
       "           ...     \n",
       "195    3.783160e-07\n",
       "196    3.281227e-07\n",
       "197    2.830011e-07\n",
       "198    2.423785e-07\n",
       "199    2.060453e-07\n",
       "Name: population_percentage, Length: 200, dtype: float64"
      ]
     },
     "execution_count": 54,
     "metadata": {},
     "output_type": "execute_result"
    }
   ],
   "source": [
    "s0"
   ]
  },
  {
   "cell_type": "code",
   "execution_count": 55,
   "id": "e9fa9449",
   "metadata": {},
   "outputs": [
    {
     "data": {
      "text/plain": [
       "0      0.000000e+00\n",
       "1      7.118058e-06\n",
       "2      8.576452e-06\n",
       "3      1.024652e-05\n",
       "4      1.207949e-05\n",
       "           ...     \n",
       "195    4.369047e-07\n",
       "196    3.806093e-07\n",
       "197    3.301239e-07\n",
       "198    2.847497e-07\n",
       "199    2.439100e-07\n",
       "Length: 200, dtype: float64"
      ]
     },
     "execution_count": 55,
     "metadata": {},
     "output_type": "execute_result"
    }
   ],
   "source": [
    "s1"
   ]
  },
  {
   "cell_type": "code",
   "execution_count": 56,
   "id": "80abfba8",
   "metadata": {},
   "outputs": [
    {
     "data": {
      "text/plain": [
       "[<matplotlib.lines.Line2D at 0x7fbd2a3eef10>]"
      ]
     },
     "execution_count": 56,
     "metadata": {},
     "output_type": "execute_result"
    },
    {
     "data": {
      "image/png": "[encoded data removed]",
      "text/plain": [
       "<Figure size 1960x1176 with 1 Axes>"
      ]
     },
     "metadata": {
      "needs_background": "light"
     },
     "output_type": "display_data"
    }
   ],
   "source": [
    "plt.plot(s0)\n",
    "plt.plot(s1)"
   ]
  },
  {
   "cell_type": "code",
   "execution_count": 57,
   "id": "c5bb1d80",
   "metadata": {},
   "outputs": [
    {
     "data": {
      "text/html": [
       "<div>\n",
       "<style scoped>\n",
       "    .dataframe tbody tr th:only-of-type {\n",
       "        vertical-align: middle;\n",
       "    }\n",
       "\n",
       "    .dataframe tbody tr th {\n",
       "        vertical-align: top;\n",
       "    }\n",
       "\n",
       "    .dataframe thead th {\n",
       "        text-align: right;\n",
       "    }\n",
       "</style>\n",
       "<table border=\"1\" class=\"dataframe\">\n",
       "  <thead>\n",
       "    <tr style=\"text-align: right;\">\n",
       "      <th></th>\n",
       "      <th></th>\n",
       "      <th>coverage_type</th>\n",
       "      <th>bracket</th>\n",
       "      <th>population_percentage</th>\n",
       "    </tr>\n",
       "    <tr>\n",
       "      <th>country</th>\n",
       "      <th>year</th>\n",
       "      <th></th>\n",
       "      <th></th>\n",
       "      <th></th>\n",
       "    </tr>\n",
       "  </thead>\n",
       "  <tbody>\n",
       "    <tr>\n",
       "      <th rowspan=\"5\" valign=\"top\">ago</th>\n",
       "      <th>1981</th>\n",
       "      <td>n</td>\n",
       "      <td>-94</td>\n",
       "      <td>7.153827e-06</td>\n",
       "    </tr>\n",
       "    <tr>\n",
       "      <th>1981</th>\n",
       "      <td>n</td>\n",
       "      <td>-93</td>\n",
       "      <td>8.619550e-06</td>\n",
       "    </tr>\n",
       "    <tr>\n",
       "      <th>1981</th>\n",
       "      <td>n</td>\n",
       "      <td>-92</td>\n",
       "      <td>1.029801e-05</td>\n",
       "    </tr>\n",
       "    <tr>\n",
       "      <th>1981</th>\n",
       "      <td>n</td>\n",
       "      <td>-91</td>\n",
       "      <td>1.214019e-05</td>\n",
       "    </tr>\n",
       "    <tr>\n",
       "      <th>1981</th>\n",
       "      <td>n</td>\n",
       "      <td>-90</td>\n",
       "      <td>1.423205e-05</td>\n",
       "    </tr>\n",
       "    <tr>\n",
       "      <th>...</th>\n",
       "      <th>...</th>\n",
       "      <td>...</td>\n",
       "      <td>...</td>\n",
       "      <td>...</td>\n",
       "    </tr>\n",
       "    <tr>\n",
       "      <th rowspan=\"5\" valign=\"top\">zwe</th>\n",
       "      <th>2019</th>\n",
       "      <td>n</td>\n",
       "      <td>105</td>\n",
       "      <td>1.402410e-07</td>\n",
       "    </tr>\n",
       "    <tr>\n",
       "      <th>2019</th>\n",
       "      <td>n</td>\n",
       "      <td>106</td>\n",
       "      <td>1.090947e-07</td>\n",
       "    </tr>\n",
       "    <tr>\n",
       "      <th>2019</th>\n",
       "      <td>n</td>\n",
       "      <td>107</td>\n",
       "      <td>8.406808e-08</td>\n",
       "    </tr>\n",
       "    <tr>\n",
       "      <th>2019</th>\n",
       "      <td>n</td>\n",
       "      <td>108</td>\n",
       "      <td>6.417809e-08</td>\n",
       "    </tr>\n",
       "    <tr>\n",
       "      <th>2019</th>\n",
       "      <td>n</td>\n",
       "      <td>109</td>\n",
       "      <td>4.857008e-08</td>\n",
       "    </tr>\n",
       "  </tbody>\n",
       "</table>\n",
       "<p>1323800 rows × 3 columns</p>\n",
       "</div>"
      ],
      "text/plain": [
       "             coverage_type  bracket  population_percentage\n",
       "country year                                              \n",
       "ago     1981             n      -94           7.153827e-06\n",
       "        1981             n      -93           8.619550e-06\n",
       "        1981             n      -92           1.029801e-05\n",
       "        1981             n      -91           1.214019e-05\n",
       "        1981             n      -90           1.423205e-05\n",
       "...                    ...      ...                    ...\n",
       "zwe     2019             n      105           1.402410e-07\n",
       "        2019             n      106           1.090947e-07\n",
       "        2019             n      107           8.406808e-08\n",
       "        2019             n      108           6.417809e-08\n",
       "        2019             n      109           4.857008e-08\n",
       "\n",
       "[1323800 rows x 3 columns]"
      ]
     },
     "execution_count": 57,
     "metadata": {},
     "output_type": "execute_result"
    }
   ],
   "source": [
    "shapes"
   ]
  },
  {
   "cell_type": "code",
   "execution_count": 58,
   "id": "6727c392",
   "metadata": {},
   "outputs": [],
   "source": [
    "shapes_noc = shapes.copy()"
   ]
  },
  {
   "cell_type": "code",
   "execution_count": 59,
   "id": "60aac83d",
   "metadata": {},
   "outputs": [],
   "source": [
    "shapes_noc = shapes_noc.set_index(['bracket'], append=True)"
   ]
  },
  {
   "cell_type": "code",
   "execution_count": 60,
   "id": "4c5e44db",
   "metadata": {},
   "outputs": [
    {
     "data": {
      "text/html": [
       "<div>\n",
       "<style scoped>\n",
       "    .dataframe tbody tr th:only-of-type {\n",
       "        vertical-align: middle;\n",
       "    }\n",
       "\n",
       "    .dataframe tbody tr th {\n",
       "        vertical-align: top;\n",
       "    }\n",
       "\n",
       "    .dataframe thead th {\n",
       "        text-align: right;\n",
       "    }\n",
       "</style>\n",
       "<table border=\"1\" class=\"dataframe\">\n",
       "  <thead>\n",
       "    <tr style=\"text-align: right;\">\n",
       "      <th></th>\n",
       "      <th></th>\n",
       "      <th></th>\n",
       "      <th>coverage_type</th>\n",
       "      <th>population_percentage</th>\n",
       "    </tr>\n",
       "    <tr>\n",
       "      <th>country</th>\n",
       "      <th>year</th>\n",
       "      <th>bracket</th>\n",
       "      <th></th>\n",
       "      <th></th>\n",
       "    </tr>\n",
       "  </thead>\n",
       "  <tbody>\n",
       "    <tr>\n",
       "      <th rowspan=\"5\" valign=\"top\">ago</th>\n",
       "      <th rowspan=\"5\" valign=\"top\">1981</th>\n",
       "      <th>-94</th>\n",
       "      <td>n</td>\n",
       "      <td>7.153827e-06</td>\n",
       "    </tr>\n",
       "    <tr>\n",
       "      <th>-93</th>\n",
       "      <td>n</td>\n",
       "      <td>8.619550e-06</td>\n",
       "    </tr>\n",
       "    <tr>\n",
       "      <th>-92</th>\n",
       "      <td>n</td>\n",
       "      <td>1.029801e-05</td>\n",
       "    </tr>\n",
       "    <tr>\n",
       "      <th>-91</th>\n",
       "      <td>n</td>\n",
       "      <td>1.214019e-05</td>\n",
       "    </tr>\n",
       "    <tr>\n",
       "      <th>-90</th>\n",
       "      <td>n</td>\n",
       "      <td>1.423205e-05</td>\n",
       "    </tr>\n",
       "    <tr>\n",
       "      <th>...</th>\n",
       "      <th>...</th>\n",
       "      <th>...</th>\n",
       "      <td>...</td>\n",
       "      <td>...</td>\n",
       "    </tr>\n",
       "    <tr>\n",
       "      <th rowspan=\"5\" valign=\"top\">zwe</th>\n",
       "      <th rowspan=\"5\" valign=\"top\">2019</th>\n",
       "      <th>105</th>\n",
       "      <td>n</td>\n",
       "      <td>1.402410e-07</td>\n",
       "    </tr>\n",
       "    <tr>\n",
       "      <th>106</th>\n",
       "      <td>n</td>\n",
       "      <td>1.090947e-07</td>\n",
       "    </tr>\n",
       "    <tr>\n",
       "      <th>107</th>\n",
       "      <td>n</td>\n",
       "      <td>8.406808e-08</td>\n",
       "    </tr>\n",
       "    <tr>\n",
       "      <th>108</th>\n",
       "      <td>n</td>\n",
       "      <td>6.417809e-08</td>\n",
       "    </tr>\n",
       "    <tr>\n",
       "      <th>109</th>\n",
       "      <td>n</td>\n",
       "      <td>4.857008e-08</td>\n",
       "    </tr>\n",
       "  </tbody>\n",
       "</table>\n",
       "<p>1323800 rows × 2 columns</p>\n",
       "</div>"
      ],
      "text/plain": [
       "                     coverage_type  population_percentage\n",
       "country year bracket                                     \n",
       "ago     1981 -94                 n           7.153827e-06\n",
       "             -93                 n           8.619550e-06\n",
       "             -92                 n           1.029801e-05\n",
       "             -91                 n           1.214019e-05\n",
       "             -90                 n           1.423205e-05\n",
       "...                            ...                    ...\n",
       "zwe     2019  105                n           1.402410e-07\n",
       "              106                n           1.090947e-07\n",
       "              107                n           8.406808e-08\n",
       "              108                n           6.417809e-08\n",
       "              109                n           4.857008e-08\n",
       "\n",
       "[1323800 rows x 2 columns]"
      ]
     },
     "execution_count": 60,
     "metadata": {},
     "output_type": "execute_result"
    }
   ],
   "source": [
    "shapes_noc"
   ]
  },
  {
   "cell_type": "code",
   "execution_count": 61,
   "id": "0f36ebb3",
   "metadata": {},
   "outputs": [],
   "source": [
    "def applyfunc(ser):\n",
    "    for c in 'naur':\n",
    "        if c in ser['coverage_type'].values:\n",
    "            return ser[ser['coverage_type'] == c]['population_percentage']"
   ]
  },
  {
   "cell_type": "code",
   "execution_count": 62,
   "id": "4b15ec03",
   "metadata": {},
   "outputs": [],
   "source": [
    "shapes_noc2 = shapes_noc.groupby(['country', 'year'], as_index=False).apply(applyfunc)"
   ]
  },
  {
   "cell_type": "code",
   "execution_count": 63,
   "id": "be65fef1",
   "metadata": {},
   "outputs": [],
   "source": [
    "shapes_noc2 = shapes_noc2.reset_index(level=0, drop=True).sort_index()"
   ]
  },
  {
   "cell_type": "code",
   "execution_count": 64,
   "id": "a3c7dd67",
   "metadata": {},
   "outputs": [
    {
     "data": {
      "text/plain": [
       "country  year  bracket\n",
       "ago      1981  -94        7.153827e-06\n",
       "               -93        8.619550e-06\n",
       "               -92        1.029801e-05\n",
       "               -91        1.214019e-05\n",
       "               -90        1.423205e-05\n",
       "                              ...     \n",
       "zwe      2019   105       1.402410e-07\n",
       "                106       1.090947e-07\n",
       "                107       8.406808e-08\n",
       "                108       6.417809e-08\n",
       "                109       4.857008e-08\n",
       "Name: population_percentage, Length: 1277800, dtype: float64"
      ]
     },
     "execution_count": 64,
     "metadata": {},
     "output_type": "execute_result"
    }
   ],
   "source": [
    "shapes_noc2"
   ]
  },
  {
   "cell_type": "code",
   "execution_count": 36,
   "id": "96897e16",
   "metadata": {},
   "outputs": [],
   "source": [
    "# shapes_noc2 = shapes_noc2.reset_index('bracket')"
   ]
  },
  {
   "cell_type": "code",
   "execution_count": null,
   "id": "ceaf196a",
   "metadata": {},
   "outputs": [],
   "source": []
  },
  {
   "cell_type": "code",
   "execution_count": 65,
   "id": "b04d51fa",
   "metadata": {},
   "outputs": [],
   "source": [
    "i = ('ago', 1980)\n",
    "income, gini = shapeslib.get_income_gini(i, income_gini)\n",
    "_, nei = shapeslib.get_neighbors(income, gini, 50) "
   ]
  },
  {
   "cell_type": "code",
   "execution_count": 66,
   "id": "8469cac0",
   "metadata": {},
   "outputs": [
    {
     "name": "stdout",
     "output_type": "stream",
     "text": [
      "146 ms ± 2.18 ms per loop (mean ± std. dev. of 7 runs, 10 loops each)\n"
     ]
    }
   ],
   "source": [
    "%%timeit\n",
    "nei_shapes = [shapes_noc2.loc[x] for x in nei]\n",
    "shapeslib.merge_nshapes(nei_shapes)"
   ]
  },
  {
   "cell_type": "code",
   "execution_count": 67,
   "id": "b22fdecd",
   "metadata": {},
   "outputs": [],
   "source": [
    "shapes_noc3 = shapes_noc2.reset_index()"
   ]
  },
  {
   "cell_type": "code",
   "execution_count": 68,
   "id": "4d23ba27",
   "metadata": {},
   "outputs": [],
   "source": [
    "shapes_noc3 = shapes_noc3.set_index(['country', 'year'])"
   ]
  },
  {
   "cell_type": "code",
   "execution_count": 69,
   "id": "8e9c6840",
   "metadata": {},
   "outputs": [
    {
     "name": "stdout",
     "output_type": "stream",
     "text": [
      "48.8 ms ± 702 µs per loop (mean ± std. dev. of 7 runs, 10 loops each)\n"
     ]
    }
   ],
   "source": [
    "%%timeit\n",
    "shapes_noc3.loc[nei].set_index('bracket').groupby('bracket').sum()['population_percentage'] / len(nei)"
   ]
  },
  {
   "cell_type": "code",
   "execution_count": 70,
   "id": "90fe8ee5",
   "metadata": {},
   "outputs": [
    {
     "name": "stdout",
     "output_type": "stream",
     "text": [
      "199 ms ± 3.3 ms per loop (mean ± std. dev. of 7 runs, 10 loops each)\n"
     ]
    }
   ],
   "source": [
    "%%timeit\n",
    "s3 = shapeslib.get_average_shape(i, shapes, income_gini)"
   ]
  },
  {
   "cell_type": "code",
   "execution_count": null,
   "id": "dda60c86",
   "metadata": {},
   "outputs": [],
   "source": []
  },
  {
   "cell_type": "code",
   "execution_count": 71,
   "id": "466ecdce",
   "metadata": {},
   "outputs": [],
   "source": [
    "shapes_noc4 = shapes_noc2.reset_index()"
   ]
  },
  {
   "cell_type": "code",
   "execution_count": 72,
   "id": "d77c2ffa",
   "metadata": {},
   "outputs": [],
   "source": [
    "shapes_noc4['country-year'] = list(zip(shapes_noc4['country'].values, shapes_noc4['year'].values))"
   ]
  },
  {
   "cell_type": "code",
   "execution_count": 73,
   "id": "2ed854bb",
   "metadata": {},
   "outputs": [],
   "source": [
    "shapes_noc4 = shapes_noc4.set_index(['country-year', 'bracket'])['population_percentage']"
   ]
  },
  {
   "cell_type": "code",
   "execution_count": 74,
   "id": "0fe8b406",
   "metadata": {},
   "outputs": [],
   "source": [
    "idx = pd.IndexSlice"
   ]
  },
  {
   "cell_type": "code",
   "execution_count": 75,
   "id": "b303d5d6",
   "metadata": {},
   "outputs": [
    {
     "name": "stdout",
     "output_type": "stream",
     "text": [
      "54 ms ± 1.06 ms per loop (mean ± std. dev. of 7 runs, 10 loops each)\n"
     ]
    }
   ],
   "source": [
    "%%timeit\n",
    "shapes_noc4.loc[shapes_noc4.index.get_level_values(0).isin(nei)].groupby('bracket').sum() / 50"
   ]
  },
  {
   "cell_type": "code",
   "execution_count": 198,
   "id": "a38f43b8",
   "metadata": {},
   "outputs": [
    {
     "data": {
      "text/plain": [
       "bracket\n",
       "-94     7.153827e-06\n",
       "-93     8.619550e-06\n",
       "-92     1.029801e-05\n",
       "-91     1.214019e-05\n",
       "-90     1.423205e-05\n",
       "            ...     \n",
       " 101    3.783160e-07\n",
       " 102    3.281227e-07\n",
       " 103    2.830011e-07\n",
       " 104    2.423785e-07\n",
       " 105    2.060453e-07\n",
       "Name: population_percentage, Length: 200, dtype: float64"
      ]
     },
     "execution_count": 198,
     "metadata": {},
     "output_type": "execute_result"
    }
   ],
   "source": [
    "shapes_noc4.loc[('ago', 1981)]"
   ]
  },
  {
   "cell_type": "code",
   "execution_count": null,
   "id": "0e19e01f",
   "metadata": {},
   "outputs": [],
   "source": []
  },
  {
   "cell_type": "code",
   "execution_count": 56,
   "id": "3816757d",
   "metadata": {},
   "outputs": [
    {
     "name": "stdout",
     "output_type": "stream",
     "text": [
      "250 ms ± 12 ms per loop (mean ± std. dev. of 7 runs, 1 loop each)\n"
     ]
    }
   ],
   "source": [
    "%%timeit\n",
    "i = ('ago', 1980)\n",
    "shapeslib.get_estimated_mountain(i, shapes, income_gini, resample=False) "
   ]
  },
  {
   "cell_type": "code",
   "execution_count": 63,
   "id": "be377380",
   "metadata": {},
   "outputs": [
    {
     "data": {
      "text/plain": [
       "46513"
      ]
     },
     "execution_count": 63,
     "metadata": {},
     "output_type": "execute_result"
    }
   ],
   "source": [
    "len(income_gini.index)"
   ]
  },
  {
   "cell_type": "code",
   "execution_count": 66,
   "id": "9b93fe37",
   "metadata": {},
   "outputs": [
    {
     "data": {
      "text/plain": [
       "6.342681818181819"
      ]
     },
     "execution_count": 66,
     "metadata": {},
     "output_type": "execute_result"
    }
   ],
   "source": [
    "46513 * 90 / 1000 / 60 / 11"
   ]
  },
  {
   "cell_type": "code",
   "execution_count": null,
   "id": "79354eb3",
   "metadata": {},
   "outputs": [],
   "source": []
  },
  {
   "cell_type": "code",
   "execution_count": 84,
   "id": "dd544ef4",
   "metadata": {},
   "outputs": [],
   "source": [
    "all_years = set(range(1800, 2041))\n",
    "all_weights = dict([(x, shapeslib.get_weights(x)) for x in all_years])"
   ]
  },
  {
   "cell_type": "code",
   "execution_count": 88,
   "id": "266797ec",
   "metadata": {},
   "outputs": [
    {
     "data": {
      "text/plain": [
       "(0.6799999999999999, 0.32)"
      ]
     },
     "execution_count": 88,
     "metadata": {},
     "output_type": "execute_result"
    }
   ],
   "source": [
    "all_weights[1939]"
   ]
  },
  {
   "cell_type": "code",
   "execution_count": null,
   "id": "5f73c194",
   "metadata": {},
   "outputs": [],
   "source": []
  },
  {
   "cell_type": "code",
   "execution_count": null,
   "id": "091463ee",
   "metadata": {},
   "outputs": [],
   "source": [
    "# pre-compute the neighbour list"
   ]
  },
  {
   "cell_type": "code",
   "execution_count": 76,
   "id": "29c0c78b",
   "metadata": {},
   "outputs": [],
   "source": [
    "income_gini_noc = income_gini.reset_index(drop=True).drop_duplicates()"
   ]
  },
  {
   "cell_type": "code",
   "execution_count": 77,
   "id": "3de221b4",
   "metadata": {},
   "outputs": [
    {
     "data": {
      "text/html": [
       "<div>\n",
       "<style scoped>\n",
       "    .dataframe tbody tr th:only-of-type {\n",
       "        vertical-align: middle;\n",
       "    }\n",
       "\n",
       "    .dataframe tbody tr th {\n",
       "        vertical-align: top;\n",
       "    }\n",
       "\n",
       "    .dataframe thead th {\n",
       "        text-align: right;\n",
       "    }\n",
       "</style>\n",
       "<table border=\"1\" class=\"dataframe\">\n",
       "  <thead>\n",
       "    <tr style=\"text-align: right;\">\n",
       "      <th></th>\n",
       "      <th>income</th>\n",
       "      <th>gini</th>\n",
       "    </tr>\n",
       "  </thead>\n",
       "  <tbody>\n",
       "    <tr>\n",
       "      <th>0</th>\n",
       "      <td>0.9194</td>\n",
       "      <td>30.5</td>\n",
       "    </tr>\n",
       "    <tr>\n",
       "      <th>10</th>\n",
       "      <td>0.9207</td>\n",
       "      <td>30.5</td>\n",
       "    </tr>\n",
       "    <tr>\n",
       "      <th>21</th>\n",
       "      <td>0.9262</td>\n",
       "      <td>30.5</td>\n",
       "    </tr>\n",
       "    <tr>\n",
       "      <th>22</th>\n",
       "      <td>0.9289</td>\n",
       "      <td>30.5</td>\n",
       "    </tr>\n",
       "    <tr>\n",
       "      <th>23</th>\n",
       "      <td>0.9316</td>\n",
       "      <td>30.5</td>\n",
       "    </tr>\n",
       "    <tr>\n",
       "      <th>...</th>\n",
       "      <td>...</td>\n",
       "      <td>...</td>\n",
       "    </tr>\n",
       "    <tr>\n",
       "      <th>46508</th>\n",
       "      <td>4.4967</td>\n",
       "      <td>43.2</td>\n",
       "    </tr>\n",
       "    <tr>\n",
       "      <th>46509</th>\n",
       "      <td>4.5910</td>\n",
       "      <td>43.2</td>\n",
       "    </tr>\n",
       "    <tr>\n",
       "      <th>46510</th>\n",
       "      <td>4.6882</td>\n",
       "      <td>43.2</td>\n",
       "    </tr>\n",
       "    <tr>\n",
       "      <th>46511</th>\n",
       "      <td>4.7883</td>\n",
       "      <td>43.2</td>\n",
       "    </tr>\n",
       "    <tr>\n",
       "      <th>46512</th>\n",
       "      <td>4.8898</td>\n",
       "      <td>43.2</td>\n",
       "    </tr>\n",
       "  </tbody>\n",
       "</table>\n",
       "<p>42325 rows × 2 columns</p>\n",
       "</div>"
      ],
      "text/plain": [
       "       income  gini\n",
       "0      0.9194  30.5\n",
       "10     0.9207  30.5\n",
       "21     0.9262  30.5\n",
       "22     0.9289  30.5\n",
       "23     0.9316  30.5\n",
       "...       ...   ...\n",
       "46508  4.4967  43.2\n",
       "46509  4.5910  43.2\n",
       "46510  4.6882  43.2\n",
       "46511  4.7883  43.2\n",
       "46512  4.8898  43.2\n",
       "\n",
       "[42325 rows x 2 columns]"
      ]
     },
     "execution_count": 77,
     "metadata": {},
     "output_type": "execute_result"
    }
   ],
   "source": [
    "income_gini_noc"
   ]
  },
  {
   "cell_type": "code",
   "execution_count": 79,
   "id": "b0618cfd",
   "metadata": {},
   "outputs": [],
   "source": [
    "from multiprocessing import Pool"
   ]
  },
  {
   "cell_type": "code",
   "execution_count": 80,
   "id": "75e3a953",
   "metadata": {
    "scrolled": true
   },
   "outputs": [
    {
     "name": "stderr",
     "output_type": "stream",
     "text": [
      "Process ForkPoolWorker-6:\n",
      "Process ForkPoolWorker-3:\n",
      "Process ForkPoolWorker-4:\n",
      "Process ForkPoolWorker-5:\n"
     ]
    },
    {
     "ename": "KeyboardInterrupt",
     "evalue": "",
     "output_type": "error",
     "traceback": [
      "\u001b[0;31m---------------------------------------------------------------------------\u001b[0m",
      "\u001b[0;31mKeyboardInterrupt\u001b[0m                         Traceback (most recent call last)",
      "\u001b[0;32m<ipython-input-80-492793f57a6f>\u001b[0m in \u001b[0;36m<module>\u001b[0;34m\u001b[0m\n\u001b[1;32m      6\u001b[0m \u001b[0;34m\u001b[0m\u001b[0m\n\u001b[1;32m      7\u001b[0m \u001b[0;32mwith\u001b[0m \u001b[0mPool\u001b[0m\u001b[0;34m(\u001b[0m\u001b[0;36m6\u001b[0m\u001b[0;34m)\u001b[0m \u001b[0;32mas\u001b[0m \u001b[0mp\u001b[0m\u001b[0;34m:\u001b[0m\u001b[0;34m\u001b[0m\u001b[0;34m\u001b[0m\u001b[0m\n\u001b[0;32m----> 8\u001b[0;31m     \u001b[0mres_distances\u001b[0m \u001b[0;34m=\u001b[0m \u001b[0mp\u001b[0m\u001b[0;34m.\u001b[0m\u001b[0mmap\u001b[0m\u001b[0;34m(\u001b[0m\u001b[0mget_distances_res\u001b[0m\u001b[0;34m,\u001b[0m \u001b[0mincome_gini_noc\u001b[0m\u001b[0;34m.\u001b[0m\u001b[0mvalues\u001b[0m\u001b[0;34m)\u001b[0m\u001b[0;34m\u001b[0m\u001b[0;34m\u001b[0m\u001b[0m\n\u001b[0m",
      "\u001b[0;32m/usr/lib64/python3.9/multiprocessing/pool.py\u001b[0m in \u001b[0;36mmap\u001b[0;34m(self, func, iterable, chunksize)\u001b[0m\n\u001b[1;32m    362\u001b[0m         \u001b[0;32min\u001b[0m \u001b[0ma\u001b[0m \u001b[0mlist\u001b[0m \u001b[0mthat\u001b[0m \u001b[0;32mis\u001b[0m \u001b[0mreturned\u001b[0m\u001b[0;34m.\u001b[0m\u001b[0;34m\u001b[0m\u001b[0;34m\u001b[0m\u001b[0m\n\u001b[1;32m    363\u001b[0m         '''\n\u001b[0;32m--> 364\u001b[0;31m         \u001b[0;32mreturn\u001b[0m \u001b[0mself\u001b[0m\u001b[0;34m.\u001b[0m\u001b[0m_map_async\u001b[0m\u001b[0;34m(\u001b[0m\u001b[0mfunc\u001b[0m\u001b[0;34m,\u001b[0m \u001b[0miterable\u001b[0m\u001b[0;34m,\u001b[0m \u001b[0mmapstar\u001b[0m\u001b[0;34m,\u001b[0m \u001b[0mchunksize\u001b[0m\u001b[0;34m)\u001b[0m\u001b[0;34m.\u001b[0m\u001b[0mget\u001b[0m\u001b[0;34m(\u001b[0m\u001b[0;34m)\u001b[0m\u001b[0;34m\u001b[0m\u001b[0;34m\u001b[0m\u001b[0m\n\u001b[0m\u001b[1;32m    365\u001b[0m \u001b[0;34m\u001b[0m\u001b[0m\n\u001b[1;32m    366\u001b[0m     \u001b[0;32mdef\u001b[0m \u001b[0mstarmap\u001b[0m\u001b[0;34m(\u001b[0m\u001b[0mself\u001b[0m\u001b[0;34m,\u001b[0m \u001b[0mfunc\u001b[0m\u001b[0;34m,\u001b[0m \u001b[0miterable\u001b[0m\u001b[0;34m,\u001b[0m \u001b[0mchunksize\u001b[0m\u001b[0;34m=\u001b[0m\u001b[0;32mNone\u001b[0m\u001b[0;34m)\u001b[0m\u001b[0;34m:\u001b[0m\u001b[0;34m\u001b[0m\u001b[0;34m\u001b[0m\u001b[0m\n",
      "\u001b[0;32m/usr/lib64/python3.9/multiprocessing/pool.py\u001b[0m in \u001b[0;36mget\u001b[0;34m(self, timeout)\u001b[0m\n\u001b[1;32m    763\u001b[0m \u001b[0;34m\u001b[0m\u001b[0m\n\u001b[1;32m    764\u001b[0m     \u001b[0;32mdef\u001b[0m \u001b[0mget\u001b[0m\u001b[0;34m(\u001b[0m\u001b[0mself\u001b[0m\u001b[0;34m,\u001b[0m \u001b[0mtimeout\u001b[0m\u001b[0;34m=\u001b[0m\u001b[0;32mNone\u001b[0m\u001b[0;34m)\u001b[0m\u001b[0;34m:\u001b[0m\u001b[0;34m\u001b[0m\u001b[0;34m\u001b[0m\u001b[0m\n\u001b[0;32m--> 765\u001b[0;31m         \u001b[0mself\u001b[0m\u001b[0;34m.\u001b[0m\u001b[0mwait\u001b[0m\u001b[0;34m(\u001b[0m\u001b[0mtimeout\u001b[0m\u001b[0;34m)\u001b[0m\u001b[0;34m\u001b[0m\u001b[0;34m\u001b[0m\u001b[0m\n\u001b[0m\u001b[1;32m    766\u001b[0m         \u001b[0;32mif\u001b[0m \u001b[0;32mnot\u001b[0m \u001b[0mself\u001b[0m\u001b[0;34m.\u001b[0m\u001b[0mready\u001b[0m\u001b[0;34m(\u001b[0m\u001b[0;34m)\u001b[0m\u001b[0;34m:\u001b[0m\u001b[0;34m\u001b[0m\u001b[0;34m\u001b[0m\u001b[0m\n\u001b[1;32m    767\u001b[0m             \u001b[0;32mraise\u001b[0m \u001b[0mTimeoutError\u001b[0m\u001b[0;34m\u001b[0m\u001b[0;34m\u001b[0m\u001b[0m\n",
      "\u001b[0;32m/usr/lib64/python3.9/multiprocessing/pool.py\u001b[0m in \u001b[0;36mwait\u001b[0;34m(self, timeout)\u001b[0m\n\u001b[1;32m    760\u001b[0m \u001b[0;34m\u001b[0m\u001b[0m\n\u001b[1;32m    761\u001b[0m     \u001b[0;32mdef\u001b[0m \u001b[0mwait\u001b[0m\u001b[0;34m(\u001b[0m\u001b[0mself\u001b[0m\u001b[0;34m,\u001b[0m \u001b[0mtimeout\u001b[0m\u001b[0;34m=\u001b[0m\u001b[0;32mNone\u001b[0m\u001b[0;34m)\u001b[0m\u001b[0;34m:\u001b[0m\u001b[0;34m\u001b[0m\u001b[0;34m\u001b[0m\u001b[0m\n\u001b[0;32m--> 762\u001b[0;31m         \u001b[0mself\u001b[0m\u001b[0;34m.\u001b[0m\u001b[0m_event\u001b[0m\u001b[0;34m.\u001b[0m\u001b[0mwait\u001b[0m\u001b[0;34m(\u001b[0m\u001b[0mtimeout\u001b[0m\u001b[0;34m)\u001b[0m\u001b[0;34m\u001b[0m\u001b[0;34m\u001b[0m\u001b[0m\n\u001b[0m\u001b[1;32m    763\u001b[0m \u001b[0;34m\u001b[0m\u001b[0m\n\u001b[1;32m    764\u001b[0m     \u001b[0;32mdef\u001b[0m \u001b[0mget\u001b[0m\u001b[0;34m(\u001b[0m\u001b[0mself\u001b[0m\u001b[0;34m,\u001b[0m \u001b[0mtimeout\u001b[0m\u001b[0;34m=\u001b[0m\u001b[0;32mNone\u001b[0m\u001b[0;34m)\u001b[0m\u001b[0;34m:\u001b[0m\u001b[0;34m\u001b[0m\u001b[0;34m\u001b[0m\u001b[0m\n",
      "\u001b[0;32m/usr/lib64/python3.9/threading.py\u001b[0m in \u001b[0;36mwait\u001b[0;34m(self, timeout)\u001b[0m\n\u001b[1;32m    572\u001b[0m             \u001b[0msignaled\u001b[0m \u001b[0;34m=\u001b[0m \u001b[0mself\u001b[0m\u001b[0;34m.\u001b[0m\u001b[0m_flag\u001b[0m\u001b[0;34m\u001b[0m\u001b[0;34m\u001b[0m\u001b[0m\n\u001b[1;32m    573\u001b[0m             \u001b[0;32mif\u001b[0m \u001b[0;32mnot\u001b[0m \u001b[0msignaled\u001b[0m\u001b[0;34m:\u001b[0m\u001b[0;34m\u001b[0m\u001b[0;34m\u001b[0m\u001b[0m\n\u001b[0;32m--> 574\u001b[0;31m                 \u001b[0msignaled\u001b[0m \u001b[0;34m=\u001b[0m \u001b[0mself\u001b[0m\u001b[0;34m.\u001b[0m\u001b[0m_cond\u001b[0m\u001b[0;34m.\u001b[0m\u001b[0mwait\u001b[0m\u001b[0;34m(\u001b[0m\u001b[0mtimeout\u001b[0m\u001b[0;34m)\u001b[0m\u001b[0;34m\u001b[0m\u001b[0;34m\u001b[0m\u001b[0m\n\u001b[0m\u001b[1;32m    575\u001b[0m             \u001b[0;32mreturn\u001b[0m \u001b[0msignaled\u001b[0m\u001b[0;34m\u001b[0m\u001b[0;34m\u001b[0m\u001b[0m\n\u001b[1;32m    576\u001b[0m \u001b[0;34m\u001b[0m\u001b[0m\n",
      "\u001b[0;32m/usr/lib64/python3.9/threading.py\u001b[0m in \u001b[0;36mwait\u001b[0;34m(self, timeout)\u001b[0m\n\u001b[1;32m    310\u001b[0m         \u001b[0;32mtry\u001b[0m\u001b[0;34m:\u001b[0m    \u001b[0;31m# restore state no matter what (e.g., KeyboardInterrupt)\u001b[0m\u001b[0;34m\u001b[0m\u001b[0;34m\u001b[0m\u001b[0m\n\u001b[1;32m    311\u001b[0m             \u001b[0;32mif\u001b[0m \u001b[0mtimeout\u001b[0m \u001b[0;32mis\u001b[0m \u001b[0;32mNone\u001b[0m\u001b[0;34m:\u001b[0m\u001b[0;34m\u001b[0m\u001b[0;34m\u001b[0m\u001b[0m\n\u001b[0;32m--> 312\u001b[0;31m                 \u001b[0mwaiter\u001b[0m\u001b[0;34m.\u001b[0m\u001b[0macquire\u001b[0m\u001b[0;34m(\u001b[0m\u001b[0;34m)\u001b[0m\u001b[0;34m\u001b[0m\u001b[0;34m\u001b[0m\u001b[0m\n\u001b[0m\u001b[1;32m    313\u001b[0m                 \u001b[0mgotit\u001b[0m \u001b[0;34m=\u001b[0m \u001b[0;32mTrue\u001b[0m\u001b[0;34m\u001b[0m\u001b[0;34m\u001b[0m\u001b[0m\n\u001b[1;32m    314\u001b[0m             \u001b[0;32melse\u001b[0m\u001b[0;34m:\u001b[0m\u001b[0;34m\u001b[0m\u001b[0;34m\u001b[0m\u001b[0m\n",
      "\u001b[0;31mKeyboardInterrupt\u001b[0m: "
     ]
    }
   ],
   "source": [
    "def get_distances_res(v):\n",
    "    i = v[0]\n",
    "    g = v[1]\n",
    "    cno, neis = shapeslib.get_neighbors(i, g)\n",
    "    return (i, g), (cno, neis)\n",
    "\n",
    "with Pool(6) as p:\n",
    "    res_distances = p.map(get_distances_res, income_gini_noc.values)"
   ]
  },
  {
   "cell_type": "code",
   "execution_count": 103,
   "id": "145ec079",
   "metadata": {},
   "outputs": [],
   "source": [
    "res_distances_dict = dict(res_distances)"
   ]
  },
  {
   "cell_type": "code",
   "execution_count": 105,
   "id": "b88c85ef",
   "metadata": {},
   "outputs": [
    {
     "data": {
      "text/plain": [
       "(6,\n",
       " [('hti', 1994),\n",
       "  ('caf', 1995),\n",
       "  ('hti', 1995),\n",
       "  ('hti', 1993),\n",
       "  ('hti', 1992),\n",
       "  ('hti', 1996),\n",
       "  ('caf', 2014),\n",
       "  ('caf', 2013),\n",
       "  ('caf', 1996),\n",
       "  ('caf', 2015),\n",
       "  ('caf', 2016),\n",
       "  ('swz', 1996),\n",
       "  ('caf', 2017),\n",
       "  ('caf', 2018),\n",
       "  ('caf', 2019),\n",
       "  ('hti', 1991),\n",
       "  ('swz', 1997),\n",
       "  ('hti', 1997),\n",
       "  ('hti', 1989),\n",
       "  ('hti', 1988),\n",
       "  ('hti', 2004),\n",
       "  ('hti', 1990),\n",
       "  ('zmb', 2015),\n",
       "  ('zmb', 2016),\n",
       "  ('zmb', 2014),\n",
       "  ('zmb', 2019),\n",
       "  ('zmb', 2017),\n",
       "  ('hti', 2003),\n",
       "  ('zmb', 2018),\n",
       "  ('zmb', 2013),\n",
       "  ('hti', 1998),\n",
       "  ('caf', 2010),\n",
       "  ('swz', 1995),\n",
       "  ('hti', 2005),\n",
       "  ('zmb', 2012),\n",
       "  ('zmb', 1992),\n",
       "  ('zmb', 2011),\n",
       "  ('caf', 2011),\n",
       "  ('zmb', 1991),\n",
       "  ('caf', 1994),\n",
       "  ('hti', 2002),\n",
       "  ('lso', 1999),\n",
       "  ('caf', 2012),\n",
       "  ('zmb', 2010),\n",
       "  ('caf', 2009),\n",
       "  ('hti', 1999),\n",
       "  ('mwi', 1987),\n",
       "  ('lso', 2000),\n",
       "  ('hti', 2001),\n",
       "  ('mwi', 1988)])"
      ]
     },
     "execution_count": 105,
     "metadata": {},
     "output_type": "execute_result"
    }
   ],
   "source": [
    "i, g = shapeslib.get_income_gini(('ago', 1800), income_gini)\n",
    "res_distances_dict[(i, g)]"
   ]
  },
  {
   "cell_type": "code",
   "execution_count": null,
   "id": "f59c427e",
   "metadata": {},
   "outputs": [],
   "source": []
  },
  {
   "cell_type": "code",
   "execution_count": 110,
   "id": "b4ae500a",
   "metadata": {},
   "outputs": [
    {
     "data": {
      "text/plain": [
       "array([('afg', 1800), ('afg', 1801), ('afg', 1802), ..., ('zwe', 2038),\n",
       "       ('zwe', 2039), ('zwe', 2040)], dtype=object)"
      ]
     },
     "execution_count": 110,
     "metadata": {},
     "output_type": "execute_result"
    }
   ],
   "source": [
    "income_gini.index.values"
   ]
  },
  {
   "cell_type": "code",
   "execution_count": 114,
   "id": "5b5bb263",
   "metadata": {},
   "outputs": [],
   "source": [
    "all_neighbours = []\n",
    "for cy in income_gini.index.values:\n",
    "    i, g = shapeslib.get_income_gini(cy, income_gini)\n",
    "    all_neighbours.append((cy, res_distances_dict[(i, g)]))"
   ]
  },
  {
   "cell_type": "code",
   "execution_count": 115,
   "id": "5736efc8",
   "metadata": {},
   "outputs": [],
   "source": [
    "all_neighbours = dict(all_neighbours)"
   ]
  },
  {
   "cell_type": "code",
   "execution_count": 116,
   "id": "2a8afc97",
   "metadata": {},
   "outputs": [
    {
     "data": {
      "text/plain": [
       "(11,\n",
       " [('npl', 1983),\n",
       "  ('npl', 1981),\n",
       "  ('npl', 1982),\n",
       "  ('npl', 1984),\n",
       "  ('npl', 1985),\n",
       "  ('tza', 1985),\n",
       "  ('npl', 1986),\n",
       "  ('tza', 1984),\n",
       "  ('npl', 1987),\n",
       "  ('pak', 1981),\n",
       "  ('chn', 1989),\n",
       "  ('pak', 1982),\n",
       "  ('npl', 1988),\n",
       "  ('tza', 1986),\n",
       "  ('rwa', 1986),\n",
       "  ('pak', 1983),\n",
       "  ('rwa', 1987),\n",
       "  ('tza', 1983),\n",
       "  ('eth', 2003),\n",
       "  ('chn', 1988),\n",
       "  ('npl', 1989),\n",
       "  ('rwa', 1985),\n",
       "  ('tjk', 1999),\n",
       "  ('eth', 2001),\n",
       "  ('eth', 2002),\n",
       "  ('idn', 1998),\n",
       "  ('chn', 1990),\n",
       "  ('idn', 1988),\n",
       "  ('pak', 1984),\n",
       "  ('rwa', 1984),\n",
       "  ('idn', 1987),\n",
       "  ('idn', 1986),\n",
       "  ('idn', 1989),\n",
       "  ('eth', 2004),\n",
       "  ('ind', 1982),\n",
       "  ('ind', 1981),\n",
       "  ('npl', 1990),\n",
       "  ('ind', 1983),\n",
       "  ('chn', 1987),\n",
       "  ('idn', 1985),\n",
       "  ('rwa', 1981),\n",
       "  ('tls', 2006),\n",
       "  ('ind', 1984),\n",
       "  ('pak', 1994),\n",
       "  ('eth', 2000),\n",
       "  ('rwa', 1982),\n",
       "  ('eth', 2005),\n",
       "  ('bih', 1993),\n",
       "  ('eth', 2006),\n",
       "  ('tza', 1987)])"
      ]
     },
     "execution_count": 116,
     "metadata": {},
     "output_type": "execute_result"
    }
   ],
   "source": [
    "all_neighbours[('afg', 1800)]"
   ]
  },
  {
   "cell_type": "code",
   "execution_count": 81,
   "id": "3bc4ea1d",
   "metadata": {},
   "outputs": [],
   "source": [
    "import json"
   ]
  },
  {
   "cell_type": "code",
   "execution_count": 125,
   "id": "aee1193d",
   "metadata": {},
   "outputs": [],
   "source": [
    "all_neighbours_json = dict()\n",
    "\n",
    "for k, v in all_neighbours.items():\n",
    "    c, y = k\n",
    "    if c not in all_neighbours_json.keys():\n",
    "        all_neighbours_json[c] = dict()\n",
    "    all_neighbours_json[c][y] = {\n",
    "        \"countries\": v[0],\n",
    "        \"neighbours\": [list(x) for x in v[1]]\n",
    "    }"
   ]
  },
  {
   "cell_type": "code",
   "execution_count": 126,
   "id": "6340abb3",
   "metadata": {
    "scrolled": true
   },
   "outputs": [
    {
     "data": {
      "text/plain": [
       "{'countries': 8,\n",
       " 'neighbours': [['bdi', 1997],\n",
       "  ['rwa', 1994],\n",
       "  ['bdi', 2001],\n",
       "  ['ner', 1994],\n",
       "  ['ner', 1995],\n",
       "  ['bdi', 1996],\n",
       "  ['tcd', 2000],\n",
       "  ['bdi', 2002],\n",
       "  ['bdi', 2019],\n",
       "  ['sle', 2001],\n",
       "  ['bdi', 2018],\n",
       "  ['tcd', 1996],\n",
       "  ['bdi', 2017],\n",
       "  ['tcd', 1999],\n",
       "  ['sle', 2004],\n",
       "  ['tcd', 1997],\n",
       "  ['ner', 2007],\n",
       "  ['bdi', 1998],\n",
       "  ['mmr', 1988],\n",
       "  ['sle', 2005],\n",
       "  ['mmr', 1991],\n",
       "  ['mmr', 1989],\n",
       "  ['bdi', 2016],\n",
       "  ['mmr', 1990],\n",
       "  ['tza', 2004],\n",
       "  ['mmr', 1992],\n",
       "  ['tcd', 1995],\n",
       "  ['tcd', 1993],\n",
       "  ['mmr', 1981],\n",
       "  ['mmr', 1987],\n",
       "  ['mmr', 1993],\n",
       "  ['tcd', 1998],\n",
       "  ['mmr', 1982],\n",
       "  ['tza', 2005],\n",
       "  ['mmr', 1983],\n",
       "  ['mmr', 1986],\n",
       "  ['mmr', 1994],\n",
       "  ['mmr', 1984],\n",
       "  ['mmr', 1985],\n",
       "  ['tcd', 2001],\n",
       "  ['sle', 2003],\n",
       "  ['mmr', 1995],\n",
       "  ['bdi', 2000],\n",
       "  ['sle', 2000],\n",
       "  ['tcd', 1994],\n",
       "  ['sle', 2002],\n",
       "  ['mmr', 1996],\n",
       "  ['bdi', 2015],\n",
       "  ['sle', 1999],\n",
       "  ['gmb', 1987]]}"
      ]
     },
     "execution_count": 126,
     "metadata": {},
     "output_type": "execute_result"
    }
   ],
   "source": [
    "all_neighbours_json['afg'][1900]"
   ]
  },
  {
   "cell_type": "code",
   "execution_count": null,
   "id": "7a3a8a66",
   "metadata": {},
   "outputs": [],
   "source": []
  },
  {
   "cell_type": "code",
   "execution_count": 128,
   "id": "bc1a8ec2",
   "metadata": {},
   "outputs": [],
   "source": [
    "fp = open('../wip/neighbours_list.json', 'w')\n",
    "json.dump(all_neighbours_json, fp, indent=2)"
   ]
  },
  {
   "cell_type": "code",
   "execution_count": null,
   "id": "32895611",
   "metadata": {},
   "outputs": [],
   "source": []
  },
  {
   "cell_type": "code",
   "execution_count": 130,
   "id": "89a9adda",
   "metadata": {},
   "outputs": [
    {
     "data": {
      "text/plain": [
       "bracket\n",
       "-88     1.887834e-07\n",
       "-87     2.271020e-06\n",
       "-86     4.517832e-06\n",
       "-85     5.634300e-06\n",
       "-84     8.477594e-06\n",
       "            ...     \n",
       " 120    5.336373e-10\n",
       " 121    4.335379e-10\n",
       " 122    3.504213e-10\n",
       " 123    2.814454e-10\n",
       " 124    2.242767e-10\n",
       "Name: population_percentage, Length: 213, dtype: float64"
      ]
     },
     "execution_count": 130,
     "metadata": {},
     "output_type": "execute_result"
    }
   ],
   "source": [
    "nei = all_neighbours_json['ago'][1981]['neighbours']\n",
    "nei = [tuple(x) for x in nei]\n",
    "shapes_noc4.loc[shapes_noc4.index.get_level_values(0).isin(nei)].groupby('bracket').sum() / 50"
   ]
  },
  {
   "cell_type": "code",
   "execution_count": 131,
   "id": "a6161266",
   "metadata": {},
   "outputs": [],
   "source": [
    "def get_average_shape(c, y, shapes, neighbours):\n",
    "    nei = neighbours[c][y]['neighbours']\n",
    "    nei = [tuple(x) for x in nei]\n",
    "    return shapes.loc[shapes.index.get_level_values(0).isin(nei)].groupby('bracket').sum() / 50"
   ]
  },
  {
   "cell_type": "code",
   "execution_count": 141,
   "id": "56543844",
   "metadata": {},
   "outputs": [],
   "source": [
    "def get_nearest_known_shape(country, year, known_shapes):\n",
    "    try:\n",
    "        df = known_shapes.loc[country]\n",
    "    except KeyError:\n",
    "        return None\n",
    "    \n",
    "    if year > 2018:\n",
    "        nearest = df.index.get_level_values(0)[-1]\n",
    "    else:\n",
    "        nearest = df.index.get_level_values(0)[0]\n",
    "    return df.loc[nearest]"
   ]
  },
  {
   "cell_type": "code",
   "execution_count": 149,
   "id": "3986754e",
   "metadata": {},
   "outputs": [],
   "source": [
    "def get_estimated_mountain2(idx, income, known_shapes, known_shapes_2, neighbours, n=50, resample=False):\n",
    "    country, year = idx\n",
    "    first_known_shape = get_nearest_known_shape(country, year, known_shapes)\n",
    "    if first_known_shape is None:\n",
    "        return None\n",
    "    average_shape = get_average_shape(c, y, known_shapes_2, neighbours)\n",
    "    weights = all_weights[year]\n",
    "    mixed_shape = shapeslib.merge_nshapes_with_weights([first_known_shape, average_shape], weights)\n",
    "    bracket = bracket_number_from_income(income)\n",
    "    mixed_shape.index = mixed_shape.index + bracket\n",
    "    # if mixed_shape.index[-1] != 200:\n",
    "    #     new_idx = pd.Index.from_\n",
    "    #     mixed_shape = mixed_shape.reindex(new_idx)\n",
    "    # return mixed_shape.loc[0:200]\n",
    "    res = mixed_shape.loc[0:199]\n",
    "    if len(res) != 200:\n",
    "        # print(f'not enough points in mixed shape: {idx}')\n",
    "        new_idx = pd.Index(range(200))\n",
    "        res = mixed_shape.reindex(new_idx, fill_value=0)\n",
    "    if resample:\n",
    "        return res[::4]\n",
    "    else:\n",
    "        return res\n"
   ]
  },
  {
   "cell_type": "code",
   "execution_count": 143,
   "id": "bdafcdfc",
   "metadata": {},
   "outputs": [],
   "source": [
    "get_nearest_known_shape('ago', 1921, shapes_noc4)"
   ]
  },
  {
   "cell_type": "code",
   "execution_count": 151,
   "id": "5ada1086",
   "metadata": {},
   "outputs": [
    {
     "name": "stdout",
     "output_type": "stream",
     "text": [
      "93.3 ms ± 607 µs per loop (mean ± std. dev. of 7 runs, 10 loops each)\n"
     ]
    }
   ],
   "source": [
    "%%timeit\n",
    "i, g = shapeslib.get_income_gini(('ago', 1980), income_gini)\n",
    "get_estimated_mountain2(('ago', 1980), i, shapes_noc2, shapes_noc4, all_neighbours_json)"
   ]
  },
  {
   "cell_type": "code",
   "execution_count": null,
   "id": "9a53160f",
   "metadata": {},
   "outputs": [],
   "source": []
  },
  {
   "cell_type": "code",
   "execution_count": 152,
   "id": "6ae8d6b2",
   "metadata": {},
   "outputs": [],
   "source": []
  },
  {
   "cell_type": "code",
   "execution_count": 153,
   "id": "ca0091f4",
   "metadata": {},
   "outputs": [],
   "source": [
    "from functools import partial"
   ]
  },
  {
   "cell_type": "code",
   "execution_count": 154,
   "id": "eb78c790",
   "metadata": {},
   "outputs": [
    {
     "name": "stdout",
     "output_type": "stream",
     "text": [
      "skip afg\n",
      "skip and\n",
      "skip atg\n",
      "skip bhr\n",
      "skip bhs\n",
      "skip brb\n",
      "skip brn\n",
      "skip cub\n",
      "skip dma\n",
      "skip eri\n",
      "skip gnq\n",
      "skip grd\n",
      "skip khm\n",
      "skip kna\n",
      "skip kwt\n",
      "skip lby\n",
      "skip mco\n",
      "skip mhl\n",
      "skip nzl\n",
      "skip omn\n",
      "skip plw\n",
      "skip prk\n",
      "skip qat\n",
      "skip sau\n",
      "skip sgp\n",
      "skip smr\n",
      "skip vct\n"
     ]
    }
   ],
   "source": [
    "skip_list = list()\n",
    "for i in income_gini.index.values:\n",
    "    country, year = i\n",
    "    if country in skip_list:\n",
    "        continue\n",
    "    try:\n",
    "        shapes.loc[country]\n",
    "    except KeyError:\n",
    "        skip_list.append(country)\n",
    "        print(f'skip {country}')"
   ]
  },
  {
   "cell_type": "code",
   "execution_count": 157,
   "id": "394fe42a",
   "metadata": {},
   "outputs": [],
   "source": [
    "shape_known_list = shapes.index.values.tolist()"
   ]
  },
  {
   "cell_type": "code",
   "execution_count": 158,
   "id": "2c38365f",
   "metadata": {},
   "outputs": [],
   "source": [
    "def process(i, skip_list, shape_known_list):\n",
    "    country, year = i\n",
    "    if country in skip_list:\n",
    "        return None\n",
    "    if i not in shape_known_list:\n",
    "        income, _ = shapeslib.get_income_gini(i, income_gini)\n",
    "        res = get_estimated_mountain2(i, income, shapes_noc2, shapes_noc4, all_neighbours_json)\n",
    "        # res = shapeslib.get_estimated_mountain(i, shapes, income_gini, resample=False) \n",
    "        return i, res"
   ]
  },
  {
   "cell_type": "code",
   "execution_count": 159,
   "id": "e8af7f0d",
   "metadata": {},
   "outputs": [],
   "source": [
    "run = partial(process, skip_list=skip_list, shape_known_list=shape_known_list)"
   ]
  },
  {
   "cell_type": "code",
   "execution_count": 160,
   "id": "ff5393c7",
   "metadata": {},
   "outputs": [],
   "source": [
    "# begins at 11:59"
   ]
  },
  {
   "cell_type": "code",
   "execution_count": 161,
   "id": "490ebf90",
   "metadata": {},
   "outputs": [],
   "source": [
    "with Pool(11) as p:\n",
    "    res = p.map(run, income_gini.index.values)"
   ]
  },
  {
   "cell_type": "code",
   "execution_count": 162,
   "id": "d548cc83",
   "metadata": {},
   "outputs": [
    {
     "name": "stdout",
     "output_type": "stream",
     "text": [
      "Wed Oct  6 12:11:06 CST 2021\r\n"
     ]
    }
   ],
   "source": [
    "!date"
   ]
  },
  {
   "cell_type": "code",
   "execution_count": 163,
   "id": "8aef29fa",
   "metadata": {},
   "outputs": [],
   "source": [
    "res = [x for x in res if x is not None]"
   ]
  },
  {
   "cell_type": "code",
   "execution_count": 164,
   "id": "bf4a9147",
   "metadata": {},
   "outputs": [
    {
     "data": {
      "text/plain": [
       "(('ago', 1800),\n",
       " bracket\n",
       " 0      0.000002\n",
       " 1      0.000003\n",
       " 2      0.000004\n",
       " 3      0.000005\n",
       " 4      0.000082\n",
       "          ...   \n",
       " 195    0.000074\n",
       " 196    0.000074\n",
       " 197    0.000074\n",
       " 198    0.000074\n",
       " 199    0.000074\n",
       " Length: 200, dtype: float64)"
      ]
     },
     "execution_count": 164,
     "metadata": {},
     "output_type": "execute_result"
    }
   ],
   "source": [
    "res[0]"
   ]
  },
  {
   "cell_type": "code",
   "execution_count": null,
   "id": "b3232245",
   "metadata": {},
   "outputs": [],
   "source": []
  },
  {
   "cell_type": "code",
   "execution_count": null,
   "id": "e3e5b78e",
   "metadata": {},
   "outputs": [],
   "source": []
  },
  {
   "cell_type": "code",
   "execution_count": 165,
   "id": "b888bef4",
   "metadata": {},
   "outputs": [
    {
     "data": {
      "text/plain": [
       "33656"
      ]
     },
     "execution_count": 165,
     "metadata": {},
     "output_type": "execute_result"
    }
   ],
   "source": [
    "len(res)"
   ]
  },
  {
   "cell_type": "code",
   "execution_count": 49,
   "id": "c88b4cbe",
   "metadata": {},
   "outputs": [],
   "source": [
    "df = res[0][1]\n",
    "df.name = 'income_mountain'\n",
    "df = df.reset_index()\n",
    "df['country'] = 'ago'\n",
    "df['year'] = 1900\n",
    "df = df.set_index(['country', 'year', 'bracket'])"
   ]
  },
  {
   "cell_type": "code",
   "execution_count": 50,
   "id": "b6c93560",
   "metadata": {},
   "outputs": [
    {
     "data": {
      "text/html": [
       "<div>\n",
       "<style scoped>\n",
       "    .dataframe tbody tr th:only-of-type {\n",
       "        vertical-align: middle;\n",
       "    }\n",
       "\n",
       "    .dataframe tbody tr th {\n",
       "        vertical-align: top;\n",
       "    }\n",
       "\n",
       "    .dataframe thead th {\n",
       "        text-align: right;\n",
       "    }\n",
       "</style>\n",
       "<table border=\"1\" class=\"dataframe\">\n",
       "  <thead>\n",
       "    <tr style=\"text-align: right;\">\n",
       "      <th></th>\n",
       "      <th></th>\n",
       "      <th></th>\n",
       "      <th>income_mountain</th>\n",
       "    </tr>\n",
       "    <tr>\n",
       "      <th>country</th>\n",
       "      <th>year</th>\n",
       "      <th>bracket</th>\n",
       "      <th></th>\n",
       "    </tr>\n",
       "  </thead>\n",
       "  <tbody>\n",
       "    <tr>\n",
       "      <th rowspan=\"11\" valign=\"top\">ago</th>\n",
       "      <th rowspan=\"11\" valign=\"top\">1900</th>\n",
       "      <th>0</th>\n",
       "      <td>0.000057</td>\n",
       "    </tr>\n",
       "    <tr>\n",
       "      <th>1</th>\n",
       "      <td>0.000069</td>\n",
       "    </tr>\n",
       "    <tr>\n",
       "      <th>2</th>\n",
       "      <td>0.000092</td>\n",
       "    </tr>\n",
       "    <tr>\n",
       "      <th>3</th>\n",
       "      <td>0.000108</td>\n",
       "    </tr>\n",
       "    <tr>\n",
       "      <th>4</th>\n",
       "      <td>0.000132</td>\n",
       "    </tr>\n",
       "    <tr>\n",
       "      <th>...</th>\n",
       "      <td>...</td>\n",
       "    </tr>\n",
       "    <tr>\n",
       "      <th>195</th>\n",
       "      <td>0.000000</td>\n",
       "    </tr>\n",
       "    <tr>\n",
       "      <th>196</th>\n",
       "      <td>0.000000</td>\n",
       "    </tr>\n",
       "    <tr>\n",
       "      <th>197</th>\n",
       "      <td>0.000000</td>\n",
       "    </tr>\n",
       "    <tr>\n",
       "      <th>198</th>\n",
       "      <td>0.000000</td>\n",
       "    </tr>\n",
       "    <tr>\n",
       "      <th>199</th>\n",
       "      <td>0.000000</td>\n",
       "    </tr>\n",
       "  </tbody>\n",
       "</table>\n",
       "<p>200 rows × 1 columns</p>\n",
       "</div>"
      ],
      "text/plain": [
       "                      income_mountain\n",
       "country year bracket                 \n",
       "ago     1900 0               0.000057\n",
       "             1               0.000069\n",
       "             2               0.000092\n",
       "             3               0.000108\n",
       "             4               0.000132\n",
       "...                               ...\n",
       "             195             0.000000\n",
       "             196             0.000000\n",
       "             197             0.000000\n",
       "             198             0.000000\n",
       "             199             0.000000\n",
       "\n",
       "[200 rows x 1 columns]"
      ]
     },
     "execution_count": 50,
     "metadata": {},
     "output_type": "execute_result"
    }
   ],
   "source": [
    "df"
   ]
  },
  {
   "cell_type": "code",
   "execution_count": 166,
   "id": "c4738afd",
   "metadata": {},
   "outputs": [],
   "source": [
    "res2 = []\n",
    "for k, v in res:\n",
    "    df = v.copy()\n",
    "    country, year = k\n",
    "    # print(country, year)\n",
    "    df.index.name = 'bracket'\n",
    "    df.name = 'income_mountain'\n",
    "    df = df.reset_index()\n",
    "    df['country'] = country\n",
    "    df['year'] = year\n",
    "    df = df.set_index(['country', 'year', 'bracket'])\n",
    "    res2.append(df)"
   ]
  },
  {
   "cell_type": "code",
   "execution_count": 167,
   "id": "ad16861d",
   "metadata": {},
   "outputs": [],
   "source": [
    "res3 = pd.concat(res2)"
   ]
  },
  {
   "cell_type": "code",
   "execution_count": 168,
   "id": "e1d4e567",
   "metadata": {},
   "outputs": [
    {
     "data": {
      "text/html": [
       "<div>\n",
       "<style scoped>\n",
       "    .dataframe tbody tr th:only-of-type {\n",
       "        vertical-align: middle;\n",
       "    }\n",
       "\n",
       "    .dataframe tbody tr th {\n",
       "        vertical-align: top;\n",
       "    }\n",
       "\n",
       "    .dataframe thead th {\n",
       "        text-align: right;\n",
       "    }\n",
       "</style>\n",
       "<table border=\"1\" class=\"dataframe\">\n",
       "  <thead>\n",
       "    <tr style=\"text-align: right;\">\n",
       "      <th></th>\n",
       "      <th></th>\n",
       "      <th></th>\n",
       "      <th>income_mountain</th>\n",
       "    </tr>\n",
       "    <tr>\n",
       "      <th>country</th>\n",
       "      <th>year</th>\n",
       "      <th>bracket</th>\n",
       "      <th></th>\n",
       "    </tr>\n",
       "  </thead>\n",
       "  <tbody>\n",
       "    <tr>\n",
       "      <th rowspan=\"5\" valign=\"top\">ago</th>\n",
       "      <th rowspan=\"5\" valign=\"top\">1800</th>\n",
       "      <th>0</th>\n",
       "      <td>0.000002</td>\n",
       "    </tr>\n",
       "    <tr>\n",
       "      <th>1</th>\n",
       "      <td>0.000003</td>\n",
       "    </tr>\n",
       "    <tr>\n",
       "      <th>2</th>\n",
       "      <td>0.000004</td>\n",
       "    </tr>\n",
       "    <tr>\n",
       "      <th>3</th>\n",
       "      <td>0.000005</td>\n",
       "    </tr>\n",
       "    <tr>\n",
       "      <th>4</th>\n",
       "      <td>0.000082</td>\n",
       "    </tr>\n",
       "    <tr>\n",
       "      <th>...</th>\n",
       "      <th>...</th>\n",
       "      <th>...</th>\n",
       "      <td>...</td>\n",
       "    </tr>\n",
       "    <tr>\n",
       "      <th rowspan=\"5\" valign=\"top\">zwe</th>\n",
       "      <th rowspan=\"5\" valign=\"top\">2040</th>\n",
       "      <th>195</th>\n",
       "      <td>0.000008</td>\n",
       "    </tr>\n",
       "    <tr>\n",
       "      <th>196</th>\n",
       "      <td>0.000008</td>\n",
       "    </tr>\n",
       "    <tr>\n",
       "      <th>197</th>\n",
       "      <td>0.000008</td>\n",
       "    </tr>\n",
       "    <tr>\n",
       "      <th>198</th>\n",
       "      <td>0.000008</td>\n",
       "    </tr>\n",
       "    <tr>\n",
       "      <th>199</th>\n",
       "      <td>0.000008</td>\n",
       "    </tr>\n",
       "  </tbody>\n",
       "</table>\n",
       "<p>6731200 rows × 1 columns</p>\n",
       "</div>"
      ],
      "text/plain": [
       "                      income_mountain\n",
       "country year bracket                 \n",
       "ago     1800 0               0.000002\n",
       "             1               0.000003\n",
       "             2               0.000004\n",
       "             3               0.000005\n",
       "             4               0.000082\n",
       "...                               ...\n",
       "zwe     2040 195             0.000008\n",
       "             196             0.000008\n",
       "             197             0.000008\n",
       "             198             0.000008\n",
       "             199             0.000008\n",
       "\n",
       "[6731200 rows x 1 columns]"
      ]
     },
     "execution_count": 168,
     "metadata": {},
     "output_type": "execute_result"
    }
   ],
   "source": [
    "res3"
   ]
  },
  {
   "cell_type": "code",
   "execution_count": 63,
   "id": "a995322b",
   "metadata": {},
   "outputs": [
    {
     "data": {
      "text/html": [
       "<div>\n",
       "<style scoped>\n",
       "    .dataframe tbody tr th:only-of-type {\n",
       "        vertical-align: middle;\n",
       "    }\n",
       "\n",
       "    .dataframe tbody tr th {\n",
       "        vertical-align: top;\n",
       "    }\n",
       "\n",
       "    .dataframe thead th {\n",
       "        text-align: right;\n",
       "    }\n",
       "</style>\n",
       "<table border=\"1\" class=\"dataframe\">\n",
       "  <thead>\n",
       "    <tr style=\"text-align: right;\">\n",
       "      <th></th>\n",
       "      <th></th>\n",
       "      <th>coverage_type</th>\n",
       "      <th>bracket</th>\n",
       "      <th>population_percentage</th>\n",
       "    </tr>\n",
       "    <tr>\n",
       "      <th>country</th>\n",
       "      <th>year</th>\n",
       "      <th></th>\n",
       "      <th></th>\n",
       "      <th></th>\n",
       "    </tr>\n",
       "  </thead>\n",
       "  <tbody>\n",
       "    <tr>\n",
       "      <th rowspan=\"5\" valign=\"top\">ago</th>\n",
       "      <th>1981</th>\n",
       "      <td>n</td>\n",
       "      <td>-94</td>\n",
       "      <td>0.000007</td>\n",
       "    </tr>\n",
       "    <tr>\n",
       "      <th>1981</th>\n",
       "      <td>n</td>\n",
       "      <td>-93</td>\n",
       "      <td>0.000009</td>\n",
       "    </tr>\n",
       "    <tr>\n",
       "      <th>1981</th>\n",
       "      <td>n</td>\n",
       "      <td>-92</td>\n",
       "      <td>0.000010</td>\n",
       "    </tr>\n",
       "    <tr>\n",
       "      <th>1981</th>\n",
       "      <td>n</td>\n",
       "      <td>-91</td>\n",
       "      <td>0.000012</td>\n",
       "    </tr>\n",
       "    <tr>\n",
       "      <th>1981</th>\n",
       "      <td>n</td>\n",
       "      <td>-90</td>\n",
       "      <td>0.000014</td>\n",
       "    </tr>\n",
       "    <tr>\n",
       "      <th>...</th>\n",
       "      <th>...</th>\n",
       "      <td>...</td>\n",
       "      <td>...</td>\n",
       "      <td>...</td>\n",
       "    </tr>\n",
       "    <tr>\n",
       "      <th rowspan=\"5\" valign=\"top\">zwe</th>\n",
       "      <th>2019</th>\n",
       "      <td>n</td>\n",
       "      <td>105</td>\n",
       "      <td>0.000000</td>\n",
       "    </tr>\n",
       "    <tr>\n",
       "      <th>2019</th>\n",
       "      <td>n</td>\n",
       "      <td>106</td>\n",
       "      <td>0.000000</td>\n",
       "    </tr>\n",
       "    <tr>\n",
       "      <th>2019</th>\n",
       "      <td>n</td>\n",
       "      <td>107</td>\n",
       "      <td>0.000000</td>\n",
       "    </tr>\n",
       "    <tr>\n",
       "      <th>2019</th>\n",
       "      <td>n</td>\n",
       "      <td>108</td>\n",
       "      <td>0.000000</td>\n",
       "    </tr>\n",
       "    <tr>\n",
       "      <th>2019</th>\n",
       "      <td>n</td>\n",
       "      <td>109</td>\n",
       "      <td>0.000000</td>\n",
       "    </tr>\n",
       "  </tbody>\n",
       "</table>\n",
       "<p>1323800 rows × 3 columns</p>\n",
       "</div>"
      ],
      "text/plain": [
       "             coverage_type  bracket  population_percentage\n",
       "country year                                              \n",
       "ago     1981             n      -94               0.000007\n",
       "        1981             n      -93               0.000009\n",
       "        1981             n      -92               0.000010\n",
       "        1981             n      -91               0.000012\n",
       "        1981             n      -90               0.000014\n",
       "...                    ...      ...                    ...\n",
       "zwe     2019             n      105               0.000000\n",
       "        2019             n      106               0.000000\n",
       "        2019             n      107               0.000000\n",
       "        2019             n      108               0.000000\n",
       "        2019             n      109               0.000000\n",
       "\n",
       "[1323800 rows x 3 columns]"
      ]
     },
     "execution_count": 63,
     "metadata": {},
     "output_type": "execute_result"
    }
   ],
   "source": [
    "shapes"
   ]
  },
  {
   "cell_type": "code",
   "execution_count": 169,
   "id": "def26b36",
   "metadata": {},
   "outputs": [],
   "source": [
    "res4 = []\n",
    "for c in shapes.index.get_level_values('country').unique():\n",
    "    df = shapes.loc[[c]]\n",
    "    for ct in 'naur':\n",
    "        if ct in df['coverage_type'].values:\n",
    "            df_ = df[df['coverage_type'] == ct].copy()\n",
    "            df_ = df_.drop(columns='coverage_type')\n",
    "            res4.append((c, df_))\n",
    "            break"
   ]
  },
  {
   "cell_type": "code",
   "execution_count": 170,
   "id": "8e9c62e9",
   "metadata": {},
   "outputs": [
    {
     "data": {
      "text/plain": [
       "('ago',\n",
       "               bracket  population_percentage\n",
       " country year                                \n",
       " ago     1981      -94           7.153827e-06\n",
       "         1981      -93           8.619550e-06\n",
       "         1981      -92           1.029801e-05\n",
       "         1981      -91           1.214019e-05\n",
       "         1981      -90           1.423205e-05\n",
       " ...               ...                    ...\n",
       "         2019      110           8.389824e-07\n",
       "         2019      111           7.317892e-07\n",
       "         2019      112           6.345291e-07\n",
       "         2019      113           5.463651e-07\n",
       "         2019      114           4.665248e-07\n",
       " \n",
       " [7800 rows x 2 columns])"
      ]
     },
     "execution_count": 170,
     "metadata": {},
     "output_type": "execute_result"
    }
   ],
   "source": [
    "res4[0]"
   ]
  },
  {
   "cell_type": "code",
   "execution_count": 175,
   "id": "d2f03b38",
   "metadata": {},
   "outputs": [
    {
     "name": "stdout",
     "output_type": "stream",
     "text": [
      "('fsm', 1981)\n",
      "('fsm', 1982)\n",
      "('fsm', 1983)\n",
      "('fsm', 1984)\n",
      "('fsm', 1985)\n",
      "('ind', 2018)\n",
      "('ind', 2019)\n",
      "('ind', 2018)\n",
      "('ind', 2019)\n",
      "('ind', 2018)\n",
      "('ind', 2019)\n",
      "('nru', 1981)\n",
      "('nru', 1982)\n",
      "('nru', 1983)\n",
      "('nru', 1984)\n",
      "('nru', 1985)\n",
      "('nru', 1986)\n",
      "('nru', 1987)\n",
      "('nru', 1988)\n",
      "('nru', 1989)\n",
      "('nru', 1990)\n",
      "('nru', 1991)\n",
      "('nru', 1992)\n",
      "('nru', 1993)\n",
      "('nru', 1994)\n",
      "('nru', 1995)\n",
      "('nru', 1996)\n",
      "('nru', 1997)\n",
      "('nru', 1998)\n",
      "('nru', 1999)\n",
      "('nru', 2000)\n",
      "('nru', 2001)\n",
      "('nru', 2002)\n",
      "('nru', 2003)\n",
      "('som', 1981)\n",
      "('som', 1982)\n",
      "('som', 1983)\n",
      "('som', 1984)\n",
      "('som', 1985)\n",
      "('som', 1986)\n",
      "('som', 1987)\n",
      "('som', 1988)\n",
      "('som', 1989)\n",
      "('som', 1990)\n",
      "('som', 1991)\n",
      "('som', 1992)\n",
      "('som', 1993)\n",
      "('som', 1994)\n",
      "('som', 1995)\n",
      "('som', 1996)\n",
      "('som', 1997)\n",
      "('som', 1998)\n",
      "('som', 1999)\n",
      "('som', 2000)\n",
      "('som', 2001)\n",
      "('som', 2002)\n",
      "('som', 2003)\n",
      "('som', 2004)\n",
      "('som', 2005)\n",
      "('som', 2006)\n",
      "('som', 2007)\n",
      "('som', 2008)\n",
      "('som', 2009)\n",
      "('som', 2010)\n",
      "('ssd', 1981)\n",
      "('ssd', 1982)\n",
      "('ssd', 1983)\n",
      "('ssd', 1984)\n",
      "('ssd', 1985)\n",
      "('ssd', 1986)\n",
      "('ssd', 1987)\n",
      "('ssd', 1988)\n",
      "('ssd', 1989)\n",
      "('ssd', 1990)\n",
      "('ssd', 1991)\n",
      "('ssd', 1992)\n",
      "('ssd', 1993)\n",
      "('ssd', 1994)\n",
      "('ssd', 1995)\n",
      "('ssd', 1996)\n",
      "('ssd', 1997)\n",
      "('ssd', 1998)\n",
      "('ssd', 1999)\n",
      "('ssd', 2000)\n",
      "('ssd', 2001)\n",
      "('ssd', 2002)\n",
      "('ssd', 2003)\n",
      "('ssd', 2004)\n",
      "('ssd', 2005)\n",
      "('ssd', 2006)\n",
      "('ssd', 2007)\n",
      "('svk', 1981)\n",
      "('svk', 1982)\n",
      "('svk', 1983)\n",
      "('svk', 1984)\n",
      "('tls', 1981)\n",
      "('tls', 1982)\n",
      "('tls', 1983)\n",
      "('tls', 1984)\n",
      "('tls', 1985)\n",
      "('tls', 1986)\n",
      "('tls', 1987)\n",
      "('tls', 1988)\n",
      "('tls', 1989)\n",
      "('tls', 1990)\n",
      "('tls', 1991)\n",
      "('tls', 1992)\n",
      "('tls', 1993)\n",
      "('tls', 1994)\n",
      "('tls', 1995)\n",
      "('tls', 1996)\n",
      "('tls', 1997)\n",
      "('tls', 1998)\n",
      "('tls', 1999)\n",
      "('tuv', 1981)\n",
      "('tuv', 1982)\n",
      "('tuv', 1983)\n",
      "('tuv', 1984)\n",
      "('tuv', 1985)\n",
      "('tuv', 1986)\n",
      "('tuv', 1987)\n",
      "('tuv', 1988)\n",
      "('tuv', 1989)\n",
      "('twn', 1981)\n",
      "('twn', 1982)\n",
      "('twn', 1983)\n",
      "('twn', 1984)\n",
      "('twn', 1985)\n",
      "('twn', 1986)\n",
      "('twn', 1987)\n",
      "('twn', 1988)\n",
      "('twn', 1989)\n",
      "('twn', 1990)\n",
      "('twn', 1991)\n",
      "('twn', 1992)\n",
      "('twn', 1993)\n",
      "('twn', 1994)\n",
      "('twn', 1995)\n",
      "('twn', 1996)\n",
      "('twn', 1997)\n",
      "('twn', 1998)\n",
      "('twn', 1999)\n",
      "('twn', 2000)\n",
      "('twn', 2001)\n",
      "('twn', 2002)\n",
      "('twn', 2003)\n",
      "('twn', 2004)\n",
      "('twn', 2005)\n",
      "('twn', 2006)\n",
      "('twn', 2007)\n",
      "('twn', 2008)\n",
      "('twn', 2009)\n",
      "('twn', 2010)\n",
      "('twn', 2011)\n",
      "('twn', 2012)\n",
      "('twn', 2013)\n",
      "('twn', 2014)\n",
      "('twn', 2015)\n",
      "('twn', 2016)\n",
      "('twn', 2017)\n",
      "('twn', 2018)\n",
      "('twn', 2019)\n",
      "('ven', 2015)\n",
      "('ven', 2016)\n",
      "('ven', 2017)\n",
      "('ven', 2018)\n",
      "('ven', 2019)\n"
     ]
    }
   ],
   "source": [
    "res5 = []\n",
    "for c, df in res4:\n",
    "    for y in range(1981, 2020):\n",
    "        idx = (c, y)\n",
    "        try:\n",
    "            df2 = df.set_index(['bracket'], append=True).loc[idx]\n",
    "            # print(df2)\n",
    "        except KeyError:\n",
    "            print(idx)\n",
    "            continue\n",
    "        if not df2.empty:\n",
    "            m = shape_to_mountain(df2, idx, income_gini)\n",
    "            if m is not None:\n",
    "                res5.append(m)"
   ]
  },
  {
   "cell_type": "code",
   "execution_count": null,
   "id": "ed4e6d75",
   "metadata": {},
   "outputs": [],
   "source": []
  },
  {
   "cell_type": "code",
   "execution_count": 176,
   "id": "3ae1b9e9",
   "metadata": {},
   "outputs": [],
   "source": [
    "res6 = pd.concat(res5)"
   ]
  },
  {
   "cell_type": "code",
   "execution_count": 177,
   "id": "7ab4f9ec",
   "metadata": {},
   "outputs": [],
   "source": [
    "res6.columns = ['income_mountain']"
   ]
  },
  {
   "cell_type": "code",
   "execution_count": 178,
   "id": "d4fbde07",
   "metadata": {},
   "outputs": [],
   "source": [
    "res7 = pd.concat([res3, res6])"
   ]
  },
  {
   "cell_type": "code",
   "execution_count": 179,
   "id": "c3c38e74",
   "metadata": {},
   "outputs": [
    {
     "data": {
      "text/html": [
       "<div>\n",
       "<style scoped>\n",
       "    .dataframe tbody tr th:only-of-type {\n",
       "        vertical-align: middle;\n",
       "    }\n",
       "\n",
       "    .dataframe tbody tr th {\n",
       "        vertical-align: top;\n",
       "    }\n",
       "\n",
       "    .dataframe thead th {\n",
       "        text-align: right;\n",
       "    }\n",
       "</style>\n",
       "<table border=\"1\" class=\"dataframe\">\n",
       "  <thead>\n",
       "    <tr style=\"text-align: right;\">\n",
       "      <th></th>\n",
       "      <th></th>\n",
       "      <th></th>\n",
       "      <th>income_mountain</th>\n",
       "    </tr>\n",
       "    <tr>\n",
       "      <th>country</th>\n",
       "      <th>year</th>\n",
       "      <th>bracket</th>\n",
       "      <th></th>\n",
       "    </tr>\n",
       "  </thead>\n",
       "  <tbody>\n",
       "    <tr>\n",
       "      <th rowspan=\"5\" valign=\"top\">ago</th>\n",
       "      <th rowspan=\"5\" valign=\"top\">1800</th>\n",
       "      <th>0</th>\n",
       "      <td>2.246166e-06</td>\n",
       "    </tr>\n",
       "    <tr>\n",
       "      <th>1</th>\n",
       "      <td>2.828635e-06</td>\n",
       "    </tr>\n",
       "    <tr>\n",
       "      <th>2</th>\n",
       "      <td>4.246889e-06</td>\n",
       "    </tr>\n",
       "    <tr>\n",
       "      <th>3</th>\n",
       "      <td>4.955077e-06</td>\n",
       "    </tr>\n",
       "    <tr>\n",
       "      <th>4</th>\n",
       "      <td>8.199470e-05</td>\n",
       "    </tr>\n",
       "    <tr>\n",
       "      <th>...</th>\n",
       "      <th>...</th>\n",
       "      <th>...</th>\n",
       "      <td>...</td>\n",
       "    </tr>\n",
       "    <tr>\n",
       "      <th rowspan=\"5\" valign=\"top\">zwe</th>\n",
       "      <th rowspan=\"5\" valign=\"top\">2019</th>\n",
       "      <th>195</th>\n",
       "      <td>1.090947e-07</td>\n",
       "    </tr>\n",
       "    <tr>\n",
       "      <th>196</th>\n",
       "      <td>8.406808e-08</td>\n",
       "    </tr>\n",
       "    <tr>\n",
       "      <th>197</th>\n",
       "      <td>6.417809e-08</td>\n",
       "    </tr>\n",
       "    <tr>\n",
       "      <th>198</th>\n",
       "      <td>4.857008e-08</td>\n",
       "    </tr>\n",
       "    <tr>\n",
       "      <th>199</th>\n",
       "      <td>0.000000e+00</td>\n",
       "    </tr>\n",
       "  </tbody>\n",
       "</table>\n",
       "<p>8047200 rows × 1 columns</p>\n",
       "</div>"
      ],
      "text/plain": [
       "                      income_mountain\n",
       "country year bracket                 \n",
       "ago     1800 0           2.246166e-06\n",
       "             1           2.828635e-06\n",
       "             2           4.246889e-06\n",
       "             3           4.955077e-06\n",
       "             4           8.199470e-05\n",
       "...                               ...\n",
       "zwe     2019 195         1.090947e-07\n",
       "             196         8.406808e-08\n",
       "             197         6.417809e-08\n",
       "             198         4.857008e-08\n",
       "             199         0.000000e+00\n",
       "\n",
       "[8047200 rows x 1 columns]"
      ]
     },
     "execution_count": 179,
     "metadata": {},
     "output_type": "execute_result"
    }
   ],
   "source": [
    "res7"
   ]
  },
  {
   "cell_type": "code",
   "execution_count": 180,
   "id": "d87c156a",
   "metadata": {},
   "outputs": [],
   "source": [
    "res7.to_csv('../wip/income_mountain_200brackets.csv')"
   ]
  },
  {
   "cell_type": "code",
   "execution_count": 153,
   "id": "e46b534d",
   "metadata": {},
   "outputs": [],
   "source": [
    "from ddf_utils.str import format_float_digits\n",
    "formattor = partial(format_float_digits, digits=6)"
   ]
  },
  {
   "cell_type": "code",
   "execution_count": null,
   "id": "ad9ddb8b",
   "metadata": {},
   "outputs": [],
   "source": []
  },
  {
   "cell_type": "code",
   "execution_count": 12,
   "id": "b6cbf008",
   "metadata": {},
   "outputs": [],
   "source": [
    "res7 = pd.read_csv('../wip/income_mountain_200brackets.csv')"
   ]
  },
  {
   "cell_type": "code",
   "execution_count": 13,
   "id": "8b6b2e25",
   "metadata": {},
   "outputs": [],
   "source": [
    "res7 = res7.sort_values(by=['country', 'year', 'bracket'])"
   ]
  },
  {
   "cell_type": "code",
   "execution_count": 14,
   "id": "d1dad04f",
   "metadata": {},
   "outputs": [
    {
     "data": {
      "text/html": [
       "<div>\n",
       "<style scoped>\n",
       "    .dataframe tbody tr th:only-of-type {\n",
       "        vertical-align: middle;\n",
       "    }\n",
       "\n",
       "    .dataframe tbody tr th {\n",
       "        vertical-align: top;\n",
       "    }\n",
       "\n",
       "    .dataframe thead th {\n",
       "        text-align: right;\n",
       "    }\n",
       "</style>\n",
       "<table border=\"1\" class=\"dataframe\">\n",
       "  <thead>\n",
       "    <tr style=\"text-align: right;\">\n",
       "      <th></th>\n",
       "      <th>country</th>\n",
       "      <th>year</th>\n",
       "      <th>bracket</th>\n",
       "      <th>income_mountain</th>\n",
       "    </tr>\n",
       "  </thead>\n",
       "  <tbody>\n",
       "    <tr>\n",
       "      <th>0</th>\n",
       "      <td>ago</td>\n",
       "      <td>1800</td>\n",
       "      <td>0</td>\n",
       "      <td>0.000002</td>\n",
       "    </tr>\n",
       "    <tr>\n",
       "      <th>1</th>\n",
       "      <td>ago</td>\n",
       "      <td>1800</td>\n",
       "      <td>1</td>\n",
       "      <td>0.000003</td>\n",
       "    </tr>\n",
       "    <tr>\n",
       "      <th>2</th>\n",
       "      <td>ago</td>\n",
       "      <td>1800</td>\n",
       "      <td>2</td>\n",
       "      <td>0.000004</td>\n",
       "    </tr>\n",
       "    <tr>\n",
       "      <th>3</th>\n",
       "      <td>ago</td>\n",
       "      <td>1800</td>\n",
       "      <td>3</td>\n",
       "      <td>0.000005</td>\n",
       "    </tr>\n",
       "    <tr>\n",
       "      <th>4</th>\n",
       "      <td>ago</td>\n",
       "      <td>1800</td>\n",
       "      <td>4</td>\n",
       "      <td>0.000082</td>\n",
       "    </tr>\n",
       "    <tr>\n",
       "      <th>...</th>\n",
       "      <td>...</td>\n",
       "      <td>...</td>\n",
       "      <td>...</td>\n",
       "      <td>...</td>\n",
       "    </tr>\n",
       "    <tr>\n",
       "      <th>6731195</th>\n",
       "      <td>zwe</td>\n",
       "      <td>2040</td>\n",
       "      <td>195</td>\n",
       "      <td>0.000008</td>\n",
       "    </tr>\n",
       "    <tr>\n",
       "      <th>6731196</th>\n",
       "      <td>zwe</td>\n",
       "      <td>2040</td>\n",
       "      <td>196</td>\n",
       "      <td>0.000008</td>\n",
       "    </tr>\n",
       "    <tr>\n",
       "      <th>6731197</th>\n",
       "      <td>zwe</td>\n",
       "      <td>2040</td>\n",
       "      <td>197</td>\n",
       "      <td>0.000008</td>\n",
       "    </tr>\n",
       "    <tr>\n",
       "      <th>6731198</th>\n",
       "      <td>zwe</td>\n",
       "      <td>2040</td>\n",
       "      <td>198</td>\n",
       "      <td>0.000008</td>\n",
       "    </tr>\n",
       "    <tr>\n",
       "      <th>6731199</th>\n",
       "      <td>zwe</td>\n",
       "      <td>2040</td>\n",
       "      <td>199</td>\n",
       "      <td>0.000008</td>\n",
       "    </tr>\n",
       "  </tbody>\n",
       "</table>\n",
       "<p>8047200 rows × 4 columns</p>\n",
       "</div>"
      ],
      "text/plain": [
       "        country  year  bracket  income_mountain\n",
       "0           ago  1800        0         0.000002\n",
       "1           ago  1800        1         0.000003\n",
       "2           ago  1800        2         0.000004\n",
       "3           ago  1800        3         0.000005\n",
       "4           ago  1800        4         0.000082\n",
       "...         ...   ...      ...              ...\n",
       "6731195     zwe  2040      195         0.000008\n",
       "6731196     zwe  2040      196         0.000008\n",
       "6731197     zwe  2040      197         0.000008\n",
       "6731198     zwe  2040      198         0.000008\n",
       "6731199     zwe  2040      199         0.000008\n",
       "\n",
       "[8047200 rows x 4 columns]"
      ]
     },
     "execution_count": 14,
     "metadata": {},
     "output_type": "execute_result"
    }
   ],
   "source": [
    "res7"
   ]
  },
  {
   "cell_type": "code",
   "execution_count": 15,
   "id": "adced1fa",
   "metadata": {},
   "outputs": [
    {
     "data": {
      "text/plain": [
       "True"
      ]
     },
     "execution_count": 15,
     "metadata": {},
     "output_type": "execute_result"
    }
   ],
   "source": [
    "np.all(res7['income_mountain'] >= 0)"
   ]
  },
  {
   "cell_type": "code",
   "execution_count": null,
   "id": "86843ec3",
   "metadata": {},
   "outputs": [],
   "source": []
  },
  {
   "cell_type": "code",
   "execution_count": 16,
   "id": "bfed2b17",
   "metadata": {},
   "outputs": [],
   "source": [
    "res8 = res7.iloc[::4]"
   ]
  },
  {
   "cell_type": "code",
   "execution_count": 17,
   "id": "0d2d95ec",
   "metadata": {},
   "outputs": [],
   "source": [
    "res8 = res8.set_index(['country', 'year', 'bracket']).sort_index()"
   ]
  },
  {
   "cell_type": "code",
   "execution_count": 18,
   "id": "fd2b2b6d",
   "metadata": {},
   "outputs": [],
   "source": [
    "res7 = res7.set_index(['country', 'year', 'bracket']).sort_index()"
   ]
  },
  {
   "cell_type": "code",
   "execution_count": 19,
   "id": "54b30827",
   "metadata": {},
   "outputs": [
    {
     "data": {
      "text/plain": [
       "[<matplotlib.lines.Line2D at 0x7fbd4a13e070>]"
      ]
     },
     "execution_count": 19,
     "metadata": {},
     "output_type": "execute_result"
    },
    {
     "data": {
      "image/png": "[encoded data removed]",
      "text/plain": [
       "<Figure size 1960x1176 with 1 Axes>"
      ]
     },
     "metadata": {
      "needs_background": "light"
     },
     "output_type": "display_data"
    }
   ],
   "source": [
    "plt.plot(res7.loc[('sle', 1984)])"
   ]
  },
  {
   "cell_type": "code",
   "execution_count": 20,
   "id": "f737e2fd",
   "metadata": {},
   "outputs": [
    {
     "data": {
      "text/html": [
       "<div>\n",
       "<style scoped>\n",
       "    .dataframe tbody tr th:only-of-type {\n",
       "        vertical-align: middle;\n",
       "    }\n",
       "\n",
       "    .dataframe tbody tr th {\n",
       "        vertical-align: top;\n",
       "    }\n",
       "\n",
       "    .dataframe thead th {\n",
       "        text-align: right;\n",
       "    }\n",
       "</style>\n",
       "<table border=\"1\" class=\"dataframe\">\n",
       "  <thead>\n",
       "    <tr style=\"text-align: right;\">\n",
       "      <th></th>\n",
       "      <th></th>\n",
       "      <th></th>\n",
       "      <th>income_mountain</th>\n",
       "    </tr>\n",
       "    <tr>\n",
       "      <th>country</th>\n",
       "      <th>year</th>\n",
       "      <th>bracket</th>\n",
       "      <th></th>\n",
       "    </tr>\n",
       "  </thead>\n",
       "  <tbody>\n",
       "    <tr>\n",
       "      <th rowspan=\"5\" valign=\"top\">ago</th>\n",
       "      <th rowspan=\"5\" valign=\"top\">1800</th>\n",
       "      <th>0</th>\n",
       "      <td>0.000002</td>\n",
       "    </tr>\n",
       "    <tr>\n",
       "      <th>4</th>\n",
       "      <td>0.000082</td>\n",
       "    </tr>\n",
       "    <tr>\n",
       "      <th>8</th>\n",
       "      <td>0.000088</td>\n",
       "    </tr>\n",
       "    <tr>\n",
       "      <th>12</th>\n",
       "      <td>0.000095</td>\n",
       "    </tr>\n",
       "    <tr>\n",
       "      <th>16</th>\n",
       "      <td>0.000105</td>\n",
       "    </tr>\n",
       "    <tr>\n",
       "      <th>...</th>\n",
       "      <th>...</th>\n",
       "      <th>...</th>\n",
       "      <td>...</td>\n",
       "    </tr>\n",
       "    <tr>\n",
       "      <th rowspan=\"5\" valign=\"top\">zwe</th>\n",
       "      <th rowspan=\"5\" valign=\"top\">2040</th>\n",
       "      <th>180</th>\n",
       "      <td>0.000008</td>\n",
       "    </tr>\n",
       "    <tr>\n",
       "      <th>184</th>\n",
       "      <td>0.000008</td>\n",
       "    </tr>\n",
       "    <tr>\n",
       "      <th>188</th>\n",
       "      <td>0.000009</td>\n",
       "    </tr>\n",
       "    <tr>\n",
       "      <th>192</th>\n",
       "      <td>0.000009</td>\n",
       "    </tr>\n",
       "    <tr>\n",
       "      <th>196</th>\n",
       "      <td>0.000008</td>\n",
       "    </tr>\n",
       "  </tbody>\n",
       "</table>\n",
       "<p>2011800 rows × 1 columns</p>\n",
       "</div>"
      ],
      "text/plain": [
       "                      income_mountain\n",
       "country year bracket                 \n",
       "ago     1800 0               0.000002\n",
       "             4               0.000082\n",
       "             8               0.000088\n",
       "             12              0.000095\n",
       "             16              0.000105\n",
       "...                               ...\n",
       "zwe     2040 180             0.000008\n",
       "             184             0.000008\n",
       "             188             0.000009\n",
       "             192             0.000009\n",
       "             196             0.000008\n",
       "\n",
       "[2011800 rows x 1 columns]"
      ]
     },
     "execution_count": 20,
     "metadata": {},
     "output_type": "execute_result"
    }
   ],
   "source": [
    "res8"
   ]
  },
  {
   "cell_type": "code",
   "execution_count": 21,
   "id": "4541fb36",
   "metadata": {},
   "outputs": [],
   "source": [
    "# next, covert headcount to population "
   ]
  },
  {
   "cell_type": "code",
   "execution_count": 21,
   "id": "9c6a68a0",
   "metadata": {},
   "outputs": [],
   "source": [
    "pop_file = '../../../ddf--gapminder--systema_globalis/countries-etc-datapoints/ddf--datapoints--population_total--by--geo--time.csv'"
   ]
  },
  {
   "cell_type": "code",
   "execution_count": 22,
   "id": "20f5eb37",
   "metadata": {},
   "outputs": [],
   "source": [
    "pop = pd.read_csv(pop_file).set_index(['geo', 'time'])['population_total']"
   ]
  },
  {
   "cell_type": "code",
   "execution_count": 23,
   "id": "f324620b",
   "metadata": {},
   "outputs": [
    {
     "data": {
      "text/plain": [
       "geo  time\n",
       "afg  1800     3280000\n",
       "     1801     3280000\n",
       "     1802     3280000\n",
       "     1803     3280000\n",
       "     1804     3280000\n",
       "               ...   \n",
       "zwe  2096    30940779\n",
       "     2097    30952208\n",
       "     2098    30959811\n",
       "     2099    30964052\n",
       "     2100    30965421\n",
       "Name: population_total, Length: 59297, dtype: int64"
      ]
     },
     "execution_count": 23,
     "metadata": {},
     "output_type": "execute_result"
    }
   ],
   "source": [
    "pop"
   ]
  },
  {
   "cell_type": "code",
   "execution_count": 24,
   "id": "26ccdf4e",
   "metadata": {},
   "outputs": [],
   "source": [
    "res9 = []\n",
    "gs = res8.groupby(['country', 'year'])\n",
    "for g, df in gs:\n",
    "    p = pop.loc[g]\n",
    "    res9.append(df['income_mountain'] * p)"
   ]
  },
  {
   "cell_type": "code",
   "execution_count": 25,
   "id": "410a304a",
   "metadata": {},
   "outputs": [],
   "source": [
    "res10 = pd.concat(res9)"
   ]
  },
  {
   "cell_type": "code",
   "execution_count": 26,
   "id": "3fe1becf",
   "metadata": {},
   "outputs": [
    {
     "data": {
      "text/plain": [
       "country  year  bracket\n",
       "ago      1800  0            3.519805\n",
       "               4          128.487986\n",
       "               8          137.654032\n",
       "               12         149.343571\n",
       "               16         164.314554\n",
       "                             ...    \n",
       "zwe      2040  180        176.616288\n",
       "               184        176.947842\n",
       "               188        183.252512\n",
       "               192        177.948894\n",
       "               196        173.079058\n",
       "Name: income_mountain, Length: 2011800, dtype: float64"
      ]
     },
     "execution_count": 26,
     "metadata": {},
     "output_type": "execute_result"
    }
   ],
   "source": [
    "res10"
   ]
  },
  {
   "cell_type": "code",
   "execution_count": 27,
   "id": "a3953d16",
   "metadata": {},
   "outputs": [
    {
     "data": {
      "text/plain": [
       "bracket\n",
       "0      18885.550879\n",
       "4      19100.459072\n",
       "8      19356.102581\n",
       "12     19594.652663\n",
       "16     19840.289487\n",
       "20     20108.040617\n",
       "24     20411.346986\n",
       "28     20755.443273\n",
       "32     21164.230837\n",
       "36     21646.657573\n",
       "40     22208.927705\n",
       "44     22874.692822\n",
       "48     23656.925365\n",
       "52     24570.666072\n",
       "56     25639.396952\n",
       "60     26851.374595\n",
       "64     28223.609675\n",
       "68     29694.125040\n",
       "72     31167.848533\n",
       "76     32458.236895\n",
       "80     33254.772481\n",
       "84     33115.499392\n",
       "88     31601.301856\n",
       "92     28686.894725\n",
       "96     25206.298521\n",
       "100    22496.656802\n",
       "104    20785.920121\n",
       "108    19814.771940\n",
       "112    17438.684869\n",
       "116    11426.281569\n",
       "120     5640.029731\n",
       "124     2093.805136\n",
       "128      210.252876\n",
       "132      744.456711\n",
       "136     2231.948721\n",
       "140     3813.658424\n",
       "144     5333.507159\n",
       "148     6615.595343\n",
       "152     7806.030938\n",
       "156     9659.034244\n",
       "160    12034.870974\n",
       "164    14304.880923\n",
       "168    16082.825943\n",
       "172    17397.137957\n",
       "176    18243.302326\n",
       "180    18492.618145\n",
       "184    18600.813979\n",
       "188    18639.203569\n",
       "192    18641.692975\n",
       "196    18641.692975\n",
       "Name: income_mountain, dtype: float64"
      ]
     },
     "execution_count": 27,
     "metadata": {},
     "output_type": "execute_result"
    }
   ],
   "source": [
    "# res10[res10 == res10.min()]\n",
    "res10.loc[('sle', 1984)]"
   ]
  },
  {
   "cell_type": "code",
   "execution_count": 28,
   "id": "c5c0462d",
   "metadata": {},
   "outputs": [
    {
     "data": {
      "text/plain": [
       "[<matplotlib.lines.Line2D at 0x7fbd482ff7f0>]"
      ]
     },
     "execution_count": 28,
     "metadata": {},
     "output_type": "execute_result"
    },
    {
     "data": {
      "image/png": "[encoded data removed]",
      "text/plain": [
       "<Figure size 1960x1176 with 1 Axes>"
      ]
     },
     "metadata": {
      "needs_background": "light"
     },
     "output_type": "display_data"
    }
   ],
   "source": [
    "plt.plot(res10.loc[('zwe', 2040)])"
   ]
  },
  {
   "cell_type": "code",
   "execution_count": null,
   "id": "495a0289",
   "metadata": {},
   "outputs": [],
   "source": []
  },
  {
   "cell_type": "code",
   "execution_count": null,
   "id": "26071960",
   "metadata": {},
   "outputs": [],
   "source": []
  },
  {
   "cell_type": "code",
   "execution_count": 29,
   "id": "23da6042",
   "metadata": {},
   "outputs": [],
   "source": [
    "def makeit(ser):\n",
    "    res = ser.copy()\n",
    "    c, y, b = ser.index[0]\n",
    "    if res.min() < 0:    # FIXME:\n",
    "        # print(c, y, end=' ')\n",
    "        # print('has negatives')\n",
    "        res = res - res.min()\n",
    "        res = res / res.sum()\n",
    "    res = res.astype(int).astype(str)\n",
    "    res_combined = ', '.join(res.values)\n",
    "    # print(ser)\n",
    "    # c, y, b = ser.index[0]\n",
    "    return np.array(res_combined)"
   ]
  },
  {
   "cell_type": "code",
   "execution_count": 30,
   "id": "5a3cc983",
   "metadata": {},
   "outputs": [],
   "source": [
    "gs = res10.groupby(['country', 'year'])\n",
    "df = gs.get_group(('ago', 1981))"
   ]
  },
  {
   "cell_type": "code",
   "execution_count": 31,
   "id": "7d692678",
   "metadata": {},
   "outputs": [
    {
     "data": {
      "text/plain": [
       "array('61, 122, 216, 347, 563, 870, 1356, 2047, 3101, 4593, 6838, 9964, 14643, 21457, 31232, 45556, 64029, 87444, 115655, 152815, 198476, 235911, 254022, 240537, 204631, 156598, 109334, 71787, 45035, 28752, 18142, 11937, 7877, 5163, 3362, 2099, 1314, 797, 490, 292, 181, 109, 69, 44, 28, 19, 12, 7, 4, 2',\n",
       "      dtype='<U296')"
      ]
     },
     "execution_count": 31,
     "metadata": {},
     "output_type": "execute_result"
    }
   ],
   "source": [
    "makeit(df)"
   ]
  },
  {
   "cell_type": "code",
   "execution_count": 32,
   "id": "f148e2ca",
   "metadata": {},
   "outputs": [],
   "source": [
    "res11 = res10.groupby(['country', 'year']).apply(makeit)"
   ]
  },
  {
   "cell_type": "code",
   "execution_count": 33,
   "id": "158d3dc5",
   "metadata": {},
   "outputs": [
    {
     "data": {
      "text/plain": [
       "country  year\n",
       "ago      1800    3, 128, 137, 149, 164, 185, 216, 265, 348, 506...\n",
       "         1801    3, 128, 137, 149, 164, 185, 216, 265, 348, 506...\n",
       "         1802    3, 128, 137, 149, 164, 185, 216, 265, 348, 506...\n",
       "         1803    3, 128, 137, 149, 164, 185, 216, 265, 348, 506...\n",
       "         1804    3, 128, 137, 149, 164, 185, 216, 265, 348, 506...\n",
       "                                       ...                        \n",
       "zwe      2036    0, 0, 1, 7, 149, 160, 176, 198, 238, 341, 624,...\n",
       "         2037    0, 0, 1, 8, 159, 172, 189, 213, 254, 362, 652,...\n",
       "         2038    0, 0, 2, 8, 171, 184, 202, 227, 271, 383, 681,...\n",
       "         2039    0, 0, 1, 6, 179, 193, 210, 234, 276, 364, 599,...\n",
       "         2040    0, 0, 1, 6, 191, 205, 224, 249, 293, 384, 626,...\n",
       "Name: income_mountain, Length: 40006, dtype: object"
      ]
     },
     "execution_count": 33,
     "metadata": {},
     "output_type": "execute_result"
    }
   ],
   "source": [
    "res11"
   ]
  },
  {
   "cell_type": "code",
   "execution_count": 34,
   "id": "f54531f6",
   "metadata": {},
   "outputs": [],
   "source": [
    "res11.name = 'income_mountain_50bracket_shape_for_log'"
   ]
  },
  {
   "cell_type": "code",
   "execution_count": 35,
   "id": "94c67650",
   "metadata": {},
   "outputs": [],
   "source": [
    "res11.to_csv('../../ddf--datapoints--income_mountain_50bracket_shape_for_log--by--country--year.csv')"
   ]
  },
  {
   "cell_type": "code",
   "execution_count": null,
   "id": "5566b359",
   "metadata": {},
   "outputs": [],
   "source": []
  },
  {
   "cell_type": "code",
   "execution_count": 152,
   "id": "d49c7250",
   "metadata": {},
   "outputs": [
    {
     "data": {
      "text/plain": [
       "(0.0, 1.0)"
      ]
     },
     "execution_count": 152,
     "metadata": {},
     "output_type": "execute_result"
    }
   ],
   "source": [
    "shapeslib.get_weights(1871)"
   ]
  },
  {
   "cell_type": "code",
   "execution_count": null,
   "id": "4c8da34f",
   "metadata": {},
   "outputs": [],
   "source": []
  },
  {
   "cell_type": "code",
   "execution_count": 122,
   "id": "6449ac89",
   "metadata": {},
   "outputs": [],
   "source": [
    "s = shapeslib.get_shape(('sle', 1983), shapes)"
   ]
  },
  {
   "cell_type": "code",
   "execution_count": 123,
   "id": "cdb83c70",
   "metadata": {},
   "outputs": [
    {
     "data": {
      "text/plain": [
       "1.000002"
      ]
     },
     "execution_count": 123,
     "metadata": {},
     "output_type": "execute_result"
    }
   ],
   "source": [
    "s.sum()"
   ]
  },
  {
   "cell_type": "code",
   "execution_count": 124,
   "id": "e3ea5bd4",
   "metadata": {},
   "outputs": [
    {
     "data": {
      "text/plain": [
       "0.00500001"
      ]
     },
     "execution_count": 124,
     "metadata": {},
     "output_type": "execute_result"
    }
   ],
   "source": [
    "s.mean()"
   ]
  },
  {
   "cell_type": "code",
   "execution_count": 125,
   "id": "5a2897de",
   "metadata": {},
   "outputs": [],
   "source": [
    "s2 = (s - s.min())\n",
    "s2 = s2 / s2.sum()"
   ]
  },
  {
   "cell_type": "code",
   "execution_count": 126,
   "id": "7f057d91",
   "metadata": {},
   "outputs": [
    {
     "data": {
      "text/plain": [
       "1.0"
      ]
     },
     "execution_count": 126,
     "metadata": {},
     "output_type": "execute_result"
    }
   ],
   "source": [
    "s2.sum()"
   ]
  },
  {
   "cell_type": "code",
   "execution_count": null,
   "id": "a028cc77",
   "metadata": {},
   "outputs": [],
   "source": []
  },
  {
   "cell_type": "code",
   "execution_count": 127,
   "id": "5368f961",
   "metadata": {},
   "outputs": [
    {
     "data": {
      "text/plain": [
       "[<matplotlib.lines.Line2D at 0x85af9cc70>]"
      ]
     },
     "execution_count": 127,
     "metadata": {},
     "output_type": "execute_result"
    },
    {
     "data": {
      "image/png": "[encoded data removed]",
      "text/plain": [
       "<Figure size 1960x1176 with 1 Axes>"
      ]
     },
     "metadata": {
      "needs_background": "light"
     },
     "output_type": "display_data"
    }
   ],
   "source": [
    "plt.plot(s2)\n",
    "# plt.plot(s)"
   ]
  },
  {
   "cell_type": "code",
   "execution_count": 76,
   "id": "6f4d0b9b",
   "metadata": {},
   "outputs": [
    {
     "data": {
      "text/plain": [
       "'ago'"
      ]
     },
     "execution_count": 76,
     "metadata": {},
     "output_type": "execute_result"
    }
   ],
   "source": [
    "c"
   ]
  },
  {
   "cell_type": "code",
   "execution_count": 173,
   "id": "e2ae3baa",
   "metadata": {},
   "outputs": [],
   "source": [
    "def shape_to_mountain(shape_, idx, income_gini):\n",
    "    c, y = idx\n",
    "    try:\n",
    "        i, _ = shapeslib.get_income_gini(idx, income_gini)\n",
    "    except KeyError:\n",
    "        print(idx)\n",
    "        return None\n",
    "    bracket = bracket_number_from_income(i)\n",
    "    shape = shape_.copy()\n",
    "    shape.index = shape.index + bracket\n",
    "    res = shape.loc[0:199]\n",
    "    if len(res) != 200:\n",
    "        new_idx = pd.Index(range(200))\n",
    "        res = res.reindex(new_idx, fill_value=0)\n",
    "        \n",
    "    new_idx2 = pd.MultiIndex.from_product([[c], [y], range(200)], names=['country', 'year', 'bracket'])\n",
    "    res.index = new_idx2\n",
    "    return res"
   ]
  },
  {
   "cell_type": "code",
   "execution_count": 129,
   "id": "734158fd",
   "metadata": {},
   "outputs": [],
   "source": [
    "c = res4[0][0]\n",
    "df = res4[0][1].copy()\n",
    "df = df.set_index(['bracket'], append=True)\n",
    "ser = df.loc[(c, 1981)]"
   ]
  },
  {
   "cell_type": "code",
   "execution_count": 130,
   "id": "15baa966",
   "metadata": {},
   "outputs": [
    {
     "data": {
      "text/html": [
       "<div>\n",
       "<style scoped>\n",
       "    .dataframe tbody tr th:only-of-type {\n",
       "        vertical-align: middle;\n",
       "    }\n",
       "\n",
       "    .dataframe tbody tr th {\n",
       "        vertical-align: top;\n",
       "    }\n",
       "\n",
       "    .dataframe thead th {\n",
       "        text-align: right;\n",
       "    }\n",
       "</style>\n",
       "<table border=\"1\" class=\"dataframe\">\n",
       "  <thead>\n",
       "    <tr style=\"text-align: right;\">\n",
       "      <th></th>\n",
       "      <th>population_percentage</th>\n",
       "    </tr>\n",
       "    <tr>\n",
       "      <th>bracket</th>\n",
       "      <th></th>\n",
       "    </tr>\n",
       "  </thead>\n",
       "  <tbody>\n",
       "    <tr>\n",
       "      <th>-94</th>\n",
       "      <td>0.000007</td>\n",
       "    </tr>\n",
       "    <tr>\n",
       "      <th>-93</th>\n",
       "      <td>0.000009</td>\n",
       "    </tr>\n",
       "    <tr>\n",
       "      <th>-92</th>\n",
       "      <td>0.000010</td>\n",
       "    </tr>\n",
       "    <tr>\n",
       "      <th>-91</th>\n",
       "      <td>0.000012</td>\n",
       "    </tr>\n",
       "    <tr>\n",
       "      <th>-90</th>\n",
       "      <td>0.000014</td>\n",
       "    </tr>\n",
       "    <tr>\n",
       "      <th>...</th>\n",
       "      <td>...</td>\n",
       "    </tr>\n",
       "    <tr>\n",
       "      <th>101</th>\n",
       "      <td>0.000000</td>\n",
       "    </tr>\n",
       "    <tr>\n",
       "      <th>102</th>\n",
       "      <td>0.000000</td>\n",
       "    </tr>\n",
       "    <tr>\n",
       "      <th>103</th>\n",
       "      <td>0.000000</td>\n",
       "    </tr>\n",
       "    <tr>\n",
       "      <th>104</th>\n",
       "      <td>0.000000</td>\n",
       "    </tr>\n",
       "    <tr>\n",
       "      <th>105</th>\n",
       "      <td>0.000000</td>\n",
       "    </tr>\n",
       "  </tbody>\n",
       "</table>\n",
       "<p>200 rows × 1 columns</p>\n",
       "</div>"
      ],
      "text/plain": [
       "         population_percentage\n",
       "bracket                       \n",
       "-94                   0.000007\n",
       "-93                   0.000009\n",
       "-92                   0.000010\n",
       "-91                   0.000012\n",
       "-90                   0.000014\n",
       "...                        ...\n",
       " 101                  0.000000\n",
       " 102                  0.000000\n",
       " 103                  0.000000\n",
       " 104                  0.000000\n",
       " 105                  0.000000\n",
       "\n",
       "[200 rows x 1 columns]"
      ]
     },
     "execution_count": 130,
     "metadata": {},
     "output_type": "execute_result"
    }
   ],
   "source": [
    "ser"
   ]
  },
  {
   "cell_type": "code",
   "execution_count": 131,
   "id": "1fd5b6e9",
   "metadata": {},
   "outputs": [
    {
     "data": {
      "text/html": [
       "<div>\n",
       "<style scoped>\n",
       "    .dataframe tbody tr th:only-of-type {\n",
       "        vertical-align: middle;\n",
       "    }\n",
       "\n",
       "    .dataframe tbody tr th {\n",
       "        vertical-align: top;\n",
       "    }\n",
       "\n",
       "    .dataframe thead th {\n",
       "        text-align: right;\n",
       "    }\n",
       "</style>\n",
       "<table border=\"1\" class=\"dataframe\">\n",
       "  <thead>\n",
       "    <tr style=\"text-align: right;\">\n",
       "      <th></th>\n",
       "      <th></th>\n",
       "      <th></th>\n",
       "      <th>population_percentage</th>\n",
       "    </tr>\n",
       "    <tr>\n",
       "      <th>country</th>\n",
       "      <th>year</th>\n",
       "      <th>bracket</th>\n",
       "      <th></th>\n",
       "    </tr>\n",
       "  </thead>\n",
       "  <tbody>\n",
       "    <tr>\n",
       "      <th rowspan=\"11\" valign=\"top\">ago</th>\n",
       "      <th rowspan=\"11\" valign=\"top\">1981</th>\n",
       "      <th>0</th>\n",
       "      <td>0.000007</td>\n",
       "    </tr>\n",
       "    <tr>\n",
       "      <th>1</th>\n",
       "      <td>0.000009</td>\n",
       "    </tr>\n",
       "    <tr>\n",
       "      <th>2</th>\n",
       "      <td>0.000010</td>\n",
       "    </tr>\n",
       "    <tr>\n",
       "      <th>3</th>\n",
       "      <td>0.000012</td>\n",
       "    </tr>\n",
       "    <tr>\n",
       "      <th>4</th>\n",
       "      <td>0.000014</td>\n",
       "    </tr>\n",
       "    <tr>\n",
       "      <th>...</th>\n",
       "      <td>...</td>\n",
       "    </tr>\n",
       "    <tr>\n",
       "      <th>195</th>\n",
       "      <td>0.000000</td>\n",
       "    </tr>\n",
       "    <tr>\n",
       "      <th>196</th>\n",
       "      <td>0.000000</td>\n",
       "    </tr>\n",
       "    <tr>\n",
       "      <th>197</th>\n",
       "      <td>0.000000</td>\n",
       "    </tr>\n",
       "    <tr>\n",
       "      <th>198</th>\n",
       "      <td>0.000000</td>\n",
       "    </tr>\n",
       "    <tr>\n",
       "      <th>199</th>\n",
       "      <td>0.000000</td>\n",
       "    </tr>\n",
       "  </tbody>\n",
       "</table>\n",
       "<p>200 rows × 1 columns</p>\n",
       "</div>"
      ],
      "text/plain": [
       "                      population_percentage\n",
       "country year bracket                       \n",
       "ago     1981 0                     0.000007\n",
       "             1                     0.000009\n",
       "             2                     0.000010\n",
       "             3                     0.000012\n",
       "             4                     0.000014\n",
       "...                                     ...\n",
       "             195                   0.000000\n",
       "             196                   0.000000\n",
       "             197                   0.000000\n",
       "             198                   0.000000\n",
       "             199                   0.000000\n",
       "\n",
       "[200 rows x 1 columns]"
      ]
     },
     "execution_count": 131,
     "metadata": {},
     "output_type": "execute_result"
    }
   ],
   "source": [
    "shape_to_mountain(ser, (c, 1981), income_gini)"
   ]
  },
  {
   "cell_type": "code",
   "execution_count": 132,
   "id": "900d3076",
   "metadata": {},
   "outputs": [
    {
     "data": {
      "text/plain": [
       "[<matplotlib.lines.Line2D at 0x875bbbe50>]"
      ]
     },
     "execution_count": 132,
     "metadata": {},
     "output_type": "execute_result"
    },
    {
     "data": {
      "image/png": "[encoded data removed]",
      "text/plain": [
       "<Figure size 1960x1176 with 1 Axes>"
      ]
     },
     "metadata": {
      "needs_background": "light"
     },
     "output_type": "display_data"
    }
   ],
   "source": [
    "plt.plot(shape_to_mountain(ser, (c, 1981), income_gini).values)"
   ]
  },
  {
   "cell_type": "code",
   "execution_count": 103,
   "id": "ac4d7756",
   "metadata": {},
   "outputs": [],
   "source": [
    "new_idx = pd.MultiIndex.from_product([[c], [y], range(200)], names=['country', 'year', 'bracket'])"
   ]
  },
  {
   "cell_type": "code",
   "execution_count": 104,
   "id": "2473ac49",
   "metadata": {},
   "outputs": [
    {
     "data": {
      "text/plain": [
       "MultiIndex([('ago', 1993,   0),\n",
       "            ('ago', 1993,   1),\n",
       "            ('ago', 1993,   2),\n",
       "            ('ago', 1993,   3),\n",
       "            ('ago', 1993,   4),\n",
       "            ('ago', 1993,   5),\n",
       "            ('ago', 1993,   6),\n",
       "            ('ago', 1993,   7),\n",
       "            ('ago', 1993,   8),\n",
       "            ('ago', 1993,   9),\n",
       "            ...\n",
       "            ('ago', 1993, 190),\n",
       "            ('ago', 1993, 191),\n",
       "            ('ago', 1993, 192),\n",
       "            ('ago', 1993, 193),\n",
       "            ('ago', 1993, 194),\n",
       "            ('ago', 1993, 195),\n",
       "            ('ago', 1993, 196),\n",
       "            ('ago', 1993, 197),\n",
       "            ('ago', 1993, 198),\n",
       "            ('ago', 1993, 199)],\n",
       "           names=['country', 'year', 'bracket'], length=200)"
      ]
     },
     "execution_count": 104,
     "metadata": {},
     "output_type": "execute_result"
    }
   ],
   "source": [
    "new_idx"
   ]
  },
  {
   "cell_type": "code",
   "execution_count": null,
   "id": "2648eed1",
   "metadata": {},
   "outputs": [],
   "source": []
  },
  {
   "cell_type": "code",
   "execution_count": null,
   "id": "25a60935",
   "metadata": {},
   "outputs": [],
   "source": []
  },
  {
   "cell_type": "code",
   "execution_count": 55,
   "id": "34fcabda",
   "metadata": {},
   "outputs": [
    {
     "data": {
      "text/plain": [
       "bracket\n",
       "0      5.250000e-06\n",
       "1      6.750000e-06\n",
       "2      7.500000e-06\n",
       "3      9.000000e-06\n",
       "4      1.074500e-05\n",
       "           ...     \n",
       "195    2.600000e-07\n",
       "196    2.300000e-07\n",
       "197    2.050000e-07\n",
       "198    1.750000e-07\n",
       "199    1.700000e-07\n",
       "Length: 200, dtype: float64"
      ]
     },
     "execution_count": 55,
     "metadata": {},
     "output_type": "execute_result"
    }
   ],
   "source": [
    "i = ('ago', 1946)\n",
    "shapeslib.get_estimated_mountain(i, shapes, income_gini, resample=False) "
   ]
  },
  {
   "cell_type": "code",
   "execution_count": null,
   "id": "58a8a57c",
   "metadata": {},
   "outputs": [],
   "source": []
  }
 ],
 "metadata": {
  "kernelspec": {
   "display_name": "Python 3",
   "language": "python",
   "name": "python3"
  },
  "language_info": {
   "codemirror_mode": {
    "name": "ipython",
    "version": 3
   },
   "file_extension": ".py",
   "mimetype": "text/x-python",
   "name": "python",
   "nbconvert_exporter": "python",
   "pygments_lexer": "ipython3",
   "version": "3.8.10"
  }
 },
 "nbformat": 4,
 "nbformat_minor": 5
}
