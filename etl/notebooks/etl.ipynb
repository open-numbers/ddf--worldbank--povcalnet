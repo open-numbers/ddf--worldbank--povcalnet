{
 "cells": [
  {
   "cell_type": "code",
   "execution_count": 197,
   "metadata": {},
   "outputs": [],
   "source": [
    "import pandas as pd\n",
    "import os"
   ]
  },
  {
   "cell_type": "code",
   "execution_count": 198,
   "metadata": {},
   "outputs": [],
   "source": [
    "source_dir = \"../source\"\n",
    "os.chdir(source_dir)"
   ]
  },
  {
   "cell_type": "code",
   "execution_count": 199,
   "metadata": {},
   "outputs": [],
   "source": [
    "\n",
    "source_files_temp = os.popen('ls -m *.csv', 'r').read().split(',')"
   ]
  },
  {
   "cell_type": "code",
   "execution_count": 200,
   "metadata": {},
   "outputs": [],
   "source": [
    "source_files_map = map(lambda x:x.strip(),source_files_temp)"
   ]
  },
  {
   "cell_type": "code",
   "execution_count": 201,
   "metadata": {},
   "outputs": [],
   "source": [
    "source_files = list(source_files_map)"
   ]
  },
  {
   "cell_type": "code",
   "execution_count": 202,
   "metadata": {},
   "outputs": [
    {
     "data": {
      "text/plain": [
       "['0000.csv',\n",
       " '0001.csv',\n",
       " '0002.csv',\n",
       " '0003.csv',\n",
       " '0004.csv',\n",
       " '0005.csv',\n",
       " '0006.csv',\n",
       " '0007.csv',\n",
       " '0008.csv',\n",
       " '0009.csv',\n",
       " '0010.csv',\n",
       " '0011.csv',\n",
       " '0012.csv',\n",
       " '0013.csv',\n",
       " '0014.csv',\n",
       " '0015.csv',\n",
       " '0016.csv',\n",
       " '0017.csv',\n",
       " '0018.csv',\n",
       " '0019.csv',\n",
       " '0020.csv',\n",
       " '0021.csv',\n",
       " '0022.csv',\n",
       " '0023.csv',\n",
       " '0024.csv',\n",
       " '0025.csv',\n",
       " '0026.csv',\n",
       " '0027.csv',\n",
       " '0028.csv',\n",
       " '0029.csv',\n",
       " '0030.csv',\n",
       " '0031.csv',\n",
       " '0032.csv',\n",
       " '0033.csv',\n",
       " '0034.csv',\n",
       " '0035.csv',\n",
       " '0036.csv',\n",
       " '0037.csv',\n",
       " '0038.csv',\n",
       " '0039.csv',\n",
       " '0040.csv',\n",
       " '0041.csv',\n",
       " '0042.csv',\n",
       " '0043.csv',\n",
       " '0044.csv',\n",
       " '0045.csv',\n",
       " '0046.csv',\n",
       " '0047.csv',\n",
       " '0048.csv',\n",
       " '0049.csv',\n",
       " '0050.csv',\n",
       " '0051.csv',\n",
       " '0052.csv',\n",
       " '0053.csv']"
      ]
     },
     "execution_count": 202,
     "metadata": {},
     "output_type": "execute_result"
    }
   ],
   "source": [
    "source_files"
   ]
  },
  {
   "cell_type": "code",
   "execution_count": 203,
   "metadata": {},
   "outputs": [],
   "source": [
    "df_master = pd.DataFrame()"
   ]
  },
  {
   "cell_type": "code",
   "execution_count": 204,
   "metadata": {},
   "outputs": [],
   "source": [
    "df_bracket_first = pd.read_csv(\"../source/\" + source_files[0],header=0, usecols=['CountryCode','CountryName','CoverageType','RequestYear',\\\n",
    "                                                      'PovertyLine', 'HeadCount','ReqYearPopulation'])"
   ]
  },
  {
   "cell_type": "code",
   "execution_count": 205,
   "metadata": {},
   "outputs": [],
   "source": [
    "df_master = df_master.append(df_bracket_first) #First most Bracket 0.00781 is simply appended to the data without any subtraction\n",
    "del df_bracket_first\n"
   ]
  },
  {
   "cell_type": "code",
   "execution_count": null,
   "metadata": {},
   "outputs": [],
   "source": []
  },
  {
   "cell_type": "code",
   "execution_count": 206,
   "metadata": {},
   "outputs": [],
   "source": [
    "for i in range(1,len(source_files)):    \n",
    "    df_bracket_start = pd.read_csv(\"../source/\" + source_files[i-1],header=0, usecols=['CountryCode','CountryName','CoverageType','RequestYear',\\\n",
    "                                                      'PovertyLine', 'HeadCount','ReqYearPopulation'])\n",
    "    df_bracket_end = pd.read_csv(\"../source/\" + source_files[i],header=0, usecols=['CountryCode','CountryName','CoverageType','RequestYear',\\\n",
    "                                                      'PovertyLine', 'HeadCount','ReqYearPopulation'])\n",
    "    df_bracket_end['HeadCount'] = df_bracket_end['HeadCount'] - df_bracket_start['HeadCount']\n",
    "    \n",
    "    df_master = df_master.append(df_bracket_end)\n",
    "    del df_bracket_start\n",
    "    del df_bracket_end"
   ]
  },
  {
   "cell_type": "code",
   "execution_count": null,
   "metadata": {},
   "outputs": [],
   "source": [
    "    "
   ]
  },
  {
   "cell_type": "code",
   "execution_count": null,
   "metadata": {},
   "outputs": [],
   "source": [
    "    "
   ]
  },
  {
   "cell_type": "code",
   "execution_count": 207,
   "metadata": {},
   "outputs": [],
   "source": [
    "#df_bracket_end['Population'] = df_bracket_end['HeadCount'] * df_bracket_end['ReqYearPopulation'] * 1000000"
   ]
  },
  {
   "cell_type": "code",
   "execution_count": null,
   "metadata": {},
   "outputs": [],
   "source": [
    "    "
   ]
  },
  {
   "cell_type": "code",
   "execution_count": null,
   "metadata": {},
   "outputs": [],
   "source": [
    "    "
   ]
  },
  {
   "cell_type": "code",
   "execution_count": 208,
   "metadata": {},
   "outputs": [
    {
     "name": "stdout",
     "output_type": "stream",
     "text": [
      "<class 'pandas.core.frame.DataFrame'>\n",
      "Int64Index: 358830 entries, 0 to 6644\n",
      "Data columns (total 7 columns):\n",
      " #   Column             Non-Null Count   Dtype  \n",
      "---  ------             --------------   -----  \n",
      " 0   CountryCode        358830 non-null  object \n",
      " 1   CountryName        358830 non-null  object \n",
      " 2   CoverageType       358830 non-null  object \n",
      " 3   RequestYear        358830 non-null  int64  \n",
      " 4   PovertyLine        358830 non-null  float64\n",
      " 5   HeadCount          358506 non-null  float64\n",
      " 6   ReqYearPopulation  358830 non-null  float64\n",
      "dtypes: float64(3), int64(1), object(3)\n",
      "memory usage: 21.9+ MB\n"
     ]
    }
   ],
   "source": [
    "df_master.info()"
   ]
  },
  {
   "cell_type": "code",
   "execution_count": 209,
   "metadata": {},
   "outputs": [
    {
     "data": {
      "text/html": [
       "<div>\n",
       "<style scoped>\n",
       "    .dataframe tbody tr th:only-of-type {\n",
       "        vertical-align: middle;\n",
       "    }\n",
       "\n",
       "    .dataframe tbody tr th {\n",
       "        vertical-align: top;\n",
       "    }\n",
       "\n",
       "    .dataframe thead th {\n",
       "        text-align: right;\n",
       "    }\n",
       "</style>\n",
       "<table border=\"1\" class=\"dataframe\">\n",
       "  <thead>\n",
       "    <tr style=\"text-align: right;\">\n",
       "      <th></th>\n",
       "      <th>CountryCode</th>\n",
       "      <th>CountryName</th>\n",
       "      <th>CoverageType</th>\n",
       "      <th>RequestYear</th>\n",
       "      <th>PovertyLine</th>\n",
       "      <th>HeadCount</th>\n",
       "      <th>ReqYearPopulation</th>\n",
       "    </tr>\n",
       "  </thead>\n",
       "  <tbody>\n",
       "    <tr>\n",
       "      <th>0</th>\n",
       "      <td>ALB</td>\n",
       "      <td>Albania</td>\n",
       "      <td>N</td>\n",
       "      <td>1981</td>\n",
       "      <td>0.00781</td>\n",
       "      <td>0.000000</td>\n",
       "      <td>2.726056</td>\n",
       "    </tr>\n",
       "    <tr>\n",
       "      <th>1</th>\n",
       "      <td>DZA</td>\n",
       "      <td>Algeria</td>\n",
       "      <td>N</td>\n",
       "      <td>1981</td>\n",
       "      <td>0.00781</td>\n",
       "      <td>0.000000</td>\n",
       "      <td>19.824301</td>\n",
       "    </tr>\n",
       "    <tr>\n",
       "      <th>2</th>\n",
       "      <td>AGO</td>\n",
       "      <td>Angola</td>\n",
       "      <td>N</td>\n",
       "      <td>1981</td>\n",
       "      <td>0.00781</td>\n",
       "      <td>0.000000</td>\n",
       "      <td>8.640446</td>\n",
       "    </tr>\n",
       "    <tr>\n",
       "      <th>3</th>\n",
       "      <td>ARG</td>\n",
       "      <td>Argentina</td>\n",
       "      <td>U</td>\n",
       "      <td>1981</td>\n",
       "      <td>0.00781</td>\n",
       "      <td>0.002289</td>\n",
       "      <td>23.609667</td>\n",
       "    </tr>\n",
       "    <tr>\n",
       "      <th>4</th>\n",
       "      <td>ARM</td>\n",
       "      <td>Armenia</td>\n",
       "      <td>N</td>\n",
       "      <td>1981</td>\n",
       "      <td>0.00781</td>\n",
       "      <td>0.000130</td>\n",
       "      <td>3.148096</td>\n",
       "    </tr>\n",
       "    <tr>\n",
       "      <th>...</th>\n",
       "      <td>...</td>\n",
       "      <td>...</td>\n",
       "      <td>...</td>\n",
       "      <td>...</td>\n",
       "      <td>...</td>\n",
       "      <td>...</td>\n",
       "      <td>...</td>\n",
       "    </tr>\n",
       "    <tr>\n",
       "      <th>95</th>\n",
       "      <td>MLI</td>\n",
       "      <td>Mali</td>\n",
       "      <td>N</td>\n",
       "      <td>1981</td>\n",
       "      <td>0.00781</td>\n",
       "      <td>0.000000</td>\n",
       "      <td>7.234728</td>\n",
       "    </tr>\n",
       "    <tr>\n",
       "      <th>96</th>\n",
       "      <td>MLT</td>\n",
       "      <td>Malta</td>\n",
       "      <td>N</td>\n",
       "      <td>1981</td>\n",
       "      <td>0.00781</td>\n",
       "      <td>0.000000</td>\n",
       "      <td>0.318982</td>\n",
       "    </tr>\n",
       "    <tr>\n",
       "      <th>97</th>\n",
       "      <td>MRT</td>\n",
       "      <td>Mauritania</td>\n",
       "      <td>N</td>\n",
       "      <td>1981</td>\n",
       "      <td>0.00781</td>\n",
       "      <td>0.000000</td>\n",
       "      <td>1.586493</td>\n",
       "    </tr>\n",
       "    <tr>\n",
       "      <th>98</th>\n",
       "      <td>MUS</td>\n",
       "      <td>Mauritius</td>\n",
       "      <td>N</td>\n",
       "      <td>1981</td>\n",
       "      <td>0.00781</td>\n",
       "      <td>0.000000</td>\n",
       "      <td>0.980462</td>\n",
       "    </tr>\n",
       "    <tr>\n",
       "      <th>99</th>\n",
       "      <td>MEX</td>\n",
       "      <td>Mexico</td>\n",
       "      <td>N</td>\n",
       "      <td>1981</td>\n",
       "      <td>0.00781</td>\n",
       "      <td>0.000000</td>\n",
       "      <td>69.407624</td>\n",
       "    </tr>\n",
       "  </tbody>\n",
       "</table>\n",
       "<p>100 rows × 7 columns</p>\n",
       "</div>"
      ],
      "text/plain": [
       "   CountryCode CountryName CoverageType  RequestYear  PovertyLine  HeadCount  \\\n",
       "0          ALB     Albania            N         1981      0.00781   0.000000   \n",
       "1          DZA     Algeria            N         1981      0.00781   0.000000   \n",
       "2          AGO      Angola            N         1981      0.00781   0.000000   \n",
       "3          ARG   Argentina            U         1981      0.00781   0.002289   \n",
       "4          ARM     Armenia            N         1981      0.00781   0.000130   \n",
       "..         ...         ...          ...          ...          ...        ...   \n",
       "95         MLI        Mali            N         1981      0.00781   0.000000   \n",
       "96         MLT       Malta            N         1981      0.00781   0.000000   \n",
       "97         MRT  Mauritania            N         1981      0.00781   0.000000   \n",
       "98         MUS   Mauritius            N         1981      0.00781   0.000000   \n",
       "99         MEX      Mexico            N         1981      0.00781   0.000000   \n",
       "\n",
       "    ReqYearPopulation  \n",
       "0            2.726056  \n",
       "1           19.824301  \n",
       "2            8.640446  \n",
       "3           23.609667  \n",
       "4            3.148096  \n",
       "..                ...  \n",
       "95           7.234728  \n",
       "96           0.318982  \n",
       "97           1.586493  \n",
       "98           0.980462  \n",
       "99          69.407624  \n",
       "\n",
       "[100 rows x 7 columns]"
      ]
     },
     "execution_count": 209,
     "metadata": {},
     "output_type": "execute_result"
    }
   ],
   "source": [
    "df_master.head(100)"
   ]
  },
  {
   "cell_type": "code",
   "execution_count": null,
   "metadata": {},
   "outputs": [],
   "source": []
  },
  {
   "cell_type": "code",
   "execution_count": 210,
   "metadata": {},
   "outputs": [],
   "source": [
    "df_master['Population'] = df_master['HeadCount'] * df_master['ReqYearPopulation'] * 1000000"
   ]
  },
  {
   "cell_type": "code",
   "execution_count": 211,
   "metadata": {},
   "outputs": [],
   "source": [
    "df_master.drop(columns=['HeadCount', 'ReqYearPopulation'], inplace=True)"
   ]
  },
  {
   "cell_type": "code",
   "execution_count": 212,
   "metadata": {},
   "outputs": [
    {
     "data": {
      "text/html": [
       "<div>\n",
       "<style scoped>\n",
       "    .dataframe tbody tr th:only-of-type {\n",
       "        vertical-align: middle;\n",
       "    }\n",
       "\n",
       "    .dataframe tbody tr th {\n",
       "        vertical-align: top;\n",
       "    }\n",
       "\n",
       "    .dataframe thead th {\n",
       "        text-align: right;\n",
       "    }\n",
       "</style>\n",
       "<table border=\"1\" class=\"dataframe\">\n",
       "  <thead>\n",
       "    <tr style=\"text-align: right;\">\n",
       "      <th></th>\n",
       "      <th>CountryCode</th>\n",
       "      <th>CountryName</th>\n",
       "      <th>CoverageType</th>\n",
       "      <th>RequestYear</th>\n",
       "      <th>PovertyLine</th>\n",
       "      <th>Population</th>\n",
       "    </tr>\n",
       "  </thead>\n",
       "  <tbody>\n",
       "    <tr>\n",
       "      <th>6635</th>\n",
       "      <td>GBR</td>\n",
       "      <td>United Kingdom</td>\n",
       "      <td>N</td>\n",
       "      <td>2019</td>\n",
       "      <td>12.12573</td>\n",
       "      <td>6.039986e+05</td>\n",
       "    </tr>\n",
       "    <tr>\n",
       "      <th>6636</th>\n",
       "      <td>USA</td>\n",
       "      <td>United States</td>\n",
       "      <td>N</td>\n",
       "      <td>2019</td>\n",
       "      <td>12.12573</td>\n",
       "      <td>1.639018e+06</td>\n",
       "    </tr>\n",
       "    <tr>\n",
       "      <th>6637</th>\n",
       "      <td>URY</td>\n",
       "      <td>Uruguay</td>\n",
       "      <td>N</td>\n",
       "      <td>2019</td>\n",
       "      <td>12.12573</td>\n",
       "      <td>1.898020e+05</td>\n",
       "    </tr>\n",
       "    <tr>\n",
       "      <th>6638</th>\n",
       "      <td>UZB</td>\n",
       "      <td>Uzbekistan</td>\n",
       "      <td>N</td>\n",
       "      <td>2019</td>\n",
       "      <td>12.12573</td>\n",
       "      <td>5.766906e+05</td>\n",
       "    </tr>\n",
       "    <tr>\n",
       "      <th>6639</th>\n",
       "      <td>VUT</td>\n",
       "      <td>Vanuatu</td>\n",
       "      <td>N</td>\n",
       "      <td>2019</td>\n",
       "      <td>12.12573</td>\n",
       "      <td>5.229012e+03</td>\n",
       "    </tr>\n",
       "    <tr>\n",
       "      <th>6640</th>\n",
       "      <td>VNM</td>\n",
       "      <td>Vietnam</td>\n",
       "      <td>N</td>\n",
       "      <td>2019</td>\n",
       "      <td>12.12573</td>\n",
       "      <td>8.692596e+06</td>\n",
       "    </tr>\n",
       "    <tr>\n",
       "      <th>6641</th>\n",
       "      <td>PSE</td>\n",
       "      <td>West Bank and Gaza</td>\n",
       "      <td>N</td>\n",
       "      <td>2019</td>\n",
       "      <td>12.12573</td>\n",
       "      <td>3.827469e+05</td>\n",
       "    </tr>\n",
       "    <tr>\n",
       "      <th>6642</th>\n",
       "      <td>YEM</td>\n",
       "      <td>Yemen, Republic of</td>\n",
       "      <td>N</td>\n",
       "      <td>2019</td>\n",
       "      <td>12.12573</td>\n",
       "      <td>7.158669e+04</td>\n",
       "    </tr>\n",
       "    <tr>\n",
       "      <th>6643</th>\n",
       "      <td>ZMB</td>\n",
       "      <td>Zambia</td>\n",
       "      <td>N</td>\n",
       "      <td>2019</td>\n",
       "      <td>12.12573</td>\n",
       "      <td>1.452548e+05</td>\n",
       "    </tr>\n",
       "    <tr>\n",
       "      <th>6644</th>\n",
       "      <td>ZWE</td>\n",
       "      <td>Zimbabwe</td>\n",
       "      <td>N</td>\n",
       "      <td>2019</td>\n",
       "      <td>12.12573</td>\n",
       "      <td>1.901831e+05</td>\n",
       "    </tr>\n",
       "  </tbody>\n",
       "</table>\n",
       "</div>"
      ],
      "text/plain": [
       "     CountryCode         CountryName CoverageType  RequestYear  PovertyLine  \\\n",
       "6635         GBR      United Kingdom            N         2019     12.12573   \n",
       "6636         USA       United States            N         2019     12.12573   \n",
       "6637         URY             Uruguay            N         2019     12.12573   \n",
       "6638         UZB          Uzbekistan            N         2019     12.12573   \n",
       "6639         VUT             Vanuatu            N         2019     12.12573   \n",
       "6640         VNM             Vietnam            N         2019     12.12573   \n",
       "6641         PSE  West Bank and Gaza            N         2019     12.12573   \n",
       "6642         YEM  Yemen, Republic of            N         2019     12.12573   \n",
       "6643         ZMB              Zambia            N         2019     12.12573   \n",
       "6644         ZWE            Zimbabwe            N         2019     12.12573   \n",
       "\n",
       "        Population  \n",
       "6635  6.039986e+05  \n",
       "6636  1.639018e+06  \n",
       "6637  1.898020e+05  \n",
       "6638  5.766906e+05  \n",
       "6639  5.229012e+03  \n",
       "6640  8.692596e+06  \n",
       "6641  3.827469e+05  \n",
       "6642  7.158669e+04  \n",
       "6643  1.452548e+05  \n",
       "6644  1.901831e+05  "
      ]
     },
     "execution_count": 212,
     "metadata": {},
     "output_type": "execute_result"
    }
   ],
   "source": [
    "df_master.tail(10)"
   ]
  },
  {
   "cell_type": "code",
   "execution_count": 213,
   "metadata": {},
   "outputs": [
    {
     "name": "stdout",
     "output_type": "stream",
     "text": [
      "<class 'pandas.core.frame.DataFrame'>\n",
      "Int64Index: 358830 entries, 0 to 6644\n",
      "Data columns (total 6 columns):\n",
      " #   Column        Non-Null Count   Dtype  \n",
      "---  ------        --------------   -----  \n",
      " 0   CountryCode   358830 non-null  object \n",
      " 1   CountryName   358830 non-null  object \n",
      " 2   CoverageType  358830 non-null  object \n",
      " 3   RequestYear   358830 non-null  int64  \n",
      " 4   PovertyLine   358830 non-null  float64\n",
      " 5   Population    358506 non-null  float64\n",
      "dtypes: float64(2), int64(1), object(3)\n",
      "memory usage: 19.2+ MB\n"
     ]
    }
   ],
   "source": [
    "df_master.info()"
   ]
  },
  {
   "cell_type": "code",
   "execution_count": null,
   "metadata": {},
   "outputs": [],
   "source": []
  }
 ],
 "metadata": {
  "kernelspec": {
   "display_name": "ddf--bp--energy",
   "language": "python",
   "name": "ddf--bp--energy"
  },
  "language_info": {
   "codemirror_mode": {
    "name": "ipython",
    "version": 3
   },
   "file_extension": ".py",
   "mimetype": "text/x-python",
   "name": "python",
   "nbconvert_exporter": "python",
   "pygments_lexer": "ipython3",
   "version": "3.8.5"
  }
 },
 "nbformat": 4,
 "nbformat_minor": 4
}
