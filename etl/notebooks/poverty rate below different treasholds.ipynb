{
 "cells": [
  {
   "cell_type": "code",
   "execution_count": 1,
   "id": "d0559644",
   "metadata": {},
   "outputs": [],
   "source": [
    "import pandas as pd\n",
    "import numpy as np\n",
    "import os\n",
    "import sys\n",
    "sys.path.insert(0, '../scripts/')\n",
    "\n",
    "import matplotlib.pyplot as plt\n",
    "\n",
    "%matplotlib inline"
   ]
  },
  {
   "cell_type": "code",
   "execution_count": 2,
   "id": "62276b0e",
   "metadata": {},
   "outputs": [],
   "source": [
    "plt.rcParams['figure.figsize'] = (10, 6)\n",
    "plt.rcParams['figure.dpi'] = 196"
   ]
  },
  {
   "cell_type": "code",
   "execution_count": 3,
   "id": "ab6438e3",
   "metadata": {},
   "outputs": [],
   "source": [
    "%load_ext autoreload\n",
    "%autoreload 1"
   ]
  },
  {
   "cell_type": "code",
   "execution_count": 4,
   "id": "4c71ca87",
   "metadata": {},
   "outputs": [],
   "source": [
    "%aimport etllib\n",
    "%aimport shapeslib\n",
    "%aimport smoothlib\n",
    "%aimport constants"
   ]
  },
  {
   "cell_type": "code",
   "execution_count": null,
   "id": "7339b1e8",
   "metadata": {},
   "outputs": [],
   "source": []
  },
  {
   "cell_type": "code",
   "execution_count": 5,
   "id": "45d94e29",
   "metadata": {},
   "outputs": [],
   "source": [
    "mountain_ptc = pd.read_csv('../precomputed/ddf--datapoints--income_mountain--by--country--year--bracket_200.csv')"
   ]
  },
  {
   "cell_type": "code",
   "execution_count": 6,
   "id": "32072268",
   "metadata": {},
   "outputs": [],
   "source": [
    "mountain_ptc = mountain_ptc.set_index(['country', 'year', 'bracket'])"
   ]
  },
  {
   "cell_type": "code",
   "execution_count": 7,
   "id": "aa532175",
   "metadata": {},
   "outputs": [],
   "source": [
    "pop_file = '../../../ddf--gapminder--systema_globalis/countries-etc-datapoints/ddf--datapoints--population_total--by--geo--time.csv'\n",
    "pop = pd.read_csv(pop_file).set_index(['geo', 'time'])['population_total']"
   ]
  },
  {
   "cell_type": "code",
   "execution_count": null,
   "id": "a0ebf929",
   "metadata": {},
   "outputs": [],
   "source": []
  },
  {
   "cell_type": "code",
   "execution_count": 8,
   "id": "0360dd24",
   "metadata": {},
   "outputs": [
    {
     "data": {
      "text/html": [
       "<div>\n",
       "<style scoped>\n",
       "    .dataframe tbody tr th:only-of-type {\n",
       "        vertical-align: middle;\n",
       "    }\n",
       "\n",
       "    .dataframe tbody tr th {\n",
       "        vertical-align: top;\n",
       "    }\n",
       "\n",
       "    .dataframe thead th {\n",
       "        text-align: right;\n",
       "    }\n",
       "</style>\n",
       "<table border=\"1\" class=\"dataframe\">\n",
       "  <thead>\n",
       "    <tr style=\"text-align: right;\">\n",
       "      <th></th>\n",
       "      <th></th>\n",
       "      <th></th>\n",
       "      <th>income_mountain</th>\n",
       "    </tr>\n",
       "    <tr>\n",
       "      <th>country</th>\n",
       "      <th>year</th>\n",
       "      <th>bracket</th>\n",
       "      <th></th>\n",
       "    </tr>\n",
       "  </thead>\n",
       "  <tbody>\n",
       "    <tr>\n",
       "      <th rowspan=\"5\" valign=\"top\">afg</th>\n",
       "      <th rowspan=\"5\" valign=\"top\">1800</th>\n",
       "      <th>0</th>\n",
       "      <td>2.386395e-06</td>\n",
       "    </tr>\n",
       "    <tr>\n",
       "      <th>1</th>\n",
       "      <td>2.685107e-06</td>\n",
       "    </tr>\n",
       "    <tr>\n",
       "      <th>2</th>\n",
       "      <td>3.038148e-06</td>\n",
       "    </tr>\n",
       "    <tr>\n",
       "      <th>3</th>\n",
       "      <td>3.438875e-06</td>\n",
       "    </tr>\n",
       "    <tr>\n",
       "      <th>4</th>\n",
       "      <td>3.890295e-06</td>\n",
       "    </tr>\n",
       "    <tr>\n",
       "      <th>...</th>\n",
       "      <th>...</th>\n",
       "      <th>...</th>\n",
       "      <td>...</td>\n",
       "    </tr>\n",
       "    <tr>\n",
       "      <th rowspan=\"5\" valign=\"top\">zwe</th>\n",
       "      <th rowspan=\"5\" valign=\"top\">2050</th>\n",
       "      <th>195</th>\n",
       "      <td>4.703014e-07</td>\n",
       "    </tr>\n",
       "    <tr>\n",
       "      <th>196</th>\n",
       "      <td>3.880885e-07</td>\n",
       "    </tr>\n",
       "    <tr>\n",
       "      <th>197</th>\n",
       "      <td>3.185998e-07</td>\n",
       "    </tr>\n",
       "    <tr>\n",
       "      <th>198</th>\n",
       "      <td>2.601386e-07</td>\n",
       "    </tr>\n",
       "    <tr>\n",
       "      <th>199</th>\n",
       "      <td>2.112494e-07</td>\n",
       "    </tr>\n",
       "  </tbody>\n",
       "</table>\n",
       "<p>9793000 rows × 1 columns</p>\n",
       "</div>"
      ],
      "text/plain": [
       "                      income_mountain\n",
       "country year bracket                 \n",
       "afg     1800 0           2.386395e-06\n",
       "             1           2.685107e-06\n",
       "             2           3.038148e-06\n",
       "             3           3.438875e-06\n",
       "             4           3.890295e-06\n",
       "...                               ...\n",
       "zwe     2050 195         4.703014e-07\n",
       "             196         3.880885e-07\n",
       "             197         3.185998e-07\n",
       "             198         2.601386e-07\n",
       "             199         2.112494e-07\n",
       "\n",
       "[9793000 rows x 1 columns]"
      ]
     },
     "execution_count": 8,
     "metadata": {},
     "output_type": "execute_result"
    }
   ],
   "source": [
    "mountain_ptc"
   ]
  },
  {
   "cell_type": "code",
   "execution_count": 9,
   "id": "3cdb6871",
   "metadata": {},
   "outputs": [
    {
     "data": {
      "text/plain": [
       "geo  time\n",
       "afg  1800     3280000\n",
       "     1801     3280000\n",
       "     1802     3280000\n",
       "     1803     3280000\n",
       "     1804     3280000\n",
       "               ...   \n",
       "zwe  2096    30940779\n",
       "     2097    30952208\n",
       "     2098    30959811\n",
       "     2099    30964052\n",
       "     2100    30965421\n",
       "Name: population_total, Length: 59297, dtype: int64"
      ]
     },
     "execution_count": 9,
     "metadata": {},
     "output_type": "execute_result"
    }
   ],
   "source": [
    "pop"
   ]
  },
  {
   "cell_type": "code",
   "execution_count": null,
   "id": "e86ad5b5",
   "metadata": {},
   "outputs": [],
   "source": []
  },
  {
   "cell_type": "code",
   "execution_count": 10,
   "id": "1728e3e9",
   "metadata": {},
   "outputs": [
    {
     "name": "stdout",
     "output_type": "stream",
     "text": [
      "no population for ('kos', 2000)\n",
      "no population for ('kos', 2001)\n",
      "no population for ('kos', 2002)\n",
      "no population for ('kos', 2003)\n",
      "no population for ('kos', 2004)\n",
      "no population for ('kos', 2005)\n",
      "no population for ('kos', 2006)\n",
      "no population for ('kos', 2007)\n",
      "no population for ('kos', 2008)\n",
      "no population for ('kos', 2009)\n",
      "no population for ('kos', 2010)\n",
      "no population for ('kos', 2011)\n",
      "no population for ('kos', 2012)\n",
      "no population for ('kos', 2013)\n",
      "no population for ('kos', 2014)\n",
      "no population for ('kos', 2015)\n",
      "no population for ('kos', 2016)\n",
      "no population for ('kos', 2017)\n",
      "no population for ('kos', 2018)\n",
      "no population for ('kos', 2019)\n"
     ]
    }
   ],
   "source": [
    "mountain_num = []\n",
    "\n",
    "for g, df in mountain_ptc.groupby(['country', 'year']):\n",
    "    try:\n",
    "        p = pop.loc[g]\n",
    "    except KeyError:\n",
    "        print(f'no population for {g}')\n",
    "        continue\n",
    "    df_new = df * p\n",
    "    df_new['income_mountain'] = np.round(df_new['income_mountain']).astype(int)\n",
    "    mountain_num.append(df_new)"
   ]
  },
  {
   "cell_type": "code",
   "execution_count": 11,
   "id": "dec38375",
   "metadata": {},
   "outputs": [],
   "source": [
    "mountain_num = pd.concat(mountain_num)"
   ]
  },
  {
   "cell_type": "code",
   "execution_count": 12,
   "id": "471c3914",
   "metadata": {},
   "outputs": [
    {
     "data": {
      "text/html": [
       "<div>\n",
       "<style scoped>\n",
       "    .dataframe tbody tr th:only-of-type {\n",
       "        vertical-align: middle;\n",
       "    }\n",
       "\n",
       "    .dataframe tbody tr th {\n",
       "        vertical-align: top;\n",
       "    }\n",
       "\n",
       "    .dataframe thead th {\n",
       "        text-align: right;\n",
       "    }\n",
       "</style>\n",
       "<table border=\"1\" class=\"dataframe\">\n",
       "  <thead>\n",
       "    <tr style=\"text-align: right;\">\n",
       "      <th></th>\n",
       "      <th></th>\n",
       "      <th></th>\n",
       "      <th>income_mountain</th>\n",
       "    </tr>\n",
       "    <tr>\n",
       "      <th>country</th>\n",
       "      <th>year</th>\n",
       "      <th>bracket</th>\n",
       "      <th></th>\n",
       "    </tr>\n",
       "  </thead>\n",
       "  <tbody>\n",
       "    <tr>\n",
       "      <th rowspan=\"5\" valign=\"top\">afg</th>\n",
       "      <th rowspan=\"5\" valign=\"top\">1800</th>\n",
       "      <th>0</th>\n",
       "      <td>8</td>\n",
       "    </tr>\n",
       "    <tr>\n",
       "      <th>1</th>\n",
       "      <td>9</td>\n",
       "    </tr>\n",
       "    <tr>\n",
       "      <th>2</th>\n",
       "      <td>10</td>\n",
       "    </tr>\n",
       "    <tr>\n",
       "      <th>3</th>\n",
       "      <td>11</td>\n",
       "    </tr>\n",
       "    <tr>\n",
       "      <th>4</th>\n",
       "      <td>13</td>\n",
       "    </tr>\n",
       "    <tr>\n",
       "      <th>...</th>\n",
       "      <th>...</th>\n",
       "      <th>...</th>\n",
       "      <td>...</td>\n",
       "    </tr>\n",
       "    <tr>\n",
       "      <th rowspan=\"5\" valign=\"top\">zwe</th>\n",
       "      <th rowspan=\"5\" valign=\"top\">2050</th>\n",
       "      <th>195</th>\n",
       "      <td>11</td>\n",
       "    </tr>\n",
       "    <tr>\n",
       "      <th>196</th>\n",
       "      <td>9</td>\n",
       "    </tr>\n",
       "    <tr>\n",
       "      <th>197</th>\n",
       "      <td>8</td>\n",
       "    </tr>\n",
       "    <tr>\n",
       "      <th>198</th>\n",
       "      <td>6</td>\n",
       "    </tr>\n",
       "    <tr>\n",
       "      <th>199</th>\n",
       "      <td>5</td>\n",
       "    </tr>\n",
       "  </tbody>\n",
       "</table>\n",
       "<p>9789000 rows × 1 columns</p>\n",
       "</div>"
      ],
      "text/plain": [
       "                      income_mountain\n",
       "country year bracket                 \n",
       "afg     1800 0                      8\n",
       "             1                      9\n",
       "             2                     10\n",
       "             3                     11\n",
       "             4                     13\n",
       "...                               ...\n",
       "zwe     2050 195                   11\n",
       "             196                    9\n",
       "             197                    8\n",
       "             198                    6\n",
       "             199                    5\n",
       "\n",
       "[9789000 rows x 1 columns]"
      ]
     },
     "execution_count": 12,
     "metadata": {},
     "output_type": "execute_result"
    }
   ],
   "source": [
    "mountain_num"
   ]
  },
  {
   "cell_type": "code",
   "execution_count": 13,
   "id": "5121f5c4",
   "metadata": {},
   "outputs": [],
   "source": [
    "# mountain_num.to_csv('../precomputed/ddf--datapoints--income_mountain_numbers--by--country--year--bracket_200.csv')"
   ]
  },
  {
   "cell_type": "code",
   "execution_count": null,
   "id": "df25d8f3",
   "metadata": {},
   "outputs": [],
   "source": []
  },
  {
   "cell_type": "code",
   "execution_count": 14,
   "id": "fe7aa984-0115-4a29-9e7e-8631598a203a",
   "metadata": {},
   "outputs": [],
   "source": [
    "gs = mountain_ptc.groupby(['country', 'year'])\n",
    "df = gs.get_group(('ago', 2000))"
   ]
  },
  {
   "cell_type": "code",
   "execution_count": 15,
   "id": "73b063f7",
   "metadata": {},
   "outputs": [],
   "source": [
    "# gapminder levels\n",
    "thresholes = [2, 8, 32]\n",
    "brackets = [etllib.bracket_number_from_income(x) for x in thresholes]\n",
    "\n",
    "def get_on_rates(ser):\n",
    "    res = []\n",
    "    # print(brackets)\n",
    "    res.append(ser.iloc[:brackets[0]].sum())\n",
    "    res.append(ser.iloc[brackets[0]:brackets[1]].sum())\n",
    "    res.append(ser.iloc[brackets[1]:brackets[2]].sum())\n",
    "    res.append(ser.iloc[brackets[2]:].sum())\n",
    "    \n",
    "    res = pd.Series(res)\n",
    "    res.index.name = 'gm_level'\n",
    "    return res"
   ]
  },
  {
   "cell_type": "code",
   "execution_count": 16,
   "id": "aae8a8c7-9e7d-413b-93df-9133f3792325",
   "metadata": {},
   "outputs": [
    {
     "data": {
      "text/plain": [
       "gm_level\n",
       "0    0.398455\n",
       "1    0.482176\n",
       "2    0.106353\n",
       "3    0.013015\n",
       "dtype: float64"
      ]
     },
     "execution_count": 16,
     "metadata": {},
     "output_type": "execute_result"
    }
   ],
   "source": [
    "get_on_rates(df['income_mountain'])"
   ]
  },
  {
   "cell_type": "code",
   "execution_count": 17,
   "id": "f422da1c-d4e5-464d-8ced-2e2cce855425",
   "metadata": {},
   "outputs": [],
   "source": [
    "gm_rate = gs['income_mountain'].apply(get_on_rates)"
   ]
  },
  {
   "cell_type": "code",
   "execution_count": 18,
   "id": "c68cb821-b1ba-4e01-b371-e482b00569a0",
   "metadata": {},
   "outputs": [
    {
     "data": {
      "text/plain": [
       "country  year  gm_level\n",
       "afg      1800  0           0.936293\n",
       "               1           0.060166\n",
       "               2           0.003185\n",
       "               3           0.000345\n",
       "         1801  0           0.936293\n",
       "                             ...   \n",
       "zwe      2049  3           0.026921\n",
       "         2050  0           0.256476\n",
       "               1           0.553199\n",
       "               2           0.163469\n",
       "               3           0.026855\n",
       "Name: income_mountain, Length: 195860, dtype: float64"
      ]
     },
     "execution_count": 18,
     "metadata": {},
     "output_type": "execute_result"
    }
   ],
   "source": [
    "gm_rate"
   ]
  },
  {
   "cell_type": "code",
   "execution_count": 19,
   "id": "380d3c86-9c43-4f39-8e95-675e7b008d2e",
   "metadata": {},
   "outputs": [
    {
     "name": "stdout",
     "output_type": "stream",
     "text": [
      "no population for ('kos', 2000)\n",
      "no population for ('kos', 2001)\n",
      "no population for ('kos', 2002)\n",
      "no population for ('kos', 2003)\n",
      "no population for ('kos', 2004)\n",
      "no population for ('kos', 2005)\n",
      "no population for ('kos', 2006)\n",
      "no population for ('kos', 2007)\n",
      "no population for ('kos', 2008)\n",
      "no population for ('kos', 2009)\n",
      "no population for ('kos', 2010)\n",
      "no population for ('kos', 2011)\n",
      "no population for ('kos', 2012)\n",
      "no population for ('kos', 2013)\n",
      "no population for ('kos', 2014)\n",
      "no population for ('kos', 2015)\n",
      "no population for ('kos', 2016)\n",
      "no population for ('kos', 2017)\n",
      "no population for ('kos', 2018)\n",
      "no population for ('kos', 2019)\n"
     ]
    }
   ],
   "source": [
    "gm_num = []\n",
    "\n",
    "for g, df in gm_rate.groupby(['country', 'year']):\n",
    "    try:\n",
    "        p = pop.loc[g]\n",
    "    except KeyError:\n",
    "        print(f'no population for {g}')\n",
    "        continue\n",
    "    df_new = df * p\n",
    "    df_new = np.round(df_new).astype(int)\n",
    "    gm_num.append(df_new)"
   ]
  },
  {
   "cell_type": "code",
   "execution_count": 20,
   "id": "adae802c-77f6-4064-9f93-a18565ca0e59",
   "metadata": {},
   "outputs": [],
   "source": [
    "gm_num = pd.concat(gm_num)"
   ]
  },
  {
   "cell_type": "code",
   "execution_count": 21,
   "id": "d92c37b9-0d28-437a-8add-4a1d168d32cc",
   "metadata": {},
   "outputs": [
    {
     "data": {
      "text/plain": [
       "country  year  gm_level\n",
       "afg      1800  0            3071040\n",
       "               1             197345\n",
       "               2              10446\n",
       "               3               1132\n",
       "         1801  0            3071040\n",
       "                             ...   \n",
       "zwe      2049  3             637040\n",
       "         2050  0            6142070\n",
       "               1           13247970\n",
       "               2            3914749\n",
       "               3             643116\n",
       "Name: income_mountain, Length: 195780, dtype: int64"
      ]
     },
     "execution_count": 21,
     "metadata": {},
     "output_type": "execute_result"
    }
   ],
   "source": [
    "gm_num"
   ]
  },
  {
   "cell_type": "code",
   "execution_count": 22,
   "id": "6c9cd8fd-3b1d-414d-8050-e2c6fdde9ded",
   "metadata": {},
   "outputs": [],
   "source": [
    "on_map = {\n",
    "    0: 'gm_lvl1',\n",
    "    1: 'gm_lvl2',\n",
    "    2: 'gm_lvl3',\n",
    "    3: 'gm_lvl4'\n",
    "}\n",
    "\n",
    "on_ents = {\n",
    "    'gm_lvl1': '<2$/day',\n",
    "    'gm_lvl2': '2-8$/day',\n",
    "    'gm_lvl3': '8-32$/day',\n",
    "    'gm_lvl4': '>32$/day'\n",
    "}"
   ]
  },
  {
   "cell_type": "code",
   "execution_count": 23,
   "id": "a02d80a3-4a27-444f-8595-664ff45159b2",
   "metadata": {},
   "outputs": [],
   "source": [
    "# new_vals = res1.index.get_level_values('on_level').map(on_map)\n",
    "\n",
    "gm_rate.index = gm_rate.index.set_levels(list(on_map.values()), level='gm_level')"
   ]
  },
  {
   "cell_type": "code",
   "execution_count": 24,
   "id": "f0f72e7f-7da2-4aa9-91c3-1264db172021",
   "metadata": {},
   "outputs": [
    {
     "data": {
      "text/plain": [
       "country  year  gm_level\n",
       "afg      1800  gm_lvl1     0.936293\n",
       "               gm_lvl2     0.060166\n",
       "               gm_lvl3     0.003185\n",
       "               gm_lvl4     0.000345\n",
       "         1801  gm_lvl1     0.936293\n",
       "                             ...   \n",
       "zwe      2049  gm_lvl4     0.026921\n",
       "         2050  gm_lvl1     0.256476\n",
       "               gm_lvl2     0.553199\n",
       "               gm_lvl3     0.163469\n",
       "               gm_lvl4     0.026855\n",
       "Name: income_mountain, Length: 195860, dtype: float64"
      ]
     },
     "execution_count": 24,
     "metadata": {},
     "output_type": "execute_result"
    }
   ],
   "source": [
    "gm_rate"
   ]
  },
  {
   "cell_type": "code",
   "execution_count": 25,
   "id": "b5e1d7b8-1fd4-4f08-880e-128d25a9cc96",
   "metadata": {},
   "outputs": [],
   "source": [
    "gm_num.index = gm_num.index.set_levels(list(on_map.values()), level='gm_level')"
   ]
  },
  {
   "cell_type": "code",
   "execution_count": 26,
   "id": "638b86f5-91ca-4acd-a858-dacd866bfdef",
   "metadata": {},
   "outputs": [
    {
     "data": {
      "text/plain": [
       "country  year  gm_level\n",
       "afg      1800  gm_lvl1      3071040\n",
       "               gm_lvl2       197345\n",
       "               gm_lvl3        10446\n",
       "               gm_lvl4         1132\n",
       "         1801  gm_lvl1      3071040\n",
       "                             ...   \n",
       "zwe      2049  gm_lvl4       637040\n",
       "         2050  gm_lvl1      6142070\n",
       "               gm_lvl2     13247970\n",
       "               gm_lvl3      3914749\n",
       "               gm_lvl4       643116\n",
       "Name: income_mountain, Length: 195780, dtype: int64"
      ]
     },
     "execution_count": 26,
     "metadata": {},
     "output_type": "execute_result"
    }
   ],
   "source": [
    "gm_num"
   ]
  },
  {
   "cell_type": "code",
   "execution_count": 27,
   "id": "e9d9aab3-4a8e-4926-84dd-149321e89c60",
   "metadata": {},
   "outputs": [],
   "source": [
    "gm_rate.index.names = ['country', 'year', 'gm_level']\n",
    "gm_rate.name = 'poverty_rate'"
   ]
  },
  {
   "cell_type": "code",
   "execution_count": 28,
   "id": "60250fed-c207-4ddb-9866-f8530ed48e4d",
   "metadata": {},
   "outputs": [],
   "source": [
    "from ddf_utils.str import format_float_digits\n",
    "from functools import partial"
   ]
  },
  {
   "cell_type": "code",
   "execution_count": 29,
   "id": "86086c89-4d8e-439c-9659-313106ab4244",
   "metadata": {},
   "outputs": [],
   "source": [
    "formattor = partial(format_float_digits, digits=6)"
   ]
  },
  {
   "cell_type": "code",
   "execution_count": 30,
   "id": "557fb38d-f2c2-4588-b96f-c9dc5c52fced",
   "metadata": {},
   "outputs": [],
   "source": [
    "gm_rate_str = gm_rate.map(formattor)"
   ]
  },
  {
   "cell_type": "code",
   "execution_count": 31,
   "id": "ebbed3ce-fd2d-435d-b058-ca231fb8aee3",
   "metadata": {},
   "outputs": [],
   "source": [
    "# !mkdir  ../../poverty_rates"
   ]
  },
  {
   "cell_type": "code",
   "execution_count": 32,
   "id": "6c3263ad-dd3e-439a-9b39-6ea095d6389b",
   "metadata": {},
   "outputs": [],
   "source": [
    "gm_rate_str.to_csv('../../poverty_rates/ddf--datapoints--poverty_rate--by--country--year--gm_level.csv')"
   ]
  },
  {
   "cell_type": "code",
   "execution_count": 33,
   "id": "518e8c00-3d20-4d2b-8c6e-5218fd9740f6",
   "metadata": {},
   "outputs": [],
   "source": [
    "gm_num.index.names = ['country', 'year', 'gm_level']\n",
    "gm_num.name = 'poverty_population'"
   ]
  },
  {
   "cell_type": "code",
   "execution_count": 34,
   "id": "9442324c-d085-4a23-a044-4b49fc3778f0",
   "metadata": {},
   "outputs": [],
   "source": [
    "gm_num.to_csv('../../poverty_rates/ddf--datapoints--poverty_population--by--country--year--gm_level.csv')"
   ]
  },
  {
   "cell_type": "code",
   "execution_count": null,
   "id": "6c819400-1e45-4435-b6b9-4714ba241844",
   "metadata": {},
   "outputs": [],
   "source": []
  },
  {
   "cell_type": "code",
   "execution_count": 35,
   "id": "175c94fe-1793-4c7a-a0c4-a57126fe5a4d",
   "metadata": {},
   "outputs": [],
   "source": [
    "# now estimate levels in owd"
   ]
  },
  {
   "cell_type": "code",
   "execution_count": 36,
   "id": "619a64d7-f856-42a6-b13a-21eff9af968e",
   "metadata": {},
   "outputs": [],
   "source": [
    "# we should use the cumsum of income mountain to estimate!"
   ]
  },
  {
   "cell_type": "code",
   "execution_count": 37,
   "id": "67d067ce-6cf5-41a7-9e5f-ad0b322f281e",
   "metadata": {},
   "outputs": [
    {
     "data": {
      "text/html": [
       "<div>\n",
       "<style scoped>\n",
       "    .dataframe tbody tr th:only-of-type {\n",
       "        vertical-align: middle;\n",
       "    }\n",
       "\n",
       "    .dataframe tbody tr th {\n",
       "        vertical-align: top;\n",
       "    }\n",
       "\n",
       "    .dataframe thead th {\n",
       "        text-align: right;\n",
       "    }\n",
       "</style>\n",
       "<table border=\"1\" class=\"dataframe\">\n",
       "  <thead>\n",
       "    <tr style=\"text-align: right;\">\n",
       "      <th></th>\n",
       "      <th></th>\n",
       "      <th></th>\n",
       "      <th>income_mountain</th>\n",
       "    </tr>\n",
       "    <tr>\n",
       "      <th>country</th>\n",
       "      <th>year</th>\n",
       "      <th>bracket</th>\n",
       "      <th></th>\n",
       "    </tr>\n",
       "  </thead>\n",
       "  <tbody>\n",
       "    <tr>\n",
       "      <th rowspan=\"5\" valign=\"top\">afg</th>\n",
       "      <th rowspan=\"5\" valign=\"top\">1800</th>\n",
       "      <th>0</th>\n",
       "      <td>2.386395e-06</td>\n",
       "    </tr>\n",
       "    <tr>\n",
       "      <th>1</th>\n",
       "      <td>2.685107e-06</td>\n",
       "    </tr>\n",
       "    <tr>\n",
       "      <th>2</th>\n",
       "      <td>3.038148e-06</td>\n",
       "    </tr>\n",
       "    <tr>\n",
       "      <th>3</th>\n",
       "      <td>3.438875e-06</td>\n",
       "    </tr>\n",
       "    <tr>\n",
       "      <th>4</th>\n",
       "      <td>3.890295e-06</td>\n",
       "    </tr>\n",
       "    <tr>\n",
       "      <th>...</th>\n",
       "      <th>...</th>\n",
       "      <th>...</th>\n",
       "      <td>...</td>\n",
       "    </tr>\n",
       "    <tr>\n",
       "      <th rowspan=\"5\" valign=\"top\">zwe</th>\n",
       "      <th rowspan=\"5\" valign=\"top\">2050</th>\n",
       "      <th>195</th>\n",
       "      <td>4.703014e-07</td>\n",
       "    </tr>\n",
       "    <tr>\n",
       "      <th>196</th>\n",
       "      <td>3.880885e-07</td>\n",
       "    </tr>\n",
       "    <tr>\n",
       "      <th>197</th>\n",
       "      <td>3.185998e-07</td>\n",
       "    </tr>\n",
       "    <tr>\n",
       "      <th>198</th>\n",
       "      <td>2.601386e-07</td>\n",
       "    </tr>\n",
       "    <tr>\n",
       "      <th>199</th>\n",
       "      <td>2.112494e-07</td>\n",
       "    </tr>\n",
       "  </tbody>\n",
       "</table>\n",
       "<p>9793000 rows × 1 columns</p>\n",
       "</div>"
      ],
      "text/plain": [
       "                      income_mountain\n",
       "country year bracket                 \n",
       "afg     1800 0           2.386395e-06\n",
       "             1           2.685107e-06\n",
       "             2           3.038148e-06\n",
       "             3           3.438875e-06\n",
       "             4           3.890295e-06\n",
       "...                               ...\n",
       "zwe     2050 195         4.703014e-07\n",
       "             196         3.880885e-07\n",
       "             197         3.185998e-07\n",
       "             198         2.601386e-07\n",
       "             199         2.112494e-07\n",
       "\n",
       "[9793000 rows x 1 columns]"
      ]
     },
     "execution_count": 37,
     "metadata": {},
     "output_type": "execute_result"
    }
   ],
   "source": [
    "mountain_ptc"
   ]
  },
  {
   "cell_type": "code",
   "execution_count": 38,
   "id": "65ec82f7-5219-4655-9166-c995a5394eed",
   "metadata": {},
   "outputs": [],
   "source": [
    "cdf = mountain_ptc.groupby(['country', 'year']).cumsum()"
   ]
  },
  {
   "cell_type": "code",
   "execution_count": 39,
   "id": "4b10e1ce-777f-4ea9-b166-91ff13cc14ad",
   "metadata": {},
   "outputs": [
    {
     "data": {
      "text/html": [
       "<div>\n",
       "<style scoped>\n",
       "    .dataframe tbody tr th:only-of-type {\n",
       "        vertical-align: middle;\n",
       "    }\n",
       "\n",
       "    .dataframe tbody tr th {\n",
       "        vertical-align: top;\n",
       "    }\n",
       "\n",
       "    .dataframe thead th {\n",
       "        text-align: right;\n",
       "    }\n",
       "</style>\n",
       "<table border=\"1\" class=\"dataframe\">\n",
       "  <thead>\n",
       "    <tr style=\"text-align: right;\">\n",
       "      <th></th>\n",
       "      <th></th>\n",
       "      <th></th>\n",
       "      <th>income_mountain</th>\n",
       "    </tr>\n",
       "    <tr>\n",
       "      <th>country</th>\n",
       "      <th>year</th>\n",
       "      <th>bracket</th>\n",
       "      <th></th>\n",
       "    </tr>\n",
       "  </thead>\n",
       "  <tbody>\n",
       "    <tr>\n",
       "      <th rowspan=\"5\" valign=\"top\">afg</th>\n",
       "      <th rowspan=\"5\" valign=\"top\">1800</th>\n",
       "      <th>0</th>\n",
       "      <td>0.000002</td>\n",
       "    </tr>\n",
       "    <tr>\n",
       "      <th>1</th>\n",
       "      <td>0.000005</td>\n",
       "    </tr>\n",
       "    <tr>\n",
       "      <th>2</th>\n",
       "      <td>0.000008</td>\n",
       "    </tr>\n",
       "    <tr>\n",
       "      <th>3</th>\n",
       "      <td>0.000012</td>\n",
       "    </tr>\n",
       "    <tr>\n",
       "      <th>4</th>\n",
       "      <td>0.000015</td>\n",
       "    </tr>\n",
       "    <tr>\n",
       "      <th>...</th>\n",
       "      <th>...</th>\n",
       "      <th>...</th>\n",
       "      <td>...</td>\n",
       "    </tr>\n",
       "    <tr>\n",
       "      <th rowspan=\"5\" valign=\"top\">zwe</th>\n",
       "      <th rowspan=\"5\" valign=\"top\">2050</th>\n",
       "      <th>195</th>\n",
       "      <td>0.999998</td>\n",
       "    </tr>\n",
       "    <tr>\n",
       "      <th>196</th>\n",
       "      <td>0.999999</td>\n",
       "    </tr>\n",
       "    <tr>\n",
       "      <th>197</th>\n",
       "      <td>0.999999</td>\n",
       "    </tr>\n",
       "    <tr>\n",
       "      <th>198</th>\n",
       "      <td>0.999999</td>\n",
       "    </tr>\n",
       "    <tr>\n",
       "      <th>199</th>\n",
       "      <td>0.999999</td>\n",
       "    </tr>\n",
       "  </tbody>\n",
       "</table>\n",
       "<p>9793000 rows × 1 columns</p>\n",
       "</div>"
      ],
      "text/plain": [
       "                      income_mountain\n",
       "country year bracket                 \n",
       "afg     1800 0               0.000002\n",
       "             1               0.000005\n",
       "             2               0.000008\n",
       "             3               0.000012\n",
       "             4               0.000015\n",
       "...                               ...\n",
       "zwe     2050 195             0.999998\n",
       "             196             0.999999\n",
       "             197             0.999999\n",
       "             198             0.999999\n",
       "             199             0.999999\n",
       "\n",
       "[9793000 rows x 1 columns]"
      ]
     },
     "execution_count": 39,
     "metadata": {},
     "output_type": "execute_result"
    }
   ],
   "source": [
    "cdf"
   ]
  },
  {
   "cell_type": "code",
   "execution_count": 40,
   "id": "9b6c5d7c-c02f-4a85-883a-98e1dc7554ca",
   "metadata": {},
   "outputs": [],
   "source": [
    "# owid levels\n",
    "to_estimate = [1.9, 3.2, 5.5, 10]\n",
    "\n",
    "brackets = [etllib.bracket_number_from_income(x) for x in to_estimate]\n",
    "\n",
    "brackets_ = [etllib.bracket_number_from_income(x, integer=False) for x in to_estimate]"
   ]
  },
  {
   "cell_type": "code",
   "execution_count": 41,
   "id": "6d94828e-7b8c-442d-a11a-2134be76a1ed",
   "metadata": {},
   "outputs": [
    {
     "data": {
      "text/plain": [
       "[79, 86, 94, 103]"
      ]
     },
     "execution_count": 41,
     "metadata": {},
     "output_type": "execute_result"
    }
   ],
   "source": [
    "brackets"
   ]
  },
  {
   "cell_type": "code",
   "execution_count": 42,
   "id": "e5e481a4-00b2-46aa-8702-742495b1c0b7",
   "metadata": {},
   "outputs": [
    {
     "data": {
      "text/plain": [
       "[79.25999418556223, 86.78071905112638, 94.59431618637296, 103.21928094887362]"
      ]
     },
     "execution_count": 42,
     "metadata": {},
     "output_type": "execute_result"
    }
   ],
   "source": [
    "brackets_"
   ]
  },
  {
   "cell_type": "code",
   "execution_count": 43,
   "id": "4602e4b7-d028-4954-b837-0958609692ee",
   "metadata": {},
   "outputs": [],
   "source": [
    "gs = cdf.groupby(['country', 'year'])['income_mountain']"
   ]
  },
  {
   "cell_type": "code",
   "execution_count": 44,
   "id": "9fda66f4-2351-4e9b-8bf3-01594962f024",
   "metadata": {},
   "outputs": [],
   "source": [
    "df = gs.get_group(('ago', 2000))"
   ]
  },
  {
   "cell_type": "code",
   "execution_count": 45,
   "id": "0c528ab3-2256-4e33-bb92-7a4266d6e948",
   "metadata": {},
   "outputs": [
    {
     "data": {
      "text/plain": [
       "country  year  bracket\n",
       "ago      2000  78         0.371926\n",
       "               79         0.398455\n",
       "Name: income_mountain, dtype: float64"
      ]
     },
     "execution_count": 45,
     "metadata": {},
     "output_type": "execute_result"
    }
   ],
   "source": [
    "# 79: below 2\n",
    "# 78: below 1.866066\n",
    "df.iloc[[78, 79]]"
   ]
  },
  {
   "cell_type": "code",
   "execution_count": 46,
   "id": "372d110b-db1f-4035-9d66-a69f5443bbfd",
   "metadata": {},
   "outputs": [],
   "source": [
    "a = df.iloc[78]\n",
    "b = df.iloc[79]\n",
    "\n",
    "e = (b - a) * (brackets_[0] - 79)"
   ]
  },
  {
   "cell_type": "code",
   "execution_count": 47,
   "id": "1f7f53a8-bc80-460c-b865-7be79cd79728",
   "metadata": {},
   "outputs": [
    {
     "data": {
      "text/plain": [
       "0.3788230713035825"
      ]
     },
     "execution_count": 47,
     "metadata": {},
     "output_type": "execute_result"
    }
   ],
   "source": [
    "e + a"
   ]
  },
  {
   "cell_type": "code",
   "execution_count": 48,
   "id": "e6eef6d8-2532-4cb1-b546-d465fda15695",
   "metadata": {},
   "outputs": [],
   "source": [
    "# assuming linear function between 2 known brackets.\n",
    "def get_estimate(df, x):\n",
    "    b = int(x)\n",
    "    a = b - 1\n",
    "    \n",
    "    ya = df.iloc[a]\n",
    "    yb = df.iloc[b]\n",
    "    \n",
    "    return (yb - ya) * (x - b) + ya"
   ]
  },
  {
   "cell_type": "code",
   "execution_count": 49,
   "id": "d7cba849-62cf-474c-aa56-ad0e439629eb",
   "metadata": {},
   "outputs": [
    {
     "data": {
      "text/plain": [
       "0.3788230713035825"
      ]
     },
     "execution_count": 49,
     "metadata": {},
     "output_type": "execute_result"
    }
   ],
   "source": [
    "get_estimate(df, brackets_[0])"
   ]
  },
  {
   "cell_type": "code",
   "execution_count": 50,
   "id": "b9aea2d1-9f3a-474d-bb17-bae2149fe583",
   "metadata": {},
   "outputs": [],
   "source": [
    "dec = np.r_[0, [get_estimate(df, x) for x in brackets_], 1]"
   ]
  },
  {
   "cell_type": "code",
   "execution_count": 51,
   "id": "9b9e3497-acbf-4ca7-8703-171ff21bdb6f",
   "metadata": {},
   "outputs": [],
   "source": [
    "dec = pd.Series(dec)"
   ]
  },
  {
   "cell_type": "code",
   "execution_count": 52,
   "id": "1462947c-fb33-456c-b124-c446c6b097f7",
   "metadata": {},
   "outputs": [
    {
     "data": {
      "text/plain": [
       "0    0.378823\n",
       "1    0.214216\n",
       "2    0.196946\n",
       "3    0.126553\n",
       "4    0.083462\n",
       "5         NaN\n",
       "dtype: float64"
      ]
     },
     "execution_count": 52,
     "metadata": {},
     "output_type": "execute_result"
    }
   ],
   "source": [
    "dec.shift(-1) - dec"
   ]
  },
  {
   "cell_type": "code",
   "execution_count": 53,
   "id": "06bd9ebf-d2b7-4a8f-be90-31f3fb4570bd",
   "metadata": {},
   "outputs": [],
   "source": [
    "def get_wb_level(ser):\n",
    "    dec = np.r_[0, [get_estimate(ser, x) for x in brackets_], 1]\n",
    "    dec = pd.Series(dec)\n",
    "    res = dec.shift(-1) - dec\n",
    "    res = res.dropna()\n",
    "    res.index.name = 'wb_level'\n",
    "    return res"
   ]
  },
  {
   "cell_type": "code",
   "execution_count": 54,
   "id": "da86c08a-3f96-49c8-8b51-ab3d76f1f431",
   "metadata": {},
   "outputs": [
    {
     "data": {
      "text/plain": [
       "wb_level\n",
       "0    0.378823\n",
       "1    0.214216\n",
       "2    0.196946\n",
       "3    0.126553\n",
       "4    0.083462\n",
       "dtype: float64"
      ]
     },
     "execution_count": 54,
     "metadata": {},
     "output_type": "execute_result"
    }
   ],
   "source": [
    "get_wb_level(df)"
   ]
  },
  {
   "cell_type": "code",
   "execution_count": 55,
   "id": "f27de84f-4fd1-451c-99f7-0a79ee35b997",
   "metadata": {},
   "outputs": [
    {
     "data": {
      "text/plain": [
       "1.0"
      ]
     },
     "execution_count": 55,
     "metadata": {},
     "output_type": "execute_result"
    }
   ],
   "source": [
    "get_wb_level(df).sum()"
   ]
  },
  {
   "cell_type": "code",
   "execution_count": 56,
   "id": "5c299777-b8b9-4c4f-9118-9460f837cfc3",
   "metadata": {},
   "outputs": [],
   "source": [
    "wb_rates = cdf.groupby(['country', 'year'])['income_mountain'].apply(get_wb_level)"
   ]
  },
  {
   "cell_type": "code",
   "execution_count": 57,
   "id": "55d7eaa1-c34a-45c0-a394-13478d679000",
   "metadata": {},
   "outputs": [
    {
     "data": {
      "text/plain": [
       "country  year  wb_level\n",
       "afg      1800  0           0.928548\n",
       "               1           0.048335\n",
       "               2           0.015658\n",
       "               3           0.005132\n",
       "               4           0.002328\n",
       "                             ...   \n",
       "zwe      2050  0           0.235782\n",
       "               1           0.232126\n",
       "               2           0.226817\n",
       "               3           0.164502\n",
       "               4           0.140772\n",
       "Name: income_mountain, Length: 244825, dtype: float64"
      ]
     },
     "execution_count": 57,
     "metadata": {},
     "output_type": "execute_result"
    }
   ],
   "source": [
    "wb_rates"
   ]
  },
  {
   "cell_type": "code",
   "execution_count": 58,
   "id": "af0bc49c-085b-4331-9e30-f37f2075f3e8",
   "metadata": {},
   "outputs": [],
   "source": [
    "wb_map = {\n",
    "    0: 'wb_lvl1',\n",
    "    1: 'wb_lvl2',\n",
    "    2: 'wb_lvl3',\n",
    "    3: 'wb_lvl4',\n",
    "    4: 'wb_lvl5'\n",
    "}\n",
    "\n",
    "wb_ents = {\n",
    "    'wb_lvl1': '<1.90$/day',\n",
    "    'wb_lvl2': '1.9-3.20$/day',\n",
    "    'wb_lvl3': '3.20-5.50$/day',\n",
    "    'wb_lvl4': '5.50-10$/day',\n",
    "    'wb_lvl5': '>10$/day'\n",
    "}"
   ]
  },
  {
   "cell_type": "code",
   "execution_count": 59,
   "id": "f5a1637a-d90e-4cb6-ab34-5ddc3fb1a848",
   "metadata": {},
   "outputs": [
    {
     "name": "stdout",
     "output_type": "stream",
     "text": [
      "no population for ('kos', 2000)\n",
      "no population for ('kos', 2001)\n",
      "no population for ('kos', 2002)\n",
      "no population for ('kos', 2003)\n",
      "no population for ('kos', 2004)\n",
      "no population for ('kos', 2005)\n",
      "no population for ('kos', 2006)\n",
      "no population for ('kos', 2007)\n",
      "no population for ('kos', 2008)\n",
      "no population for ('kos', 2009)\n",
      "no population for ('kos', 2010)\n",
      "no population for ('kos', 2011)\n",
      "no population for ('kos', 2012)\n",
      "no population for ('kos', 2013)\n",
      "no population for ('kos', 2014)\n",
      "no population for ('kos', 2015)\n",
      "no population for ('kos', 2016)\n",
      "no population for ('kos', 2017)\n",
      "no population for ('kos', 2018)\n",
      "no population for ('kos', 2019)\n"
     ]
    }
   ],
   "source": [
    "wb_num = []\n",
    "\n",
    "for g, df in wb_rates.groupby(['country', 'year']):\n",
    "    try:\n",
    "        p = pop.loc[g]\n",
    "    except KeyError:\n",
    "        print(f'no population for {g}')\n",
    "        continue\n",
    "    df_new = df * p\n",
    "    df_new = np.round(df_new).astype(int)\n",
    "    wb_num.append(df_new)"
   ]
  },
  {
   "cell_type": "code",
   "execution_count": 60,
   "id": "7facca70-9678-4c01-b209-50c1fe63f472",
   "metadata": {},
   "outputs": [],
   "source": [
    "wb_num = pd.concat(wb_num)"
   ]
  },
  {
   "cell_type": "code",
   "execution_count": 61,
   "id": "69c8a993-8179-4e66-813d-357542199725",
   "metadata": {},
   "outputs": [
    {
     "data": {
      "text/plain": [
       "country  year  wb_level\n",
       "afg      1800  0           3045636\n",
       "               1            158538\n",
       "               2             51359\n",
       "               3             16832\n",
       "               4              7636\n",
       "                            ...   \n",
       "zwe      2050  0           5646500\n",
       "               1           5558934\n",
       "               2           5431805\n",
       "               3           3939476\n",
       "               4           3371207\n",
       "Name: income_mountain, Length: 244725, dtype: int64"
      ]
     },
     "execution_count": 61,
     "metadata": {},
     "output_type": "execute_result"
    }
   ],
   "source": [
    "wb_num"
   ]
  },
  {
   "cell_type": "code",
   "execution_count": 62,
   "id": "9b743480-508e-4285-a4c7-ddb5c50c4384",
   "metadata": {},
   "outputs": [],
   "source": [
    "wb_num.index = wb_num.index.set_levels(list(wb_map.values()), level='wb_level')"
   ]
  },
  {
   "cell_type": "code",
   "execution_count": 65,
   "id": "f70113a0-0ac8-45d2-b30e-b04436350667",
   "metadata": {},
   "outputs": [
    {
     "data": {
      "text/plain": [
       "country  year  wb_level\n",
       "afg      1800  wb_lvl1     3045636\n",
       "               wb_lvl2      158538\n",
       "               wb_lvl3       51359\n",
       "               wb_lvl4       16832\n",
       "               wb_lvl5        7636\n",
       "                            ...   \n",
       "zwe      2050  wb_lvl1     5646500\n",
       "               wb_lvl2     5558934\n",
       "               wb_lvl3     5431805\n",
       "               wb_lvl4     3939476\n",
       "               wb_lvl5     3371207\n",
       "Name: income_mountain, Length: 244725, dtype: int64"
      ]
     },
     "execution_count": 65,
     "metadata": {},
     "output_type": "execute_result"
    }
   ],
   "source": [
    "wb_num"
   ]
  },
  {
   "cell_type": "code",
   "execution_count": 66,
   "id": "65f0f410-75bd-4f85-bdbc-52af4e0856c1",
   "metadata": {},
   "outputs": [],
   "source": [
    "wb_num.index.names = ['country', 'year', 'wb_level']\n",
    "wb_num.name = 'poverty_population'"
   ]
  },
  {
   "cell_type": "code",
   "execution_count": 67,
   "id": "fa8199f7-5cb8-4afb-aa67-07cbe83aecc0",
   "metadata": {},
   "outputs": [],
   "source": [
    "wb_num.to_csv('../../poverty_rates/ddf--datapoints--poverty_population--by--country--year--wb_level.csv')"
   ]
  },
  {
   "cell_type": "code",
   "execution_count": 68,
   "id": "05762ef6-f677-478d-b175-f66a9c23e3ce",
   "metadata": {},
   "outputs": [],
   "source": [
    "wb_rates = wb_rates.map(formattor)"
   ]
  },
  {
   "cell_type": "code",
   "execution_count": 69,
   "id": "4ee14ddd-0991-4baf-812c-284ac174078b",
   "metadata": {},
   "outputs": [
    {
     "data": {
      "text/plain": [
       "country  year  wb_level\n",
       "afg      1800  0           0.928548\n",
       "               1           0.048335\n",
       "               2           0.015658\n",
       "               3           0.005132\n",
       "               4           0.002328\n",
       "                             ...   \n",
       "zwe      2050  0           0.235782\n",
       "               1           0.232126\n",
       "               2           0.226817\n",
       "               3           0.164502\n",
       "               4           0.140772\n",
       "Name: income_mountain, Length: 244825, dtype: object"
      ]
     },
     "execution_count": 69,
     "metadata": {},
     "output_type": "execute_result"
    }
   ],
   "source": [
    "wb_rates"
   ]
  },
  {
   "cell_type": "code",
   "execution_count": 70,
   "id": "9c960f2b-b19d-45e8-b56c-e2f5120dc744",
   "metadata": {},
   "outputs": [],
   "source": [
    "wb_rates.index = wb_rates.index.set_levels(list(wb_map.values()), level='wb_level')"
   ]
  },
  {
   "cell_type": "code",
   "execution_count": 71,
   "id": "94be472c-a7b8-41da-ae18-b54a325f3aac",
   "metadata": {},
   "outputs": [],
   "source": [
    "wb_rates.index.names = ['country', 'year', 'wb_level']\n",
    "wb_rates.name = 'poverty_rate'"
   ]
  },
  {
   "cell_type": "code",
   "execution_count": 72,
   "id": "3f61e730-f122-4da5-8e07-dd821de1ed80",
   "metadata": {},
   "outputs": [],
   "source": [
    "wb_rates.to_csv('../../poverty_rates/ddf--datapoints--poverty_rate--by--country--year--wb_level.csv')"
   ]
  },
  {
   "cell_type": "code",
   "execution_count": null,
   "id": "4bc2059a-f368-45c7-ba64-6a6b100ee050",
   "metadata": {},
   "outputs": [],
   "source": []
  },
  {
   "cell_type": "code",
   "execution_count": null,
   "id": "634bc85a-bc8e-4ab5-9fc8-17247ebe334b",
   "metadata": {},
   "outputs": [],
   "source": []
  },
  {
   "cell_type": "code",
   "execution_count": 73,
   "id": "6f9f2cfe-9d3b-4b81-90e6-07212f128885",
   "metadata": {},
   "outputs": [
    {
     "data": {
      "text/plain": [
       "{'gm_lvl1': '<2$/day',\n",
       " 'gm_lvl2': '2-8$/day',\n",
       " 'gm_lvl3': '8-32$/day',\n",
       " 'gm_lvl4': '>32$/day'}"
      ]
     },
     "execution_count": 73,
     "metadata": {},
     "output_type": "execute_result"
    }
   ],
   "source": [
    "on_ents"
   ]
  },
  {
   "cell_type": "code",
   "execution_count": 74,
   "id": "798956f0-0890-48f5-ae40-2a759b7c570b",
   "metadata": {},
   "outputs": [],
   "source": [
    "on_ent = pd.DataFrame.from_dict(on_ents, orient='index')\n",
    "on_ent.index.name = 'gm_level'\n",
    "on_ent.columns = ['name']"
   ]
  },
  {
   "cell_type": "code",
   "execution_count": 75,
   "id": "13081690-9051-4b13-8f87-8bbbc6e3ddde",
   "metadata": {},
   "outputs": [
    {
     "data": {
      "text/html": [
       "<div>\n",
       "<style scoped>\n",
       "    .dataframe tbody tr th:only-of-type {\n",
       "        vertical-align: middle;\n",
       "    }\n",
       "\n",
       "    .dataframe tbody tr th {\n",
       "        vertical-align: top;\n",
       "    }\n",
       "\n",
       "    .dataframe thead th {\n",
       "        text-align: right;\n",
       "    }\n",
       "</style>\n",
       "<table border=\"1\" class=\"dataframe\">\n",
       "  <thead>\n",
       "    <tr style=\"text-align: right;\">\n",
       "      <th></th>\n",
       "      <th>name</th>\n",
       "    </tr>\n",
       "    <tr>\n",
       "      <th>gm_level</th>\n",
       "      <th></th>\n",
       "    </tr>\n",
       "  </thead>\n",
       "  <tbody>\n",
       "    <tr>\n",
       "      <th>gm_lvl1</th>\n",
       "      <td>&lt;2$/day</td>\n",
       "    </tr>\n",
       "    <tr>\n",
       "      <th>gm_lvl2</th>\n",
       "      <td>2-8$/day</td>\n",
       "    </tr>\n",
       "    <tr>\n",
       "      <th>gm_lvl3</th>\n",
       "      <td>8-32$/day</td>\n",
       "    </tr>\n",
       "    <tr>\n",
       "      <th>gm_lvl4</th>\n",
       "      <td>&gt;32$/day</td>\n",
       "    </tr>\n",
       "  </tbody>\n",
       "</table>\n",
       "</div>"
      ],
      "text/plain": [
       "               name\n",
       "gm_level           \n",
       "gm_lvl1     <2$/day\n",
       "gm_lvl2    2-8$/day\n",
       "gm_lvl3   8-32$/day\n",
       "gm_lvl4    >32$/day"
      ]
     },
     "execution_count": 75,
     "metadata": {},
     "output_type": "execute_result"
    }
   ],
   "source": [
    "on_ent"
   ]
  },
  {
   "cell_type": "code",
   "execution_count": 76,
   "id": "2d592c32-a67f-437e-95a1-600743d13159",
   "metadata": {},
   "outputs": [],
   "source": [
    "on_ent.to_csv('../../ddf--entities--gm_level.csv')"
   ]
  },
  {
   "cell_type": "code",
   "execution_count": 77,
   "id": "86ac1f55-8216-4077-82ac-d716dba82139",
   "metadata": {},
   "outputs": [],
   "source": [
    "wb_ent = pd.DataFrame.from_dict(wb_ents, orient='index')\n",
    "wb_ent.index.name = 'wb_level'\n",
    "wb_ent.columns = ['name']"
   ]
  },
  {
   "cell_type": "code",
   "execution_count": 78,
   "id": "b1fea6da-7164-4561-9bbf-7aa0e3edd415",
   "metadata": {},
   "outputs": [
    {
     "data": {
      "text/html": [
       "<div>\n",
       "<style scoped>\n",
       "    .dataframe tbody tr th:only-of-type {\n",
       "        vertical-align: middle;\n",
       "    }\n",
       "\n",
       "    .dataframe tbody tr th {\n",
       "        vertical-align: top;\n",
       "    }\n",
       "\n",
       "    .dataframe thead th {\n",
       "        text-align: right;\n",
       "    }\n",
       "</style>\n",
       "<table border=\"1\" class=\"dataframe\">\n",
       "  <thead>\n",
       "    <tr style=\"text-align: right;\">\n",
       "      <th></th>\n",
       "      <th>name</th>\n",
       "    </tr>\n",
       "    <tr>\n",
       "      <th>wb_level</th>\n",
       "      <th></th>\n",
       "    </tr>\n",
       "  </thead>\n",
       "  <tbody>\n",
       "    <tr>\n",
       "      <th>wb_lvl1</th>\n",
       "      <td>&lt;1.90$/day</td>\n",
       "    </tr>\n",
       "    <tr>\n",
       "      <th>wb_lvl2</th>\n",
       "      <td>1.9-3.20$/day</td>\n",
       "    </tr>\n",
       "    <tr>\n",
       "      <th>wb_lvl3</th>\n",
       "      <td>3.20-5.50$/day</td>\n",
       "    </tr>\n",
       "    <tr>\n",
       "      <th>wb_lvl4</th>\n",
       "      <td>5.50-10$/day</td>\n",
       "    </tr>\n",
       "    <tr>\n",
       "      <th>wb_lvl5</th>\n",
       "      <td>&gt;10$/day</td>\n",
       "    </tr>\n",
       "  </tbody>\n",
       "</table>\n",
       "</div>"
      ],
      "text/plain": [
       "                    name\n",
       "wb_level                \n",
       "wb_lvl1       <1.90$/day\n",
       "wb_lvl2    1.9-3.20$/day\n",
       "wb_lvl3   3.20-5.50$/day\n",
       "wb_lvl4     5.50-10$/day\n",
       "wb_lvl5         >10$/day"
      ]
     },
     "execution_count": 78,
     "metadata": {},
     "output_type": "execute_result"
    }
   ],
   "source": [
    "wb_ent"
   ]
  },
  {
   "cell_type": "code",
   "execution_count": 79,
   "id": "6dde58b0-744f-40ae-9ab6-5524198893c4",
   "metadata": {},
   "outputs": [],
   "source": [
    "wb_ent.to_csv('../../ddf--entities--wb_level.csv')"
   ]
  },
  {
   "cell_type": "code",
   "execution_count": null,
   "id": "164e6075-3cac-4cbd-8af2-c973c32ad88f",
   "metadata": {},
   "outputs": [],
   "source": []
  }
 ],
 "metadata": {
  "kernelspec": {
   "display_name": "Python 3 (ipykernel)",
   "language": "python",
   "name": "python3"
  },
  "language_info": {
   "codemirror_mode": {
    "name": "ipython",
    "version": 3
   },
   "file_extension": ".py",
   "mimetype": "text/x-python",
   "name": "python",
   "nbconvert_exporter": "python",
   "pygments_lexer": "ipython3",
   "version": "3.10.1"
  }
 },
 "nbformat": 4,
 "nbformat_minor": 5
}
