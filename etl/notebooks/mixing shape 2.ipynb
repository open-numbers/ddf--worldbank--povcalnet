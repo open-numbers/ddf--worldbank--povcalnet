{
 "cells": [
  {
   "cell_type": "code",
   "execution_count": 1,
   "id": "4344688e",
   "metadata": {},
   "outputs": [],
   "source": [
    "import pandas as pd\n",
    "import numpy as np\n",
    "import sys\n",
    "sys.path.insert(0, '../scripts/')\n",
    "\n",
    "import matplotlib.pyplot as plt\n",
    "\n",
    "%matplotlib inline"
   ]
  },
  {
   "cell_type": "code",
   "execution_count": 2,
   "id": "58d246ea",
   "metadata": {},
   "outputs": [],
   "source": [
    "plt.rcParams['figure.figsize'] = (10, 6)\n",
    "plt.rcParams['figure.dpi'] = 196"
   ]
  },
  {
   "cell_type": "code",
   "execution_count": 3,
   "id": "697a48d0",
   "metadata": {},
   "outputs": [],
   "source": [
    "%load_ext autoreload\n",
    "%autoreload 1"
   ]
  },
  {
   "cell_type": "code",
   "execution_count": 21,
   "id": "e2cbd270",
   "metadata": {},
   "outputs": [],
   "source": [
    "%aimport shapeslib\n",
    "%aimport etllib\n",
    "%aimport constants\n"
   ]
  },
  {
   "cell_type": "code",
   "execution_count": 5,
   "id": "5e64899b",
   "metadata": {},
   "outputs": [],
   "source": [
    "shapes_file = '../wip/smoothshape/ddf--datapoints--population_percentage--by--country--year--coverage_type--bracket.csv'\n",
    "known_shapes = pd.read_csv(shapes_file)"
   ]
  },
  {
   "cell_type": "code",
   "execution_count": 6,
   "id": "317c2b46",
   "metadata": {},
   "outputs": [],
   "source": [
    "# create a sorted version\n",
    "shapes = known_shapes.set_index(['country', 'year']).sort_index()"
   ]
  },
  {
   "cell_type": "code",
   "execution_count": 7,
   "id": "47e9f885",
   "metadata": {},
   "outputs": [],
   "source": [
    "income_file = '../../../ddf--gapminder--fasttrack/ddf--datapoints--mincpcap_cppp--by--country--time.csv'\n",
    "gini_file =  '../../../ddf--gapminder--fasttrack/ddf--datapoints--gini--by--country--time.csv'"
   ]
  },
  {
   "cell_type": "code",
   "execution_count": 10,
   "id": "8a4661b8",
   "metadata": {},
   "outputs": [],
   "source": [
    "bracket_number_from_income = etllib.bracket_number_from_income"
   ]
  },
  {
   "cell_type": "code",
   "execution_count": 11,
   "id": "5a36e69d",
   "metadata": {},
   "outputs": [],
   "source": [
    "income = pd.read_csv(income_file).set_index(['country', 'time'])\n",
    "gini = pd.read_csv(gini_file).set_index(['country', 'time'])\n",
    "\n",
    "income.index.names = ['country', 'year']\n",
    "gini.index.names = ['country', 'year']\n",
    "\n",
    "income.columns = ['income']\n",
    "gini.columns = ['gini']"
   ]
  },
  {
   "cell_type": "code",
   "execution_count": 12,
   "id": "56a427c5",
   "metadata": {},
   "outputs": [],
   "source": [
    "income_gini = pd.concat([income, gini], axis=1)"
   ]
  },
  {
   "cell_type": "code",
   "execution_count": 13,
   "id": "caa078dd",
   "metadata": {},
   "outputs": [],
   "source": [
    "income_gini = income_gini.dropna(how='any').sort_index()"
   ]
  },
  {
   "cell_type": "code",
   "execution_count": 14,
   "id": "014ee370",
   "metadata": {},
   "outputs": [],
   "source": [
    "shapes_noc = shapes.copy()\n",
    "shapes_noc = shapes_noc.set_index(['bracket'], append=True)"
   ]
  },
  {
   "cell_type": "code",
   "execution_count": 15,
   "id": "864e50b9",
   "metadata": {},
   "outputs": [],
   "source": [
    "def applyfunc(ser):\n",
    "    for c in 'naur':\n",
    "        if c in ser['coverage_type'].values:\n",
    "            return ser[ser['coverage_type'] == c]['population_percentage']"
   ]
  },
  {
   "cell_type": "code",
   "execution_count": 16,
   "id": "0fffc809",
   "metadata": {},
   "outputs": [],
   "source": [
    "shapes_noc2 = shapes_noc.groupby(['country', 'year'], as_index=False).apply(applyfunc)\n",
    "shapes_noc2 = shapes_noc2.reset_index(level=0, drop=True).sort_index()"
   ]
  },
  {
   "cell_type": "code",
   "execution_count": 17,
   "id": "643e0c21",
   "metadata": {},
   "outputs": [],
   "source": [
    "shapes_noc3 = shapes_noc2.reset_index()\n",
    "shapes_noc3 = shapes_noc3.set_index(['country', 'year'])"
   ]
  },
  {
   "cell_type": "code",
   "execution_count": 18,
   "id": "ea18c057",
   "metadata": {},
   "outputs": [],
   "source": [
    "shapes_noc4 = shapes_noc2.reset_index()\n",
    "shapes_noc4['country-year'] = list(zip(shapes_noc4['country'].values, shapes_noc4['year'].values))\n",
    "shapes_noc4 = shapes_noc4.set_index(['country-year', 'bracket'])['population_percentage']"
   ]
  },
  {
   "cell_type": "code",
   "execution_count": 36,
   "id": "9b567745",
   "metadata": {},
   "outputs": [
    {
     "data": {
      "text/plain": [
       "country-year  bracket\n",
       "(ago, 1981)   -94        7.153827e-06\n",
       "              -93        8.619550e-06\n",
       "              -92        1.029801e-05\n",
       "              -91        1.214019e-05\n",
       "              -90        1.423205e-05\n",
       "                             ...     \n",
       "(zwe, 2019)    105       1.402410e-07\n",
       "               106       1.090947e-07\n",
       "               107       8.406808e-08\n",
       "               108       6.417809e-08\n",
       "               109       4.857008e-08\n",
       "Name: population_percentage, Length: 1277800, dtype: float64"
      ]
     },
     "execution_count": 36,
     "metadata": {},
     "output_type": "execute_result"
    }
   ],
   "source": [
    "shapes_noc4"
   ]
  },
  {
   "cell_type": "code",
   "execution_count": 37,
   "id": "6bcca0dd",
   "metadata": {},
   "outputs": [
    {
     "data": {
      "text/plain": [
       "country  year  bracket\n",
       "ago      1981  -94        7.153827e-06\n",
       "               -93        8.619550e-06\n",
       "               -92        1.029801e-05\n",
       "               -91        1.214019e-05\n",
       "               -90        1.423205e-05\n",
       "                              ...     \n",
       "zwe      2019   105       1.402410e-07\n",
       "                106       1.090947e-07\n",
       "                107       8.406808e-08\n",
       "                108       6.417809e-08\n",
       "                109       4.857008e-08\n",
       "Name: population_percentage, Length: 1277800, dtype: float64"
      ]
     },
     "execution_count": 37,
     "metadata": {},
     "output_type": "execute_result"
    }
   ],
   "source": [
    "shapes_noc2"
   ]
  },
  {
   "cell_type": "code",
   "execution_count": null,
   "id": "79bb422c",
   "metadata": {},
   "outputs": [],
   "source": []
  },
  {
   "cell_type": "code",
   "execution_count": 22,
   "id": "0e29c21c",
   "metadata": {},
   "outputs": [],
   "source": [
    "all_years = set(range(1800, 2051))\n",
    "all_weights = dict([(x, constants.get_weights(x)) for x in all_years])"
   ]
  },
  {
   "cell_type": "code",
   "execution_count": null,
   "id": "03c8b89f",
   "metadata": {},
   "outputs": [],
   "source": []
  },
  {
   "cell_type": "code",
   "execution_count": 23,
   "id": "879067bc",
   "metadata": {},
   "outputs": [],
   "source": [
    "from multiprocessing import Pool\n",
    "import json\n",
    "from functools import partial"
   ]
  },
  {
   "cell_type": "code",
   "execution_count": 24,
   "id": "57e3673c",
   "metadata": {},
   "outputs": [],
   "source": [
    "fp = open('../wip/neighbours_list.json', 'r')\n",
    "all_neighbours_json = json.load(fp)"
   ]
  },
  {
   "cell_type": "code",
   "execution_count": 103,
   "id": "6b5c828b",
   "metadata": {},
   "outputs": [],
   "source": [
    "def get_average_shape(c, y, shapes, neighbours):\n",
    "    y = str(y)\n",
    "    nei = neighbours[c][y]['neighbours']\n",
    "    nei = [tuple(x) for x in nei]\n",
    "    return shapes.loc[shapes.index.get_level_values(0).isin(nei)].groupby('bracket').sum() / 50"
   ]
  },
  {
   "cell_type": "code",
   "execution_count": 104,
   "id": "568500bc",
   "metadata": {},
   "outputs": [
    {
     "name": "stdout",
     "output_type": "stream",
     "text": [
      "55.8 ms ± 183 µs per loop (mean ± std. dev. of 7 runs, 10 loops each)\n"
     ]
    }
   ],
   "source": [
    "%%timeit\n",
    "\n",
    "get_average_shape('ago', 1800, shapes_noc4, all_neighbours_json)"
   ]
  },
  {
   "cell_type": "code",
   "execution_count": null,
   "id": "ebdf82c6",
   "metadata": {},
   "outputs": [],
   "source": []
  },
  {
   "cell_type": "code",
   "execution_count": 63,
   "id": "38cf90f8",
   "metadata": {},
   "outputs": [],
   "source": [
    "def mask_shape(idx, check_list):\n",
    "    mask = []\n",
    "    for x in idx:\n",
    "        val = [x[0], x[1]]  # [country, year]\n",
    "        if val in check_list:\n",
    "            mask.append(True)\n",
    "        else:\n",
    "            mask.append(False)\n",
    "    return mask"
   ]
  },
  {
   "cell_type": "code",
   "execution_count": 84,
   "id": "303c1560",
   "metadata": {},
   "outputs": [],
   "source": [
    "def mask_shape2(idx, check_list):\n",
    "    # cl = [tuple(x) for x in check_list]\n",
    "    return idx.isin(check_list)"
   ]
  },
  {
   "cell_type": "code",
   "execution_count": 94,
   "id": "a4a8fc9b",
   "metadata": {},
   "outputs": [],
   "source": [
    "def mask_shape3(idx, check_list):\n",
    "    # cl = [tuple(x) for x in check_list]\n",
    "    return idx.map(lambda x: x in check_list)"
   ]
  },
  {
   "cell_type": "code",
   "execution_count": 66,
   "id": "98798339",
   "metadata": {},
   "outputs": [
    {
     "data": {
      "text/plain": [
       "[['sle', 1999],\n",
       " ['sle', 2000],\n",
       " ['sle', 1998],\n",
       " ['bdi', 1997],\n",
       " ['sle', 2001],\n",
       " ['sle', 1997],\n",
       " ['sle', 1996],\n",
       " ['sle', 1995],\n",
       " ['sle', 2002],\n",
       " ['sle', 1994],\n",
       " ['bdi', 1999],\n",
       " ['ner', 2006],\n",
       " ['mwi', 2005],\n",
       " ['sle', 1993],\n",
       " ['mdg', 2006],\n",
       " ['rwa', 1994],\n",
       " ['mdg', 2007],\n",
       " ['mdg', 1996],\n",
       " ['sle', 2003],\n",
       " ['sle', 1992],\n",
       " ['mli', 2000],\n",
       " ['ben', 1989],\n",
       " ['btn', 1981],\n",
       " ['btn', 1982],\n",
       " ['btn', 1983],\n",
       " ['bdi', 2000],\n",
       " ['btn', 1984],\n",
       " ['uga', 1993],\n",
       " ['btn', 1985],\n",
       " ['ben', 1990],\n",
       " ['uga', 1997],\n",
       " ['uga', 1994],\n",
       " ['ben', 1988],\n",
       " ['gin', 2005],\n",
       " ['ben', 1991],\n",
       " ['nga', 1987],\n",
       " ['mdg', 2005],\n",
       " ['btn', 1986],\n",
       " ['sle', 1991],\n",
       " ['gnb', 2005],\n",
       " ['ner', 1994],\n",
       " ['ben', 1987],\n",
       " ['ben', 1992],\n",
       " ['mdg', 2008],\n",
       " ['nga', 2004],\n",
       " ['mwi', 2004],\n",
       " ['tza', 2007],\n",
       " ['eth', 1996],\n",
       " ['gin', 2006],\n",
       " ['nga', 2005]]"
      ]
     },
     "execution_count": 66,
     "metadata": {},
     "output_type": "execute_result"
    }
   ],
   "source": [
    "nei"
   ]
  },
  {
   "cell_type": "code",
   "execution_count": 75,
   "id": "027e59e0",
   "metadata": {},
   "outputs": [
    {
     "data": {
      "text/plain": [
       "country  year  bracket\n",
       "bdi      1997  -72        2.709944e-05\n",
       "               -71        3.288276e-05\n",
       "               -70        3.928195e-05\n",
       "               -69        4.617997e-05\n",
       "               -68        5.382412e-05\n",
       "                              ...     \n",
       "uga      1997   115       4.257126e-10\n",
       "                116       2.835563e-10\n",
       "                117       1.846997e-10\n",
       "                118       1.175363e-10\n",
       "                119       7.289146e-11\n",
       "Name: population_percentage, Length: 10000, dtype: float64"
      ]
     },
     "execution_count": 75,
     "metadata": {},
     "output_type": "execute_result"
    }
   ],
   "source": [
    "shapes_noc2.loc[mask_shape2(shapes_noc2.index, nei)]"
   ]
  },
  {
   "cell_type": "code",
   "execution_count": null,
   "id": "b9fb8c2b",
   "metadata": {},
   "outputs": [],
   "source": []
  },
  {
   "cell_type": "code",
   "execution_count": 107,
   "id": "d84bc22d",
   "metadata": {},
   "outputs": [],
   "source": [
    "def get_average_shape_2(c, y, shapes, neighbours):\n",
    "    y = str(y)\n",
    "    nei = neighbours[c][y]['neighbours']\n",
    "    nei = set([tuple(x) for x in nei])\n",
    "    return shapes.loc[shapes.index.droplevel(-1).isin(nei)].groupby('bracket').sum() / 50"
   ]
  },
  {
   "cell_type": "code",
   "execution_count": 108,
   "id": "11fe8f1c",
   "metadata": {},
   "outputs": [
    {
     "name": "stdout",
     "output_type": "stream",
     "text": [
      "98.4 ms ± 299 µs per loop (mean ± std. dev. of 7 runs, 10 loops each)\n"
     ]
    }
   ],
   "source": [
    "%%timeit\n",
    "\n",
    "get_average_shape_2('ago', 1800, shapes_noc2, all_neighbours_json)"
   ]
  },
  {
   "cell_type": "code",
   "execution_count": 99,
   "id": "8e70701a",
   "metadata": {},
   "outputs": [],
   "source": [
    "def get_average_shape_3(c, y, shapes, neighbours):\n",
    "    y = str(y)\n",
    "    nei = neighbours[c][y]['neighbours']\n",
    "    nei = set([tuple(x) for x in nei])\n",
    "    return shapes.loc[mask_shape2(shapes.index.droplevel(-1), nei)].groupby('bracket').sum() / 50"
   ]
  },
  {
   "cell_type": "code",
   "execution_count": 100,
   "id": "6e0134d8",
   "metadata": {},
   "outputs": [
    {
     "name": "stdout",
     "output_type": "stream",
     "text": [
      "99 ms ± 1.58 ms per loop (mean ± std. dev. of 7 runs, 10 loops each)\n"
     ]
    }
   ],
   "source": [
    "%%timeit\n",
    "\n",
    "get_average_shape_3('ago', 1800, shapes_noc2, all_neighbours_json)"
   ]
  },
  {
   "cell_type": "code",
   "execution_count": null,
   "id": "1eb0852c",
   "metadata": {},
   "outputs": [],
   "source": []
  },
  {
   "cell_type": "code",
   "execution_count": 116,
   "id": "a5223305",
   "metadata": {},
   "outputs": [
    {
     "name": "stdout",
     "output_type": "stream",
     "text": [
      "421 ms ± 6.33 ms per loop (mean ± std. dev. of 7 runs, 1 loop each)\n"
     ]
    }
   ],
   "source": [
    "country_year = list(zip(shapes_noc2.index.get_level_values(0), shapes_noc2.index.get_level_values(1)))\n",
    "country_year = pd.Series(country_year, index=shapes_noc2.index)"
   ]
  },
  {
   "cell_type": "code",
   "execution_count": 112,
   "id": "43ba74c9",
   "metadata": {
    "scrolled": true
   },
   "outputs": [],
   "source": []
  },
  {
   "cell_type": "code",
   "execution_count": 115,
   "id": "6ef82cd6",
   "metadata": {},
   "outputs": [
    {
     "name": "stdout",
     "output_type": "stream",
     "text": [
      "38.6 ms ± 792 µs per loop (mean ± std. dev. of 7 runs, 10 loops each)\n"
     ]
    }
   ],
   "source": [
    "%%timeit \n",
    "shapes_noc2.loc[country_year.isin(nei)]"
   ]
  },
  {
   "cell_type": "code",
   "execution_count": 131,
   "id": "bdd80aed",
   "metadata": {},
   "outputs": [],
   "source": [
    "def get_average_shape2(c, y, shapes, all_country_year, neighbours):\n",
    "    y = str(y)\n",
    "    nei = neighbours[c][y]['neighbours']\n",
    "    nei = [tuple(x) for x in nei]\n",
    "    mask = all_country_year.isin(nei)\n",
    "    return shapes.loc[mask].groupby('bracket').sum() / 50"
   ]
  },
  {
   "cell_type": "code",
   "execution_count": 132,
   "id": "90daa062",
   "metadata": {},
   "outputs": [
    {
     "name": "stdout",
     "output_type": "stream",
     "text": [
      "33.8 ms ± 776 µs per loop (mean ± std. dev. of 7 runs, 10 loops each)\n"
     ]
    }
   ],
   "source": [
    "%%timeit\n",
    "\n",
    "get_average_shape2('ago', 1800, shapes_noc2, country_year, all_neighbours_json)"
   ]
  },
  {
   "cell_type": "code",
   "execution_count": null,
   "id": "457916fc",
   "metadata": {},
   "outputs": [],
   "source": []
  },
  {
   "cell_type": "code",
   "execution_count": null,
   "id": "6c564050",
   "metadata": {},
   "outputs": [],
   "source": []
  },
  {
   "cell_type": "code",
   "execution_count": 26,
   "id": "b139dabf",
   "metadata": {},
   "outputs": [],
   "source": [
    "def get_nearest_known_shape(country, year, known_shapes):\n",
    "    try:\n",
    "        df = known_shapes.loc[country]\n",
    "    except KeyError:\n",
    "        return None\n",
    "    \n",
    "    if year > 2017:\n",
    "        nearest = df.index.get_level_values(0)[-1]\n",
    "        # print(nearest)\n",
    "    else:\n",
    "        nearest = df.index.get_level_values(0)[0]\n",
    "    return df.loc[nearest]"
   ]
  },
  {
   "cell_type": "code",
   "execution_count": 133,
   "id": "782e5810",
   "metadata": {},
   "outputs": [],
   "source": [
    "def get_estimated_mountain(idx, income, known_shapes, all_country_year, neighbours, n=50):\n",
    "    country, year = idx\n",
    "    wpov, was = all_weights[year]\n",
    "    \n",
    "    first_known_shape = get_nearest_known_shape(country, year, known_shapes)\n",
    "    if first_known_shape is None:\n",
    "        return None\n",
    "    \n",
    "    if wpov == 1:\n",
    "        mixed_shape = first_known_shape\n",
    "    elif wpov == 0:        \n",
    "        mixed_shape = get_average_shape2(country, year, known_shapes, all_country_year, neighbours)\n",
    "    else:\n",
    "        average_shape = get_average_shape2(country, year, known_shapes, all_country_year, neighbours)\n",
    "        mixed_shape = shapeslib.merge_nshapes_with_weights([first_known_shape, average_shape], (wpov, was))\n",
    "        \n",
    "    return shape_to_mountain(mixed_shape, income)"
   ]
  },
  {
   "cell_type": "code",
   "execution_count": 28,
   "id": "e20afe7e",
   "metadata": {},
   "outputs": [],
   "source": [
    "def shape_to_mountain(shape, income):\n",
    "    bracket = bracket_number_from_income(income)\n",
    "    shape.index = shape.index + bracket\n",
    "    res = shape.loc[0:199]\n",
    "    if len(res) != 200:\n",
    "        # print(f'not enough points in mixed shape: {idx}')\n",
    "        new_idx = pd.Index(range(200))\n",
    "        res = shape.reindex(new_idx, fill_value=0)\n",
    "        \n",
    "    return res"
   ]
  },
  {
   "cell_type": "code",
   "execution_count": null,
   "id": "f2316b75",
   "metadata": {},
   "outputs": [],
   "source": []
  },
  {
   "cell_type": "code",
   "execution_count": null,
   "id": "cd738a01",
   "metadata": {},
   "outputs": [],
   "source": []
  },
  {
   "cell_type": "code",
   "execution_count": null,
   "id": "235d7609",
   "metadata": {},
   "outputs": [],
   "source": []
  },
  {
   "cell_type": "code",
   "execution_count": 29,
   "id": "0ba0f8c6",
   "metadata": {},
   "outputs": [
    {
     "data": {
      "text/plain": [
       "bracket\n",
       "-91     6.201989e-10\n",
       "-90     8.123198e-10\n",
       "-89     1.054200e-09\n",
       "-88     1.356230e-09\n",
       "-87     1.723870e-09\n",
       "            ...     \n",
       " 104    1.861361e-07\n",
       " 105    1.587817e-07\n",
       " 106    1.343057e-07\n",
       " 107    1.124367e-07\n",
       " 108    9.314307e-08\n",
       "Name: population_percentage, Length: 200, dtype: float64"
      ]
     },
     "execution_count": 29,
     "metadata": {},
     "output_type": "execute_result"
    }
   ],
   "source": [
    "get_nearest_known_shape('ind', 2020, shapes_noc2)"
   ]
  },
  {
   "cell_type": "code",
   "execution_count": 34,
   "id": "11790c6e",
   "metadata": {},
   "outputs": [
    {
     "name": "stdout",
     "output_type": "stream",
     "text": [
      "afg not available in povcal\n",
      "and not available in povcal\n",
      "atg not available in povcal\n",
      "bhr not available in povcal\n",
      "bhs not available in povcal\n",
      "brb not available in povcal\n",
      "brn not available in povcal\n",
      "cub not available in povcal\n",
      "dma not available in povcal\n",
      "eri not available in povcal\n",
      "gnq not available in povcal\n",
      "grd not available in povcal\n",
      "hkg not available in povcal\n",
      "khm not available in povcal\n",
      "kna not available in povcal\n",
      "kwt not available in povcal\n",
      "lby not available in povcal\n",
      "mco not available in povcal\n",
      "mhl not available in povcal\n",
      "nzl not available in povcal\n",
      "omn not available in povcal\n",
      "plw not available in povcal\n",
      "prk not available in povcal\n",
      "qat not available in povcal\n",
      "sau not available in povcal\n",
      "sgp not available in povcal\n",
      "smr not available in povcal\n",
      "vct not available in povcal\n"
     ]
    }
   ],
   "source": [
    "unknown_list = list()\n",
    "\n",
    "all_countries = income_gini.index.get_level_values(0).unique()\n",
    "known_countries = shapes.index.get_level_values(0).unique()\n",
    "\n",
    "for country in all_countries:\n",
    "    if country not in known_countries:\n",
    "        unknown_list.append(country)\n",
    "        print(f'{country} not available in povcal')"
   ]
  },
  {
   "cell_type": "code",
   "execution_count": 123,
   "id": "e45fc463",
   "metadata": {},
   "outputs": [],
   "source": [
    "known_list = shapes.index.values.tolist()"
   ]
  },
  {
   "cell_type": "code",
   "execution_count": 134,
   "id": "6fb6af6f",
   "metadata": {},
   "outputs": [],
   "source": [
    "def process(i, skip_list, shape_known_list):\n",
    "    country, year = i\n",
    "    if country in unknown_list: \n",
    "        # only use Average Shapes\n",
    "        income, _ = shapeslib.get_income_gini(i, income_gini)\n",
    "        average_shape = get_average_shape2(country, year, shapes_noc2, all_country_year, all_neighbours_json)\n",
    "        res = shape_to_mountain(average_shape, income)\n",
    "        return i, res\n",
    "    if i not in shape_known_list:\n",
    "        income, _ = shapeslib.get_income_gini(i, income_gini)\n",
    "        res = get_estimated_mountain(i, income, shapes_noc2, all_country_year, all_neighbours_json)\n",
    "        # res = shapeslib.get_estimated_mountain(i, shapes, income_gini, resample=False) \n",
    "        return i, res"
   ]
  },
  {
   "cell_type": "code",
   "execution_count": 135,
   "id": "9fb7124b",
   "metadata": {},
   "outputs": [],
   "source": [
    "run = partial(process, skip_list=unknown_list, shape_known_list=known_list)"
   ]
  },
  {
   "cell_type": "code",
   "execution_count": 138,
   "id": "0b92ebb9",
   "metadata": {},
   "outputs": [],
   "source": [
    "all_country_year = country_year"
   ]
  },
  {
   "cell_type": "code",
   "execution_count": 139,
   "id": "793b8122",
   "metadata": {},
   "outputs": [
    {
     "name": "stdout",
     "output_type": "stream",
     "text": [
      "Fri Oct 15 03:03:21 PM CST 2021\r\n"
     ]
    }
   ],
   "source": [
    "!date"
   ]
  },
  {
   "cell_type": "code",
   "execution_count": 140,
   "id": "1507c600",
   "metadata": {},
   "outputs": [],
   "source": [
    "with Pool(6) as p:\n",
    "    res = p.map(run, income_gini.index.values)"
   ]
  },
  {
   "cell_type": "code",
   "execution_count": 141,
   "id": "e7a879f2",
   "metadata": {},
   "outputs": [
    {
     "name": "stdout",
     "output_type": "stream",
     "text": [
      "Fri Oct 15 03:28:31 PM CST 2021\r\n"
     ]
    }
   ],
   "source": [
    "!date"
   ]
  },
  {
   "cell_type": "code",
   "execution_count": 142,
   "id": "725aefbc",
   "metadata": {},
   "outputs": [],
   "source": [
    "res = [x for x in res if x is not None]"
   ]
  },
  {
   "cell_type": "code",
   "execution_count": 143,
   "id": "f54abf01",
   "metadata": {},
   "outputs": [
    {
     "data": {
      "text/plain": [
       "42556"
      ]
     },
     "execution_count": 143,
     "metadata": {},
     "output_type": "execute_result"
    }
   ],
   "source": [
    "len(res)"
   ]
  },
  {
   "cell_type": "code",
   "execution_count": 144,
   "id": "82d8e8a7",
   "metadata": {},
   "outputs": [],
   "source": [
    "res2 = []\n",
    "for k, v in res:\n",
    "    df = v.copy()\n",
    "    country, year = k\n",
    "    # print(country, year)\n",
    "    df.index.name = 'bracket'\n",
    "    df.name = 'income_mountain'\n",
    "    df = df.reset_index()\n",
    "    df['country'] = country\n",
    "    df['year'] = year\n",
    "    df = df.set_index(['country', 'year', 'bracket'])\n",
    "    res2.append(df)"
   ]
  },
  {
   "cell_type": "code",
   "execution_count": 145,
   "id": "6e58708a",
   "metadata": {},
   "outputs": [],
   "source": [
    "res3 = pd.concat(res2)"
   ]
  },
  {
   "cell_type": "code",
   "execution_count": 146,
   "id": "90be6d1d",
   "metadata": {},
   "outputs": [
    {
     "data": {
      "text/html": [
       "<div>\n",
       "<style scoped>\n",
       "    .dataframe tbody tr th:only-of-type {\n",
       "        vertical-align: middle;\n",
       "    }\n",
       "\n",
       "    .dataframe tbody tr th {\n",
       "        vertical-align: top;\n",
       "    }\n",
       "\n",
       "    .dataframe thead th {\n",
       "        text-align: right;\n",
       "    }\n",
       "</style>\n",
       "<table border=\"1\" class=\"dataframe\">\n",
       "  <thead>\n",
       "    <tr style=\"text-align: right;\">\n",
       "      <th></th>\n",
       "      <th></th>\n",
       "      <th></th>\n",
       "      <th>income_mountain</th>\n",
       "    </tr>\n",
       "    <tr>\n",
       "      <th>country</th>\n",
       "      <th>year</th>\n",
       "      <th>bracket</th>\n",
       "      <th></th>\n",
       "    </tr>\n",
       "  </thead>\n",
       "  <tbody>\n",
       "    <tr>\n",
       "      <th rowspan=\"5\" valign=\"top\">afg</th>\n",
       "      <th rowspan=\"5\" valign=\"top\">1800</th>\n",
       "      <th>0</th>\n",
       "      <td>2.386395e-06</td>\n",
       "    </tr>\n",
       "    <tr>\n",
       "      <th>1</th>\n",
       "      <td>2.685107e-06</td>\n",
       "    </tr>\n",
       "    <tr>\n",
       "      <th>2</th>\n",
       "      <td>3.038148e-06</td>\n",
       "    </tr>\n",
       "    <tr>\n",
       "      <th>3</th>\n",
       "      <td>3.438875e-06</td>\n",
       "    </tr>\n",
       "    <tr>\n",
       "      <th>4</th>\n",
       "      <td>3.890295e-06</td>\n",
       "    </tr>\n",
       "    <tr>\n",
       "      <th>...</th>\n",
       "      <th>...</th>\n",
       "      <th>...</th>\n",
       "      <td>...</td>\n",
       "    </tr>\n",
       "    <tr>\n",
       "      <th rowspan=\"5\" valign=\"top\">zwe</th>\n",
       "      <th rowspan=\"5\" valign=\"top\">2050</th>\n",
       "      <th>195</th>\n",
       "      <td>4.703014e-07</td>\n",
       "    </tr>\n",
       "    <tr>\n",
       "      <th>196</th>\n",
       "      <td>3.880885e-07</td>\n",
       "    </tr>\n",
       "    <tr>\n",
       "      <th>197</th>\n",
       "      <td>3.185998e-07</td>\n",
       "    </tr>\n",
       "    <tr>\n",
       "      <th>198</th>\n",
       "      <td>2.601386e-07</td>\n",
       "    </tr>\n",
       "    <tr>\n",
       "      <th>199</th>\n",
       "      <td>2.112494e-07</td>\n",
       "    </tr>\n",
       "  </tbody>\n",
       "</table>\n",
       "<p>8511200 rows × 1 columns</p>\n",
       "</div>"
      ],
      "text/plain": [
       "                      income_mountain\n",
       "country year bracket                 \n",
       "afg     1800 0           2.386395e-06\n",
       "             1           2.685107e-06\n",
       "             2           3.038148e-06\n",
       "             3           3.438875e-06\n",
       "             4           3.890295e-06\n",
       "...                               ...\n",
       "zwe     2050 195         4.703014e-07\n",
       "             196         3.880885e-07\n",
       "             197         3.185998e-07\n",
       "             198         2.601386e-07\n",
       "             199         2.112494e-07\n",
       "\n",
       "[8511200 rows x 1 columns]"
      ]
     },
     "execution_count": 146,
     "metadata": {},
     "output_type": "execute_result"
    }
   ],
   "source": [
    "res3"
   ]
  },
  {
   "cell_type": "code",
   "execution_count": 48,
   "id": "4508eeef",
   "metadata": {},
   "outputs": [],
   "source": [
    "res4 = []\n",
    "for c in shapes.index.get_level_values('country').unique():\n",
    "    df = shapes.loc[[c]]\n",
    "    for ct in 'naur':\n",
    "        if ct in df['coverage_type'].values:\n",
    "            df_ = df[df['coverage_type'] == ct].copy()\n",
    "            df_ = df_.drop(columns='coverage_type')\n",
    "            res4.append(df_)\n",
    "            break"
   ]
  },
  {
   "cell_type": "code",
   "execution_count": 49,
   "id": "c39f89ee",
   "metadata": {},
   "outputs": [],
   "source": [
    "res5 = pd.concat(res4)"
   ]
  },
  {
   "cell_type": "code",
   "execution_count": 50,
   "id": "468154aa",
   "metadata": {},
   "outputs": [],
   "source": [
    "res6 = []\n",
    "gs = res5.groupby(['country', 'year'])\n",
    "for g, df in gs:\n",
    "    c, y = g\n",
    "    try:\n",
    "        i, _ = shapeslib.get_income_gini(g, income_gini)\n",
    "    except KeyError:\n",
    "        # print(g)\n",
    "        continue\n",
    "    bracket = bracket_number_from_income(i)\n",
    "    shape = df.copy()\n",
    "    shape = shape.set_index('bracket')\n",
    "    shape.index = shape.index + bracket\n",
    "    result = shape.loc[0:199]\n",
    "    if len(result) != 200:\n",
    "        new_idx = pd.Index(range(200))\n",
    "        result = result.reindex(new_idx, fill_value=0)        \n",
    "    new_idx2 = pd.MultiIndex.from_product([[c], [y], range(200)], names=['country', 'year', 'bracket'])\n",
    "    result.index = new_idx2\n",
    "    res6.append(result)"
   ]
  },
  {
   "cell_type": "code",
   "execution_count": 51,
   "id": "a95b66d9",
   "metadata": {},
   "outputs": [],
   "source": [
    "res7 = pd.concat(res6)"
   ]
  },
  {
   "cell_type": "code",
   "execution_count": 52,
   "id": "342abe27",
   "metadata": {},
   "outputs": [
    {
     "data": {
      "text/html": [
       "<div>\n",
       "<style scoped>\n",
       "    .dataframe tbody tr th:only-of-type {\n",
       "        vertical-align: middle;\n",
       "    }\n",
       "\n",
       "    .dataframe tbody tr th {\n",
       "        vertical-align: top;\n",
       "    }\n",
       "\n",
       "    .dataframe thead th {\n",
       "        text-align: right;\n",
       "    }\n",
       "</style>\n",
       "<table border=\"1\" class=\"dataframe\">\n",
       "  <thead>\n",
       "    <tr style=\"text-align: right;\">\n",
       "      <th></th>\n",
       "      <th></th>\n",
       "      <th></th>\n",
       "      <th>population_percentage</th>\n",
       "    </tr>\n",
       "    <tr>\n",
       "      <th>country</th>\n",
       "      <th>year</th>\n",
       "      <th>bracket</th>\n",
       "      <th></th>\n",
       "    </tr>\n",
       "  </thead>\n",
       "  <tbody>\n",
       "    <tr>\n",
       "      <th rowspan=\"5\" valign=\"top\">ago</th>\n",
       "      <th rowspan=\"5\" valign=\"top\">1981</th>\n",
       "      <th>0</th>\n",
       "      <td>7.153827e-06</td>\n",
       "    </tr>\n",
       "    <tr>\n",
       "      <th>1</th>\n",
       "      <td>8.619550e-06</td>\n",
       "    </tr>\n",
       "    <tr>\n",
       "      <th>2</th>\n",
       "      <td>1.029801e-05</td>\n",
       "    </tr>\n",
       "    <tr>\n",
       "      <th>3</th>\n",
       "      <td>1.214019e-05</td>\n",
       "    </tr>\n",
       "    <tr>\n",
       "      <th>4</th>\n",
       "      <td>1.423205e-05</td>\n",
       "    </tr>\n",
       "    <tr>\n",
       "      <th>...</th>\n",
       "      <th>...</th>\n",
       "      <th>...</th>\n",
       "      <td>...</td>\n",
       "    </tr>\n",
       "    <tr>\n",
       "      <th rowspan=\"5\" valign=\"top\">zwe</th>\n",
       "      <th rowspan=\"5\" valign=\"top\">2019</th>\n",
       "      <th>195</th>\n",
       "      <td>1.402410e-07</td>\n",
       "    </tr>\n",
       "    <tr>\n",
       "      <th>196</th>\n",
       "      <td>1.090947e-07</td>\n",
       "    </tr>\n",
       "    <tr>\n",
       "      <th>197</th>\n",
       "      <td>8.406808e-08</td>\n",
       "    </tr>\n",
       "    <tr>\n",
       "      <th>198</th>\n",
       "      <td>6.417809e-08</td>\n",
       "    </tr>\n",
       "    <tr>\n",
       "      <th>199</th>\n",
       "      <td>4.857008e-08</td>\n",
       "    </tr>\n",
       "  </tbody>\n",
       "</table>\n",
       "<p>1277800 rows × 1 columns</p>\n",
       "</div>"
      ],
      "text/plain": [
       "                      population_percentage\n",
       "country year bracket                       \n",
       "ago     1981 0                 7.153827e-06\n",
       "             1                 8.619550e-06\n",
       "             2                 1.029801e-05\n",
       "             3                 1.214019e-05\n",
       "             4                 1.423205e-05\n",
       "...                                     ...\n",
       "zwe     2019 195               1.402410e-07\n",
       "             196               1.090947e-07\n",
       "             197               8.406808e-08\n",
       "             198               6.417809e-08\n",
       "             199               4.857008e-08\n",
       "\n",
       "[1277800 rows x 1 columns]"
      ]
     },
     "execution_count": 52,
     "metadata": {},
     "output_type": "execute_result"
    }
   ],
   "source": [
    "res7"
   ]
  },
  {
   "cell_type": "code",
   "execution_count": null,
   "id": "6d8c7048",
   "metadata": {},
   "outputs": [],
   "source": []
  },
  {
   "cell_type": "code",
   "execution_count": 71,
   "id": "968a8508",
   "metadata": {},
   "outputs": [],
   "source": [
    "# def shape_to_mountain(shape, country, income_gini):\n",
    "#     c, y = idx\n",
    "#     try:\n",
    "#         i, _ = shapeslib.get_income_gini(idx, income_gini)\n",
    "#     except KeyError:\n",
    "#         print(idx)\n",
    "#         return None\n",
    "#     bracket = bracket_number_from_income(i)\n",
    "#     shape = shape_.copy()\n",
    "#     shape.index = shape.index + bracket\n",
    "#     res = shape.loc[0:199]\n",
    "#     print(shape)\n",
    "#     if len(res) != 200:\n",
    "#         new_idx = pd.Index(range(200))\n",
    "#         res = res.reindex(new_idx, fill_value=0)\n",
    "        \n",
    "#     new_idx2 = pd.MultiIndex.from_product([[c], [y], range(200)], names=['country', 'year', 'bracket'])\n",
    "#     res.index = new_idx2\n",
    "#     return res"
   ]
  },
  {
   "cell_type": "code",
   "execution_count": 53,
   "id": "42cea40d",
   "metadata": {},
   "outputs": [],
   "source": [
    "res7.columns = ['income_mountain']"
   ]
  },
  {
   "cell_type": "code",
   "execution_count": 54,
   "id": "cd8945c1",
   "metadata": {},
   "outputs": [],
   "source": [
    "res8 = pd.concat([res3, res7])"
   ]
  },
  {
   "cell_type": "code",
   "execution_count": 55,
   "id": "e019171f",
   "metadata": {},
   "outputs": [],
   "source": [
    "res8.to_csv('../wip/income_mountain_200brackets.csv')"
   ]
  },
  {
   "cell_type": "code",
   "execution_count": 11,
   "id": "7f43163e",
   "metadata": {},
   "outputs": [],
   "source": [
    "res8 = pd.read_csv('../wip/income_mountain_200brackets.csv').set_index(['country', 'year', 'bracket']).sort_index()"
   ]
  },
  {
   "cell_type": "code",
   "execution_count": 57,
   "id": "6665df34",
   "metadata": {},
   "outputs": [],
   "source": [
    "from ddf_utils.str import format_float_digits\n",
    "formattor = partial(format_float_digits, digits=6)"
   ]
  },
  {
   "cell_type": "code",
   "execution_count": 56,
   "id": "f1d21814",
   "metadata": {},
   "outputs": [],
   "source": [
    "res8 = res8.sort_index()"
   ]
  },
  {
   "cell_type": "code",
   "execution_count": 57,
   "id": "2320b06c",
   "metadata": {},
   "outputs": [
    {
     "data": {
      "text/plain": [
       "array([[1.55589511e-04],\n",
       "       [1.68297855e-04],\n",
       "       [1.97079569e-04],\n",
       "       [2.13309833e-04],\n",
       "       [2.30251901e-04],\n",
       "       [2.48013204e-04],\n",
       "       [2.65649569e-04],\n",
       "       [2.85125438e-04],\n",
       "       [3.05961534e-04],\n",
       "       [3.27912791e-04],\n",
       "       [3.50546667e-04],\n",
       "       [3.74234662e-04],\n",
       "       [3.99400241e-04],\n",
       "       [4.26781634e-04],\n",
       "       [4.55883659e-04],\n",
       "       [4.87112029e-04],\n",
       "       [5.21361665e-04],\n",
       "       [5.57296241e-04],\n",
       "       [5.95782904e-04],\n",
       "       [6.39732138e-04],\n",
       "       [6.87023028e-04],\n",
       "       [7.40519890e-04],\n",
       "       [7.99372501e-04],\n",
       "       [8.64894637e-04],\n",
       "       [9.37255429e-04],\n",
       "       [1.01571619e-03],\n",
       "       [1.10694723e-03],\n",
       "       [1.20594734e-03],\n",
       "       [1.31807656e-03],\n",
       "       [1.44993056e-03],\n",
       "       [1.59938244e-03],\n",
       "       [1.77061278e-03],\n",
       "       [1.96277619e-03],\n",
       "       [2.17543227e-03],\n",
       "       [2.42424107e-03],\n",
       "       [2.71033925e-03],\n",
       "       [3.04254738e-03],\n",
       "       [3.42839453e-03],\n",
       "       [3.86831977e-03],\n",
       "       [4.36224966e-03],\n",
       "       [4.93008154e-03],\n",
       "       [5.59239597e-03],\n",
       "       [6.35036969e-03],\n",
       "       [7.21986190e-03],\n",
       "       [8.21751177e-03],\n",
       "       [9.36835882e-03],\n",
       "       [1.06846081e-02],\n",
       "       [1.21693911e-02],\n",
       "       [1.38248043e-02],\n",
       "       [1.56680624e-02],\n",
       "       [1.76878007e-02],\n",
       "       [1.98416194e-02],\n",
       "       [2.20585663e-02],\n",
       "       [2.42552887e-02],\n",
       "       [2.63730027e-02],\n",
       "       [2.83379024e-02],\n",
       "       [3.01124995e-02],\n",
       "       [3.16264600e-02],\n",
       "       [3.28533752e-02],\n",
       "       [3.37508699e-02],\n",
       "       [3.43242349e-02],\n",
       "       [3.45568998e-02],\n",
       "       [3.44577088e-02],\n",
       "       [3.40321101e-02],\n",
       "       [3.33178679e-02],\n",
       "       [3.23461891e-02],\n",
       "       [3.11603911e-02],\n",
       "       [2.98028717e-02],\n",
       "       [2.83174307e-02],\n",
       "       [2.67451787e-02],\n",
       "       [2.51104861e-02],\n",
       "       [2.34398461e-02],\n",
       "       [2.17569994e-02],\n",
       "       [2.00956364e-02],\n",
       "       [1.84779004e-02],\n",
       "       [1.69278056e-02],\n",
       "       [1.54656610e-02],\n",
       "       [1.40775156e-02],\n",
       "       [1.27615638e-02],\n",
       "       [1.15288663e-02],\n",
       "       [1.03893335e-02],\n",
       "       [9.34331853e-03],\n",
       "       [8.38347587e-03],\n",
       "       [7.50273840e-03],\n",
       "       [6.70324432e-03],\n",
       "       [5.97932280e-03],\n",
       "       [5.32530565e-03],\n",
       "       [4.72254298e-03],\n",
       "       [4.18140359e-03],\n",
       "       [3.69355379e-03],\n",
       "       [3.25842679e-03],\n",
       "       [2.87574015e-03],\n",
       "       [2.53655935e-03],\n",
       "       [2.23756215e-03],\n",
       "       [1.97070213e-03],\n",
       "       [1.73729340e-03],\n",
       "       [1.52945915e-03],\n",
       "       [1.34678204e-03],\n",
       "       [1.18730020e-03],\n",
       "       [1.04745970e-03],\n",
       "       [9.26361807e-04],\n",
       "       [8.19391910e-04],\n",
       "       [7.25739153e-04],\n",
       "       [6.43956681e-04],\n",
       "       [5.70789681e-04],\n",
       "       [5.08771918e-04],\n",
       "       [4.54488691e-04],\n",
       "       [4.05321052e-04],\n",
       "       [3.62111075e-04],\n",
       "       [3.23927829e-04],\n",
       "       [2.90339281e-04],\n",
       "       [2.61444163e-04],\n",
       "       [2.35693176e-04],\n",
       "       [2.12575546e-04],\n",
       "       [1.92085091e-04],\n",
       "       [1.73829955e-04],\n",
       "       [1.57434379e-04],\n",
       "       [1.42748834e-04],\n",
       "       [1.29656475e-04],\n",
       "       [1.17886125e-04],\n",
       "       [1.07345479e-04],\n",
       "       [9.81150524e-05],\n",
       "       [8.96578476e-05],\n",
       "       [8.17636899e-05],\n",
       "       [7.48061424e-05],\n",
       "       [6.82755455e-05],\n",
       "       [6.25576533e-05],\n",
       "       [5.72452591e-05],\n",
       "       [5.24778577e-05],\n",
       "       [4.82076085e-05],\n",
       "       [4.41506917e-05],\n",
       "       [4.04149889e-05],\n",
       "       [3.70110572e-05],\n",
       "       [3.38847887e-05],\n",
       "       [3.10436525e-05],\n",
       "       [2.84252423e-05],\n",
       "       [2.59458647e-05],\n",
       "       [2.36647105e-05],\n",
       "       [2.15472343e-05],\n",
       "       [1.95971486e-05],\n",
       "       [1.78056704e-05],\n",
       "       [1.61720538e-05],\n",
       "       [1.46714100e-05],\n",
       "       [1.32887575e-05],\n",
       "       [1.20227797e-05],\n",
       "       [1.08616643e-05],\n",
       "       [9.80700797e-06],\n",
       "       [8.84563089e-06],\n",
       "       [7.96703047e-06],\n",
       "       [7.16865399e-06],\n",
       "       [6.44626889e-06],\n",
       "       [5.79007776e-06],\n",
       "       [5.19869180e-06],\n",
       "       [4.66426543e-06],\n",
       "       [4.18116427e-06],\n",
       "       [3.74649890e-06],\n",
       "       [3.35605186e-06],\n",
       "       [3.00562138e-06],\n",
       "       [2.69139793e-06],\n",
       "       [2.41006968e-06],\n",
       "       [2.15850427e-06],\n",
       "       [1.93375250e-06],\n",
       "       [1.73319905e-06],\n",
       "       [1.55436620e-06],\n",
       "       [1.39508986e-06],\n",
       "       [1.25340509e-06],\n",
       "       [1.12744976e-06],\n",
       "       [1.01554676e-06],\n",
       "       [9.16152255e-07],\n",
       "       [8.27791457e-07],\n",
       "       [7.48941551e-07],\n",
       "       [6.78427917e-07],\n",
       "       [6.15230736e-07],\n",
       "       [5.58445262e-07],\n",
       "       [5.07276698e-07],\n",
       "       [4.61023405e-07],\n",
       "       [4.19070768e-07],\n",
       "       [3.80880867e-07],\n",
       "       [3.45984797e-07],\n",
       "       [3.13141812e-07],\n",
       "       [2.78789392e-07],\n",
       "       [2.46670857e-07],\n",
       "       [2.17235929e-07],\n",
       "       [1.90234693e-07],\n",
       "       [1.65442505e-07],\n",
       "       [1.42643891e-07],\n",
       "       [1.21720463e-07],\n",
       "       [9.13922755e-08],\n",
       "       [1.53069313e-08],\n",
       "       [2.71757945e-09],\n",
       "       [1.28147129e-09],\n",
       "       [3.88325151e-10],\n",
       "       [2.27094094e-10],\n",
       "       [1.50323861e-11],\n",
       "       [9.73053666e-14],\n",
       "       [3.99682288e-14],\n",
       "       [1.33227430e-14],\n",
       "       [2.66454867e-15],\n",
       "       [0.00000000e+00],\n",
       "       [0.00000000e+00]])"
      ]
     },
     "execution_count": 57,
     "metadata": {},
     "output_type": "execute_result"
    }
   ],
   "source": [
    "res8.loc[('chn', 1800)].values"
   ]
  },
  {
   "cell_type": "code",
   "execution_count": 58,
   "id": "bd6d806d",
   "metadata": {},
   "outputs": [
    {
     "data": {
      "text/plain": [
       "[<matplotlib.lines.Line2D at 0x8eb889cd0>]"
      ]
     },
     "execution_count": 58,
     "metadata": {},
     "output_type": "execute_result"
    },
    {
     "data": {
      "image/png": "[encoded data removed]",
      "text/plain": [
       "<Figure size 1960x1176 with 1 Axes>"
      ]
     },
     "metadata": {
      "needs_background": "light"
     },
     "output_type": "display_data"
    }
   ],
   "source": [
    "plt.plot(res8.loc[('deu', 2015)])\n",
    "plt.plot(res8.loc[('deu', 2012)])\n",
    "plt.plot(res8.loc[('deu', 2017)])"
   ]
  },
  {
   "cell_type": "code",
   "execution_count": 59,
   "id": "36202bca",
   "metadata": {},
   "outputs": [
    {
     "data": {
      "text/plain": [
       "[<matplotlib.lines.Line2D at 0x8eb415a60>]"
      ]
     },
     "execution_count": 59,
     "metadata": {},
     "output_type": "execute_result"
    },
    {
     "data": {
      "image/png": "[encoded data removed]",
      "text/plain": [
       "<Figure size 1960x1176 with 1 Axes>"
      ]
     },
     "metadata": {
      "needs_background": "light"
     },
     "output_type": "display_data"
    }
   ],
   "source": [
    "plt.plot(res8.loc[('sle', 1984)])"
   ]
  },
  {
   "cell_type": "code",
   "execution_count": 60,
   "id": "5b726c84",
   "metadata": {},
   "outputs": [],
   "source": [
    "df = res8.loc[('deu', 1981), 'income_mountain']"
   ]
  },
  {
   "cell_type": "code",
   "execution_count": 61,
   "id": "f1d996b4",
   "metadata": {},
   "outputs": [
    {
     "data": {
      "text/plain": [
       "0.9999999999999962"
      ]
     },
     "execution_count": 61,
     "metadata": {},
     "output_type": "execute_result"
    }
   ],
   "source": [
    "pd.Series([x.sum() for x in np.split(df, 50)]).sum()"
   ]
  },
  {
   "cell_type": "code",
   "execution_count": 62,
   "id": "00f09478",
   "metadata": {},
   "outputs": [],
   "source": [
    "def resample(ser):\n",
    "    res = pd.Series([x.sum() for x in np.split(ser.values, 50)])\n",
    "    res.index.name = 'bracket'\n",
    "    return res"
   ]
  },
  {
   "cell_type": "code",
   "execution_count": 63,
   "id": "6c329e53",
   "metadata": {},
   "outputs": [],
   "source": [
    "res9 = res8.groupby(['country', 'year']).apply(resample)"
   ]
  },
  {
   "cell_type": "code",
   "execution_count": 64,
   "id": "03e43f83",
   "metadata": {},
   "outputs": [],
   "source": [
    "gs = res8.groupby(['country', 'year'])\n",
    "df = gs.get_group(('deu', 1981))"
   ]
  },
  {
   "cell_type": "code",
   "execution_count": 65,
   "id": "56b8a3de",
   "metadata": {},
   "outputs": [
    {
     "data": {
      "text/plain": [
       "bracket\n",
       "0     1.482197e-323\n",
       "1     3.952525e-323\n",
       "2     4.446591e-323\n",
       "3     3.952525e-323\n",
       "4     2.470328e-323\n",
       "5     3.458460e-323\n",
       "6     1.976263e-323\n",
       "7     1.482197e-323\n",
       "8     3.458460e-323\n",
       "9     3.952525e-323\n",
       "10    2.964394e-323\n",
       "11    9.881313e-324\n",
       "12    1.976263e-323\n",
       "13    3.458460e-323\n",
       "14    3.458460e-323\n",
       "15    2.964394e-323\n",
       "16     6.300874e-08\n",
       "17     6.314873e-06\n",
       "18     5.651481e-05\n",
       "19     2.260873e-04\n",
       "20     5.404155e-04\n",
       "21     8.483064e-04\n",
       "22     1.155821e-03\n",
       "23     2.259932e-03\n",
       "24     6.047464e-03\n",
       "25     1.548913e-02\n",
       "26     3.986128e-02\n",
       "27     9.566652e-02\n",
       "28     1.714625e-01\n",
       "29     1.976465e-01\n",
       "30     1.807245e-01\n",
       "31     1.404139e-01\n",
       "32     8.308374e-02\n",
       "33     3.865511e-02\n",
       "34     1.593636e-02\n",
       "35     6.015596e-03\n",
       "36     2.164218e-03\n",
       "37     1.036683e-03\n",
       "38     4.918085e-04\n",
       "39     1.713719e-04\n",
       "40     3.682760e-05\n",
       "41     2.967379e-06\n",
       "42    2.964394e-323\n",
       "43    1.976263e-323\n",
       "44    2.964394e-323\n",
       "45    2.964394e-323\n",
       "46    3.952525e-323\n",
       "47    3.952525e-323\n",
       "48    2.470328e-323\n",
       "49    3.458460e-323\n",
       "dtype: float64"
      ]
     },
     "execution_count": 65,
     "metadata": {},
     "output_type": "execute_result"
    }
   ],
   "source": [
    "resample(df)"
   ]
  },
  {
   "cell_type": "code",
   "execution_count": null,
   "id": "7001e811",
   "metadata": {},
   "outputs": [],
   "source": []
  },
  {
   "cell_type": "code",
   "execution_count": 66,
   "id": "2db9cb9f",
   "metadata": {},
   "outputs": [
    {
     "data": {
      "text/html": [
       "<div>\n",
       "<style scoped>\n",
       "    .dataframe tbody tr th:only-of-type {\n",
       "        vertical-align: middle;\n",
       "    }\n",
       "\n",
       "    .dataframe tbody tr th {\n",
       "        vertical-align: top;\n",
       "    }\n",
       "\n",
       "    .dataframe thead th {\n",
       "        text-align: right;\n",
       "    }\n",
       "</style>\n",
       "<table border=\"1\" class=\"dataframe\">\n",
       "  <thead>\n",
       "    <tr style=\"text-align: right;\">\n",
       "      <th></th>\n",
       "      <th>bracket</th>\n",
       "      <th>0</th>\n",
       "      <th>1</th>\n",
       "      <th>2</th>\n",
       "      <th>3</th>\n",
       "      <th>4</th>\n",
       "      <th>5</th>\n",
       "      <th>6</th>\n",
       "      <th>7</th>\n",
       "      <th>8</th>\n",
       "      <th>9</th>\n",
       "      <th>...</th>\n",
       "      <th>40</th>\n",
       "      <th>41</th>\n",
       "      <th>42</th>\n",
       "      <th>43</th>\n",
       "      <th>44</th>\n",
       "      <th>45</th>\n",
       "      <th>46</th>\n",
       "      <th>47</th>\n",
       "      <th>48</th>\n",
       "      <th>49</th>\n",
       "    </tr>\n",
       "    <tr>\n",
       "      <th>country</th>\n",
       "      <th>year</th>\n",
       "      <th></th>\n",
       "      <th></th>\n",
       "      <th></th>\n",
       "      <th></th>\n",
       "      <th></th>\n",
       "      <th></th>\n",
       "      <th></th>\n",
       "      <th></th>\n",
       "      <th></th>\n",
       "      <th></th>\n",
       "      <th></th>\n",
       "      <th></th>\n",
       "      <th></th>\n",
       "      <th></th>\n",
       "      <th></th>\n",
       "      <th></th>\n",
       "      <th></th>\n",
       "      <th></th>\n",
       "      <th></th>\n",
       "      <th></th>\n",
       "      <th></th>\n",
       "    </tr>\n",
       "  </thead>\n",
       "  <tbody>\n",
       "    <tr>\n",
       "      <th rowspan=\"5\" valign=\"top\">afg</th>\n",
       "      <th>1800</th>\n",
       "      <td>0.000012</td>\n",
       "      <td>1.879334e-05</td>\n",
       "      <td>3.076009e-05</td>\n",
       "      <td>0.000052</td>\n",
       "      <td>0.000091</td>\n",
       "      <td>0.000167</td>\n",
       "      <td>0.000321</td>\n",
       "      <td>0.000647</td>\n",
       "      <td>0.001363</td>\n",
       "      <td>0.002983</td>\n",
       "      <td>...</td>\n",
       "      <td>0.000001</td>\n",
       "      <td>8.213336e-07</td>\n",
       "      <td>4.340338e-07</td>\n",
       "      <td>2.188647e-07</td>\n",
       "      <td>1.056966e-07</td>\n",
       "      <td>4.810179e-08</td>\n",
       "      <td>1.875028e-08</td>\n",
       "      <td>2.668005e-10</td>\n",
       "      <td>0.000000</td>\n",
       "      <td>0.000000e+00</td>\n",
       "    </tr>\n",
       "    <tr>\n",
       "      <th>1801</th>\n",
       "      <td>0.000012</td>\n",
       "      <td>1.879334e-05</td>\n",
       "      <td>3.076009e-05</td>\n",
       "      <td>0.000052</td>\n",
       "      <td>0.000091</td>\n",
       "      <td>0.000167</td>\n",
       "      <td>0.000321</td>\n",
       "      <td>0.000647</td>\n",
       "      <td>0.001363</td>\n",
       "      <td>0.002983</td>\n",
       "      <td>...</td>\n",
       "      <td>0.000001</td>\n",
       "      <td>8.213336e-07</td>\n",
       "      <td>4.340338e-07</td>\n",
       "      <td>2.188647e-07</td>\n",
       "      <td>1.056966e-07</td>\n",
       "      <td>4.810179e-08</td>\n",
       "      <td>1.875028e-08</td>\n",
       "      <td>2.668005e-10</td>\n",
       "      <td>0.000000</td>\n",
       "      <td>0.000000e+00</td>\n",
       "    </tr>\n",
       "    <tr>\n",
       "      <th>1802</th>\n",
       "      <td>0.000012</td>\n",
       "      <td>1.879334e-05</td>\n",
       "      <td>3.076009e-05</td>\n",
       "      <td>0.000052</td>\n",
       "      <td>0.000091</td>\n",
       "      <td>0.000167</td>\n",
       "      <td>0.000321</td>\n",
       "      <td>0.000647</td>\n",
       "      <td>0.001363</td>\n",
       "      <td>0.002983</td>\n",
       "      <td>...</td>\n",
       "      <td>0.000001</td>\n",
       "      <td>8.213336e-07</td>\n",
       "      <td>4.340338e-07</td>\n",
       "      <td>2.188647e-07</td>\n",
       "      <td>1.056966e-07</td>\n",
       "      <td>4.810179e-08</td>\n",
       "      <td>1.875028e-08</td>\n",
       "      <td>2.668005e-10</td>\n",
       "      <td>0.000000</td>\n",
       "      <td>0.000000e+00</td>\n",
       "    </tr>\n",
       "    <tr>\n",
       "      <th>1803</th>\n",
       "      <td>0.000012</td>\n",
       "      <td>1.879334e-05</td>\n",
       "      <td>3.076009e-05</td>\n",
       "      <td>0.000052</td>\n",
       "      <td>0.000091</td>\n",
       "      <td>0.000167</td>\n",
       "      <td>0.000321</td>\n",
       "      <td>0.000647</td>\n",
       "      <td>0.001363</td>\n",
       "      <td>0.002983</td>\n",
       "      <td>...</td>\n",
       "      <td>0.000001</td>\n",
       "      <td>8.213336e-07</td>\n",
       "      <td>4.340338e-07</td>\n",
       "      <td>2.188647e-07</td>\n",
       "      <td>1.056966e-07</td>\n",
       "      <td>4.810179e-08</td>\n",
       "      <td>1.875028e-08</td>\n",
       "      <td>2.668005e-10</td>\n",
       "      <td>0.000000</td>\n",
       "      <td>0.000000e+00</td>\n",
       "    </tr>\n",
       "    <tr>\n",
       "      <th>1804</th>\n",
       "      <td>0.000012</td>\n",
       "      <td>1.879334e-05</td>\n",
       "      <td>3.076009e-05</td>\n",
       "      <td>0.000052</td>\n",
       "      <td>0.000091</td>\n",
       "      <td>0.000167</td>\n",
       "      <td>0.000321</td>\n",
       "      <td>0.000647</td>\n",
       "      <td>0.001363</td>\n",
       "      <td>0.002983</td>\n",
       "      <td>...</td>\n",
       "      <td>0.000001</td>\n",
       "      <td>8.213336e-07</td>\n",
       "      <td>4.340338e-07</td>\n",
       "      <td>2.188647e-07</td>\n",
       "      <td>1.056966e-07</td>\n",
       "      <td>4.810179e-08</td>\n",
       "      <td>1.875028e-08</td>\n",
       "      <td>2.668005e-10</td>\n",
       "      <td>0.000000</td>\n",
       "      <td>0.000000e+00</td>\n",
       "    </tr>\n",
       "    <tr>\n",
       "      <th>...</th>\n",
       "      <th>...</th>\n",
       "      <td>...</td>\n",
       "      <td>...</td>\n",
       "      <td>...</td>\n",
       "      <td>...</td>\n",
       "      <td>...</td>\n",
       "      <td>...</td>\n",
       "      <td>...</td>\n",
       "      <td>...</td>\n",
       "      <td>...</td>\n",
       "      <td>...</td>\n",
       "      <td>...</td>\n",
       "      <td>...</td>\n",
       "      <td>...</td>\n",
       "      <td>...</td>\n",
       "      <td>...</td>\n",
       "      <td>...</td>\n",
       "      <td>...</td>\n",
       "      <td>...</td>\n",
       "      <td>...</td>\n",
       "      <td>...</td>\n",
       "      <td>...</td>\n",
       "    </tr>\n",
       "    <tr>\n",
       "      <th rowspan=\"5\" valign=\"top\">zwe</th>\n",
       "      <th>2046</th>\n",
       "      <td>0.000000</td>\n",
       "      <td>1.557289e-08</td>\n",
       "      <td>5.621468e-07</td>\n",
       "      <td>0.000005</td>\n",
       "      <td>0.000010</td>\n",
       "      <td>0.000017</td>\n",
       "      <td>0.000026</td>\n",
       "      <td>0.000041</td>\n",
       "      <td>0.000064</td>\n",
       "      <td>0.000107</td>\n",
       "      <td>...</td>\n",
       "      <td>0.000146</td>\n",
       "      <td>9.790029e-05</td>\n",
       "      <td>6.335044e-05</td>\n",
       "      <td>4.014304e-05</td>\n",
       "      <td>2.453922e-05</td>\n",
       "      <td>1.443742e-05</td>\n",
       "      <td>8.092027e-06</td>\n",
       "      <td>4.282865e-06</td>\n",
       "      <td>0.000002</td>\n",
       "      <td>9.594598e-07</td>\n",
       "    </tr>\n",
       "    <tr>\n",
       "      <th>2047</th>\n",
       "      <td>0.000000</td>\n",
       "      <td>9.881313e-324</td>\n",
       "      <td>2.826463e-07</td>\n",
       "      <td>0.000004</td>\n",
       "      <td>0.000009</td>\n",
       "      <td>0.000015</td>\n",
       "      <td>0.000025</td>\n",
       "      <td>0.000038</td>\n",
       "      <td>0.000059</td>\n",
       "      <td>0.000096</td>\n",
       "      <td>...</td>\n",
       "      <td>0.000161</td>\n",
       "      <td>1.088063e-04</td>\n",
       "      <td>7.076688e-05</td>\n",
       "      <td>4.510082e-05</td>\n",
       "      <td>2.783601e-05</td>\n",
       "      <td>1.655083e-05</td>\n",
       "      <td>9.404074e-06</td>\n",
       "      <td>5.056929e-06</td>\n",
       "      <td>0.000003</td>\n",
       "      <td>1.183575e-06</td>\n",
       "    </tr>\n",
       "    <tr>\n",
       "      <th>2048</th>\n",
       "      <td>0.000000</td>\n",
       "      <td>5.792612e-09</td>\n",
       "      <td>3.284974e-07</td>\n",
       "      <td>0.000004</td>\n",
       "      <td>0.000009</td>\n",
       "      <td>0.000016</td>\n",
       "      <td>0.000025</td>\n",
       "      <td>0.000039</td>\n",
       "      <td>0.000061</td>\n",
       "      <td>0.000099</td>\n",
       "      <td>...</td>\n",
       "      <td>0.000160</td>\n",
       "      <td>1.081985e-04</td>\n",
       "      <td>7.038234e-05</td>\n",
       "      <td>4.486389e-05</td>\n",
       "      <td>2.769628e-05</td>\n",
       "      <td>1.647282e-05</td>\n",
       "      <td>9.363419e-06</td>\n",
       "      <td>5.037504e-06</td>\n",
       "      <td>0.000003</td>\n",
       "      <td>1.180881e-06</td>\n",
       "    </tr>\n",
       "    <tr>\n",
       "      <th>2049</th>\n",
       "      <td>0.000000</td>\n",
       "      <td>6.294289e-09</td>\n",
       "      <td>3.412251e-07</td>\n",
       "      <td>0.000004</td>\n",
       "      <td>0.000010</td>\n",
       "      <td>0.000017</td>\n",
       "      <td>0.000026</td>\n",
       "      <td>0.000040</td>\n",
       "      <td>0.000063</td>\n",
       "      <td>0.000102</td>\n",
       "      <td>...</td>\n",
       "      <td>0.000159</td>\n",
       "      <td>1.076603e-04</td>\n",
       "      <td>7.003507e-05</td>\n",
       "      <td>4.464662e-05</td>\n",
       "      <td>2.756596e-05</td>\n",
       "      <td>1.639885e-05</td>\n",
       "      <td>9.324138e-06</td>\n",
       "      <td>5.018287e-06</td>\n",
       "      <td>0.000003</td>\n",
       "      <td>1.177785e-06</td>\n",
       "    </tr>\n",
       "    <tr>\n",
       "      <th>2050</th>\n",
       "      <td>0.000000</td>\n",
       "      <td>1.648784e-07</td>\n",
       "      <td>7.136702e-07</td>\n",
       "      <td>0.000005</td>\n",
       "      <td>0.000011</td>\n",
       "      <td>0.000019</td>\n",
       "      <td>0.000029</td>\n",
       "      <td>0.000044</td>\n",
       "      <td>0.000069</td>\n",
       "      <td>0.000111</td>\n",
       "      <td>...</td>\n",
       "      <td>0.000158</td>\n",
       "      <td>1.070452e-04</td>\n",
       "      <td>6.965369e-05</td>\n",
       "      <td>4.441861e-05</td>\n",
       "      <td>2.743848e-05</td>\n",
       "      <td>1.633252e-05</td>\n",
       "      <td>9.293116e-06</td>\n",
       "      <td>5.006047e-06</td>\n",
       "      <td>0.000003</td>\n",
       "      <td>1.178076e-06</td>\n",
       "    </tr>\n",
       "  </tbody>\n",
       "</table>\n",
       "<p>48945 rows × 50 columns</p>\n",
       "</div>"
      ],
      "text/plain": [
       "bracket             0              1             2         3         4   \\\n",
       "country year                                                              \n",
       "afg     1800  0.000012   1.879334e-05  3.076009e-05  0.000052  0.000091   \n",
       "        1801  0.000012   1.879334e-05  3.076009e-05  0.000052  0.000091   \n",
       "        1802  0.000012   1.879334e-05  3.076009e-05  0.000052  0.000091   \n",
       "        1803  0.000012   1.879334e-05  3.076009e-05  0.000052  0.000091   \n",
       "        1804  0.000012   1.879334e-05  3.076009e-05  0.000052  0.000091   \n",
       "...                ...            ...           ...       ...       ...   \n",
       "zwe     2046  0.000000   1.557289e-08  5.621468e-07  0.000005  0.000010   \n",
       "        2047  0.000000  9.881313e-324  2.826463e-07  0.000004  0.000009   \n",
       "        2048  0.000000   5.792612e-09  3.284974e-07  0.000004  0.000009   \n",
       "        2049  0.000000   6.294289e-09  3.412251e-07  0.000004  0.000010   \n",
       "        2050  0.000000   1.648784e-07  7.136702e-07  0.000005  0.000011   \n",
       "\n",
       "bracket             5         6         7         8         9   ...        40  \\\n",
       "country year                                                    ...             \n",
       "afg     1800  0.000167  0.000321  0.000647  0.001363  0.002983  ...  0.000001   \n",
       "        1801  0.000167  0.000321  0.000647  0.001363  0.002983  ...  0.000001   \n",
       "        1802  0.000167  0.000321  0.000647  0.001363  0.002983  ...  0.000001   \n",
       "        1803  0.000167  0.000321  0.000647  0.001363  0.002983  ...  0.000001   \n",
       "        1804  0.000167  0.000321  0.000647  0.001363  0.002983  ...  0.000001   \n",
       "...                ...       ...       ...       ...       ...  ...       ...   \n",
       "zwe     2046  0.000017  0.000026  0.000041  0.000064  0.000107  ...  0.000146   \n",
       "        2047  0.000015  0.000025  0.000038  0.000059  0.000096  ...  0.000161   \n",
       "        2048  0.000016  0.000025  0.000039  0.000061  0.000099  ...  0.000160   \n",
       "        2049  0.000017  0.000026  0.000040  0.000063  0.000102  ...  0.000159   \n",
       "        2050  0.000019  0.000029  0.000044  0.000069  0.000111  ...  0.000158   \n",
       "\n",
       "bracket                 41            42            43            44  \\\n",
       "country year                                                           \n",
       "afg     1800  8.213336e-07  4.340338e-07  2.188647e-07  1.056966e-07   \n",
       "        1801  8.213336e-07  4.340338e-07  2.188647e-07  1.056966e-07   \n",
       "        1802  8.213336e-07  4.340338e-07  2.188647e-07  1.056966e-07   \n",
       "        1803  8.213336e-07  4.340338e-07  2.188647e-07  1.056966e-07   \n",
       "        1804  8.213336e-07  4.340338e-07  2.188647e-07  1.056966e-07   \n",
       "...                    ...           ...           ...           ...   \n",
       "zwe     2046  9.790029e-05  6.335044e-05  4.014304e-05  2.453922e-05   \n",
       "        2047  1.088063e-04  7.076688e-05  4.510082e-05  2.783601e-05   \n",
       "        2048  1.081985e-04  7.038234e-05  4.486389e-05  2.769628e-05   \n",
       "        2049  1.076603e-04  7.003507e-05  4.464662e-05  2.756596e-05   \n",
       "        2050  1.070452e-04  6.965369e-05  4.441861e-05  2.743848e-05   \n",
       "\n",
       "bracket                 45            46            47        48            49  \n",
       "country year                                                                    \n",
       "afg     1800  4.810179e-08  1.875028e-08  2.668005e-10  0.000000  0.000000e+00  \n",
       "        1801  4.810179e-08  1.875028e-08  2.668005e-10  0.000000  0.000000e+00  \n",
       "        1802  4.810179e-08  1.875028e-08  2.668005e-10  0.000000  0.000000e+00  \n",
       "        1803  4.810179e-08  1.875028e-08  2.668005e-10  0.000000  0.000000e+00  \n",
       "        1804  4.810179e-08  1.875028e-08  2.668005e-10  0.000000  0.000000e+00  \n",
       "...                    ...           ...           ...       ...           ...  \n",
       "zwe     2046  1.443742e-05  8.092027e-06  4.282865e-06  0.000002  9.594598e-07  \n",
       "        2047  1.655083e-05  9.404074e-06  5.056929e-06  0.000003  1.183575e-06  \n",
       "        2048  1.647282e-05  9.363419e-06  5.037504e-06  0.000003  1.180881e-06  \n",
       "        2049  1.639885e-05  9.324138e-06  5.018287e-06  0.000003  1.177785e-06  \n",
       "        2050  1.633252e-05  9.293116e-06  5.006047e-06  0.000003  1.178076e-06  \n",
       "\n",
       "[48945 rows x 50 columns]"
      ]
     },
     "execution_count": 66,
     "metadata": {},
     "output_type": "execute_result"
    }
   ],
   "source": [
    "res9 "
   ]
  },
  {
   "cell_type": "code",
   "execution_count": 67,
   "id": "b8a6130d",
   "metadata": {},
   "outputs": [
    {
     "data": {
      "text/plain": [
       "country  year\n",
       "afg      1800    0.999989\n",
       "         1801    0.999989\n",
       "         1802    0.999989\n",
       "         1803    0.999989\n",
       "         1804    0.999989\n",
       "                   ...   \n",
       "zwe      2046    0.999999\n",
       "         2047    0.999999\n",
       "         2048    0.999999\n",
       "         2049    0.999999\n",
       "         2050    0.999999\n",
       "Length: 48945, dtype: float64"
      ]
     },
     "execution_count": 67,
     "metadata": {},
     "output_type": "execute_result"
    }
   ],
   "source": [
    "res9.sum(axis=1)"
   ]
  },
  {
   "cell_type": "code",
   "execution_count": null,
   "id": "82e96718",
   "metadata": {},
   "outputs": [],
   "source": []
  },
  {
   "cell_type": "code",
   "execution_count": 68,
   "id": "e0569e88",
   "metadata": {},
   "outputs": [
    {
     "data": {
      "text/plain": [
       "[<matplotlib.lines.Line2D at 0x91caa4d30>]"
      ]
     },
     "execution_count": 68,
     "metadata": {},
     "output_type": "execute_result"
    },
    {
     "data": {
      "image/png": "[encoded data removed]",
      "text/plain": [
       "<Figure size 1960x1176 with 1 Axes>"
      ]
     },
     "metadata": {
      "needs_background": "light"
     },
     "output_type": "display_data"
    }
   ],
   "source": [
    "plt.plot(res9.loc[('chn', 1981)].T.values)"
   ]
  },
  {
   "cell_type": "code",
   "execution_count": null,
   "id": "203ea2e6",
   "metadata": {},
   "outputs": [],
   "source": []
  },
  {
   "cell_type": "code",
   "execution_count": null,
   "id": "ff68cd82",
   "metadata": {},
   "outputs": [],
   "source": [
    "# next, covert headcount to population "
   ]
  },
  {
   "cell_type": "code",
   "execution_count": 70,
   "id": "e77f4e22",
   "metadata": {},
   "outputs": [],
   "source": [
    "pop_file = '../../../ddf--gapminder--systema_globalis/countries-etc-datapoints/ddf--datapoints--population_total--by--geo--time.csv'\n",
    "pop = pd.read_csv(pop_file).set_index(['geo', 'time'])['population_total']"
   ]
  },
  {
   "cell_type": "code",
   "execution_count": 71,
   "id": "594bd1cf",
   "metadata": {},
   "outputs": [
    {
     "data": {
      "text/plain": [
       "geo  time\n",
       "afg  1800     3280000\n",
       "     1801     3280000\n",
       "     1802     3280000\n",
       "     1803     3280000\n",
       "     1804     3280000\n",
       "               ...   \n",
       "zwe  2096    30940779\n",
       "     2097    30952208\n",
       "     2098    30959811\n",
       "     2099    30964052\n",
       "     2100    30965421\n",
       "Name: population_total, Length: 59297, dtype: int64"
      ]
     },
     "execution_count": 71,
     "metadata": {},
     "output_type": "execute_result"
    }
   ],
   "source": [
    "pop"
   ]
  },
  {
   "cell_type": "code",
   "execution_count": 72,
   "id": "cd3ef18d",
   "metadata": {},
   "outputs": [],
   "source": [
    "res10 = []\n",
    "# gs = res9.groupby(['country', 'year'])\n",
    "for g, row in res9.iterrows():\n",
    "    p = pop.loc[g]\n",
    "    row_pop = np.round(row * p)\n",
    "    row_pop_str = ', '.join(row_pop.astype(int).astype(str))\n",
    "    res10.append(row_pop_str)"
   ]
  },
  {
   "cell_type": "code",
   "execution_count": 73,
   "id": "2a5132f8",
   "metadata": {},
   "outputs": [
    {
     "data": {
      "text/plain": [
       "'38, 62, 101, 171, 297, 549, 1054, 2121, 4469, 9785, 22244, 50807, 114153, 238678, 420643, 590768, 632066, 497472, 310623, 174939, 94564, 51133, 27933, 15301, 8414, 4710, 2669, 1549, 936, 582, 376, 249, 169, 116, 79, 53, 35, 22, 14, 8, 5, 3, 1, 1, 0, 0, 0, 0, 0, 0'"
      ]
     },
     "execution_count": 73,
     "metadata": {},
     "output_type": "execute_result"
    }
   ],
   "source": [
    "res10[0]"
   ]
  },
  {
   "cell_type": "code",
   "execution_count": 74,
   "id": "5104467b",
   "metadata": {},
   "outputs": [
    {
     "data": {
      "text/plain": [
       "'0, 0, 0, 0, 0, 0, 0, 0, 0, 0, 0, 0, 0, 0, 0, 1, 1, 1, 2, 3, 5, 9, 15, 26, 43, 74, 146, 323, 725, 1574, 3218, 6019, 9947, 12943, 13296, 11089, 7646, 4567, 2511, 1355, 703, 351, 168, 80, 39, 20, 10, 5, 3, 2'"
      ]
     },
     "execution_count": 74,
     "metadata": {},
     "output_type": "execute_result"
    }
   ],
   "source": [
    "res10[1000]"
   ]
  },
  {
   "cell_type": "code",
   "execution_count": 75,
   "id": "b30aa298",
   "metadata": {},
   "outputs": [],
   "source": [
    "res11 = pd.Series(res10, res9.index)"
   ]
  },
  {
   "cell_type": "code",
   "execution_count": 76,
   "id": "9ed2e999",
   "metadata": {},
   "outputs": [
    {
     "data": {
      "text/plain": [
       "country  year\n",
       "afg      1800    38, 62, 101, 171, 297, 549, 1054, 2121, 4469, ...\n",
       "         1801    38, 62, 101, 171, 297, 549, 1054, 2121, 4469, ...\n",
       "         1802    38, 62, 101, 171, 297, 549, 1054, 2121, 4469, ...\n",
       "         1803    38, 62, 101, 171, 297, 549, 1054, 2121, 4469, ...\n",
       "         1804    38, 62, 101, 171, 297, 549, 1054, 2121, 4469, ...\n",
       "                                       ...                        \n",
       "zwe      2046    0, 0, 13, 123, 229, 384, 602, 928, 1464, 2437,...\n",
       "         2047    0, 0, 7, 95, 209, 357, 566, 872, 1369, 2224, 3...\n",
       "         2048    0, 0, 8, 101, 221, 376, 592, 910, 1426, 2311, ...\n",
       "         2049    0, 0, 8, 105, 232, 394, 618, 949, 1488, 2411, ...\n",
       "         2050    0, 4, 17, 125, 265, 445, 692, 1060, 1653, 2657...\n",
       "Length: 48945, dtype: object"
      ]
     },
     "execution_count": 76,
     "metadata": {},
     "output_type": "execute_result"
    }
   ],
   "source": [
    "res11"
   ]
  },
  {
   "cell_type": "code",
   "execution_count": 77,
   "id": "62011c16",
   "metadata": {},
   "outputs": [],
   "source": [
    "res11.name = 'income_mountain_50bracket_shape_for_log'"
   ]
  },
  {
   "cell_type": "code",
   "execution_count": 78,
   "id": "b3647beb",
   "metadata": {},
   "outputs": [],
   "source": [
    "res11.to_csv('../../ddf--datapoints--income_mountain_50bracket_shape_for_log--by--country--year.csv')"
   ]
  },
  {
   "cell_type": "code",
   "execution_count": null,
   "id": "12952922",
   "metadata": {},
   "outputs": [],
   "source": []
  },
  {
   "cell_type": "code",
   "execution_count": null,
   "id": "9e0a808b",
   "metadata": {},
   "outputs": [],
   "source": []
  },
  {
   "cell_type": "code",
   "execution_count": null,
   "id": "b8f6af2c",
   "metadata": {},
   "outputs": [],
   "source": []
  }
 ],
 "metadata": {
  "kernelspec": {
   "display_name": "Python 3",
   "language": "python",
   "name": "python3"
  },
  "language_info": {
   "codemirror_mode": {
    "name": "ipython",
    "version": 3
   },
   "file_extension": ".py",
   "mimetype": "text/x-python",
   "name": "python",
   "nbconvert_exporter": "python",
   "pygments_lexer": "ipython3",
   "version": "3.8.10"
  }
 },
 "nbformat": 4,
 "nbformat_minor": 5
}
