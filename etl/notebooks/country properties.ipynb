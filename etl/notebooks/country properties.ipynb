{
 "cells": [
  {
   "cell_type": "code",
   "execution_count": 2,
   "id": "f644486b",
   "metadata": {},
   "outputs": [],
   "source": [
    "import pandas as pd\n",
    "import os.path as osp"
   ]
  },
  {
   "cell_type": "code",
   "execution_count": 3,
   "id": "f35313d8",
   "metadata": {},
   "outputs": [
    {
     "name": "stdout",
     "output_type": "stream",
     "text": [
      "brackets.csv\t\t\t\t ddf--open_numbers\r\n",
      "ddf--entities--coverage_type.csv\t neighbours_list.json\r\n",
      "ddf--entities--geo--on_income_level.csv  on_income_groups.csv\r\n",
      "ddf--entities--geo--wb_income_group.csv  povcal_country_year.csv\r\n",
      "ddf--entities--geo--west_and_rest.csv\t wb_income_groups.csv\r\n",
      "ddf--entities--geo--world_4regions.csv\t west_and_rest.csv\r\n"
     ]
    }
   ],
   "source": [
    "!ls ../source/fixtures/"
   ]
  },
  {
   "cell_type": "code",
   "execution_count": 5,
   "id": "10c0756a",
   "metadata": {},
   "outputs": [
    {
     "name": "stdout",
     "output_type": "stream",
     "text": [
      "total 39M\r\n",
      "drwxrwxr-x. 1 semio semio  628 Oct 18 11:41 .\r\n",
      "drwxrwxr-x. 1 semio semio  122 Oct 19 17:03 ..\r\n",
      "-rw-rw-r--. 1 semio semio 1.9K Jun  8 10:10 brackets.csv\r\n",
      "-rw-rw-r--. 1 semio semio   59 Jun 18 11:08 ddf--entities--coverage_type.csv\r\n",
      "-rw-rw-r--. 1 semio semio  105 Jun 18 11:09 ddf--entities--geo--on_income_level.csv\r\n",
      "-rw-rw-r--. 1 semio semio  136 Jun 18 11:09 ddf--entities--geo--wb_income_group.csv\r\n",
      "-rw-rw-r--. 1 semio semio   63 Jun 18 11:09 ddf--entities--geo--west_and_rest.csv\r\n",
      "-rw-rw-r--. 1 semio semio   99 Jun 18 11:09 ddf--entities--geo--world_4regions.csv\r\n",
      "drwxrwxr-x. 1 semio semio 1.3K Jul  6 22:10 ddf--open_numbers\r\n",
      "-rw-rw-r--. 1 semio semio  38M Oct 18 11:41 neighbours_list.json\r\n",
      "-rw-r--r--. 1 semio semio 813K Jun 15 10:18 on_income_groups.csv\r\n",
      "-rw-rw-r--. 1 semio semio  57K Oct 18 11:41 povcal_country_year.csv\r\n",
      "-rw-r--r--. 1 semio semio 305K Jun 14 10:23 wb_income_groups.csv\r\n",
      "-rw-r--r--. 1 semio semio 6.8K Oct 11 11:06 west_and_rest.csv\r\n"
     ]
    }
   ],
   "source": [
    "!ls -lah ../source/fixtures/"
   ]
  },
  {
   "cell_type": "code",
   "execution_count": 9,
   "id": "3c059709",
   "metadata": {},
   "outputs": [],
   "source": [
    "c = pd.read_csv(osp.join('../source/fixtures', 'povcal_country_year.csv'))"
   ]
  },
  {
   "cell_type": "code",
   "execution_count": 10,
   "id": "5c72d445",
   "metadata": {},
   "outputs": [
    {
     "data": {
      "text/plain": [
       "array(['ago', 'alb', 'are', 'arg', 'arm', 'aus', 'aut', 'aze', 'bdi',\n",
       "       'bel', 'ben', 'bfa', 'bgd', 'bgr', 'bih', 'blr', 'blz', 'bol',\n",
       "       'bra', 'btn', 'bwa', 'caf', 'can', 'che', 'chl', 'chn', 'civ',\n",
       "       'cmr', 'cod', 'cog', 'col', 'com', 'cpv', 'cri', 'cyp', 'cze',\n",
       "       'deu', 'dji', 'dnk', 'dom', 'dza', 'ecu', 'egy', 'esp', 'est',\n",
       "       'eth', 'fin', 'fji', 'fra', 'fsm', 'gab', 'gbr', 'geo', 'gha',\n",
       "       'gin', 'gmb', 'gnb', 'grc', 'gtm', 'guy', 'hnd', 'hrv', 'hti',\n",
       "       'hun', 'idn', 'ind', 'irl', 'irn', 'irq', 'isl', 'isr', 'ita',\n",
       "       'jam', 'jor', 'jpn', 'kaz', 'ken', 'kgz', 'kir', 'kor', 'lao',\n",
       "       'lbn', 'lbr', 'lca', 'lka', 'lso', 'ltu', 'lux', 'lva', 'mar',\n",
       "       'mda', 'mdg', 'mdv', 'mex', 'mkd', 'mli', 'mlt', 'mmr', 'mne',\n",
       "       'mng', 'moz', 'mrt', 'mus', 'mwi', 'mys', 'nam', 'ner', 'nga',\n",
       "       'nic', 'nld', 'nor', 'npl', 'nru', 'pak', 'pan', 'per', 'phl',\n",
       "       'png', 'pol', 'prt', 'pry', 'pse', 'rou', 'rus', 'rwa', 'sdn',\n",
       "       'sen', 'slb', 'sle', 'slv', 'som', 'srb', 'ssd', 'stp', 'sur',\n",
       "       'svk', 'svn', 'swe', 'swz', 'syc', 'syr', 'tcd', 'tgo', 'tha',\n",
       "       'tjk', 'tkm', 'tls', 'ton', 'tto', 'tun', 'tur', 'tuv', 'twn',\n",
       "       'tza', 'uga', 'ukr', 'ury', 'usa', 'uzb', 'ven', 'vnm', 'vut',\n",
       "       'wsm', 'kos', 'yem', 'zaf', 'zmb', 'zwe'], dtype=object)"
      ]
     },
     "execution_count": 10,
     "metadata": {},
     "output_type": "execute_result"
    }
   ],
   "source": [
    "c['country'].unique()"
   ]
  },
  {
   "cell_type": "code",
   "execution_count": 11,
   "id": "7df9eebe",
   "metadata": {},
   "outputs": [
    {
     "data": {
      "text/plain": [
       "168"
      ]
     },
     "execution_count": 11,
     "metadata": {},
     "output_type": "execute_result"
    }
   ],
   "source": [
    "len(c['country'].unique())"
   ]
  },
  {
   "cell_type": "code",
   "execution_count": 12,
   "id": "4e3d7360",
   "metadata": {},
   "outputs": [],
   "source": [
    "w = pd.read_csv(osp.join('../source/fixtures', 'west_and_rest.csv'))"
   ]
  },
  {
   "cell_type": "code",
   "execution_count": 13,
   "id": "3706c4e4",
   "metadata": {},
   "outputs": [
    {
     "data": {
      "text/plain": [
       "(195, 5)"
      ]
     },
     "execution_count": 13,
     "metadata": {},
     "output_type": "execute_result"
    }
   ],
   "source": [
    "w.shape"
   ]
  },
  {
   "cell_type": "code",
   "execution_count": null,
   "id": "430377b7",
   "metadata": {},
   "outputs": [],
   "source": []
  }
 ],
 "metadata": {
  "kernelspec": {
   "display_name": "Python 3 (ipykernel)",
   "language": "python",
   "name": "python3"
  },
  "language_info": {
   "codemirror_mode": {
    "name": "ipython",
    "version": 3
   },
   "file_extension": ".py",
   "mimetype": "text/x-python",
   "name": "python",
   "nbconvert_exporter": "python",
   "pygments_lexer": "ipython3",
   "version": "3.10.0"
  }
 },
 "nbformat": 4,
 "nbformat_minor": 5
}
