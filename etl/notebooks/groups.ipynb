{
 "cells": [
  {
   "cell_type": "code",
   "execution_count": 1,
   "id": "5bac6a9d",
   "metadata": {},
   "outputs": [],
   "source": [
    "import pandas as pd"
   ]
  },
  {
   "cell_type": "code",
   "execution_count": 169,
   "id": "6b420c6f",
   "metadata": {},
   "outputs": [],
   "source": [
    "from ddf_utils.str import format_float_digits"
   ]
  },
  {
   "cell_type": "code",
   "execution_count": 35,
   "id": "666ad7b2",
   "metadata": {},
   "outputs": [],
   "source": [
    "import seaborn\n",
    "import matplotlib.pyplot as plt\n",
    "%matplotlib inline"
   ]
  },
  {
   "cell_type": "code",
   "execution_count": 49,
   "id": "3d76a7e1",
   "metadata": {},
   "outputs": [],
   "source": [
    "seaborn.set_context('notebook')\n",
    "seaborn.set_style('whitegrid')\n",
    "plt.rcParams['figure.figsize'] = [16, 8]"
   ]
  },
  {
   "cell_type": "code",
   "execution_count": 2,
   "id": "14b183d6",
   "metadata": {},
   "outputs": [],
   "source": [
    "synonyms = pd.read_csv('../source/fixtures/ddf--open_numbers/ddf--synonyms--geo.csv')\n",
    "wb_groups = pd.read_csv('../source/fixtures/wb_income_groups.csv')"
   ]
  },
  {
   "cell_type": "code",
   "execution_count": 3,
   "id": "482ebd6c",
   "metadata": {},
   "outputs": [],
   "source": [
    "syn_mapping = synonyms.set_index('synonym')['geo'].to_dict()"
   ]
  },
  {
   "cell_type": "code",
   "execution_count": 13,
   "id": "767d4b25",
   "metadata": {},
   "outputs": [],
   "source": [
    "geo = pd.read_csv('../../ddf--entities--geo.csv')"
   ]
  },
  {
   "cell_type": "code",
   "execution_count": 14,
   "id": "ebb4e41e",
   "metadata": {},
   "outputs": [],
   "source": [
    "geo['geonew'] = geo['name'].map(syn_mapping)\n",
    "geo_mapping = geo.set_index('geo')['geonew'].to_dict()"
   ]
  },
  {
   "cell_type": "code",
   "execution_count": 104,
   "id": "f236cd2d",
   "metadata": {},
   "outputs": [],
   "source": [
    "df = pd.read_csv('../../ddf--datapoints--population_smooth--by--geo--year--income_bracket.csv')"
   ]
  },
  {
   "cell_type": "code",
   "execution_count": 59,
   "id": "ca0142cd",
   "metadata": {},
   "outputs": [
    {
     "data": {
      "text/html": [
       "<div>\n",
       "<style scoped>\n",
       "    .dataframe tbody tr th:only-of-type {\n",
       "        vertical-align: middle;\n",
       "    }\n",
       "\n",
       "    .dataframe tbody tr th {\n",
       "        vertical-align: top;\n",
       "    }\n",
       "\n",
       "    .dataframe thead th {\n",
       "        text-align: right;\n",
       "    }\n",
       "</style>\n",
       "<table border=\"1\" class=\"dataframe\">\n",
       "  <thead>\n",
       "    <tr style=\"text-align: right;\">\n",
       "      <th></th>\n",
       "      <th>geo</th>\n",
       "      <th>year</th>\n",
       "      <th>income_bracket</th>\n",
       "      <th>population_smooth</th>\n",
       "    </tr>\n",
       "  </thead>\n",
       "  <tbody>\n",
       "    <tr>\n",
       "      <th>0</th>\n",
       "      <td>ago</td>\n",
       "      <td>1981</td>\n",
       "      <td>0</td>\n",
       "      <td>149.987968</td>\n",
       "    </tr>\n",
       "    <tr>\n",
       "      <th>1</th>\n",
       "      <td>ago</td>\n",
       "      <td>1981</td>\n",
       "      <td>1</td>\n",
       "      <td>215.251967</td>\n",
       "    </tr>\n",
       "    <tr>\n",
       "      <th>2</th>\n",
       "      <td>ago</td>\n",
       "      <td>1981</td>\n",
       "      <td>2</td>\n",
       "      <td>293.397006</td>\n",
       "    </tr>\n",
       "    <tr>\n",
       "      <th>3</th>\n",
       "      <td>ago</td>\n",
       "      <td>1981</td>\n",
       "      <td>3</td>\n",
       "      <td>393.662631</td>\n",
       "    </tr>\n",
       "    <tr>\n",
       "      <th>4</th>\n",
       "      <td>ago</td>\n",
       "      <td>1981</td>\n",
       "      <td>4</td>\n",
       "      <td>523.259277</td>\n",
       "    </tr>\n",
       "    <tr>\n",
       "      <th>...</th>\n",
       "      <td>...</td>\n",
       "      <td>...</td>\n",
       "      <td>...</td>\n",
       "      <td>...</td>\n",
       "    </tr>\n",
       "    <tr>\n",
       "      <th>640895</th>\n",
       "      <td>zwe</td>\n",
       "      <td>2019</td>\n",
       "      <td>95</td>\n",
       "      <td>15.984335</td>\n",
       "    </tr>\n",
       "    <tr>\n",
       "      <th>640896</th>\n",
       "      <td>zwe</td>\n",
       "      <td>2019</td>\n",
       "      <td>96</td>\n",
       "      <td>10.732241</td>\n",
       "    </tr>\n",
       "    <tr>\n",
       "      <th>640897</th>\n",
       "      <td>zwe</td>\n",
       "      <td>2019</td>\n",
       "      <td>97</td>\n",
       "      <td>6.985642</td>\n",
       "    </tr>\n",
       "    <tr>\n",
       "      <th>640898</th>\n",
       "      <td>zwe</td>\n",
       "      <td>2019</td>\n",
       "      <td>98</td>\n",
       "      <td>4.388537</td>\n",
       "    </tr>\n",
       "    <tr>\n",
       "      <th>640899</th>\n",
       "      <td>zwe</td>\n",
       "      <td>2019</td>\n",
       "      <td>99</td>\n",
       "      <td>2.658628</td>\n",
       "    </tr>\n",
       "  </tbody>\n",
       "</table>\n",
       "<p>640900 rows × 4 columns</p>\n",
       "</div>"
      ],
      "text/plain": [
       "        geo  year  income_bracket  population_smooth\n",
       "0       ago  1981               0         149.987968\n",
       "1       ago  1981               1         215.251967\n",
       "2       ago  1981               2         293.397006\n",
       "3       ago  1981               3         393.662631\n",
       "4       ago  1981               4         523.259277\n",
       "...     ...   ...             ...                ...\n",
       "640895  zwe  2019              95          15.984335\n",
       "640896  zwe  2019              96          10.732241\n",
       "640897  zwe  2019              97           6.985642\n",
       "640898  zwe  2019              98           4.388537\n",
       "640899  zwe  2019              99           2.658628\n",
       "\n",
       "[640900 rows x 4 columns]"
      ]
     },
     "execution_count": 59,
     "metadata": {},
     "output_type": "execute_result"
    }
   ],
   "source": [
    "df"
   ]
  },
  {
   "cell_type": "code",
   "execution_count": 68,
   "id": "e426e65a",
   "metadata": {},
   "outputs": [],
   "source": [
    "df['geo'] = df['geo'].map(geo_mapping)"
   ]
  },
  {
   "cell_type": "code",
   "execution_count": 61,
   "id": "8fe7fb7d",
   "metadata": {},
   "outputs": [
    {
     "data": {
      "text/plain": [
       "False"
      ]
     },
     "execution_count": 61,
     "metadata": {},
     "output_type": "execute_result"
    }
   ],
   "source": [
    "df['geo'].hasnans"
   ]
  },
  {
   "cell_type": "code",
   "execution_count": 26,
   "id": "7179aa23",
   "metadata": {},
   "outputs": [],
   "source": [
    "def groups_over_time(df, col):\n",
    "    df_copy = df.copy()\n",
    "    df_copy['newindex'] = df['geo'] + '-' + df['time'].astype(str)\n",
    "    return df_copy.set_index('newindex')[col].to_dict()"
   ]
  },
  {
   "cell_type": "code",
   "execution_count": 28,
   "id": "5e5832d3",
   "metadata": {},
   "outputs": [],
   "source": [
    "wb_mapping = groups_over_time(wb_groups, \"WB's 4 income levels\")"
   ]
  },
  {
   "cell_type": "code",
   "execution_count": 29,
   "id": "61bf629d",
   "metadata": {},
   "outputs": [],
   "source": [
    "def translate_with_time_series(df: pd.DataFrame, mapping, newcol):\n",
    "    df_copy = df.copy()\n",
    "    df_copy['newindex'] = df['geo'] + '-' + df['year'].astype(str)\n",
    "    df_copy[newcol] = df_copy['newindex'].map(mapping)\n",
    "    return df_copy.drop(columns=['newindex'])"
   ]
  },
  {
   "cell_type": "code",
   "execution_count": 137,
   "id": "c6ad50bf",
   "metadata": {},
   "outputs": [
    {
     "data": {
      "text/html": [
       "<div>\n",
       "<style scoped>\n",
       "    .dataframe tbody tr th:only-of-type {\n",
       "        vertical-align: middle;\n",
       "    }\n",
       "\n",
       "    .dataframe tbody tr th {\n",
       "        vertical-align: top;\n",
       "    }\n",
       "\n",
       "    .dataframe thead th {\n",
       "        text-align: right;\n",
       "    }\n",
       "</style>\n",
       "<table border=\"1\" class=\"dataframe\">\n",
       "  <thead>\n",
       "    <tr style=\"text-align: right;\">\n",
       "      <th></th>\n",
       "      <th>geo</th>\n",
       "      <th>year</th>\n",
       "      <th>income_bracket</th>\n",
       "      <th>population_smooth</th>\n",
       "      <th>wb_income_group</th>\n",
       "    </tr>\n",
       "  </thead>\n",
       "  <tbody>\n",
       "    <tr>\n",
       "      <th>0</th>\n",
       "      <td>ago</td>\n",
       "      <td>1981</td>\n",
       "      <td>0</td>\n",
       "      <td>149.987968</td>\n",
       "      <td>NaN</td>\n",
       "    </tr>\n",
       "    <tr>\n",
       "      <th>1</th>\n",
       "      <td>ago</td>\n",
       "      <td>1981</td>\n",
       "      <td>1</td>\n",
       "      <td>215.251967</td>\n",
       "      <td>NaN</td>\n",
       "    </tr>\n",
       "    <tr>\n",
       "      <th>2</th>\n",
       "      <td>ago</td>\n",
       "      <td>1981</td>\n",
       "      <td>2</td>\n",
       "      <td>293.397006</td>\n",
       "      <td>NaN</td>\n",
       "    </tr>\n",
       "    <tr>\n",
       "      <th>3</th>\n",
       "      <td>ago</td>\n",
       "      <td>1981</td>\n",
       "      <td>3</td>\n",
       "      <td>393.662631</td>\n",
       "      <td>NaN</td>\n",
       "    </tr>\n",
       "    <tr>\n",
       "      <th>4</th>\n",
       "      <td>ago</td>\n",
       "      <td>1981</td>\n",
       "      <td>4</td>\n",
       "      <td>523.259277</td>\n",
       "      <td>NaN</td>\n",
       "    </tr>\n",
       "    <tr>\n",
       "      <th>...</th>\n",
       "      <td>...</td>\n",
       "      <td>...</td>\n",
       "      <td>...</td>\n",
       "      <td>...</td>\n",
       "      <td>...</td>\n",
       "    </tr>\n",
       "    <tr>\n",
       "      <th>640895</th>\n",
       "      <td>zwe</td>\n",
       "      <td>2019</td>\n",
       "      <td>95</td>\n",
       "      <td>15.984335</td>\n",
       "      <td>Lower middle income</td>\n",
       "    </tr>\n",
       "    <tr>\n",
       "      <th>640896</th>\n",
       "      <td>zwe</td>\n",
       "      <td>2019</td>\n",
       "      <td>96</td>\n",
       "      <td>10.732241</td>\n",
       "      <td>Lower middle income</td>\n",
       "    </tr>\n",
       "    <tr>\n",
       "      <th>640897</th>\n",
       "      <td>zwe</td>\n",
       "      <td>2019</td>\n",
       "      <td>97</td>\n",
       "      <td>6.985642</td>\n",
       "      <td>Lower middle income</td>\n",
       "    </tr>\n",
       "    <tr>\n",
       "      <th>640898</th>\n",
       "      <td>zwe</td>\n",
       "      <td>2019</td>\n",
       "      <td>98</td>\n",
       "      <td>4.388537</td>\n",
       "      <td>Lower middle income</td>\n",
       "    </tr>\n",
       "    <tr>\n",
       "      <th>640899</th>\n",
       "      <td>zwe</td>\n",
       "      <td>2019</td>\n",
       "      <td>99</td>\n",
       "      <td>2.658628</td>\n",
       "      <td>Lower middle income</td>\n",
       "    </tr>\n",
       "  </tbody>\n",
       "</table>\n",
       "<p>640900 rows × 5 columns</p>\n",
       "</div>"
      ],
      "text/plain": [
       "        geo  year  income_bracket  population_smooth      wb_income_group\n",
       "0       ago  1981               0         149.987968                  NaN\n",
       "1       ago  1981               1         215.251967                  NaN\n",
       "2       ago  1981               2         293.397006                  NaN\n",
       "3       ago  1981               3         393.662631                  NaN\n",
       "4       ago  1981               4         523.259277                  NaN\n",
       "...     ...   ...             ...                ...                  ...\n",
       "640895  zwe  2019              95          15.984335  Lower middle income\n",
       "640896  zwe  2019              96          10.732241  Lower middle income\n",
       "640897  zwe  2019              97           6.985642  Lower middle income\n",
       "640898  zwe  2019              98           4.388537  Lower middle income\n",
       "640899  zwe  2019              99           2.658628  Lower middle income\n",
       "\n",
       "[640900 rows x 5 columns]"
      ]
     },
     "execution_count": 137,
     "metadata": {},
     "output_type": "execute_result"
    }
   ],
   "source": [
    "translate_with_time_series(df, wb_mapping, 'wb_income_group')"
   ]
  },
  {
   "cell_type": "code",
   "execution_count": 138,
   "id": "4d654986",
   "metadata": {},
   "outputs": [],
   "source": [
    "df2 = translate_with_time_series(df, wb_mapping, 'wb_income_group')"
   ]
  },
  {
   "cell_type": "code",
   "execution_count": 139,
   "id": "51c3a1ce",
   "metadata": {},
   "outputs": [],
   "source": [
    "df2 = df2.dropna(how='any').drop(columns=['geo'])"
   ]
  },
  {
   "cell_type": "code",
   "execution_count": 140,
   "id": "a7fe5524",
   "metadata": {},
   "outputs": [],
   "source": [
    "df_wb = df2.groupby(by=['wb_income_group', 'year', 'income_bracket']).sum()"
   ]
  },
  {
   "cell_type": "code",
   "execution_count": 141,
   "id": "16720e8a",
   "metadata": {},
   "outputs": [
    {
     "data": {
      "text/html": [
       "<div>\n",
       "<style scoped>\n",
       "    .dataframe tbody tr th:only-of-type {\n",
       "        vertical-align: middle;\n",
       "    }\n",
       "\n",
       "    .dataframe tbody tr th {\n",
       "        vertical-align: top;\n",
       "    }\n",
       "\n",
       "    .dataframe thead th {\n",
       "        text-align: right;\n",
       "    }\n",
       "</style>\n",
       "<table border=\"1\" class=\"dataframe\">\n",
       "  <thead>\n",
       "    <tr style=\"text-align: right;\">\n",
       "      <th></th>\n",
       "      <th></th>\n",
       "      <th></th>\n",
       "      <th>population_smooth</th>\n",
       "    </tr>\n",
       "    <tr>\n",
       "      <th>wb_income_group</th>\n",
       "      <th>year</th>\n",
       "      <th>income_bracket</th>\n",
       "      <th></th>\n",
       "    </tr>\n",
       "  </thead>\n",
       "  <tbody>\n",
       "    <tr>\n",
       "      <th rowspan=\"5\" valign=\"top\">High income</th>\n",
       "      <th rowspan=\"5\" valign=\"top\">1987</th>\n",
       "      <th>0</th>\n",
       "      <td>11550.411155</td>\n",
       "    </tr>\n",
       "    <tr>\n",
       "      <th>1</th>\n",
       "      <td>15179.767809</td>\n",
       "    </tr>\n",
       "    <tr>\n",
       "      <th>2</th>\n",
       "      <td>19127.774235</td>\n",
       "    </tr>\n",
       "    <tr>\n",
       "      <th>3</th>\n",
       "      <td>23387.149725</td>\n",
       "    </tr>\n",
       "    <tr>\n",
       "      <th>4</th>\n",
       "      <td>27906.202006</td>\n",
       "    </tr>\n",
       "    <tr>\n",
       "      <th>...</th>\n",
       "      <th>...</th>\n",
       "      <th>...</th>\n",
       "      <td>...</td>\n",
       "    </tr>\n",
       "    <tr>\n",
       "      <th rowspan=\"5\" valign=\"top\">Upper middle income</th>\n",
       "      <th rowspan=\"5\" valign=\"top\">2019</th>\n",
       "      <th>95</th>\n",
       "      <td>2132.250156</td>\n",
       "    </tr>\n",
       "    <tr>\n",
       "      <th>96</th>\n",
       "      <td>1583.434922</td>\n",
       "    </tr>\n",
       "    <tr>\n",
       "      <th>97</th>\n",
       "      <td>1139.381923</td>\n",
       "    </tr>\n",
       "    <tr>\n",
       "      <th>98</th>\n",
       "      <td>806.836286</td>\n",
       "    </tr>\n",
       "    <tr>\n",
       "      <th>99</th>\n",
       "      <td>549.143452</td>\n",
       "    </tr>\n",
       "  </tbody>\n",
       "</table>\n",
       "<p>13200 rows × 1 columns</p>\n",
       "</div>"
      ],
      "text/plain": [
       "                                         population_smooth\n",
       "wb_income_group     year income_bracket                   \n",
       "High income         1987 0                    11550.411155\n",
       "                         1                    15179.767809\n",
       "                         2                    19127.774235\n",
       "                         3                    23387.149725\n",
       "                         4                    27906.202006\n",
       "...                                                    ...\n",
       "Upper middle income 2019 95                    2132.250156\n",
       "                         96                    1583.434922\n",
       "                         97                    1139.381923\n",
       "                         98                     806.836286\n",
       "                         99                     549.143452\n",
       "\n",
       "[13200 rows x 1 columns]"
      ]
     },
     "execution_count": 141,
     "metadata": {},
     "output_type": "execute_result"
    }
   ],
   "source": [
    "df_wb"
   ]
  },
  {
   "cell_type": "code",
   "execution_count": 136,
   "id": "efa91f63",
   "metadata": {},
   "outputs": [
    {
     "data": {
      "text/plain": [
       "<AxesSubplot:xlabel='income_bracket'>"
      ]
     },
     "execution_count": 136,
     "metadata": {},
     "output_type": "execute_result"
    },
    {
     "data": {
      "image/png": "[encoded data removed]",
      "text/plain": [
       "<Figure size 1152x576 with 1 Axes>"
      ]
     },
     "metadata": {},
     "output_type": "display_data"
    }
   ],
   "source": [
    "df_wb.loc[(\"Upper middle income\", 2000)].plot()"
   ]
  },
  {
   "cell_type": "code",
   "execution_count": 55,
   "id": "f56f18b4",
   "metadata": {},
   "outputs": [
    {
     "data": {
      "text/plain": [
       "population    1.713481e+07\n",
       "dtype: float64"
      ]
     },
     "execution_count": 55,
     "metadata": {},
     "output_type": "execute_result"
    }
   ],
   "source": [
    "df_wb.loc[(\"High income\", 1987)].std()"
   ]
  },
  {
   "cell_type": "code",
   "execution_count": 56,
   "id": "427827fb",
   "metadata": {},
   "outputs": [],
   "source": [
    "import sys\n",
    "sys.path.append('../scripts')"
   ]
  },
  {
   "cell_type": "code",
   "execution_count": 57,
   "id": "38fe7d3b",
   "metadata": {},
   "outputs": [],
   "source": [
    "import smoothlib"
   ]
  },
  {
   "cell_type": "code",
   "execution_count": null,
   "id": "bcfbf4b9",
   "metadata": {},
   "outputs": [],
   "source": []
  },
  {
   "cell_type": "code",
   "execution_count": 127,
   "id": "7a159c23",
   "metadata": {},
   "outputs": [
    {
     "data": {
      "text/plain": [
       "array([2.24089879e+04, 3.03061591e+04, 3.94722168e+04, 5.02367850e+04,\n",
       "       6.25499071e+04, 7.39992121e+04, 8.64337366e+04, 1.01291558e+05,\n",
       "       1.18239645e+05, 1.36638432e+05, 1.59663328e+05, 1.86844079e+05,\n",
       "       2.18988892e+05, 2.60918205e+05, 3.12896242e+05, 3.78540122e+05,\n",
       "       4.64259643e+05, 5.77912763e+05, 7.27582812e+05, 9.12171421e+05,\n",
       "       1.17696600e+06, 1.55851904e+06, 2.15571527e+06, 3.09813454e+06,\n",
       "       4.56824580e+06, 6.73922782e+06, 1.00025906e+07, 1.47115673e+07,\n",
       "       2.15608566e+07, 3.04650972e+07, 4.32790458e+07, 5.89671717e+07,\n",
       "       7.96270887e+07, 1.06721193e+08, 1.43617432e+08, 1.84588632e+08,\n",
       "       2.22092103e+08, 2.49413816e+08, 2.61019635e+08, 2.56139447e+08,\n",
       "       2.36840676e+08, 2.05391809e+08, 1.66970966e+08, 1.26581408e+08,\n",
       "       9.16849745e+07, 6.75425847e+07, 4.81869073e+07, 3.52893452e+07,\n",
       "       2.59965179e+07, 1.90630457e+07, 1.39526434e+07, 1.01433416e+07,\n",
       "       7.27845215e+06, 5.19519765e+06, 3.73517236e+06, 2.73908175e+06,\n",
       "       2.06156837e+06, 1.56132005e+06, 1.21436381e+06, 9.18173642e+05,\n",
       "       6.93361947e+05, 5.20831798e+05, 3.93913958e+05, 3.00884851e+05,\n",
       "       2.34788532e+05, 1.87924172e+05, 1.45761187e+05, 1.13603157e+05,\n",
       "       8.87505280e+04, 6.90073412e+04, 5.47125723e+04, 4.48948884e+04,\n",
       "       3.55752311e+04, 2.82834385e+04, 2.25492520e+04, 1.83327389e+04,\n",
       "       1.45248391e+04, 1.20399244e+04, 9.57445158e+03, 7.64416656e+03,\n",
       "       6.08544403e+03, 4.84868258e+03, 3.85553337e+03, 3.03416773e+03,\n",
       "       2.38417409e+03, 1.87390672e+03, 1.47126729e+03, 1.15556102e+03,\n",
       "       9.04033922e+02, 7.07052181e+02, 5.52702158e+02, 4.31964445e+02,\n",
       "       3.36557455e+02, 2.61535056e+02, 2.02588377e+02, 1.53971025e+02,\n",
       "       1.16060102e+02, 8.65445780e+01, 6.36287790e+01, 4.58568950e+01])"
      ]
     },
     "execution_count": 127,
     "metadata": {},
     "output_type": "execute_result"
    }
   ],
   "source": [
    "df_wb.loc[(\"Low income\", 1987)]['population_smooth'].values"
   ]
  },
  {
   "cell_type": "code",
   "execution_count": 132,
   "id": "379b0a35",
   "metadata": {},
   "outputs": [
    {
     "data": {
      "text/plain": [
       "<AxesSubplot:xlabel='income_bracket'>"
      ]
     },
     "execution_count": 132,
     "metadata": {},
     "output_type": "execute_result"
    },
    {
     "data": {
      "image/png": "[encoded data removed]",
      "text/plain": [
       "<Figure size 1152x576 with 1 Axes>"
      ]
     },
     "metadata": {},
     "output_type": "display_data"
    }
   ],
   "source": [
    "df_wb.loc[(\"High income\", 1987)]['population_smooth'].plot()\n",
    "df_wb.loc[(\"High income\", 2018)]['population_smooth'].plot()"
   ]
  },
  {
   "cell_type": "code",
   "execution_count": null,
   "id": "f5557fd5",
   "metadata": {},
   "outputs": [],
   "source": []
  },
  {
   "cell_type": "code",
   "execution_count": null,
   "id": "b500de43",
   "metadata": {},
   "outputs": [],
   "source": []
  },
  {
   "cell_type": "code",
   "execution_count": 84,
   "id": "4476b2d1",
   "metadata": {},
   "outputs": [
    {
     "data": {
      "text/plain": [
       "array([0.00000000e+00, 0.00000000e+00, 0.00000000e+00, 0.00000000e+00,\n",
       "       0.00000000e+00, 0.00000000e+00, 4.82649622e+05, 0.00000000e+00,\n",
       "       0.00000000e+00, 0.00000000e+00, 0.00000000e+00, 9.41661504e+04,\n",
       "       1.11501616e+05, 0.00000000e+00, 2.00499701e+03, 1.33456843e+05,\n",
       "       0.00000000e+00, 0.00000000e+00, 1.54146800e+04, 1.07782572e+05,\n",
       "       3.59077314e+04, 2.38531534e+05, 0.00000000e+00, 0.00000000e+00,\n",
       "       0.00000000e+00, 0.00000000e+00, 0.00000000e+00, 0.00000000e+00,\n",
       "       6.30235739e+04, 4.42745147e+05, 0.00000000e+00, 8.38713845e+03,\n",
       "       1.15302311e+05, 5.43087772e+04, 4.84544322e+05, 2.32642078e+05,\n",
       "       6.56469695e+05, 1.49144988e+05, 9.25389690e+04, 2.97349199e+04,\n",
       "       7.00440471e+05, 9.91905135e+05, 4.02800999e+05, 8.51544113e+05,\n",
       "       1.21034831e+06, 1.82738030e+06, 3.15641739e+06, 3.14901296e+06,\n",
       "       5.27533675e+06, 6.83419714e+06, 1.05251479e+07, 1.43671137e+07,\n",
       "       1.94038624e+07, 2.65308512e+07, 3.35921353e+07, 4.26112291e+07,\n",
       "       5.10463101e+07, 5.71972121e+07, 6.38039720e+07, 6.69975872e+07,\n",
       "       6.48854084e+07, 5.98486200e+07, 5.36023056e+07, 4.67416516e+07,\n",
       "       3.76113906e+07, 3.06959855e+07, 2.33907297e+07, 1.74545567e+07,\n",
       "       1.28382229e+07, 8.10050561e+06, 5.65521863e+06, 3.35156426e+06,\n",
       "       2.38628570e+06, 1.91555579e+06, 4.01716708e+05, 1.08000448e+06,\n",
       "       5.50880233e+04, 4.93224541e+05, 1.21735055e+05, 8.74424103e+03,\n",
       "       5.73828867e+04, 0.00000000e+00, 8.83458408e+03, 0.00000000e+00,\n",
       "       0.00000000e+00, 8.23308884e+03, 0.00000000e+00, 0.00000000e+00,\n",
       "       0.00000000e+00, 0.00000000e+00, 0.00000000e+00, 0.00000000e+00,\n",
       "       0.00000000e+00, 0.00000000e+00, 0.00000000e+00, 0.00000000e+00,\n",
       "       0.00000000e+00, 0.00000000e+00, 0.00000000e+00, 0.00000000e+00])"
      ]
     },
     "execution_count": 84,
     "metadata": {},
     "output_type": "execute_result"
    }
   ],
   "source": [
    "df_wb.loc[(\"High income\", 1987)]['population'].values"
   ]
  },
  {
   "cell_type": "code",
   "execution_count": 122,
   "id": "a2937798",
   "metadata": {},
   "outputs": [
    {
     "name": "stderr",
     "output_type": "stream",
     "text": [
      "/home/semio/.pyvenv/gapminder/lib64/python3.9/site-packages/scipy/optimize/minpack.py:828: OptimizeWarning: Covariance of the parameters could not be estimated\n",
      "  warnings.warn('Covariance of the parameters could not be estimated',\n",
      "/home/semio/.pyvenv/gapminder/lib64/python3.9/site-packages/scipy/optimize/minpack.py:828: OptimizeWarning: Covariance of the parameters could not be estimated\n",
      "  warnings.warn('Covariance of the parameters could not be estimated',\n",
      "/home/semio/.pyvenv/gapminder/lib64/python3.9/site-packages/scipy/optimize/minpack.py:828: OptimizeWarning: Covariance of the parameters could not be estimated\n",
      "  warnings.warn('Covariance of the parameters could not be estimated',\n",
      "/home/semio/.pyvenv/gapminder/lib64/python3.9/site-packages/scipy/optimize/minpack.py:828: OptimizeWarning: Covariance of the parameters could not be estimated\n",
      "  warnings.warn('Covariance of the parameters could not be estimated',\n",
      "/home/semio/.pyvenv/gapminder/lib64/python3.9/site-packages/scipy/optimize/minpack.py:828: OptimizeWarning: Covariance of the parameters could not be estimated\n",
      "  warnings.warn('Covariance of the parameters could not be estimated',\n"
     ]
    }
   ],
   "source": [
    "p = smoothlib.run_smooth(df_wb.loc[(\"High income\", 1987)]['population_smooth'], 3, 0)\n"
   ]
  },
  {
   "cell_type": "code",
   "execution_count": 123,
   "id": "754c340d",
   "metadata": {},
   "outputs": [
    {
     "data": {
      "text/plain": [
       "[<matplotlib.lines.Line2D at 0x7f9ed7ab3a00>]"
      ]
     },
     "execution_count": 123,
     "metadata": {},
     "output_type": "execute_result"
    },
    {
     "data": {
      "image/png": "[encoded data removed]",
      "text/plain": [
       "<Figure size 1152x576 with 1 Axes>"
      ]
     },
     "metadata": {},
     "output_type": "display_data"
    }
   ],
   "source": [
    "plt.plot(p)"
   ]
  },
  {
   "cell_type": "code",
   "execution_count": null,
   "id": "8116a935",
   "metadata": {},
   "outputs": [],
   "source": []
  },
  {
   "cell_type": "code",
   "execution_count": 124,
   "id": "ecf5812c",
   "metadata": {},
   "outputs": [
    {
     "data": {
      "text/plain": [
       "array([6.78935692e-47, 2.28651486e+04, 1.88091267e+04, 2.30757830e+04,\n",
       "       2.76465275e+04, 3.24250941e+04, 3.47992652e+04, 3.77977316e+04,\n",
       "       4.03682189e+04, 4.22157453e+04, 4.51508869e+04, 4.60856201e+04,\n",
       "       4.71947549e+04, 4.79787827e+04, 4.80202536e+04, 4.82633094e+04,\n",
       "       4.83552210e+04, 4.84107596e+04, 4.84662983e+04, 4.84520703e+04,\n",
       "       4.88891148e+04, 4.99715128e+04, 5.19765562e+04, 5.51927471e+04,\n",
       "       6.00821382e+04, 6.69229635e+04, 7.61526309e+04, 8.78304378e+04,\n",
       "       1.02096691e+05, 1.18253682e+05, 1.37428650e+05, 1.58412660e+05,\n",
       "       1.81602923e+05, 2.06575390e+05, 2.32691267e+05, 2.60803509e+05,\n",
       "       2.92864479e+05, 3.33432737e+05, 3.87908730e+05, 4.64594673e+05,\n",
       "       5.75014802e+05, 7.32183373e+05, 9.55035791e+05, 1.26705319e+06,\n",
       "       1.69354704e+06, 2.30990178e+06, 3.16055328e+06, 4.26549280e+06,\n",
       "       5.83423108e+06, 8.17243401e+06, 1.11580710e+07, 1.50612336e+07,\n",
       "       2.03879892e+07, 2.63699388e+07, 3.36980876e+07, 4.16969452e+07,\n",
       "       4.93527833e+07, 5.62589107e+07, 6.14701910e+07, 6.39897409e+07,\n",
       "       6.27021522e+07, 5.83281582e+07, 5.24247327e+07, 4.51979794e+07,\n",
       "       3.77680954e+07, 3.03994581e+07, 2.40024292e+07, 1.84205983e+07,\n",
       "       1.33978311e+07, 9.59155564e+06, 6.77985332e+06, 4.58315240e+06,\n",
       "       3.02844591e+06, 2.01527334e+06, 1.42962688e+06, 9.67218971e+05,\n",
       "       6.29024874e+05, 4.12491459e+05, 2.67488570e+05, 1.69560244e+05,\n",
       "       1.05124598e+05, 6.13278382e+04, 3.40610405e+04, 1.81219984e+04,\n",
       "       5.08375974e+03, 3.00768144e+03, 1.76166004e+03, 1.24913909e+03,\n",
       "       1.24502047e+03, 5.74093281e+02, 2.27315409e+02, 1.47681266e+02,\n",
       "       9.37819110e+01, 3.67621200e+01, 1.47048480e+01, 8.82291064e+00,\n",
       "       3.52916300e+00, 1.32343600e+00, 2.58449287e-01, 0.00000000e+00])"
      ]
     },
     "execution_count": 124,
     "metadata": {},
     "output_type": "execute_result"
    }
   ],
   "source": [
    "p.values"
   ]
  },
  {
   "cell_type": "code",
   "execution_count": 103,
   "id": "5021beb0",
   "metadata": {},
   "outputs": [
    {
     "data": {
      "text/plain": [
       "array([ 2.49495222e+004,  3.22763080e+004,  4.00158019e+004,\n",
       "        4.80962063e+004,  5.65267340e+004,  6.19879054e+004,\n",
       "        6.61562200e+004,  6.89491205e+004,  7.23645827e+004,\n",
       "        7.23388482e+004,  7.12948754e+004,  6.93556070e+004,\n",
       "        6.63565407e+004,  6.22352746e+004,  5.90174358e+004,\n",
       "        5.67189060e+004,  5.43488577e+004,  5.18813628e+004,\n",
       "        4.98289216e+004,  4.86397156e+004,  4.66117567e+004,\n",
       "        4.64537223e+004,  4.86949750e+004,  5.35391021e+004,\n",
       "        6.07117957e+004,  7.08890596e+004,  7.99150938e+004,\n",
       "        9.31767614e+004,  1.09620246e+005,  1.33551348e+005,\n",
       "        1.59179796e+005,  1.98070960e+005,  2.42425805e+005,\n",
       "        2.85850097e+005,  3.30428682e+005,  3.81630256e+005,\n",
       "        4.47052797e+005,  5.00686749e+005,  5.55949285e+005,\n",
       "        6.18747182e+005,  7.38131024e+005,  8.74894794e+005,\n",
       "        1.00028580e+006,  1.17529849e+006,  1.44600534e+006,\n",
       "        1.89779018e+006,  2.44508907e+006,  3.37285813e+006,\n",
       "        5.27530346e+006,  6.83419714e+006,  1.05251486e+007,\n",
       "        1.43671143e+007,  1.94038629e+007,  2.65308512e+007,\n",
       "        3.35921353e+007,  4.26112291e+007,  5.10463101e+007,\n",
       "        5.71972121e+007,  6.38039720e+007,  6.69975872e+007,\n",
       "        6.48854084e+007,  5.98486200e+007,  5.36023056e+007,\n",
       "        4.67416516e+007,  3.76113906e+007,  3.06959855e+007,\n",
       "        2.33907297e+007,  1.74545576e+007,  1.28382218e+007,\n",
       "        8.10050562e+006,  5.65521903e+006,  2.88229445e+006,\n",
       "        1.34983536e+006, -2.31095615e+005,  4.56491233e+005,\n",
       "        8.41036686e+005,  7.57990442e+005,  5.15772188e+005,\n",
       "        3.07442649e+005,  1.77332939e+005,  1.04277525e+005,\n",
       "        5.74496790e+004,  2.63178674e+004,  1.01326142e+004,\n",
       "        5.17104455e+003,  2.92891266e+003,  1.59685374e+003,\n",
       "        1.28734904e+003,  9.72871520e+002,  7.03952383e+002,\n",
       "        4.68720731e+002,  2.50913693e+002,  1.20229471e+002,\n",
       "        3.65915822e+001,  9.88131292e-318,  9.88131292e-318,\n",
       "        0.00000000e+000,  4.94065646e-318,  0.00000000e+000,\n",
       "        0.00000000e+000])"
      ]
     },
     "execution_count": 103,
     "metadata": {},
     "output_type": "execute_result"
    }
   ],
   "source": [
    "p.values"
   ]
  },
  {
   "cell_type": "code",
   "execution_count": null,
   "id": "ec8aa1bc",
   "metadata": {},
   "outputs": [],
   "source": []
  },
  {
   "cell_type": "code",
   "execution_count": null,
   "id": "3a4d450f",
   "metadata": {},
   "outputs": [],
   "source": []
  },
  {
   "cell_type": "code",
   "execution_count": null,
   "id": "dd227431",
   "metadata": {},
   "outputs": [],
   "source": []
  },
  {
   "cell_type": "code",
   "execution_count": 142,
   "id": "eaa2cedf",
   "metadata": {},
   "outputs": [],
   "source": [
    "df_wb2 = df_wb.reset_index()"
   ]
  },
  {
   "cell_type": "code",
   "execution_count": 143,
   "id": "08bd7ad6",
   "metadata": {},
   "outputs": [
    {
     "data": {
      "text/plain": [
       "array(['High income', 'Low income', 'Lower middle income',\n",
       "       'Upper middle income'], dtype=object)"
      ]
     },
     "execution_count": 143,
     "metadata": {},
     "output_type": "execute_result"
    }
   ],
   "source": [
    "df_wb2['wb_income_group'].unique()"
   ]
  },
  {
   "cell_type": "code",
   "execution_count": 144,
   "id": "631ad620",
   "metadata": {},
   "outputs": [
    {
     "name": "stdout",
     "output_type": "stream",
     "text": [
      "Object `replace` not found.\n"
     ]
    }
   ],
   "source": [
    "df_wb2['wb_income_group'].replace?"
   ]
  },
  {
   "cell_type": "code",
   "execution_count": 146,
   "id": "ddb995a7",
   "metadata": {},
   "outputs": [],
   "source": [
    "df_wb2['wb_income_group'] = df_wb2['wb_income_group'].replace({'High income': 1, 'Low income': 4, 'Upper middle income': 2, 'Lower middle income': 3})"
   ]
  },
  {
   "cell_type": "code",
   "execution_count": 149,
   "id": "5f4a3ec0",
   "metadata": {},
   "outputs": [],
   "source": [
    "df_wb2 = df_wb2.sort_values(by=['wb_income_group', 'year', 'income_bracket'])"
   ]
  },
  {
   "cell_type": "code",
   "execution_count": 172,
   "id": "a611ac30",
   "metadata": {},
   "outputs": [],
   "source": [
    "df_wb2['population_smooth'] = df_wb2['population_smooth'].astype(int)"
   ]
  },
  {
   "cell_type": "code",
   "execution_count": 173,
   "id": "772e17db",
   "metadata": {},
   "outputs": [],
   "source": [
    "df_wb2.to_csv('../../ddf--datapoints--population_smooth--by--wb_income_group--year--income_bracket.csv', index=False)"
   ]
  },
  {
   "cell_type": "code",
   "execution_count": 181,
   "id": "f69edcc6",
   "metadata": {},
   "outputs": [],
   "source": [
    "df_wb3 = df_wb2.set_index(['wb_income_group', 'year', 'income_bracket']).groupby(['wb_income_group', 'year'], as_index=True).apply(lambda x: x / x.sum())"
   ]
  },
  {
   "cell_type": "code",
   "execution_count": 182,
   "id": "c788b1f6",
   "metadata": {},
   "outputs": [],
   "source": [
    "df_wb3.columns = ['population_percentage_smooth']\n",
    "df_wb3['population_percentage_smooth'] = df_wb3['population_percentage_smooth'].map(format_float_digits)"
   ]
  },
  {
   "cell_type": "code",
   "execution_count": 183,
   "id": "f5c850e3",
   "metadata": {},
   "outputs": [],
   "source": [
    "df_wb3.to_csv('../../ddf--datapoints--population_percentage_smooth--by--wb_income_group--year--income_bracket.csv')"
   ]
  },
  {
   "cell_type": "code",
   "execution_count": null,
   "id": "41d7b741",
   "metadata": {},
   "outputs": [],
   "source": []
  },
  {
   "cell_type": "code",
   "execution_count": null,
   "id": "30d9ed2b",
   "metadata": {},
   "outputs": [],
   "source": []
  },
  {
   "cell_type": "code",
   "execution_count": null,
   "id": "ed2095b5",
   "metadata": {},
   "outputs": [],
   "source": []
  },
  {
   "cell_type": "code",
   "execution_count": 151,
   "id": "0efe627f",
   "metadata": {},
   "outputs": [],
   "source": [
    "west_and_rest = pd.read_csv('../source/fixtures/west_and_rest.csv')"
   ]
  },
  {
   "cell_type": "code",
   "execution_count": 152,
   "id": "e895b543",
   "metadata": {},
   "outputs": [],
   "source": [
    "wr_mapping = west_and_rest.set_index('geo')['geo.gm_west_rest'].to_dict()"
   ]
  },
  {
   "cell_type": "code",
   "execution_count": 154,
   "id": "c17744ab",
   "metadata": {},
   "outputs": [],
   "source": [
    "df_wr = df.copy()"
   ]
  },
  {
   "cell_type": "code",
   "execution_count": 155,
   "id": "8ffb877e",
   "metadata": {},
   "outputs": [],
   "source": [
    "df_wr['west_and_rest'] = df_wr['geo'].map(wr_mapping)"
   ]
  },
  {
   "cell_type": "code",
   "execution_count": 156,
   "id": "f5f084d7",
   "metadata": {},
   "outputs": [
    {
     "data": {
      "text/html": [
       "<div>\n",
       "<style scoped>\n",
       "    .dataframe tbody tr th:only-of-type {\n",
       "        vertical-align: middle;\n",
       "    }\n",
       "\n",
       "    .dataframe tbody tr th {\n",
       "        vertical-align: top;\n",
       "    }\n",
       "\n",
       "    .dataframe thead th {\n",
       "        text-align: right;\n",
       "    }\n",
       "</style>\n",
       "<table border=\"1\" class=\"dataframe\">\n",
       "  <thead>\n",
       "    <tr style=\"text-align: right;\">\n",
       "      <th></th>\n",
       "      <th>geo</th>\n",
       "      <th>year</th>\n",
       "      <th>income_bracket</th>\n",
       "      <th>population_smooth</th>\n",
       "      <th>west_and_rest</th>\n",
       "    </tr>\n",
       "  </thead>\n",
       "  <tbody>\n",
       "    <tr>\n",
       "      <th>0</th>\n",
       "      <td>ago</td>\n",
       "      <td>1981</td>\n",
       "      <td>0</td>\n",
       "      <td>149.987968</td>\n",
       "      <td>rest</td>\n",
       "    </tr>\n",
       "    <tr>\n",
       "      <th>1</th>\n",
       "      <td>ago</td>\n",
       "      <td>1981</td>\n",
       "      <td>1</td>\n",
       "      <td>215.251967</td>\n",
       "      <td>rest</td>\n",
       "    </tr>\n",
       "    <tr>\n",
       "      <th>2</th>\n",
       "      <td>ago</td>\n",
       "      <td>1981</td>\n",
       "      <td>2</td>\n",
       "      <td>293.397006</td>\n",
       "      <td>rest</td>\n",
       "    </tr>\n",
       "    <tr>\n",
       "      <th>3</th>\n",
       "      <td>ago</td>\n",
       "      <td>1981</td>\n",
       "      <td>3</td>\n",
       "      <td>393.662631</td>\n",
       "      <td>rest</td>\n",
       "    </tr>\n",
       "    <tr>\n",
       "      <th>4</th>\n",
       "      <td>ago</td>\n",
       "      <td>1981</td>\n",
       "      <td>4</td>\n",
       "      <td>523.259277</td>\n",
       "      <td>rest</td>\n",
       "    </tr>\n",
       "    <tr>\n",
       "      <th>...</th>\n",
       "      <td>...</td>\n",
       "      <td>...</td>\n",
       "      <td>...</td>\n",
       "      <td>...</td>\n",
       "      <td>...</td>\n",
       "    </tr>\n",
       "    <tr>\n",
       "      <th>640895</th>\n",
       "      <td>zwe</td>\n",
       "      <td>2019</td>\n",
       "      <td>95</td>\n",
       "      <td>15.984335</td>\n",
       "      <td>rest</td>\n",
       "    </tr>\n",
       "    <tr>\n",
       "      <th>640896</th>\n",
       "      <td>zwe</td>\n",
       "      <td>2019</td>\n",
       "      <td>96</td>\n",
       "      <td>10.732241</td>\n",
       "      <td>rest</td>\n",
       "    </tr>\n",
       "    <tr>\n",
       "      <th>640897</th>\n",
       "      <td>zwe</td>\n",
       "      <td>2019</td>\n",
       "      <td>97</td>\n",
       "      <td>6.985642</td>\n",
       "      <td>rest</td>\n",
       "    </tr>\n",
       "    <tr>\n",
       "      <th>640898</th>\n",
       "      <td>zwe</td>\n",
       "      <td>2019</td>\n",
       "      <td>98</td>\n",
       "      <td>4.388537</td>\n",
       "      <td>rest</td>\n",
       "    </tr>\n",
       "    <tr>\n",
       "      <th>640899</th>\n",
       "      <td>zwe</td>\n",
       "      <td>2019</td>\n",
       "      <td>99</td>\n",
       "      <td>2.658628</td>\n",
       "      <td>rest</td>\n",
       "    </tr>\n",
       "  </tbody>\n",
       "</table>\n",
       "<p>640900 rows × 5 columns</p>\n",
       "</div>"
      ],
      "text/plain": [
       "        geo  year  income_bracket  population_smooth west_and_rest\n",
       "0       ago  1981               0         149.987968          rest\n",
       "1       ago  1981               1         215.251967          rest\n",
       "2       ago  1981               2         293.397006          rest\n",
       "3       ago  1981               3         393.662631          rest\n",
       "4       ago  1981               4         523.259277          rest\n",
       "...     ...   ...             ...                ...           ...\n",
       "640895  zwe  2019              95          15.984335          rest\n",
       "640896  zwe  2019              96          10.732241          rest\n",
       "640897  zwe  2019              97           6.985642          rest\n",
       "640898  zwe  2019              98           4.388537          rest\n",
       "640899  zwe  2019              99           2.658628          rest\n",
       "\n",
       "[640900 rows x 5 columns]"
      ]
     },
     "execution_count": 156,
     "metadata": {},
     "output_type": "execute_result"
    }
   ],
   "source": [
    "df_wr"
   ]
  },
  {
   "cell_type": "code",
   "execution_count": 158,
   "id": "e90ed166",
   "metadata": {},
   "outputs": [],
   "source": [
    "df_wr_sum = df_wr.drop(columns=['geo']).groupby(['west_and_rest', 'year', 'income_bracket']).sum()"
   ]
  },
  {
   "cell_type": "code",
   "execution_count": 159,
   "id": "9c5f8c6a",
   "metadata": {},
   "outputs": [],
   "source": [
    "df_wr_sum = df_wr_sum.reset_index()\n",
    "df_wr_sum['west_and_rest'] = df_wr_sum['west_and_rest'].replace({'west': 1, 'rest': 2})"
   ]
  },
  {
   "cell_type": "code",
   "execution_count": 170,
   "id": "2a687027",
   "metadata": {},
   "outputs": [],
   "source": [
    "df_wr_sum['population_smooth'] = df_wr_sum['population_smooth'].astype(int)"
   ]
  },
  {
   "cell_type": "code",
   "execution_count": 171,
   "id": "df8ffd69",
   "metadata": {},
   "outputs": [],
   "source": [
    "df_wr_sum.sort_values(by=['west_and_rest', 'year', 'income_bracket']).to_csv('../../ddf--datapoints--population_smooth--by--west_and_rest--year--income_bracket.csv', index=False)"
   ]
  },
  {
   "cell_type": "code",
   "execution_count": 190,
   "id": "338efc3e",
   "metadata": {},
   "outputs": [],
   "source": [
    "df_wr2 = df_wr_sum.set_index(['west_and_rest', 'year', 'income_bracket']).groupby(['west_and_rest', 'year'], as_index=True).apply(lambda x: x / x.sum())"
   ]
  },
  {
   "cell_type": "code",
   "execution_count": 192,
   "id": "1f3d435d",
   "metadata": {},
   "outputs": [],
   "source": [
    "df_wr2.columns = ['population_percentage_smooth']\n",
    "df_wr2['population_percentage_smooth'] = df_wr2['population_percentage_smooth'].map(format_float_digits)"
   ]
  },
  {
   "cell_type": "code",
   "execution_count": 193,
   "id": "f007a470",
   "metadata": {},
   "outputs": [],
   "source": [
    "df_wr2.to_csv('../../ddf--datapoints--population_percentage_smooth--by--west_and_rest--year--income_bracket.csv')"
   ]
  },
  {
   "cell_type": "code",
   "execution_count": null,
   "id": "ea8b8723",
   "metadata": {},
   "outputs": [],
   "source": []
  }
 ],
 "metadata": {
  "kernelspec": {
   "display_name": "Python 3",
   "language": "python",
   "name": "python3"
  },
  "language_info": {
   "codemirror_mode": {
    "name": "ipython",
    "version": 3
   },
   "file_extension": ".py",
   "mimetype": "text/x-python",
   "name": "python",
   "nbconvert_exporter": "python",
   "pygments_lexer": "ipython3",
   "version": "3.9.5"
  }
 },
 "nbformat": 4,
 "nbformat_minor": 5
}
