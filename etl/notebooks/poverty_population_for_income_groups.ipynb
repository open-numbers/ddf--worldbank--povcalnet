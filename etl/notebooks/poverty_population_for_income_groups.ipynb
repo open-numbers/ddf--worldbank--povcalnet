{
 "cells": [
  {
   "cell_type": "code",
   "execution_count": 1,
   "id": "7c79955b",
   "metadata": {},
   "outputs": [],
   "source": [
    "import pandas as pd"
   ]
  },
  {
   "cell_type": "code",
   "execution_count": 2,
   "id": "a923bd0a",
   "metadata": {},
   "outputs": [],
   "source": [
    "ilevel4 = pd.read_csv('../source/fixtures/ddf--datapoints--ilevels4--by--country--time.csv')\n",
    "ilevel4_wb = pd.read_csv('../source/fixtures/ddf--datapoints--ilevels4_wb--by--country--time.csv')\n",
    "ilevel4_latest = pd.read_csv('../source/fixtures/wb_groups.csv')"
   ]
  },
  {
   "cell_type": "code",
   "execution_count": 9,
   "id": "1ceae4c9",
   "metadata": {},
   "outputs": [
    {
     "data": {
      "text/plain": [
       "array(['Level 1', 'Level 2', 'Level 3', 'Level 4'], dtype=object)"
      ]
     },
     "execution_count": 9,
     "metadata": {},
     "output_type": "execute_result"
    }
   ],
   "source": [
    "ilevel4['ilevels4'].unique()"
   ]
  },
  {
   "cell_type": "code",
   "execution_count": null,
   "id": "674ce7a7",
   "metadata": {},
   "outputs": [
    {
     "data": {
      "text/plain": [
       "array(['Low income', 'Lower middle income', 'Upper middle income',\n",
       "       'High income'], dtype=object)"
      ]
     },
     "execution_count": 8,
     "metadata": {},
     "output_type": "execute_result"
    }
   ],
   "source": [
    "ilevel4_wb['ilevels4_wb'].unique()"
   ]
  },
  {
   "cell_type": "code",
   "execution_count": 3,
   "id": "ac26ecbf",
   "metadata": {},
   "outputs": [],
   "source": [
    "m1 = { \"Level 1\": 'lic', 'Level 2': 'lmic', 'Level 3': 'umic', 'Level 4': 'hic'}\n",
    "m2 = {'Low income': 'lic', 'Lower middle income': 'lmic', 'Upper middle income': 'umic', 'High income': 'hic'}"
   ]
  },
  {
   "cell_type": "code",
   "execution_count": 42,
   "id": "a60046c0",
   "metadata": {},
   "outputs": [],
   "source": [
    "ilevel4['ilevels4'] = ilevel4['ilevels4'].map(m1)\n",
    "ilevel4_wb['ilevels4_wb'] = ilevel4_wb['ilevels4_wb'].map(m2)"
   ]
  },
  {
   "cell_type": "code",
   "execution_count": 43,
   "id": "cec9e6c5",
   "metadata": {},
   "outputs": [
    {
     "data": {
      "text/html": [
       "<div>\n",
       "<style scoped>\n",
       "    .dataframe tbody tr th:only-of-type {\n",
       "        vertical-align: middle;\n",
       "    }\n",
       "\n",
       "    .dataframe tbody tr th {\n",
       "        vertical-align: top;\n",
       "    }\n",
       "\n",
       "    .dataframe thead th {\n",
       "        text-align: right;\n",
       "    }\n",
       "</style>\n",
       "<table border=\"1\" class=\"dataframe\">\n",
       "  <thead>\n",
       "    <tr style=\"text-align: right;\">\n",
       "      <th></th>\n",
       "      <th>country</th>\n",
       "      <th>time</th>\n",
       "      <th>wb</th>\n",
       "    </tr>\n",
       "  </thead>\n",
       "  <tbody>\n",
       "    <tr>\n",
       "      <th>0</th>\n",
       "      <td>afg</td>\n",
       "      <td>1800</td>\n",
       "      <td>lic</td>\n",
       "    </tr>\n",
       "    <tr>\n",
       "      <th>1</th>\n",
       "      <td>afg</td>\n",
       "      <td>1801</td>\n",
       "      <td>lic</td>\n",
       "    </tr>\n",
       "    <tr>\n",
       "      <th>2</th>\n",
       "      <td>afg</td>\n",
       "      <td>1802</td>\n",
       "      <td>lic</td>\n",
       "    </tr>\n",
       "    <tr>\n",
       "      <th>3</th>\n",
       "      <td>afg</td>\n",
       "      <td>1803</td>\n",
       "      <td>lic</td>\n",
       "    </tr>\n",
       "    <tr>\n",
       "      <th>4</th>\n",
       "      <td>afg</td>\n",
       "      <td>1804</td>\n",
       "      <td>lic</td>\n",
       "    </tr>\n",
       "    <tr>\n",
       "      <th>...</th>\n",
       "      <td>...</td>\n",
       "      <td>...</td>\n",
       "      <td>...</td>\n",
       "    </tr>\n",
       "    <tr>\n",
       "      <th>48940</th>\n",
       "      <td>zwe</td>\n",
       "      <td>2046</td>\n",
       "      <td>lmic</td>\n",
       "    </tr>\n",
       "    <tr>\n",
       "      <th>48941</th>\n",
       "      <td>zwe</td>\n",
       "      <td>2047</td>\n",
       "      <td>lmic</td>\n",
       "    </tr>\n",
       "    <tr>\n",
       "      <th>48942</th>\n",
       "      <td>zwe</td>\n",
       "      <td>2048</td>\n",
       "      <td>lmic</td>\n",
       "    </tr>\n",
       "    <tr>\n",
       "      <th>48943</th>\n",
       "      <td>zwe</td>\n",
       "      <td>2049</td>\n",
       "      <td>lmic</td>\n",
       "    </tr>\n",
       "    <tr>\n",
       "      <th>48944</th>\n",
       "      <td>zwe</td>\n",
       "      <td>2050</td>\n",
       "      <td>lmic</td>\n",
       "    </tr>\n",
       "  </tbody>\n",
       "</table>\n",
       "<p>48945 rows × 3 columns</p>\n",
       "</div>"
      ],
      "text/plain": [
       "      country  time    wb\n",
       "0         afg  1800   lic\n",
       "1         afg  1801   lic\n",
       "2         afg  1802   lic\n",
       "3         afg  1803   lic\n",
       "4         afg  1804   lic\n",
       "...       ...   ...   ...\n",
       "48940     zwe  2046  lmic\n",
       "48941     zwe  2047  lmic\n",
       "48942     zwe  2048  lmic\n",
       "48943     zwe  2049  lmic\n",
       "48944     zwe  2050  lmic\n",
       "\n",
       "[48945 rows x 3 columns]"
      ]
     },
     "execution_count": 43,
     "metadata": {},
     "output_type": "execute_result"
    }
   ],
   "source": [
    "ilevel4_latest"
   ]
  },
  {
   "cell_type": "code",
   "execution_count": 7,
   "id": "b92c6811",
   "metadata": {},
   "outputs": [],
   "source": [
    "ilevel4_latest.columns = ['country', 'name', 'time', 'gm', 'wb']\n",
    "ilevel4_latest = ilevel4_latest.set_index(['country', 'time'])['wb']"
   ]
  },
  {
   "cell_type": "code",
   "execution_count": 44,
   "id": "8dbad908",
   "metadata": {},
   "outputs": [
    {
     "data": {
      "text/html": [
       "<div>\n",
       "<style scoped>\n",
       "    .dataframe tbody tr th:only-of-type {\n",
       "        vertical-align: middle;\n",
       "    }\n",
       "\n",
       "    .dataframe tbody tr th {\n",
       "        vertical-align: top;\n",
       "    }\n",
       "\n",
       "    .dataframe thead th {\n",
       "        text-align: right;\n",
       "    }\n",
       "</style>\n",
       "<table border=\"1\" class=\"dataframe\">\n",
       "  <thead>\n",
       "    <tr style=\"text-align: right;\">\n",
       "      <th></th>\n",
       "      <th>country</th>\n",
       "      <th>time</th>\n",
       "      <th>ilevels4</th>\n",
       "    </tr>\n",
       "  </thead>\n",
       "  <tbody>\n",
       "    <tr>\n",
       "      <th>0</th>\n",
       "      <td>afg</td>\n",
       "      <td>1800</td>\n",
       "      <td>lic</td>\n",
       "    </tr>\n",
       "    <tr>\n",
       "      <th>1</th>\n",
       "      <td>afg</td>\n",
       "      <td>1801</td>\n",
       "      <td>lic</td>\n",
       "    </tr>\n",
       "    <tr>\n",
       "      <th>2</th>\n",
       "      <td>afg</td>\n",
       "      <td>1802</td>\n",
       "      <td>lic</td>\n",
       "    </tr>\n",
       "    <tr>\n",
       "      <th>3</th>\n",
       "      <td>afg</td>\n",
       "      <td>1803</td>\n",
       "      <td>lic</td>\n",
       "    </tr>\n",
       "    <tr>\n",
       "      <th>4</th>\n",
       "      <td>afg</td>\n",
       "      <td>1804</td>\n",
       "      <td>lic</td>\n",
       "    </tr>\n",
       "    <tr>\n",
       "      <th>...</th>\n",
       "      <td>...</td>\n",
       "      <td>...</td>\n",
       "      <td>...</td>\n",
       "    </tr>\n",
       "    <tr>\n",
       "      <th>48940</th>\n",
       "      <td>zwe</td>\n",
       "      <td>2046</td>\n",
       "      <td>lmic</td>\n",
       "    </tr>\n",
       "    <tr>\n",
       "      <th>48941</th>\n",
       "      <td>zwe</td>\n",
       "      <td>2047</td>\n",
       "      <td>lmic</td>\n",
       "    </tr>\n",
       "    <tr>\n",
       "      <th>48942</th>\n",
       "      <td>zwe</td>\n",
       "      <td>2048</td>\n",
       "      <td>lmic</td>\n",
       "    </tr>\n",
       "    <tr>\n",
       "      <th>48943</th>\n",
       "      <td>zwe</td>\n",
       "      <td>2049</td>\n",
       "      <td>lmic</td>\n",
       "    </tr>\n",
       "    <tr>\n",
       "      <th>48944</th>\n",
       "      <td>zwe</td>\n",
       "      <td>2050</td>\n",
       "      <td>lmic</td>\n",
       "    </tr>\n",
       "  </tbody>\n",
       "</table>\n",
       "<p>48945 rows × 3 columns</p>\n",
       "</div>"
      ],
      "text/plain": [
       "      country  time ilevels4\n",
       "0         afg  1800      lic\n",
       "1         afg  1801      lic\n",
       "2         afg  1802      lic\n",
       "3         afg  1803      lic\n",
       "4         afg  1804      lic\n",
       "...       ...   ...      ...\n",
       "48940     zwe  2046     lmic\n",
       "48941     zwe  2047     lmic\n",
       "48942     zwe  2048     lmic\n",
       "48943     zwe  2049     lmic\n",
       "48944     zwe  2050     lmic\n",
       "\n",
       "[48945 rows x 3 columns]"
      ]
     },
     "execution_count": 44,
     "metadata": {},
     "output_type": "execute_result"
    }
   ],
   "source": [
    "ilevel4"
   ]
  },
  {
   "cell_type": "code",
   "execution_count": 45,
   "id": "f5adc260",
   "metadata": {},
   "outputs": [
    {
     "data": {
      "text/html": [
       "<div>\n",
       "<style scoped>\n",
       "    .dataframe tbody tr th:only-of-type {\n",
       "        vertical-align: middle;\n",
       "    }\n",
       "\n",
       "    .dataframe tbody tr th {\n",
       "        vertical-align: top;\n",
       "    }\n",
       "\n",
       "    .dataframe thead th {\n",
       "        text-align: right;\n",
       "    }\n",
       "</style>\n",
       "<table border=\"1\" class=\"dataframe\">\n",
       "  <thead>\n",
       "    <tr style=\"text-align: right;\">\n",
       "      <th></th>\n",
       "      <th>country</th>\n",
       "      <th>time</th>\n",
       "      <th>ilevels4_wb</th>\n",
       "    </tr>\n",
       "  </thead>\n",
       "  <tbody>\n",
       "    <tr>\n",
       "      <th>0</th>\n",
       "      <td>afg</td>\n",
       "      <td>1987</td>\n",
       "      <td>lic</td>\n",
       "    </tr>\n",
       "    <tr>\n",
       "      <th>1</th>\n",
       "      <td>afg</td>\n",
       "      <td>1988</td>\n",
       "      <td>lic</td>\n",
       "    </tr>\n",
       "    <tr>\n",
       "      <th>2</th>\n",
       "      <td>afg</td>\n",
       "      <td>1989</td>\n",
       "      <td>lic</td>\n",
       "    </tr>\n",
       "    <tr>\n",
       "      <th>3</th>\n",
       "      <td>afg</td>\n",
       "      <td>1990</td>\n",
       "      <td>lic</td>\n",
       "    </tr>\n",
       "    <tr>\n",
       "      <th>4</th>\n",
       "      <td>afg</td>\n",
       "      <td>1991</td>\n",
       "      <td>lic</td>\n",
       "    </tr>\n",
       "    <tr>\n",
       "      <th>...</th>\n",
       "      <td>...</td>\n",
       "      <td>...</td>\n",
       "      <td>...</td>\n",
       "    </tr>\n",
       "    <tr>\n",
       "      <th>6656</th>\n",
       "      <td>zwe</td>\n",
       "      <td>2016</td>\n",
       "      <td>lic</td>\n",
       "    </tr>\n",
       "    <tr>\n",
       "      <th>6657</th>\n",
       "      <td>zwe</td>\n",
       "      <td>2017</td>\n",
       "      <td>lic</td>\n",
       "    </tr>\n",
       "    <tr>\n",
       "      <th>6658</th>\n",
       "      <td>zwe</td>\n",
       "      <td>2018</td>\n",
       "      <td>lmic</td>\n",
       "    </tr>\n",
       "    <tr>\n",
       "      <th>6659</th>\n",
       "      <td>zwe</td>\n",
       "      <td>2019</td>\n",
       "      <td>lmic</td>\n",
       "    </tr>\n",
       "    <tr>\n",
       "      <th>6660</th>\n",
       "      <td>zwe</td>\n",
       "      <td>2020</td>\n",
       "      <td>lmic</td>\n",
       "    </tr>\n",
       "  </tbody>\n",
       "</table>\n",
       "<p>6661 rows × 3 columns</p>\n",
       "</div>"
      ],
      "text/plain": [
       "     country  time ilevels4_wb\n",
       "0        afg  1987         lic\n",
       "1        afg  1988         lic\n",
       "2        afg  1989         lic\n",
       "3        afg  1990         lic\n",
       "4        afg  1991         lic\n",
       "...      ...   ...         ...\n",
       "6656     zwe  2016         lic\n",
       "6657     zwe  2017         lic\n",
       "6658     zwe  2018        lmic\n",
       "6659     zwe  2019        lmic\n",
       "6660     zwe  2020        lmic\n",
       "\n",
       "[6661 rows x 3 columns]"
      ]
     },
     "execution_count": 45,
     "metadata": {},
     "output_type": "execute_result"
    }
   ],
   "source": [
    "ilevel4_wb"
   ]
  },
  {
   "cell_type": "code",
   "execution_count": null,
   "id": "b45f8acb",
   "metadata": {},
   "outputs": [],
   "source": []
  },
  {
   "cell_type": "code",
   "execution_count": 9,
   "id": "1670f52a",
   "metadata": {},
   "outputs": [],
   "source": [
    "ilevel4_latest = ilevel4_latest.map(m2)"
   ]
  },
  {
   "cell_type": "code",
   "execution_count": 11,
   "id": "7a3c6044",
   "metadata": {},
   "outputs": [
    {
     "data": {
      "text/plain": [
       "False"
      ]
     },
     "execution_count": 11,
     "metadata": {},
     "output_type": "execute_result"
    }
   ],
   "source": [
    "ilevel4_latest.hasnans"
   ]
  },
  {
   "cell_type": "code",
   "execution_count": 12,
   "id": "c3fec950",
   "metadata": {},
   "outputs": [],
   "source": [
    "ilevel4_latest = ilevel4_latest.reset_index()"
   ]
  },
  {
   "cell_type": "code",
   "execution_count": 13,
   "id": "47f2daaf",
   "metadata": {},
   "outputs": [],
   "source": [
    "df = pd.read_csv('../../poverty_rates/ddf--datapoints--poverty_population--by--country--time--wb_level.csv')"
   ]
  },
  {
   "cell_type": "code",
   "execution_count": 14,
   "id": "d6ef7aa6",
   "metadata": {},
   "outputs": [
    {
     "data": {
      "text/html": [
       "<div>\n",
       "<style scoped>\n",
       "    .dataframe tbody tr th:only-of-type {\n",
       "        vertical-align: middle;\n",
       "    }\n",
       "\n",
       "    .dataframe tbody tr th {\n",
       "        vertical-align: top;\n",
       "    }\n",
       "\n",
       "    .dataframe thead th {\n",
       "        text-align: right;\n",
       "    }\n",
       "</style>\n",
       "<table border=\"1\" class=\"dataframe\">\n",
       "  <thead>\n",
       "    <tr style=\"text-align: right;\">\n",
       "      <th></th>\n",
       "      <th>country</th>\n",
       "      <th>time</th>\n",
       "      <th>wb_level</th>\n",
       "      <th>poverty_population</th>\n",
       "    </tr>\n",
       "  </thead>\n",
       "  <tbody>\n",
       "    <tr>\n",
       "      <th>0</th>\n",
       "      <td>afg</td>\n",
       "      <td>1800</td>\n",
       "      <td>wb_lvl1</td>\n",
       "      <td>3045636</td>\n",
       "    </tr>\n",
       "    <tr>\n",
       "      <th>1</th>\n",
       "      <td>afg</td>\n",
       "      <td>1800</td>\n",
       "      <td>wb_lvl2</td>\n",
       "      <td>158538</td>\n",
       "    </tr>\n",
       "    <tr>\n",
       "      <th>2</th>\n",
       "      <td>afg</td>\n",
       "      <td>1800</td>\n",
       "      <td>wb_lvl3</td>\n",
       "      <td>51359</td>\n",
       "    </tr>\n",
       "    <tr>\n",
       "      <th>3</th>\n",
       "      <td>afg</td>\n",
       "      <td>1800</td>\n",
       "      <td>wb_lvl4</td>\n",
       "      <td>16832</td>\n",
       "    </tr>\n",
       "    <tr>\n",
       "      <th>4</th>\n",
       "      <td>afg</td>\n",
       "      <td>1800</td>\n",
       "      <td>wb_lvl5</td>\n",
       "      <td>7636</td>\n",
       "    </tr>\n",
       "  </tbody>\n",
       "</table>\n",
       "</div>"
      ],
      "text/plain": [
       "  country  time wb_level  poverty_population\n",
       "0     afg  1800  wb_lvl1             3045636\n",
       "1     afg  1800  wb_lvl2              158538\n",
       "2     afg  1800  wb_lvl3               51359\n",
       "3     afg  1800  wb_lvl4               16832\n",
       "4     afg  1800  wb_lvl5                7636"
      ]
     },
     "execution_count": 14,
     "metadata": {},
     "output_type": "execute_result"
    }
   ],
   "source": [
    "df.head()"
   ]
  },
  {
   "cell_type": "code",
   "execution_count": 15,
   "id": "63fc647e",
   "metadata": {},
   "outputs": [],
   "source": [
    "df1 = df[df.wb_level == 'wb_lvl1']"
   ]
  },
  {
   "cell_type": "code",
   "execution_count": 16,
   "id": "f1662b31",
   "metadata": {},
   "outputs": [],
   "source": [
    "df1 = df1[['country', 'time', 'poverty_population']].set_index(['country', 'time'])"
   ]
  },
  {
   "cell_type": "code",
   "execution_count": 17,
   "id": "5fcc3786",
   "metadata": {},
   "outputs": [
    {
     "data": {
      "text/html": [
       "<div>\n",
       "<style scoped>\n",
       "    .dataframe tbody tr th:only-of-type {\n",
       "        vertical-align: middle;\n",
       "    }\n",
       "\n",
       "    .dataframe tbody tr th {\n",
       "        vertical-align: top;\n",
       "    }\n",
       "\n",
       "    .dataframe thead th {\n",
       "        text-align: right;\n",
       "    }\n",
       "</style>\n",
       "<table border=\"1\" class=\"dataframe\">\n",
       "  <thead>\n",
       "    <tr style=\"text-align: right;\">\n",
       "      <th></th>\n",
       "      <th></th>\n",
       "      <th>poverty_population</th>\n",
       "    </tr>\n",
       "    <tr>\n",
       "      <th>country</th>\n",
       "      <th>time</th>\n",
       "      <th></th>\n",
       "    </tr>\n",
       "  </thead>\n",
       "  <tbody>\n",
       "    <tr>\n",
       "      <th rowspan=\"5\" valign=\"top\">afg</th>\n",
       "      <th>1800</th>\n",
       "      <td>3045636</td>\n",
       "    </tr>\n",
       "    <tr>\n",
       "      <th>1801</th>\n",
       "      <td>3045636</td>\n",
       "    </tr>\n",
       "    <tr>\n",
       "      <th>1802</th>\n",
       "      <td>3045636</td>\n",
       "    </tr>\n",
       "    <tr>\n",
       "      <th>1803</th>\n",
       "      <td>3045636</td>\n",
       "    </tr>\n",
       "    <tr>\n",
       "      <th>1804</th>\n",
       "      <td>3045636</td>\n",
       "    </tr>\n",
       "    <tr>\n",
       "      <th>...</th>\n",
       "      <th>...</th>\n",
       "      <td>...</td>\n",
       "    </tr>\n",
       "    <tr>\n",
       "      <th rowspan=\"5\" valign=\"top\">zwe</th>\n",
       "      <th>2046</th>\n",
       "      <td>6022805</td>\n",
       "    </tr>\n",
       "    <tr>\n",
       "      <th>2047</th>\n",
       "      <td>5445183</td>\n",
       "    </tr>\n",
       "    <tr>\n",
       "      <th>2048</th>\n",
       "      <td>5509108</td>\n",
       "    </tr>\n",
       "    <tr>\n",
       "      <th>2049</th>\n",
       "      <td>5578022</td>\n",
       "    </tr>\n",
       "    <tr>\n",
       "      <th>2050</th>\n",
       "      <td>5646500</td>\n",
       "    </tr>\n",
       "  </tbody>\n",
       "</table>\n",
       "<p>48945 rows × 1 columns</p>\n",
       "</div>"
      ],
      "text/plain": [
       "              poverty_population\n",
       "country time                    \n",
       "afg     1800             3045636\n",
       "        1801             3045636\n",
       "        1802             3045636\n",
       "        1803             3045636\n",
       "        1804             3045636\n",
       "...                          ...\n",
       "zwe     2046             6022805\n",
       "        2047             5445183\n",
       "        2048             5509108\n",
       "        2049             5578022\n",
       "        2050             5646500\n",
       "\n",
       "[48945 rows x 1 columns]"
      ]
     },
     "execution_count": 17,
     "metadata": {},
     "output_type": "execute_result"
    }
   ],
   "source": [
    "df1"
   ]
  },
  {
   "cell_type": "code",
   "execution_count": 46,
   "id": "6bb0477a",
   "metadata": {},
   "outputs": [],
   "source": [
    "gm = ilevel4.set_index(['country', 'time'])\n",
    "wb = ilevel4_wb.set_index(['country', 'time'])"
   ]
  },
  {
   "cell_type": "code",
   "execution_count": 27,
   "id": "99c6fbcc",
   "metadata": {},
   "outputs": [],
   "source": [
    "gm.to_csv('tmp_gm.csv')"
   ]
  },
  {
   "cell_type": "code",
   "execution_count": 21,
   "id": "7175a598",
   "metadata": {},
   "outputs": [
    {
     "data": {
      "text/plain": [
       "(48945, 1)"
      ]
     },
     "execution_count": 21,
     "metadata": {},
     "output_type": "execute_result"
    }
   ],
   "source": [
    "df1.shape"
   ]
  },
  {
   "cell_type": "code",
   "execution_count": 22,
   "id": "5da7a365",
   "metadata": {},
   "outputs": [
    {
     "data": {
      "text/plain": [
       "(48945, 1)"
      ]
     },
     "execution_count": 22,
     "metadata": {},
     "output_type": "execute_result"
    }
   ],
   "source": [
    "gm.shape"
   ]
  },
  {
   "cell_type": "code",
   "execution_count": 47,
   "id": "0ab0f91b",
   "metadata": {},
   "outputs": [],
   "source": [
    "wb.columns = ['ilevels4']"
   ]
  },
  {
   "cell_type": "code",
   "execution_count": 48,
   "id": "3b578e31",
   "metadata": {},
   "outputs": [],
   "source": [
    "gm.update(wb)"
   ]
  },
  {
   "cell_type": "code",
   "execution_count": 49,
   "id": "f5629f74",
   "metadata": {},
   "outputs": [
    {
     "data": {
      "text/html": [
       "<div>\n",
       "<style scoped>\n",
       "    .dataframe tbody tr th:only-of-type {\n",
       "        vertical-align: middle;\n",
       "    }\n",
       "\n",
       "    .dataframe tbody tr th {\n",
       "        vertical-align: top;\n",
       "    }\n",
       "\n",
       "    .dataframe thead th {\n",
       "        text-align: right;\n",
       "    }\n",
       "</style>\n",
       "<table border=\"1\" class=\"dataframe\">\n",
       "  <thead>\n",
       "    <tr style=\"text-align: right;\">\n",
       "      <th></th>\n",
       "      <th></th>\n",
       "      <th>ilevels4</th>\n",
       "    </tr>\n",
       "    <tr>\n",
       "      <th>country</th>\n",
       "      <th>time</th>\n",
       "      <th></th>\n",
       "    </tr>\n",
       "  </thead>\n",
       "  <tbody>\n",
       "    <tr>\n",
       "      <th rowspan=\"5\" valign=\"top\">afg</th>\n",
       "      <th>1800</th>\n",
       "      <td>lic</td>\n",
       "    </tr>\n",
       "    <tr>\n",
       "      <th>1801</th>\n",
       "      <td>lic</td>\n",
       "    </tr>\n",
       "    <tr>\n",
       "      <th>1802</th>\n",
       "      <td>lic</td>\n",
       "    </tr>\n",
       "    <tr>\n",
       "      <th>1803</th>\n",
       "      <td>lic</td>\n",
       "    </tr>\n",
       "    <tr>\n",
       "      <th>1804</th>\n",
       "      <td>lic</td>\n",
       "    </tr>\n",
       "    <tr>\n",
       "      <th>...</th>\n",
       "      <th>...</th>\n",
       "      <td>...</td>\n",
       "    </tr>\n",
       "    <tr>\n",
       "      <th rowspan=\"5\" valign=\"top\">zwe</th>\n",
       "      <th>2046</th>\n",
       "      <td>lmic</td>\n",
       "    </tr>\n",
       "    <tr>\n",
       "      <th>2047</th>\n",
       "      <td>lmic</td>\n",
       "    </tr>\n",
       "    <tr>\n",
       "      <th>2048</th>\n",
       "      <td>lmic</td>\n",
       "    </tr>\n",
       "    <tr>\n",
       "      <th>2049</th>\n",
       "      <td>lmic</td>\n",
       "    </tr>\n",
       "    <tr>\n",
       "      <th>2050</th>\n",
       "      <td>lmic</td>\n",
       "    </tr>\n",
       "  </tbody>\n",
       "</table>\n",
       "<p>48945 rows × 1 columns</p>\n",
       "</div>"
      ],
      "text/plain": [
       "             ilevels4\n",
       "country time         \n",
       "afg     1800      lic\n",
       "        1801      lic\n",
       "        1802      lic\n",
       "        1803      lic\n",
       "        1804      lic\n",
       "...               ...\n",
       "zwe     2046     lmic\n",
       "        2047     lmic\n",
       "        2048     lmic\n",
       "        2049     lmic\n",
       "        2050     lmic\n",
       "\n",
       "[48945 rows x 1 columns]"
      ]
     },
     "execution_count": 49,
     "metadata": {},
     "output_type": "execute_result"
    }
   ],
   "source": [
    "gm"
   ]
  },
  {
   "cell_type": "code",
   "execution_count": 50,
   "id": "f88e51fa",
   "metadata": {},
   "outputs": [],
   "source": [
    "gm.to_csv('tmp_gm_2.csv')"
   ]
  },
  {
   "cell_type": "code",
   "execution_count": 36,
   "id": "464a7834",
   "metadata": {},
   "outputs": [],
   "source": [
    "grps = gm.copy()"
   ]
  },
  {
   "cell_type": "code",
   "execution_count": null,
   "id": "a05db593",
   "metadata": {},
   "outputs": [],
   "source": []
  },
  {
   "cell_type": "code",
   "execution_count": 20,
   "id": "430e67e7",
   "metadata": {},
   "outputs": [],
   "source": [
    "grps = ilevel4_latest.set_index(['country', 'time']).copy()"
   ]
  },
  {
   "cell_type": "code",
   "execution_count": 21,
   "id": "d5dbdba9",
   "metadata": {},
   "outputs": [
    {
     "data": {
      "text/html": [
       "<div>\n",
       "<style scoped>\n",
       "    .dataframe tbody tr th:only-of-type {\n",
       "        vertical-align: middle;\n",
       "    }\n",
       "\n",
       "    .dataframe tbody tr th {\n",
       "        vertical-align: top;\n",
       "    }\n",
       "\n",
       "    .dataframe thead th {\n",
       "        text-align: right;\n",
       "    }\n",
       "</style>\n",
       "<table border=\"1\" class=\"dataframe\">\n",
       "  <thead>\n",
       "    <tr style=\"text-align: right;\">\n",
       "      <th></th>\n",
       "      <th></th>\n",
       "      <th>wb</th>\n",
       "    </tr>\n",
       "    <tr>\n",
       "      <th>country</th>\n",
       "      <th>time</th>\n",
       "      <th></th>\n",
       "    </tr>\n",
       "  </thead>\n",
       "  <tbody>\n",
       "    <tr>\n",
       "      <th rowspan=\"5\" valign=\"top\">afg</th>\n",
       "      <th>1800</th>\n",
       "      <td>lic</td>\n",
       "    </tr>\n",
       "    <tr>\n",
       "      <th>1801</th>\n",
       "      <td>lic</td>\n",
       "    </tr>\n",
       "    <tr>\n",
       "      <th>1802</th>\n",
       "      <td>lic</td>\n",
       "    </tr>\n",
       "    <tr>\n",
       "      <th>1803</th>\n",
       "      <td>lic</td>\n",
       "    </tr>\n",
       "    <tr>\n",
       "      <th>1804</th>\n",
       "      <td>lic</td>\n",
       "    </tr>\n",
       "    <tr>\n",
       "      <th>...</th>\n",
       "      <th>...</th>\n",
       "      <td>...</td>\n",
       "    </tr>\n",
       "    <tr>\n",
       "      <th rowspan=\"5\" valign=\"top\">zwe</th>\n",
       "      <th>2046</th>\n",
       "      <td>lmic</td>\n",
       "    </tr>\n",
       "    <tr>\n",
       "      <th>2047</th>\n",
       "      <td>lmic</td>\n",
       "    </tr>\n",
       "    <tr>\n",
       "      <th>2048</th>\n",
       "      <td>lmic</td>\n",
       "    </tr>\n",
       "    <tr>\n",
       "      <th>2049</th>\n",
       "      <td>lmic</td>\n",
       "    </tr>\n",
       "    <tr>\n",
       "      <th>2050</th>\n",
       "      <td>lmic</td>\n",
       "    </tr>\n",
       "  </tbody>\n",
       "</table>\n",
       "<p>48945 rows × 1 columns</p>\n",
       "</div>"
      ],
      "text/plain": [
       "                wb\n",
       "country time      \n",
       "afg     1800   lic\n",
       "        1801   lic\n",
       "        1802   lic\n",
       "        1803   lic\n",
       "        1804   lic\n",
       "...            ...\n",
       "zwe     2046  lmic\n",
       "        2047  lmic\n",
       "        2048  lmic\n",
       "        2049  lmic\n",
       "        2050  lmic\n",
       "\n",
       "[48945 rows x 1 columns]"
      ]
     },
     "execution_count": 21,
     "metadata": {},
     "output_type": "execute_result"
    }
   ],
   "source": [
    "grps"
   ]
  },
  {
   "cell_type": "code",
   "execution_count": 51,
   "id": "a640534f",
   "metadata": {},
   "outputs": [],
   "source": [
    "grps.to_csv('hisham.csv')"
   ]
  },
  {
   "cell_type": "code",
   "execution_count": 22,
   "id": "658a3f31",
   "metadata": {},
   "outputs": [],
   "source": [
    "df1['grp'] = grps['wb']"
   ]
  },
  {
   "cell_type": "code",
   "execution_count": 23,
   "id": "b7a590ac",
   "metadata": {},
   "outputs": [
    {
     "data": {
      "text/plain": [
       "False"
      ]
     },
     "execution_count": 23,
     "metadata": {},
     "output_type": "execute_result"
    }
   ],
   "source": [
    "df1['grp'].hasnans"
   ]
  },
  {
   "cell_type": "code",
   "execution_count": 24,
   "id": "4bf50052",
   "metadata": {},
   "outputs": [],
   "source": [
    "df1 = df1.reset_index()"
   ]
  },
  {
   "cell_type": "code",
   "execution_count": 25,
   "id": "997d89ee",
   "metadata": {},
   "outputs": [
    {
     "data": {
      "text/html": [
       "<div>\n",
       "<style scoped>\n",
       "    .dataframe tbody tr th:only-of-type {\n",
       "        vertical-align: middle;\n",
       "    }\n",
       "\n",
       "    .dataframe tbody tr th {\n",
       "        vertical-align: top;\n",
       "    }\n",
       "\n",
       "    .dataframe thead th {\n",
       "        text-align: right;\n",
       "    }\n",
       "</style>\n",
       "<table border=\"1\" class=\"dataframe\">\n",
       "  <thead>\n",
       "    <tr style=\"text-align: right;\">\n",
       "      <th></th>\n",
       "      <th>country</th>\n",
       "      <th>time</th>\n",
       "      <th>poverty_population</th>\n",
       "      <th>grp</th>\n",
       "    </tr>\n",
       "  </thead>\n",
       "  <tbody>\n",
       "    <tr>\n",
       "      <th>0</th>\n",
       "      <td>afg</td>\n",
       "      <td>1800</td>\n",
       "      <td>3045636</td>\n",
       "      <td>lic</td>\n",
       "    </tr>\n",
       "    <tr>\n",
       "      <th>1</th>\n",
       "      <td>afg</td>\n",
       "      <td>1801</td>\n",
       "      <td>3045636</td>\n",
       "      <td>lic</td>\n",
       "    </tr>\n",
       "    <tr>\n",
       "      <th>2</th>\n",
       "      <td>afg</td>\n",
       "      <td>1802</td>\n",
       "      <td>3045636</td>\n",
       "      <td>lic</td>\n",
       "    </tr>\n",
       "    <tr>\n",
       "      <th>3</th>\n",
       "      <td>afg</td>\n",
       "      <td>1803</td>\n",
       "      <td>3045636</td>\n",
       "      <td>lic</td>\n",
       "    </tr>\n",
       "    <tr>\n",
       "      <th>4</th>\n",
       "      <td>afg</td>\n",
       "      <td>1804</td>\n",
       "      <td>3045636</td>\n",
       "      <td>lic</td>\n",
       "    </tr>\n",
       "    <tr>\n",
       "      <th>...</th>\n",
       "      <td>...</td>\n",
       "      <td>...</td>\n",
       "      <td>...</td>\n",
       "      <td>...</td>\n",
       "    </tr>\n",
       "    <tr>\n",
       "      <th>48940</th>\n",
       "      <td>zwe</td>\n",
       "      <td>2046</td>\n",
       "      <td>6022805</td>\n",
       "      <td>lmic</td>\n",
       "    </tr>\n",
       "    <tr>\n",
       "      <th>48941</th>\n",
       "      <td>zwe</td>\n",
       "      <td>2047</td>\n",
       "      <td>5445183</td>\n",
       "      <td>lmic</td>\n",
       "    </tr>\n",
       "    <tr>\n",
       "      <th>48942</th>\n",
       "      <td>zwe</td>\n",
       "      <td>2048</td>\n",
       "      <td>5509108</td>\n",
       "      <td>lmic</td>\n",
       "    </tr>\n",
       "    <tr>\n",
       "      <th>48943</th>\n",
       "      <td>zwe</td>\n",
       "      <td>2049</td>\n",
       "      <td>5578022</td>\n",
       "      <td>lmic</td>\n",
       "    </tr>\n",
       "    <tr>\n",
       "      <th>48944</th>\n",
       "      <td>zwe</td>\n",
       "      <td>2050</td>\n",
       "      <td>5646500</td>\n",
       "      <td>lmic</td>\n",
       "    </tr>\n",
       "  </tbody>\n",
       "</table>\n",
       "<p>48945 rows × 4 columns</p>\n",
       "</div>"
      ],
      "text/plain": [
       "      country  time  poverty_population   grp\n",
       "0         afg  1800             3045636   lic\n",
       "1         afg  1801             3045636   lic\n",
       "2         afg  1802             3045636   lic\n",
       "3         afg  1803             3045636   lic\n",
       "4         afg  1804             3045636   lic\n",
       "...       ...   ...                 ...   ...\n",
       "48940     zwe  2046             6022805  lmic\n",
       "48941     zwe  2047             5445183  lmic\n",
       "48942     zwe  2048             5509108  lmic\n",
       "48943     zwe  2049             5578022  lmic\n",
       "48944     zwe  2050             5646500  lmic\n",
       "\n",
       "[48945 rows x 4 columns]"
      ]
     },
     "execution_count": 25,
     "metadata": {},
     "output_type": "execute_result"
    }
   ],
   "source": [
    "df1"
   ]
  },
  {
   "cell_type": "code",
   "execution_count": 26,
   "id": "743a56e3",
   "metadata": {},
   "outputs": [],
   "source": [
    "res = df1.groupby(['grp', 'time'])['poverty_population'].sum()"
   ]
  },
  {
   "cell_type": "code",
   "execution_count": 27,
   "id": "351c9510",
   "metadata": {},
   "outputs": [
    {
     "data": {
      "text/plain": [
       "grp   time\n",
       "hic   1944          78\n",
       "      1945          67\n",
       "      1946          48\n",
       "      1947          27\n",
       "      1948          16\n",
       "                ...   \n",
       "umic  2046    70499082\n",
       "      2047    68633841\n",
       "      2048    68588950\n",
       "      2049    61199947\n",
       "      2050    58233999\n",
       "Name: poverty_population, Length: 774, dtype: int64"
      ]
     },
     "execution_count": 27,
     "metadata": {},
     "output_type": "execute_result"
    }
   ],
   "source": [
    "res"
   ]
  },
  {
   "cell_type": "code",
   "execution_count": 28,
   "id": "4f53a754",
   "metadata": {},
   "outputs": [],
   "source": [
    "res = res.reset_index()"
   ]
  },
  {
   "cell_type": "code",
   "execution_count": 29,
   "id": "21b37f17",
   "metadata": {},
   "outputs": [],
   "source": [
    "gs = res['grp'].unique()"
   ]
  },
  {
   "cell_type": "code",
   "execution_count": 30,
   "id": "687cc3b6",
   "metadata": {},
   "outputs": [
    {
     "data": {
      "text/plain": [
       "array(['hic', 'lic', 'lmic', 'umic'], dtype=object)"
      ]
     },
     "execution_count": 30,
     "metadata": {},
     "output_type": "execute_result"
    }
   ],
   "source": [
    "gs"
   ]
  },
  {
   "cell_type": "code",
   "execution_count": 31,
   "id": "839bdc84",
   "metadata": {},
   "outputs": [],
   "source": [
    "gt = pd.CategoricalDtype(['lic', 'lmic', 'umic', 'hic'], ordered=True)"
   ]
  },
  {
   "cell_type": "code",
   "execution_count": 32,
   "id": "1507ed57",
   "metadata": {},
   "outputs": [],
   "source": [
    "res['grp'] = res['grp'].astype(gt)"
   ]
  },
  {
   "cell_type": "code",
   "execution_count": 33,
   "id": "97850856",
   "metadata": {},
   "outputs": [
    {
     "data": {
      "text/html": [
       "<div>\n",
       "<style scoped>\n",
       "    .dataframe tbody tr th:only-of-type {\n",
       "        vertical-align: middle;\n",
       "    }\n",
       "\n",
       "    .dataframe tbody tr th {\n",
       "        vertical-align: top;\n",
       "    }\n",
       "\n",
       "    .dataframe thead th {\n",
       "        text-align: right;\n",
       "    }\n",
       "</style>\n",
       "<table border=\"1\" class=\"dataframe\">\n",
       "  <thead>\n",
       "    <tr style=\"text-align: right;\">\n",
       "      <th></th>\n",
       "      <th>grp</th>\n",
       "      <th>time</th>\n",
       "      <th>poverty_population</th>\n",
       "    </tr>\n",
       "  </thead>\n",
       "  <tbody>\n",
       "    <tr>\n",
       "      <th>0</th>\n",
       "      <td>hic</td>\n",
       "      <td>1944</td>\n",
       "      <td>78</td>\n",
       "    </tr>\n",
       "    <tr>\n",
       "      <th>1</th>\n",
       "      <td>hic</td>\n",
       "      <td>1945</td>\n",
       "      <td>67</td>\n",
       "    </tr>\n",
       "    <tr>\n",
       "      <th>2</th>\n",
       "      <td>hic</td>\n",
       "      <td>1946</td>\n",
       "      <td>48</td>\n",
       "    </tr>\n",
       "    <tr>\n",
       "      <th>3</th>\n",
       "      <td>hic</td>\n",
       "      <td>1947</td>\n",
       "      <td>27</td>\n",
       "    </tr>\n",
       "    <tr>\n",
       "      <th>4</th>\n",
       "      <td>hic</td>\n",
       "      <td>1948</td>\n",
       "      <td>16</td>\n",
       "    </tr>\n",
       "    <tr>\n",
       "      <th>...</th>\n",
       "      <td>...</td>\n",
       "      <td>...</td>\n",
       "      <td>...</td>\n",
       "    </tr>\n",
       "    <tr>\n",
       "      <th>769</th>\n",
       "      <td>umic</td>\n",
       "      <td>2046</td>\n",
       "      <td>70499082</td>\n",
       "    </tr>\n",
       "    <tr>\n",
       "      <th>770</th>\n",
       "      <td>umic</td>\n",
       "      <td>2047</td>\n",
       "      <td>68633841</td>\n",
       "    </tr>\n",
       "    <tr>\n",
       "      <th>771</th>\n",
       "      <td>umic</td>\n",
       "      <td>2048</td>\n",
       "      <td>68588950</td>\n",
       "    </tr>\n",
       "    <tr>\n",
       "      <th>772</th>\n",
       "      <td>umic</td>\n",
       "      <td>2049</td>\n",
       "      <td>61199947</td>\n",
       "    </tr>\n",
       "    <tr>\n",
       "      <th>773</th>\n",
       "      <td>umic</td>\n",
       "      <td>2050</td>\n",
       "      <td>58233999</td>\n",
       "    </tr>\n",
       "  </tbody>\n",
       "</table>\n",
       "<p>774 rows × 3 columns</p>\n",
       "</div>"
      ],
      "text/plain": [
       "      grp  time  poverty_population\n",
       "0     hic  1944                  78\n",
       "1     hic  1945                  67\n",
       "2     hic  1946                  48\n",
       "3     hic  1947                  27\n",
       "4     hic  1948                  16\n",
       "..    ...   ...                 ...\n",
       "769  umic  2046            70499082\n",
       "770  umic  2047            68633841\n",
       "771  umic  2048            68588950\n",
       "772  umic  2049            61199947\n",
       "773  umic  2050            58233999\n",
       "\n",
       "[774 rows x 3 columns]"
      ]
     },
     "execution_count": 33,
     "metadata": {},
     "output_type": "execute_result"
    }
   ],
   "source": [
    "res"
   ]
  },
  {
   "cell_type": "code",
   "execution_count": 34,
   "id": "d3929694",
   "metadata": {},
   "outputs": [],
   "source": [
    "res = res.sort_values(by=['grp', 'time'])"
   ]
  },
  {
   "cell_type": "code",
   "execution_count": 35,
   "id": "5ebbfeca",
   "metadata": {},
   "outputs": [],
   "source": [
    "res.columns = ['income_groups', 'time', 'poverty_population_under_1_9_per_day']"
   ]
  },
  {
   "cell_type": "code",
   "execution_count": 36,
   "id": "06e6843e",
   "metadata": {},
   "outputs": [
    {
     "data": {
      "text/html": [
       "<div>\n",
       "<style scoped>\n",
       "    .dataframe tbody tr th:only-of-type {\n",
       "        vertical-align: middle;\n",
       "    }\n",
       "\n",
       "    .dataframe tbody tr th {\n",
       "        vertical-align: top;\n",
       "    }\n",
       "\n",
       "    .dataframe thead th {\n",
       "        text-align: right;\n",
       "    }\n",
       "</style>\n",
       "<table border=\"1\" class=\"dataframe\">\n",
       "  <thead>\n",
       "    <tr style=\"text-align: right;\">\n",
       "      <th></th>\n",
       "      <th>income_groups</th>\n",
       "      <th>time</th>\n",
       "      <th>poverty_population_under_1_9_per_day</th>\n",
       "    </tr>\n",
       "  </thead>\n",
       "  <tbody>\n",
       "    <tr>\n",
       "      <th>107</th>\n",
       "      <td>lic</td>\n",
       "      <td>1800</td>\n",
       "      <td>772199533</td>\n",
       "    </tr>\n",
       "    <tr>\n",
       "      <th>108</th>\n",
       "      <td>lic</td>\n",
       "      <td>1801</td>\n",
       "      <td>774849801</td>\n",
       "    </tr>\n",
       "    <tr>\n",
       "      <th>109</th>\n",
       "      <td>lic</td>\n",
       "      <td>1802</td>\n",
       "      <td>777350868</td>\n",
       "    </tr>\n",
       "    <tr>\n",
       "      <th>110</th>\n",
       "      <td>lic</td>\n",
       "      <td>1803</td>\n",
       "      <td>779956143</td>\n",
       "    </tr>\n",
       "    <tr>\n",
       "      <th>111</th>\n",
       "      <td>lic</td>\n",
       "      <td>1804</td>\n",
       "      <td>782794118</td>\n",
       "    </tr>\n",
       "    <tr>\n",
       "      <th>...</th>\n",
       "      <td>...</td>\n",
       "      <td>...</td>\n",
       "      <td>...</td>\n",
       "    </tr>\n",
       "    <tr>\n",
       "      <th>102</th>\n",
       "      <td>hic</td>\n",
       "      <td>2046</td>\n",
       "      <td>8366171</td>\n",
       "    </tr>\n",
       "    <tr>\n",
       "      <th>103</th>\n",
       "      <td>hic</td>\n",
       "      <td>2047</td>\n",
       "      <td>8301898</td>\n",
       "    </tr>\n",
       "    <tr>\n",
       "      <th>104</th>\n",
       "      <td>hic</td>\n",
       "      <td>2048</td>\n",
       "      <td>7674482</td>\n",
       "    </tr>\n",
       "    <tr>\n",
       "      <th>105</th>\n",
       "      <td>hic</td>\n",
       "      <td>2049</td>\n",
       "      <td>12912499</td>\n",
       "    </tr>\n",
       "    <tr>\n",
       "      <th>106</th>\n",
       "      <td>hic</td>\n",
       "      <td>2050</td>\n",
       "      <td>12736020</td>\n",
       "    </tr>\n",
       "  </tbody>\n",
       "</table>\n",
       "<p>774 rows × 3 columns</p>\n",
       "</div>"
      ],
      "text/plain": [
       "    income_groups  time  poverty_population_under_1_9_per_day\n",
       "107           lic  1800                             772199533\n",
       "108           lic  1801                             774849801\n",
       "109           lic  1802                             777350868\n",
       "110           lic  1803                             779956143\n",
       "111           lic  1804                             782794118\n",
       "..            ...   ...                                   ...\n",
       "102           hic  2046                               8366171\n",
       "103           hic  2047                               8301898\n",
       "104           hic  2048                               7674482\n",
       "105           hic  2049                              12912499\n",
       "106           hic  2050                              12736020\n",
       "\n",
       "[774 rows x 3 columns]"
      ]
     },
     "execution_count": 36,
     "metadata": {},
     "output_type": "execute_result"
    }
   ],
   "source": [
    "res"
   ]
  },
  {
   "cell_type": "code",
   "execution_count": 37,
   "id": "c66606d6",
   "metadata": {},
   "outputs": [],
   "source": [
    "m = {'lic': 'low_income', 'hic': 'high_income', 'lmic': 'lower_middle_income', 'umic': 'upper_middle_income'}"
   ]
  },
  {
   "cell_type": "code",
   "execution_count": 38,
   "id": "fde62167",
   "metadata": {},
   "outputs": [],
   "source": [
    "res['income_groups'] = res['income_groups'].map(m)"
   ]
  },
  {
   "cell_type": "code",
   "execution_count": 39,
   "id": "b87dc96a",
   "metadata": {},
   "outputs": [
    {
     "data": {
      "text/html": [
       "<div>\n",
       "<style scoped>\n",
       "    .dataframe tbody tr th:only-of-type {\n",
       "        vertical-align: middle;\n",
       "    }\n",
       "\n",
       "    .dataframe tbody tr th {\n",
       "        vertical-align: top;\n",
       "    }\n",
       "\n",
       "    .dataframe thead th {\n",
       "        text-align: right;\n",
       "    }\n",
       "</style>\n",
       "<table border=\"1\" class=\"dataframe\">\n",
       "  <thead>\n",
       "    <tr style=\"text-align: right;\">\n",
       "      <th></th>\n",
       "      <th>income_groups</th>\n",
       "      <th>time</th>\n",
       "      <th>poverty_population_under_1_9_per_day</th>\n",
       "    </tr>\n",
       "  </thead>\n",
       "  <tbody>\n",
       "    <tr>\n",
       "      <th>107</th>\n",
       "      <td>low_income</td>\n",
       "      <td>1800</td>\n",
       "      <td>772199533</td>\n",
       "    </tr>\n",
       "    <tr>\n",
       "      <th>108</th>\n",
       "      <td>low_income</td>\n",
       "      <td>1801</td>\n",
       "      <td>774849801</td>\n",
       "    </tr>\n",
       "    <tr>\n",
       "      <th>109</th>\n",
       "      <td>low_income</td>\n",
       "      <td>1802</td>\n",
       "      <td>777350868</td>\n",
       "    </tr>\n",
       "    <tr>\n",
       "      <th>110</th>\n",
       "      <td>low_income</td>\n",
       "      <td>1803</td>\n",
       "      <td>779956143</td>\n",
       "    </tr>\n",
       "    <tr>\n",
       "      <th>111</th>\n",
       "      <td>low_income</td>\n",
       "      <td>1804</td>\n",
       "      <td>782794118</td>\n",
       "    </tr>\n",
       "    <tr>\n",
       "      <th>...</th>\n",
       "      <td>...</td>\n",
       "      <td>...</td>\n",
       "      <td>...</td>\n",
       "    </tr>\n",
       "    <tr>\n",
       "      <th>102</th>\n",
       "      <td>high_income</td>\n",
       "      <td>2046</td>\n",
       "      <td>8366171</td>\n",
       "    </tr>\n",
       "    <tr>\n",
       "      <th>103</th>\n",
       "      <td>high_income</td>\n",
       "      <td>2047</td>\n",
       "      <td>8301898</td>\n",
       "    </tr>\n",
       "    <tr>\n",
       "      <th>104</th>\n",
       "      <td>high_income</td>\n",
       "      <td>2048</td>\n",
       "      <td>7674482</td>\n",
       "    </tr>\n",
       "    <tr>\n",
       "      <th>105</th>\n",
       "      <td>high_income</td>\n",
       "      <td>2049</td>\n",
       "      <td>12912499</td>\n",
       "    </tr>\n",
       "    <tr>\n",
       "      <th>106</th>\n",
       "      <td>high_income</td>\n",
       "      <td>2050</td>\n",
       "      <td>12736020</td>\n",
       "    </tr>\n",
       "  </tbody>\n",
       "</table>\n",
       "<p>774 rows × 3 columns</p>\n",
       "</div>"
      ],
      "text/plain": [
       "    income_groups  time  poverty_population_under_1_9_per_day\n",
       "107    low_income  1800                             772199533\n",
       "108    low_income  1801                             774849801\n",
       "109    low_income  1802                             777350868\n",
       "110    low_income  1803                             779956143\n",
       "111    low_income  1804                             782794118\n",
       "..            ...   ...                                   ...\n",
       "102   high_income  2046                               8366171\n",
       "103   high_income  2047                               8301898\n",
       "104   high_income  2048                               7674482\n",
       "105   high_income  2049                              12912499\n",
       "106   high_income  2050                              12736020\n",
       "\n",
       "[774 rows x 3 columns]"
      ]
     },
     "execution_count": 39,
     "metadata": {},
     "output_type": "execute_result"
    }
   ],
   "source": [
    "res"
   ]
  },
  {
   "cell_type": "code",
   "execution_count": 40,
   "id": "61987fa6",
   "metadata": {},
   "outputs": [
    {
     "data": {
      "text/plain": [
       "CategoricalDtype(categories=['low_income', 'lower_middle_income', 'upper_middle_income',\n",
       "                  'high_income'],\n",
       ", ordered=True)"
      ]
     },
     "execution_count": 40,
     "metadata": {},
     "output_type": "execute_result"
    }
   ],
   "source": [
    "res.dtypes['income_groups']"
   ]
  },
  {
   "cell_type": "code",
   "execution_count": 41,
   "id": "ffe25102",
   "metadata": {},
   "outputs": [],
   "source": [
    "res.to_csv('../../poverty_rates/ddf--datapoints--poverty_population_under_1_9_per_day--by--income_groups--time.csv', index=False)"
   ]
  },
  {
   "cell_type": "code",
   "execution_count": null,
   "id": "e4a4169f",
   "metadata": {},
   "outputs": [],
   "source": []
  }
 ],
 "metadata": {
  "kernelspec": {
   "display_name": "Python 3 (ipykernel)",
   "language": "python",
   "name": "python3"
  },
  "language_info": {
   "codemirror_mode": {
    "name": "ipython",
    "version": 3
   },
   "file_extension": ".py",
   "mimetype": "text/x-python",
   "name": "python",
   "nbconvert_exporter": "python",
   "pygments_lexer": "ipython3",
   "version": "3.10.1"
  },
  "name": "Untitled1.ipynb"
 },
 "nbformat": 4,
 "nbformat_minor": 5
}
