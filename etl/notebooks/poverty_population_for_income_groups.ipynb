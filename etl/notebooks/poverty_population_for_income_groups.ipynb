{
 "cells": [
  {
   "cell_type": "code",
   "execution_count": 1,
   "id": "7c79955b",
   "metadata": {},
   "outputs": [],
   "source": [
    "import pandas as pd"
   ]
  },
  {
   "cell_type": "markdown",
   "id": "b005bd33",
   "metadata": {},
   "source": [
    "# Calculate population under 1.9\\$ per day for each income groups\n",
    "\n",
    "This is to show how many people in higher income groups are actually poor people.\n",
    "\n",
    "use WB's income group when it's available, otherwise use GM's income group"
   ]
  },
  {
   "cell_type": "code",
   "execution_count": 8,
   "id": "a923bd0a",
   "metadata": {},
   "outputs": [],
   "source": [
    "# gm groups:\n",
    "# TODO: move to fixtures\n",
    "gm_groups = pd.read_csv('../../../ddf--gapminder--fasttrack/ddf--datapoints--ilevels4--by--country--time.csv')\n",
    "# wb groups:\n",
    "wb_groups = pd.read_csv('../source/fixtures/wb_income_groups.csv')"
   ]
  },
  {
   "cell_type": "code",
   "execution_count": 9,
   "id": "1ceae4c9",
   "metadata": {},
   "outputs": [
    {
     "data": {
      "text/plain": [
       "array(['Level 1', 'Level 2', 'Level 3', 'Level 4'], dtype=object)"
      ]
     },
     "execution_count": 9,
     "metadata": {},
     "output_type": "execute_result"
    }
   ],
   "source": [
    "gm_groups['ilevels4'].unique()"
   ]
  },
  {
   "cell_type": "code",
   "execution_count": 10,
   "id": "09286011",
   "metadata": {},
   "outputs": [
    {
     "data": {
      "text/html": [
       "<div>\n",
       "<style scoped>\n",
       "    .dataframe tbody tr th:only-of-type {\n",
       "        vertical-align: middle;\n",
       "    }\n",
       "\n",
       "    .dataframe tbody tr th {\n",
       "        vertical-align: top;\n",
       "    }\n",
       "\n",
       "    .dataframe thead th {\n",
       "        text-align: right;\n",
       "    }\n",
       "</style>\n",
       "<table border=\"1\" class=\"dataframe\">\n",
       "  <thead>\n",
       "    <tr style=\"text-align: right;\">\n",
       "      <th></th>\n",
       "      <th>geo</th>\n",
       "      <th>name</th>\n",
       "      <th>time</th>\n",
       "      <th>4 income groups (WB)</th>\n",
       "      <th>3 income groups (WB)</th>\n",
       "    </tr>\n",
       "  </thead>\n",
       "  <tbody>\n",
       "    <tr>\n",
       "      <th>0</th>\n",
       "      <td>afg</td>\n",
       "      <td>Afghanistan</td>\n",
       "      <td>1987</td>\n",
       "      <td>Low income</td>\n",
       "      <td>Low income</td>\n",
       "    </tr>\n",
       "    <tr>\n",
       "      <th>1</th>\n",
       "      <td>afg</td>\n",
       "      <td>Afghanistan</td>\n",
       "      <td>1988</td>\n",
       "      <td>Low income</td>\n",
       "      <td>Low income</td>\n",
       "    </tr>\n",
       "    <tr>\n",
       "      <th>2</th>\n",
       "      <td>afg</td>\n",
       "      <td>Afghanistan</td>\n",
       "      <td>1989</td>\n",
       "      <td>Low income</td>\n",
       "      <td>Low income</td>\n",
       "    </tr>\n",
       "    <tr>\n",
       "      <th>3</th>\n",
       "      <td>afg</td>\n",
       "      <td>Afghanistan</td>\n",
       "      <td>1990</td>\n",
       "      <td>Low income</td>\n",
       "      <td>Low income</td>\n",
       "    </tr>\n",
       "    <tr>\n",
       "      <th>4</th>\n",
       "      <td>afg</td>\n",
       "      <td>Afghanistan</td>\n",
       "      <td>1991</td>\n",
       "      <td>Low income</td>\n",
       "      <td>Low income</td>\n",
       "    </tr>\n",
       "    <tr>\n",
       "      <th>...</th>\n",
       "      <td>...</td>\n",
       "      <td>...</td>\n",
       "      <td>...</td>\n",
       "      <td>...</td>\n",
       "      <td>...</td>\n",
       "    </tr>\n",
       "    <tr>\n",
       "      <th>6659</th>\n",
       "      <td>zwe</td>\n",
       "      <td>Zimbabwe</td>\n",
       "      <td>2016</td>\n",
       "      <td>Low income</td>\n",
       "      <td>Low income</td>\n",
       "    </tr>\n",
       "    <tr>\n",
       "      <th>6660</th>\n",
       "      <td>zwe</td>\n",
       "      <td>Zimbabwe</td>\n",
       "      <td>2017</td>\n",
       "      <td>Low income</td>\n",
       "      <td>Low income</td>\n",
       "    </tr>\n",
       "    <tr>\n",
       "      <th>6661</th>\n",
       "      <td>zwe</td>\n",
       "      <td>Zimbabwe</td>\n",
       "      <td>2018</td>\n",
       "      <td>Lower middle income</td>\n",
       "      <td>Middle income</td>\n",
       "    </tr>\n",
       "    <tr>\n",
       "      <th>6662</th>\n",
       "      <td>zwe</td>\n",
       "      <td>Zimbabwe</td>\n",
       "      <td>2019</td>\n",
       "      <td>Lower middle income</td>\n",
       "      <td>Middle income</td>\n",
       "    </tr>\n",
       "    <tr>\n",
       "      <th>6663</th>\n",
       "      <td>zwe</td>\n",
       "      <td>Zimbabwe</td>\n",
       "      <td>2020</td>\n",
       "      <td>Lower middle income</td>\n",
       "      <td>Middle income</td>\n",
       "    </tr>\n",
       "  </tbody>\n",
       "</table>\n",
       "<p>6664 rows × 5 columns</p>\n",
       "</div>"
      ],
      "text/plain": [
       "      geo         name  time 4 income groups (WB) 3 income groups (WB)\n",
       "0     afg  Afghanistan  1987           Low income           Low income\n",
       "1     afg  Afghanistan  1988           Low income           Low income\n",
       "2     afg  Afghanistan  1989           Low income           Low income\n",
       "3     afg  Afghanistan  1990           Low income           Low income\n",
       "4     afg  Afghanistan  1991           Low income           Low income\n",
       "...   ...          ...   ...                  ...                  ...\n",
       "6659  zwe     Zimbabwe  2016           Low income           Low income\n",
       "6660  zwe     Zimbabwe  2017           Low income           Low income\n",
       "6661  zwe     Zimbabwe  2018  Lower middle income        Middle income\n",
       "6662  zwe     Zimbabwe  2019  Lower middle income        Middle income\n",
       "6663  zwe     Zimbabwe  2020  Lower middle income        Middle income\n",
       "\n",
       "[6664 rows x 5 columns]"
      ]
     },
     "execution_count": 10,
     "metadata": {},
     "output_type": "execute_result"
    }
   ],
   "source": [
    "wb_groups"
   ]
  },
  {
   "cell_type": "code",
   "execution_count": 11,
   "id": "674ce7a7",
   "metadata": {},
   "outputs": [
    {
     "data": {
      "text/plain": [
       "array(['Low income', 'Lower middle income', 'Upper middle income',\n",
       "       'High income'], dtype=object)"
      ]
     },
     "execution_count": 11,
     "metadata": {},
     "output_type": "execute_result"
    }
   ],
   "source": [
    "wb_groups['4 income groups (WB)'].unique()"
   ]
  },
  {
   "cell_type": "code",
   "execution_count": 12,
   "id": "396a72aa",
   "metadata": {},
   "outputs": [],
   "source": [
    "wb_groups = wb_groups[['geo', 'time', '4 income groups (WB)']].copy()\n",
    "wb_groups.columns = ['geo', 'time', 'income_groups']"
   ]
  },
  {
   "cell_type": "code",
   "execution_count": 14,
   "id": "ac26ecbf",
   "metadata": {},
   "outputs": [],
   "source": [
    "m1 = { \"Level 1\": 'lic', 'Level 2': 'lmic', 'Level 3': 'umic', 'Level 4': 'hic'}\n",
    "m2 = {'Low income': 'lic', 'Lower middle income': 'lmic', 'Upper middle income': 'umic', 'High income': 'hic'}"
   ]
  },
  {
   "cell_type": "code",
   "execution_count": 15,
   "id": "a60046c0",
   "metadata": {},
   "outputs": [],
   "source": [
    "gm_groups['ilevels4'] = gm_groups['ilevels4'].map(lambda x: m1[x])\n",
    "wb_groups['income_groups'] = wb_groups['income_groups'].map(lambda x: m2[x])"
   ]
  },
  {
   "cell_type": "code",
   "execution_count": 32,
   "id": "cec9e6c5",
   "metadata": {},
   "outputs": [],
   "source": [
    "df1 = gm_groups.set_index(['country', 'time'])['ilevels4']\n",
    "df2 = wb_groups.set_index(['geo', 'time'])['income_groups']"
   ]
  },
  {
   "cell_type": "code",
   "execution_count": 33,
   "id": "04d2df53",
   "metadata": {},
   "outputs": [],
   "source": [
    "df1.index.names = ['country', 'time']\n",
    "df2.index.names = ['country', 'time']\n",
    "\n",
    "df1.name = 'ilevel4'\n",
    "df2.name = 'ilevel4'"
   ]
  },
  {
   "cell_type": "code",
   "execution_count": 34,
   "id": "c584ba89",
   "metadata": {},
   "outputs": [],
   "source": [
    "ilevel4, ilevel4_wb = df1.align(df2)"
   ]
  },
  {
   "cell_type": "code",
   "execution_count": 35,
   "id": "10a7cab0",
   "metadata": {},
   "outputs": [],
   "source": [
    "# start with gapminder's groups, then update with wb.\n",
    "ilevel4.update(ilevel4_wb)"
   ]
  },
  {
   "cell_type": "code",
   "execution_count": 36,
   "id": "443c128c",
   "metadata": {},
   "outputs": [
    {
     "data": {
      "text/plain": [
       "country  time\n",
       "afg      1800     lic\n",
       "         1801     lic\n",
       "         1802     lic\n",
       "         1803     lic\n",
       "         1804     lic\n",
       "                 ... \n",
       "zwe      2046    lmic\n",
       "         2047    lmic\n",
       "         2048    lmic\n",
       "         2049    lmic\n",
       "         2050    lmic\n",
       "Name: ilevel4, Length: 48979, dtype: object"
      ]
     },
     "execution_count": 36,
     "metadata": {},
     "output_type": "execute_result"
    }
   ],
   "source": [
    "ilevel4"
   ]
  },
  {
   "cell_type": "code",
   "execution_count": 37,
   "id": "9c2aadaa",
   "metadata": {},
   "outputs": [
    {
     "data": {
      "text/plain": [
       "False"
      ]
     },
     "execution_count": 37,
     "metadata": {},
     "output_type": "execute_result"
    }
   ],
   "source": [
    "ilevel4.hasnans"
   ]
  },
  {
   "cell_type": "code",
   "execution_count": 47,
   "id": "afffc40e",
   "metadata": {},
   "outputs": [
    {
     "data": {
      "text/plain": [
       "country  time\n",
       "lie      1987    hic\n",
       "         1988    hic\n",
       "         1989    hic\n",
       "         1990    hic\n",
       "         1991    hic\n",
       "         1992    hic\n",
       "         1993    hic\n",
       "         1994    hic\n",
       "         1995    hic\n",
       "         1996    hic\n",
       "         1997    hic\n",
       "         1998    hic\n",
       "         1999    hic\n",
       "         2000    hic\n",
       "         2001    hic\n",
       "         2002    hic\n",
       "         2003    hic\n",
       "         2004    hic\n",
       "         2005    hic\n",
       "         2006    hic\n",
       "         2007    hic\n",
       "         2008    hic\n",
       "         2009    hic\n",
       "         2010    hic\n",
       "         2011    hic\n",
       "         2012    hic\n",
       "         2013    hic\n",
       "         2014    hic\n",
       "         2015    hic\n",
       "         2016    hic\n",
       "         2017    hic\n",
       "         2018    hic\n",
       "         2019    hic\n",
       "         2020    hic\n",
       "Name: ilevel4, dtype: object"
      ]
     },
     "execution_count": 47,
     "metadata": {},
     "output_type": "execute_result"
    }
   ],
   "source": [
    "ilevel4[~ilevel4.index.isin(df1.index.values)]  # this is wb's data which is not found in gm."
   ]
  },
  {
   "cell_type": "code",
   "execution_count": 45,
   "id": "9c4a425d",
   "metadata": {},
   "outputs": [
    {
     "data": {
      "text/plain": [
       "(34,)"
      ]
     },
     "execution_count": 45,
     "metadata": {},
     "output_type": "execute_result"
    }
   ],
   "source": [
    "ilevel4[~ilevel4.index.isin(df1.index.values)].shape"
   ]
  },
  {
   "cell_type": "code",
   "execution_count": 46,
   "id": "ebebe1c2",
   "metadata": {},
   "outputs": [
    {
     "data": {
      "text/plain": [
       "-34"
      ]
     },
     "execution_count": 46,
     "metadata": {},
     "output_type": "execute_result"
    }
   ],
   "source": [
    "48945 - 48979"
   ]
  },
  {
   "cell_type": "code",
   "execution_count": null,
   "id": "dbf3129f",
   "metadata": {},
   "outputs": [],
   "source": []
  },
  {
   "cell_type": "code",
   "execution_count": null,
   "id": "0ae1b975",
   "metadata": {},
   "outputs": [],
   "source": []
  },
  {
   "cell_type": "code",
   "execution_count": null,
   "id": "70981a62",
   "metadata": {},
   "outputs": [],
   "source": []
  },
  {
   "cell_type": "code",
   "execution_count": 48,
   "id": "47f2daaf",
   "metadata": {},
   "outputs": [],
   "source": [
    "df = pd.read_csv('../../poverty_rates/ddf--datapoints--poverty_population--by--country--time--wb_level.csv')"
   ]
  },
  {
   "cell_type": "code",
   "execution_count": 49,
   "id": "d6ef7aa6",
   "metadata": {},
   "outputs": [
    {
     "data": {
      "text/html": [
       "<div>\n",
       "<style scoped>\n",
       "    .dataframe tbody tr th:only-of-type {\n",
       "        vertical-align: middle;\n",
       "    }\n",
       "\n",
       "    .dataframe tbody tr th {\n",
       "        vertical-align: top;\n",
       "    }\n",
       "\n",
       "    .dataframe thead th {\n",
       "        text-align: right;\n",
       "    }\n",
       "</style>\n",
       "<table border=\"1\" class=\"dataframe\">\n",
       "  <thead>\n",
       "    <tr style=\"text-align: right;\">\n",
       "      <th></th>\n",
       "      <th>country</th>\n",
       "      <th>time</th>\n",
       "      <th>wb_level</th>\n",
       "      <th>poverty_population</th>\n",
       "    </tr>\n",
       "  </thead>\n",
       "  <tbody>\n",
       "    <tr>\n",
       "      <th>0</th>\n",
       "      <td>afg</td>\n",
       "      <td>1800</td>\n",
       "      <td>wb_lvl1</td>\n",
       "      <td>3017073</td>\n",
       "    </tr>\n",
       "    <tr>\n",
       "      <th>1</th>\n",
       "      <td>afg</td>\n",
       "      <td>1800</td>\n",
       "      <td>wb_lvl2</td>\n",
       "      <td>178027</td>\n",
       "    </tr>\n",
       "    <tr>\n",
       "      <th>2</th>\n",
       "      <td>afg</td>\n",
       "      <td>1800</td>\n",
       "      <td>wb_lvl3</td>\n",
       "      <td>57702</td>\n",
       "    </tr>\n",
       "    <tr>\n",
       "      <th>3</th>\n",
       "      <td>afg</td>\n",
       "      <td>1800</td>\n",
       "      <td>wb_lvl4</td>\n",
       "      <td>18868</td>\n",
       "    </tr>\n",
       "    <tr>\n",
       "      <th>4</th>\n",
       "      <td>afg</td>\n",
       "      <td>1800</td>\n",
       "      <td>wb_lvl5</td>\n",
       "      <td>8330</td>\n",
       "    </tr>\n",
       "  </tbody>\n",
       "</table>\n",
       "</div>"
      ],
      "text/plain": [
       "  country  time wb_level  poverty_population\n",
       "0     afg  1800  wb_lvl1             3017073\n",
       "1     afg  1800  wb_lvl2              178027\n",
       "2     afg  1800  wb_lvl3               57702\n",
       "3     afg  1800  wb_lvl4               18868\n",
       "4     afg  1800  wb_lvl5                8330"
      ]
     },
     "execution_count": 49,
     "metadata": {},
     "output_type": "execute_result"
    }
   ],
   "source": [
    "df.head()"
   ]
  },
  {
   "cell_type": "code",
   "execution_count": 50,
   "id": "63fc647e",
   "metadata": {},
   "outputs": [],
   "source": [
    "df1 = df[df.wb_level == 'wb_lvl1']  # <1.9$/day"
   ]
  },
  {
   "cell_type": "code",
   "execution_count": 51,
   "id": "f1662b31",
   "metadata": {},
   "outputs": [],
   "source": [
    "df1 = df1[['country', 'time', 'poverty_population']].set_index(['country', 'time'])"
   ]
  },
  {
   "cell_type": "code",
   "execution_count": 52,
   "id": "5fcc3786",
   "metadata": {},
   "outputs": [
    {
     "data": {
      "text/html": [
       "<div>\n",
       "<style scoped>\n",
       "    .dataframe tbody tr th:only-of-type {\n",
       "        vertical-align: middle;\n",
       "    }\n",
       "\n",
       "    .dataframe tbody tr th {\n",
       "        vertical-align: top;\n",
       "    }\n",
       "\n",
       "    .dataframe thead th {\n",
       "        text-align: right;\n",
       "    }\n",
       "</style>\n",
       "<table border=\"1\" class=\"dataframe\">\n",
       "  <thead>\n",
       "    <tr style=\"text-align: right;\">\n",
       "      <th></th>\n",
       "      <th></th>\n",
       "      <th>poverty_population</th>\n",
       "    </tr>\n",
       "    <tr>\n",
       "      <th>country</th>\n",
       "      <th>time</th>\n",
       "      <th></th>\n",
       "    </tr>\n",
       "  </thead>\n",
       "  <tbody>\n",
       "    <tr>\n",
       "      <th rowspan=\"5\" valign=\"top\">afg</th>\n",
       "      <th>1800</th>\n",
       "      <td>3017073</td>\n",
       "    </tr>\n",
       "    <tr>\n",
       "      <th>1801</th>\n",
       "      <td>3017073</td>\n",
       "    </tr>\n",
       "    <tr>\n",
       "      <th>1802</th>\n",
       "      <td>3017073</td>\n",
       "    </tr>\n",
       "    <tr>\n",
       "      <th>1803</th>\n",
       "      <td>3017073</td>\n",
       "    </tr>\n",
       "    <tr>\n",
       "      <th>1804</th>\n",
       "      <td>3017073</td>\n",
       "    </tr>\n",
       "    <tr>\n",
       "      <th>...</th>\n",
       "      <th>...</th>\n",
       "      <td>...</td>\n",
       "    </tr>\n",
       "    <tr>\n",
       "      <th rowspan=\"5\" valign=\"top\">zwe</th>\n",
       "      <th>2046</th>\n",
       "      <td>5484586</td>\n",
       "    </tr>\n",
       "    <tr>\n",
       "      <th>2047</th>\n",
       "      <td>5357587</td>\n",
       "    </tr>\n",
       "    <tr>\n",
       "      <th>2048</th>\n",
       "      <td>5229870</td>\n",
       "    </tr>\n",
       "    <tr>\n",
       "      <th>2049</th>\n",
       "      <td>5102145</td>\n",
       "    </tr>\n",
       "    <tr>\n",
       "      <th>2050</th>\n",
       "      <td>4970076</td>\n",
       "    </tr>\n",
       "  </tbody>\n",
       "</table>\n",
       "<p>48945 rows × 1 columns</p>\n",
       "</div>"
      ],
      "text/plain": [
       "              poverty_population\n",
       "country time                    \n",
       "afg     1800             3017073\n",
       "        1801             3017073\n",
       "        1802             3017073\n",
       "        1803             3017073\n",
       "        1804             3017073\n",
       "...                          ...\n",
       "zwe     2046             5484586\n",
       "        2047             5357587\n",
       "        2048             5229870\n",
       "        2049             5102145\n",
       "        2050             4970076\n",
       "\n",
       "[48945 rows x 1 columns]"
      ]
     },
     "execution_count": 52,
     "metadata": {},
     "output_type": "execute_result"
    }
   ],
   "source": [
    "df1"
   ]
  },
  {
   "cell_type": "code",
   "execution_count": 55,
   "id": "f465974d",
   "metadata": {},
   "outputs": [
    {
     "data": {
      "text/html": [
       "<div>\n",
       "<style scoped>\n",
       "    .dataframe tbody tr th:only-of-type {\n",
       "        vertical-align: middle;\n",
       "    }\n",
       "\n",
       "    .dataframe tbody tr th {\n",
       "        vertical-align: top;\n",
       "    }\n",
       "\n",
       "    .dataframe thead th {\n",
       "        text-align: right;\n",
       "    }\n",
       "</style>\n",
       "<table border=\"1\" class=\"dataframe\">\n",
       "  <thead>\n",
       "    <tr style=\"text-align: right;\">\n",
       "      <th></th>\n",
       "      <th></th>\n",
       "      <th>ilevel4</th>\n",
       "    </tr>\n",
       "    <tr>\n",
       "      <th>country</th>\n",
       "      <th>time</th>\n",
       "      <th></th>\n",
       "    </tr>\n",
       "  </thead>\n",
       "  <tbody>\n",
       "    <tr>\n",
       "      <th rowspan=\"5\" valign=\"top\">afg</th>\n",
       "      <th>1800</th>\n",
       "      <td>lic</td>\n",
       "    </tr>\n",
       "    <tr>\n",
       "      <th>1801</th>\n",
       "      <td>lic</td>\n",
       "    </tr>\n",
       "    <tr>\n",
       "      <th>1802</th>\n",
       "      <td>lic</td>\n",
       "    </tr>\n",
       "    <tr>\n",
       "      <th>1803</th>\n",
       "      <td>lic</td>\n",
       "    </tr>\n",
       "    <tr>\n",
       "      <th>1804</th>\n",
       "      <td>lic</td>\n",
       "    </tr>\n",
       "    <tr>\n",
       "      <th>...</th>\n",
       "      <th>...</th>\n",
       "      <td>...</td>\n",
       "    </tr>\n",
       "    <tr>\n",
       "      <th rowspan=\"5\" valign=\"top\">zwe</th>\n",
       "      <th>2046</th>\n",
       "      <td>lmic</td>\n",
       "    </tr>\n",
       "    <tr>\n",
       "      <th>2047</th>\n",
       "      <td>lmic</td>\n",
       "    </tr>\n",
       "    <tr>\n",
       "      <th>2048</th>\n",
       "      <td>lmic</td>\n",
       "    </tr>\n",
       "    <tr>\n",
       "      <th>2049</th>\n",
       "      <td>lmic</td>\n",
       "    </tr>\n",
       "    <tr>\n",
       "      <th>2050</th>\n",
       "      <td>lmic</td>\n",
       "    </tr>\n",
       "  </tbody>\n",
       "</table>\n",
       "<p>48979 rows × 1 columns</p>\n",
       "</div>"
      ],
      "text/plain": [
       "             ilevel4\n",
       "country time        \n",
       "afg     1800     lic\n",
       "        1801     lic\n",
       "        1802     lic\n",
       "        1803     lic\n",
       "        1804     lic\n",
       "...              ...\n",
       "zwe     2046    lmic\n",
       "        2047    lmic\n",
       "        2048    lmic\n",
       "        2049    lmic\n",
       "        2050    lmic\n",
       "\n",
       "[48979 rows x 1 columns]"
      ]
     },
     "execution_count": 55,
     "metadata": {},
     "output_type": "execute_result"
    }
   ],
   "source": [
    "ilevel4.to_frame()"
   ]
  },
  {
   "cell_type": "code",
   "execution_count": 59,
   "id": "f5629f74",
   "metadata": {},
   "outputs": [],
   "source": [
    "df2 = pd.concat([df1, ilevel4.to_frame()], axis=1)"
   ]
  },
  {
   "cell_type": "code",
   "execution_count": 57,
   "id": "f55eb860",
   "metadata": {},
   "outputs": [
    {
     "data": {
      "text/html": [
       "<div>\n",
       "<style scoped>\n",
       "    .dataframe tbody tr th:only-of-type {\n",
       "        vertical-align: middle;\n",
       "    }\n",
       "\n",
       "    .dataframe tbody tr th {\n",
       "        vertical-align: top;\n",
       "    }\n",
       "\n",
       "    .dataframe thead th {\n",
       "        text-align: right;\n",
       "    }\n",
       "</style>\n",
       "<table border=\"1\" class=\"dataframe\">\n",
       "  <thead>\n",
       "    <tr style=\"text-align: right;\">\n",
       "      <th></th>\n",
       "      <th></th>\n",
       "      <th>poverty_population</th>\n",
       "      <th>ilevel4</th>\n",
       "    </tr>\n",
       "    <tr>\n",
       "      <th>country</th>\n",
       "      <th>time</th>\n",
       "      <th></th>\n",
       "      <th></th>\n",
       "    </tr>\n",
       "  </thead>\n",
       "  <tbody>\n",
       "    <tr>\n",
       "      <th rowspan=\"5\" valign=\"top\">afg</th>\n",
       "      <th>1800</th>\n",
       "      <td>3017073.0</td>\n",
       "      <td>lic</td>\n",
       "    </tr>\n",
       "    <tr>\n",
       "      <th>1801</th>\n",
       "      <td>3017073.0</td>\n",
       "      <td>lic</td>\n",
       "    </tr>\n",
       "    <tr>\n",
       "      <th>1802</th>\n",
       "      <td>3017073.0</td>\n",
       "      <td>lic</td>\n",
       "    </tr>\n",
       "    <tr>\n",
       "      <th>1803</th>\n",
       "      <td>3017073.0</td>\n",
       "      <td>lic</td>\n",
       "    </tr>\n",
       "    <tr>\n",
       "      <th>1804</th>\n",
       "      <td>3017073.0</td>\n",
       "      <td>lic</td>\n",
       "    </tr>\n",
       "    <tr>\n",
       "      <th>...</th>\n",
       "      <th>...</th>\n",
       "      <td>...</td>\n",
       "      <td>...</td>\n",
       "    </tr>\n",
       "    <tr>\n",
       "      <th rowspan=\"5\" valign=\"top\">lie</th>\n",
       "      <th>2016</th>\n",
       "      <td>NaN</td>\n",
       "      <td>hic</td>\n",
       "    </tr>\n",
       "    <tr>\n",
       "      <th>2017</th>\n",
       "      <td>NaN</td>\n",
       "      <td>hic</td>\n",
       "    </tr>\n",
       "    <tr>\n",
       "      <th>2018</th>\n",
       "      <td>NaN</td>\n",
       "      <td>hic</td>\n",
       "    </tr>\n",
       "    <tr>\n",
       "      <th>2019</th>\n",
       "      <td>NaN</td>\n",
       "      <td>hic</td>\n",
       "    </tr>\n",
       "    <tr>\n",
       "      <th>2020</th>\n",
       "      <td>NaN</td>\n",
       "      <td>hic</td>\n",
       "    </tr>\n",
       "  </tbody>\n",
       "</table>\n",
       "<p>48979 rows × 2 columns</p>\n",
       "</div>"
      ],
      "text/plain": [
       "              poverty_population ilevel4\n",
       "country time                            \n",
       "afg     1800           3017073.0     lic\n",
       "        1801           3017073.0     lic\n",
       "        1802           3017073.0     lic\n",
       "        1803           3017073.0     lic\n",
       "        1804           3017073.0     lic\n",
       "...                          ...     ...\n",
       "lie     2016                 NaN     hic\n",
       "        2017                 NaN     hic\n",
       "        2018                 NaN     hic\n",
       "        2019                 NaN     hic\n",
       "        2020                 NaN     hic\n",
       "\n",
       "[48979 rows x 2 columns]"
      ]
     },
     "execution_count": 57,
     "metadata": {},
     "output_type": "execute_result"
    }
   ],
   "source": [
    "df2"
   ]
  },
  {
   "cell_type": "code",
   "execution_count": null,
   "id": "fb880a8d",
   "metadata": {},
   "outputs": [],
   "source": []
  },
  {
   "cell_type": "code",
   "execution_count": 60,
   "id": "3d6ad689",
   "metadata": {},
   "outputs": [],
   "source": [
    "res = df2.reset_index()"
   ]
  },
  {
   "cell_type": "code",
   "execution_count": 61,
   "id": "5e92bda4",
   "metadata": {},
   "outputs": [],
   "source": [
    "res = res.dropna(subset=['poverty_population'])"
   ]
  },
  {
   "cell_type": "code",
   "execution_count": 62,
   "id": "743a56e3",
   "metadata": {},
   "outputs": [],
   "source": [
    "res = res.groupby(['ilevel4', 'time'])['poverty_population'].sum()"
   ]
  },
  {
   "cell_type": "code",
   "execution_count": 63,
   "id": "351c9510",
   "metadata": {},
   "outputs": [
    {
     "data": {
      "text/plain": [
       "ilevel4  time\n",
       "hic      1944          63.0\n",
       "         1945          62.0\n",
       "         1946          45.0\n",
       "         1947          26.0\n",
       "         1948          15.0\n",
       "                    ...    \n",
       "umic     2046    65180611.0\n",
       "         2047    63563618.0\n",
       "         2048    61958075.0\n",
       "         2049    55264193.0\n",
       "         2050    53978007.0\n",
       "Name: poverty_population, Length: 774, dtype: float64"
      ]
     },
     "execution_count": 63,
     "metadata": {},
     "output_type": "execute_result"
    }
   ],
   "source": [
    "res"
   ]
  },
  {
   "cell_type": "code",
   "execution_count": 64,
   "id": "4f53a754",
   "metadata": {},
   "outputs": [],
   "source": [
    "res = res.reset_index()"
   ]
  },
  {
   "cell_type": "code",
   "execution_count": 65,
   "id": "21b37f17",
   "metadata": {},
   "outputs": [],
   "source": [
    "gs = res['ilevel4'].unique()"
   ]
  },
  {
   "cell_type": "code",
   "execution_count": 66,
   "id": "687cc3b6",
   "metadata": {},
   "outputs": [
    {
     "data": {
      "text/plain": [
       "array(['hic', 'lic', 'lmic', 'umic'], dtype=object)"
      ]
     },
     "execution_count": 66,
     "metadata": {},
     "output_type": "execute_result"
    }
   ],
   "source": [
    "gs"
   ]
  },
  {
   "cell_type": "code",
   "execution_count": 67,
   "id": "839bdc84",
   "metadata": {},
   "outputs": [],
   "source": [
    "gt = pd.CategoricalDtype(['lic', 'lmic', 'umic', 'hic'], ordered=True)"
   ]
  },
  {
   "cell_type": "code",
   "execution_count": 68,
   "id": "1507ed57",
   "metadata": {},
   "outputs": [],
   "source": [
    "res['ilevel4'] = res['ilevel4'].astype(gt)"
   ]
  },
  {
   "cell_type": "code",
   "execution_count": 69,
   "id": "97850856",
   "metadata": {},
   "outputs": [
    {
     "data": {
      "text/html": [
       "<div>\n",
       "<style scoped>\n",
       "    .dataframe tbody tr th:only-of-type {\n",
       "        vertical-align: middle;\n",
       "    }\n",
       "\n",
       "    .dataframe tbody tr th {\n",
       "        vertical-align: top;\n",
       "    }\n",
       "\n",
       "    .dataframe thead th {\n",
       "        text-align: right;\n",
       "    }\n",
       "</style>\n",
       "<table border=\"1\" class=\"dataframe\">\n",
       "  <thead>\n",
       "    <tr style=\"text-align: right;\">\n",
       "      <th></th>\n",
       "      <th>ilevel4</th>\n",
       "      <th>time</th>\n",
       "      <th>poverty_population</th>\n",
       "    </tr>\n",
       "  </thead>\n",
       "  <tbody>\n",
       "    <tr>\n",
       "      <th>0</th>\n",
       "      <td>hic</td>\n",
       "      <td>1944</td>\n",
       "      <td>63.0</td>\n",
       "    </tr>\n",
       "    <tr>\n",
       "      <th>1</th>\n",
       "      <td>hic</td>\n",
       "      <td>1945</td>\n",
       "      <td>62.0</td>\n",
       "    </tr>\n",
       "    <tr>\n",
       "      <th>2</th>\n",
       "      <td>hic</td>\n",
       "      <td>1946</td>\n",
       "      <td>45.0</td>\n",
       "    </tr>\n",
       "    <tr>\n",
       "      <th>3</th>\n",
       "      <td>hic</td>\n",
       "      <td>1947</td>\n",
       "      <td>26.0</td>\n",
       "    </tr>\n",
       "    <tr>\n",
       "      <th>4</th>\n",
       "      <td>hic</td>\n",
       "      <td>1948</td>\n",
       "      <td>15.0</td>\n",
       "    </tr>\n",
       "    <tr>\n",
       "      <th>...</th>\n",
       "      <td>...</td>\n",
       "      <td>...</td>\n",
       "      <td>...</td>\n",
       "    </tr>\n",
       "    <tr>\n",
       "      <th>769</th>\n",
       "      <td>umic</td>\n",
       "      <td>2046</td>\n",
       "      <td>65180611.0</td>\n",
       "    </tr>\n",
       "    <tr>\n",
       "      <th>770</th>\n",
       "      <td>umic</td>\n",
       "      <td>2047</td>\n",
       "      <td>63563618.0</td>\n",
       "    </tr>\n",
       "    <tr>\n",
       "      <th>771</th>\n",
       "      <td>umic</td>\n",
       "      <td>2048</td>\n",
       "      <td>61958075.0</td>\n",
       "    </tr>\n",
       "    <tr>\n",
       "      <th>772</th>\n",
       "      <td>umic</td>\n",
       "      <td>2049</td>\n",
       "      <td>55264193.0</td>\n",
       "    </tr>\n",
       "    <tr>\n",
       "      <th>773</th>\n",
       "      <td>umic</td>\n",
       "      <td>2050</td>\n",
       "      <td>53978007.0</td>\n",
       "    </tr>\n",
       "  </tbody>\n",
       "</table>\n",
       "<p>774 rows × 3 columns</p>\n",
       "</div>"
      ],
      "text/plain": [
       "    ilevel4  time  poverty_population\n",
       "0       hic  1944                63.0\n",
       "1       hic  1945                62.0\n",
       "2       hic  1946                45.0\n",
       "3       hic  1947                26.0\n",
       "4       hic  1948                15.0\n",
       "..      ...   ...                 ...\n",
       "769    umic  2046          65180611.0\n",
       "770    umic  2047          63563618.0\n",
       "771    umic  2048          61958075.0\n",
       "772    umic  2049          55264193.0\n",
       "773    umic  2050          53978007.0\n",
       "\n",
       "[774 rows x 3 columns]"
      ]
     },
     "execution_count": 69,
     "metadata": {},
     "output_type": "execute_result"
    }
   ],
   "source": [
    "res"
   ]
  },
  {
   "cell_type": "code",
   "execution_count": 71,
   "id": "d3929694",
   "metadata": {},
   "outputs": [],
   "source": [
    "res = res.sort_values(by=['ilevel4', 'time'])"
   ]
  },
  {
   "cell_type": "code",
   "execution_count": 72,
   "id": "5ebbfeca",
   "metadata": {},
   "outputs": [],
   "source": [
    "res.columns = ['income_groups', 'time', 'poverty_population_under_1_9_per_day']"
   ]
  },
  {
   "cell_type": "code",
   "execution_count": 73,
   "id": "06e6843e",
   "metadata": {},
   "outputs": [
    {
     "data": {
      "text/html": [
       "<div>\n",
       "<style scoped>\n",
       "    .dataframe tbody tr th:only-of-type {\n",
       "        vertical-align: middle;\n",
       "    }\n",
       "\n",
       "    .dataframe tbody tr th {\n",
       "        vertical-align: top;\n",
       "    }\n",
       "\n",
       "    .dataframe thead th {\n",
       "        text-align: right;\n",
       "    }\n",
       "</style>\n",
       "<table border=\"1\" class=\"dataframe\">\n",
       "  <thead>\n",
       "    <tr style=\"text-align: right;\">\n",
       "      <th></th>\n",
       "      <th>income_groups</th>\n",
       "      <th>time</th>\n",
       "      <th>poverty_population_under_1_9_per_day</th>\n",
       "    </tr>\n",
       "  </thead>\n",
       "  <tbody>\n",
       "    <tr>\n",
       "      <th>107</th>\n",
       "      <td>lic</td>\n",
       "      <td>1800</td>\n",
       "      <td>758276971.0</td>\n",
       "    </tr>\n",
       "    <tr>\n",
       "      <th>108</th>\n",
       "      <td>lic</td>\n",
       "      <td>1801</td>\n",
       "      <td>761135220.0</td>\n",
       "    </tr>\n",
       "    <tr>\n",
       "      <th>109</th>\n",
       "      <td>lic</td>\n",
       "      <td>1802</td>\n",
       "      <td>764406770.0</td>\n",
       "    </tr>\n",
       "    <tr>\n",
       "      <th>110</th>\n",
       "      <td>lic</td>\n",
       "      <td>1803</td>\n",
       "      <td>767712908.0</td>\n",
       "    </tr>\n",
       "    <tr>\n",
       "      <th>111</th>\n",
       "      <td>lic</td>\n",
       "      <td>1804</td>\n",
       "      <td>771031396.0</td>\n",
       "    </tr>\n",
       "    <tr>\n",
       "      <th>...</th>\n",
       "      <td>...</td>\n",
       "      <td>...</td>\n",
       "      <td>...</td>\n",
       "    </tr>\n",
       "    <tr>\n",
       "      <th>102</th>\n",
       "      <td>hic</td>\n",
       "      <td>2046</td>\n",
       "      <td>7913896.0</td>\n",
       "    </tr>\n",
       "    <tr>\n",
       "      <th>103</th>\n",
       "      <td>hic</td>\n",
       "      <td>2047</td>\n",
       "      <td>7607320.0</td>\n",
       "    </tr>\n",
       "    <tr>\n",
       "      <th>104</th>\n",
       "      <td>hic</td>\n",
       "      <td>2048</td>\n",
       "      <td>7262310.0</td>\n",
       "    </tr>\n",
       "    <tr>\n",
       "      <th>105</th>\n",
       "      <td>hic</td>\n",
       "      <td>2049</td>\n",
       "      <td>12323380.0</td>\n",
       "    </tr>\n",
       "    <tr>\n",
       "      <th>106</th>\n",
       "      <td>hic</td>\n",
       "      <td>2050</td>\n",
       "      <td>11822375.0</td>\n",
       "    </tr>\n",
       "  </tbody>\n",
       "</table>\n",
       "<p>774 rows × 3 columns</p>\n",
       "</div>"
      ],
      "text/plain": [
       "    income_groups  time  poverty_population_under_1_9_per_day\n",
       "107           lic  1800                           758276971.0\n",
       "108           lic  1801                           761135220.0\n",
       "109           lic  1802                           764406770.0\n",
       "110           lic  1803                           767712908.0\n",
       "111           lic  1804                           771031396.0\n",
       "..            ...   ...                                   ...\n",
       "102           hic  2046                             7913896.0\n",
       "103           hic  2047                             7607320.0\n",
       "104           hic  2048                             7262310.0\n",
       "105           hic  2049                            12323380.0\n",
       "106           hic  2050                            11822375.0\n",
       "\n",
       "[774 rows x 3 columns]"
      ]
     },
     "execution_count": 73,
     "metadata": {},
     "output_type": "execute_result"
    }
   ],
   "source": [
    "res"
   ]
  },
  {
   "cell_type": "code",
   "execution_count": 74,
   "id": "c66606d6",
   "metadata": {},
   "outputs": [],
   "source": [
    "m = {'lic': 'low_income', 'hic': 'high_income', 'lmic': 'lower_middle_income', 'umic': 'upper_middle_income'}"
   ]
  },
  {
   "cell_type": "code",
   "execution_count": 75,
   "id": "fde62167",
   "metadata": {},
   "outputs": [],
   "source": [
    "res['income_groups'] = res['income_groups'].map(m)"
   ]
  },
  {
   "cell_type": "code",
   "execution_count": 76,
   "id": "b87dc96a",
   "metadata": {},
   "outputs": [
    {
     "data": {
      "text/html": [
       "<div>\n",
       "<style scoped>\n",
       "    .dataframe tbody tr th:only-of-type {\n",
       "        vertical-align: middle;\n",
       "    }\n",
       "\n",
       "    .dataframe tbody tr th {\n",
       "        vertical-align: top;\n",
       "    }\n",
       "\n",
       "    .dataframe thead th {\n",
       "        text-align: right;\n",
       "    }\n",
       "</style>\n",
       "<table border=\"1\" class=\"dataframe\">\n",
       "  <thead>\n",
       "    <tr style=\"text-align: right;\">\n",
       "      <th></th>\n",
       "      <th>income_groups</th>\n",
       "      <th>time</th>\n",
       "      <th>poverty_population_under_1_9_per_day</th>\n",
       "    </tr>\n",
       "  </thead>\n",
       "  <tbody>\n",
       "    <tr>\n",
       "      <th>107</th>\n",
       "      <td>low_income</td>\n",
       "      <td>1800</td>\n",
       "      <td>758276971.0</td>\n",
       "    </tr>\n",
       "    <tr>\n",
       "      <th>108</th>\n",
       "      <td>low_income</td>\n",
       "      <td>1801</td>\n",
       "      <td>761135220.0</td>\n",
       "    </tr>\n",
       "    <tr>\n",
       "      <th>109</th>\n",
       "      <td>low_income</td>\n",
       "      <td>1802</td>\n",
       "      <td>764406770.0</td>\n",
       "    </tr>\n",
       "    <tr>\n",
       "      <th>110</th>\n",
       "      <td>low_income</td>\n",
       "      <td>1803</td>\n",
       "      <td>767712908.0</td>\n",
       "    </tr>\n",
       "    <tr>\n",
       "      <th>111</th>\n",
       "      <td>low_income</td>\n",
       "      <td>1804</td>\n",
       "      <td>771031396.0</td>\n",
       "    </tr>\n",
       "    <tr>\n",
       "      <th>...</th>\n",
       "      <td>...</td>\n",
       "      <td>...</td>\n",
       "      <td>...</td>\n",
       "    </tr>\n",
       "    <tr>\n",
       "      <th>102</th>\n",
       "      <td>high_income</td>\n",
       "      <td>2046</td>\n",
       "      <td>7913896.0</td>\n",
       "    </tr>\n",
       "    <tr>\n",
       "      <th>103</th>\n",
       "      <td>high_income</td>\n",
       "      <td>2047</td>\n",
       "      <td>7607320.0</td>\n",
       "    </tr>\n",
       "    <tr>\n",
       "      <th>104</th>\n",
       "      <td>high_income</td>\n",
       "      <td>2048</td>\n",
       "      <td>7262310.0</td>\n",
       "    </tr>\n",
       "    <tr>\n",
       "      <th>105</th>\n",
       "      <td>high_income</td>\n",
       "      <td>2049</td>\n",
       "      <td>12323380.0</td>\n",
       "    </tr>\n",
       "    <tr>\n",
       "      <th>106</th>\n",
       "      <td>high_income</td>\n",
       "      <td>2050</td>\n",
       "      <td>11822375.0</td>\n",
       "    </tr>\n",
       "  </tbody>\n",
       "</table>\n",
       "<p>774 rows × 3 columns</p>\n",
       "</div>"
      ],
      "text/plain": [
       "    income_groups  time  poverty_population_under_1_9_per_day\n",
       "107    low_income  1800                           758276971.0\n",
       "108    low_income  1801                           761135220.0\n",
       "109    low_income  1802                           764406770.0\n",
       "110    low_income  1803                           767712908.0\n",
       "111    low_income  1804                           771031396.0\n",
       "..            ...   ...                                   ...\n",
       "102   high_income  2046                             7913896.0\n",
       "103   high_income  2047                             7607320.0\n",
       "104   high_income  2048                             7262310.0\n",
       "105   high_income  2049                            12323380.0\n",
       "106   high_income  2050                            11822375.0\n",
       "\n",
       "[774 rows x 3 columns]"
      ]
     },
     "execution_count": 76,
     "metadata": {},
     "output_type": "execute_result"
    }
   ],
   "source": [
    "res"
   ]
  },
  {
   "cell_type": "code",
   "execution_count": 77,
   "id": "61987fa6",
   "metadata": {},
   "outputs": [
    {
     "data": {
      "text/plain": [
       "CategoricalDtype(categories=['low_income', 'lower_middle_income', 'upper_middle_income',\n",
       "                  'high_income'],\n",
       ", ordered=True)"
      ]
     },
     "execution_count": 77,
     "metadata": {},
     "output_type": "execute_result"
    }
   ],
   "source": [
    "res.dtypes['income_groups']"
   ]
  },
  {
   "cell_type": "code",
   "execution_count": 78,
   "id": "ffe25102",
   "metadata": {},
   "outputs": [],
   "source": [
    "res.to_csv('../../poverty_rates/ddf--datapoints--poverty_population_under_1_9_per_day--by--income_groups--time.csv', index=False)"
   ]
  },
  {
   "cell_type": "code",
   "execution_count": null,
   "id": "e4a4169f",
   "metadata": {},
   "outputs": [],
   "source": []
  }
 ],
 "metadata": {
  "kernelspec": {
   "display_name": "Python 3 (ipykernel)",
   "language": "python",
   "name": "python3"
  },
  "language_info": {
   "codemirror_mode": {
    "name": "ipython",
    "version": 3
   },
   "file_extension": ".py",
   "mimetype": "text/x-python",
   "name": "python",
   "nbconvert_exporter": "python",
   "pygments_lexer": "ipython3",
   "version": "3.10.5"
  },
  "name": "Untitled1.ipynb"
 },
 "nbformat": 4,
 "nbformat_minor": 5
}
