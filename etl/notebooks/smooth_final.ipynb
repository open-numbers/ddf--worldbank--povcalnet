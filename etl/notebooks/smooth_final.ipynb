{
 "cells": [
  {
   "cell_type": "code",
   "execution_count": 1,
   "id": "retired-grounds",
   "metadata": {},
   "outputs": [],
   "source": [
    "import math\n",
    "import numpy as np\n",
    "import pandas as pd\n",
    "import seaborn\n",
    "import matplotlib.pyplot as plt\n",
    "%matplotlib inline"
   ]
  },
  {
   "cell_type": "code",
   "execution_count": 2,
   "id": "sustained-drove",
   "metadata": {},
   "outputs": [],
   "source": [
    "from scipy.optimize import curve_fit"
   ]
  },
  {
   "cell_type": "code",
   "execution_count": null,
   "id": "moved-american",
   "metadata": {},
   "outputs": [],
   "source": []
  },
  {
   "cell_type": "code",
   "execution_count": 3,
   "id": "bound-spirit",
   "metadata": {},
   "outputs": [],
   "source": [
    "seaborn.set_context('notebook')\n",
    "seaborn.set_style('whitegrid')"
   ]
  },
  {
   "cell_type": "code",
   "execution_count": 4,
   "id": "comparative-globe",
   "metadata": {},
   "outputs": [],
   "source": [
    "plt.rcParams['figure.figsize'] = [16, 8]"
   ]
  },
  {
   "cell_type": "code",
   "execution_count": null,
   "id": "subject-vehicle",
   "metadata": {},
   "outputs": [],
   "source": []
  },
  {
   "cell_type": "code",
   "execution_count": 5,
   "id": "eight-fellowship",
   "metadata": {},
   "outputs": [],
   "source": [
    "pop = pd.read_csv('../../ddf--datapoints--population_percentage--by--geo--year--coverage_type--income_bracket.csv')"
   ]
  },
  {
   "cell_type": "code",
   "execution_count": 6,
   "id": "owned-electricity",
   "metadata": {},
   "outputs": [],
   "source": [
    "pop = pop.set_index(['geo', 'year', 'coverage_type', 'income_bracket'])['population_percentage']"
   ]
  },
  {
   "cell_type": "code",
   "execution_count": null,
   "id": "vital-repository",
   "metadata": {},
   "outputs": [],
   "source": []
  },
  {
   "cell_type": "code",
   "execution_count": null,
   "id": "logical-works",
   "metadata": {},
   "outputs": [],
   "source": []
  },
  {
   "cell_type": "code",
   "execution_count": null,
   "id": "asian-gross",
   "metadata": {},
   "outputs": [],
   "source": []
  },
  {
   "cell_type": "code",
   "execution_count": null,
   "id": "biblical-genealogy",
   "metadata": {},
   "outputs": [],
   "source": []
  },
  {
   "cell_type": "code",
   "execution_count": null,
   "id": "respected-emerald",
   "metadata": {},
   "outputs": [],
   "source": []
  },
  {
   "cell_type": "code",
   "execution_count": 7,
   "id": "imported-fancy",
   "metadata": {},
   "outputs": [],
   "source": [
    "# maybe it's easier to make a function of x and y distance to y_max\n",
    "def mval_at_point(x, y, x_y_max, y_max, maximum=10, minimum=0):\n",
    "    # TODO: use y_max to modify d\n",
    "    # print(x_y_max)\n",
    "    x_d = (abs(x - x_y_max) / x_y_max) ** 2\n",
    "    y_d = (abs(y - y_max) / y_max) ** 2\n",
    "    \n",
    "    if y_d == 0:\n",
    "        return minimum\n",
    "    \n",
    "    d = maximum * (0.8 * x_d + 0.2 * y_d)\n",
    "    \n",
    "    d = int(d)\n",
    "    \n",
    "    if d <= minimum:\n",
    "        return minimum\n",
    "    if d > maximum:\n",
    "        return maximum\n",
    "    else:\n",
    "        return d"
   ]
  },
  {
   "cell_type": "code",
   "execution_count": 8,
   "id": "linear-bones",
   "metadata": {},
   "outputs": [],
   "source": [
    "def get_sample_at_point(x, arr, mval=None):\n",
    "    y = arr[x]\n",
    "    y_max = arr.max()\n",
    "    x_y_max = np.where(arr == y_max)[0][0]\n",
    "    if not mval:\n",
    "        mval = mval_at_point(x, y, x_y_max, y_max)\n",
    "\n",
    "    if x + mval + 1 > len(arr):\n",
    "        pad = x + mval - len(arr) + 1 \n",
    "        ending = np.zeros(pad)\n",
    "    else:\n",
    "        ending = np.array([])\n",
    "    \n",
    "    if x < mval:\n",
    "        pad = mval - x\n",
    "        beginning = np.zeros(pad)\n",
    "    else:\n",
    "        beginning = np.array([])\n",
    "        \n",
    "    res = np.concatenate([beginning, arr, ending])\n",
    "        \n",
    "    if len(beginning) > 0:\n",
    "        return res[:(mval * 2 + 1)]\n",
    "    else:\n",
    "        return res[(x - mval):(x + mval + 1)]"
   ]
  },
  {
   "cell_type": "code",
   "execution_count": 9,
   "id": "broadband-middle",
   "metadata": {},
   "outputs": [],
   "source": [
    "def tricubic(x):\n",
    "    y = np.ones_like(x)\n",
    "    # idx = (x >= -1) & (x <= 1)\n",
    "    max_d = x.max() - x.min()\n",
    "    xmin = x.min()\n",
    "    if max_d == 0:\n",
    "        return y\n",
    "    for idx, xv in enumerate(x):\n",
    "        y[idx] = np.power(1.0 - np.power(np.abs(x[idx] - xmin), 3), 3)\n",
    "    return y"
   ]
  },
  {
   "cell_type": "code",
   "execution_count": 10,
   "id": "proved-storm",
   "metadata": {},
   "outputs": [],
   "source": [
    "def func(x, a, b):\n",
    "    return a * x + b"
   ]
  },
  {
   "cell_type": "code",
   "execution_count": 11,
   "id": "clear-hello",
   "metadata": {},
   "outputs": [],
   "source": [
    "def estimate(sample, weights, xpos):\n",
    "    x = list(range(len(sample)))\n",
    "    y = sample\n",
    "    popt, pcov = curve_fit(func, x, y, sigma=weights)\n",
    "    # print(popt)\n",
    "    return popt[0] * xpos + popt[1]"
   ]
  },
  {
   "cell_type": "code",
   "execution_count": null,
   "id": "returning-seller",
   "metadata": {},
   "outputs": [],
   "source": []
  },
  {
   "cell_type": "code",
   "execution_count": 18,
   "id": "normal-nickname",
   "metadata": {},
   "outputs": [],
   "source": [
    "def run(ser, maximum=10, minimum=1):\n",
    "    res = []\n",
    "    for i in range(len(ser)):\n",
    "        # print(i, end=',')\n",
    "        y = ser.values[i]\n",
    "        y_max = ser.max()\n",
    "        x_y_max = ser[ser == ser.max()].index[0]\n",
    "    #     if x_y_max == i:\n",
    "    #         res.append(ser.max())\n",
    "    #         print()\n",
    "    #         continue\n",
    "        mval = mval_at_point(i, y, x_y_max, y_max, maximum=maximum, minimum=minimum)\n",
    "        # print(mval)\n",
    "        if mval == 0:\n",
    "            res.append(y)\n",
    "            continue\n",
    "        sample = get_sample_at_point(i, ser, mval=mval)\n",
    "        # print(sample)\n",
    "        assert len(sample) == 2 * mval + 1, f\"i={i}, size={len(sample)}, mval={mval}\"\n",
    "        weights = tricubic(sample)\n",
    "        try:\n",
    "            res.append(estimate(sample, weights, mval))\n",
    "        except:\n",
    "            print(i, sample, weights, mval)\n",
    "            raise\n",
    "            \n",
    "    return pd.Series(res)"
   ]
  },
  {
   "cell_type": "code",
   "execution_count": 46,
   "id": "talented-edinburgh",
   "metadata": {},
   "outputs": [],
   "source": [
    "p1 = pop.loc['aus', 1981, 'n', :]"
   ]
  },
  {
   "cell_type": "code",
   "execution_count": 47,
   "id": "passing-harrison",
   "metadata": {},
   "outputs": [],
   "source": [
    "ser = p1.reset_index(drop=True)"
   ]
  },
  {
   "cell_type": "code",
   "execution_count": 48,
   "id": "historic-thinking",
   "metadata": {},
   "outputs": [
    {
     "data": {
      "text/plain": [
       "count    100.000000\n",
       "mean       0.010000\n",
       "std        0.024505\n",
       "min        0.000000\n",
       "25%        0.000000\n",
       "50%        0.000000\n",
       "75%        0.003304\n",
       "max        0.106368\n",
       "Name: population_percentage, dtype: float64"
      ]
     },
     "execution_count": 48,
     "metadata": {},
     "output_type": "execute_result"
    }
   ],
   "source": [
    "ser.describe()"
   ]
  },
  {
   "cell_type": "code",
   "execution_count": 49,
   "id": "documentary-infrared",
   "metadata": {
    "scrolled": true
   },
   "outputs": [],
   "source": [
    "res = run(ser, 10, 1)\n",
    "\n",
    "if ser.std() < 0.021:\n",
    "    res = run(res, 8, 1)\n",
    "    res = run(res, 8, 1)\n",
    "    res = run(res, 5, 0)\n",
    "    res = run(res, 5, 0)\n",
    "else:\n",
    "    res = run(res, 8, 0)\n",
    "    res = run(res, 8, 0)\n",
    "    res = run(res, 5, 0)\n",
    "    res = run(res, 5, 0)\n",
    "    \n",
    "# res = run(res, 5, 0)\n",
    "# res = run(res, 5, 0)\n",
    "# res = run(res, 5, 0)\n",
    "# res = run(res, 5, 0)"
   ]
  },
  {
   "cell_type": "code",
   "execution_count": 50,
   "id": "revised-roller",
   "metadata": {},
   "outputs": [
    {
     "data": {
      "text/plain": [
       "<AxesSubplot:>"
      ]
     },
     "execution_count": 50,
     "metadata": {},
     "output_type": "execute_result"
    },
    {
     "data": {
      "image/png": "[encoded data removed]",
      "text/plain": [
       "<Figure size 1152x576 with 1 Axes>"
      ]
     },
     "metadata": {},
     "output_type": "display_data"
    }
   ],
   "source": [
    "ser.plot(alpha=.2)\n",
    "res.plot()"
   ]
  },
  {
   "cell_type": "code",
   "execution_count": 35,
   "id": "agricultural-receipt",
   "metadata": {},
   "outputs": [
    {
     "name": "stdout",
     "output_type": "stream",
     "text": [
      "0.00911054100546993\n",
      "1.015501836658094\n"
     ]
    }
   ],
   "source": [
    "print(np.abs(ser - res).max())\n",
    "print(res.sum())"
   ]
  },
  {
   "cell_type": "code",
   "execution_count": 36,
   "id": "exceptional-burlington",
   "metadata": {},
   "outputs": [],
   "source": [
    "res1 = res / res.sum() "
   ]
  },
  {
   "cell_type": "code",
   "execution_count": 37,
   "id": "5495ae97",
   "metadata": {},
   "outputs": [
    {
     "data": {
      "text/plain": [
       "<AxesSubplot:>"
      ]
     },
     "execution_count": 37,
     "metadata": {},
     "output_type": "execute_result"
    },
    {
     "data": {
      "image/png": "[encoded data removed]",
      "text/plain": [
       "<Figure size 1152x576 with 1 Axes>"
      ]
     },
     "metadata": {},
     "output_type": "display_data"
    }
   ],
   "source": [
    "res.plot(alpha=.2)\n",
    "res1.plot()"
   ]
  },
  {
   "cell_type": "code",
   "execution_count": 38,
   "id": "88fb8fd3",
   "metadata": {},
   "outputs": [
    {
     "data": {
      "text/plain": [
       "1.0"
      ]
     },
     "execution_count": 38,
     "metadata": {},
     "output_type": "execute_result"
    }
   ],
   "source": [
    "res1.sum()"
   ]
  },
  {
   "cell_type": "code",
   "execution_count": null,
   "id": "fc0c13c7",
   "metadata": {},
   "outputs": [],
   "source": []
  },
  {
   "cell_type": "code",
   "execution_count": null,
   "id": "d03365dc",
   "metadata": {},
   "outputs": [],
   "source": []
  },
  {
   "cell_type": "code",
   "execution_count": 51,
   "id": "38352ea1",
   "metadata": {},
   "outputs": [],
   "source": [
    "pop2 = pd.read_csv('../../ddf--datapoints--population_percentage_smooth--by--geo--year--coverage_type--income_bracket.csv')"
   ]
  },
  {
   "cell_type": "code",
   "execution_count": 53,
   "id": "6f39df48",
   "metadata": {},
   "outputs": [],
   "source": [
    "pop2 = pop2.set_index(['geo', 'year', 'coverage_type', 'income_bracket'])['population_percentage_smooth']"
   ]
  },
  {
   "cell_type": "code",
   "execution_count": 62,
   "id": "c1ff5f91",
   "metadata": {},
   "outputs": [],
   "source": [
    "p1 = pop.loc['kor', 2012, 'n', :]\n",
    "p2 = pop2.loc['kor', 2012, 'n', :]"
   ]
  },
  {
   "cell_type": "code",
   "execution_count": 63,
   "id": "486b580d",
   "metadata": {},
   "outputs": [
    {
     "data": {
      "text/plain": [
       "<AxesSubplot:xlabel='geo,year,coverage_type,income_bracket'>"
      ]
     },
     "execution_count": 63,
     "metadata": {},
     "output_type": "execute_result"
    },
    {
     "data": {
      "image/png": "[encoded data removed]",
      "text/plain": [
       "<Figure size 1152x576 with 1 Axes>"
      ]
     },
     "metadata": {},
     "output_type": "display_data"
    }
   ],
   "source": [
    "p1.plot(alpha=.5)\n",
    "p2.plot()"
   ]
  },
  {
   "cell_type": "code",
   "execution_count": null,
   "id": "fb6e5583",
   "metadata": {},
   "outputs": [],
   "source": []
  }
 ],
 "metadata": {
  "kernelspec": {
   "display_name": "Python 3",
   "language": "python",
   "name": "python3"
  },
  "language_info": {
   "codemirror_mode": {
    "name": "ipython",
    "version": 3
   },
   "file_extension": ".py",
   "mimetype": "text/x-python",
   "name": "python",
   "nbconvert_exporter": "python",
   "pygments_lexer": "ipython3",
   "version": "3.9.5"
  }
 },
 "nbformat": 4,
 "nbformat_minor": 5
}
