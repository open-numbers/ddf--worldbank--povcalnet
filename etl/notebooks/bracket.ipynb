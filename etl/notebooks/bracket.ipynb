{
 "cells": [
  {
   "cell_type": "code",
   "execution_count": 1,
   "id": "af32d441",
   "metadata": {},
   "outputs": [],
   "source": [
    "import pandas as pd\n",
    "import numpy as np\n",
    "import sys\n",
    "sys.path.insert(0, '../scripts/')\n",
    "\n",
    "import matplotlib.pyplot as plt\n",
    "\n",
    "%matplotlib inline"
   ]
  },
  {
   "cell_type": "code",
   "execution_count": 2,
   "id": "a00dca57",
   "metadata": {},
   "outputs": [],
   "source": [
    "plt.rcParams['figure.figsize'] = (10, 6)\n",
    "plt.rcParams['figure.dpi'] = 196"
   ]
  },
  {
   "cell_type": "code",
   "execution_count": 3,
   "id": "fcc9a42c",
   "metadata": {},
   "outputs": [],
   "source": [
    "%load_ext autoreload\n",
    "%autoreload 1"
   ]
  },
  {
   "cell_type": "code",
   "execution_count": 18,
   "id": "b2130658",
   "metadata": {},
   "outputs": [],
   "source": [
    "%aimport etllib\n",
    "%aimport constants"
   ]
  },
  {
   "cell_type": "code",
   "execution_count": 5,
   "id": "a27cb8fc",
   "metadata": {},
   "outputs": [],
   "source": [
    "allb = constants.all_brackets"
   ]
  },
  {
   "cell_type": "code",
   "execution_count": 6,
   "id": "d52cf145",
   "metadata": {},
   "outputs": [
    {
     "data": {
      "text/plain": [
       "array([7.81250000e-03, 8.37323018e-03, 8.97420590e-03, 9.61831573e-03,\n",
       "       1.03086556e-02, 1.10485435e-02, 1.18415357e-02, 1.26914437e-02,\n",
       "       1.36023526e-02, 1.45786405e-02, 1.56250000e-02, 1.67464604e-02,\n",
       "       1.79484118e-02, 1.92366315e-02, 2.06173111e-02, 2.20970869e-02,\n",
       "       2.36830714e-02, 2.53828874e-02, 2.72047051e-02, 2.91572810e-02,\n",
       "       3.12500000e-02, 3.34929207e-02, 3.58968236e-02, 3.84732629e-02,\n",
       "       4.12346222e-02, 4.41941738e-02, 4.73661427e-02, 5.07657748e-02,\n",
       "       5.44094102e-02, 5.83145620e-02, 6.25000000e-02, 6.69858414e-02,\n",
       "       7.17936472e-02, 7.69465258e-02, 8.24692444e-02, 8.83883476e-02,\n",
       "       9.47322854e-02, 1.01531550e-01, 1.08818820e-01, 1.16629124e-01,\n",
       "       1.25000000e-01, 1.33971683e-01, 1.43587294e-01, 1.53893052e-01,\n",
       "       1.64938489e-01, 1.76776695e-01, 1.89464571e-01, 2.03063099e-01,\n",
       "       2.17637641e-01, 2.33258248e-01, 2.50000000e-01, 2.67943366e-01,\n",
       "       2.87174589e-01, 3.07786103e-01, 3.29876978e-01, 3.53553391e-01,\n",
       "       3.78929142e-01, 4.06126198e-01, 4.35275282e-01, 4.66516496e-01,\n",
       "       5.00000000e-01, 5.35886731e-01, 5.74349177e-01, 6.15572207e-01,\n",
       "       6.59753955e-01, 7.07106781e-01, 7.57858283e-01, 8.12252396e-01,\n",
       "       8.70550563e-01, 9.33032992e-01, 1.00000000e+00, 1.07177346e+00,\n",
       "       1.14869835e+00, 1.23114441e+00, 1.31950791e+00, 1.41421356e+00,\n",
       "       1.51571657e+00, 1.62450479e+00, 1.74110113e+00, 1.86606598e+00,\n",
       "       2.00000000e+00, 2.14354693e+00, 2.29739671e+00, 2.46228883e+00,\n",
       "       2.63901582e+00, 2.82842712e+00, 3.03143313e+00, 3.24900959e+00,\n",
       "       3.48220225e+00, 3.73213197e+00, 4.00000000e+00, 4.28709385e+00,\n",
       "       4.59479342e+00, 4.92457765e+00, 5.27803164e+00, 5.65685425e+00,\n",
       "       6.06286627e+00, 6.49801917e+00, 6.96440451e+00, 7.46426393e+00,\n",
       "       8.00000000e+00, 8.57418770e+00, 9.18958684e+00, 9.84915531e+00,\n",
       "       1.05560633e+01, 1.13137085e+01, 1.21257325e+01, 1.29960383e+01,\n",
       "       1.39288090e+01, 1.49285279e+01, 1.60000000e+01, 1.71483754e+01,\n",
       "       1.83791737e+01, 1.96983106e+01, 2.11121266e+01, 2.26274170e+01,\n",
       "       2.42514651e+01, 2.59920767e+01, 2.78576180e+01, 2.98570557e+01,\n",
       "       3.20000000e+01, 3.42967508e+01, 3.67583474e+01, 3.93966212e+01,\n",
       "       4.22242531e+01, 4.52548340e+01, 4.85029301e+01, 5.19841534e+01,\n",
       "       5.57152361e+01, 5.97141115e+01, 6.40000000e+01, 6.85935016e+01,\n",
       "       7.35166947e+01, 7.87932425e+01, 8.44485063e+01, 9.05096680e+01,\n",
       "       9.70058603e+01, 1.03968307e+02, 1.11430472e+02, 1.19428223e+02,\n",
       "       1.28000000e+02, 1.37187003e+02, 1.47033389e+02, 1.57586485e+02,\n",
       "       1.68897013e+02, 1.81019336e+02, 1.94011721e+02, 2.07936613e+02,\n",
       "       2.22860944e+02, 2.38856446e+02, 2.56000000e+02, 2.74374006e+02,\n",
       "       2.94066779e+02, 3.15172970e+02, 3.37794025e+02, 3.62038672e+02,\n",
       "       3.88023441e+02, 4.15873227e+02, 4.45721888e+02, 4.77712892e+02,\n",
       "       5.12000000e+02, 5.48748013e+02, 5.88133558e+02, 6.30345940e+02,\n",
       "       6.75588050e+02, 7.24077344e+02, 7.76046882e+02, 8.31746454e+02,\n",
       "       8.91443777e+02, 9.55425783e+02, 1.02400000e+03, 1.09749603e+03,\n",
       "       1.17626712e+03, 1.26069188e+03, 1.35117610e+03, 1.44815469e+03,\n",
       "       1.55209376e+03, 1.66349291e+03, 1.78288755e+03, 1.91085157e+03,\n",
       "       2.04800000e+03, 2.19499205e+03, 2.35253423e+03, 2.52138376e+03,\n",
       "       2.70235220e+03, 2.89630938e+03, 3.10418753e+03, 3.32698582e+03,\n",
       "       3.56577511e+03, 3.82170313e+03, 4.09600000e+03, 4.38998410e+03,\n",
       "       4.70506846e+03, 5.04276752e+03, 5.40470440e+03, 5.79261875e+03,\n",
       "       6.20837506e+03, 6.65397163e+03, 7.13155021e+03, 7.64340627e+03,\n",
       "       8.19200000e+03])"
      ]
     },
     "execution_count": 6,
     "metadata": {},
     "output_type": "execute_result"
    }
   ],
   "source": [
    "allb"
   ]
  },
  {
   "cell_type": "code",
   "execution_count": 7,
   "id": "8c393212",
   "metadata": {},
   "outputs": [
    {
     "data": {
      "text/plain": [
       "201"
      ]
     },
     "execution_count": 7,
     "metadata": {},
     "output_type": "execute_result"
    }
   ],
   "source": [
    "len(allb)"
   ]
  },
  {
   "cell_type": "code",
   "execution_count": 8,
   "id": "f264fa18",
   "metadata": {},
   "outputs": [],
   "source": [
    "brackets = pd.Series(allb)"
   ]
  },
  {
   "cell_type": "code",
   "execution_count": 9,
   "id": "34fa15ed",
   "metadata": {},
   "outputs": [
    {
     "data": {
      "text/plain": [
       "0         0.007812\n",
       "1         0.008373\n",
       "2         0.008974\n",
       "3         0.009618\n",
       "4         0.010309\n",
       "          ...     \n",
       "196    6208.375056\n",
       "197    6653.971631\n",
       "198    7131.550215\n",
       "199    7643.406267\n",
       "200    8192.000000\n",
       "Length: 201, dtype: float64"
      ]
     },
     "execution_count": 9,
     "metadata": {},
     "output_type": "execute_result"
    }
   ],
   "source": [
    "brackets"
   ]
  },
  {
   "cell_type": "code",
   "execution_count": 10,
   "id": "81c0f13d",
   "metadata": {},
   "outputs": [],
   "source": [
    "bracket_df = pd.DataFrame([brackets, brackets.shift(-1)]).T"
   ]
  },
  {
   "cell_type": "code",
   "execution_count": 11,
   "id": "1108086d",
   "metadata": {},
   "outputs": [],
   "source": [
    "bracket_df.columns = ['bracket_start', 'bracket_end']"
   ]
  },
  {
   "cell_type": "code",
   "execution_count": 12,
   "id": "f0d9d5ac",
   "metadata": {},
   "outputs": [],
   "source": [
    "bracket_df.index.name = 'bracket'"
   ]
  },
  {
   "cell_type": "code",
   "execution_count": 13,
   "id": "d570e485",
   "metadata": {},
   "outputs": [],
   "source": [
    "bracket_200 = bracket_df.iloc[:-1].copy()"
   ]
  },
  {
   "cell_type": "code",
   "execution_count": 14,
   "id": "d3f63d30",
   "metadata": {},
   "outputs": [
    {
     "data": {
      "text/html": [
       "<div>\n",
       "<style scoped>\n",
       "    .dataframe tbody tr th:only-of-type {\n",
       "        vertical-align: middle;\n",
       "    }\n",
       "\n",
       "    .dataframe tbody tr th {\n",
       "        vertical-align: top;\n",
       "    }\n",
       "\n",
       "    .dataframe thead th {\n",
       "        text-align: right;\n",
       "    }\n",
       "</style>\n",
       "<table border=\"1\" class=\"dataframe\">\n",
       "  <thead>\n",
       "    <tr style=\"text-align: right;\">\n",
       "      <th></th>\n",
       "      <th>bracket_start</th>\n",
       "      <th>bracket_end</th>\n",
       "    </tr>\n",
       "    <tr>\n",
       "      <th>bracket</th>\n",
       "      <th></th>\n",
       "      <th></th>\n",
       "    </tr>\n",
       "  </thead>\n",
       "  <tbody>\n",
       "    <tr>\n",
       "      <th>0</th>\n",
       "      <td>0.007812</td>\n",
       "      <td>0.008373</td>\n",
       "    </tr>\n",
       "    <tr>\n",
       "      <th>1</th>\n",
       "      <td>0.008373</td>\n",
       "      <td>0.008974</td>\n",
       "    </tr>\n",
       "    <tr>\n",
       "      <th>2</th>\n",
       "      <td>0.008974</td>\n",
       "      <td>0.009618</td>\n",
       "    </tr>\n",
       "    <tr>\n",
       "      <th>3</th>\n",
       "      <td>0.009618</td>\n",
       "      <td>0.010309</td>\n",
       "    </tr>\n",
       "    <tr>\n",
       "      <th>4</th>\n",
       "      <td>0.010309</td>\n",
       "      <td>0.011049</td>\n",
       "    </tr>\n",
       "    <tr>\n",
       "      <th>...</th>\n",
       "      <td>...</td>\n",
       "      <td>...</td>\n",
       "    </tr>\n",
       "    <tr>\n",
       "      <th>195</th>\n",
       "      <td>5792.618751</td>\n",
       "      <td>6208.375056</td>\n",
       "    </tr>\n",
       "    <tr>\n",
       "      <th>196</th>\n",
       "      <td>6208.375056</td>\n",
       "      <td>6653.971631</td>\n",
       "    </tr>\n",
       "    <tr>\n",
       "      <th>197</th>\n",
       "      <td>6653.971631</td>\n",
       "      <td>7131.550215</td>\n",
       "    </tr>\n",
       "    <tr>\n",
       "      <th>198</th>\n",
       "      <td>7131.550215</td>\n",
       "      <td>7643.406267</td>\n",
       "    </tr>\n",
       "    <tr>\n",
       "      <th>199</th>\n",
       "      <td>7643.406267</td>\n",
       "      <td>8192.000000</td>\n",
       "    </tr>\n",
       "  </tbody>\n",
       "</table>\n",
       "<p>200 rows × 2 columns</p>\n",
       "</div>"
      ],
      "text/plain": [
       "         bracket_start  bracket_end\n",
       "bracket                            \n",
       "0             0.007812     0.008373\n",
       "1             0.008373     0.008974\n",
       "2             0.008974     0.009618\n",
       "3             0.009618     0.010309\n",
       "4             0.010309     0.011049\n",
       "...                ...          ...\n",
       "195        5792.618751  6208.375056\n",
       "196        6208.375056  6653.971631\n",
       "197        6653.971631  7131.550215\n",
       "198        7131.550215  7643.406267\n",
       "199        7643.406267  8192.000000\n",
       "\n",
       "[200 rows x 2 columns]"
      ]
     },
     "execution_count": 14,
     "metadata": {},
     "output_type": "execute_result"
    }
   ],
   "source": [
    "bracket_200"
   ]
  },
  {
   "cell_type": "code",
   "execution_count": 15,
   "id": "0a21b41e",
   "metadata": {},
   "outputs": [],
   "source": [
    "bracket_200.index.name = 'income_bracket_200'"
   ]
  },
  {
   "cell_type": "code",
   "execution_count": 16,
   "id": "f2a0eb48",
   "metadata": {},
   "outputs": [],
   "source": [
    "bracket_200.to_csv('../../ddf--entities--income_bracket_200.csv')"
   ]
  },
  {
   "cell_type": "code",
   "execution_count": null,
   "id": "470eabbc",
   "metadata": {},
   "outputs": [],
   "source": []
  },
  {
   "cell_type": "code",
   "execution_count": null,
   "id": "4a555da7",
   "metadata": {},
   "outputs": [],
   "source": []
  },
  {
   "cell_type": "code",
   "execution_count": 19,
   "id": "0ab279d3",
   "metadata": {},
   "outputs": [],
   "source": [
    "btoi = etllib.bracket_number_from_income"
   ]
  },
  {
   "cell_type": "code",
   "execution_count": 23,
   "id": "b8d68e49-b303-4bd5-882c-e64f974cda6a",
   "metadata": {},
   "outputs": [
    {
     "data": {
      "text/plain": [
       "199.6596461027208"
      ]
     },
     "execution_count": 23,
     "metadata": {},
     "output_type": "execute_result"
    }
   ],
   "source": [
    "btoi(8001, integer=False)"
   ]
  },
  {
   "cell_type": "code",
   "execution_count": 25,
   "id": "e013b8f6-82c4-456e-a1a8-5f7d5d4e36bc",
   "metadata": {},
   "outputs": [
    {
     "data": {
      "text/plain": [
       "199"
      ]
     },
     "execution_count": 25,
     "metadata": {},
     "output_type": "execute_result"
    }
   ],
   "source": [
    "btoi(8001)"
   ]
  },
  {
   "cell_type": "code",
   "execution_count": 28,
   "id": "e81fe4c8",
   "metadata": {},
   "outputs": [
    {
     "data": {
      "text/plain": [
       "bracket_start    7643.406267\n",
       "bracket_end      8192.000000\n",
       "Name: 199, dtype: float64"
      ]
     },
     "execution_count": 28,
     "metadata": {},
     "output_type": "execute_result"
    }
   ],
   "source": [
    "bracket_200.loc[btoi(8001)]  # make sure calculation is correct"
   ]
  },
  {
   "cell_type": "code",
   "execution_count": 29,
   "id": "cc2a37b3-a23a-48a3-a813-892dcfdcd33a",
   "metadata": {},
   "outputs": [
    {
     "data": {
      "text/plain": [
       "bracket_start    2.000000\n",
       "bracket_end      2.143547\n",
       "Name: 80, dtype: float64"
      ]
     },
     "execution_count": 29,
     "metadata": {},
     "output_type": "execute_result"
    }
   ],
   "source": [
    "bracket_200.loc[btoi(2)]"
   ]
  },
  {
   "cell_type": "code",
   "execution_count": 31,
   "id": "f62d5efe-048f-4c83-a43d-22ca987be51b",
   "metadata": {},
   "outputs": [
    {
     "data": {
      "text/plain": [
       "bracket_start    1.866066\n",
       "bracket_end      2.000000\n",
       "Name: 79, dtype: float64"
      ]
     },
     "execution_count": 31,
     "metadata": {},
     "output_type": "execute_result"
    }
   ],
   "source": [
    "bracket_200.iloc[btoi(1.9)]"
   ]
  },
  {
   "cell_type": "code",
   "execution_count": 32,
   "id": "625f9a8a-b5ec-408e-b293-fd0a9e0a43ce",
   "metadata": {},
   "outputs": [
    {
     "data": {
      "text/plain": [
       "bracket_start    True\n",
       "bracket_end      True\n",
       "Name: 79, dtype: bool"
      ]
     },
     "execution_count": 32,
     "metadata": {},
     "output_type": "execute_result"
    }
   ],
   "source": [
    "bracket_200.iloc[btoi(1.9)] == bracket_200.loc[btoi(1.9)]"
   ]
  },
  {
   "cell_type": "code",
   "execution_count": null,
   "id": "606da6fb-476f-4719-bcba-2d97beb46a29",
   "metadata": {},
   "outputs": [],
   "source": []
  },
  {
   "cell_type": "code",
   "execution_count": null,
   "id": "03f25399-e430-4123-bc3b-689c6e1bc499",
   "metadata": {},
   "outputs": [],
   "source": []
  },
  {
   "cell_type": "code",
   "execution_count": 37,
   "id": "7622e189",
   "metadata": {},
   "outputs": [],
   "source": [
    "bracket_50 = bracket_df.iloc[::4].copy()"
   ]
  },
  {
   "cell_type": "code",
   "execution_count": 38,
   "id": "96faa418",
   "metadata": {},
   "outputs": [],
   "source": [
    "bracket_50['bracket_end'] = bracket_50['bracket_start'].shift(-1)"
   ]
  },
  {
   "cell_type": "code",
   "execution_count": 40,
   "id": "d131bfb5",
   "metadata": {},
   "outputs": [],
   "source": [
    "bracket_50 = bracket_50.iloc[:-1]"
   ]
  },
  {
   "cell_type": "code",
   "execution_count": 41,
   "id": "89b958ed",
   "metadata": {},
   "outputs": [],
   "source": [
    "bracket_50 = bracket_50.reset_index(drop=True)\n",
    "bracket_50.index.name = 'bracket'"
   ]
  },
  {
   "cell_type": "code",
   "execution_count": 42,
   "id": "6f298218",
   "metadata": {
    "scrolled": true
   },
   "outputs": [
    {
     "data": {
      "text/html": [
       "<div>\n",
       "<style scoped>\n",
       "    .dataframe tbody tr th:only-of-type {\n",
       "        vertical-align: middle;\n",
       "    }\n",
       "\n",
       "    .dataframe tbody tr th {\n",
       "        vertical-align: top;\n",
       "    }\n",
       "\n",
       "    .dataframe thead th {\n",
       "        text-align: right;\n",
       "    }\n",
       "</style>\n",
       "<table border=\"1\" class=\"dataframe\">\n",
       "  <thead>\n",
       "    <tr style=\"text-align: right;\">\n",
       "      <th></th>\n",
       "      <th>bracket_start</th>\n",
       "      <th>bracket_end</th>\n",
       "    </tr>\n",
       "    <tr>\n",
       "      <th>bracket</th>\n",
       "      <th></th>\n",
       "      <th></th>\n",
       "    </tr>\n",
       "  </thead>\n",
       "  <tbody>\n",
       "    <tr>\n",
       "      <th>0</th>\n",
       "      <td>0.007812</td>\n",
       "      <td>0.010309</td>\n",
       "    </tr>\n",
       "    <tr>\n",
       "      <th>1</th>\n",
       "      <td>0.010309</td>\n",
       "      <td>0.013602</td>\n",
       "    </tr>\n",
       "    <tr>\n",
       "      <th>2</th>\n",
       "      <td>0.013602</td>\n",
       "      <td>0.017948</td>\n",
       "    </tr>\n",
       "    <tr>\n",
       "      <th>3</th>\n",
       "      <td>0.017948</td>\n",
       "      <td>0.023683</td>\n",
       "    </tr>\n",
       "    <tr>\n",
       "      <th>4</th>\n",
       "      <td>0.023683</td>\n",
       "      <td>0.031250</td>\n",
       "    </tr>\n",
       "    <tr>\n",
       "      <th>5</th>\n",
       "      <td>0.031250</td>\n",
       "      <td>0.041235</td>\n",
       "    </tr>\n",
       "    <tr>\n",
       "      <th>6</th>\n",
       "      <td>0.041235</td>\n",
       "      <td>0.054409</td>\n",
       "    </tr>\n",
       "    <tr>\n",
       "      <th>7</th>\n",
       "      <td>0.054409</td>\n",
       "      <td>0.071794</td>\n",
       "    </tr>\n",
       "    <tr>\n",
       "      <th>8</th>\n",
       "      <td>0.071794</td>\n",
       "      <td>0.094732</td>\n",
       "    </tr>\n",
       "    <tr>\n",
       "      <th>9</th>\n",
       "      <td>0.094732</td>\n",
       "      <td>0.125000</td>\n",
       "    </tr>\n",
       "    <tr>\n",
       "      <th>10</th>\n",
       "      <td>0.125000</td>\n",
       "      <td>0.164938</td>\n",
       "    </tr>\n",
       "    <tr>\n",
       "      <th>11</th>\n",
       "      <td>0.164938</td>\n",
       "      <td>0.217638</td>\n",
       "    </tr>\n",
       "    <tr>\n",
       "      <th>12</th>\n",
       "      <td>0.217638</td>\n",
       "      <td>0.287175</td>\n",
       "    </tr>\n",
       "    <tr>\n",
       "      <th>13</th>\n",
       "      <td>0.287175</td>\n",
       "      <td>0.378929</td>\n",
       "    </tr>\n",
       "    <tr>\n",
       "      <th>14</th>\n",
       "      <td>0.378929</td>\n",
       "      <td>0.500000</td>\n",
       "    </tr>\n",
       "    <tr>\n",
       "      <th>15</th>\n",
       "      <td>0.500000</td>\n",
       "      <td>0.659754</td>\n",
       "    </tr>\n",
       "    <tr>\n",
       "      <th>16</th>\n",
       "      <td>0.659754</td>\n",
       "      <td>0.870551</td>\n",
       "    </tr>\n",
       "    <tr>\n",
       "      <th>17</th>\n",
       "      <td>0.870551</td>\n",
       "      <td>1.148698</td>\n",
       "    </tr>\n",
       "    <tr>\n",
       "      <th>18</th>\n",
       "      <td>1.148698</td>\n",
       "      <td>1.515717</td>\n",
       "    </tr>\n",
       "    <tr>\n",
       "      <th>19</th>\n",
       "      <td>1.515717</td>\n",
       "      <td>2.000000</td>\n",
       "    </tr>\n",
       "    <tr>\n",
       "      <th>20</th>\n",
       "      <td>2.000000</td>\n",
       "      <td>2.639016</td>\n",
       "    </tr>\n",
       "    <tr>\n",
       "      <th>21</th>\n",
       "      <td>2.639016</td>\n",
       "      <td>3.482202</td>\n",
       "    </tr>\n",
       "    <tr>\n",
       "      <th>22</th>\n",
       "      <td>3.482202</td>\n",
       "      <td>4.594793</td>\n",
       "    </tr>\n",
       "    <tr>\n",
       "      <th>23</th>\n",
       "      <td>4.594793</td>\n",
       "      <td>6.062866</td>\n",
       "    </tr>\n",
       "    <tr>\n",
       "      <th>24</th>\n",
       "      <td>6.062866</td>\n",
       "      <td>8.000000</td>\n",
       "    </tr>\n",
       "    <tr>\n",
       "      <th>25</th>\n",
       "      <td>8.000000</td>\n",
       "      <td>10.556063</td>\n",
       "    </tr>\n",
       "    <tr>\n",
       "      <th>26</th>\n",
       "      <td>10.556063</td>\n",
       "      <td>13.928809</td>\n",
       "    </tr>\n",
       "    <tr>\n",
       "      <th>27</th>\n",
       "      <td>13.928809</td>\n",
       "      <td>18.379174</td>\n",
       "    </tr>\n",
       "    <tr>\n",
       "      <th>28</th>\n",
       "      <td>18.379174</td>\n",
       "      <td>24.251465</td>\n",
       "    </tr>\n",
       "    <tr>\n",
       "      <th>29</th>\n",
       "      <td>24.251465</td>\n",
       "      <td>32.000000</td>\n",
       "    </tr>\n",
       "    <tr>\n",
       "      <th>30</th>\n",
       "      <td>32.000000</td>\n",
       "      <td>42.224253</td>\n",
       "    </tr>\n",
       "    <tr>\n",
       "      <th>31</th>\n",
       "      <td>42.224253</td>\n",
       "      <td>55.715236</td>\n",
       "    </tr>\n",
       "    <tr>\n",
       "      <th>32</th>\n",
       "      <td>55.715236</td>\n",
       "      <td>73.516695</td>\n",
       "    </tr>\n",
       "    <tr>\n",
       "      <th>33</th>\n",
       "      <td>73.516695</td>\n",
       "      <td>97.005860</td>\n",
       "    </tr>\n",
       "    <tr>\n",
       "      <th>34</th>\n",
       "      <td>97.005860</td>\n",
       "      <td>128.000000</td>\n",
       "    </tr>\n",
       "    <tr>\n",
       "      <th>35</th>\n",
       "      <td>128.000000</td>\n",
       "      <td>168.897013</td>\n",
       "    </tr>\n",
       "    <tr>\n",
       "      <th>36</th>\n",
       "      <td>168.897013</td>\n",
       "      <td>222.860944</td>\n",
       "    </tr>\n",
       "    <tr>\n",
       "      <th>37</th>\n",
       "      <td>222.860944</td>\n",
       "      <td>294.066779</td>\n",
       "    </tr>\n",
       "    <tr>\n",
       "      <th>38</th>\n",
       "      <td>294.066779</td>\n",
       "      <td>388.023441</td>\n",
       "    </tr>\n",
       "    <tr>\n",
       "      <th>39</th>\n",
       "      <td>388.023441</td>\n",
       "      <td>512.000000</td>\n",
       "    </tr>\n",
       "    <tr>\n",
       "      <th>40</th>\n",
       "      <td>512.000000</td>\n",
       "      <td>675.588050</td>\n",
       "    </tr>\n",
       "    <tr>\n",
       "      <th>41</th>\n",
       "      <td>675.588050</td>\n",
       "      <td>891.443777</td>\n",
       "    </tr>\n",
       "    <tr>\n",
       "      <th>42</th>\n",
       "      <td>891.443777</td>\n",
       "      <td>1176.267116</td>\n",
       "    </tr>\n",
       "    <tr>\n",
       "      <th>43</th>\n",
       "      <td>1176.267116</td>\n",
       "      <td>1552.093764</td>\n",
       "    </tr>\n",
       "    <tr>\n",
       "      <th>44</th>\n",
       "      <td>1552.093764</td>\n",
       "      <td>2048.000000</td>\n",
       "    </tr>\n",
       "    <tr>\n",
       "      <th>45</th>\n",
       "      <td>2048.000000</td>\n",
       "      <td>2702.352201</td>\n",
       "    </tr>\n",
       "    <tr>\n",
       "      <th>46</th>\n",
       "      <td>2702.352201</td>\n",
       "      <td>3565.775107</td>\n",
       "    </tr>\n",
       "    <tr>\n",
       "      <th>47</th>\n",
       "      <td>3565.775107</td>\n",
       "      <td>4705.068462</td>\n",
       "    </tr>\n",
       "    <tr>\n",
       "      <th>48</th>\n",
       "      <td>4705.068462</td>\n",
       "      <td>6208.375056</td>\n",
       "    </tr>\n",
       "    <tr>\n",
       "      <th>49</th>\n",
       "      <td>6208.375056</td>\n",
       "      <td>8192.000000</td>\n",
       "    </tr>\n",
       "  </tbody>\n",
       "</table>\n",
       "</div>"
      ],
      "text/plain": [
       "         bracket_start  bracket_end\n",
       "bracket                            \n",
       "0             0.007812     0.010309\n",
       "1             0.010309     0.013602\n",
       "2             0.013602     0.017948\n",
       "3             0.017948     0.023683\n",
       "4             0.023683     0.031250\n",
       "5             0.031250     0.041235\n",
       "6             0.041235     0.054409\n",
       "7             0.054409     0.071794\n",
       "8             0.071794     0.094732\n",
       "9             0.094732     0.125000\n",
       "10            0.125000     0.164938\n",
       "11            0.164938     0.217638\n",
       "12            0.217638     0.287175\n",
       "13            0.287175     0.378929\n",
       "14            0.378929     0.500000\n",
       "15            0.500000     0.659754\n",
       "16            0.659754     0.870551\n",
       "17            0.870551     1.148698\n",
       "18            1.148698     1.515717\n",
       "19            1.515717     2.000000\n",
       "20            2.000000     2.639016\n",
       "21            2.639016     3.482202\n",
       "22            3.482202     4.594793\n",
       "23            4.594793     6.062866\n",
       "24            6.062866     8.000000\n",
       "25            8.000000    10.556063\n",
       "26           10.556063    13.928809\n",
       "27           13.928809    18.379174\n",
       "28           18.379174    24.251465\n",
       "29           24.251465    32.000000\n",
       "30           32.000000    42.224253\n",
       "31           42.224253    55.715236\n",
       "32           55.715236    73.516695\n",
       "33           73.516695    97.005860\n",
       "34           97.005860   128.000000\n",
       "35          128.000000   168.897013\n",
       "36          168.897013   222.860944\n",
       "37          222.860944   294.066779\n",
       "38          294.066779   388.023441\n",
       "39          388.023441   512.000000\n",
       "40          512.000000   675.588050\n",
       "41          675.588050   891.443777\n",
       "42          891.443777  1176.267116\n",
       "43         1176.267116  1552.093764\n",
       "44         1552.093764  2048.000000\n",
       "45         2048.000000  2702.352201\n",
       "46         2702.352201  3565.775107\n",
       "47         3565.775107  4705.068462\n",
       "48         4705.068462  6208.375056\n",
       "49         6208.375056  8192.000000"
      ]
     },
     "execution_count": 42,
     "metadata": {},
     "output_type": "execute_result"
    }
   ],
   "source": [
    "bracket_50"
   ]
  },
  {
   "cell_type": "code",
   "execution_count": 43,
   "id": "c685db9e",
   "metadata": {},
   "outputs": [],
   "source": [
    "# TODO: save file to disk."
   ]
  },
  {
   "cell_type": "code",
   "execution_count": null,
   "id": "ae2f5037",
   "metadata": {},
   "outputs": [],
   "source": []
  }
 ],
 "metadata": {
  "kernelspec": {
   "display_name": "Python 3",
   "language": "python",
   "name": "python3"
  },
  "language_info": {
   "codemirror_mode": {
    "name": "ipython",
    "version": 3
   },
   "file_extension": ".py",
   "mimetype": "text/x-python",
   "name": "python",
   "nbconvert_exporter": "python",
   "pygments_lexer": "ipython3",
   "version": "3.9.7"
  }
 },
 "nbformat": 4,
 "nbformat_minor": 5
}
