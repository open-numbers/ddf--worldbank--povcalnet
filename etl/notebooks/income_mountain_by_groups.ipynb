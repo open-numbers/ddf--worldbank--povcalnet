{
 "cells": [
  {
   "cell_type": "code",
   "execution_count": 1,
   "metadata": {
    "collapsed": false
   },
   "outputs": [],
   "source": [
    "import pandas as pd\n",
    "import numpy as np"
   ]
  },
  {
   "cell_type": "markdown",
   "metadata": {
    "collapsed": false
   },
   "source": [
    "# load source files"
   ]
  },
  {
   "cell_type": "code",
   "execution_count": 2,
   "metadata": {
    "collapsed": false
   },
   "outputs": [],
   "source": [
    "data = pd.read_csv('../precomputed/ddf--datapoints--income_mountain_numbers--by--country--year--bracket_200.csv')"
   ]
  },
  {
   "cell_type": "code",
   "execution_count": 3,
   "metadata": {
    "collapsed": false
   },
   "outputs": [
    {
     "data": {
      "text/html": [
       "<div>\n",
       "<style scoped>\n",
       "    .dataframe tbody tr th:only-of-type {\n",
       "        vertical-align: middle;\n",
       "    }\n",
       "\n",
       "    .dataframe tbody tr th {\n",
       "        vertical-align: top;\n",
       "    }\n",
       "\n",
       "    .dataframe thead th {\n",
       "        text-align: right;\n",
       "    }\n",
       "</style>\n",
       "<table border=\"1\" class=\"dataframe\">\n",
       "  <thead>\n",
       "    <tr style=\"text-align: right;\">\n",
       "      <th></th>\n",
       "      <th>country</th>\n",
       "      <th>year</th>\n",
       "      <th>bracket</th>\n",
       "      <th>income_mountain</th>\n",
       "    </tr>\n",
       "  </thead>\n",
       "  <tbody>\n",
       "    <tr>\n",
       "      <th>0</th>\n",
       "      <td>afg</td>\n",
       "      <td>1800</td>\n",
       "      <td>0</td>\n",
       "      <td>8</td>\n",
       "    </tr>\n",
       "    <tr>\n",
       "      <th>1</th>\n",
       "      <td>afg</td>\n",
       "      <td>1800</td>\n",
       "      <td>1</td>\n",
       "      <td>9</td>\n",
       "    </tr>\n",
       "    <tr>\n",
       "      <th>2</th>\n",
       "      <td>afg</td>\n",
       "      <td>1800</td>\n",
       "      <td>2</td>\n",
       "      <td>10</td>\n",
       "    </tr>\n",
       "    <tr>\n",
       "      <th>3</th>\n",
       "      <td>afg</td>\n",
       "      <td>1800</td>\n",
       "      <td>3</td>\n",
       "      <td>11</td>\n",
       "    </tr>\n",
       "    <tr>\n",
       "      <th>4</th>\n",
       "      <td>afg</td>\n",
       "      <td>1800</td>\n",
       "      <td>4</td>\n",
       "      <td>13</td>\n",
       "    </tr>\n",
       "  </tbody>\n",
       "</table>\n",
       "</div>"
      ],
      "text/plain": [
       "  country  year  bracket  income_mountain\n",
       "0     afg  1800        0                8\n",
       "1     afg  1800        1                9\n",
       "2     afg  1800        2               10\n",
       "3     afg  1800        3               11\n",
       "4     afg  1800        4               13"
      ]
     },
     "execution_count": 3,
     "metadata": {},
     "output_type": "execute_result"
    }
   ],
   "source": [
    "data.head()"
   ]
  },
  {
   "cell_type": "code",
   "execution_count": 4,
   "metadata": {
    "collapsed": false
   },
   "outputs": [],
   "source": [
    "# ilevel4 = pd.read_csv('../source/fixtures/ddf--datapoints--ilevels4--by--country--time.csv')\n",
    "# ilevel4_wb = pd.read_csv('../source/fixtures/ddf--datapoints--ilevels4_wb--by--country--time.csv')\n",
    "ilevel4_latest = pd.read_csv('../source/fixtures/wb_groups.csv')"
   ]
  },
  {
   "cell_type": "code",
   "execution_count": 5,
   "metadata": {
    "collapsed": false
   },
   "outputs": [
    {
     "data": {
      "text/html": [
       "<div>\n",
       "<style scoped>\n",
       "    .dataframe tbody tr th:only-of-type {\n",
       "        vertical-align: middle;\n",
       "    }\n",
       "\n",
       "    .dataframe tbody tr th {\n",
       "        vertical-align: top;\n",
       "    }\n",
       "\n",
       "    .dataframe thead th {\n",
       "        text-align: right;\n",
       "    }\n",
       "</style>\n",
       "<table border=\"1\" class=\"dataframe\">\n",
       "  <thead>\n",
       "    <tr style=\"text-align: right;\">\n",
       "      <th></th>\n",
       "      <th>country</th>\n",
       "      <th>name</th>\n",
       "      <th>time</th>\n",
       "      <th>Income levels (GM)</th>\n",
       "      <th>4 income groups (WB)</th>\n",
       "    </tr>\n",
       "  </thead>\n",
       "  <tbody>\n",
       "    <tr>\n",
       "      <th>0</th>\n",
       "      <td>afg</td>\n",
       "      <td>Afghanistan</td>\n",
       "      <td>1800</td>\n",
       "      <td>Level 1</td>\n",
       "      <td>Low income</td>\n",
       "    </tr>\n",
       "    <tr>\n",
       "      <th>1</th>\n",
       "      <td>afg</td>\n",
       "      <td>Afghanistan</td>\n",
       "      <td>1801</td>\n",
       "      <td>Level 1</td>\n",
       "      <td>Low income</td>\n",
       "    </tr>\n",
       "    <tr>\n",
       "      <th>2</th>\n",
       "      <td>afg</td>\n",
       "      <td>Afghanistan</td>\n",
       "      <td>1802</td>\n",
       "      <td>Level 1</td>\n",
       "      <td>Low income</td>\n",
       "    </tr>\n",
       "    <tr>\n",
       "      <th>3</th>\n",
       "      <td>afg</td>\n",
       "      <td>Afghanistan</td>\n",
       "      <td>1803</td>\n",
       "      <td>Level 1</td>\n",
       "      <td>Low income</td>\n",
       "    </tr>\n",
       "    <tr>\n",
       "      <th>4</th>\n",
       "      <td>afg</td>\n",
       "      <td>Afghanistan</td>\n",
       "      <td>1804</td>\n",
       "      <td>Level 1</td>\n",
       "      <td>Low income</td>\n",
       "    </tr>\n",
       "    <tr>\n",
       "      <th>...</th>\n",
       "      <td>...</td>\n",
       "      <td>...</td>\n",
       "      <td>...</td>\n",
       "      <td>...</td>\n",
       "      <td>...</td>\n",
       "    </tr>\n",
       "    <tr>\n",
       "      <th>48940</th>\n",
       "      <td>zwe</td>\n",
       "      <td>Zimbabwe</td>\n",
       "      <td>2046</td>\n",
       "      <td>Level 2</td>\n",
       "      <td>Lower middle income</td>\n",
       "    </tr>\n",
       "    <tr>\n",
       "      <th>48941</th>\n",
       "      <td>zwe</td>\n",
       "      <td>Zimbabwe</td>\n",
       "      <td>2047</td>\n",
       "      <td>Level 2</td>\n",
       "      <td>Lower middle income</td>\n",
       "    </tr>\n",
       "    <tr>\n",
       "      <th>48942</th>\n",
       "      <td>zwe</td>\n",
       "      <td>Zimbabwe</td>\n",
       "      <td>2048</td>\n",
       "      <td>Level 2</td>\n",
       "      <td>Lower middle income</td>\n",
       "    </tr>\n",
       "    <tr>\n",
       "      <th>48943</th>\n",
       "      <td>zwe</td>\n",
       "      <td>Zimbabwe</td>\n",
       "      <td>2049</td>\n",
       "      <td>Level 2</td>\n",
       "      <td>Lower middle income</td>\n",
       "    </tr>\n",
       "    <tr>\n",
       "      <th>48944</th>\n",
       "      <td>zwe</td>\n",
       "      <td>Zimbabwe</td>\n",
       "      <td>2050</td>\n",
       "      <td>Level 2</td>\n",
       "      <td>Lower middle income</td>\n",
       "    </tr>\n",
       "  </tbody>\n",
       "</table>\n",
       "<p>48945 rows × 5 columns</p>\n",
       "</div>"
      ],
      "text/plain": [
       "      country         name  time Income levels (GM) 4 income groups (WB)\n",
       "0         afg  Afghanistan  1800            Level 1           Low income\n",
       "1         afg  Afghanistan  1801            Level 1           Low income\n",
       "2         afg  Afghanistan  1802            Level 1           Low income\n",
       "3         afg  Afghanistan  1803            Level 1           Low income\n",
       "4         afg  Afghanistan  1804            Level 1           Low income\n",
       "...       ...          ...   ...                ...                  ...\n",
       "48940     zwe     Zimbabwe  2046            Level 2  Lower middle income\n",
       "48941     zwe     Zimbabwe  2047            Level 2  Lower middle income\n",
       "48942     zwe     Zimbabwe  2048            Level 2  Lower middle income\n",
       "48943     zwe     Zimbabwe  2049            Level 2  Lower middle income\n",
       "48944     zwe     Zimbabwe  2050            Level 2  Lower middle income\n",
       "\n",
       "[48945 rows x 5 columns]"
      ]
     },
     "execution_count": 5,
     "metadata": {},
     "output_type": "execute_result"
    }
   ],
   "source": [
    "ilevel4_latest"
   ]
  },
  {
   "cell_type": "code",
   "execution_count": 6,
   "metadata": {
    "collapsed": false
   },
   "outputs": [],
   "source": [
    "m1 = { \"Level 1\": 'low_income', 'Level 2': 'lower_middle_income', 'Level 3': 'upper_middle_income', 'Level 4': 'high_income'}\n",
    "m2 = {'Low income': 'lic', 'Lower middle income': 'lmic', 'Upper middle income': 'umic', 'High income': 'hic'}"
   ]
  },
  {
   "cell_type": "code",
   "execution_count": 7,
   "metadata": {
    "collapsed": false
   },
   "outputs": [],
   "source": [
    "ilevel4_latest['Income levels (GM)'] = ilevel4_latest['Income levels (GM)'].map(m1)\n",
    "ilevel4_latest['4 income groups (WB)'] = ilevel4_latest['4 income groups (WB)'].map(m2)"
   ]
  },
  {
   "cell_type": "code",
   "execution_count": 8,
   "metadata": {
    "collapsed": false
   },
   "outputs": [
    {
     "data": {
      "text/html": [
       "<div>\n",
       "<style scoped>\n",
       "    .dataframe tbody tr th:only-of-type {\n",
       "        vertical-align: middle;\n",
       "    }\n",
       "\n",
       "    .dataframe tbody tr th {\n",
       "        vertical-align: top;\n",
       "    }\n",
       "\n",
       "    .dataframe thead th {\n",
       "        text-align: right;\n",
       "    }\n",
       "</style>\n",
       "<table border=\"1\" class=\"dataframe\">\n",
       "  <thead>\n",
       "    <tr style=\"text-align: right;\">\n",
       "      <th></th>\n",
       "      <th>country</th>\n",
       "      <th>name</th>\n",
       "      <th>time</th>\n",
       "      <th>Income levels (GM)</th>\n",
       "      <th>4 income groups (WB)</th>\n",
       "    </tr>\n",
       "  </thead>\n",
       "  <tbody>\n",
       "    <tr>\n",
       "      <th>0</th>\n",
       "      <td>afg</td>\n",
       "      <td>Afghanistan</td>\n",
       "      <td>1800</td>\n",
       "      <td>low_income</td>\n",
       "      <td>lic</td>\n",
       "    </tr>\n",
       "    <tr>\n",
       "      <th>1</th>\n",
       "      <td>afg</td>\n",
       "      <td>Afghanistan</td>\n",
       "      <td>1801</td>\n",
       "      <td>low_income</td>\n",
       "      <td>lic</td>\n",
       "    </tr>\n",
       "    <tr>\n",
       "      <th>2</th>\n",
       "      <td>afg</td>\n",
       "      <td>Afghanistan</td>\n",
       "      <td>1802</td>\n",
       "      <td>low_income</td>\n",
       "      <td>lic</td>\n",
       "    </tr>\n",
       "    <tr>\n",
       "      <th>3</th>\n",
       "      <td>afg</td>\n",
       "      <td>Afghanistan</td>\n",
       "      <td>1803</td>\n",
       "      <td>low_income</td>\n",
       "      <td>lic</td>\n",
       "    </tr>\n",
       "    <tr>\n",
       "      <th>4</th>\n",
       "      <td>afg</td>\n",
       "      <td>Afghanistan</td>\n",
       "      <td>1804</td>\n",
       "      <td>low_income</td>\n",
       "      <td>lic</td>\n",
       "    </tr>\n",
       "    <tr>\n",
       "      <th>...</th>\n",
       "      <td>...</td>\n",
       "      <td>...</td>\n",
       "      <td>...</td>\n",
       "      <td>...</td>\n",
       "      <td>...</td>\n",
       "    </tr>\n",
       "    <tr>\n",
       "      <th>48940</th>\n",
       "      <td>zwe</td>\n",
       "      <td>Zimbabwe</td>\n",
       "      <td>2046</td>\n",
       "      <td>lower_middle_income</td>\n",
       "      <td>lmic</td>\n",
       "    </tr>\n",
       "    <tr>\n",
       "      <th>48941</th>\n",
       "      <td>zwe</td>\n",
       "      <td>Zimbabwe</td>\n",
       "      <td>2047</td>\n",
       "      <td>lower_middle_income</td>\n",
       "      <td>lmic</td>\n",
       "    </tr>\n",
       "    <tr>\n",
       "      <th>48942</th>\n",
       "      <td>zwe</td>\n",
       "      <td>Zimbabwe</td>\n",
       "      <td>2048</td>\n",
       "      <td>lower_middle_income</td>\n",
       "      <td>lmic</td>\n",
       "    </tr>\n",
       "    <tr>\n",
       "      <th>48943</th>\n",
       "      <td>zwe</td>\n",
       "      <td>Zimbabwe</td>\n",
       "      <td>2049</td>\n",
       "      <td>lower_middle_income</td>\n",
       "      <td>lmic</td>\n",
       "    </tr>\n",
       "    <tr>\n",
       "      <th>48944</th>\n",
       "      <td>zwe</td>\n",
       "      <td>Zimbabwe</td>\n",
       "      <td>2050</td>\n",
       "      <td>lower_middle_income</td>\n",
       "      <td>lmic</td>\n",
       "    </tr>\n",
       "  </tbody>\n",
       "</table>\n",
       "<p>48945 rows × 5 columns</p>\n",
       "</div>"
      ],
      "text/plain": [
       "      country         name  time   Income levels (GM) 4 income groups (WB)\n",
       "0         afg  Afghanistan  1800           low_income                  lic\n",
       "1         afg  Afghanistan  1801           low_income                  lic\n",
       "2         afg  Afghanistan  1802           low_income                  lic\n",
       "3         afg  Afghanistan  1803           low_income                  lic\n",
       "4         afg  Afghanistan  1804           low_income                  lic\n",
       "...       ...          ...   ...                  ...                  ...\n",
       "48940     zwe     Zimbabwe  2046  lower_middle_income                 lmic\n",
       "48941     zwe     Zimbabwe  2047  lower_middle_income                 lmic\n",
       "48942     zwe     Zimbabwe  2048  lower_middle_income                 lmic\n",
       "48943     zwe     Zimbabwe  2049  lower_middle_income                 lmic\n",
       "48944     zwe     Zimbabwe  2050  lower_middle_income                 lmic\n",
       "\n",
       "[48945 rows x 5 columns]"
      ]
     },
     "execution_count": 8,
     "metadata": {},
     "output_type": "execute_result"
    }
   ],
   "source": [
    "ilevel4_latest"
   ]
  },
  {
   "cell_type": "code",
   "execution_count": 9,
   "metadata": {
    "collapsed": false
   },
   "outputs": [],
   "source": [
    "levels = ilevel4_latest[['country', 'time', 'Income levels (GM)', '4 income groups (WB)']].copy()\n",
    "levels.columns = ['country', 'time', 'gm', 'wb']"
   ]
  },
  {
   "cell_type": "code",
   "execution_count": 10,
   "metadata": {
    "collapsed": false
   },
   "outputs": [],
   "source": [
    "levels = levels.set_index(['country', 'time'])"
   ]
  },
  {
   "cell_type": "code",
   "execution_count": null,
   "metadata": {
    "collapsed": false
   },
   "outputs": [],
   "source": []
  },
  {
   "cell_type": "markdown",
   "metadata": {
    "collapsed": false
   },
   "source": [
    "# helper functions"
   ]
  },
  {
   "cell_type": "code",
   "execution_count": 11,
   "metadata": {
    "collapsed": false
   },
   "outputs": [],
   "source": [
    "def resample(ser):\n",
    "    res = pd.Series([x.sum() for x in np.split(ser.values, 50)])\n",
    "    res.index.name = 'bracket'\n",
    "    return res"
   ]
  },
  {
   "cell_type": "code",
   "execution_count": 12,
   "metadata": {
    "collapsed": false
   },
   "outputs": [],
   "source": [
    "def join_cols(ser):\n",
    "    return \", \".join(ser.astype(str).values)"
   ]
  },
  {
   "cell_type": "markdown",
   "metadata": {
    "collapsed": false
   },
   "source": [
    "# Gapminder grorups"
   ]
  },
  {
   "cell_type": "code",
   "execution_count": 13,
   "metadata": {
    "collapsed": false
   },
   "outputs": [],
   "source": [
    "df = data.set_index(['country', 'year'])"
   ]
  },
  {
   "cell_type": "code",
   "execution_count": 14,
   "metadata": {
    "collapsed": false
   },
   "outputs": [],
   "source": [
    "df.index.names = ['country', 'time']"
   ]
  },
  {
   "cell_type": "code",
   "execution_count": 15,
   "metadata": {
    "collapsed": false
   },
   "outputs": [],
   "source": [
    "df['income_groups'] = levels['gm'].loc[df.index]"
   ]
  },
  {
   "cell_type": "code",
   "execution_count": 16,
   "metadata": {
    "collapsed": false
   },
   "outputs": [],
   "source": [
    "df2 = df.reset_index().set_index(['income_groups', 'time']).drop(columns=['country'])"
   ]
  },
  {
   "cell_type": "code",
   "execution_count": 17,
   "metadata": {
    "collapsed": false
   },
   "outputs": [],
   "source": [
    "df3 = df2.groupby(['income_groups', 'time']).apply(resample)"
   ]
  },
  {
   "cell_type": "code",
   "execution_count": 18,
   "metadata": {
    "collapsed": false
   },
   "outputs": [
    {
     "data": {
      "text/html": [
       "<div>\n",
       "<style scoped>\n",
       "    .dataframe tbody tr th:only-of-type {\n",
       "        vertical-align: middle;\n",
       "    }\n",
       "\n",
       "    .dataframe tbody tr th {\n",
       "        vertical-align: top;\n",
       "    }\n",
       "\n",
       "    .dataframe thead th {\n",
       "        text-align: right;\n",
       "    }\n",
       "</style>\n",
       "<table border=\"1\" class=\"dataframe\">\n",
       "  <thead>\n",
       "    <tr style=\"text-align: right;\">\n",
       "      <th></th>\n",
       "      <th>bracket</th>\n",
       "      <th>0</th>\n",
       "      <th>1</th>\n",
       "      <th>2</th>\n",
       "      <th>3</th>\n",
       "      <th>4</th>\n",
       "      <th>5</th>\n",
       "      <th>6</th>\n",
       "      <th>7</th>\n",
       "      <th>8</th>\n",
       "      <th>9</th>\n",
       "      <th>...</th>\n",
       "      <th>40</th>\n",
       "      <th>41</th>\n",
       "      <th>42</th>\n",
       "      <th>43</th>\n",
       "      <th>44</th>\n",
       "      <th>45</th>\n",
       "      <th>46</th>\n",
       "      <th>47</th>\n",
       "      <th>48</th>\n",
       "      <th>49</th>\n",
       "    </tr>\n",
       "    <tr>\n",
       "      <th>income_groups</th>\n",
       "      <th>time</th>\n",
       "      <th></th>\n",
       "      <th></th>\n",
       "      <th></th>\n",
       "      <th></th>\n",
       "      <th></th>\n",
       "      <th></th>\n",
       "      <th></th>\n",
       "      <th></th>\n",
       "      <th></th>\n",
       "      <th></th>\n",
       "      <th></th>\n",
       "      <th></th>\n",
       "      <th></th>\n",
       "      <th></th>\n",
       "      <th></th>\n",
       "      <th></th>\n",
       "      <th></th>\n",
       "      <th></th>\n",
       "      <th></th>\n",
       "      <th></th>\n",
       "      <th></th>\n",
       "    </tr>\n",
       "  </thead>\n",
       "  <tbody>\n",
       "    <tr>\n",
       "      <th rowspan=\"5\" valign=\"top\">high_income</th>\n",
       "      <th>1944</th>\n",
       "      <td>6</td>\n",
       "      <td>22</td>\n",
       "      <td>38</td>\n",
       "      <td>54</td>\n",
       "      <td>70</td>\n",
       "      <td>86</td>\n",
       "      <td>102</td>\n",
       "      <td>118</td>\n",
       "      <td>134</td>\n",
       "      <td>150</td>\n",
       "      <td>...</td>\n",
       "      <td>656</td>\n",
       "      <td>667</td>\n",
       "      <td>681</td>\n",
       "      <td>694</td>\n",
       "      <td>710</td>\n",
       "      <td>726</td>\n",
       "      <td>742</td>\n",
       "      <td>758</td>\n",
       "      <td>774</td>\n",
       "      <td>790</td>\n",
       "    </tr>\n",
       "    <tr>\n",
       "      <th>1945</th>\n",
       "      <td>6</td>\n",
       "      <td>22</td>\n",
       "      <td>38</td>\n",
       "      <td>54</td>\n",
       "      <td>70</td>\n",
       "      <td>86</td>\n",
       "      <td>102</td>\n",
       "      <td>118</td>\n",
       "      <td>134</td>\n",
       "      <td>150</td>\n",
       "      <td>...</td>\n",
       "      <td>662</td>\n",
       "      <td>670</td>\n",
       "      <td>682</td>\n",
       "      <td>696</td>\n",
       "      <td>710</td>\n",
       "      <td>726</td>\n",
       "      <td>742</td>\n",
       "      <td>758</td>\n",
       "      <td>774</td>\n",
       "      <td>790</td>\n",
       "    </tr>\n",
       "    <tr>\n",
       "      <th>1946</th>\n",
       "      <td>6</td>\n",
       "      <td>22</td>\n",
       "      <td>38</td>\n",
       "      <td>54</td>\n",
       "      <td>70</td>\n",
       "      <td>86</td>\n",
       "      <td>102</td>\n",
       "      <td>118</td>\n",
       "      <td>134</td>\n",
       "      <td>150</td>\n",
       "      <td>...</td>\n",
       "      <td>666</td>\n",
       "      <td>672</td>\n",
       "      <td>684</td>\n",
       "      <td>698</td>\n",
       "      <td>711</td>\n",
       "      <td>726</td>\n",
       "      <td>742</td>\n",
       "      <td>758</td>\n",
       "      <td>774</td>\n",
       "      <td>790</td>\n",
       "    </tr>\n",
       "    <tr>\n",
       "      <th>1947</th>\n",
       "      <td>28</td>\n",
       "      <td>92</td>\n",
       "      <td>156</td>\n",
       "      <td>220</td>\n",
       "      <td>284</td>\n",
       "      <td>348</td>\n",
       "      <td>412</td>\n",
       "      <td>476</td>\n",
       "      <td>540</td>\n",
       "      <td>605</td>\n",
       "      <td>...</td>\n",
       "      <td>15018</td>\n",
       "      <td>8113</td>\n",
       "      <td>3402</td>\n",
       "      <td>1812</td>\n",
       "      <td>1403</td>\n",
       "      <td>1348</td>\n",
       "      <td>1383</td>\n",
       "      <td>1439</td>\n",
       "      <td>1500</td>\n",
       "      <td>1564</td>\n",
       "    </tr>\n",
       "    <tr>\n",
       "      <th>1948</th>\n",
       "      <td>28</td>\n",
       "      <td>92</td>\n",
       "      <td>156</td>\n",
       "      <td>220</td>\n",
       "      <td>284</td>\n",
       "      <td>348</td>\n",
       "      <td>412</td>\n",
       "      <td>476</td>\n",
       "      <td>540</td>\n",
       "      <td>607</td>\n",
       "      <td>...</td>\n",
       "      <td>16301</td>\n",
       "      <td>10062</td>\n",
       "      <td>4242</td>\n",
       "      <td>2067</td>\n",
       "      <td>1461</td>\n",
       "      <td>1359</td>\n",
       "      <td>1385</td>\n",
       "      <td>1440</td>\n",
       "      <td>1500</td>\n",
       "      <td>1564</td>\n",
       "    </tr>\n",
       "    <tr>\n",
       "      <th>...</th>\n",
       "      <th>...</th>\n",
       "      <td>...</td>\n",
       "      <td>...</td>\n",
       "      <td>...</td>\n",
       "      <td>...</td>\n",
       "      <td>...</td>\n",
       "      <td>...</td>\n",
       "      <td>...</td>\n",
       "      <td>...</td>\n",
       "      <td>...</td>\n",
       "      <td>...</td>\n",
       "      <td>...</td>\n",
       "      <td>...</td>\n",
       "      <td>...</td>\n",
       "      <td>...</td>\n",
       "      <td>...</td>\n",
       "      <td>...</td>\n",
       "      <td>...</td>\n",
       "      <td>...</td>\n",
       "      <td>...</td>\n",
       "      <td>...</td>\n",
       "      <td>...</td>\n",
       "    </tr>\n",
       "    <tr>\n",
       "      <th rowspan=\"5\" valign=\"top\">upper_middle_income</th>\n",
       "      <th>2046</th>\n",
       "      <td>70095243</td>\n",
       "      <td>11120513</td>\n",
       "      <td>191555568</td>\n",
       "      <td>594813</td>\n",
       "      <td>21534802</td>\n",
       "      <td>223474887</td>\n",
       "      <td>43226988</td>\n",
       "      <td>5216524</td>\n",
       "      <td>10395469</td>\n",
       "      <td>1382448</td>\n",
       "      <td>...</td>\n",
       "      <td>6978251</td>\n",
       "      <td>778107</td>\n",
       "      <td>1567202</td>\n",
       "      <td>4866578</td>\n",
       "      <td>8960234</td>\n",
       "      <td>42110494</td>\n",
       "      <td>213186</td>\n",
       "      <td>109094689</td>\n",
       "      <td>285829</td>\n",
       "      <td>74050631</td>\n",
       "    </tr>\n",
       "    <tr>\n",
       "      <th>2047</th>\n",
       "      <td>71896427</td>\n",
       "      <td>11116029</td>\n",
       "      <td>191894243</td>\n",
       "      <td>599175</td>\n",
       "      <td>20992654</td>\n",
       "      <td>224048104</td>\n",
       "      <td>44071568</td>\n",
       "      <td>5306551</td>\n",
       "      <td>10318712</td>\n",
       "      <td>1403201</td>\n",
       "      <td>...</td>\n",
       "      <td>6976487</td>\n",
       "      <td>780684</td>\n",
       "      <td>1584715</td>\n",
       "      <td>4883044</td>\n",
       "      <td>8987480</td>\n",
       "      <td>42324200</td>\n",
       "      <td>213342</td>\n",
       "      <td>109254634</td>\n",
       "      <td>288118</td>\n",
       "      <td>74445203</td>\n",
       "    </tr>\n",
       "    <tr>\n",
       "      <th>2048</th>\n",
       "      <td>73720965</td>\n",
       "      <td>11108241</td>\n",
       "      <td>192177843</td>\n",
       "      <td>583923</td>\n",
       "      <td>16034043</td>\n",
       "      <td>229925595</td>\n",
       "      <td>48473033</td>\n",
       "      <td>1560559</td>\n",
       "      <td>10456861</td>\n",
       "      <td>354663</td>\n",
       "      <td>...</td>\n",
       "      <td>7071490</td>\n",
       "      <td>1827046</td>\n",
       "      <td>525906</td>\n",
       "      <td>13439324</td>\n",
       "      <td>372753</td>\n",
       "      <td>42593662</td>\n",
       "      <td>141120</td>\n",
       "      <td>109399884</td>\n",
       "      <td>286453</td>\n",
       "      <td>74824616</td>\n",
       "    </tr>\n",
       "    <tr>\n",
       "      <th>2049</th>\n",
       "      <td>75568845</td>\n",
       "      <td>11097693</td>\n",
       "      <td>192409645</td>\n",
       "      <td>587054</td>\n",
       "      <td>15752350</td>\n",
       "      <td>50337036</td>\n",
       "      <td>697384</td>\n",
       "      <td>10252475</td>\n",
       "      <td>1308439</td>\n",
       "      <td>90971</td>\n",
       "      <td>...</td>\n",
       "      <td>699100</td>\n",
       "      <td>1706199</td>\n",
       "      <td>153359</td>\n",
       "      <td>13781867</td>\n",
       "      <td>35741</td>\n",
       "      <td>42788240</td>\n",
       "      <td>129445</td>\n",
       "      <td>109522455</td>\n",
       "      <td>285140</td>\n",
       "      <td>75187324</td>\n",
       "    </tr>\n",
       "    <tr>\n",
       "      <th>2050</th>\n",
       "      <td>77438821</td>\n",
       "      <td>11084480</td>\n",
       "      <td>192586091</td>\n",
       "      <td>590894</td>\n",
       "      <td>15858366</td>\n",
       "      <td>51282346</td>\n",
       "      <td>699393</td>\n",
       "      <td>10177923</td>\n",
       "      <td>1318178</td>\n",
       "      <td>90167</td>\n",
       "      <td>...</td>\n",
       "      <td>699069</td>\n",
       "      <td>1724072</td>\n",
       "      <td>154014</td>\n",
       "      <td>13816331</td>\n",
       "      <td>35790</td>\n",
       "      <td>42962309</td>\n",
       "      <td>128962</td>\n",
       "      <td>109624802</td>\n",
       "      <td>287261</td>\n",
       "      <td>75537159</td>\n",
       "    </tr>\n",
       "  </tbody>\n",
       "</table>\n",
       "<p>774 rows × 50 columns</p>\n",
       "</div>"
      ],
      "text/plain": [
       "bracket                         0         1          2       3         4   \\\n",
       "income_groups       time                                                    \n",
       "high_income         1944         6        22         38      54        70   \n",
       "                    1945         6        22         38      54        70   \n",
       "                    1946         6        22         38      54        70   \n",
       "                    1947        28        92        156     220       284   \n",
       "                    1948        28        92        156     220       284   \n",
       "...                            ...       ...        ...     ...       ...   \n",
       "upper_middle_income 2046  70095243  11120513  191555568  594813  21534802   \n",
       "                    2047  71896427  11116029  191894243  599175  20992654   \n",
       "                    2048  73720965  11108241  192177843  583923  16034043   \n",
       "                    2049  75568845  11097693  192409645  587054  15752350   \n",
       "                    2050  77438821  11084480  192586091  590894  15858366   \n",
       "\n",
       "bracket                          5         6         7         8        9   \\\n",
       "income_groups       time                                                     \n",
       "high_income         1944         86       102       118       134      150   \n",
       "                    1945         86       102       118       134      150   \n",
       "                    1946         86       102       118       134      150   \n",
       "                    1947        348       412       476       540      605   \n",
       "                    1948        348       412       476       540      607   \n",
       "...                             ...       ...       ...       ...      ...   \n",
       "upper_middle_income 2046  223474887  43226988   5216524  10395469  1382448   \n",
       "                    2047  224048104  44071568   5306551  10318712  1403201   \n",
       "                    2048  229925595  48473033   1560559  10456861   354663   \n",
       "                    2049   50337036    697384  10252475   1308439    90971   \n",
       "                    2050   51282346    699393  10177923   1318178    90167   \n",
       "\n",
       "bracket                   ...       40       41       42        43       44  \\\n",
       "income_groups       time  ...                                                 \n",
       "high_income         1944  ...      656      667      681       694      710   \n",
       "                    1945  ...      662      670      682       696      710   \n",
       "                    1946  ...      666      672      684       698      711   \n",
       "                    1947  ...    15018     8113     3402      1812     1403   \n",
       "                    1948  ...    16301    10062     4242      2067     1461   \n",
       "...                       ...      ...      ...      ...       ...      ...   \n",
       "upper_middle_income 2046  ...  6978251   778107  1567202   4866578  8960234   \n",
       "                    2047  ...  6976487   780684  1584715   4883044  8987480   \n",
       "                    2048  ...  7071490  1827046   525906  13439324   372753   \n",
       "                    2049  ...   699100  1706199   153359  13781867    35741   \n",
       "                    2050  ...   699069  1724072   154014  13816331    35790   \n",
       "\n",
       "bracket                         45      46         47      48        49  \n",
       "income_groups       time                                                 \n",
       "high_income         1944       726     742        758     774       790  \n",
       "                    1945       726     742        758     774       790  \n",
       "                    1946       726     742        758     774       790  \n",
       "                    1947      1348    1383       1439    1500      1564  \n",
       "                    1948      1359    1385       1440    1500      1564  \n",
       "...                            ...     ...        ...     ...       ...  \n",
       "upper_middle_income 2046  42110494  213186  109094689  285829  74050631  \n",
       "                    2047  42324200  213342  109254634  288118  74445203  \n",
       "                    2048  42593662  141120  109399884  286453  74824616  \n",
       "                    2049  42788240  129445  109522455  285140  75187324  \n",
       "                    2050  42962309  128962  109624802  287261  75537159  \n",
       "\n",
       "[774 rows x 50 columns]"
      ]
     },
     "execution_count": 18,
     "metadata": {},
     "output_type": "execute_result"
    }
   ],
   "source": [
    "df3"
   ]
  },
  {
   "cell_type": "code",
   "execution_count": 19,
   "metadata": {
    "collapsed": false
   },
   "outputs": [
    {
     "data": {
      "text/plain": [
       "income_groups        time\n",
       "high_income          1944    6, 22, 38, 54, 70, 86, 102, 118, 134, 150, 166...\n",
       "                     1945    6, 22, 38, 54, 70, 86, 102, 118, 134, 150, 166...\n",
       "                     1946    6, 22, 38, 54, 70, 86, 102, 118, 134, 150, 166...\n",
       "                     1947    28, 92, 156, 220, 284, 348, 412, 476, 540, 605...\n",
       "                     1948    28, 92, 156, 220, 284, 348, 412, 476, 540, 607...\n",
       "                                                   ...                        \n",
       "upper_middle_income  2046    70095243, 11120513, 191555568, 594813, 2153480...\n",
       "                     2047    71896427, 11116029, 191894243, 599175, 2099265...\n",
       "                     2048    73720965, 11108241, 192177843, 583923, 1603404...\n",
       "                     2049    75568845, 11097693, 192409645, 587054, 1575235...\n",
       "                     2050    77438821, 11084480, 192586091, 590894, 1585836...\n",
       "Length: 774, dtype: object"
      ]
     },
     "execution_count": 19,
     "metadata": {},
     "output_type": "execute_result"
    }
   ],
   "source": [
    "df3.apply(join_cols,  axis=1)"
   ]
  },
  {
   "cell_type": "code",
   "execution_count": 21,
   "metadata": {
    "collapsed": false
   },
   "outputs": [],
   "source": [
    "df4 = df3.apply(join_cols, axis=1)"
   ]
  },
  {
   "cell_type": "code",
   "execution_count": 22,
   "metadata": {
    "collapsed": false
   },
   "outputs": [
    {
     "data": {
      "text/plain": [
       "income_groups        time\n",
       "high_income          1944    6, 22, 38, 54, 70, 86, 102, 118, 134, 150, 166...\n",
       "                     1945    6, 22, 38, 54, 70, 86, 102, 118, 134, 150, 166...\n",
       "                     1946    6, 22, 38, 54, 70, 86, 102, 118, 134, 150, 166...\n",
       "                     1947    28, 92, 156, 220, 284, 348, 412, 476, 540, 605...\n",
       "                     1948    28, 92, 156, 220, 284, 348, 412, 476, 540, 607...\n",
       "                                                   ...                        \n",
       "upper_middle_income  2046    70095243, 11120513, 191555568, 594813, 2153480...\n",
       "                     2047    71896427, 11116029, 191894243, 599175, 2099265...\n",
       "                     2048    73720965, 11108241, 192177843, 583923, 1603404...\n",
       "                     2049    75568845, 11097693, 192409645, 587054, 1575235...\n",
       "                     2050    77438821, 11084480, 192586091, 590894, 1585836...\n",
       "Length: 774, dtype: object"
      ]
     },
     "execution_count": 22,
     "metadata": {},
     "output_type": "execute_result"
    }
   ],
   "source": [
    "df4"
   ]
  },
  {
   "cell_type": "code",
   "execution_count": 23,
   "metadata": {
    "collapsed": false
   },
   "outputs": [],
   "source": [
    "# df4.to_csv('../../income_mountain/ddf--datapoints--income_mountain_50bracket_shape_for_log--by--income_groups--time.csv')"
   ]
  },
  {
   "cell_type": "code",
   "execution_count": 42,
   "metadata": {
    "collapsed": false
   },
   "outputs": [],
   "source": [
    "def calculate_group_ts(data, group_name, group_ser):\n",
    "    \"\"\"use this function when the input for groups is a time serise\"\"\"\n",
    "    df = data.set_index(['country', 'year'])\n",
    "    df.index.names = ['country', 'time']  # fixme.. just make data use country/time as header\n",
    "    df[group_name] = group_ser.loc[df.index]\n",
    "    df2 = df.reset_index().set_index([group_name, 'time']).drop(columns=['country'])\n",
    "    df3 = df2.groupby([group_name, 'time']).apply(resample)\n",
    "    # df4 = df3.apply(join_cols, axis=1)\n",
    "    # df4.name = 'income_mountain_50bracket_shape'\n",
    "    return df3"
   ]
  },
  {
   "cell_type": "code",
   "execution_count": 51,
   "metadata": {
    "collapsed": false
   },
   "outputs": [],
   "source": [
    "group_name = 'income_groups'\n",
    "ts = levels['gm']\n",
    "res = calculate_group_ts(data, group_name, ts)\n",
    "res1_mh = res.stack().groupby(group_name).max()\n",
    "res1 = res.apply(join_cols, axis=1)\n",
    "res1.name = 'income_mountain_50bracket_shape_for_log'"
   ]
  },
  {
   "cell_type": "code",
   "execution_count": 15,
   "metadata": {
    "collapsed": false
   },
   "outputs": [],
   "source": [
    "res1.to_csv('../../income_mountain/ddf--datapoints--income_mountain_50bracket_shape_for_log--by--income_groups--time.csv')"
   ]
  },
  {
   "cell_type": "code",
   "execution_count": 52,
   "metadata": {
    "collapsed": false
   },
   "outputs": [],
   "source": [
    "# worldbank levels\n",
    "group_name = 'income_groups_wb'\n",
    "ts = levels['wb']\n",
    "res = calculate_group_ts(data, group_name, ts)\n",
    "res2_mh = res.stack().groupby(group_name).max()\n",
    "res2 = res.apply(join_cols, axis=1)\n",
    "res2.name = 'income_mountain_50bracket_shape'"
   ]
  },
  {
   "cell_type": "code",
   "execution_count": 53,
   "metadata": {
    "collapsed": false
   },
   "outputs": [
    {
     "data": {
      "text/plain": [
       "income_groups_wb  time\n",
       "hic               1944    6, 22, 38, 54, 70, 86, 102, 118, 134, 150, 166...\n",
       "                  1945    6, 22, 38, 54, 70, 86, 102, 118, 134, 150, 166...\n",
       "                  1946    6, 22, 38, 54, 70, 86, 102, 118, 134, 150, 166...\n",
       "                  1947    28, 92, 156, 220, 284, 348, 412, 476, 540, 605...\n",
       "                  1948    28, 92, 156, 220, 284, 348, 412, 476, 540, 607...\n",
       "                                                ...                        \n",
       "umic              2046    70095243, 11120513, 191555568, 594813, 2153480...\n",
       "                  2047    71896427, 11116029, 191894243, 599175, 2099265...\n",
       "                  2048    73720965, 11108241, 192177843, 583923, 1603404...\n",
       "                  2049    75568845, 11097693, 192409645, 587054, 1575235...\n",
       "                  2050    77438821, 11084480, 192586091, 590894, 1585836...\n",
       "Name: income_mountain_50bracket_shape, Length: 774, dtype: object"
      ]
     },
     "execution_count": 53,
     "metadata": {},
     "output_type": "execute_result"
    }
   ],
   "source": [
    "res2"
   ]
  },
  {
   "cell_type": "code",
   "execution_count": 17,
   "metadata": {
    "collapsed": false
   },
   "outputs": [],
   "source": [
    "res2.to_csv('../../income_mountain/ddf--datapoints--income_mountain_50bracket_shape_for_log--by--income_groups_wb--time.csv')"
   ]
  },
  {
   "cell_type": "code",
   "execution_count": 18,
   "metadata": {
    "collapsed": false
   },
   "outputs": [],
   "source": [
    "# west and rest\n",
    "wr = pd.read_csv('../source/fixtures/west_and_rest.csv')"
   ]
  },
  {
   "cell_type": "code",
   "execution_count": 33,
   "metadata": {
    "collapsed": false
   },
   "outputs": [],
   "source": [
    "mapping = wr.set_index('geo')['geo.gm_west_rest'].to_dict()\n",
    "df = data.set_index(['country', 'year'])\n",
    "df.index.names = ['country', 'time']\n",
    "df['west_and_rest'] = df.index.get_level_values('country').map(mapping)"
   ]
  },
  {
   "cell_type": "code",
   "execution_count": 37,
   "metadata": {
    "collapsed": false
   },
   "outputs": [],
   "source": [
    "df2 = df.reset_index().groupby(['west_and_rest', 'bracket', 'time'])['income_mountain'].sum()"
   ]
  },
  {
   "cell_type": "code",
   "execution_count": 39,
   "metadata": {
    "collapsed": false
   },
   "outputs": [],
   "source": [
    "df3 = df2.groupby(['west_and_rest', 'time']).apply(resample)"
   ]
  },
  {
   "cell_type": "code",
   "execution_count": 44,
   "metadata": {
    "collapsed": false
   },
   "outputs": [],
   "source": [
    "df4 = df3.unstack().apply(join_cols, axis=1)"
   ]
  },
  {
   "cell_type": "code",
   "execution_count": 45,
   "metadata": {
    "collapsed": false
   },
   "outputs": [
    {
     "data": {
      "text/plain": [
       "west_and_rest  time\n",
       "rest           1800    360972, 509613, 693315, 946987, 1299183, 18315...\n",
       "               1801    362200, 511371, 695568, 949815, 1302542, 18353...\n",
       "               1802    363205, 512864, 697624, 952543, 1306080, 18399...\n",
       "               1803    364587, 514714, 700236, 956104, 1310968, 18467...\n",
       "               1804    366098, 516883, 703235, 960204, 1316547, 18545...\n",
       "                                             ...                        \n",
       "west           2046    0, 1541, 7619, 13961, 22088, 32871, 47356, 648...\n",
       "               2047    0, 1437, 7499, 13797, 21886, 32608, 47025, 644...\n",
       "               2048    0, 1423, 7453, 13720, 21778, 32449, 46811, 641...\n",
       "               2049    0, 347, 6298, 11996, 19621, 29432, 42882, 5955...\n",
       "               2050    0, 286, 6211, 11868, 19460, 29225, 42616, 5922...\n",
       "Length: 502, dtype: object"
      ]
     },
     "execution_count": 45,
     "metadata": {},
     "output_type": "execute_result"
    }
   ],
   "source": [
    "df4"
   ]
  },
  {
   "cell_type": "code",
   "execution_count": 33,
   "metadata": {
    "collapsed": false
   },
   "outputs": [],
   "source": [
    "def calculate_group(data, group_name, mapping_func):\n",
    "    df = data.set_index(['country', 'year'])\n",
    "    df.index.names = ['country', 'time']\n",
    "    df[group_name] = df.index.get_level_values('country').map(mapping_func)\n",
    "    df2 = df.reset_index().groupby([group_name, 'bracket', 'time'])['income_mountain'].sum()\n",
    "    df3 = df2.groupby([group_name, 'time']).apply(resample)\n",
    "    # df4 = df3.unstack().apply(join_cols, axis=1)\n",
    "    df3.name = 'income_mountain_50bracket_shape_for_log'\n",
    "    return df3"
   ]
  },
  {
   "cell_type": "code",
   "execution_count": 30,
   "metadata": {
    "collapsed": false
   },
   "outputs": [],
   "source": [
    "mapping = wr.set_index('geo')['geo.gm_west_rest'].to_dict()\n",
    "mapping_func = lambda x: mapping[x] if x in mapping.keys() else 'rest'\n",
    "\n",
    "res3 = calculate_group(data, 'west_and_rest', mapping_func)"
   ]
  },
  {
   "cell_type": "code",
   "execution_count": 31,
   "metadata": {
    "collapsed": false
   },
   "outputs": [
    {
     "data": {
      "text/plain": [
       "west_and_rest  time  bracket\n",
       "rest           1800  0           360976\n",
       "                     1           509626\n",
       "                     2           693347\n",
       "                     3           947037\n",
       "                     4          1299258\n",
       "                                 ...   \n",
       "west           2050  45          181782\n",
       "                     46           72343\n",
       "                     47           23866\n",
       "                     48            8979\n",
       "                     49            4856\n",
       "Name: income_mountain, Length: 25100, dtype: int64"
      ]
     },
     "execution_count": 31,
     "metadata": {},
     "output_type": "execute_result"
    }
   ],
   "source": [
    "res3"
   ]
  },
  {
   "cell_type": "code",
   "execution_count": 34,
   "metadata": {
    "collapsed": false
   },
   "outputs": [],
   "source": [
    "res3_mh = res3.groupby('west_and_rest').max()"
   ]
  },
  {
   "cell_type": "code",
   "execution_count": 35,
   "metadata": {
    "collapsed": false
   },
   "outputs": [],
   "source": [
    "res3 = res3.unstack().apply(join_cols, axis=1)\n"
   ]
  },
  {
   "cell_type": "code",
   "execution_count": 36,
   "metadata": {
    "collapsed": false
   },
   "outputs": [
    {
     "data": {
      "text/plain": [
       "west_and_rest  time\n",
       "rest           1800    360976, 509626, 693347, 947037, 1299258, 18316...\n",
       "               1801    362204, 511384, 695600, 949865, 1302617, 18354...\n",
       "               1802    363209, 512877, 697656, 952593, 1306155, 18400...\n",
       "               1803    364591, 514727, 700268, 956154, 1311043, 18469...\n",
       "               1804    366102, 516896, 703267, 960254, 1316622, 18546...\n",
       "                                             ...                        \n",
       "west           2046    0, 1541, 7619, 13961, 22088, 32871, 47356, 648...\n",
       "               2047    0, 1437, 7499, 13797, 21886, 32608, 47025, 644...\n",
       "               2048    0, 1423, 7453, 13720, 21778, 32449, 46811, 641...\n",
       "               2049    0, 347, 6298, 11996, 19621, 29432, 42882, 5955...\n",
       "               2050    0, 286, 6211, 11868, 19460, 29225, 42616, 5922...\n",
       "Length: 502, dtype: object"
      ]
     },
     "execution_count": 36,
     "metadata": {},
     "output_type": "execute_result"
    }
   ],
   "source": [
    "res3"
   ]
  },
  {
   "cell_type": "code",
   "execution_count": 23,
   "metadata": {
    "collapsed": false
   },
   "outputs": [],
   "source": [
    "res3.to_csv('../../income_mountain/ddf--datapoints--income_mountain_50bracket_shape_for_log--by--west_and_rest--time.csv')"
   ]
  },
  {
   "cell_type": "code",
   "execution_count": 37,
   "metadata": {
    "collapsed": false
   },
   "outputs": [],
   "source": [
    "# global\n",
    "\n",
    "mapping_func = lambda _: 'world'\n",
    "res4 = calculate_group(data, 'global', mapping_func)\n"
   ]
  },
  {
   "cell_type": "code",
   "execution_count": 38,
   "metadata": {
    "collapsed": false
   },
   "outputs": [
    {
     "data": {
      "text/plain": [
       "global  time  bracket\n",
       "world   1800  0           375374\n",
       "              1           542604\n",
       "              2           751600\n",
       "              3          1039291\n",
       "              4          1435748\n",
       "                          ...   \n",
       "        2050  45          343505\n",
       "              46          165872\n",
       "              47           79166\n",
       "              48           42180\n",
       "              49           24901\n",
       "Name: income_mountain_50bracket_shape_for_log, Length: 12550, dtype: int64"
      ]
     },
     "execution_count": 38,
     "metadata": {},
     "output_type": "execute_result"
    }
   ],
   "source": [
    "res4"
   ]
  },
  {
   "cell_type": "code",
   "execution_count": 39,
   "metadata": {
    "collapsed": false
   },
   "outputs": [],
   "source": [
    "res4_mh = res4.groupby('global').max()"
   ]
  },
  {
   "cell_type": "code",
   "execution_count": 40,
   "metadata": {
    "collapsed": false
   },
   "outputs": [
    {
     "data": {
      "text/plain": [
       "global\n",
       "world    966980928\n",
       "Name: income_mountain_50bracket_shape_for_log, dtype: int64"
      ]
     },
     "execution_count": 40,
     "metadata": {},
     "output_type": "execute_result"
    }
   ],
   "source": [
    "res4_mh"
   ]
  },
  {
   "cell_type": "code",
   "execution_count": 41,
   "metadata": {
    "collapsed": false
   },
   "outputs": [],
   "source": [
    "res4 = res4.unstack().apply(join_cols, axis=1)"
   ]
  },
  {
   "cell_type": "code",
   "execution_count": 26,
   "metadata": {
    "collapsed": false
   },
   "outputs": [],
   "source": [
    "res4.to_csv('../../income_mountain/ddf--datapoints--income_mountain_50bracket_shape_for_log--by--global--time.csv')"
   ]
  },
  {
   "cell_type": "code",
   "execution_count": 69,
   "metadata": {
    "collapsed": false
   },
   "outputs": [
    {
     "ename": "KeyError",
     "evalue": "'hkg'",
     "output_type": "error",
     "traceback": [
      "\u001b[1;31m---------------------------------------------------------------------------\u001b[0m",
      "\u001b[1;31mKeyError\u001b[0m                                  Traceback (most recent call last)",
      "\u001b[1;32m~\\AppData\\Local\\Temp/ipykernel_5024/766998488.py\u001b[0m in \u001b[0;36m<module>\u001b[1;34m\u001b[0m\n\u001b[0;32m      2\u001b[0m \u001b[0mmapping\u001b[0m \u001b[1;33m=\u001b[0m \u001b[0mwr\u001b[0m\u001b[1;33m.\u001b[0m\u001b[0mset_index\u001b[0m\u001b[1;33m(\u001b[0m\u001b[1;34m'geo'\u001b[0m\u001b[1;33m)\u001b[0m\u001b[1;33m[\u001b[0m\u001b[1;34m'four_regions'\u001b[0m\u001b[1;33m]\u001b[0m\u001b[1;33m.\u001b[0m\u001b[0mto_dict\u001b[0m\u001b[1;33m(\u001b[0m\u001b[1;33m)\u001b[0m\u001b[1;33m\u001b[0m\u001b[1;33m\u001b[0m\u001b[0m\n\u001b[0;32m      3\u001b[0m \u001b[0mmapping_func\u001b[0m \u001b[1;33m=\u001b[0m \u001b[1;32mlambda\u001b[0m \u001b[0mx\u001b[0m\u001b[1;33m:\u001b[0m \u001b[0mmapping\u001b[0m\u001b[1;33m[\u001b[0m\u001b[0mx\u001b[0m\u001b[1;33m]\u001b[0m\u001b[1;33m\u001b[0m\u001b[1;33m\u001b[0m\u001b[0m\n\u001b[1;32m----> 4\u001b[1;33m \u001b[0mres5\u001b[0m \u001b[1;33m=\u001b[0m \u001b[0mcalculate_group\u001b[0m\u001b[1;33m(\u001b[0m\u001b[0mdata\u001b[0m\u001b[1;33m,\u001b[0m \u001b[1;34m'world_4regions'\u001b[0m\u001b[1;33m,\u001b[0m \u001b[0mmapping_func\u001b[0m\u001b[1;33m)\u001b[0m\u001b[1;33m\u001b[0m\u001b[1;33m\u001b[0m\u001b[0m\n\u001b[0m",
      "\u001b[1;32m~\\AppData\\Local\\Temp/ipykernel_5024/3319509610.py\u001b[0m in \u001b[0;36mcalculate_group\u001b[1;34m(data, group_name, mapping_func)\u001b[0m\n\u001b[0;32m      2\u001b[0m     \u001b[0mdf\u001b[0m \u001b[1;33m=\u001b[0m \u001b[0mdata\u001b[0m\u001b[1;33m.\u001b[0m\u001b[0mset_index\u001b[0m\u001b[1;33m(\u001b[0m\u001b[1;33m[\u001b[0m\u001b[1;34m'country'\u001b[0m\u001b[1;33m,\u001b[0m \u001b[1;34m'year'\u001b[0m\u001b[1;33m]\u001b[0m\u001b[1;33m)\u001b[0m\u001b[1;33m\u001b[0m\u001b[1;33m\u001b[0m\u001b[0m\n\u001b[0;32m      3\u001b[0m     \u001b[0mdf\u001b[0m\u001b[1;33m.\u001b[0m\u001b[0mindex\u001b[0m\u001b[1;33m.\u001b[0m\u001b[0mnames\u001b[0m \u001b[1;33m=\u001b[0m \u001b[1;33m[\u001b[0m\u001b[1;34m'country'\u001b[0m\u001b[1;33m,\u001b[0m \u001b[1;34m'time'\u001b[0m\u001b[1;33m]\u001b[0m\u001b[1;33m\u001b[0m\u001b[1;33m\u001b[0m\u001b[0m\n\u001b[1;32m----> 4\u001b[1;33m     \u001b[0mdf\u001b[0m\u001b[1;33m[\u001b[0m\u001b[0mgroup_name\u001b[0m\u001b[1;33m]\u001b[0m \u001b[1;33m=\u001b[0m \u001b[0mdf\u001b[0m\u001b[1;33m.\u001b[0m\u001b[0mindex\u001b[0m\u001b[1;33m.\u001b[0m\u001b[0mget_level_values\u001b[0m\u001b[1;33m(\u001b[0m\u001b[1;34m'country'\u001b[0m\u001b[1;33m)\u001b[0m\u001b[1;33m.\u001b[0m\u001b[0mmap\u001b[0m\u001b[1;33m(\u001b[0m\u001b[0mmapping_func\u001b[0m\u001b[1;33m)\u001b[0m\u001b[1;33m\u001b[0m\u001b[1;33m\u001b[0m\u001b[0m\n\u001b[0m\u001b[0;32m      5\u001b[0m     \u001b[0mdf2\u001b[0m \u001b[1;33m=\u001b[0m \u001b[0mdf\u001b[0m\u001b[1;33m.\u001b[0m\u001b[0mreset_index\u001b[0m\u001b[1;33m(\u001b[0m\u001b[1;33m)\u001b[0m\u001b[1;33m.\u001b[0m\u001b[0mgroupby\u001b[0m\u001b[1;33m(\u001b[0m\u001b[1;33m[\u001b[0m\u001b[0mgroup_name\u001b[0m\u001b[1;33m,\u001b[0m \u001b[1;34m'bracket'\u001b[0m\u001b[1;33m,\u001b[0m \u001b[1;34m'time'\u001b[0m\u001b[1;33m]\u001b[0m\u001b[1;33m)\u001b[0m\u001b[1;33m[\u001b[0m\u001b[1;34m'income_mountain'\u001b[0m\u001b[1;33m]\u001b[0m\u001b[1;33m.\u001b[0m\u001b[0msum\u001b[0m\u001b[1;33m(\u001b[0m\u001b[1;33m)\u001b[0m\u001b[1;33m\u001b[0m\u001b[1;33m\u001b[0m\u001b[0m\n\u001b[0;32m      6\u001b[0m     \u001b[0mdf3\u001b[0m \u001b[1;33m=\u001b[0m \u001b[0mdf2\u001b[0m\u001b[1;33m.\u001b[0m\u001b[0mgroupby\u001b[0m\u001b[1;33m(\u001b[0m\u001b[1;33m[\u001b[0m\u001b[0mgroup_name\u001b[0m\u001b[1;33m,\u001b[0m \u001b[1;34m'time'\u001b[0m\u001b[1;33m]\u001b[0m\u001b[1;33m)\u001b[0m\u001b[1;33m.\u001b[0m\u001b[0mapply\u001b[0m\u001b[1;33m(\u001b[0m\u001b[0mresample\u001b[0m\u001b[1;33m)\u001b[0m\u001b[1;33m\u001b[0m\u001b[1;33m\u001b[0m\u001b[0m\n",
      "\u001b[1;32m~\\anaconda3\\envs\\gapminder\\lib\\site-packages\\pandas\\core\\indexes\\base.py\u001b[0m in \u001b[0;36mmap\u001b[1;34m(self, mapper, na_action)\u001b[0m\n\u001b[0;32m   5504\u001b[0m         \u001b[1;32mfrom\u001b[0m \u001b[0mpandas\u001b[0m\u001b[1;33m.\u001b[0m\u001b[0mcore\u001b[0m\u001b[1;33m.\u001b[0m\u001b[0mindexes\u001b[0m\u001b[1;33m.\u001b[0m\u001b[0mmulti\u001b[0m \u001b[1;32mimport\u001b[0m \u001b[0mMultiIndex\u001b[0m\u001b[1;33m\u001b[0m\u001b[1;33m\u001b[0m\u001b[0m\n\u001b[0;32m   5505\u001b[0m \u001b[1;33m\u001b[0m\u001b[0m\n\u001b[1;32m-> 5506\u001b[1;33m         \u001b[0mnew_values\u001b[0m \u001b[1;33m=\u001b[0m \u001b[0mself\u001b[0m\u001b[1;33m.\u001b[0m\u001b[0m_map_values\u001b[0m\u001b[1;33m(\u001b[0m\u001b[0mmapper\u001b[0m\u001b[1;33m,\u001b[0m \u001b[0mna_action\u001b[0m\u001b[1;33m=\u001b[0m\u001b[0mna_action\u001b[0m\u001b[1;33m)\u001b[0m\u001b[1;33m\u001b[0m\u001b[1;33m\u001b[0m\u001b[0m\n\u001b[0m\u001b[0;32m   5507\u001b[0m \u001b[1;33m\u001b[0m\u001b[0m\n\u001b[0;32m   5508\u001b[0m         \u001b[0mattributes\u001b[0m \u001b[1;33m=\u001b[0m \u001b[0mself\u001b[0m\u001b[1;33m.\u001b[0m\u001b[0m_get_attributes_dict\u001b[0m\u001b[1;33m(\u001b[0m\u001b[1;33m)\u001b[0m\u001b[1;33m\u001b[0m\u001b[1;33m\u001b[0m\u001b[0m\n",
      "\u001b[1;32m~\\anaconda3\\envs\\gapminder\\lib\\site-packages\\pandas\\core\\base.py\u001b[0m in \u001b[0;36m_map_values\u001b[1;34m(self, mapper, na_action)\u001b[0m\n\u001b[0;32m    868\u001b[0m \u001b[1;33m\u001b[0m\u001b[0m\n\u001b[0;32m    869\u001b[0m         \u001b[1;31m# mapper is a function\u001b[0m\u001b[1;33m\u001b[0m\u001b[1;33m\u001b[0m\u001b[0m\n\u001b[1;32m--> 870\u001b[1;33m         \u001b[0mnew_values\u001b[0m \u001b[1;33m=\u001b[0m \u001b[0mmap_f\u001b[0m\u001b[1;33m(\u001b[0m\u001b[0mvalues\u001b[0m\u001b[1;33m,\u001b[0m \u001b[0mmapper\u001b[0m\u001b[1;33m)\u001b[0m\u001b[1;33m\u001b[0m\u001b[1;33m\u001b[0m\u001b[0m\n\u001b[0m\u001b[0;32m    871\u001b[0m \u001b[1;33m\u001b[0m\u001b[0m\n\u001b[0;32m    872\u001b[0m         \u001b[1;32mreturn\u001b[0m \u001b[0mnew_values\u001b[0m\u001b[1;33m\u001b[0m\u001b[1;33m\u001b[0m\u001b[0m\n",
      "\u001b[1;32m~\\anaconda3\\envs\\gapminder\\lib\\site-packages\\pandas\\_libs\\lib.pyx\u001b[0m in \u001b[0;36mpandas._libs.lib.map_infer\u001b[1;34m()\u001b[0m\n",
      "\u001b[1;32m~\\AppData\\Local\\Temp/ipykernel_5024/766998488.py\u001b[0m in \u001b[0;36m<lambda>\u001b[1;34m(x)\u001b[0m\n\u001b[0;32m      1\u001b[0m \u001b[1;31m# world_4region\u001b[0m\u001b[1;33m\u001b[0m\u001b[1;33m\u001b[0m\u001b[0m\n\u001b[0;32m      2\u001b[0m \u001b[0mmapping\u001b[0m \u001b[1;33m=\u001b[0m \u001b[0mwr\u001b[0m\u001b[1;33m.\u001b[0m\u001b[0mset_index\u001b[0m\u001b[1;33m(\u001b[0m\u001b[1;34m'geo'\u001b[0m\u001b[1;33m)\u001b[0m\u001b[1;33m[\u001b[0m\u001b[1;34m'four_regions'\u001b[0m\u001b[1;33m]\u001b[0m\u001b[1;33m.\u001b[0m\u001b[0mto_dict\u001b[0m\u001b[1;33m(\u001b[0m\u001b[1;33m)\u001b[0m\u001b[1;33m\u001b[0m\u001b[1;33m\u001b[0m\u001b[0m\n\u001b[1;32m----> 3\u001b[1;33m \u001b[0mmapping_func\u001b[0m \u001b[1;33m=\u001b[0m \u001b[1;32mlambda\u001b[0m \u001b[0mx\u001b[0m\u001b[1;33m:\u001b[0m \u001b[0mmapping\u001b[0m\u001b[1;33m[\u001b[0m\u001b[0mx\u001b[0m\u001b[1;33m]\u001b[0m\u001b[1;33m\u001b[0m\u001b[1;33m\u001b[0m\u001b[0m\n\u001b[0m\u001b[0;32m      4\u001b[0m \u001b[0mres5\u001b[0m \u001b[1;33m=\u001b[0m \u001b[0mcalculate_group\u001b[0m\u001b[1;33m(\u001b[0m\u001b[0mdata\u001b[0m\u001b[1;33m,\u001b[0m \u001b[1;34m'world_4regions'\u001b[0m\u001b[1;33m,\u001b[0m \u001b[0mmapping_func\u001b[0m\u001b[1;33m)\u001b[0m\u001b[1;33m\u001b[0m\u001b[1;33m\u001b[0m\u001b[0m\n",
      "\u001b[1;31mKeyError\u001b[0m: 'hkg'"
     ]
    }
   ],
   "source": [
    "# world_4region\n",
    "# mapping = wr.set_index('geo')['four_regions'].to_dict()\n",
    "# mapping_func = lambda x: mapping[x]\n",
    "# res5 = calculate_group(data, 'world_4regions', mapping_func)"
   ]
  },
  {
   "cell_type": "code",
   "execution_count": 70,
   "metadata": {
    "collapsed": false
   },
   "outputs": [],
   "source": [
    "country = pd.read_csv('../../ddf--entities--geo--country.csv', dtype=str)"
   ]
  },
  {
   "cell_type": "code",
   "execution_count": 73,
   "metadata": {
    "collapsed": false
   },
   "outputs": [
    {
     "data": {
      "text/plain": [
       "country\n",
       "abkh           europe\n",
       "abw          americas\n",
       "afg              asia\n",
       "ago            africa\n",
       "aia          americas\n",
       "               ...   \n",
       "yem_south        asia\n",
       "yug            europe\n",
       "zaf            africa\n",
       "zmb            africa\n",
       "zwe            africa\n",
       "Name: world_4region, Length: 273, dtype: object"
      ]
     },
     "execution_count": 73,
     "metadata": {},
     "output_type": "execute_result"
    }
   ],
   "source": [
    "country.set_index('country')['world_4region']"
   ]
  },
  {
   "cell_type": "code",
   "execution_count": 83,
   "metadata": {
    "collapsed": false
   },
   "outputs": [],
   "source": [
    "mapping = country.set_index('country')['world_4region'].to_dict()\n",
    "mapping_func = lambda x: mapping[x]\n",
    "res5 = calculate_group(data, 'world_4region', mapping_func)"
   ]
  },
  {
   "cell_type": "code",
   "execution_count": 75,
   "metadata": {
    "collapsed": false
   },
   "outputs": [
    {
     "data": {
      "text/plain": [
       "world_4regions  time  bracket\n",
       "africa          1800  0           27583\n",
       "                      1           40396\n",
       "                      2           58890\n",
       "                      3           89029\n",
       "                      4          132967\n",
       "                                  ...  \n",
       "europe          2050  45          27665\n",
       "                      46          14399\n",
       "                      47           7940\n",
       "                      48           4427\n",
       "                      49           2483\n",
       "Name: income_mountain_50bracket_shape_for_log, Length: 50200, dtype: int64"
      ]
     },
     "execution_count": 75,
     "metadata": {},
     "output_type": "execute_result"
    }
   ],
   "source": [
    "res5"
   ]
  },
  {
   "cell_type": "code",
   "execution_count": 84,
   "metadata": {
    "collapsed": false
   },
   "outputs": [],
   "source": [
    "res5_mh = res5.groupby('world_4region').max()"
   ]
  },
  {
   "cell_type": "code",
   "execution_count": 85,
   "metadata": {
    "collapsed": false
   },
   "outputs": [],
   "source": [
    "res5 = res5.unstack().apply(join_cols, axis=1)"
   ]
  },
  {
   "cell_type": "code",
   "execution_count": 86,
   "metadata": {
    "collapsed": false
   },
   "outputs": [],
   "source": [
    "res5.name = 'income_mountain_50bracket_shape_for_log'\n",
    "res5.to_csv('../../income_mountain/ddf--datapoints--income_mountain_50bracket_shape_for_log--by--world_4region--time.csv')"
   ]
  },
  {
   "cell_type": "code",
   "execution_count": null,
   "metadata": {
    "collapsed": false
   },
   "outputs": [],
   "source": []
  },
  {
   "cell_type": "code",
   "execution_count": null,
   "metadata": {
    "collapsed": false
   },
   "outputs": [],
   "source": []
  },
  {
   "cell_type": "code",
   "execution_count": 54,
   "metadata": {
    "collapsed": false
   },
   "outputs": [],
   "source": [
    "# appending numbers to entities\n",
    "ent1 = pd.read_csv('../../ddf--entities--geo--income_groups.csv', dtype=str)"
   ]
  },
  {
   "cell_type": "code",
   "execution_count": 56,
   "metadata": {
    "collapsed": false
   },
   "outputs": [],
   "source": [
    "ent1 = ent1.set_index('income_groups')\n",
    "ent1['income_mountain_50bracket_max_height_for_log'] = res1_mh"
   ]
  },
  {
   "cell_type": "code",
   "execution_count": 57,
   "metadata": {
    "collapsed": false
   },
   "outputs": [
    {
     "data": {
      "text/html": [
       "<div>\n",
       "<style scoped>\n",
       "    .dataframe tbody tr th:only-of-type {\n",
       "        vertical-align: middle;\n",
       "    }\n",
       "\n",
       "    .dataframe tbody tr th {\n",
       "        vertical-align: top;\n",
       "    }\n",
       "\n",
       "    .dataframe thead th {\n",
       "        text-align: right;\n",
       "    }\n",
       "</style>\n",
       "<table border=\"1\" class=\"dataframe\">\n",
       "  <thead>\n",
       "    <tr style=\"text-align: right;\">\n",
       "      <th></th>\n",
       "      <th>is--income_groups</th>\n",
       "      <th>name</th>\n",
       "      <th>rank</th>\n",
       "      <th>income_mountain_50bracket_max_height_for_log</th>\n",
       "    </tr>\n",
       "    <tr>\n",
       "      <th>income_groups</th>\n",
       "      <th></th>\n",
       "      <th></th>\n",
       "      <th></th>\n",
       "      <th></th>\n",
       "    </tr>\n",
       "  </thead>\n",
       "  <tbody>\n",
       "    <tr>\n",
       "      <th>high_income</th>\n",
       "      <td>TRUE</td>\n",
       "      <td>High income</td>\n",
       "      <td>1</td>\n",
       "      <td>1481596886</td>\n",
       "    </tr>\n",
       "    <tr>\n",
       "      <th>low_income</th>\n",
       "      <td>TRUE</td>\n",
       "      <td>Low income</td>\n",
       "      <td>4</td>\n",
       "      <td>1257196548</td>\n",
       "    </tr>\n",
       "    <tr>\n",
       "      <th>lower_middle_income</th>\n",
       "      <td>TRUE</td>\n",
       "      <td>Lower middle income</td>\n",
       "      <td>3</td>\n",
       "      <td>1406323507</td>\n",
       "    </tr>\n",
       "    <tr>\n",
       "      <th>upper_middle_income</th>\n",
       "      <td>TRUE</td>\n",
       "      <td>Upper middle income</td>\n",
       "      <td>2</td>\n",
       "      <td>1639343640</td>\n",
       "    </tr>\n",
       "  </tbody>\n",
       "</table>\n",
       "</div>"
      ],
      "text/plain": [
       "                    is--income_groups                 name rank  \\\n",
       "income_groups                                                     \n",
       "high_income                      TRUE          High income    1   \n",
       "low_income                       TRUE           Low income    4   \n",
       "lower_middle_income              TRUE  Lower middle income    3   \n",
       "upper_middle_income              TRUE  Upper middle income    2   \n",
       "\n",
       "                     income_mountain_50bracket_max_height_for_log  \n",
       "income_groups                                                      \n",
       "high_income                                            1481596886  \n",
       "low_income                                             1257196548  \n",
       "lower_middle_income                                    1406323507  \n",
       "upper_middle_income                                    1639343640  "
      ]
     },
     "execution_count": 57,
     "metadata": {},
     "output_type": "execute_result"
    }
   ],
   "source": [
    "ent1"
   ]
  },
  {
   "cell_type": "code",
   "execution_count": 58,
   "metadata": {
    "collapsed": false
   },
   "outputs": [],
   "source": [
    "ent1.to_csv('../../ddf--entities--geo--income_groups.csv')"
   ]
  },
  {
   "cell_type": "code",
   "execution_count": 60,
   "metadata": {
    "collapsed": false
   },
   "outputs": [],
   "source": [
    "fp = '../../ddf--entities--geo--income_groups_wb.csv'\n",
    "gname = 'income_groups_wb'\n",
    "ent2 = pd.read_csv(fp).set_index(gname)\n",
    "ent2['income_mountain_50bracket_max_height_for_log'] = res2_mh"
   ]
  },
  {
   "cell_type": "code",
   "execution_count": 61,
   "metadata": {
    "collapsed": false
   },
   "outputs": [],
   "source": [
    "ent2.to_csv(fp)"
   ]
  },
  {
   "cell_type": "code",
   "execution_count": 62,
   "metadata": {
    "collapsed": false
   },
   "outputs": [],
   "source": [
    "fp = '../../ddf--entities--geo--west_and_rest.csv'\n",
    "gname = 'west_and_rest'\n",
    "ent3 = pd.read_csv(fp).set_index(gname)\n",
    "ent3['income_mountain_50bracket_max_height_for_log'] = res3_mh"
   ]
  },
  {
   "cell_type": "code",
   "execution_count": 64,
   "metadata": {
    "collapsed": false
   },
   "outputs": [],
   "source": [
    "ent3.to_csv(fp)"
   ]
  },
  {
   "cell_type": "code",
   "execution_count": 65,
   "metadata": {
    "collapsed": false
   },
   "outputs": [],
   "source": [
    "fp = '../../ddf--entities--geo--global.csv'\n",
    "gname = 'global'\n",
    "ent4 = pd.read_csv(fp).set_index(gname)\n",
    "ent4['income_mountain_50bracket_max_height_for_log'] = res4_mh\n"
   ]
  },
  {
   "cell_type": "code",
   "execution_count": 67,
   "metadata": {
    "collapsed": false
   },
   "outputs": [],
   "source": [
    "ent4.to_csv(fp)"
   ]
  },
  {
   "cell_type": "code",
   "execution_count": 80,
   "metadata": {
    "collapsed": false
   },
   "outputs": [],
   "source": [
    "fp = '../../ddf--entities--geo--world_4region.csv'\n",
    "gname = 'world_4region'\n",
    "ent5 = pd.read_csv(fp).set_index(gname)\n",
    "ent5['income_mountain_50bracket_max_height_for_log'] = res5_mh"
   ]
  },
  {
   "cell_type": "code",
   "execution_count": 82,
   "metadata": {
    "collapsed": false
   },
   "outputs": [],
   "source": [
    "ent5.to_csv(fp)"
   ]
  },
  {
   "cell_type": "code",
   "execution_count": null,
   "metadata": {
    "collapsed": false
   },
   "outputs": [],
   "source": []
  }
 ],
 "metadata": {
  "interpreter": {
   "hash": "892c6a9e88ed2595082a9413731bbe73b9c876feaf918903b36a4ab925ddfae9"
  },
  "kernelspec": {
   "argv": [
    "C:/Users/semio/anaconda3/envs/gapminder\\python.exe",
    "-m",
    "ipykernel_launcher",
    "-f",
    "{connection_file}"
   ],
   "display_name": "Python 3 (ipykernel)",
   "env": null,
   "interrupt_mode": "signal",
   "language": "python",
   "metadata": {
    "debugger": true
   },
   "name": "python3"
  },
  "language_info": {
   "codemirror_mode": {
    "name": "ipython",
    "version": 3
   },
   "file_extension": ".py",
   "mimetype": "text/x-python",
   "name": "python",
   "nbconvert_exporter": "python",
   "pygments_lexer": "ipython3",
   "version": "3.10.2"
  },
  "name": "income_mountain_by_groups.ipynb"
 },
 "nbformat": 4,
 "nbformat_minor": 2
}
