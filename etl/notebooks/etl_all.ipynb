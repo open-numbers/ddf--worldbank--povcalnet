{
 "cells": [
  {
   "cell_type": "code",
   "execution_count": 5,
   "id": "760c1991",
   "metadata": {},
   "outputs": [
    {
     "data": {
      "text/plain": [
       "0.1"
      ]
     },
     "execution_count": 5,
     "metadata": {},
     "output_type": "execute_result"
    }
   ],
   "source": [
    "(13 + 7) / 200"
   ]
  },
  {
   "cell_type": "code",
   "execution_count": 2,
   "id": "14b9eeb1",
   "metadata": {},
   "outputs": [],
   "source": [
    "import pandas as pd\n",
    "import numpy as np"
   ]
  },
  {
   "cell_type": "code",
   "execution_count": 3,
   "id": "8d7a35b2",
   "metadata": {},
   "outputs": [],
   "source": [
    "all_brackets = np.logspace(-7, 13, 201, endpoint=True, base=2)\n",
    "brackets = pd.DataFrame({'start': all_brackets, 'end': pd.Series(all_brackets).shift(-1)})\n",
    "brackets_log = brackets.iloc[:-1].copy()\n",
    "brackets_log['start'] = np.log2(brackets_log['start'])\n",
    "brackets_log['end'] = np.log2(brackets_log['end'])\n",
    "brackets_log['d'] = brackets_log.end - brackets_log.start\n",
    "delta = brackets_log['d'].iloc[0]"
   ]
  },
  {
   "cell_type": "code",
   "execution_count": 4,
   "id": "34d02932",
   "metadata": {},
   "outputs": [
    {
     "data": {
      "text/plain": [
       "0.09999999999999964"
      ]
     },
     "execution_count": 4,
     "metadata": {},
     "output_type": "execute_result"
    }
   ],
   "source": [
    "delta"
   ]
  },
  {
   "cell_type": "code",
   "execution_count": null,
   "id": "09235e6c",
   "metadata": {},
   "outputs": [],
   "source": []
  }
 ],
 "metadata": {
  "kernelspec": {
   "display_name": "Python 3",
   "language": "python",
   "name": "python3"
  },
  "language_info": {
   "codemirror_mode": {
    "name": "ipython",
    "version": 3
   },
   "file_extension": ".py",
   "mimetype": "text/x-python",
   "name": "python",
   "nbconvert_exporter": "python",
   "pygments_lexer": "ipython3",
   "version": "3.9.7"
  }
 },
 "nbformat": 4,
 "nbformat_minor": 5
}
