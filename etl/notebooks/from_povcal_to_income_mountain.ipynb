{
 "cells": [
  {
   "cell_type": "code",
   "execution_count": 1,
   "id": "771404a6",
   "metadata": {},
   "outputs": [],
   "source": [
    "import pandas as pd\n",
    "import numpy as np\n",
    "import os\n",
    "import sys\n",
    "sys.path.insert(0, '../scripts/')\n",
    "\n",
    "import matplotlib.pyplot as plt\n",
    "\n",
    "%matplotlib inline"
   ]
  },
  {
   "cell_type": "code",
   "execution_count": 2,
   "id": "aad07bf6",
   "metadata": {},
   "outputs": [],
   "source": [
    "plt.rcParams['figure.figsize'] = (10, 6)\n",
    "plt.rcParams['figure.dpi'] = 196"
   ]
  },
  {
   "cell_type": "code",
   "execution_count": 3,
   "id": "8790e2f2",
   "metadata": {},
   "outputs": [],
   "source": [
    "%load_ext autoreload\n",
    "%autoreload 1"
   ]
  },
  {
   "cell_type": "code",
   "execution_count": 4,
   "id": "8e21bf7f",
   "metadata": {},
   "outputs": [],
   "source": [
    "%aimport shapeslib\n",
    "%aimport etllib\n",
    "%aimport smoothlib"
   ]
  },
  {
   "cell_type": "code",
   "execution_count": null,
   "id": "44e646c9",
   "metadata": {},
   "outputs": [],
   "source": []
  },
  {
   "cell_type": "markdown",
   "id": "f098d6cb",
   "metadata": {},
   "source": [
    "# Methodology overview\n",
    "\n",
    "See this [doc](https://docs.google.com/document/d/1-ro2bg-VSg-i-SxCW4_UadS2HPFAbFjc3PwBww134xY/edit)"
   ]
  },
  {
   "cell_type": "code",
   "execution_count": null,
   "id": "4db5c57f",
   "metadata": {},
   "outputs": [],
   "source": []
  },
  {
   "cell_type": "markdown",
   "id": "391194ea",
   "metadata": {},
   "source": [
    "# Step1: load all source files"
   ]
  },
  {
   "cell_type": "markdown",
   "id": "f10a3b18",
   "metadata": {},
   "source": [
    "The source files downloaded from povcal have following format (check the [doc](http://iresearch.worldbank.org/PovcalNet/docs/introduction_to_povcalnet.pdf) for more detail):"
   ]
  },
  {
   "cell_type": "code",
   "execution_count": 5,
   "id": "36effac3",
   "metadata": {},
   "outputs": [
    {
     "data": {
      "text/html": [
       "<div>\n",
       "<style scoped>\n",
       "    .dataframe tbody tr th:only-of-type {\n",
       "        vertical-align: middle;\n",
       "    }\n",
       "\n",
       "    .dataframe tbody tr th {\n",
       "        vertical-align: top;\n",
       "    }\n",
       "\n",
       "    .dataframe thead th {\n",
       "        text-align: right;\n",
       "    }\n",
       "</style>\n",
       "<table border=\"1\" class=\"dataframe\">\n",
       "  <thead>\n",
       "    <tr style=\"text-align: right;\">\n",
       "      <th></th>\n",
       "      <th>isInterpolated</th>\n",
       "      <th>useMicroData</th>\n",
       "      <th>CountryCode</th>\n",
       "      <th>CountryName</th>\n",
       "      <th>RegionCode</th>\n",
       "      <th>CoverageType</th>\n",
       "      <th>RequestYear</th>\n",
       "      <th>DataYear</th>\n",
       "      <th>DataType</th>\n",
       "      <th>PPP</th>\n",
       "      <th>...</th>\n",
       "      <th>Decile1</th>\n",
       "      <th>Decile2</th>\n",
       "      <th>Decile3</th>\n",
       "      <th>Decile4</th>\n",
       "      <th>Decile5</th>\n",
       "      <th>Decile6</th>\n",
       "      <th>Decile7</th>\n",
       "      <th>Decile8</th>\n",
       "      <th>Decile9</th>\n",
       "      <th>Decile10</th>\n",
       "    </tr>\n",
       "  </thead>\n",
       "  <tbody>\n",
       "    <tr>\n",
       "      <th>0</th>\n",
       "      <td>0</td>\n",
       "      <td>1</td>\n",
       "      <td>ALB</td>\n",
       "      <td>Albania</td>\n",
       "      <td>XX</td>\n",
       "      <td>N</td>\n",
       "      <td>1981</td>\n",
       "      <td>1996.00</td>\n",
       "      <td>X</td>\n",
       "      <td>54.652580</td>\n",
       "      <td>...</td>\n",
       "      <td>0.038630</td>\n",
       "      <td>0.05289</td>\n",
       "      <td>0.06379</td>\n",
       "      <td>0.07322</td>\n",
       "      <td>0.08380</td>\n",
       "      <td>0.09355</td>\n",
       "      <td>0.10820</td>\n",
       "      <td>0.1247</td>\n",
       "      <td>0.1490</td>\n",
       "      <td>0.2122</td>\n",
       "    </tr>\n",
       "    <tr>\n",
       "      <th>1</th>\n",
       "      <td>0</td>\n",
       "      <td>0</td>\n",
       "      <td>DZA</td>\n",
       "      <td>Algeria</td>\n",
       "      <td>XX</td>\n",
       "      <td>N</td>\n",
       "      <td>1981</td>\n",
       "      <td>1988.00</td>\n",
       "      <td>X</td>\n",
       "      <td>31.517970</td>\n",
       "      <td>...</td>\n",
       "      <td>0.027000</td>\n",
       "      <td>0.03839</td>\n",
       "      <td>0.04869</td>\n",
       "      <td>0.05868</td>\n",
       "      <td>0.06898</td>\n",
       "      <td>0.08035</td>\n",
       "      <td>0.09398</td>\n",
       "      <td>0.1124</td>\n",
       "      <td>0.1434</td>\n",
       "      <td>0.3281</td>\n",
       "    </tr>\n",
       "    <tr>\n",
       "      <th>2</th>\n",
       "      <td>0</td>\n",
       "      <td>1</td>\n",
       "      <td>AGO</td>\n",
       "      <td>Angola</td>\n",
       "      <td>XX</td>\n",
       "      <td>N</td>\n",
       "      <td>1981</td>\n",
       "      <td>2000.21</td>\n",
       "      <td>X</td>\n",
       "      <td>80.931800</td>\n",
       "      <td>...</td>\n",
       "      <td>0.009832</td>\n",
       "      <td>0.02195</td>\n",
       "      <td>0.03342</td>\n",
       "      <td>0.04495</td>\n",
       "      <td>0.05663</td>\n",
       "      <td>0.07049</td>\n",
       "      <td>0.08808</td>\n",
       "      <td>0.1135</td>\n",
       "      <td>0.1587</td>\n",
       "      <td>0.4025</td>\n",
       "    </tr>\n",
       "    <tr>\n",
       "      <th>3</th>\n",
       "      <td>1</td>\n",
       "      <td>1</td>\n",
       "      <td>ARG</td>\n",
       "      <td>Argentina</td>\n",
       "      <td>XX</td>\n",
       "      <td>U</td>\n",
       "      <td>1981</td>\n",
       "      <td>NaN</td>\n",
       "      <td>Y</td>\n",
       "      <td>3.161164</td>\n",
       "      <td>...</td>\n",
       "      <td>-1.000000</td>\n",
       "      <td>-1.00000</td>\n",
       "      <td>-1.00000</td>\n",
       "      <td>-1.00000</td>\n",
       "      <td>-1.00000</td>\n",
       "      <td>-1.00000</td>\n",
       "      <td>-1.00000</td>\n",
       "      <td>-1.0000</td>\n",
       "      <td>-1.0000</td>\n",
       "      <td>-1.0000</td>\n",
       "    </tr>\n",
       "    <tr>\n",
       "      <th>4</th>\n",
       "      <td>0</td>\n",
       "      <td>0</td>\n",
       "      <td>ARM</td>\n",
       "      <td>Armenia</td>\n",
       "      <td>XX</td>\n",
       "      <td>N</td>\n",
       "      <td>1981</td>\n",
       "      <td>1996.00</td>\n",
       "      <td>Y</td>\n",
       "      <td>165.629000</td>\n",
       "      <td>...</td>\n",
       "      <td>0.022960</td>\n",
       "      <td>0.03236</td>\n",
       "      <td>0.04186</td>\n",
       "      <td>0.05187</td>\n",
       "      <td>0.06291</td>\n",
       "      <td>0.07575</td>\n",
       "      <td>0.09185</td>\n",
       "      <td>0.1144</td>\n",
       "      <td>0.1538</td>\n",
       "      <td>0.3522</td>\n",
       "    </tr>\n",
       "  </tbody>\n",
       "</table>\n",
       "<p>5 rows × 32 columns</p>\n",
       "</div>"
      ],
      "text/plain": [
       "   isInterpolated  useMicroData CountryCode CountryName RegionCode  \\\n",
       "0               0             1         ALB     Albania         XX   \n",
       "1               0             0         DZA     Algeria         XX   \n",
       "2               0             1         AGO      Angola         XX   \n",
       "3               1             1         ARG   Argentina         XX   \n",
       "4               0             0         ARM     Armenia         XX   \n",
       "\n",
       "  CoverageType  RequestYear  DataYear DataType         PPP  ...   Decile1  \\\n",
       "0            N         1981   1996.00        X   54.652580  ...  0.038630   \n",
       "1            N         1981   1988.00        X   31.517970  ...  0.027000   \n",
       "2            N         1981   2000.21        X   80.931800  ...  0.009832   \n",
       "3            U         1981       NaN        Y    3.161164  ... -1.000000   \n",
       "4            N         1981   1996.00        Y  165.629000  ...  0.022960   \n",
       "\n",
       "   Decile2  Decile3  Decile4  Decile5  Decile6  Decile7  Decile8  Decile9  \\\n",
       "0  0.05289  0.06379  0.07322  0.08380  0.09355  0.10820   0.1247   0.1490   \n",
       "1  0.03839  0.04869  0.05868  0.06898  0.08035  0.09398   0.1124   0.1434   \n",
       "2  0.02195  0.03342  0.04495  0.05663  0.07049  0.08808   0.1135   0.1587   \n",
       "3 -1.00000 -1.00000 -1.00000 -1.00000 -1.00000 -1.00000  -1.0000  -1.0000   \n",
       "4  0.03236  0.04186  0.05187  0.06291  0.07575  0.09185   0.1144   0.1538   \n",
       "\n",
       "   Decile10  \n",
       "0    0.2122  \n",
       "1    0.3281  \n",
       "2    0.4025  \n",
       "3   -1.0000  \n",
       "4    0.3522  \n",
       "\n",
       "[5 rows x 32 columns]"
      ]
     },
     "execution_count": 5,
     "metadata": {},
     "output_type": "execute_result"
    }
   ],
   "source": [
    "s000 = pd.read_csv('../source/0000.csv')\n",
    "s000.head()"
   ]
  },
  {
   "cell_type": "markdown",
   "id": "a54f4311",
   "metadata": {},
   "source": [
    "there are 201 csv files downloaded, where the file number 0000-0200 means a poverty line defined as following: "
   ]
  },
  {
   "cell_type": "code",
   "execution_count": 6,
   "id": "534dfda9",
   "metadata": {},
   "outputs": [],
   "source": [
    "all_brackets = np.logspace(-7, 13, 201, endpoint=True, base=2)\n",
    "brackets_delta = 0.1  # it's (13 - (-7)) / 200"
   ]
  },
  {
   "cell_type": "code",
   "execution_count": 7,
   "id": "e7169259",
   "metadata": {},
   "outputs": [
    {
     "data": {
      "text/plain": [
       "0.0078125"
      ]
     },
     "execution_count": 7,
     "metadata": {},
     "output_type": "execute_result"
    }
   ],
   "source": [
    "all_brackets[0]"
   ]
  },
  {
   "cell_type": "code",
   "execution_count": 8,
   "id": "eba0a877",
   "metadata": {},
   "outputs": [
    {
     "data": {
      "text/plain": [
       "array([0.0078125])"
      ]
     },
     "execution_count": 8,
     "metadata": {},
     "output_type": "execute_result"
    }
   ],
   "source": [
    "s000['PovertyLine'].unique()"
   ]
  },
  {
   "cell_type": "code",
   "execution_count": 9,
   "id": "bf6c1802",
   "metadata": {},
   "outputs": [
    {
     "data": {
      "text/plain": [
       "8192.0"
      ]
     },
     "execution_count": 9,
     "metadata": {},
     "output_type": "execute_result"
    }
   ],
   "source": [
    "all_brackets[200]"
   ]
  },
  {
   "cell_type": "code",
   "execution_count": 10,
   "id": "ce789650",
   "metadata": {},
   "outputs": [],
   "source": [
    "def step1():\n",
    "    res = dict()\n",
    "    for f in os.listdir('../source/'):\n",
    "        if f.endswith('.csv'):\n",
    "            fn = f.split('.')[0]\n",
    "            bracket = fn.lstrip('0')\n",
    "            if bracket == '':\n",
    "                bracket = 0\n",
    "            else:\n",
    "                bracket = int(bracket)\n",
    "            res[bracket] = etllib.load_file_preprocess(os.path.join('../source/', f))\n",
    "    return res"
   ]
  },
  {
   "cell_type": "code",
   "execution_count": 11,
   "id": "520459a1",
   "metadata": {},
   "outputs": [],
   "source": [
    "res1 = step1()"
   ]
  },
  {
   "cell_type": "markdown",
   "id": "1703cbcc",
   "metadata": {},
   "source": [
    "# step 2: remove NaNs"
   ]
  },
  {
   "cell_type": "code",
   "execution_count": 12,
   "id": "20713929",
   "metadata": {},
   "outputs": [],
   "source": [
    "def step2(res1):\n",
    "    res = dict()\n",
    "    nans = set()\n",
    "    for k, df in res1.items():\n",
    "        if df['HeadCount'].hasnans:\n",
    "            idxs = df[pd.isnull(df['HeadCount'])].index.unique()\n",
    "            nans = nans.union(set(idxs))\n",
    "        res[k] = df.dropna(how='any', subset=['HeadCount'])\n",
    "    if len(nans) > 0:\n",
    "        print(\"WARNING: NaNs detected in these datapoints, dropping them\")\n",
    "        for i in nans:\n",
    "            print(i)\n",
    "    return res"
   ]
  },
  {
   "cell_type": "code",
   "execution_count": 13,
   "id": "d47e70cf",
   "metadata": {},
   "outputs": [
    {
     "name": "stdout",
     "output_type": "stream",
     "text": [
      "WARNING: NaNs detected in these datapoints, dropping them\n",
      "('IND', 2019, 'R')\n",
      "('IND', 2018, 'A')\n",
      "('IND', 2019, 'U')\n",
      "('IND', 2018, 'R')\n",
      "('IND', 2018, 'U')\n",
      "('IND', 2019, 'A')\n"
     ]
    }
   ],
   "source": [
    "res2 = step2(res1)"
   ]
  },
  {
   "cell_type": "markdown",
   "id": "461fd6d4",
   "metadata": {},
   "source": [
    "# Step 3: get bracket head count"
   ]
  },
  {
   "cell_type": "code",
   "execution_count": 14,
   "id": "4288dc5d",
   "metadata": {},
   "outputs": [],
   "source": [
    "# step3: subtract and get bracket head count, and concat them to DataFrame\n",
    "def step3(res2):\n",
    "    res3 = list()\n",
    "    for i in range(1, 201):\n",
    "        df1 = res2[i]\n",
    "        df2 = res2[i-1]\n",
    "        df3 = df1[['HeadCount']] - df2[['HeadCount']]\n",
    "        df3['bracket'] = i - 1\n",
    "        df3 = df3.set_index('bracket', append=True)\n",
    "        res3.append(df3)\n",
    "    return pd.concat(res3)"
   ]
  },
  {
   "cell_type": "code",
   "execution_count": 15,
   "id": "068adf34",
   "metadata": {},
   "outputs": [],
   "source": [
    "res3 = step3(res2)"
   ]
  },
  {
   "cell_type": "code",
   "execution_count": 16,
   "id": "6dded245",
   "metadata": {},
   "outputs": [
    {
     "data": {
      "text/html": [
       "<div>\n",
       "<style scoped>\n",
       "    .dataframe tbody tr th:only-of-type {\n",
       "        vertical-align: middle;\n",
       "    }\n",
       "\n",
       "    .dataframe tbody tr th {\n",
       "        vertical-align: top;\n",
       "    }\n",
       "\n",
       "    .dataframe thead th {\n",
       "        text-align: right;\n",
       "    }\n",
       "</style>\n",
       "<table border=\"1\" class=\"dataframe\">\n",
       "  <thead>\n",
       "    <tr style=\"text-align: right;\">\n",
       "      <th></th>\n",
       "      <th></th>\n",
       "      <th></th>\n",
       "      <th></th>\n",
       "      <th>HeadCount</th>\n",
       "    </tr>\n",
       "    <tr>\n",
       "      <th>country</th>\n",
       "      <th>year</th>\n",
       "      <th>coverage_type</th>\n",
       "      <th>bracket</th>\n",
       "      <th></th>\n",
       "    </tr>\n",
       "  </thead>\n",
       "  <tbody>\n",
       "    <tr>\n",
       "      <th>ALB</th>\n",
       "      <th>1981</th>\n",
       "      <th>N</th>\n",
       "      <th>0</th>\n",
       "      <td>0.000000e+00</td>\n",
       "    </tr>\n",
       "    <tr>\n",
       "      <th>DZA</th>\n",
       "      <th>1981</th>\n",
       "      <th>N</th>\n",
       "      <th>0</th>\n",
       "      <td>0.000000e+00</td>\n",
       "    </tr>\n",
       "    <tr>\n",
       "      <th>AGO</th>\n",
       "      <th>1981</th>\n",
       "      <th>N</th>\n",
       "      <th>0</th>\n",
       "      <td>0.000000e+00</td>\n",
       "    </tr>\n",
       "    <tr>\n",
       "      <th>ARG</th>\n",
       "      <th>1981</th>\n",
       "      <th>U</th>\n",
       "      <th>0</th>\n",
       "      <td>3.310000e-07</td>\n",
       "    </tr>\n",
       "    <tr>\n",
       "      <th>ARM</th>\n",
       "      <th>1981</th>\n",
       "      <th>N</th>\n",
       "      <th>0</th>\n",
       "      <td>2.689000e-07</td>\n",
       "    </tr>\n",
       "    <tr>\n",
       "      <th>...</th>\n",
       "      <th>...</th>\n",
       "      <th>...</th>\n",
       "      <th>...</th>\n",
       "      <td>...</td>\n",
       "    </tr>\n",
       "    <tr>\n",
       "      <th>VNM</th>\n",
       "      <th>2019</th>\n",
       "      <th>N</th>\n",
       "      <th>199</th>\n",
       "      <td>0.000000e+00</td>\n",
       "    </tr>\n",
       "    <tr>\n",
       "      <th>PSE</th>\n",
       "      <th>2019</th>\n",
       "      <th>N</th>\n",
       "      <th>199</th>\n",
       "      <td>0.000000e+00</td>\n",
       "    </tr>\n",
       "    <tr>\n",
       "      <th>YEM</th>\n",
       "      <th>2019</th>\n",
       "      <th>N</th>\n",
       "      <th>199</th>\n",
       "      <td>0.000000e+00</td>\n",
       "    </tr>\n",
       "    <tr>\n",
       "      <th>ZMB</th>\n",
       "      <th>2019</th>\n",
       "      <th>N</th>\n",
       "      <th>199</th>\n",
       "      <td>0.000000e+00</td>\n",
       "    </tr>\n",
       "    <tr>\n",
       "      <th>ZWE</th>\n",
       "      <th>2019</th>\n",
       "      <th>N</th>\n",
       "      <th>199</th>\n",
       "      <td>0.000000e+00</td>\n",
       "    </tr>\n",
       "  </tbody>\n",
       "</table>\n",
       "<p>1327800 rows × 1 columns</p>\n",
       "</div>"
      ],
      "text/plain": [
       "                                       HeadCount\n",
       "country year coverage_type bracket              \n",
       "ALB     1981 N             0        0.000000e+00\n",
       "DZA     1981 N             0        0.000000e+00\n",
       "AGO     1981 N             0        0.000000e+00\n",
       "ARG     1981 U             0        3.310000e-07\n",
       "ARM     1981 N             0        2.689000e-07\n",
       "...                                          ...\n",
       "VNM     2019 N             199      0.000000e+00\n",
       "PSE     2019 N             199      0.000000e+00\n",
       "YEM     2019 N             199      0.000000e+00\n",
       "ZMB     2019 N             199      0.000000e+00\n",
       "ZWE     2019 N             199      0.000000e+00\n",
       "\n",
       "[1327800 rows x 1 columns]"
      ]
     },
     "execution_count": 16,
     "metadata": {},
     "output_type": "execute_result"
    }
   ],
   "source": [
    "res3"
   ]
  },
  {
   "cell_type": "markdown",
   "id": "70f5e4d1",
   "metadata": {},
   "source": [
    "# step4: reduce noises"
   ]
  },
  {
   "cell_type": "code",
   "execution_count": 17,
   "id": "1d9f0fcf",
   "metadata": {},
   "outputs": [],
   "source": [
    "res3 = res3.sort_index()"
   ]
  },
  {
   "cell_type": "code",
   "execution_count": 18,
   "id": "65e55c87",
   "metadata": {},
   "outputs": [
    {
     "data": {
      "text/plain": [
       "[<matplotlib.lines.Line2D at 0x87e1fd190>]"
      ]
     },
     "execution_count": 18,
     "metadata": {},
     "output_type": "execute_result"
    },
    {
     "data": {
      "image/png": "[encoded data removed]",
      "text/plain": [
       "<Figure size 1960x1176 with 1 Axes>"
      ]
     },
     "metadata": {
      "needs_background": "light"
     },
     "output_type": "display_data"
    }
   ],
   "source": [
    "plt.plot(res3.loc[('DEU', 2015, 'N')])"
   ]
  },
  {
   "cell_type": "code",
   "execution_count": 19,
   "id": "b97c9000",
   "metadata": {},
   "outputs": [],
   "source": [
    "# step4: reduce noises\n",
    "def step4(res3):\n",
    "    res4 = list()\n",
    "    gs = res3.groupby(['country', 'year', 'coverage_type'])\n",
    "    for g in gs.groups.keys():\n",
    "        df = gs.get_group(g)\n",
    "        s = df['HeadCount'].copy()\n",
    "        todrop = set()\n",
    "        if np.any(s < 0):  # if negative values exists\n",
    "            where = np.where(s < 0)[0]\n",
    "            for w in where:\n",
    "                if w != 199:\n",
    "                    todrop.add(w+1)\n",
    "                if w != 0:\n",
    "                    todrop.add(w-1)\n",
    "                todrop.add(w)\n",
    "            s.iloc[list(todrop)] = np.nan\n",
    "            res4.append(s)\n",
    "        else:\n",
    "            res4.append(s)\n",
    "    return pd.concat(res4)"
   ]
  },
  {
   "cell_type": "code",
   "execution_count": null,
   "id": "0a0c3800",
   "metadata": {},
   "outputs": [],
   "source": []
  },
  {
   "cell_type": "code",
   "execution_count": 20,
   "id": "12e8da1b",
   "metadata": {},
   "outputs": [],
   "source": [
    "res4 = step4(res3)"
   ]
  },
  {
   "cell_type": "code",
   "execution_count": 21,
   "id": "fbe9dd6b",
   "metadata": {},
   "outputs": [],
   "source": [
    "res4 = res4.sort_index()  # TODO: see if we can skip this step and not producing the unsorted warning"
   ]
  },
  {
   "cell_type": "code",
   "execution_count": 22,
   "id": "339acda3",
   "metadata": {},
   "outputs": [
    {
     "data": {
      "text/plain": [
       "[<matplotlib.lines.Line2D at 0x8803d8580>]"
      ]
     },
     "execution_count": 22,
     "metadata": {},
     "output_type": "execute_result"
    },
    {
     "data": {
      "image/png": "[encoded data removed]",
      "text/plain": [
       "<Figure size 1960x1176 with 1 Axes>"
      ]
     },
     "metadata": {
      "needs_background": "light"
     },
     "output_type": "display_data"
    }
   ],
   "source": [
    "plt.plot(res4.loc[('DEU', 2015, 'N')])"
   ]
  },
  {
   "cell_type": "code",
   "execution_count": null,
   "id": "f4421fa8",
   "metadata": {},
   "outputs": [],
   "source": []
  },
  {
   "cell_type": "markdown",
   "id": "fe1ff240",
   "metadata": {},
   "source": [
    "# step5: get smoothed shape, ensure the shape sum up to 100%\n",
    "\n",
    "TODO: add link to smoothing method doc"
   ]
  },
  {
   "cell_type": "code",
   "execution_count": 23,
   "id": "f9c5b39f",
   "metadata": {},
   "outputs": [],
   "source": [
    "def func(x):\n",
    "    \"\"\"function to smooth a series\"\"\"\n",
    "    run_smooth = smoothlib.run_smooth\n",
    "    if x.hasnans:\n",
    "        # interpolate curve if theree are nans\n",
    "        x = x.interpolate()\n",
    "        # if first value is nan, it won't be interpolated. we fill 0\n",
    "        if pd.isnull(x.iloc[0]):\n",
    "            x = x.fillna(0)\n",
    "    # run smoothing, based on standard deviation\n",
    "    std = x.std()\n",
    "    if std < 0.010:\n",
    "        res = run_smooth(x, 20, 6)\n",
    "        res = run_smooth(res, 16, 2)\n",
    "        res = run_smooth(res, 16, 1)\n",
    "        res = run_smooth(res, 10, 1)\n",
    "        res = run_smooth(res, 10, 0)\n",
    "    elif std < 0.012:\n",
    "        res = run_smooth(x, 20, 3)\n",
    "        res = run_smooth(res, 16, 2)\n",
    "        res = run_smooth(res, 16, 1)\n",
    "        res = run_smooth(res, 10, 0)\n",
    "        res = run_smooth(res, 8, 0)\n",
    "    else:\n",
    "        res = run_smooth(x, 20, 1)\n",
    "        res = run_smooth(res, 16, 1)\n",
    "        res = run_smooth(res, 16, 0)\n",
    "        res = run_smooth(res, 10, 0)\n",
    "        res = run_smooth(res, 8, 0)\n",
    "    # also, make sure it will sum up to 100%\n",
    "    if res.min() < 0:\n",
    "        res = res - res.min()\n",
    "    res = res / res.sum()\n",
    "    return res"
   ]
  },
  {
   "cell_type": "code",
   "execution_count": 24,
   "id": "50540923",
   "metadata": {},
   "outputs": [],
   "source": [
    "import warnings"
   ]
  },
  {
   "cell_type": "code",
   "execution_count": 25,
   "id": "135ad3c7",
   "metadata": {},
   "outputs": [],
   "source": [
    "def process(ser):\n",
    "    idx = ser.index\n",
    "    try:\n",
    "        with warnings.catch_warnings(record=True) as w:\n",
    "            s_new = func(ser)\n",
    "            s_new.index = idx\n",
    "            if len(w) > 0:\n",
    "                print(idx[0], w[-1].category)\n",
    "    except KeyboardInterrupt:\n",
    "        raise\n",
    "    except:\n",
    "        print(idx[0])\n",
    "        return pd.Series([], dtype=float)\n",
    "    return s_new"
   ]
  },
  {
   "cell_type": "code",
   "execution_count": 26,
   "id": "6d90c1c2",
   "metadata": {},
   "outputs": [],
   "source": [
    "from multiprocessing import Pool"
   ]
  },
  {
   "cell_type": "code",
   "execution_count": 27,
   "id": "3572186e",
   "metadata": {},
   "outputs": [],
   "source": [
    "POOLSIZE = 11\n",
    "\n",
    "def step5(res4):\n",
    "    gs = res4.groupby(['country', 'year', 'coverage_type'])\n",
    "    to_smooth = list()\n",
    "    for g, df in gs:\n",
    "        to_smooth.append(df)\n",
    "    print(len(to_smooth))\n",
    "    with Pool(POOLSIZE) as p:\n",
    "        res5 = p.map(process, to_smooth)\n",
    "    return pd.concat(res5)"
   ]
  },
  {
   "cell_type": "code",
   "execution_count": 28,
   "id": "c2bda50e",
   "metadata": {},
   "outputs": [
    {
     "name": "stdout",
     "output_type": "stream",
     "text": [
      "6639\n",
      "('ARM', 2003, 'N', 0) <class 'scipy.optimize.optimize.OptimizeWarning'>\n",
      "('AUS', 2009, 'N', 0) <class 'scipy.optimize.optimize.OptimizeWarning'>\n",
      "('BGR', 1995, 'N', 0) <class 'scipy.optimize.optimize.OptimizeWarning'>\n",
      "('AUS', 2012, 'N', 0) <class 'scipy.optimize.optimize.OptimizeWarning'>\n",
      "('CAN', 1987, 'N', 0) <class 'scipy.optimize.optimize.OptimizeWarning'>\n",
      "('FRA', 1995, 'N', 0) <class 'scipy.optimize.optimize.OptimizeWarning'>\n",
      "('IND', 2010, 'R', 0) <class 'scipy.optimize.optimize.OptimizeWarning'>\n",
      "('NLD', 1993, 'N', 0) <class 'scipy.optimize.optimize.OptimizeWarning'>\n",
      "('NOR', 1996, 'N', 0) <class 'scipy.optimize.optimize.OptimizeWarning'>\n",
      "('RUS', 2015, 'N', 0) <class 'scipy.optimize.optimize.OptimizeWarning'>\n"
     ]
    }
   ],
   "source": [
    "res5 = step5(res4)"
   ]
  },
  {
   "cell_type": "code",
   "execution_count": 29,
   "id": "c2acf9e5",
   "metadata": {},
   "outputs": [
    {
     "data": {
      "text/plain": [
       "country  year  coverage_type  bracket\n",
       "AGO      1981  N              0          7.153827e-06\n",
       "                              1          8.619550e-06\n",
       "                              2          1.029801e-05\n",
       "                              3          1.214019e-05\n",
       "                              4          1.423205e-05\n",
       "                                             ...     \n",
       "ZWE      2019  N              195        1.402410e-07\n",
       "                              196        1.090947e-07\n",
       "                              197        8.406808e-08\n",
       "                              198        6.417809e-08\n",
       "                              199        4.857008e-08\n",
       "Length: 1327800, dtype: float64"
      ]
     },
     "execution_count": 29,
     "metadata": {},
     "output_type": "execute_result"
    }
   ],
   "source": [
    "res5"
   ]
  },
  {
   "cell_type": "code",
   "execution_count": 36,
   "id": "95e28b08",
   "metadata": {},
   "outputs": [
    {
     "data": {
      "text/plain": [
       "[<matplotlib.lines.Line2D at 0x87e280a00>]"
      ]
     },
     "execution_count": 36,
     "metadata": {},
     "output_type": "execute_result"
    },
    {
     "data": {
      "image/png": "[encoded data removed]",
      "text/plain": [
       "<Figure size 1960x1176 with 1 Axes>"
      ]
     },
     "metadata": {
      "needs_background": "light"
     },
     "output_type": "display_data"
    }
   ],
   "source": [
    "# check warnings\n",
    "\n",
    "i = ('RUS', 2015, 'N')\n",
    "\n",
    "plt.plot(res4.loc[i])\n",
    "plt.plot(res5.loc[i])"
   ]
  },
  {
   "cell_type": "code",
   "execution_count": null,
   "id": "48a8eba1",
   "metadata": {},
   "outputs": [],
   "source": [
    "# since the smoothed shapes look good for these datapoints, I think we can safely ignore these warnings."
   ]
  },
  {
   "cell_type": "code",
   "execution_count": null,
   "id": "ca765068",
   "metadata": {},
   "outputs": [],
   "source": []
  },
  {
   "cell_type": "markdown",
   "id": "8a61ad94",
   "metadata": {},
   "source": [
    "# step6: renaming and make it DDF valid\n",
    "also change xkx to kos for country, to align with open-numbers namespace. xkx/kos is the only difference between wb country entities and open-numbers country entities"
   ]
  },
  {
   "cell_type": "code",
   "execution_count": 37,
   "id": "d57b135b",
   "metadata": {},
   "outputs": [],
   "source": [
    "def step6(res5):\n",
    "    res6 = res5.copy()\n",
    "    res6.name = 'population_percentage'\n",
    "    res6 = res6.reset_index()\n",
    "    res6['country'] = res6['country'].map(str.lower)\n",
    "    res6['country'] = res6['country'].replace({'xkx': 'kos'})\n",
    "    res6['coverage_type'] = res6['coverage_type'].map(str.lower)\n",
    "    return res6.set_index(['country', 'year', 'coverage_type'])"
   ]
  },
  {
   "cell_type": "code",
   "execution_count": 38,
   "id": "d375bd8f",
   "metadata": {},
   "outputs": [],
   "source": [
    "res6 = step6(res5)"
   ]
  },
  {
   "cell_type": "code",
   "execution_count": 39,
   "id": "c526de4f",
   "metadata": {},
   "outputs": [
    {
     "data": {
      "text/html": [
       "<div>\n",
       "<style scoped>\n",
       "    .dataframe tbody tr th:only-of-type {\n",
       "        vertical-align: middle;\n",
       "    }\n",
       "\n",
       "    .dataframe tbody tr th {\n",
       "        vertical-align: top;\n",
       "    }\n",
       "\n",
       "    .dataframe thead th {\n",
       "        text-align: right;\n",
       "    }\n",
       "</style>\n",
       "<table border=\"1\" class=\"dataframe\">\n",
       "  <thead>\n",
       "    <tr style=\"text-align: right;\">\n",
       "      <th></th>\n",
       "      <th></th>\n",
       "      <th></th>\n",
       "      <th>bracket</th>\n",
       "      <th>population_percentage</th>\n",
       "    </tr>\n",
       "    <tr>\n",
       "      <th>country</th>\n",
       "      <th>year</th>\n",
       "      <th>coverage_type</th>\n",
       "      <th></th>\n",
       "      <th></th>\n",
       "    </tr>\n",
       "  </thead>\n",
       "  <tbody>\n",
       "    <tr>\n",
       "      <th rowspan=\"5\" valign=\"top\">ago</th>\n",
       "      <th rowspan=\"5\" valign=\"top\">1981</th>\n",
       "      <th>n</th>\n",
       "      <td>0</td>\n",
       "      <td>7.153827e-06</td>\n",
       "    </tr>\n",
       "    <tr>\n",
       "      <th>n</th>\n",
       "      <td>1</td>\n",
       "      <td>8.619550e-06</td>\n",
       "    </tr>\n",
       "    <tr>\n",
       "      <th>n</th>\n",
       "      <td>2</td>\n",
       "      <td>1.029801e-05</td>\n",
       "    </tr>\n",
       "    <tr>\n",
       "      <th>n</th>\n",
       "      <td>3</td>\n",
       "      <td>1.214019e-05</td>\n",
       "    </tr>\n",
       "    <tr>\n",
       "      <th>n</th>\n",
       "      <td>4</td>\n",
       "      <td>1.423205e-05</td>\n",
       "    </tr>\n",
       "    <tr>\n",
       "      <th>...</th>\n",
       "      <th>...</th>\n",
       "      <th>...</th>\n",
       "      <td>...</td>\n",
       "      <td>...</td>\n",
       "    </tr>\n",
       "    <tr>\n",
       "      <th rowspan=\"5\" valign=\"top\">zwe</th>\n",
       "      <th rowspan=\"5\" valign=\"top\">2019</th>\n",
       "      <th>n</th>\n",
       "      <td>195</td>\n",
       "      <td>1.402410e-07</td>\n",
       "    </tr>\n",
       "    <tr>\n",
       "      <th>n</th>\n",
       "      <td>196</td>\n",
       "      <td>1.090947e-07</td>\n",
       "    </tr>\n",
       "    <tr>\n",
       "      <th>n</th>\n",
       "      <td>197</td>\n",
       "      <td>8.406808e-08</td>\n",
       "    </tr>\n",
       "    <tr>\n",
       "      <th>n</th>\n",
       "      <td>198</td>\n",
       "      <td>6.417809e-08</td>\n",
       "    </tr>\n",
       "    <tr>\n",
       "      <th>n</th>\n",
       "      <td>199</td>\n",
       "      <td>4.857008e-08</td>\n",
       "    </tr>\n",
       "  </tbody>\n",
       "</table>\n",
       "<p>1327800 rows × 2 columns</p>\n",
       "</div>"
      ],
      "text/plain": [
       "                            bracket  population_percentage\n",
       "country year coverage_type                                \n",
       "ago     1981 n                    0           7.153827e-06\n",
       "             n                    1           8.619550e-06\n",
       "             n                    2           1.029801e-05\n",
       "             n                    3           1.214019e-05\n",
       "             n                    4           1.423205e-05\n",
       "...                             ...                    ...\n",
       "zwe     2019 n                  195           1.402410e-07\n",
       "             n                  196           1.090947e-07\n",
       "             n                  197           8.406808e-08\n",
       "             n                  198           6.417809e-08\n",
       "             n                  199           4.857008e-08\n",
       "\n",
       "[1327800 rows x 2 columns]"
      ]
     },
     "execution_count": 39,
     "metadata": {},
     "output_type": "execute_result"
    }
   ],
   "source": [
    "res6"
   ]
  },
  {
   "cell_type": "code",
   "execution_count": null,
   "id": "1cbb56e0",
   "metadata": {},
   "outputs": [],
   "source": []
  },
  {
   "cell_type": "code",
   "execution_count": 40,
   "id": "e4dc38f4",
   "metadata": {},
   "outputs": [
    {
     "data": {
      "text/plain": [
       "array([200,   0])"
      ]
     },
     "execution_count": 40,
     "metadata": {},
     "output_type": "execute_result"
    }
   ],
   "source": [
    "res6.groupby(['country', 'year', 'coverage_type']).count()['bracket'].unique()"
   ]
  },
  {
   "cell_type": "code",
   "execution_count": null,
   "id": "fe45f52d",
   "metadata": {},
   "outputs": [],
   "source": []
  },
  {
   "cell_type": "code",
   "execution_count": 41,
   "id": "2ea38b6a",
   "metadata": {},
   "outputs": [],
   "source": [
    "# create a list of all avaliable povcal shapes, which is required in neighbours calculation\n",
    "povcal_country_year = res6.reset_index()[['country', 'year']].drop_duplicates()"
   ]
  },
  {
   "cell_type": "code",
   "execution_count": 43,
   "id": "ebd861fa",
   "metadata": {},
   "outputs": [],
   "source": [
    "povcal_country_year.to_csv('../source/fixtures/povcal_country_year.csv', index=False)"
   ]
  },
  {
   "cell_type": "code",
   "execution_count": null,
   "id": "a0f9ed0b",
   "metadata": {},
   "outputs": [],
   "source": []
  },
  {
   "cell_type": "markdown",
   "id": "84c9ad5e",
   "metadata": {},
   "source": [
    "# step7: change bracket numbers\n",
    "\n",
    "when we merge shapes, we want to align the shapes by mean income\n",
    "\n",
    "so we should change bracket numbers so that the mean income bracket is 0\n",
    "\n",
    "income data comes from fasttrack"
   ]
  },
  {
   "cell_type": "code",
   "execution_count": 44,
   "id": "6c02f998",
   "metadata": {},
   "outputs": [],
   "source": [
    "income_file = '../../../ddf--gapminder--fasttrack/ddf--datapoints--mincpcap_cppp--by--country--time.csv'"
   ]
  },
  {
   "cell_type": "code",
   "execution_count": 45,
   "id": "cd38a3aa",
   "metadata": {},
   "outputs": [],
   "source": [
    "def step7(df):\n",
    "    income = pd.read_csv(income_file).set_index(['country', 'time'])\n",
    "    income.index.names = ['country', 'year']\n",
    "    income.columns = ['income']\n",
    "\n",
    "    res = list()\n",
    "    gs = df.groupby(['country', 'year', 'coverage_type'])\n",
    "    for g, gdf in gs:\n",
    "        df_ = gdf.copy()\n",
    "        g_ = (g[0], g[1])\n",
    "        try:\n",
    "            m = income.loc[g_, 'income']\n",
    "        except KeyError:\n",
    "            print(f\"missing: {g_}\")\n",
    "            continue\n",
    "        b = etllib.bracket_number_from_income(m)\n",
    "        df_['bracket'] = df_['bracket'] - b\n",
    "        res.append(df_)\n",
    "\n",
    "    return pd.concat(res)"
   ]
  },
  {
   "cell_type": "code",
   "execution_count": 46,
   "id": "73271fe3",
   "metadata": {},
   "outputs": [
    {
     "name": "stdout",
     "output_type": "stream",
     "text": [
      "missing: ('kos', 2000)\n",
      "missing: ('kos', 2001)\n",
      "missing: ('kos', 2002)\n",
      "missing: ('kos', 2003)\n",
      "missing: ('kos', 2004)\n",
      "missing: ('kos', 2005)\n",
      "missing: ('kos', 2006)\n",
      "missing: ('kos', 2007)\n",
      "missing: ('kos', 2008)\n",
      "missing: ('kos', 2009)\n",
      "missing: ('kos', 2010)\n",
      "missing: ('kos', 2011)\n",
      "missing: ('kos', 2012)\n",
      "missing: ('kos', 2013)\n",
      "missing: ('kos', 2014)\n",
      "missing: ('kos', 2015)\n",
      "missing: ('kos', 2016)\n",
      "missing: ('kos', 2017)\n",
      "missing: ('kos', 2018)\n",
      "missing: ('kos', 2019)\n"
     ]
    }
   ],
   "source": [
    "res7 = step7(res6)"
   ]
  },
  {
   "cell_type": "code",
   "execution_count": 47,
   "id": "3e2559c6",
   "metadata": {},
   "outputs": [
    {
     "data": {
      "text/html": [
       "<div>\n",
       "<style scoped>\n",
       "    .dataframe tbody tr th:only-of-type {\n",
       "        vertical-align: middle;\n",
       "    }\n",
       "\n",
       "    .dataframe tbody tr th {\n",
       "        vertical-align: top;\n",
       "    }\n",
       "\n",
       "    .dataframe thead th {\n",
       "        text-align: right;\n",
       "    }\n",
       "</style>\n",
       "<table border=\"1\" class=\"dataframe\">\n",
       "  <thead>\n",
       "    <tr style=\"text-align: right;\">\n",
       "      <th></th>\n",
       "      <th></th>\n",
       "      <th></th>\n",
       "      <th>bracket</th>\n",
       "      <th>population_percentage</th>\n",
       "    </tr>\n",
       "    <tr>\n",
       "      <th>country</th>\n",
       "      <th>year</th>\n",
       "      <th>coverage_type</th>\n",
       "      <th></th>\n",
       "      <th></th>\n",
       "    </tr>\n",
       "  </thead>\n",
       "  <tbody>\n",
       "    <tr>\n",
       "      <th rowspan=\"5\" valign=\"top\">ago</th>\n",
       "      <th rowspan=\"5\" valign=\"top\">1981</th>\n",
       "      <th>n</th>\n",
       "      <td>-94</td>\n",
       "      <td>7.153827e-06</td>\n",
       "    </tr>\n",
       "    <tr>\n",
       "      <th>n</th>\n",
       "      <td>-93</td>\n",
       "      <td>8.619550e-06</td>\n",
       "    </tr>\n",
       "    <tr>\n",
       "      <th>n</th>\n",
       "      <td>-92</td>\n",
       "      <td>1.029801e-05</td>\n",
       "    </tr>\n",
       "    <tr>\n",
       "      <th>n</th>\n",
       "      <td>-91</td>\n",
       "      <td>1.214019e-05</td>\n",
       "    </tr>\n",
       "    <tr>\n",
       "      <th>n</th>\n",
       "      <td>-90</td>\n",
       "      <td>1.423205e-05</td>\n",
       "    </tr>\n",
       "    <tr>\n",
       "      <th>...</th>\n",
       "      <th>...</th>\n",
       "      <th>...</th>\n",
       "      <td>...</td>\n",
       "      <td>...</td>\n",
       "    </tr>\n",
       "    <tr>\n",
       "      <th rowspan=\"5\" valign=\"top\">zwe</th>\n",
       "      <th rowspan=\"5\" valign=\"top\">2019</th>\n",
       "      <th>n</th>\n",
       "      <td>105</td>\n",
       "      <td>1.402410e-07</td>\n",
       "    </tr>\n",
       "    <tr>\n",
       "      <th>n</th>\n",
       "      <td>106</td>\n",
       "      <td>1.090947e-07</td>\n",
       "    </tr>\n",
       "    <tr>\n",
       "      <th>n</th>\n",
       "      <td>107</td>\n",
       "      <td>8.406808e-08</td>\n",
       "    </tr>\n",
       "    <tr>\n",
       "      <th>n</th>\n",
       "      <td>108</td>\n",
       "      <td>6.417809e-08</td>\n",
       "    </tr>\n",
       "    <tr>\n",
       "      <th>n</th>\n",
       "      <td>109</td>\n",
       "      <td>4.857008e-08</td>\n",
       "    </tr>\n",
       "  </tbody>\n",
       "</table>\n",
       "<p>1323800 rows × 2 columns</p>\n",
       "</div>"
      ],
      "text/plain": [
       "                            bracket  population_percentage\n",
       "country year coverage_type                                \n",
       "ago     1981 n                  -94           7.153827e-06\n",
       "             n                  -93           8.619550e-06\n",
       "             n                  -92           1.029801e-05\n",
       "             n                  -91           1.214019e-05\n",
       "             n                  -90           1.423205e-05\n",
       "...                             ...                    ...\n",
       "zwe     2019 n                  105           1.402410e-07\n",
       "             n                  106           1.090947e-07\n",
       "             n                  107           8.406808e-08\n",
       "             n                  108           6.417809e-08\n",
       "             n                  109           4.857008e-08\n",
       "\n",
       "[1323800 rows x 2 columns]"
      ]
     },
     "execution_count": 47,
     "metadata": {},
     "output_type": "execute_result"
    }
   ],
   "source": [
    "res7"
   ]
  },
  {
   "cell_type": "markdown",
   "id": "b8f346af",
   "metadata": {},
   "source": [
    "# step 8: mixing shapes\n",
    "\n",
    "we pre-computed neighbours, check the other notebook for process to compute neighbours\n",
    "\n",
    "- 8.1 create estimate shapes\n",
    "- 8.2 create shapes for povcal period\n",
    "- 8.3 merge all results"
   ]
  },
  {
   "cell_type": "code",
   "execution_count": 48,
   "id": "fe9f84cf",
   "metadata": {},
   "outputs": [],
   "source": [
    "import json\n",
    "from functools import partial"
   ]
  },
  {
   "cell_type": "code",
   "execution_count": 53,
   "id": "a3755a80",
   "metadata": {},
   "outputs": [],
   "source": [
    "fp = open('../source/fixtures/neighbours_list.json', 'r')\n",
    "all_neighbours_json = json.load(fp)"
   ]
  },
  {
   "cell_type": "code",
   "execution_count": 54,
   "id": "190ffda2",
   "metadata": {},
   "outputs": [],
   "source": [
    "income_file = '../../../ddf--gapminder--fasttrack/ddf--datapoints--mincpcap_cppp--by--country--time.csv'\n",
    "gini_file =  '../../../ddf--gapminder--fasttrack/ddf--datapoints--gini--by--country--time.csv'\n",
    "\n",
    "income = pd.read_csv(income_file).set_index(['country', 'time'])\n",
    "gini = pd.read_csv(gini_file).set_index(['country', 'time'])\n",
    "\n",
    "income.index.names = ['country', 'year']\n",
    "gini.index.names = ['country', 'year']\n",
    "\n",
    "income.columns = ['income']\n",
    "gini.columns = ['gini']"
   ]
  },
  {
   "cell_type": "code",
   "execution_count": 55,
   "id": "891bde72",
   "metadata": {},
   "outputs": [],
   "source": [
    "income_gini = pd.concat([income, gini], axis=1)\n",
    "income_gini = income_gini.dropna(how='any').sort_index()"
   ]
  },
  {
   "cell_type": "code",
   "execution_count": 56,
   "id": "9e7e4790",
   "metadata": {},
   "outputs": [],
   "source": [
    "known_shapes = res7.copy()\n",
    "shapes_noc = known_shapes.set_index(['bracket'], append=True)"
   ]
  },
  {
   "cell_type": "code",
   "execution_count": 57,
   "id": "93826d5f",
   "metadata": {},
   "outputs": [
    {
     "data": {
      "text/html": [
       "<div>\n",
       "<style scoped>\n",
       "    .dataframe tbody tr th:only-of-type {\n",
       "        vertical-align: middle;\n",
       "    }\n",
       "\n",
       "    .dataframe tbody tr th {\n",
       "        vertical-align: top;\n",
       "    }\n",
       "\n",
       "    .dataframe thead th {\n",
       "        text-align: right;\n",
       "    }\n",
       "</style>\n",
       "<table border=\"1\" class=\"dataframe\">\n",
       "  <thead>\n",
       "    <tr style=\"text-align: right;\">\n",
       "      <th></th>\n",
       "      <th></th>\n",
       "      <th></th>\n",
       "      <th></th>\n",
       "      <th>population_percentage</th>\n",
       "    </tr>\n",
       "    <tr>\n",
       "      <th>country</th>\n",
       "      <th>year</th>\n",
       "      <th>coverage_type</th>\n",
       "      <th>bracket</th>\n",
       "      <th></th>\n",
       "    </tr>\n",
       "  </thead>\n",
       "  <tbody>\n",
       "    <tr>\n",
       "      <th rowspan=\"5\" valign=\"top\">ago</th>\n",
       "      <th rowspan=\"5\" valign=\"top\">1981</th>\n",
       "      <th rowspan=\"5\" valign=\"top\">n</th>\n",
       "      <th>-94</th>\n",
       "      <td>7.153827e-06</td>\n",
       "    </tr>\n",
       "    <tr>\n",
       "      <th>-93</th>\n",
       "      <td>8.619550e-06</td>\n",
       "    </tr>\n",
       "    <tr>\n",
       "      <th>-92</th>\n",
       "      <td>1.029801e-05</td>\n",
       "    </tr>\n",
       "    <tr>\n",
       "      <th>-91</th>\n",
       "      <td>1.214019e-05</td>\n",
       "    </tr>\n",
       "    <tr>\n",
       "      <th>-90</th>\n",
       "      <td>1.423205e-05</td>\n",
       "    </tr>\n",
       "    <tr>\n",
       "      <th>...</th>\n",
       "      <th>...</th>\n",
       "      <th>...</th>\n",
       "      <th>...</th>\n",
       "      <td>...</td>\n",
       "    </tr>\n",
       "    <tr>\n",
       "      <th rowspan=\"5\" valign=\"top\">zwe</th>\n",
       "      <th rowspan=\"5\" valign=\"top\">2019</th>\n",
       "      <th rowspan=\"5\" valign=\"top\">n</th>\n",
       "      <th>105</th>\n",
       "      <td>1.402410e-07</td>\n",
       "    </tr>\n",
       "    <tr>\n",
       "      <th>106</th>\n",
       "      <td>1.090947e-07</td>\n",
       "    </tr>\n",
       "    <tr>\n",
       "      <th>107</th>\n",
       "      <td>8.406808e-08</td>\n",
       "    </tr>\n",
       "    <tr>\n",
       "      <th>108</th>\n",
       "      <td>6.417809e-08</td>\n",
       "    </tr>\n",
       "    <tr>\n",
       "      <th>109</th>\n",
       "      <td>4.857008e-08</td>\n",
       "    </tr>\n",
       "  </tbody>\n",
       "</table>\n",
       "<p>1323800 rows × 1 columns</p>\n",
       "</div>"
      ],
      "text/plain": [
       "                                    population_percentage\n",
       "country year coverage_type bracket                       \n",
       "ago     1981 n             -94               7.153827e-06\n",
       "                           -93               8.619550e-06\n",
       "                           -92               1.029801e-05\n",
       "                           -91               1.214019e-05\n",
       "                           -90               1.423205e-05\n",
       "...                                                   ...\n",
       "zwe     2019 n              105              1.402410e-07\n",
       "                            106              1.090947e-07\n",
       "                            107              8.406808e-08\n",
       "                            108              6.417809e-08\n",
       "                            109              4.857008e-08\n",
       "\n",
       "[1323800 rows x 1 columns]"
      ]
     },
     "execution_count": 57,
     "metadata": {},
     "output_type": "execute_result"
    }
   ],
   "source": [
    "shapes_noc"
   ]
  },
  {
   "cell_type": "code",
   "execution_count": 43,
   "id": "f224907a",
   "metadata": {},
   "outputs": [],
   "source": [
    "def applyfunc(ser):\n",
    "    ct = ser.index.get_level_values('coverage_type')\n",
    "    for c in 'naur':\n",
    "        if c in ct:\n",
    "            return ser[ct == c]['population_percentage']"
   ]
  },
  {
   "cell_type": "code",
   "execution_count": 44,
   "id": "4ce05280",
   "metadata": {},
   "outputs": [],
   "source": [
    "shapes_noc2 = shapes_noc.groupby(['country', 'year'], as_index=False).apply(applyfunc)\n",
    "shapes_noc2 = shapes_noc2.reset_index(level=0, drop=True).sort_index()"
   ]
  },
  {
   "cell_type": "code",
   "execution_count": 45,
   "id": "f9e0a22c",
   "metadata": {},
   "outputs": [],
   "source": [
    "shapes_noc2 = shapes_noc2.reset_index('coverage_type', drop=True)"
   ]
  },
  {
   "cell_type": "code",
   "execution_count": 46,
   "id": "753f62d2",
   "metadata": {},
   "outputs": [
    {
     "data": {
      "text/plain": [
       "country  year  bracket\n",
       "ago      1981  -94        7.153827e-06\n",
       "               -93        8.619550e-06\n",
       "               -92        1.029801e-05\n",
       "               -91        1.214019e-05\n",
       "               -90        1.423205e-05\n",
       "                              ...     \n",
       "zwe      2019   105       1.402410e-07\n",
       "                106       1.090947e-07\n",
       "                107       8.406808e-08\n",
       "                108       6.417809e-08\n",
       "                109       4.857008e-08\n",
       "Name: population_percentage, Length: 1277800, dtype: float64"
      ]
     },
     "execution_count": 46,
     "metadata": {},
     "output_type": "execute_result"
    }
   ],
   "source": [
    "shapes_noc2"
   ]
  },
  {
   "cell_type": "code",
   "execution_count": null,
   "id": "d77653f1",
   "metadata": {},
   "outputs": [],
   "source": []
  },
  {
   "cell_type": "code",
   "execution_count": 47,
   "id": "43fe6403",
   "metadata": {},
   "outputs": [],
   "source": [
    "get_estimated_mountain = shapeslib.get_estimated_mountain\n",
    "shape_to_mountain = shapeslib.shape_to_mountain\n",
    "get_average_shape2 = shapeslib.get_average_shape2\n",
    "get_income_gini = shapeslib.get_income_gini\n",
    "\n",
    "bracket_number_from_income = etllib.bracket_number_from_income"
   ]
  },
  {
   "cell_type": "code",
   "execution_count": null,
   "id": "16a6c54c",
   "metadata": {},
   "outputs": [],
   "source": []
  },
  {
   "cell_type": "code",
   "execution_count": 48,
   "id": "ca3b424e",
   "metadata": {
    "scrolled": true
   },
   "outputs": [
    {
     "name": "stdout",
     "output_type": "stream",
     "text": [
      "afg not available in povcal\n",
      "and not available in povcal\n",
      "atg not available in povcal\n",
      "bhr not available in povcal\n",
      "bhs not available in povcal\n",
      "brb not available in povcal\n",
      "brn not available in povcal\n",
      "cub not available in povcal\n",
      "dma not available in povcal\n",
      "eri not available in povcal\n",
      "gnq not available in povcal\n",
      "grd not available in povcal\n",
      "hkg not available in povcal\n",
      "khm not available in povcal\n",
      "kna not available in povcal\n",
      "kwt not available in povcal\n",
      "lby not available in povcal\n",
      "mco not available in povcal\n",
      "mhl not available in povcal\n",
      "nzl not available in povcal\n",
      "omn not available in povcal\n",
      "plw not available in povcal\n",
      "prk not available in povcal\n",
      "qat not available in povcal\n",
      "sau not available in povcal\n",
      "sgp not available in povcal\n",
      "smr not available in povcal\n",
      "vct not available in povcal\n"
     ]
    }
   ],
   "source": [
    "unknown_list = list()\n",
    "\n",
    "all_countries = income_gini.index.get_level_values(0).unique()\n",
    "known_countries = shapes_noc.index.get_level_values(0).unique()\n",
    "\n",
    "for country in all_countries:\n",
    "    if country not in known_countries:\n",
    "        unknown_list.append(country)\n",
    "        print(f'{country} not available in povcal')"
   ]
  },
  {
   "cell_type": "code",
   "execution_count": 95,
   "id": "55a0e4d6",
   "metadata": {},
   "outputs": [],
   "source": [
    "known_list = known_shapes.index.droplevel('coverage_type').values.tolist()"
   ]
  },
  {
   "cell_type": "code",
   "execution_count": 50,
   "id": "3a1e11a5",
   "metadata": {},
   "outputs": [],
   "source": [
    "all_country_year = list(zip(shapes_noc2.index.get_level_values(0), shapes_noc2.index.get_level_values(1)))\n",
    "all_country_year = pd.Series(all_country_year, index=shapes_noc2.index)"
   ]
  },
  {
   "cell_type": "code",
   "execution_count": 51,
   "id": "ed0532e7",
   "metadata": {},
   "outputs": [],
   "source": [
    "def fix_column_names(k, df):\n",
    "    country, year = k\n",
    "    # print(country, year)\n",
    "    df.index.name = 'bracket'\n",
    "    df.name = 'income_mountain'\n",
    "    df = df.reset_index()\n",
    "    df['country'] = country\n",
    "    df['year'] = year\n",
    "    df = df.set_index(['country', 'year', 'bracket'])\n",
    "    return df"
   ]
  },
  {
   "cell_type": "code",
   "execution_count": 52,
   "id": "fc30870d",
   "metadata": {},
   "outputs": [],
   "source": [
    "def process(i, skip_list, shape_known_list):\n",
    "    country, year = i\n",
    "    if country in unknown_list: \n",
    "        # only use Average Shapes\n",
    "        income, _ = get_income_gini(i, income_gini)\n",
    "        average_shape = get_average_shape2(country, year, shapes_noc2, all_country_year, all_neighbours_json)\n",
    "        res = shape_to_mountain(average_shape, income)\n",
    "        return fix_column_names(i, res)\n",
    "    if i not in shape_known_list:\n",
    "        income, _ = get_income_gini(i, income_gini)\n",
    "        res = get_estimated_mountain(i, income, shapes_noc2, all_country_year, all_neighbours_json)\n",
    "        # res = shapeslib.get_estimated_mountain(i, shapes, income_gini, resample=False) \n",
    "        return fix_column_names(i, res)"
   ]
  },
  {
   "cell_type": "code",
   "execution_count": 101,
   "id": "2a6a9082",
   "metadata": {},
   "outputs": [],
   "source": [
    "run = partial(process, skip_list=unknown_list, shape_known_list=known_list)"
   ]
  },
  {
   "cell_type": "code",
   "execution_count": 102,
   "id": "f9201ae2",
   "metadata": {},
   "outputs": [],
   "source": [
    "POOLSIZE = 11\n",
    "with Pool(POOLSIZE) as p:\n",
    "    estimated = p.map(run, income_gini.index.values)"
   ]
  },
  {
   "cell_type": "code",
   "execution_count": 103,
   "id": "83e66de0",
   "metadata": {},
   "outputs": [],
   "source": [
    "estimated = pd.concat(estimated)"
   ]
  },
  {
   "cell_type": "code",
   "execution_count": 107,
   "id": "f5d153ba",
   "metadata": {},
   "outputs": [
    {
     "data": {
      "text/html": [
       "<div>\n",
       "<style scoped>\n",
       "    .dataframe tbody tr th:only-of-type {\n",
       "        vertical-align: middle;\n",
       "    }\n",
       "\n",
       "    .dataframe tbody tr th {\n",
       "        vertical-align: top;\n",
       "    }\n",
       "\n",
       "    .dataframe thead th {\n",
       "        text-align: right;\n",
       "    }\n",
       "</style>\n",
       "<table border=\"1\" class=\"dataframe\">\n",
       "  <thead>\n",
       "    <tr style=\"text-align: right;\">\n",
       "      <th></th>\n",
       "      <th></th>\n",
       "      <th></th>\n",
       "      <th>income_mountain</th>\n",
       "    </tr>\n",
       "    <tr>\n",
       "      <th>country</th>\n",
       "      <th>year</th>\n",
       "      <th>bracket</th>\n",
       "      <th></th>\n",
       "    </tr>\n",
       "  </thead>\n",
       "  <tbody>\n",
       "    <tr>\n",
       "      <th rowspan=\"5\" valign=\"top\">afg</th>\n",
       "      <th rowspan=\"5\" valign=\"top\">1800</th>\n",
       "      <th>0</th>\n",
       "      <td>2.386395e-06</td>\n",
       "    </tr>\n",
       "    <tr>\n",
       "      <th>1</th>\n",
       "      <td>2.685107e-06</td>\n",
       "    </tr>\n",
       "    <tr>\n",
       "      <th>2</th>\n",
       "      <td>3.038148e-06</td>\n",
       "    </tr>\n",
       "    <tr>\n",
       "      <th>3</th>\n",
       "      <td>3.438875e-06</td>\n",
       "    </tr>\n",
       "    <tr>\n",
       "      <th>4</th>\n",
       "      <td>3.890295e-06</td>\n",
       "    </tr>\n",
       "    <tr>\n",
       "      <th>...</th>\n",
       "      <th>...</th>\n",
       "      <th>...</th>\n",
       "      <td>...</td>\n",
       "    </tr>\n",
       "    <tr>\n",
       "      <th rowspan=\"5\" valign=\"top\">zwe</th>\n",
       "      <th rowspan=\"5\" valign=\"top\">2050</th>\n",
       "      <th>195</th>\n",
       "      <td>4.703014e-07</td>\n",
       "    </tr>\n",
       "    <tr>\n",
       "      <th>196</th>\n",
       "      <td>3.880885e-07</td>\n",
       "    </tr>\n",
       "    <tr>\n",
       "      <th>197</th>\n",
       "      <td>3.185998e-07</td>\n",
       "    </tr>\n",
       "    <tr>\n",
       "      <th>198</th>\n",
       "      <td>2.601386e-07</td>\n",
       "    </tr>\n",
       "    <tr>\n",
       "      <th>199</th>\n",
       "      <td>2.112494e-07</td>\n",
       "    </tr>\n",
       "  </tbody>\n",
       "</table>\n",
       "<p>8511200 rows × 1 columns</p>\n",
       "</div>"
      ],
      "text/plain": [
       "                      income_mountain\n",
       "country year bracket                 \n",
       "afg     1800 0           2.386395e-06\n",
       "             1           2.685107e-06\n",
       "             2           3.038148e-06\n",
       "             3           3.438875e-06\n",
       "             4           3.890295e-06\n",
       "...                               ...\n",
       "zwe     2050 195         4.703014e-07\n",
       "             196         3.880885e-07\n",
       "             197         3.185998e-07\n",
       "             198         2.601386e-07\n",
       "             199         2.112494e-07\n",
       "\n",
       "[8511200 rows x 1 columns]"
      ]
     },
     "execution_count": 107,
     "metadata": {},
     "output_type": "execute_result"
    }
   ],
   "source": [
    "estimated"
   ]
  },
  {
   "cell_type": "code",
   "execution_count": null,
   "id": "03756ce8",
   "metadata": {},
   "outputs": [],
   "source": []
  },
  {
   "cell_type": "code",
   "execution_count": null,
   "id": "172eb498",
   "metadata": {},
   "outputs": [],
   "source": []
  },
  {
   "cell_type": "code",
   "execution_count": 58,
   "id": "b7162024",
   "metadata": {},
   "outputs": [
    {
     "data": {
      "text/html": [
       "<div>\n",
       "<style scoped>\n",
       "    .dataframe tbody tr th:only-of-type {\n",
       "        vertical-align: middle;\n",
       "    }\n",
       "\n",
       "    .dataframe tbody tr th {\n",
       "        vertical-align: top;\n",
       "    }\n",
       "\n",
       "    .dataframe thead th {\n",
       "        text-align: right;\n",
       "    }\n",
       "</style>\n",
       "<table border=\"1\" class=\"dataframe\">\n",
       "  <thead>\n",
       "    <tr style=\"text-align: right;\">\n",
       "      <th></th>\n",
       "      <th></th>\n",
       "      <th></th>\n",
       "      <th>bracket</th>\n",
       "      <th>population_percentage</th>\n",
       "    </tr>\n",
       "    <tr>\n",
       "      <th>country</th>\n",
       "      <th>year</th>\n",
       "      <th>coverage_type</th>\n",
       "      <th></th>\n",
       "      <th></th>\n",
       "    </tr>\n",
       "  </thead>\n",
       "  <tbody>\n",
       "    <tr>\n",
       "      <th rowspan=\"5\" valign=\"top\">ago</th>\n",
       "      <th rowspan=\"5\" valign=\"top\">1981</th>\n",
       "      <th>n</th>\n",
       "      <td>0</td>\n",
       "      <td>7.153827e-06</td>\n",
       "    </tr>\n",
       "    <tr>\n",
       "      <th>n</th>\n",
       "      <td>1</td>\n",
       "      <td>8.619550e-06</td>\n",
       "    </tr>\n",
       "    <tr>\n",
       "      <th>n</th>\n",
       "      <td>2</td>\n",
       "      <td>1.029801e-05</td>\n",
       "    </tr>\n",
       "    <tr>\n",
       "      <th>n</th>\n",
       "      <td>3</td>\n",
       "      <td>1.214019e-05</td>\n",
       "    </tr>\n",
       "    <tr>\n",
       "      <th>n</th>\n",
       "      <td>4</td>\n",
       "      <td>1.423205e-05</td>\n",
       "    </tr>\n",
       "    <tr>\n",
       "      <th>...</th>\n",
       "      <th>...</th>\n",
       "      <th>...</th>\n",
       "      <td>...</td>\n",
       "      <td>...</td>\n",
       "    </tr>\n",
       "    <tr>\n",
       "      <th rowspan=\"5\" valign=\"top\">zwe</th>\n",
       "      <th rowspan=\"5\" valign=\"top\">2019</th>\n",
       "      <th>n</th>\n",
       "      <td>195</td>\n",
       "      <td>1.402410e-07</td>\n",
       "    </tr>\n",
       "    <tr>\n",
       "      <th>n</th>\n",
       "      <td>196</td>\n",
       "      <td>1.090947e-07</td>\n",
       "    </tr>\n",
       "    <tr>\n",
       "      <th>n</th>\n",
       "      <td>197</td>\n",
       "      <td>8.406808e-08</td>\n",
       "    </tr>\n",
       "    <tr>\n",
       "      <th>n</th>\n",
       "      <td>198</td>\n",
       "      <td>6.417809e-08</td>\n",
       "    </tr>\n",
       "    <tr>\n",
       "      <th>n</th>\n",
       "      <td>199</td>\n",
       "      <td>4.857008e-08</td>\n",
       "    </tr>\n",
       "  </tbody>\n",
       "</table>\n",
       "<p>1327800 rows × 2 columns</p>\n",
       "</div>"
      ],
      "text/plain": [
       "                            bracket  population_percentage\n",
       "country year coverage_type                                \n",
       "ago     1981 n                    0           7.153827e-06\n",
       "             n                    1           8.619550e-06\n",
       "             n                    2           1.029801e-05\n",
       "             n                    3           1.214019e-05\n",
       "             n                    4           1.423205e-05\n",
       "...                             ...                    ...\n",
       "zwe     2019 n                  195           1.402410e-07\n",
       "             n                  196           1.090947e-07\n",
       "             n                  197           8.406808e-08\n",
       "             n                  198           6.417809e-08\n",
       "             n                  199           4.857008e-08\n",
       "\n",
       "[1327800 rows x 2 columns]"
      ]
     },
     "execution_count": 58,
     "metadata": {},
     "output_type": "execute_result"
    }
   ],
   "source": [
    "res6  # povcal period data"
   ]
  },
  {
   "cell_type": "code",
   "execution_count": 108,
   "id": "029b7a16",
   "metadata": {},
   "outputs": [],
   "source": [
    "povcal = []\n",
    "\n",
    "for c in res6.index.get_level_values('country').unique():\n",
    "    df = res6.loc[[c]]\n",
    "    ct_idx = df.index.get_level_values('coverage_type')\n",
    "    for ct in 'naur':\n",
    "        if ct in ct_idx:\n",
    "            df_ = df[ct_idx == ct].copy()\n",
    "            df_ = df_.reset_index('coverage_type', drop=True)\n",
    "            povcal.append(df_)\n",
    "            break"
   ]
  },
  {
   "cell_type": "code",
   "execution_count": 109,
   "id": "886a6ab8",
   "metadata": {},
   "outputs": [
    {
     "data": {
      "text/plain": [
       "bracket                  19900.0\n",
       "population_percentage        1.0\n",
       "dtype: float64"
      ]
     },
     "execution_count": 109,
     "metadata": {},
     "output_type": "execute_result"
    }
   ],
   "source": [
    "povcal[0].loc[('ago', 1981)].sum()"
   ]
  },
  {
   "cell_type": "code",
   "execution_count": 110,
   "id": "3afd631d",
   "metadata": {},
   "outputs": [],
   "source": [
    "povcal = pd.concat(povcal).set_index('bracket', append=True)"
   ]
  },
  {
   "cell_type": "code",
   "execution_count": 112,
   "id": "b4477bfb",
   "metadata": {},
   "outputs": [],
   "source": [
    "povcal.columns = ['income_mountain']"
   ]
  },
  {
   "cell_type": "code",
   "execution_count": 113,
   "id": "792c24d7",
   "metadata": {},
   "outputs": [],
   "source": [
    "res8 = pd.concat([estimated, povcal])"
   ]
  },
  {
   "cell_type": "code",
   "execution_count": 114,
   "id": "ae7f9ff1",
   "metadata": {},
   "outputs": [],
   "source": [
    "res8 = res8.sort_index()"
   ]
  },
  {
   "cell_type": "code",
   "execution_count": 115,
   "id": "f7b53c53",
   "metadata": {},
   "outputs": [
    {
     "data": {
      "text/html": [
       "<div>\n",
       "<style scoped>\n",
       "    .dataframe tbody tr th:only-of-type {\n",
       "        vertical-align: middle;\n",
       "    }\n",
       "\n",
       "    .dataframe tbody tr th {\n",
       "        vertical-align: top;\n",
       "    }\n",
       "\n",
       "    .dataframe thead th {\n",
       "        text-align: right;\n",
       "    }\n",
       "</style>\n",
       "<table border=\"1\" class=\"dataframe\">\n",
       "  <thead>\n",
       "    <tr style=\"text-align: right;\">\n",
       "      <th></th>\n",
       "      <th></th>\n",
       "      <th></th>\n",
       "      <th>income_mountain</th>\n",
       "    </tr>\n",
       "    <tr>\n",
       "      <th>country</th>\n",
       "      <th>year</th>\n",
       "      <th>bracket</th>\n",
       "      <th></th>\n",
       "    </tr>\n",
       "  </thead>\n",
       "  <tbody>\n",
       "    <tr>\n",
       "      <th rowspan=\"5\" valign=\"top\">afg</th>\n",
       "      <th rowspan=\"5\" valign=\"top\">1800</th>\n",
       "      <th>0</th>\n",
       "      <td>2.386395e-06</td>\n",
       "    </tr>\n",
       "    <tr>\n",
       "      <th>1</th>\n",
       "      <td>2.685107e-06</td>\n",
       "    </tr>\n",
       "    <tr>\n",
       "      <th>2</th>\n",
       "      <td>3.038148e-06</td>\n",
       "    </tr>\n",
       "    <tr>\n",
       "      <th>3</th>\n",
       "      <td>3.438875e-06</td>\n",
       "    </tr>\n",
       "    <tr>\n",
       "      <th>4</th>\n",
       "      <td>3.890295e-06</td>\n",
       "    </tr>\n",
       "    <tr>\n",
       "      <th>...</th>\n",
       "      <th>...</th>\n",
       "      <th>...</th>\n",
       "      <td>...</td>\n",
       "    </tr>\n",
       "    <tr>\n",
       "      <th rowspan=\"5\" valign=\"top\">zwe</th>\n",
       "      <th rowspan=\"5\" valign=\"top\">2050</th>\n",
       "      <th>195</th>\n",
       "      <td>4.703014e-07</td>\n",
       "    </tr>\n",
       "    <tr>\n",
       "      <th>196</th>\n",
       "      <td>3.880885e-07</td>\n",
       "    </tr>\n",
       "    <tr>\n",
       "      <th>197</th>\n",
       "      <td>3.185998e-07</td>\n",
       "    </tr>\n",
       "    <tr>\n",
       "      <th>198</th>\n",
       "      <td>2.601386e-07</td>\n",
       "    </tr>\n",
       "    <tr>\n",
       "      <th>199</th>\n",
       "      <td>2.112494e-07</td>\n",
       "    </tr>\n",
       "  </tbody>\n",
       "</table>\n",
       "<p>9793000 rows × 1 columns</p>\n",
       "</div>"
      ],
      "text/plain": [
       "                      income_mountain\n",
       "country year bracket                 \n",
       "afg     1800 0           2.386395e-06\n",
       "             1           2.685107e-06\n",
       "             2           3.038148e-06\n",
       "             3           3.438875e-06\n",
       "             4           3.890295e-06\n",
       "...                               ...\n",
       "zwe     2050 195         4.703014e-07\n",
       "             196         3.880885e-07\n",
       "             197         3.185998e-07\n",
       "             198         2.601386e-07\n",
       "             199         2.112494e-07\n",
       "\n",
       "[9793000 rows x 1 columns]"
      ]
     },
     "execution_count": 115,
     "metadata": {},
     "output_type": "execute_result"
    }
   ],
   "source": [
    "res8"
   ]
  },
  {
   "cell_type": "code",
   "execution_count": null,
   "id": "04129624",
   "metadata": {},
   "outputs": [],
   "source": []
  },
  {
   "cell_type": "markdown",
   "id": "f3ac59d7",
   "metadata": {},
   "source": [
    "# step 9. resample to 50 brackets and change table format"
   ]
  },
  {
   "cell_type": "code",
   "execution_count": 69,
   "id": "2b1f81f3",
   "metadata": {},
   "outputs": [],
   "source": [
    "def resample(ser):\n",
    "    res = pd.Series([x.sum() for x in np.split(ser.values, 50)])\n",
    "    res.index.name = 'bracket'\n",
    "    return res"
   ]
  },
  {
   "cell_type": "code",
   "execution_count": 116,
   "id": "2baa01a6",
   "metadata": {},
   "outputs": [],
   "source": [
    "res9 = res8.groupby(['country', 'year']).apply(resample)"
   ]
  },
  {
   "cell_type": "code",
   "execution_count": 117,
   "id": "2c2ec89f",
   "metadata": {},
   "outputs": [
    {
     "data": {
      "text/html": [
       "<div>\n",
       "<style scoped>\n",
       "    .dataframe tbody tr th:only-of-type {\n",
       "        vertical-align: middle;\n",
       "    }\n",
       "\n",
       "    .dataframe tbody tr th {\n",
       "        vertical-align: top;\n",
       "    }\n",
       "\n",
       "    .dataframe thead th {\n",
       "        text-align: right;\n",
       "    }\n",
       "</style>\n",
       "<table border=\"1\" class=\"dataframe\">\n",
       "  <thead>\n",
       "    <tr style=\"text-align: right;\">\n",
       "      <th></th>\n",
       "      <th>bracket</th>\n",
       "      <th>0</th>\n",
       "      <th>1</th>\n",
       "      <th>2</th>\n",
       "      <th>3</th>\n",
       "      <th>4</th>\n",
       "      <th>5</th>\n",
       "      <th>6</th>\n",
       "      <th>7</th>\n",
       "      <th>8</th>\n",
       "      <th>9</th>\n",
       "      <th>...</th>\n",
       "      <th>40</th>\n",
       "      <th>41</th>\n",
       "      <th>42</th>\n",
       "      <th>43</th>\n",
       "      <th>44</th>\n",
       "      <th>45</th>\n",
       "      <th>46</th>\n",
       "      <th>47</th>\n",
       "      <th>48</th>\n",
       "      <th>49</th>\n",
       "    </tr>\n",
       "    <tr>\n",
       "      <th>country</th>\n",
       "      <th>year</th>\n",
       "      <th></th>\n",
       "      <th></th>\n",
       "      <th></th>\n",
       "      <th></th>\n",
       "      <th></th>\n",
       "      <th></th>\n",
       "      <th></th>\n",
       "      <th></th>\n",
       "      <th></th>\n",
       "      <th></th>\n",
       "      <th></th>\n",
       "      <th></th>\n",
       "      <th></th>\n",
       "      <th></th>\n",
       "      <th></th>\n",
       "      <th></th>\n",
       "      <th></th>\n",
       "      <th></th>\n",
       "      <th></th>\n",
       "      <th></th>\n",
       "      <th></th>\n",
       "    </tr>\n",
       "  </thead>\n",
       "  <tbody>\n",
       "    <tr>\n",
       "      <th rowspan=\"5\" valign=\"top\">afg</th>\n",
       "      <th>1800</th>\n",
       "      <td>0.000012</td>\n",
       "      <td>1.879334e-05</td>\n",
       "      <td>3.076009e-05</td>\n",
       "      <td>0.000052</td>\n",
       "      <td>0.000091</td>\n",
       "      <td>0.000167</td>\n",
       "      <td>0.000321</td>\n",
       "      <td>0.000647</td>\n",
       "      <td>0.001363</td>\n",
       "      <td>0.002983</td>\n",
       "      <td>...</td>\n",
       "      <td>0.000001</td>\n",
       "      <td>8.213336e-07</td>\n",
       "      <td>4.340338e-07</td>\n",
       "      <td>2.188647e-07</td>\n",
       "      <td>1.056966e-07</td>\n",
       "      <td>4.810179e-08</td>\n",
       "      <td>1.875028e-08</td>\n",
       "      <td>2.668005e-10</td>\n",
       "      <td>0.000000</td>\n",
       "      <td>0.000000e+00</td>\n",
       "    </tr>\n",
       "    <tr>\n",
       "      <th>1801</th>\n",
       "      <td>0.000012</td>\n",
       "      <td>1.879334e-05</td>\n",
       "      <td>3.076009e-05</td>\n",
       "      <td>0.000052</td>\n",
       "      <td>0.000091</td>\n",
       "      <td>0.000167</td>\n",
       "      <td>0.000321</td>\n",
       "      <td>0.000647</td>\n",
       "      <td>0.001363</td>\n",
       "      <td>0.002983</td>\n",
       "      <td>...</td>\n",
       "      <td>0.000001</td>\n",
       "      <td>8.213336e-07</td>\n",
       "      <td>4.340338e-07</td>\n",
       "      <td>2.188647e-07</td>\n",
       "      <td>1.056966e-07</td>\n",
       "      <td>4.810179e-08</td>\n",
       "      <td>1.875028e-08</td>\n",
       "      <td>2.668005e-10</td>\n",
       "      <td>0.000000</td>\n",
       "      <td>0.000000e+00</td>\n",
       "    </tr>\n",
       "    <tr>\n",
       "      <th>1802</th>\n",
       "      <td>0.000012</td>\n",
       "      <td>1.879334e-05</td>\n",
       "      <td>3.076009e-05</td>\n",
       "      <td>0.000052</td>\n",
       "      <td>0.000091</td>\n",
       "      <td>0.000167</td>\n",
       "      <td>0.000321</td>\n",
       "      <td>0.000647</td>\n",
       "      <td>0.001363</td>\n",
       "      <td>0.002983</td>\n",
       "      <td>...</td>\n",
       "      <td>0.000001</td>\n",
       "      <td>8.213336e-07</td>\n",
       "      <td>4.340338e-07</td>\n",
       "      <td>2.188647e-07</td>\n",
       "      <td>1.056966e-07</td>\n",
       "      <td>4.810179e-08</td>\n",
       "      <td>1.875028e-08</td>\n",
       "      <td>2.668005e-10</td>\n",
       "      <td>0.000000</td>\n",
       "      <td>0.000000e+00</td>\n",
       "    </tr>\n",
       "    <tr>\n",
       "      <th>1803</th>\n",
       "      <td>0.000012</td>\n",
       "      <td>1.879334e-05</td>\n",
       "      <td>3.076009e-05</td>\n",
       "      <td>0.000052</td>\n",
       "      <td>0.000091</td>\n",
       "      <td>0.000167</td>\n",
       "      <td>0.000321</td>\n",
       "      <td>0.000647</td>\n",
       "      <td>0.001363</td>\n",
       "      <td>0.002983</td>\n",
       "      <td>...</td>\n",
       "      <td>0.000001</td>\n",
       "      <td>8.213336e-07</td>\n",
       "      <td>4.340338e-07</td>\n",
       "      <td>2.188647e-07</td>\n",
       "      <td>1.056966e-07</td>\n",
       "      <td>4.810179e-08</td>\n",
       "      <td>1.875028e-08</td>\n",
       "      <td>2.668005e-10</td>\n",
       "      <td>0.000000</td>\n",
       "      <td>0.000000e+00</td>\n",
       "    </tr>\n",
       "    <tr>\n",
       "      <th>1804</th>\n",
       "      <td>0.000012</td>\n",
       "      <td>1.879334e-05</td>\n",
       "      <td>3.076009e-05</td>\n",
       "      <td>0.000052</td>\n",
       "      <td>0.000091</td>\n",
       "      <td>0.000167</td>\n",
       "      <td>0.000321</td>\n",
       "      <td>0.000647</td>\n",
       "      <td>0.001363</td>\n",
       "      <td>0.002983</td>\n",
       "      <td>...</td>\n",
       "      <td>0.000001</td>\n",
       "      <td>8.213336e-07</td>\n",
       "      <td>4.340338e-07</td>\n",
       "      <td>2.188647e-07</td>\n",
       "      <td>1.056966e-07</td>\n",
       "      <td>4.810179e-08</td>\n",
       "      <td>1.875028e-08</td>\n",
       "      <td>2.668005e-10</td>\n",
       "      <td>0.000000</td>\n",
       "      <td>0.000000e+00</td>\n",
       "    </tr>\n",
       "    <tr>\n",
       "      <th>...</th>\n",
       "      <th>...</th>\n",
       "      <td>...</td>\n",
       "      <td>...</td>\n",
       "      <td>...</td>\n",
       "      <td>...</td>\n",
       "      <td>...</td>\n",
       "      <td>...</td>\n",
       "      <td>...</td>\n",
       "      <td>...</td>\n",
       "      <td>...</td>\n",
       "      <td>...</td>\n",
       "      <td>...</td>\n",
       "      <td>...</td>\n",
       "      <td>...</td>\n",
       "      <td>...</td>\n",
       "      <td>...</td>\n",
       "      <td>...</td>\n",
       "      <td>...</td>\n",
       "      <td>...</td>\n",
       "      <td>...</td>\n",
       "      <td>...</td>\n",
       "      <td>...</td>\n",
       "    </tr>\n",
       "    <tr>\n",
       "      <th rowspan=\"5\" valign=\"top\">zwe</th>\n",
       "      <th>2046</th>\n",
       "      <td>0.000000</td>\n",
       "      <td>1.557289e-08</td>\n",
       "      <td>5.621468e-07</td>\n",
       "      <td>0.000005</td>\n",
       "      <td>0.000010</td>\n",
       "      <td>0.000017</td>\n",
       "      <td>0.000026</td>\n",
       "      <td>0.000041</td>\n",
       "      <td>0.000064</td>\n",
       "      <td>0.000107</td>\n",
       "      <td>...</td>\n",
       "      <td>0.000146</td>\n",
       "      <td>9.790029e-05</td>\n",
       "      <td>6.335044e-05</td>\n",
       "      <td>4.014304e-05</td>\n",
       "      <td>2.453922e-05</td>\n",
       "      <td>1.443742e-05</td>\n",
       "      <td>8.092027e-06</td>\n",
       "      <td>4.282865e-06</td>\n",
       "      <td>0.000002</td>\n",
       "      <td>9.594598e-07</td>\n",
       "    </tr>\n",
       "    <tr>\n",
       "      <th>2047</th>\n",
       "      <td>0.000000</td>\n",
       "      <td>9.881313e-324</td>\n",
       "      <td>2.826463e-07</td>\n",
       "      <td>0.000004</td>\n",
       "      <td>0.000009</td>\n",
       "      <td>0.000015</td>\n",
       "      <td>0.000025</td>\n",
       "      <td>0.000038</td>\n",
       "      <td>0.000059</td>\n",
       "      <td>0.000096</td>\n",
       "      <td>...</td>\n",
       "      <td>0.000161</td>\n",
       "      <td>1.088063e-04</td>\n",
       "      <td>7.076688e-05</td>\n",
       "      <td>4.510082e-05</td>\n",
       "      <td>2.783601e-05</td>\n",
       "      <td>1.655083e-05</td>\n",
       "      <td>9.404074e-06</td>\n",
       "      <td>5.056929e-06</td>\n",
       "      <td>0.000003</td>\n",
       "      <td>1.183575e-06</td>\n",
       "    </tr>\n",
       "    <tr>\n",
       "      <th>2048</th>\n",
       "      <td>0.000000</td>\n",
       "      <td>5.792612e-09</td>\n",
       "      <td>3.284974e-07</td>\n",
       "      <td>0.000004</td>\n",
       "      <td>0.000009</td>\n",
       "      <td>0.000016</td>\n",
       "      <td>0.000025</td>\n",
       "      <td>0.000039</td>\n",
       "      <td>0.000061</td>\n",
       "      <td>0.000099</td>\n",
       "      <td>...</td>\n",
       "      <td>0.000160</td>\n",
       "      <td>1.081985e-04</td>\n",
       "      <td>7.038234e-05</td>\n",
       "      <td>4.486389e-05</td>\n",
       "      <td>2.769628e-05</td>\n",
       "      <td>1.647282e-05</td>\n",
       "      <td>9.363419e-06</td>\n",
       "      <td>5.037504e-06</td>\n",
       "      <td>0.000003</td>\n",
       "      <td>1.180881e-06</td>\n",
       "    </tr>\n",
       "    <tr>\n",
       "      <th>2049</th>\n",
       "      <td>0.000000</td>\n",
       "      <td>6.294289e-09</td>\n",
       "      <td>3.412251e-07</td>\n",
       "      <td>0.000004</td>\n",
       "      <td>0.000010</td>\n",
       "      <td>0.000017</td>\n",
       "      <td>0.000026</td>\n",
       "      <td>0.000040</td>\n",
       "      <td>0.000063</td>\n",
       "      <td>0.000102</td>\n",
       "      <td>...</td>\n",
       "      <td>0.000159</td>\n",
       "      <td>1.076603e-04</td>\n",
       "      <td>7.003507e-05</td>\n",
       "      <td>4.464662e-05</td>\n",
       "      <td>2.756596e-05</td>\n",
       "      <td>1.639885e-05</td>\n",
       "      <td>9.324138e-06</td>\n",
       "      <td>5.018287e-06</td>\n",
       "      <td>0.000003</td>\n",
       "      <td>1.177785e-06</td>\n",
       "    </tr>\n",
       "    <tr>\n",
       "      <th>2050</th>\n",
       "      <td>0.000000</td>\n",
       "      <td>1.648784e-07</td>\n",
       "      <td>7.136702e-07</td>\n",
       "      <td>0.000005</td>\n",
       "      <td>0.000011</td>\n",
       "      <td>0.000019</td>\n",
       "      <td>0.000029</td>\n",
       "      <td>0.000044</td>\n",
       "      <td>0.000069</td>\n",
       "      <td>0.000111</td>\n",
       "      <td>...</td>\n",
       "      <td>0.000158</td>\n",
       "      <td>1.070452e-04</td>\n",
       "      <td>6.965369e-05</td>\n",
       "      <td>4.441861e-05</td>\n",
       "      <td>2.743848e-05</td>\n",
       "      <td>1.633252e-05</td>\n",
       "      <td>9.293116e-06</td>\n",
       "      <td>5.006047e-06</td>\n",
       "      <td>0.000003</td>\n",
       "      <td>1.178076e-06</td>\n",
       "    </tr>\n",
       "  </tbody>\n",
       "</table>\n",
       "<p>48965 rows × 50 columns</p>\n",
       "</div>"
      ],
      "text/plain": [
       "bracket             0              1             2         3         4   \\\n",
       "country year                                                              \n",
       "afg     1800  0.000012   1.879334e-05  3.076009e-05  0.000052  0.000091   \n",
       "        1801  0.000012   1.879334e-05  3.076009e-05  0.000052  0.000091   \n",
       "        1802  0.000012   1.879334e-05  3.076009e-05  0.000052  0.000091   \n",
       "        1803  0.000012   1.879334e-05  3.076009e-05  0.000052  0.000091   \n",
       "        1804  0.000012   1.879334e-05  3.076009e-05  0.000052  0.000091   \n",
       "...                ...            ...           ...       ...       ...   \n",
       "zwe     2046  0.000000   1.557289e-08  5.621468e-07  0.000005  0.000010   \n",
       "        2047  0.000000  9.881313e-324  2.826463e-07  0.000004  0.000009   \n",
       "        2048  0.000000   5.792612e-09  3.284974e-07  0.000004  0.000009   \n",
       "        2049  0.000000   6.294289e-09  3.412251e-07  0.000004  0.000010   \n",
       "        2050  0.000000   1.648784e-07  7.136702e-07  0.000005  0.000011   \n",
       "\n",
       "bracket             5         6         7         8         9   ...        40  \\\n",
       "country year                                                    ...             \n",
       "afg     1800  0.000167  0.000321  0.000647  0.001363  0.002983  ...  0.000001   \n",
       "        1801  0.000167  0.000321  0.000647  0.001363  0.002983  ...  0.000001   \n",
       "        1802  0.000167  0.000321  0.000647  0.001363  0.002983  ...  0.000001   \n",
       "        1803  0.000167  0.000321  0.000647  0.001363  0.002983  ...  0.000001   \n",
       "        1804  0.000167  0.000321  0.000647  0.001363  0.002983  ...  0.000001   \n",
       "...                ...       ...       ...       ...       ...  ...       ...   \n",
       "zwe     2046  0.000017  0.000026  0.000041  0.000064  0.000107  ...  0.000146   \n",
       "        2047  0.000015  0.000025  0.000038  0.000059  0.000096  ...  0.000161   \n",
       "        2048  0.000016  0.000025  0.000039  0.000061  0.000099  ...  0.000160   \n",
       "        2049  0.000017  0.000026  0.000040  0.000063  0.000102  ...  0.000159   \n",
       "        2050  0.000019  0.000029  0.000044  0.000069  0.000111  ...  0.000158   \n",
       "\n",
       "bracket                 41            42            43            44  \\\n",
       "country year                                                           \n",
       "afg     1800  8.213336e-07  4.340338e-07  2.188647e-07  1.056966e-07   \n",
       "        1801  8.213336e-07  4.340338e-07  2.188647e-07  1.056966e-07   \n",
       "        1802  8.213336e-07  4.340338e-07  2.188647e-07  1.056966e-07   \n",
       "        1803  8.213336e-07  4.340338e-07  2.188647e-07  1.056966e-07   \n",
       "        1804  8.213336e-07  4.340338e-07  2.188647e-07  1.056966e-07   \n",
       "...                    ...           ...           ...           ...   \n",
       "zwe     2046  9.790029e-05  6.335044e-05  4.014304e-05  2.453922e-05   \n",
       "        2047  1.088063e-04  7.076688e-05  4.510082e-05  2.783601e-05   \n",
       "        2048  1.081985e-04  7.038234e-05  4.486389e-05  2.769628e-05   \n",
       "        2049  1.076603e-04  7.003507e-05  4.464662e-05  2.756596e-05   \n",
       "        2050  1.070452e-04  6.965369e-05  4.441861e-05  2.743848e-05   \n",
       "\n",
       "bracket                 45            46            47        48            49  \n",
       "country year                                                                    \n",
       "afg     1800  4.810179e-08  1.875028e-08  2.668005e-10  0.000000  0.000000e+00  \n",
       "        1801  4.810179e-08  1.875028e-08  2.668005e-10  0.000000  0.000000e+00  \n",
       "        1802  4.810179e-08  1.875028e-08  2.668005e-10  0.000000  0.000000e+00  \n",
       "        1803  4.810179e-08  1.875028e-08  2.668005e-10  0.000000  0.000000e+00  \n",
       "        1804  4.810179e-08  1.875028e-08  2.668005e-10  0.000000  0.000000e+00  \n",
       "...                    ...           ...           ...       ...           ...  \n",
       "zwe     2046  1.443742e-05  8.092027e-06  4.282865e-06  0.000002  9.594598e-07  \n",
       "        2047  1.655083e-05  9.404074e-06  5.056929e-06  0.000003  1.183575e-06  \n",
       "        2048  1.647282e-05  9.363419e-06  5.037504e-06  0.000003  1.180881e-06  \n",
       "        2049  1.639885e-05  9.324138e-06  5.018287e-06  0.000003  1.177785e-06  \n",
       "        2050  1.633252e-05  9.293116e-06  5.006047e-06  0.000003  1.178076e-06  \n",
       "\n",
       "[48965 rows x 50 columns]"
      ]
     },
     "execution_count": 117,
     "metadata": {},
     "output_type": "execute_result"
    }
   ],
   "source": [
    "res9"
   ]
  },
  {
   "cell_type": "code",
   "execution_count": 126,
   "id": "4e150df4",
   "metadata": {},
   "outputs": [
    {
     "data": {
      "text/plain": [
       "0.9999999999999999"
      ]
     },
     "execution_count": 126,
     "metadata": {},
     "output_type": "execute_result"
    }
   ],
   "source": [
    "res9.loc[('ago', 1981)].sum()"
   ]
  },
  {
   "cell_type": "code",
   "execution_count": null,
   "id": "facd33f3",
   "metadata": {},
   "outputs": [],
   "source": []
  },
  {
   "cell_type": "markdown",
   "id": "d6c4f916",
   "metadata": {},
   "source": [
    "# step 10. calculate population count"
   ]
  },
  {
   "cell_type": "code",
   "execution_count": 72,
   "id": "f4075792",
   "metadata": {},
   "outputs": [],
   "source": [
    "pop_file = '../../../ddf--gapminder--systema_globalis/countries-etc-datapoints/ddf--datapoints--population_total--by--geo--time.csv'\n",
    "pop = pd.read_csv(pop_file).set_index(['geo', 'time'])['population_total']"
   ]
  },
  {
   "cell_type": "code",
   "execution_count": null,
   "id": "74e71a62",
   "metadata": {},
   "outputs": [],
   "source": []
  },
  {
   "cell_type": "code",
   "execution_count": 120,
   "id": "0eae7a11",
   "metadata": {
    "scrolled": false
   },
   "outputs": [
    {
     "name": "stdout",
     "output_type": "stream",
     "text": [
      "no population for:  ('kos', 2000)\n",
      "no population for:  ('kos', 2001)\n",
      "no population for:  ('kos', 2002)\n",
      "no population for:  ('kos', 2003)\n",
      "no population for:  ('kos', 2004)\n",
      "no population for:  ('kos', 2005)\n",
      "no population for:  ('kos', 2006)\n",
      "no population for:  ('kos', 2007)\n",
      "no population for:  ('kos', 2008)\n",
      "no population for:  ('kos', 2009)\n",
      "no population for:  ('kos', 2010)\n",
      "no population for:  ('kos', 2011)\n",
      "no population for:  ('kos', 2012)\n",
      "no population for:  ('kos', 2013)\n",
      "no population for:  ('kos', 2014)\n",
      "no population for:  ('kos', 2015)\n",
      "no population for:  ('kos', 2016)\n",
      "no population for:  ('kos', 2017)\n",
      "no population for:  ('kos', 2018)\n",
      "no population for:  ('kos', 2019)\n"
     ]
    }
   ],
   "source": [
    "res10 = []\n",
    "# gs = res9.groupby(['country', 'year'])\n",
    "for g, row in res9.iterrows():\n",
    "    try:\n",
    "        p = pop.loc[g]\n",
    "    except KeyError:\n",
    "        print('no population for: ', g)\n",
    "        res10.append(None)\n",
    "        continue\n",
    "    row_pop = np.round(row * p)\n",
    "    row_pop_str = ', '.join(row_pop.astype(int).astype(str))\n",
    "    res10.append(row_pop_str)"
   ]
  },
  {
   "cell_type": "code",
   "execution_count": 121,
   "id": "ea524658",
   "metadata": {},
   "outputs": [],
   "source": [
    "res10 = pd.Series(res10, res9.index)"
   ]
  },
  {
   "cell_type": "code",
   "execution_count": 122,
   "id": "66109534",
   "metadata": {},
   "outputs": [
    {
     "data": {
      "text/plain": [
       "country  year\n",
       "afg      1800    38, 62, 101, 171, 297, 549, 1054, 2121, 4469, ...\n",
       "         1801    38, 62, 101, 171, 297, 549, 1054, 2121, 4469, ...\n",
       "         1802    38, 62, 101, 171, 297, 549, 1054, 2121, 4469, ...\n",
       "         1803    38, 62, 101, 171, 297, 549, 1054, 2121, 4469, ...\n",
       "         1804    38, 62, 101, 171, 297, 549, 1054, 2121, 4469, ...\n",
       "                                       ...                        \n",
       "zwe      2046    0, 0, 13, 123, 229, 384, 602, 928, 1464, 2437,...\n",
       "         2047    0, 0, 7, 95, 209, 357, 566, 872, 1369, 2224, 3...\n",
       "         2048    0, 0, 8, 101, 221, 376, 592, 910, 1426, 2311, ...\n",
       "         2049    0, 0, 8, 105, 232, 394, 618, 949, 1488, 2411, ...\n",
       "         2050    0, 4, 17, 125, 265, 445, 692, 1060, 1653, 2657...\n",
       "Length: 48965, dtype: object"
      ]
     },
     "execution_count": 122,
     "metadata": {},
     "output_type": "execute_result"
    }
   ],
   "source": [
    "res10"
   ]
  },
  {
   "cell_type": "code",
   "execution_count": 123,
   "id": "4162f6fa",
   "metadata": {},
   "outputs": [],
   "source": [
    "res10 = res10.dropna()"
   ]
  },
  {
   "cell_type": "code",
   "execution_count": 124,
   "id": "dcfec5bc",
   "metadata": {},
   "outputs": [],
   "source": [
    "res10.name = 'income_mountain_50bracket_shape_for_log'"
   ]
  },
  {
   "cell_type": "code",
   "execution_count": 125,
   "id": "2ed2345c",
   "metadata": {},
   "outputs": [],
   "source": [
    "res10.to_csv('../../ddf--datapoints--income_mountain_50bracket_shape_for_log--by--country--year.csv')"
   ]
  },
  {
   "cell_type": "code",
   "execution_count": null,
   "id": "6b22f0c0",
   "metadata": {},
   "outputs": [],
   "source": []
  }
 ],
 "metadata": {
  "kernelspec": {
   "display_name": "Python 3",
   "language": "python",
   "name": "python3"
  },
  "language_info": {
   "codemirror_mode": {
    "name": "ipython",
    "version": 3
   },
   "file_extension": ".py",
   "mimetype": "text/x-python",
   "name": "python",
   "nbconvert_exporter": "python",
   "pygments_lexer": "ipython3",
   "version": "3.8.10"
  }
 },
 "nbformat": 4,
 "nbformat_minor": 5
}
