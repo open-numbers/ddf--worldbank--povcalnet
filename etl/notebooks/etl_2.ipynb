{
 "cells": [
  {
   "cell_type": "code",
   "execution_count": null,
   "id": "0d1a33dc",
   "metadata": {},
   "outputs": [],
   "source": [
    "# etl by semio"
   ]
  },
  {
   "cell_type": "code",
   "execution_count": 67,
   "id": "75c74919",
   "metadata": {},
   "outputs": [],
   "source": [
    "import os\n",
    "import numpy as np\n",
    "import pandas as pd\n",
    "from ddf_utils.str import format_float_digits\n",
    "\n",
    "source_dir = '../source'\n",
    "bracket_file = os.path.join(source_dir, 'brackets.csv')\n"
   ]
  },
  {
   "cell_type": "code",
   "execution_count": 104,
   "id": "3dd1dcc7",
   "metadata": {},
   "outputs": [],
   "source": [
    "from functools import partial"
   ]
  },
  {
   "cell_type": "code",
   "execution_count": 106,
   "id": "a9fa7730",
   "metadata": {},
   "outputs": [],
   "source": [
    "formattor = partial(format_float_digits, digits=6)"
   ]
  },
  {
   "cell_type": "code",
   "execution_count": null,
   "id": "9d4316c6",
   "metadata": {},
   "outputs": [],
   "source": []
  },
  {
   "cell_type": "code",
   "execution_count": null,
   "id": "de8d8335",
   "metadata": {},
   "outputs": [],
   "source": []
  },
  {
   "cell_type": "code",
   "execution_count": 2,
   "id": "f85df7ee",
   "metadata": {},
   "outputs": [],
   "source": [
    "def load_file_preprocess(filename, income_bracket):\n",
    "    usecols = ['CountryCode','CountryName','CoverageType','RequestYear', 'PovertyLine', 'HeadCount','ReqYearPopulation']\n",
    "    df = pd.read_csv(os.path.join(source_dir, filename), usecols=usecols)\n",
    "    df = df.rename(columns={'PovertyLine': 'income_bracket'})\n",
    "    df['income_bracket'] = income_bracket\n",
    "    df = df.set_index(['CountryCode', 'RequestYear', 'CoverageType', 'income_bracket'])\n",
    "    return df"
   ]
  },
  {
   "cell_type": "code",
   "execution_count": null,
   "id": "9de07f1a",
   "metadata": {},
   "outputs": [],
   "source": []
  },
  {
   "cell_type": "code",
   "execution_count": 3,
   "id": "fc33caf4",
   "metadata": {},
   "outputs": [],
   "source": [
    "\n",
    "all_source_files = os.listdir(source_dir)\n",
    "all_source_files = [x for x in all_source_files if x.startswith('0')]\n",
    "all_source_files.sort()\n",
    "brackets = pd.read_csv(bracket_file)\n",
    "# use brackets end to indentity income_brackets\n",
    "brackets_entity_mapping = brackets['bracket_end'].to_dict()\n",
    "brackets_entity_mapping_reverse = dict([(v, k) for k, v in brackets_entity_mapping.items()])\n",
    "\n",
    "source_pairs = list(zip(all_source_files[:-1], all_source_files[1:]))  # a list of file name pairs (bracket start, bracket end)\n"
   ]
  },
  {
   "cell_type": "code",
   "execution_count": 107,
   "id": "b2e1e587",
   "metadata": {},
   "outputs": [],
   "source": [
    "population_list = []\n",
    "population_percentage_list = []\n",
    "\n",
    "country_list = []\n",
    "\n",
    "for i, files in enumerate(source_pairs):\n",
    "    start_file, end_file = files\n",
    "    df_start = load_file_preprocess(start_file, i)\n",
    "    df_end = load_file_preprocess(end_file, i)\n",
    "    \n",
    "    # collect geos\n",
    "    geo1 = df_start['CountryName'].reset_index([1, 2, 3], drop=True).drop_duplicates()\n",
    "    geo2 = df_end['CountryName'].reset_index([1, 2, 3], drop=True).drop_duplicates()\n",
    "    country_list.append(geo1)\n",
    "    country_list.append(geo2)\n",
    "    \n",
    "    # collect datapoints\n",
    "    population_percentage = df_end['HeadCount'] - df_start['HeadCount']\n",
    "    \n",
    "    population_start = df_start['ReqYearPopulation'] * df_start['HeadCount'] * 1000000\n",
    "    population_end = df_end['ReqYearPopulation'] * df_end['HeadCount'] * 1000000\n",
    "    population = population_end - population_start\n",
    "    \n",
    "    # population = population_percentage.multiply(df_start['ReqYearPopulation'], axis=0)\n",
    "    \n",
    "    population_list.append(population)\n",
    "    population_percentage_list.append(population_percentage)\n",
    "# concat\n",
    "df_population = pd.concat(population_list)\n",
    "df_population_percentage = pd.concat(population_percentage_list)"
   ]
  },
  {
   "cell_type": "code",
   "execution_count": 108,
   "id": "cb5f82b0",
   "metadata": {},
   "outputs": [
    {
     "data": {
      "text/plain": [
       "CountryCode  RequestYear  CoverageType  income_bracket\n",
       "ALB          1981         N             0                  0.000000\n",
       "DZA          1981         N             0                  0.000000\n",
       "AGO          1981         N             0                  0.000000\n",
       "ARG          1981         U             0                 16.149012\n",
       "ARM          1981         N             0                  1.750971\n",
       "                                                            ...    \n",
       "VNM          2019         N             99                 0.000000\n",
       "PSE          2019         N             99                 0.000000\n",
       "YEM          2019         N             99                 0.000000\n",
       "ZMB          2019         N             99                 0.000000\n",
       "ZWE          2019         N             99                 0.000000\n",
       "Length: 664500, dtype: float64"
      ]
     },
     "execution_count": 108,
     "metadata": {},
     "output_type": "execute_result"
    }
   ],
   "source": [
    "df_population"
   ]
  },
  {
   "cell_type": "code",
   "execution_count": 109,
   "id": "f6b4eb30",
   "metadata": {},
   "outputs": [],
   "source": [
    "df_population = df_population.reset_index()"
   ]
  },
  {
   "cell_type": "code",
   "execution_count": 110,
   "id": "c2c64bea",
   "metadata": {},
   "outputs": [],
   "source": [
    "df_population.columns = ['geo', 'year', 'coverage_type', 'income_bracket', 'population']\n",
    "df_population['geo'] = df_population['geo'].str.lower()\n",
    "df_population['coverage_type'] = df_population['coverage_type'].str.lower()\n",
    "\n",
    "# TODO: notify if any\n",
    "df_population = df_population[df_population['population'] >= 0]"
   ]
  },
  {
   "cell_type": "code",
   "execution_count": 111,
   "id": "3af77ee6",
   "metadata": {},
   "outputs": [],
   "source": [
    "df_population['population'] = df_population['population'].map(formattor)"
   ]
  },
  {
   "cell_type": "code",
   "execution_count": 112,
   "id": "61aa286e",
   "metadata": {},
   "outputs": [],
   "source": [
    "df_population = df_population.sort_values(by=['geo', 'year', 'coverage_type', 'income_bracket'])"
   ]
  },
  {
   "cell_type": "code",
   "execution_count": 113,
   "id": "cb4caaa7",
   "metadata": {},
   "outputs": [],
   "source": [
    "df_population.to_csv('../../ddf--datapoints--population--by--geo--year--coverage_type--income_bracket.csv', index=False)"
   ]
  },
  {
   "cell_type": "code",
   "execution_count": 114,
   "id": "f9add8b7",
   "metadata": {},
   "outputs": [],
   "source": [
    "df_population_percentage = df_population_percentage.reset_index()"
   ]
  },
  {
   "cell_type": "code",
   "execution_count": 115,
   "id": "5a0c2239",
   "metadata": {},
   "outputs": [],
   "source": [
    "df_population_percentage.columns = ['geo', 'year', 'coverage_type', 'income_bracket', 'population_percentage']\n",
    "df_population_percentage['geo'] = df_population_percentage['geo'].str.lower()\n",
    "df_population_percentage['coverage_type'] = df_population_percentage['coverage_type'].str.lower()\n",
    "\n",
    "# TODO: notify if any\n",
    "df_population_percentage = df_population_percentage[df_population_percentage['population_percentage'] >= 0]"
   ]
  },
  {
   "cell_type": "code",
   "execution_count": 116,
   "id": "27b81f65",
   "metadata": {},
   "outputs": [],
   "source": [
    "df_population_percentage['population_percentage'] = df_population_percentage['population_percentage'].map(formattor)"
   ]
  },
  {
   "cell_type": "code",
   "execution_count": 117,
   "id": "77eb6ca1",
   "metadata": {},
   "outputs": [],
   "source": [
    "df_population_percentage = df_population_percentage.sort_values(by=['geo', 'year', 'coverage_type', 'income_bracket'])"
   ]
  },
  {
   "cell_type": "code",
   "execution_count": 118,
   "id": "510515a5",
   "metadata": {},
   "outputs": [],
   "source": [
    "df_population_percentage.to_csv('../../ddf--datapoints--population_percentage--by--geo--year--coverage_type--income_bracket.csv', index=False)"
   ]
  },
  {
   "cell_type": "code",
   "execution_count": 65,
   "id": "0d9c19cb",
   "metadata": {},
   "outputs": [
    {
     "data": {
      "text/html": [
       "<div>\n",
       "<style scoped>\n",
       "    .dataframe tbody tr th:only-of-type {\n",
       "        vertical-align: middle;\n",
       "    }\n",
       "\n",
       "    .dataframe tbody tr th {\n",
       "        vertical-align: top;\n",
       "    }\n",
       "\n",
       "    .dataframe thead th {\n",
       "        text-align: right;\n",
       "    }\n",
       "</style>\n",
       "<table border=\"1\" class=\"dataframe\">\n",
       "  <thead>\n",
       "    <tr style=\"text-align: right;\">\n",
       "      <th></th>\n",
       "      <th>geo</th>\n",
       "      <th>year</th>\n",
       "      <th>coverage_type</th>\n",
       "      <th>income_bracket</th>\n",
       "      <th>population</th>\n",
       "    </tr>\n",
       "  </thead>\n",
       "  <tbody>\n",
       "    <tr>\n",
       "      <th>0</th>\n",
       "      <td>alb</td>\n",
       "      <td>1981</td>\n",
       "      <td>n</td>\n",
       "      <td>0</td>\n",
       "      <td>0.000000e+00</td>\n",
       "    </tr>\n",
       "    <tr>\n",
       "      <th>1</th>\n",
       "      <td>dza</td>\n",
       "      <td>1981</td>\n",
       "      <td>n</td>\n",
       "      <td>0</td>\n",
       "      <td>0.000000e+00</td>\n",
       "    </tr>\n",
       "    <tr>\n",
       "      <th>2</th>\n",
       "      <td>ago</td>\n",
       "      <td>1981</td>\n",
       "      <td>n</td>\n",
       "      <td>0</td>\n",
       "      <td>0.000000e+00</td>\n",
       "    </tr>\n",
       "    <tr>\n",
       "      <th>3</th>\n",
       "      <td>arg</td>\n",
       "      <td>1981</td>\n",
       "      <td>u</td>\n",
       "      <td>0</td>\n",
       "      <td>6.840000e-07</td>\n",
       "    </tr>\n",
       "    <tr>\n",
       "      <th>4</th>\n",
       "      <td>arm</td>\n",
       "      <td>1981</td>\n",
       "      <td>n</td>\n",
       "      <td>0</td>\n",
       "      <td>5.562000e-07</td>\n",
       "    </tr>\n",
       "    <tr>\n",
       "      <th>...</th>\n",
       "      <td>...</td>\n",
       "      <td>...</td>\n",
       "      <td>...</td>\n",
       "      <td>...</td>\n",
       "      <td>...</td>\n",
       "    </tr>\n",
       "    <tr>\n",
       "      <th>664495</th>\n",
       "      <td>vnm</td>\n",
       "      <td>2019</td>\n",
       "      <td>n</td>\n",
       "      <td>99</td>\n",
       "      <td>0.000000e+00</td>\n",
       "    </tr>\n",
       "    <tr>\n",
       "      <th>664496</th>\n",
       "      <td>pse</td>\n",
       "      <td>2019</td>\n",
       "      <td>n</td>\n",
       "      <td>99</td>\n",
       "      <td>0.000000e+00</td>\n",
       "    </tr>\n",
       "    <tr>\n",
       "      <th>664497</th>\n",
       "      <td>yem</td>\n",
       "      <td>2019</td>\n",
       "      <td>n</td>\n",
       "      <td>99</td>\n",
       "      <td>0.000000e+00</td>\n",
       "    </tr>\n",
       "    <tr>\n",
       "      <th>664498</th>\n",
       "      <td>zmb</td>\n",
       "      <td>2019</td>\n",
       "      <td>n</td>\n",
       "      <td>99</td>\n",
       "      <td>0.000000e+00</td>\n",
       "    </tr>\n",
       "    <tr>\n",
       "      <th>664499</th>\n",
       "      <td>zwe</td>\n",
       "      <td>2019</td>\n",
       "      <td>n</td>\n",
       "      <td>99</td>\n",
       "      <td>0.000000e+00</td>\n",
       "    </tr>\n",
       "  </tbody>\n",
       "</table>\n",
       "<p>664500 rows × 5 columns</p>\n",
       "</div>"
      ],
      "text/plain": [
       "        geo  year coverage_type  income_bracket    population\n",
       "0       alb  1981             n               0  0.000000e+00\n",
       "1       dza  1981             n               0  0.000000e+00\n",
       "2       ago  1981             n               0  0.000000e+00\n",
       "3       arg  1981             u               0  6.840000e-07\n",
       "4       arm  1981             n               0  5.562000e-07\n",
       "...     ...   ...           ...             ...           ...\n",
       "664495  vnm  2019             n              99  0.000000e+00\n",
       "664496  pse  2019             n              99  0.000000e+00\n",
       "664497  yem  2019             n              99  0.000000e+00\n",
       "664498  zmb  2019             n              99  0.000000e+00\n",
       "664499  zwe  2019             n              99  0.000000e+00\n",
       "\n",
       "[664500 rows x 5 columns]"
      ]
     },
     "execution_count": 65,
     "metadata": {},
     "output_type": "execute_result"
    }
   ],
   "source": [
    "df_population_percentage"
   ]
  },
  {
   "cell_type": "code",
   "execution_count": null,
   "id": "b4dca026",
   "metadata": {},
   "outputs": [],
   "source": []
  },
  {
   "cell_type": "code",
   "execution_count": null,
   "id": "4476048a",
   "metadata": {},
   "outputs": [],
   "source": []
  },
  {
   "cell_type": "code",
   "execution_count": null,
   "id": "af160c30",
   "metadata": {},
   "outputs": [],
   "source": []
  },
  {
   "cell_type": "code",
   "execution_count": null,
   "id": "39cc80e4",
   "metadata": {},
   "outputs": [],
   "source": [
    "# entities"
   ]
  },
  {
   "cell_type": "code",
   "execution_count": 35,
   "id": "c4407bb2",
   "metadata": {},
   "outputs": [
    {
     "data": {
      "text/html": [
       "<div>\n",
       "<style scoped>\n",
       "    .dataframe tbody tr th:only-of-type {\n",
       "        vertical-align: middle;\n",
       "    }\n",
       "\n",
       "    .dataframe tbody tr th {\n",
       "        vertical-align: top;\n",
       "    }\n",
       "\n",
       "    .dataframe thead th {\n",
       "        text-align: right;\n",
       "    }\n",
       "</style>\n",
       "<table border=\"1\" class=\"dataframe\">\n",
       "  <thead>\n",
       "    <tr style=\"text-align: right;\">\n",
       "      <th></th>\n",
       "      <th>coverage_type</th>\n",
       "      <th>name</th>\n",
       "    </tr>\n",
       "  </thead>\n",
       "  <tbody>\n",
       "    <tr>\n",
       "      <th>0</th>\n",
       "      <td>n</td>\n",
       "      <td>National</td>\n",
       "    </tr>\n",
       "    <tr>\n",
       "      <th>1</th>\n",
       "      <td>u</td>\n",
       "      <td>Urban</td>\n",
       "    </tr>\n",
       "    <tr>\n",
       "      <th>2</th>\n",
       "      <td>a</td>\n",
       "      <td>Aggregated</td>\n",
       "    </tr>\n",
       "    <tr>\n",
       "      <th>3</th>\n",
       "      <td>r</td>\n",
       "      <td>Rural</td>\n",
       "    </tr>\n",
       "  </tbody>\n",
       "</table>\n",
       "</div>"
      ],
      "text/plain": [
       "  coverage_type        name\n",
       "0             n    National\n",
       "1             u       Urban\n",
       "2             a  Aggregated\n",
       "3             r       Rural"
      ]
     },
     "execution_count": 35,
     "metadata": {},
     "output_type": "execute_result"
    }
   ],
   "source": [
    "coverage_type_entities = pd.DataFrame(data = {'coverage_type':['n','u','a','r'], 'name':['National','Urban','Aggregated','Rural']})\n",
    "\n",
    "coverage_type_entities"
   ]
  },
  {
   "cell_type": "code",
   "execution_count": 36,
   "id": "79663a93",
   "metadata": {},
   "outputs": [],
   "source": [
    "coverage_type_entities.to_csv(\"../../ddf--entities--coverage_type.csv\", index=False)"
   ]
  },
  {
   "cell_type": "code",
   "execution_count": null,
   "id": "c8b6eb69",
   "metadata": {},
   "outputs": [],
   "source": []
  },
  {
   "cell_type": "code",
   "execution_count": 41,
   "id": "12e6fbe2",
   "metadata": {},
   "outputs": [
    {
     "data": {
      "text/html": [
       "<div>\n",
       "<style scoped>\n",
       "    .dataframe tbody tr th:only-of-type {\n",
       "        vertical-align: middle;\n",
       "    }\n",
       "\n",
       "    .dataframe tbody tr th {\n",
       "        vertical-align: top;\n",
       "    }\n",
       "\n",
       "    .dataframe thead th {\n",
       "        text-align: right;\n",
       "    }\n",
       "</style>\n",
       "<table border=\"1\" class=\"dataframe\">\n",
       "  <thead>\n",
       "    <tr style=\"text-align: right;\">\n",
       "      <th></th>\n",
       "      <th>bracket_start</th>\n",
       "      <th>bracket_end</th>\n",
       "      <th>name</th>\n",
       "    </tr>\n",
       "  </thead>\n",
       "  <tbody>\n",
       "    <tr>\n",
       "      <th>0</th>\n",
       "      <td>0.00781</td>\n",
       "      <td>0.00897</td>\n",
       "      <td>0.00781 - 0.00897</td>\n",
       "    </tr>\n",
       "    <tr>\n",
       "      <th>1</th>\n",
       "      <td>0.00897</td>\n",
       "      <td>0.01031</td>\n",
       "      <td>0.00897 - 0.01031</td>\n",
       "    </tr>\n",
       "    <tr>\n",
       "      <th>2</th>\n",
       "      <td>0.01031</td>\n",
       "      <td>0.01184</td>\n",
       "      <td>0.01031 - 0.01184</td>\n",
       "    </tr>\n",
       "    <tr>\n",
       "      <th>3</th>\n",
       "      <td>0.01184</td>\n",
       "      <td>0.01360</td>\n",
       "      <td>0.01184 - 0.0136</td>\n",
       "    </tr>\n",
       "    <tr>\n",
       "      <th>4</th>\n",
       "      <td>0.01360</td>\n",
       "      <td>0.01563</td>\n",
       "      <td>0.0136 - 0.01563</td>\n",
       "    </tr>\n",
       "    <tr>\n",
       "      <th>...</th>\n",
       "      <td>...</td>\n",
       "      <td>...</td>\n",
       "      <td>...</td>\n",
       "    </tr>\n",
       "    <tr>\n",
       "      <th>95</th>\n",
       "      <td>4096.00000</td>\n",
       "      <td>4705.06846</td>\n",
       "      <td>4096.0 - 4705.06846</td>\n",
       "    </tr>\n",
       "    <tr>\n",
       "      <th>96</th>\n",
       "      <td>4705.06846</td>\n",
       "      <td>5404.70440</td>\n",
       "      <td>4705.06846 - 5404.7044</td>\n",
       "    </tr>\n",
       "    <tr>\n",
       "      <th>97</th>\n",
       "      <td>5404.70440</td>\n",
       "      <td>6208.37506</td>\n",
       "      <td>5404.7044 - 6208.37506</td>\n",
       "    </tr>\n",
       "    <tr>\n",
       "      <th>98</th>\n",
       "      <td>6208.37506</td>\n",
       "      <td>7131.55022</td>\n",
       "      <td>6208.37506 - 7131.55022</td>\n",
       "    </tr>\n",
       "    <tr>\n",
       "      <th>99</th>\n",
       "      <td>7131.55022</td>\n",
       "      <td>8192.00000</td>\n",
       "      <td>7131.55022 - 8192.0</td>\n",
       "    </tr>\n",
       "  </tbody>\n",
       "</table>\n",
       "<p>100 rows × 3 columns</p>\n",
       "</div>"
      ],
      "text/plain": [
       "    bracket_start  bracket_end                     name\n",
       "0         0.00781      0.00897        0.00781 - 0.00897\n",
       "1         0.00897      0.01031        0.00897 - 0.01031\n",
       "2         0.01031      0.01184        0.01031 - 0.01184\n",
       "3         0.01184      0.01360         0.01184 - 0.0136\n",
       "4         0.01360      0.01563         0.0136 - 0.01563\n",
       "..            ...          ...                      ...\n",
       "95     4096.00000   4705.06846      4096.0 - 4705.06846\n",
       "96     4705.06846   5404.70440   4705.06846 - 5404.7044\n",
       "97     5404.70440   6208.37506   5404.7044 - 6208.37506\n",
       "98     6208.37506   7131.55022  6208.37506 - 7131.55022\n",
       "99     7131.55022   8192.00000      7131.55022 - 8192.0\n",
       "\n",
       "[100 rows x 3 columns]"
      ]
     },
     "execution_count": 41,
     "metadata": {},
     "output_type": "execute_result"
    }
   ],
   "source": [
    "df_brackets = brackets.copy()\n",
    "df_brackets['name'] = [ str(x) + ' - ' + str(y) for x, y in zip(df_brackets['bracket_start'], df_brackets['bracket_end'])]\n",
    "df_brackets"
   ]
  },
  {
   "cell_type": "code",
   "execution_count": 66,
   "id": "58935fb5",
   "metadata": {},
   "outputs": [],
   "source": [
    "df_brackets = df_brackets['name'].reset_index()\n",
    "df_brackets.columns = ['income_bracket', 'name']\n",
    "\n",
    "df_brackets.to_csv('../../ddf--entities--income_bracket.csv', index=False)"
   ]
  },
  {
   "cell_type": "code",
   "execution_count": null,
   "id": "4fb2b167",
   "metadata": {},
   "outputs": [],
   "source": []
  },
  {
   "cell_type": "code",
   "execution_count": 49,
   "id": "fcf4e32e",
   "metadata": {},
   "outputs": [
    {
     "data": {
      "text/plain": [
       "CountryCode\n",
       "ALB        Albania\n",
       "DZA        Algeria\n",
       "AGO         Angola\n",
       "ARG      Argentina\n",
       "ARM        Armenia\n",
       "          ...     \n",
       "XKX         Kosovo\n",
       "TLS    Timor-Leste\n",
       "NRU          Nauru\n",
       "SSD    South Sudan\n",
       "SOM        Somalia\n",
       "Name: CountryName, Length: 168, dtype: object"
      ]
     },
     "execution_count": 49,
     "metadata": {},
     "output_type": "execute_result"
    }
   ],
   "source": [
    "country_list[0]"
   ]
  },
  {
   "cell_type": "code",
   "execution_count": 53,
   "id": "a76141b1",
   "metadata": {},
   "outputs": [],
   "source": [
    "country = pd.concat(country_list).drop_duplicates()"
   ]
  },
  {
   "cell_type": "code",
   "execution_count": 54,
   "id": "774478ad",
   "metadata": {},
   "outputs": [],
   "source": [
    "country = country.reset_index()\n",
    "country.columns = ['geo', 'name']"
   ]
  },
  {
   "cell_type": "code",
   "execution_count": 84,
   "id": "b7328ed8",
   "metadata": {},
   "outputs": [],
   "source": [
    "country['geo'] = country['geo'].str.lower()"
   ]
  },
  {
   "cell_type": "code",
   "execution_count": 85,
   "id": "2c5d8201",
   "metadata": {},
   "outputs": [],
   "source": [
    "country.to_csv('../../ddf--entities--geo.csv', index=False)"
   ]
  },
  {
   "cell_type": "code",
   "execution_count": null,
   "id": "161f9076",
   "metadata": {},
   "outputs": [],
   "source": []
  },
  {
   "cell_type": "code",
   "execution_count": 56,
   "id": "2142b2c3",
   "metadata": {},
   "outputs": [],
   "source": [
    "disc = pd.DataFrame([\n",
    "    ['name', 'Name', 'string'],\n",
    "    ['year', 'Year', 'time'],\n",
    "    ['geo', 'Geo', 'entity_domain'],\n",
    "    ['coverage_type','CoverageType', 'entity_domain'],\n",
    "    ['income_bracket','IncomeBracket', 'entity_domain'],\n",
    "    ['population', 'Population', 'measure'],\n",
    "    ['population_percentage', 'Population Percentage', 'measure']\n",
    "], columns=['concept', 'name', 'concept_type'])\n"
   ]
  },
  {
   "cell_type": "code",
   "execution_count": 57,
   "id": "c55b0a32",
   "metadata": {},
   "outputs": [
    {
     "data": {
      "text/html": [
       "<div>\n",
       "<style scoped>\n",
       "    .dataframe tbody tr th:only-of-type {\n",
       "        vertical-align: middle;\n",
       "    }\n",
       "\n",
       "    .dataframe tbody tr th {\n",
       "        vertical-align: top;\n",
       "    }\n",
       "\n",
       "    .dataframe thead th {\n",
       "        text-align: right;\n",
       "    }\n",
       "</style>\n",
       "<table border=\"1\" class=\"dataframe\">\n",
       "  <thead>\n",
       "    <tr style=\"text-align: right;\">\n",
       "      <th></th>\n",
       "      <th>concept</th>\n",
       "      <th>name</th>\n",
       "      <th>concept_type</th>\n",
       "    </tr>\n",
       "  </thead>\n",
       "  <tbody>\n",
       "    <tr>\n",
       "      <th>0</th>\n",
       "      <td>name</td>\n",
       "      <td>Name</td>\n",
       "      <td>string</td>\n",
       "    </tr>\n",
       "    <tr>\n",
       "      <th>1</th>\n",
       "      <td>year</td>\n",
       "      <td>Year</td>\n",
       "      <td>time</td>\n",
       "    </tr>\n",
       "    <tr>\n",
       "      <th>2</th>\n",
       "      <td>geo</td>\n",
       "      <td>Geo</td>\n",
       "      <td>entity_domain</td>\n",
       "    </tr>\n",
       "    <tr>\n",
       "      <th>3</th>\n",
       "      <td>coverage_type</td>\n",
       "      <td>CoverageType</td>\n",
       "      <td>entity_domain</td>\n",
       "    </tr>\n",
       "    <tr>\n",
       "      <th>4</th>\n",
       "      <td>income_bracket</td>\n",
       "      <td>IncomeBracket</td>\n",
       "      <td>entity_domain</td>\n",
       "    </tr>\n",
       "    <tr>\n",
       "      <th>5</th>\n",
       "      <td>population</td>\n",
       "      <td>Population</td>\n",
       "      <td>measure</td>\n",
       "    </tr>\n",
       "    <tr>\n",
       "      <th>6</th>\n",
       "      <td>population_percentage</td>\n",
       "      <td>Population Percentage</td>\n",
       "      <td>measure</td>\n",
       "    </tr>\n",
       "  </tbody>\n",
       "</table>\n",
       "</div>"
      ],
      "text/plain": [
       "                 concept                   name   concept_type\n",
       "0                   name                   Name         string\n",
       "1                   year                   Year           time\n",
       "2                    geo                    Geo  entity_domain\n",
       "3          coverage_type           CoverageType  entity_domain\n",
       "4         income_bracket          IncomeBracket  entity_domain\n",
       "5             population             Population        measure\n",
       "6  population_percentage  Population Percentage        measure"
      ]
     },
     "execution_count": 57,
     "metadata": {},
     "output_type": "execute_result"
    }
   ],
   "source": [
    "disc"
   ]
  },
  {
   "cell_type": "code",
   "execution_count": 58,
   "id": "652fc252",
   "metadata": {},
   "outputs": [],
   "source": [
    "disc.to_csv(\"../../ddf--concepts.csv\", index=False)"
   ]
  },
  {
   "cell_type": "code",
   "execution_count": null,
   "id": "db9d4945",
   "metadata": {},
   "outputs": [],
   "source": []
  },
  {
   "cell_type": "code",
   "execution_count": null,
   "id": "95b35d93",
   "metadata": {},
   "outputs": [],
   "source": []
  },
  {
   "cell_type": "code",
   "execution_count": null,
   "id": "c396fa11",
   "metadata": {},
   "outputs": [],
   "source": []
  },
  {
   "cell_type": "code",
   "execution_count": null,
   "id": "cc6cd920",
   "metadata": {},
   "outputs": [],
   "source": []
  },
  {
   "cell_type": "code",
   "execution_count": 22,
   "id": "5f213d43",
   "metadata": {},
   "outputs": [],
   "source": [
    "i = 0\n",
    "start_file, end_file = source_pairs[i]\n",
    "\n",
    "df_start = load_file_preprocess(start_file, i)\n",
    "df_end = load_file_preprocess(end_file, i)\n",
    "\n",
    "\n",
    "population_percentage = df_end['HeadCount'] - df_start['HeadCount']\n",
    "\n",
    "population_start = df_start['ReqYearPopulation'] * df_start['HeadCount'] * 1000000\n",
    "population_end = df_end['ReqYearPopulation'] * df_end['HeadCount'] * 1000000\n",
    "\n",
    "population = population_end - population_start\n",
    "# population = population_percentage.multiply(df_start['ReqYearPopulation'], axis=0) * 1000000"
   ]
  },
  {
   "cell_type": "code",
   "execution_count": 23,
   "id": "0f652e2a",
   "metadata": {},
   "outputs": [
    {
     "data": {
      "text/plain": [
       "CountryCode  RequestYear  CoverageType  income_bracket\n",
       "ALB          1981         N             0                 0.000000e+00\n",
       "DZA          1981         N             0                 0.000000e+00\n",
       "AGO          1981         N             0                 0.000000e+00\n",
       "ARG          1981         U             0                 6.840000e-07\n",
       "ARM          1981         N             0                 5.562000e-07\n",
       "                                                              ...     \n",
       "VNM          2019         N             0                 0.000000e+00\n",
       "PSE          2019         N             0                 0.000000e+00\n",
       "YEM          2019         N             0                 0.000000e+00\n",
       "ZMB          2019         N             0                 0.000000e+00\n",
       "ZWE          2019         N             0                 0.000000e+00\n",
       "Name: HeadCount, Length: 6645, dtype: float64"
      ]
     },
     "execution_count": 23,
     "metadata": {},
     "output_type": "execute_result"
    }
   ],
   "source": [
    "population_percentage"
   ]
  },
  {
   "cell_type": "code",
   "execution_count": 24,
   "id": "0de6d669",
   "metadata": {},
   "outputs": [
    {
     "data": {
      "text/plain": [
       "CountryCode  RequestYear  CoverageType  income_bracket\n",
       "ALB          1981         N             0                  0.000000\n",
       "DZA          1981         N             0                  0.000000\n",
       "AGO          1981         N             0                  0.000000\n",
       "ARG          1981         U             0                 16.149012\n",
       "ARM          1981         N             0                  1.750971\n",
       "                                                            ...    \n",
       "VNM          2019         N             0                  0.000000\n",
       "PSE          2019         N             0                  0.000000\n",
       "YEM          2019         N             0                  0.000000\n",
       "ZMB          2019         N             0                  0.000000\n",
       "ZWE          2019         N             0                  0.000000\n",
       "Length: 6645, dtype: float64"
      ]
     },
     "execution_count": 24,
     "metadata": {},
     "output_type": "execute_result"
    }
   ],
   "source": [
    "population"
   ]
  },
  {
   "cell_type": "code",
   "execution_count": 7,
   "id": "2f72648d",
   "metadata": {},
   "outputs": [
    {
     "data": {
      "text/html": [
       "<div>\n",
       "<style scoped>\n",
       "    .dataframe tbody tr th:only-of-type {\n",
       "        vertical-align: middle;\n",
       "    }\n",
       "\n",
       "    .dataframe tbody tr th {\n",
       "        vertical-align: top;\n",
       "    }\n",
       "\n",
       "    .dataframe thead th {\n",
       "        text-align: right;\n",
       "    }\n",
       "</style>\n",
       "<table border=\"1\" class=\"dataframe\">\n",
       "  <thead>\n",
       "    <tr style=\"text-align: right;\">\n",
       "      <th></th>\n",
       "      <th></th>\n",
       "      <th></th>\n",
       "      <th></th>\n",
       "      <th>CountryName</th>\n",
       "      <th>HeadCount</th>\n",
       "      <th>ReqYearPopulation</th>\n",
       "    </tr>\n",
       "    <tr>\n",
       "      <th>CountryCode</th>\n",
       "      <th>RequestYear</th>\n",
       "      <th>CoverageType</th>\n",
       "      <th>income_bracket</th>\n",
       "      <th></th>\n",
       "      <th></th>\n",
       "      <th></th>\n",
       "    </tr>\n",
       "  </thead>\n",
       "  <tbody>\n",
       "    <tr>\n",
       "      <th>ALB</th>\n",
       "      <th>1981</th>\n",
       "      <th>N</th>\n",
       "      <th>0</th>\n",
       "      <td>Albania</td>\n",
       "      <td>0.000000</td>\n",
       "      <td>2.726056</td>\n",
       "    </tr>\n",
       "    <tr>\n",
       "      <th>DZA</th>\n",
       "      <th>1981</th>\n",
       "      <th>N</th>\n",
       "      <th>0</th>\n",
       "      <td>Algeria</td>\n",
       "      <td>0.000000</td>\n",
       "      <td>19.824301</td>\n",
       "    </tr>\n",
       "    <tr>\n",
       "      <th>AGO</th>\n",
       "      <th>1981</th>\n",
       "      <th>N</th>\n",
       "      <th>0</th>\n",
       "      <td>Angola</td>\n",
       "      <td>0.000000</td>\n",
       "      <td>8.640446</td>\n",
       "    </tr>\n",
       "    <tr>\n",
       "      <th>ARG</th>\n",
       "      <th>1981</th>\n",
       "      <th>U</th>\n",
       "      <th>0</th>\n",
       "      <td>Argentina</td>\n",
       "      <td>0.002289</td>\n",
       "      <td>23.609667</td>\n",
       "    </tr>\n",
       "    <tr>\n",
       "      <th>ARM</th>\n",
       "      <th>1981</th>\n",
       "      <th>N</th>\n",
       "      <th>0</th>\n",
       "      <td>Armenia</td>\n",
       "      <td>0.000130</td>\n",
       "      <td>3.148096</td>\n",
       "    </tr>\n",
       "    <tr>\n",
       "      <th>...</th>\n",
       "      <th>...</th>\n",
       "      <th>...</th>\n",
       "      <th>...</th>\n",
       "      <td>...</td>\n",
       "      <td>...</td>\n",
       "      <td>...</td>\n",
       "    </tr>\n",
       "    <tr>\n",
       "      <th>VNM</th>\n",
       "      <th>2019</th>\n",
       "      <th>N</th>\n",
       "      <th>0</th>\n",
       "      <td>Vietnam</td>\n",
       "      <td>0.000000</td>\n",
       "      <td>96.462106</td>\n",
       "    </tr>\n",
       "    <tr>\n",
       "      <th>PSE</th>\n",
       "      <th>2019</th>\n",
       "      <th>N</th>\n",
       "      <th>0</th>\n",
       "      <td>West Bank and Gaza</td>\n",
       "      <td>0.000000</td>\n",
       "      <td>4.685306</td>\n",
       "    </tr>\n",
       "    <tr>\n",
       "      <th>YEM</th>\n",
       "      <th>2019</th>\n",
       "      <th>N</th>\n",
       "      <th>0</th>\n",
       "      <td>Yemen, Republic of</td>\n",
       "      <td>0.000000</td>\n",
       "      <td>29.161922</td>\n",
       "    </tr>\n",
       "    <tr>\n",
       "      <th>ZMB</th>\n",
       "      <th>2019</th>\n",
       "      <th>N</th>\n",
       "      <th>0</th>\n",
       "      <td>Zambia</td>\n",
       "      <td>0.000000</td>\n",
       "      <td>17.861030</td>\n",
       "    </tr>\n",
       "    <tr>\n",
       "      <th>ZWE</th>\n",
       "      <th>2019</th>\n",
       "      <th>N</th>\n",
       "      <th>0</th>\n",
       "      <td>Zimbabwe</td>\n",
       "      <td>0.000000</td>\n",
       "      <td>14.645468</td>\n",
       "    </tr>\n",
       "  </tbody>\n",
       "</table>\n",
       "<p>6645 rows × 3 columns</p>\n",
       "</div>"
      ],
      "text/plain": [
       "                                                            CountryName  \\\n",
       "CountryCode RequestYear CoverageType income_bracket                       \n",
       "ALB         1981        N            0                          Albania   \n",
       "DZA         1981        N            0                          Algeria   \n",
       "AGO         1981        N            0                           Angola   \n",
       "ARG         1981        U            0                        Argentina   \n",
       "ARM         1981        N            0                          Armenia   \n",
       "...                                                                 ...   \n",
       "VNM         2019        N            0                          Vietnam   \n",
       "PSE         2019        N            0               West Bank and Gaza   \n",
       "YEM         2019        N            0               Yemen, Republic of   \n",
       "ZMB         2019        N            0                           Zambia   \n",
       "ZWE         2019        N            0                         Zimbabwe   \n",
       "\n",
       "                                                     HeadCount  \\\n",
       "CountryCode RequestYear CoverageType income_bracket              \n",
       "ALB         1981        N            0                0.000000   \n",
       "DZA         1981        N            0                0.000000   \n",
       "AGO         1981        N            0                0.000000   \n",
       "ARG         1981        U            0                0.002289   \n",
       "ARM         1981        N            0                0.000130   \n",
       "...                                                        ...   \n",
       "VNM         2019        N            0                0.000000   \n",
       "PSE         2019        N            0                0.000000   \n",
       "YEM         2019        N            0                0.000000   \n",
       "ZMB         2019        N            0                0.000000   \n",
       "ZWE         2019        N            0                0.000000   \n",
       "\n",
       "                                                     ReqYearPopulation  \n",
       "CountryCode RequestYear CoverageType income_bracket                     \n",
       "ALB         1981        N            0                        2.726056  \n",
       "DZA         1981        N            0                       19.824301  \n",
       "AGO         1981        N            0                        8.640446  \n",
       "ARG         1981        U            0                       23.609667  \n",
       "ARM         1981        N            0                        3.148096  \n",
       "...                                                                ...  \n",
       "VNM         2019        N            0                       96.462106  \n",
       "PSE         2019        N            0                        4.685306  \n",
       "YEM         2019        N            0                       29.161922  \n",
       "ZMB         2019        N            0                       17.861030  \n",
       "ZWE         2019        N            0                       14.645468  \n",
       "\n",
       "[6645 rows x 3 columns]"
      ]
     },
     "execution_count": 7,
     "metadata": {},
     "output_type": "execute_result"
    }
   ],
   "source": [
    "df_start"
   ]
  },
  {
   "cell_type": "code",
   "execution_count": 16,
   "id": "beb862dc",
   "metadata": {},
   "outputs": [
    {
     "data": {
      "text/html": [
       "<div>\n",
       "<style scoped>\n",
       "    .dataframe tbody tr th:only-of-type {\n",
       "        vertical-align: middle;\n",
       "    }\n",
       "\n",
       "    .dataframe tbody tr th {\n",
       "        vertical-align: top;\n",
       "    }\n",
       "\n",
       "    .dataframe thead th {\n",
       "        text-align: right;\n",
       "    }\n",
       "</style>\n",
       "<table border=\"1\" class=\"dataframe\">\n",
       "  <thead>\n",
       "    <tr style=\"text-align: right;\">\n",
       "      <th></th>\n",
       "      <th></th>\n",
       "      <th></th>\n",
       "      <th></th>\n",
       "      <th>CountryName</th>\n",
       "      <th>HeadCount</th>\n",
       "      <th>ReqYearPopulation</th>\n",
       "    </tr>\n",
       "    <tr>\n",
       "      <th>CountryCode</th>\n",
       "      <th>RequestYear</th>\n",
       "      <th>CoverageType</th>\n",
       "      <th>income_bracket</th>\n",
       "      <th></th>\n",
       "      <th></th>\n",
       "      <th></th>\n",
       "    </tr>\n",
       "  </thead>\n",
       "  <tbody>\n",
       "    <tr>\n",
       "      <th>ALB</th>\n",
       "      <th>1981</th>\n",
       "      <th>N</th>\n",
       "      <th>0</th>\n",
       "      <td>Albania</td>\n",
       "      <td>0.000000</td>\n",
       "      <td>2.726056</td>\n",
       "    </tr>\n",
       "    <tr>\n",
       "      <th>DZA</th>\n",
       "      <th>1981</th>\n",
       "      <th>N</th>\n",
       "      <th>0</th>\n",
       "      <td>Algeria</td>\n",
       "      <td>0.000000</td>\n",
       "      <td>19.824301</td>\n",
       "    </tr>\n",
       "    <tr>\n",
       "      <th>AGO</th>\n",
       "      <th>1981</th>\n",
       "      <th>N</th>\n",
       "      <th>0</th>\n",
       "      <td>Angola</td>\n",
       "      <td>0.000000</td>\n",
       "      <td>8.640446</td>\n",
       "    </tr>\n",
       "    <tr>\n",
       "      <th>ARG</th>\n",
       "      <th>1981</th>\n",
       "      <th>U</th>\n",
       "      <th>0</th>\n",
       "      <td>Argentina</td>\n",
       "      <td>0.002290</td>\n",
       "      <td>23.609667</td>\n",
       "    </tr>\n",
       "    <tr>\n",
       "      <th>ARM</th>\n",
       "      <th>1981</th>\n",
       "      <th>N</th>\n",
       "      <th>0</th>\n",
       "      <td>Armenia</td>\n",
       "      <td>0.000131</td>\n",
       "      <td>3.148096</td>\n",
       "    </tr>\n",
       "    <tr>\n",
       "      <th>...</th>\n",
       "      <th>...</th>\n",
       "      <th>...</th>\n",
       "      <th>...</th>\n",
       "      <td>...</td>\n",
       "      <td>...</td>\n",
       "      <td>...</td>\n",
       "    </tr>\n",
       "    <tr>\n",
       "      <th>VNM</th>\n",
       "      <th>2019</th>\n",
       "      <th>N</th>\n",
       "      <th>0</th>\n",
       "      <td>Vietnam</td>\n",
       "      <td>0.000000</td>\n",
       "      <td>96.462106</td>\n",
       "    </tr>\n",
       "    <tr>\n",
       "      <th>PSE</th>\n",
       "      <th>2019</th>\n",
       "      <th>N</th>\n",
       "      <th>0</th>\n",
       "      <td>West Bank and Gaza</td>\n",
       "      <td>0.000000</td>\n",
       "      <td>4.685306</td>\n",
       "    </tr>\n",
       "    <tr>\n",
       "      <th>YEM</th>\n",
       "      <th>2019</th>\n",
       "      <th>N</th>\n",
       "      <th>0</th>\n",
       "      <td>Yemen, Republic of</td>\n",
       "      <td>0.000000</td>\n",
       "      <td>29.161922</td>\n",
       "    </tr>\n",
       "    <tr>\n",
       "      <th>ZMB</th>\n",
       "      <th>2019</th>\n",
       "      <th>N</th>\n",
       "      <th>0</th>\n",
       "      <td>Zambia</td>\n",
       "      <td>0.000000</td>\n",
       "      <td>17.861030</td>\n",
       "    </tr>\n",
       "    <tr>\n",
       "      <th>ZWE</th>\n",
       "      <th>2019</th>\n",
       "      <th>N</th>\n",
       "      <th>0</th>\n",
       "      <td>Zimbabwe</td>\n",
       "      <td>0.000000</td>\n",
       "      <td>14.645468</td>\n",
       "    </tr>\n",
       "  </tbody>\n",
       "</table>\n",
       "<p>6645 rows × 3 columns</p>\n",
       "</div>"
      ],
      "text/plain": [
       "                                                            CountryName  \\\n",
       "CountryCode RequestYear CoverageType income_bracket                       \n",
       "ALB         1981        N            0                          Albania   \n",
       "DZA         1981        N            0                          Algeria   \n",
       "AGO         1981        N            0                           Angola   \n",
       "ARG         1981        U            0                        Argentina   \n",
       "ARM         1981        N            0                          Armenia   \n",
       "...                                                                 ...   \n",
       "VNM         2019        N            0                          Vietnam   \n",
       "PSE         2019        N            0               West Bank and Gaza   \n",
       "YEM         2019        N            0               Yemen, Republic of   \n",
       "ZMB         2019        N            0                           Zambia   \n",
       "ZWE         2019        N            0                         Zimbabwe   \n",
       "\n",
       "                                                     HeadCount  \\\n",
       "CountryCode RequestYear CoverageType income_bracket              \n",
       "ALB         1981        N            0                0.000000   \n",
       "DZA         1981        N            0                0.000000   \n",
       "AGO         1981        N            0                0.000000   \n",
       "ARG         1981        U            0                0.002290   \n",
       "ARM         1981        N            0                0.000131   \n",
       "...                                                        ...   \n",
       "VNM         2019        N            0                0.000000   \n",
       "PSE         2019        N            0                0.000000   \n",
       "YEM         2019        N            0                0.000000   \n",
       "ZMB         2019        N            0                0.000000   \n",
       "ZWE         2019        N            0                0.000000   \n",
       "\n",
       "                                                     ReqYearPopulation  \n",
       "CountryCode RequestYear CoverageType income_bracket                     \n",
       "ALB         1981        N            0                        2.726056  \n",
       "DZA         1981        N            0                       19.824301  \n",
       "AGO         1981        N            0                        8.640446  \n",
       "ARG         1981        U            0                       23.609667  \n",
       "ARM         1981        N            0                        3.148096  \n",
       "...                                                                ...  \n",
       "VNM         2019        N            0                       96.462106  \n",
       "PSE         2019        N            0                        4.685306  \n",
       "YEM         2019        N            0                       29.161922  \n",
       "ZMB         2019        N            0                       17.861030  \n",
       "ZWE         2019        N            0                       14.645468  \n",
       "\n",
       "[6645 rows x 3 columns]"
      ]
     },
     "execution_count": 16,
     "metadata": {},
     "output_type": "execute_result"
    }
   ],
   "source": [
    "df_end"
   ]
  },
  {
   "cell_type": "code",
   "execution_count": 17,
   "id": "6612d9c7",
   "metadata": {},
   "outputs": [
    {
     "data": {
      "text/plain": [
       "'0000.csv'"
      ]
     },
     "execution_count": 17,
     "metadata": {},
     "output_type": "execute_result"
    }
   ],
   "source": [
    "start_file"
   ]
  },
  {
   "cell_type": "code",
   "execution_count": 18,
   "id": "2a9ced33",
   "metadata": {},
   "outputs": [
    {
     "data": {
      "text/plain": [
       "CountryCode  RequestYear  CoverageType  income_bracket\n",
       "ALB          1981         N             0                 0.000000\n",
       "DZA          1981         N             0                 0.000000\n",
       "AGO          1981         N             0                 0.000000\n",
       "ARG          1981         U             0                 0.054041\n",
       "ARM          1981         N             0                 0.000411\n",
       "                                                            ...   \n",
       "VNM          2019         N             0                 0.000000\n",
       "PSE          2019         N             0                 0.000000\n",
       "YEM          2019         N             0                 0.000000\n",
       "ZMB          2019         N             0                 0.000000\n",
       "ZWE          2019         N             0                 0.000000\n",
       "Length: 6645, dtype: float64"
      ]
     },
     "execution_count": 18,
     "metadata": {},
     "output_type": "execute_result"
    }
   ],
   "source": [
    "df_start['ReqYearPopulation'] * df_start['HeadCount']"
   ]
  },
  {
   "cell_type": "code",
   "execution_count": 19,
   "id": "00925ab7",
   "metadata": {},
   "outputs": [
    {
     "data": {
      "text/plain": [
       "CountryCode  RequestYear  CoverageType  income_bracket\n",
       "ALB          1981         N             0                 0.000000\n",
       "DZA          1981         N             0                 0.000000\n",
       "AGO          1981         N             0                 0.000000\n",
       "ARG          1981         U             0                 0.054057\n",
       "ARM          1981         N             0                 0.000412\n",
       "                                                            ...   \n",
       "VNM          2019         N             0                 0.000000\n",
       "PSE          2019         N             0                 0.000000\n",
       "YEM          2019         N             0                 0.000000\n",
       "ZMB          2019         N             0                 0.000000\n",
       "ZWE          2019         N             0                 0.000000\n",
       "Length: 6645, dtype: float64"
      ]
     },
     "execution_count": 19,
     "metadata": {},
     "output_type": "execute_result"
    }
   ],
   "source": [
    "df_end['ReqYearPopulation'] * df_end['HeadCount']"
   ]
  },
  {
   "cell_type": "code",
   "execution_count": 20,
   "id": "b5a645ad",
   "metadata": {},
   "outputs": [
    {
     "data": {
      "text/plain": [
       "CountryCode  RequestYear  CoverageType  income_bracket\n",
       "ALB          1981         N             0                     0.000000\n",
       "DZA          1981         N             0                     0.000000\n",
       "AGO          1981         N             0                     0.000000\n",
       "ARG          1981         U             0                 54040.638990\n",
       "ARM          1981         N             0                   410.742789\n",
       "                                                              ...     \n",
       "VNM          2019         N             0                     0.000000\n",
       "PSE          2019         N             0                     0.000000\n",
       "YEM          2019         N             0                     0.000000\n",
       "ZMB          2019         N             0                     0.000000\n",
       "ZWE          2019         N             0                     0.000000\n",
       "Length: 6645, dtype: float64"
      ]
     },
     "execution_count": 20,
     "metadata": {},
     "output_type": "execute_result"
    }
   ],
   "source": [
    "population_start"
   ]
  },
  {
   "cell_type": "code",
   "execution_count": 21,
   "id": "573c5ba1",
   "metadata": {},
   "outputs": [
    {
     "data": {
      "text/plain": [
       "CountryCode  RequestYear  CoverageType  income_bracket\n",
       "ALB          1981         N             0                    0.000000\n",
       "DZA          1981         N             0                    0.000000\n",
       "AGO          1981         N             0                    0.000000\n",
       "ARG          1981         U             0                 5405.678800\n",
       "ARM          1981         N             0                   41.249376\n",
       "                                                             ...     \n",
       "VNM          2019         N             0                    0.000000\n",
       "PSE          2019         N             0                    0.000000\n",
       "YEM          2019         N             0                    0.000000\n",
       "ZMB          2019         N             0                    0.000000\n",
       "ZWE          2019         N             0                    0.000000\n",
       "Length: 6645, dtype: float64"
      ]
     },
     "execution_count": 21,
     "metadata": {},
     "output_type": "execute_result"
    }
   ],
   "source": [
    "population_end"
   ]
  },
  {
   "cell_type": "code",
   "execution_count": null,
   "id": "c3920e70",
   "metadata": {},
   "outputs": [],
   "source": []
  }
 ],
 "metadata": {
  "kernelspec": {
   "display_name": "Python 3",
   "language": "python",
   "name": "python3"
  },
  "language_info": {
   "codemirror_mode": {
    "name": "ipython",
    "version": 3
   },
   "file_extension": ".py",
   "mimetype": "text/x-python",
   "name": "python",
   "nbconvert_exporter": "python",
   "pygments_lexer": "ipython3",
   "version": "3.9.4"
  }
 },
 "nbformat": 4,
 "nbformat_minor": 5
}
